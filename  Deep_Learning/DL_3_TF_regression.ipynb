{
 "cells": [
  {
   "cell_type": "markdown",
   "metadata": {
    "id": "NCNbIq8WA0c_",
    "pycharm": {
     "name": "#%% md\n"
    }
   },
   "source": [
    "# Введение в TensorFlow\n",
    "В этом блокноте мы обучим модель простейшей линейной регрессии, используя «чистый» низкоуровневый TensorFlow и встроенный autograd."
   ]
  },
  {
   "cell_type": "markdown",
   "metadata": {
    "collapsed": false,
    "pycharm": {
     "name": "#%% md\n"
    }
   },
   "source": [
    "Сначала, как обычно, подключим необходимые для дальнейшего библиотеки, в частности — библиотеку `tensorflow`."
   ]
  },
  {
   "cell_type": "code",
   "execution_count": 1,
   "metadata": {
    "id": "1dyjL96nP5-Y",
    "pycharm": {
     "name": "#%%\n"
    }
   },
   "outputs": [],
   "source": [
    "import tensorflow as tf\n",
    "import numpy as np\n",
    "import matplotlib.pyplot as plt"
   ]
  },
  {
   "cell_type": "markdown",
   "metadata": {
    "id": "WksJovBvA7tp",
    "pycharm": {
     "name": "#%% md\n"
    }
   },
   "source": [
    "Зададим количество объектов, размер батча для шага обучения, количество эпох обучения"
   ]
  },
  {
   "cell_type": "code",
   "execution_count": 2,
   "metadata": {
    "id": "-dxev6sTRFUn",
    "pycharm": {
     "name": "#%%\n"
    }
   },
   "outputs": [],
   "source": [
    "n_samples, batch_size, ep_number = 1000, 100, 1000"
   ]
  },
  {
   "cell_type": "markdown",
   "metadata": {
    "collapsed": false,
    "pycharm": {
     "name": "#%% md\n"
    }
   },
   "source": [
    "Зафиксируем random seed для воспроизводимости эксперимента в дальнейшем"
   ]
  },
  {
   "cell_type": "code",
   "execution_count": 3,
   "metadata": {
    "collapsed": false,
    "pycharm": {
     "name": "#%%\n"
    }
   },
   "outputs": [],
   "source": [
    "np.random.seed(2)"
   ]
  },
  {
   "cell_type": "markdown",
   "metadata": {
    "id": "1CU-LW-hBFez",
    "pycharm": {
     "name": "#%% md\n"
    }
   },
   "source": [
    "Сгенерируем набор данных по закону\n",
    "$$\n",
    "y = 2x + 1 + \\varepsilon, \\quad \\varepsilon \\sim \\mathsf N_{0, 2}, \\quad x \\in \\mathsf U_{1, 10}.\n",
    "$$\n",
    "Независимые переменные, то есть переменные $x$, детерминированы, но изначально сгенерированы случайным образом"
   ]
  },
  {
   "cell_type": "code",
   "execution_count": 4,
   "metadata": {
    "id": "3qEkV3F7RZrY",
    "pycharm": {
     "name": "#%%\n"
    }
   },
   "outputs": [],
   "source": [
    "X_data = np.random.uniform(1, 10, (n_samples, 1))\n",
    "y_data = 2 * X_data + 1 + np.random.normal(0, 2, (n_samples, 1))"
   ]
  },
  {
   "cell_type": "markdown",
   "metadata": {
    "collapsed": false,
    "pycharm": {
     "name": "#%% md\n"
    }
   },
   "source": [
    "Визуализируем сгенерированный набор данных."
   ]
  },
  {
   "cell_type": "code",
   "execution_count": 5,
   "metadata": {
    "colab": {
     "base_uri": "https://localhost:8080/",
     "height": 282
    },
    "id": "C9rM1ONW94gR",
    "outputId": "27346ee3-4837-4b89-df07-85877495f8d4",
    "pycharm": {
     "name": "#%%\n"
    }
   },
   "outputs": [
    {
     "data": {
      "text/plain": [
       "<matplotlib.collections.PathCollection at 0x16c197790>"
      ]
     },
     "execution_count": 5,
     "metadata": {},
     "output_type": "execute_result"
    },
    {
     "data": {
      "image/png": "[encoded data removed]",
      "text/plain": [
       "<Figure size 432x288 with 1 Axes>"
      ]
     },
     "metadata": {
      "needs_background": "light"
     },
     "output_type": "display_data"
    }
   ],
   "source": [
    "plt.scatter(X_data, y_data)"
   ]
  },
  {
   "cell_type": "markdown",
   "metadata": {
    "id": "XOQIFDCWBjGj",
    "pycharm": {
     "name": "#%% md\n"
    }
   },
   "source": [
    "Будем искать модель, аппроксимирующую наши данные, в виде\n",
    "$$\n",
    "y = kx + b,\n",
    "$$\n",
    "где параметры $k$ и $b$ -- параметры, которые нам необходимо определить, основываясь на имеющихся данных"
   ]
  },
  {
   "cell_type": "code",
   "execution_count": 6,
   "metadata": {
    "id": "IWEvDJBRU9LF",
    "pycharm": {
     "name": "#%%\n"
    }
   },
   "outputs": [
    {
     "name": "stdout",
     "output_type": "stream",
     "text": [
      "Metal device set to: Apple M1 Pro\n"
     ]
    },
    {
     "name": "stderr",
     "output_type": "stream",
     "text": [
      "2022-07-03 12:56:27.154224: I tensorflow/core/common_runtime/pluggable_device/pluggable_device_factory.cc:305] Could not identify NUMA node of platform GPU ID 0, defaulting to 0. Your kernel may not have been built with NUMA support.\n",
      "2022-07-03 12:56:27.154407: I tensorflow/core/common_runtime/pluggable_device/pluggable_device_factory.cc:271] Created TensorFlow device (/job:localhost/replica:0/task:0/device:GPU:0 with 0 MB memory) -> physical PluggableDevice (device: 0, name: METAL, pci bus id: <undefined>)\n"
     ]
    }
   ],
   "source": [
    "# создаем тензоры-переменные — хранилища для изменяемых в процессе обучения переменных, инициализируем их случайно выборкой из стандартного нормального закона\n",
    "k = tf.Variable(tf.random.normal([1, 1], mean = 0, stddev = 1), name = 'slope')\n",
    "b = tf.Variable(tf.random.normal([1, 1], mean = 0, stddev = 1), name = 'biases')\n",
    "# создаем тензоры-константы на основе обучающей выборки\n",
    "X_data = tf.constant(X_data, dtype = tf.float32)\n",
    "y_data = tf.constant(y_data, dtype = tf.float32)"
   ]
  },
  {
   "cell_type": "markdown",
   "metadata": {
    "id": "g_lyjtpHCHaS",
    "pycharm": {
     "name": "#%% md\n"
    }
   },
   "source": [
    "Определим функцию для предсказания. Опять-таки, просто $y = kx + b$."
   ]
  },
  {
   "cell_type": "code",
   "execution_count": 7,
   "metadata": {
    "id": "Z7ryM7O6dZtU",
    "pycharm": {
     "name": "#%%\n"
    }
   },
   "outputs": [],
   "source": [
    "def y_pred(X):\n",
    "  return tf.add(tf.matmul(X, k), b)"
   ]
  },
  {
   "cell_type": "markdown",
   "metadata": {
    "id": "qIhKcqEpCLQ-",
    "pycharm": {
     "name": "#%% md\n"
    }
   },
   "source": [
    "Определим функцию потерь: будем минимизировать сумму квадратов отклонений предсказаний от «правильных» ответов."
   ]
  },
  {
   "cell_type": "code",
   "execution_count": 8,
   "metadata": {
    "id": "cQZDGpyl7idF",
    "pycharm": {
     "name": "#%%\n"
    }
   },
   "outputs": [],
   "source": [
    "def loss():\n",
    "  return tf.reduce_sum(tf.square(y_batch - y_pred(X_batch)))"
   ]
  },
  {
   "cell_type": "markdown",
   "metadata": {
    "collapsed": false,
    "pycharm": {
     "name": "#%% md\n"
    }
   },
   "source": [
    "Выберем оптимизатор, в нашем случае -- Адам, и зададим отдельно переменные, которые будем обучать -- менять при каждом новом шаге оптимизации."
   ]
  },
  {
   "cell_type": "code",
   "execution_count": 9,
   "metadata": {
    "id": "5M0gu_TR7381",
    "pycharm": {
     "name": "#%%\n"
    }
   },
   "outputs": [],
   "source": [
    "optimizer = tf.optimizers.Adam(0.01)\n",
    "trainable_vars = [k, b]"
   ]
  },
  {
   "cell_type": "markdown",
   "metadata": {
    "id": "mfnpVSCCCe37",
    "pycharm": {
     "name": "#%% md\n"
    }
   },
   "source": [
    "Теперь перейдем к обучению нашей модели. Разобьем набор данных на батчи и проведем обучение по заданному количеству эпох"
   ]
  },
  {
   "cell_type": "code",
   "execution_count": 10,
   "metadata": {
    "colab": {
     "base_uri": "https://localhost:8080/"
    },
    "id": "e03qxgfXAL8f",
    "outputId": "d0ddc7e9-a9d0-4030-82a9-0098c9535d29",
    "pycharm": {
     "name": "#%%\n"
    }
   },
   "outputs": [
    {
     "name": "stdout",
     "output_type": "stream",
     "text": [
      "Epoch: 100 k: <tf.Variable 'slope:0' shape=(1, 1) dtype=float32, numpy=array([[1.8619027]], dtype=float32)> b: <tf.Variable 'biases:0' shape=(1, 1) dtype=float32, numpy=array([[1.8474811]], dtype=float32)>\n",
      "Epoch: 200 k: <tf.Variable 'slope:0' shape=(1, 1) dtype=float32, numpy=array([[1.9510007]], dtype=float32)> b: <tf.Variable 'biases:0' shape=(1, 1) dtype=float32, numpy=array([[1.275549]], dtype=float32)>\n",
      "Epoch: 300 k: <tf.Variable 'slope:0' shape=(1, 1) dtype=float32, numpy=array([[1.9768568]], dtype=float32)> b: <tf.Variable 'biases:0' shape=(1, 1) dtype=float32, numpy=array([[1.1079718]], dtype=float32)>\n",
      "Epoch: 400 k: <tf.Variable 'slope:0' shape=(1, 1) dtype=float32, numpy=array([[1.9791459]], dtype=float32)> b: <tf.Variable 'biases:0' shape=(1, 1) dtype=float32, numpy=array([[1.0911928]], dtype=float32)>\n",
      "Epoch: 500 k: <tf.Variable 'slope:0' shape=(1, 1) dtype=float32, numpy=array([[1.978995]], dtype=float32)> b: <tf.Variable 'biases:0' shape=(1, 1) dtype=float32, numpy=array([[1.0905433]], dtype=float32)>\n",
      "Epoch: 600 k: <tf.Variable 'slope:0' shape=(1, 1) dtype=float32, numpy=array([[1.9788699]], dtype=float32)> b: <tf.Variable 'biases:0' shape=(1, 1) dtype=float32, numpy=array([[1.0904605]], dtype=float32)>\n",
      "Epoch: 700 k: <tf.Variable 'slope:0' shape=(1, 1) dtype=float32, numpy=array([[1.978815]], dtype=float32)> b: <tf.Variable 'biases:0' shape=(1, 1) dtype=float32, numpy=array([[1.0904273]], dtype=float32)>\n",
      "Epoch: 800 k: <tf.Variable 'slope:0' shape=(1, 1) dtype=float32, numpy=array([[1.9787937]], dtype=float32)> b: <tf.Variable 'biases:0' shape=(1, 1) dtype=float32, numpy=array([[1.0904144]], dtype=float32)>\n",
      "Epoch: 900 k: <tf.Variable 'slope:0' shape=(1, 1) dtype=float32, numpy=array([[1.9787858]], dtype=float32)> b: <tf.Variable 'biases:0' shape=(1, 1) dtype=float32, numpy=array([[1.0904101]], dtype=float32)>\n",
      "Epoch: 1000 k: <tf.Variable 'slope:0' shape=(1, 1) dtype=float32, numpy=array([[1.9787827]], dtype=float32)> b: <tf.Variable 'biases:0' shape=(1, 1) dtype=float32, numpy=array([[1.090409]], dtype=float32)>\n"
     ]
    }
   ],
   "source": [
    "display_step = 100\n",
    "for ep in range(ep_number):\n",
    "  for _ in range(0, int(n_samples / batch_size - 1)):\n",
    "    X_batch = X_data[_ * batch_size : (_ + 1) * batch_size]\n",
    "    y_batch = y_data[_ * batch_size : (_ + 1) * batch_size]\n",
    "    optimizer.minimize(loss, trainable_vars)\n",
    "  X_batch = X_data[(_ + 1) * batch_size : ]\n",
    "  y_batch = y_data[(_ + 1) * batch_size : ]\n",
    "  optimizer.minimize(loss, trainable_vars)\n",
    "  if ((ep + 1) % display_step == 0):\n",
    "    print('Epoch: ' + str(ep + 1) + ' k: ' + str(k) + ' b: ' + str(b))\n"
   ]
  },
  {
   "cell_type": "markdown",
   "metadata": {
    "collapsed": false,
    "pycharm": {
     "name": "#%% md\n"
    }
   },
   "source": [
    "Мы видим, что обучение прошло весьма неплохо. Выведем результат.\n"
   ]
  },
  {
   "cell_type": "code",
   "execution_count": 11,
   "metadata": {
    "collapsed": false,
    "pycharm": {
     "name": "#%%\n"
    }
   },
   "outputs": [
    {
     "data": {
      "text/plain": [
       "<matplotlib.collections.PathCollection at 0x16d60c400>"
      ]
     },
     "execution_count": 11,
     "metadata": {},
     "output_type": "execute_result"
    },
    {
     "data": {
      "image/png": "[encoded data removed]",
      "text/plain": [
       "<Figure size 432x288 with 1 Axes>"
      ]
     },
     "metadata": {
      "needs_background": "light"
     },
     "output_type": "display_data"
    }
   ],
   "source": [
    "plt.scatter(X_data, y_data)\n",
    "x = np.linspace(np.min(X_data), np.max(X_data), 100).reshape(1, -1)\n",
    "y = x*k + b\n",
    "plt.scatter(x, y, color = 'red')\n"
   ]
  }
 ],
 "metadata": {
  "colab": {
   "name": "Знакомство с TF.ipynb",
   "provenance": []
  },
  "kernelspec": {
   "display_name": "Python 3.8.5 ('base')",
   "language": "python",
   "name": "python3"
  },
  "language_info": {
   "name": "python",
   "version": "3.8.5"
  },
  "vscode": {
   "interpreter": {
    "hash": "40d3a090f54c6569ab1632332b64b2c03c39dcf918b08424e98f38b5ae0af88f"
   }
  }
 },
 "nbformat": 4,
 "nbformat_minor": 0
}
