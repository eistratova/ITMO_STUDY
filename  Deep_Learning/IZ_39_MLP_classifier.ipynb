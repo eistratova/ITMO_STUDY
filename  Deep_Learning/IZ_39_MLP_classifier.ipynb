{
 "cells": [
  {
   "cell_type": "markdown",
   "metadata": {},
   "source": [
    "Используя в качестве исходного набора данных датасет из примера, постройте модель для определения, является ли трафик подозрительным. Предикторами являются все колонки, кроме последней колонки class, которая является откликом.\n",
    "\n",
    "Разделите датасет на тренировочный и тестовый наборы данных с параметрами test_size = 0.2, random_state = 89. Используйте стратифицированное разделение по столбцу class: stratify = df.iloc[:,-1]. Стандартизируйте признаки тренировочных данных при помощи StandardScaler. Примените полученное преобразование для тестовых данных. Обучите классификатор MLPClassifier при random_state = 89, hidden_layer_sizes = (20, 10), activation = 'logistic', max_iter = 1000 на обучающей выборке и произведите оценку полученной модели на тестовой.\n",
    "\n"
   ]
  },
  {
   "cell_type": "code",
   "execution_count": 5,
   "metadata": {},
   "outputs": [],
   "source": [
    "import pandas as pd\n",
    "import matplotlib\n",
    "import numpy as np\n",
    "import matplotlib.pyplot as plt\n",
    "from sklearn.model_selection import train_test_split\n",
    "from sklearn.metrics import classification_report\n",
    "from sklearn.preprocessing import StandardScaler\n",
    "from sklearn.neural_network import MLPClassifier\n"
   ]
  },
  {
   "cell_type": "code",
   "execution_count": 3,
   "metadata": {},
   "outputs": [
    {
     "data": {
      "text/html": [
       "<div>\n",
       "<style scoped>\n",
       "    .dataframe tbody tr th:only-of-type {\n",
       "        vertical-align: middle;\n",
       "    }\n",
       "\n",
       "    .dataframe tbody tr th {\n",
       "        vertical-align: top;\n",
       "    }\n",
       "\n",
       "    .dataframe thead th {\n",
       "        text-align: right;\n",
       "    }\n",
       "</style>\n",
       "<table border=\"1\" class=\"dataframe\">\n",
       "  <thead>\n",
       "    <tr style=\"text-align: right;\">\n",
       "      <th></th>\n",
       "      <th>num_frames</th>\n",
       "      <th>num_frames_avg</th>\n",
       "      <th>num_packets</th>\n",
       "      <th>num_packets_avg</th>\n",
       "      <th>num_packets_out_avg</th>\n",
       "      <th>num_packets_out_max</th>\n",
       "      <th>num_packets_out_min</th>\n",
       "      <th>num_packets_in_avg</th>\n",
       "      <th>num_packets_in_max</th>\n",
       "      <th>num_packets_in_min</th>\n",
       "      <th>...</th>\n",
       "      <th>num_forwarded_packets_avg</th>\n",
       "      <th>num_forwarded_packets_max</th>\n",
       "      <th>num_forwarded_packets_min</th>\n",
       "      <th>num_packets_created_avg</th>\n",
       "      <th>num_packets_created_max</th>\n",
       "      <th>num_packets_created_min</th>\n",
       "      <th>frac_packets_created_acquired_avg</th>\n",
       "      <th>frac_packets_created_acquired_max</th>\n",
       "      <th>frac_packets_created_acquired_min</th>\n",
       "      <th>class</th>\n",
       "    </tr>\n",
       "  </thead>\n",
       "  <tbody>\n",
       "    <tr>\n",
       "      <th>0</th>\n",
       "      <td>38007</td>\n",
       "      <td>2533</td>\n",
       "      <td>31348</td>\n",
       "      <td>2089</td>\n",
       "      <td>218</td>\n",
       "      <td>1777</td>\n",
       "      <td>46</td>\n",
       "      <td>266</td>\n",
       "      <td>2266</td>\n",
       "      <td>38</td>\n",
       "      <td>...</td>\n",
       "      <td>583</td>\n",
       "      <td>1328</td>\n",
       "      <td>108</td>\n",
       "      <td>69</td>\n",
       "      <td>136</td>\n",
       "      <td>46</td>\n",
       "      <td>1.02</td>\n",
       "      <td>2</td>\n",
       "      <td>1</td>\n",
       "      <td>0</td>\n",
       "    </tr>\n",
       "    <tr>\n",
       "      <th>1</th>\n",
       "      <td>32695</td>\n",
       "      <td>2179</td>\n",
       "      <td>26253</td>\n",
       "      <td>1750</td>\n",
       "      <td>212</td>\n",
       "      <td>1726</td>\n",
       "      <td>48</td>\n",
       "      <td>212</td>\n",
       "      <td>1814</td>\n",
       "      <td>34</td>\n",
       "      <td>...</td>\n",
       "      <td>575</td>\n",
       "      <td>1344</td>\n",
       "      <td>105</td>\n",
       "      <td>32</td>\n",
       "      <td>83</td>\n",
       "      <td>48</td>\n",
       "      <td>1.00</td>\n",
       "      <td>1</td>\n",
       "      <td>1</td>\n",
       "      <td>0</td>\n",
       "    </tr>\n",
       "    <tr>\n",
       "      <th>2</th>\n",
       "      <td>32655</td>\n",
       "      <td>2177</td>\n",
       "      <td>26396</td>\n",
       "      <td>1759</td>\n",
       "      <td>212</td>\n",
       "      <td>1654</td>\n",
       "      <td>41</td>\n",
       "      <td>212</td>\n",
       "      <td>1701</td>\n",
       "      <td>30</td>\n",
       "      <td>...</td>\n",
       "      <td>578</td>\n",
       "      <td>1270</td>\n",
       "      <td>120</td>\n",
       "      <td>21</td>\n",
       "      <td>76</td>\n",
       "      <td>41</td>\n",
       "      <td>1.00</td>\n",
       "      <td>1</td>\n",
       "      <td>1</td>\n",
       "      <td>0</td>\n",
       "    </tr>\n",
       "    <tr>\n",
       "      <th>3</th>\n",
       "      <td>33541</td>\n",
       "      <td>2236</td>\n",
       "      <td>26612</td>\n",
       "      <td>1774</td>\n",
       "      <td>213</td>\n",
       "      <td>1695</td>\n",
       "      <td>50</td>\n",
       "      <td>214</td>\n",
       "      <td>1741</td>\n",
       "      <td>38</td>\n",
       "      <td>...</td>\n",
       "      <td>586</td>\n",
       "      <td>1316</td>\n",
       "      <td>112</td>\n",
       "      <td>1</td>\n",
       "      <td>82</td>\n",
       "      <td>50</td>\n",
       "      <td>1.00</td>\n",
       "      <td>1</td>\n",
       "      <td>1</td>\n",
       "      <td>0</td>\n",
       "    </tr>\n",
       "    <tr>\n",
       "      <th>4</th>\n",
       "      <td>32925</td>\n",
       "      <td>2195</td>\n",
       "      <td>26472</td>\n",
       "      <td>1764</td>\n",
       "      <td>213</td>\n",
       "      <td>1750</td>\n",
       "      <td>44</td>\n",
       "      <td>213</td>\n",
       "      <td>1805</td>\n",
       "      <td>35</td>\n",
       "      <td>...</td>\n",
       "      <td>586</td>\n",
       "      <td>1375</td>\n",
       "      <td>115</td>\n",
       "      <td>1</td>\n",
       "      <td>83</td>\n",
       "      <td>44</td>\n",
       "      <td>1.00</td>\n",
       "      <td>1</td>\n",
       "      <td>1</td>\n",
       "      <td>0</td>\n",
       "    </tr>\n",
       "  </tbody>\n",
       "</table>\n",
       "<p>5 rows × 52 columns</p>\n",
       "</div>"
      ],
      "text/plain": [
       "   num_frames  num_frames_avg  num_packets  num_packets_avg  \\\n",
       "0       38007            2533        31348             2089   \n",
       "1       32695            2179        26253             1750   \n",
       "2       32655            2177        26396             1759   \n",
       "3       33541            2236        26612             1774   \n",
       "4       32925            2195        26472             1764   \n",
       "\n",
       "   num_packets_out_avg  num_packets_out_max  num_packets_out_min  \\\n",
       "0                  218                 1777                   46   \n",
       "1                  212                 1726                   48   \n",
       "2                  212                 1654                   41   \n",
       "3                  213                 1695                   50   \n",
       "4                  213                 1750                   44   \n",
       "\n",
       "   num_packets_in_avg  num_packets_in_max  num_packets_in_min  ...  \\\n",
       "0                 266                2266                  38  ...   \n",
       "1                 212                1814                  34  ...   \n",
       "2                 212                1701                  30  ...   \n",
       "3                 214                1741                  38  ...   \n",
       "4                 213                1805                  35  ...   \n",
       "\n",
       "   num_forwarded_packets_avg  num_forwarded_packets_max  \\\n",
       "0                        583                       1328   \n",
       "1                        575                       1344   \n",
       "2                        578                       1270   \n",
       "3                        586                       1316   \n",
       "4                        586                       1375   \n",
       "\n",
       "   num_forwarded_packets_min  num_packets_created_avg  \\\n",
       "0                        108                       69   \n",
       "1                        105                       32   \n",
       "2                        120                       21   \n",
       "3                        112                        1   \n",
       "4                        115                        1   \n",
       "\n",
       "   num_packets_created_max  num_packets_created_min  \\\n",
       "0                      136                       46   \n",
       "1                       83                       48   \n",
       "2                       76                       41   \n",
       "3                       82                       50   \n",
       "4                       83                       44   \n",
       "\n",
       "   frac_packets_created_acquired_avg  frac_packets_created_acquired_max  \\\n",
       "0                               1.02                                  2   \n",
       "1                               1.00                                  1   \n",
       "2                               1.00                                  1   \n",
       "3                               1.00                                  1   \n",
       "4                               1.00                                  1   \n",
       "\n",
       "   frac_packets_created_acquired_min  class  \n",
       "0                                  1      0  \n",
       "1                                  1      0  \n",
       "2                                  1      0  \n",
       "3                                  1      0  \n",
       "4                                  1      0  \n",
       "\n",
       "[5 rows x 52 columns]"
      ]
     },
     "execution_count": 3,
     "metadata": {},
     "output_type": "execute_result"
    }
   ],
   "source": [
    "#чтение данных\n",
    "df = pd.read_csv(\"/Users/ekaterina/github_repos/ITMO_STUDY/ datasets/ DL_datasets/360T.csv\", delimiter=',')\n",
    "df.head()"
   ]
  },
  {
   "cell_type": "code",
   "execution_count": 4,
   "metadata": {},
   "outputs": [
    {
     "name": "stdout",
     "output_type": "stream",
     "text": [
      "<class 'pandas.core.frame.DataFrame'>\n",
      "RangeIndex: 2336 entries, 0 to 2335\n",
      "Data columns (total 52 columns):\n",
      " #   Column                             Non-Null Count  Dtype  \n",
      "---  ------                             --------------  -----  \n",
      " 0   num_frames                         2336 non-null   int64  \n",
      " 1   num_frames_avg                     2336 non-null   int64  \n",
      " 2   num_packets                        2336 non-null   int64  \n",
      " 3   num_packets_avg                    2336 non-null   int64  \n",
      " 4   num_packets_out_avg                2336 non-null   int64  \n",
      " 5   num_packets_out_max                2336 non-null   int64  \n",
      " 6   num_packets_out_min                2336 non-null   int64  \n",
      " 7   num_packets_in_avg                 2336 non-null   int64  \n",
      " 8   num_packets_in_max                 2336 non-null   int64  \n",
      " 9   num_packets_in_min                 2336 non-null   int64  \n",
      " 10  weighted_num_packets_in_avg        2336 non-null   float64\n",
      " 11  weighted_num_packets_in_max        2336 non-null   float64\n",
      " 12  weighted_num_packets_in_min        2336 non-null   float64\n",
      " 13  frac_packets_in_out_avg            2336 non-null   float64\n",
      " 14  frac_packets_in_out_max            2336 non-null   int64  \n",
      " 15  frac_packets_in_out_min            2336 non-null   int64  \n",
      " 16  frac_packets_in_out_pan_avg        2336 non-null   float64\n",
      " 17  frac_packets_in_out_pan_max        2336 non-null   int64  \n",
      " 18  frac_packets_in_out_pan_min        2336 non-null   int64  \n",
      " 19  num_packets_equal_src_avg          2336 non-null   int64  \n",
      " 20  num_packets_equal_src_max          2336 non-null   int64  \n",
      " 21  num_packets_equal_src_min          2336 non-null   int64  \n",
      " 22  num_packets_equal_src_pan_avg      2336 non-null   int64  \n",
      " 23  num_packets_equal_src_pan_max      2336 non-null   int64  \n",
      " 24  num_packets_equal_src_pan_min      2336 non-null   int64  \n",
      " 25  num_packets_equal_dest_avg         2336 non-null   int64  \n",
      " 26  num_packets_equal_dest_max         2336 non-null   int64  \n",
      " 27  num_packets_equal_dest_min         2336 non-null   int64  \n",
      " 28  num_packets_equal_dest_pan_avg     2336 non-null   int64  \n",
      " 29  num_packets_equal_dest_pan_max     2336 non-null   int64  \n",
      " 30  num_packets_equal_dest_pan_min     2336 non-null   int64  \n",
      " 31  num_frames_out_avg                 2336 non-null   int64  \n",
      " 32  num_frames_out_max                 2336 non-null   int64  \n",
      " 33  num_frames_out_min                 2336 non-null   int64  \n",
      " 34  num_frames_in_avg                  2336 non-null   int64  \n",
      " 35  num_frames_in_max                  2336 non-null   int64  \n",
      " 36  num_frames_in_min                  2336 non-null   int64  \n",
      " 37  weighted_num_frames_in_avg         2336 non-null   float64\n",
      " 38  weighted_num_frames_in_max         2336 non-null   float64\n",
      " 39  weighted_num_frames_in_min         2336 non-null   float64\n",
      " 40  num_route_msgs                     2336 non-null   int64  \n",
      " 41  num_forwarded_packets              2336 non-null   int64  \n",
      " 42  num_forwarded_packets_avg          2336 non-null   int64  \n",
      " 43  num_forwarded_packets_max          2336 non-null   int64  \n",
      " 44  num_forwarded_packets_min          2336 non-null   int64  \n",
      " 45  num_packets_created_avg            2336 non-null   int64  \n",
      " 46  num_packets_created_max            2336 non-null   int64  \n",
      " 47  num_packets_created_min            2336 non-null   int64  \n",
      " 48  frac_packets_created_acquired_avg  2336 non-null   float64\n",
      " 49  frac_packets_created_acquired_max  2336 non-null   int64  \n",
      " 50  frac_packets_created_acquired_min  2336 non-null   int64  \n",
      " 51  class                              2336 non-null   int64  \n",
      "dtypes: float64(9), int64(43)\n",
      "memory usage: 949.1 KB\n"
     ]
    }
   ],
   "source": [
    "df.info()"
   ]
  },
  {
   "cell_type": "code",
   "execution_count": 7,
   "metadata": {},
   "outputs": [
    {
     "data": {
      "text/plain": [
       "(array([  85.,    0.,    0.,    0.,    0., 2251.]),\n",
       " array([0.        , 0.16666667, 0.33333333, 0.5       , 0.66666667,\n",
       "        0.83333333, 1.        ]),\n",
       " <BarContainer object of 6 artists>)"
      ]
     },
     "execution_count": 7,
     "metadata": {},
     "output_type": "execute_result"
    },
    {
     "data": {
      "image/png": "[encoded data removed]",
      "text/plain": [
       "<Figure size 640x480 with 1 Axes>"
      ]
     },
     "metadata": {},
     "output_type": "display_data"
    }
   ],
   "source": [
    "plt.hist(df['class'], bins=6)\n"
   ]
  },
  {
   "cell_type": "code",
   "execution_count": 8,
   "metadata": {},
   "outputs": [],
   "source": [
    "# Распределение по классам неравномерное, в связи с этим надо использовать метод stratified при разделении выборки на тренировочную и тестовую\n",
    "# стратификация означает, что метод train_test_split возвращает обучающие и тестовые подмножества, которые имеют те же пропорции меток классов, \n",
    "# что и входной набор данных.\n",
    "\n",
    "X_train, X_test, y_train, y_test = train_test_split(df.iloc[:,:-1], df.iloc[:,-1], \n",
    "                                                    test_size=0.2, random_state=89, stratify = df.iloc[:,-1])"
   ]
  },
  {
   "cell_type": "code",
   "execution_count": 10,
   "metadata": {},
   "outputs": [
    {
     "data": {
      "text/plain": [
       "(1868, 51)"
      ]
     },
     "execution_count": 10,
     "metadata": {},
     "output_type": "execute_result"
    }
   ],
   "source": [
    "X_train.shape"
   ]
  },
  {
   "cell_type": "code",
   "execution_count": 11,
   "metadata": {},
   "outputs": [
    {
     "data": {
      "text/plain": [
       "(468, 51)"
      ]
     },
     "execution_count": 11,
     "metadata": {},
     "output_type": "execute_result"
    }
   ],
   "source": [
    "X_test.shape"
   ]
  },
  {
   "cell_type": "code",
   "execution_count": 12,
   "metadata": {},
   "outputs": [
    {
     "data": {
      "text/plain": [
       "(1868,)"
      ]
     },
     "execution_count": 12,
     "metadata": {},
     "output_type": "execute_result"
    }
   ],
   "source": [
    "y_train.shape"
   ]
  },
  {
   "cell_type": "code",
   "execution_count": 13,
   "metadata": {},
   "outputs": [
    {
     "data": {
      "text/plain": [
       "(468,)"
      ]
     },
     "execution_count": 13,
     "metadata": {},
     "output_type": "execute_result"
    }
   ],
   "source": [
    "y_test.shape"
   ]
  },
  {
   "cell_type": "code",
   "execution_count": 14,
   "metadata": {},
   "outputs": [],
   "source": [
    "# Стандартизируйте признаки тренировочных данных при помощи StandardScaler\n",
    "\n",
    "sc = StandardScaler()\n",
    "# Обучаем скейлер на X_train и применяем преобразование\n",
    "X_train_scaled = sc.fit_transform(X_train)\n",
    "\n",
    "# Преобразовываем X_test\n",
    "X_test_scaled = sc.transform(X_test)\n"
   ]
  },
  {
   "cell_type": "markdown",
   "metadata": {},
   "source": [
    "###  Строим классификатор"
   ]
  },
  {
   "cell_type": "code",
   "execution_count": 15,
   "metadata": {},
   "outputs": [
    {
     "data": {
      "text/plain": [
       "MLPClassifier(activation='logistic', hidden_layer_sizes=(20, 10), max_iter=1000,\n",
       "              random_state=89)"
      ]
     },
     "execution_count": 15,
     "metadata": {},
     "output_type": "execute_result"
    }
   ],
   "source": [
    "mlp = MLPClassifier(random_state=89, \n",
    "                    hidden_layer_sizes=(20,10), # Используем два скрытых слоя и укажем число нейронов в каждом\n",
    "                    activation='logistic', # Определим функцию активации\n",
    "                    max_iter=1000, # Максимальное число эпох обучения\n",
    "                   )\n",
    "mlp.fit(X_train_scaled, y_train)"
   ]
  },
  {
   "cell_type": "markdown",
   "metadata": {},
   "source": [
    "Смотрим тренд Lossfunction во время прохождения эпох обучения"
   ]
  },
  {
   "cell_type": "code",
   "execution_count": 16,
   "metadata": {},
   "outputs": [
    {
     "data": {
      "text/plain": [
       "[<matplotlib.lines.Line2D at 0x7fa2abcca4f0>]"
      ]
     },
     "execution_count": 16,
     "metadata": {},
     "output_type": "execute_result"
    },
    {
     "data": {
      "image/png": "[encoded data removed]",
      "text/plain": [
       "<Figure size 640x480 with 1 Axes>"
      ]
     },
     "metadata": {},
     "output_type": "display_data"
    }
   ],
   "source": [
    "plt.plot(mlp.loss_curve_)"
   ]
  },
  {
   "cell_type": "code",
   "execution_count": 17,
   "metadata": {},
   "outputs": [
    {
     "name": "stdout",
     "output_type": "stream",
     "text": [
      "              precision    recall  f1-score   support\n",
      "\n",
      "           0      0.667     0.471     0.552        17\n",
      "           1      0.980     0.991     0.986       451\n",
      "\n",
      "    accuracy                          0.972       468\n",
      "   macro avg      0.823     0.731     0.769       468\n",
      "weighted avg      0.969     0.972     0.970       468\n",
      "\n"
     ]
    }
   ],
   "source": [
    "y_mlp_pred = mlp.predict(X_test_scaled)\n",
    "y_mlp_pred\n",
    "print(classification_report(y_test, y_mlp_pred, digits=3))"
   ]
  },
  {
   "cell_type": "markdown",
   "metadata": {},
   "source": [
    "### Предсказание"
   ]
  },
  {
   "cell_type": "code",
   "execution_count": 18,
   "metadata": {},
   "outputs": [
    {
     "data": {
      "text/html": [
       "<div>\n",
       "<style scoped>\n",
       "    .dataframe tbody tr th:only-of-type {\n",
       "        vertical-align: middle;\n",
       "    }\n",
       "\n",
       "    .dataframe tbody tr th {\n",
       "        vertical-align: top;\n",
       "    }\n",
       "\n",
       "    .dataframe thead th {\n",
       "        text-align: right;\n",
       "    }\n",
       "</style>\n",
       "<table border=\"1\" class=\"dataframe\">\n",
       "  <thead>\n",
       "    <tr style=\"text-align: right;\">\n",
       "      <th></th>\n",
       "      <th>num_frames</th>\n",
       "      <th>num_frames_avg</th>\n",
       "      <th>num_packets</th>\n",
       "      <th>num_packets_avg</th>\n",
       "      <th>num_packets_out_avg</th>\n",
       "      <th>num_packets_out_max</th>\n",
       "      <th>num_packets_out_min</th>\n",
       "      <th>num_packets_in_avg</th>\n",
       "      <th>num_packets_in_max</th>\n",
       "      <th>num_packets_in_min</th>\n",
       "      <th>...</th>\n",
       "      <th>num_forwarded_packets</th>\n",
       "      <th>num_forwarded_packets_avg</th>\n",
       "      <th>num_forwarded_packets_max</th>\n",
       "      <th>num_forwarded_packets_min</th>\n",
       "      <th>num_packets_created_avg</th>\n",
       "      <th>num_packets_created_max</th>\n",
       "      <th>num_packets_created_min</th>\n",
       "      <th>frac_packets_created_acquired_avg</th>\n",
       "      <th>frac_packets_created_acquired_max</th>\n",
       "      <th>frac_packets_created_acquired_min</th>\n",
       "    </tr>\n",
       "  </thead>\n",
       "  <tbody>\n",
       "    <tr>\n",
       "      <th>438</th>\n",
       "      <td>30729</td>\n",
       "      <td>2048</td>\n",
       "      <td>24471</td>\n",
       "      <td>1631</td>\n",
       "      <td>201</td>\n",
       "      <td>1594</td>\n",
       "      <td>48</td>\n",
       "      <td>197</td>\n",
       "      <td>1677</td>\n",
       "      <td>29</td>\n",
       "      <td>...</td>\n",
       "      <td>7727</td>\n",
       "      <td>515</td>\n",
       "      <td>1218</td>\n",
       "      <td>137</td>\n",
       "      <td>4</td>\n",
       "      <td>82</td>\n",
       "      <td>48</td>\n",
       "      <td>1.0</td>\n",
       "      <td>1</td>\n",
       "      <td>1</td>\n",
       "    </tr>\n",
       "    <tr>\n",
       "      <th>1636</th>\n",
       "      <td>35273</td>\n",
       "      <td>2351</td>\n",
       "      <td>28247</td>\n",
       "      <td>1883</td>\n",
       "      <td>252</td>\n",
       "      <td>2872</td>\n",
       "      <td>41</td>\n",
       "      <td>238</td>\n",
       "      <td>2907</td>\n",
       "      <td>32</td>\n",
       "      <td>...</td>\n",
       "      <td>9972</td>\n",
       "      <td>665</td>\n",
       "      <td>2491</td>\n",
       "      <td>102</td>\n",
       "      <td>2</td>\n",
       "      <td>1752</td>\n",
       "      <td>41</td>\n",
       "      <td>1.0</td>\n",
       "      <td>1</td>\n",
       "      <td>1</td>\n",
       "    </tr>\n",
       "    <tr>\n",
       "      <th>2148</th>\n",
       "      <td>32627</td>\n",
       "      <td>2175</td>\n",
       "      <td>26125</td>\n",
       "      <td>1741</td>\n",
       "      <td>211</td>\n",
       "      <td>1710</td>\n",
       "      <td>46</td>\n",
       "      <td>211</td>\n",
       "      <td>1771</td>\n",
       "      <td>37</td>\n",
       "      <td>...</td>\n",
       "      <td>8615</td>\n",
       "      <td>574</td>\n",
       "      <td>1330</td>\n",
       "      <td>110</td>\n",
       "      <td>1</td>\n",
       "      <td>83</td>\n",
       "      <td>46</td>\n",
       "      <td>1.0</td>\n",
       "      <td>1</td>\n",
       "      <td>1</td>\n",
       "    </tr>\n",
       "    <tr>\n",
       "      <th>2308</th>\n",
       "      <td>32769</td>\n",
       "      <td>2184</td>\n",
       "      <td>26241</td>\n",
       "      <td>1749</td>\n",
       "      <td>211</td>\n",
       "      <td>1688</td>\n",
       "      <td>40</td>\n",
       "      <td>211</td>\n",
       "      <td>1742</td>\n",
       "      <td>36</td>\n",
       "      <td>...</td>\n",
       "      <td>8600</td>\n",
       "      <td>573</td>\n",
       "      <td>1311</td>\n",
       "      <td>112</td>\n",
       "      <td>1</td>\n",
       "      <td>80</td>\n",
       "      <td>40</td>\n",
       "      <td>1.0</td>\n",
       "      <td>1</td>\n",
       "      <td>1</td>\n",
       "    </tr>\n",
       "    <tr>\n",
       "      <th>1171</th>\n",
       "      <td>63852</td>\n",
       "      <td>2902</td>\n",
       "      <td>51120</td>\n",
       "      <td>2323</td>\n",
       "      <td>263</td>\n",
       "      <td>2657</td>\n",
       "      <td>43</td>\n",
       "      <td>264</td>\n",
       "      <td>2710</td>\n",
       "      <td>30</td>\n",
       "      <td>...</td>\n",
       "      <td>19525</td>\n",
       "      <td>888</td>\n",
       "      <td>2282</td>\n",
       "      <td>122</td>\n",
       "      <td>1</td>\n",
       "      <td>86</td>\n",
       "      <td>43</td>\n",
       "      <td>1.0</td>\n",
       "      <td>1</td>\n",
       "      <td>1</td>\n",
       "    </tr>\n",
       "  </tbody>\n",
       "</table>\n",
       "<p>5 rows × 51 columns</p>\n",
       "</div>"
      ],
      "text/plain": [
       "      num_frames  num_frames_avg  num_packets  num_packets_avg  \\\n",
       "438        30729            2048        24471             1631   \n",
       "1636       35273            2351        28247             1883   \n",
       "2148       32627            2175        26125             1741   \n",
       "2308       32769            2184        26241             1749   \n",
       "1171       63852            2902        51120             2323   \n",
       "\n",
       "      num_packets_out_avg  num_packets_out_max  num_packets_out_min  \\\n",
       "438                   201                 1594                   48   \n",
       "1636                  252                 2872                   41   \n",
       "2148                  211                 1710                   46   \n",
       "2308                  211                 1688                   40   \n",
       "1171                  263                 2657                   43   \n",
       "\n",
       "      num_packets_in_avg  num_packets_in_max  num_packets_in_min  ...  \\\n",
       "438                  197                1677                  29  ...   \n",
       "1636                 238                2907                  32  ...   \n",
       "2148                 211                1771                  37  ...   \n",
       "2308                 211                1742                  36  ...   \n",
       "1171                 264                2710                  30  ...   \n",
       "\n",
       "      num_forwarded_packets  num_forwarded_packets_avg  \\\n",
       "438                    7727                        515   \n",
       "1636                   9972                        665   \n",
       "2148                   8615                        574   \n",
       "2308                   8600                        573   \n",
       "1171                  19525                        888   \n",
       "\n",
       "      num_forwarded_packets_max  num_forwarded_packets_min  \\\n",
       "438                        1218                        137   \n",
       "1636                       2491                        102   \n",
       "2148                       1330                        110   \n",
       "2308                       1311                        112   \n",
       "1171                       2282                        122   \n",
       "\n",
       "      num_packets_created_avg  num_packets_created_max  \\\n",
       "438                         4                       82   \n",
       "1636                        2                     1752   \n",
       "2148                        1                       83   \n",
       "2308                        1                       80   \n",
       "1171                        1                       86   \n",
       "\n",
       "      num_packets_created_min  frac_packets_created_acquired_avg  \\\n",
       "438                        48                                1.0   \n",
       "1636                       41                                1.0   \n",
       "2148                       46                                1.0   \n",
       "2308                       40                                1.0   \n",
       "1171                       43                                1.0   \n",
       "\n",
       "      frac_packets_created_acquired_max  frac_packets_created_acquired_min  \n",
       "438                                   1                                  1  \n",
       "1636                                  1                                  1  \n",
       "2148                                  1                                  1  \n",
       "2308                                  1                                  1  \n",
       "1171                                  1                                  1  \n",
       "\n",
       "[5 rows x 51 columns]"
      ]
     },
     "execution_count": 18,
     "metadata": {},
     "output_type": "execute_result"
    }
   ],
   "source": [
    " # Выполним предсказание для первого объекта\n",
    "X_test.head()"
   ]
  },
  {
   "cell_type": "code",
   "execution_count": 19,
   "metadata": {},
   "outputs": [
    {
     "name": "stdout",
     "output_type": "stream",
     "text": [
      "Assigned class:  [1]\n"
     ]
    }
   ],
   "source": [
    "# Выбираем произвольный объект из начального набора данных\n",
    "test_obj = X_test.loc[[1974]]\n",
    "\n",
    "# Не забываем масштабировать признаки тестового объекта \n",
    "test_obj = sc.transform(test_obj)\n",
    "print(\"Assigned class: \",mlp.predict(test_obj))"
   ]
  },
  {
   "cell_type": "code",
   "execution_count": 20,
   "metadata": {},
   "outputs": [
    {
     "name": "stdout",
     "output_type": "stream",
     "text": [
      "Assigned class:  [0]\n"
     ]
    }
   ],
   "source": [
    "test_1 = pd.read_csv('/Users/ekaterina/github_repos/ITMO_STUDY/ datasets/ DL_datasets/DL_Task_2_test_file_28.csv', delimiter= ',')\n",
    "\n",
    "# Не забываем масштабировать признаки тестового объекта \n",
    "test_1 = sc.transform(test_1)\n",
    "print(\"Assigned class: \",mlp.predict(test_1))"
   ]
  },
  {
   "cell_type": "code",
   "execution_count": 21,
   "metadata": {},
   "outputs": [
    {
     "name": "stdout",
     "output_type": "stream",
     "text": [
      "Assigned class:  [1]\n"
     ]
    }
   ],
   "source": [
    "test_2 = pd.read_csv('/Users/ekaterina/github_repos/ITMO_STUDY/ datasets/ DL_datasets/DL_Task_2_test_file_2_59.csv', delimiter= ',')\n",
    "\n",
    "# Не забываем масштабировать признаки тестового объекта \n",
    "test_2 = sc.transform(test_2)\n",
    "print(\"Assigned class: \",mlp.predict(test_2))"
   ]
  },
  {
   "cell_type": "code",
   "execution_count": 22,
   "metadata": {},
   "outputs": [
    {
     "name": "stdout",
     "output_type": "stream",
     "text": [
      "Assigned class:  [1]\n"
     ]
    }
   ],
   "source": [
    "test_3 = pd.read_csv('/Users/ekaterina/github_repos/ITMO_STUDY/ datasets/ DL_datasets/DL_Task_2_test_file_3_99.csv', delimiter= ',')\n",
    "\n",
    "# Не забываем масштабировать признаки тестового объекта \n",
    "test_3 = sc.transform(test_3)\n",
    "print(\"Assigned class: \",mlp.predict(test_3))"
   ]
  },
  {
   "cell_type": "code",
   "execution_count": 23,
   "metadata": {},
   "outputs": [
    {
     "name": "stdout",
     "output_type": "stream",
     "text": [
      "Assigned class:  [1]\n"
     ]
    }
   ],
   "source": [
    "test_4 = pd.read_csv('/Users/ekaterina/github_repos/ITMO_STUDY/ datasets/ DL_datasets/DL_Task_2_test_file_4_166.csv', delimiter= ',')\n",
    "\n",
    "# Не забываем масштабировать признаки тестового объекта \n",
    "test_4 = sc.transform(test_4)\n",
    "print(\"Assigned class: \",mlp.predict(test_4))"
   ]
  }
 ],
 "metadata": {
  "kernelspec": {
   "display_name": "Python 3.8.5 ('base')",
   "language": "python",
   "name": "python3"
  },
  "language_info": {
   "codemirror_mode": {
    "name": "ipython",
    "version": 3
   },
   "file_extension": ".py",
   "mimetype": "text/x-python",
   "name": "python",
   "nbconvert_exporter": "python",
   "pygments_lexer": "ipython3",
   "version": "3.8.5"
  },
  "orig_nbformat": 4,
  "vscode": {
   "interpreter": {
    "hash": "40d3a090f54c6569ab1632332b64b2c03c39dcf918b08424e98f38b5ae0af88f"
   }
  }
 },
 "nbformat": 4,
 "nbformat_minor": 2
}
