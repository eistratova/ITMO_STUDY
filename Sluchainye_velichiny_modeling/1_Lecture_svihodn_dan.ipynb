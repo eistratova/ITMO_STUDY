{
  "cells": [
    {
      "cell_type": "code",
      "execution_count": 1,
      "metadata": {
        "id": "isHP3AkEAdZz"
      },
      "outputs": [],
      "source": [
        "import itertools\n",
        "import numpy as np\n",
        "from numpy.random import choice \n",
        "import pandas as pd\n",
        "import matplotlib.pyplot as plt\n",
        "from numpy.lib.arraysetops import unique"
      ]
    },
    {
      "cell_type": "markdown",
      "metadata": {
        "collapsed": false,
        "id": "rYO9at7xfT1B",
        "pycharm": {
          "name": "#%% md\n"
        }
      },
      "source": [
        "### Пространство элементарных исходов, вероятностное пространство"
      ]
    },
    {
      "cell_type": "markdown",
      "metadata": {
        "collapsed": false,
        "id": "F8_7FvrafT1B",
        "pycharm": {
          "name": "#%% md\n"
        }
      },
      "source": [
        "При задании вероятностного пространства нужно задать три вещи — тройку $(\\Omega, \\Sigma, \\mathbb P)$ — пространство элементарных исходов $\\Omega$, множество событий $\\Sigma$ и функцию вероятности $\\mathbb P$. Давайте рассмотрим первое на примерах.\n",
        "\n",
        "Пусть бросается монетка. **Мы сами вводим** пространство элементарных исходов (ПЭИ). Некоторые варианты (либо означает дизъюнктивное или): \n",
        "*   либо выпал орел, либо выпала решка\n",
        "*   либо выпал орел, либо выпала решка, либо монета встала на ребро\n",
        "*   либо выпал орел, либо выпала решка, либо монета встала на ребро, либо монета укатилась\n",
        "\n",
        "**Модель вероятностного пространства — наше и только наше решение.** \n",
        "\n",
        "Относительно бросания монетки, будем рассматривать первый вариант ПЭИ.\n",
        "\n",
        "**Задача.** \n",
        "\n",
        "Поочередно подбрасывается три монетки (одна монетка подбрасывается три раза). Описать ПЭИ"
      ]
    },
    {
      "cell_type": "code",
      "execution_count": 2,
      "metadata": {
        "colab": {
          "base_uri": "https://localhost:8080/"
        },
        "id": "nlM1Fg91fT1B",
        "outputId": "f8f4b057-8cac-4183-ccb5-afe332d76087",
        "pycharm": {
          "name": "#%%\n"
        }
      },
      "outputs": [
        {
          "data": {
            "text/plain": [
              "{('О', 'О', 'О'),\n",
              " ('О', 'О', 'Р'),\n",
              " ('О', 'Р', 'О'),\n",
              " ('О', 'Р', 'Р'),\n",
              " ('Р', 'О', 'О'),\n",
              " ('Р', 'О', 'Р'),\n",
              " ('Р', 'Р', 'О'),\n",
              " ('Р', 'Р', 'Р')}"
            ]
          },
          "execution_count": 2,
          "metadata": {},
          "output_type": "execute_result"
        }
      ],
      "source": [
        "one_coin = ('О', 'Р')\n",
        "\n",
        "three_coins = set()\n",
        "\n",
        "for c1 in one_coin:\n",
        "    for c2 in one_coin:\n",
        "        for c3 in one_coin:\n",
        "            three_coins.add((c1, c2, c3))\n",
        "\n",
        "three_coins"
      ]
    },
    {
      "cell_type": "code",
      "execution_count": 3,
      "metadata": {
        "colab": {
          "base_uri": "https://localhost:8080/"
        },
        "id": "J0KnoI8F6BiS",
        "outputId": "556ee359-e294-42a8-e92c-ab362513bf04"
      },
      "outputs": [
        {
          "data": {
            "text/plain": [
              "8"
            ]
          },
          "execution_count": 3,
          "metadata": {},
          "output_type": "execute_result"
        }
      ],
      "source": [
        "len(three_coins)"
      ]
    },
    {
      "cell_type": "markdown",
      "metadata": {
        "collapsed": false,
        "id": "HIW9bSV_fT1C",
        "pycharm": {
          "name": "#%% md\n"
        }
      },
      "source": [
        "Итого, элементарных исходов ровно $2^3$.\n",
        "\n",
        "Хочется немного автоматизировать перебор. Вдруг монеток станет, скажем, $100$? А если нужно решить задачу в общем случае? "
      ]
    },
    {
      "cell_type": "code",
      "execution_count": null,
      "metadata": {
        "colab": {
          "base_uri": "https://localhost:8080/"
        },
        "id": "ThEyFFKA7mJk",
        "outputId": "852544d3-0bab-4353-92d8-e11c27ae080d"
      },
      "outputs": [
        {
          "data": {
            "text/plain": [
              "{('О', 'О'), ('О', 'Р'), ('Р', 'О'), ('Р', 'Р')}"
            ]
          },
          "execution_count": 4,
          "metadata": {},
          "output_type": "execute_result"
        }
      ],
      "source": [
        "many_coins = set(itertools.product(one_coin, one_coin))\n",
        "many_coins"
      ]
    },
    {
      "cell_type": "code",
      "execution_count": 13,
      "metadata": {
        "colab": {
          "base_uri": "https://localhost:8080/"
        },
        "id": "4gPwDvC1fT1C",
        "outputId": "2043be8a-0a90-4fc4-b95a-8366a697e93f",
        "pycharm": {
          "name": "#%%\n"
        }
      },
      "outputs": [
        {
          "data": {
            "text/plain": [
              "{('О', 'О', 'О'),\n",
              " ('О', 'О', 'Р'),\n",
              " ('О', 'Р', 'О'),\n",
              " ('О', 'Р', 'Р'),\n",
              " ('Р', 'О', 'О'),\n",
              " ('Р', 'О', 'Р'),\n",
              " ('Р', 'Р', 'О'),\n",
              " ('Р', 'Р', 'Р')}"
            ]
          },
          "execution_count": 13,
          "metadata": {},
          "output_type": "execute_result"
        }
      ],
      "source": [
        "number_of_coins = 3\n",
        "many_coins = set(itertools.product(*[one_coin] * number_of_coins))\n",
        "\n",
        "many_coins"
      ]
    },
    {
      "cell_type": "markdown",
      "metadata": {
        "id": "RC46XzvG8SOi"
      },
      "source": [
        "Нас могут интересовать только различные по составу исходы"
      ]
    },
    {
      "cell_type": "code",
      "execution_count": null,
      "metadata": {
        "colab": {
          "base_uri": "https://localhost:8080/"
        },
        "id": "JZxn0HIQ8Rmb",
        "outputId": "a3325337-becb-4017-df8f-1e3370788232"
      },
      "outputs": [
        {
          "data": {
            "text/plain": [
              "{('О', 'О', 'О'), ('О', 'О', 'Р'), ('О', 'Р', 'Р'), ('Р', 'Р', 'Р')}"
            ]
          },
          "execution_count": 6,
          "metadata": {},
          "output_type": "execute_result"
        }
      ],
      "source": [
        "many_coins = set(itertools.combinations_with_replacement(one_coin, 3))\n",
        "many_coins"
      ]
    },
    {
      "cell_type": "markdown",
      "metadata": {
        "collapsed": false,
        "id": "Se1B0TjPfT1F",
        "pycharm": {
          "name": "#%% md\n"
        }
      },
      "source": [
        "**Задача.**\n",
        "\n",
        "Бросаются две обычные игральные кости. Сколько элементарных исходов, при которых сумма на костях будет четной? Какова вероятность такого события, если кости «честные»?"
      ]
    },
    {
      "cell_type": "code",
      "execution_count": 5,
      "metadata": {
        "colab": {
          "base_uri": "https://localhost:8080/"
        },
        "id": "sossG-GCfT1F",
        "outputId": "e7b6f474-f6c5-4569-b3d7-7054b75a465b",
        "pycharm": {
          "name": "#%%\n"
        }
      },
      "outputs": [
        {
          "data": {
            "text/plain": [
              "{(1, 1),\n",
              " (1, 2),\n",
              " (1, 3),\n",
              " (1, 4),\n",
              " (1, 5),\n",
              " (1, 6),\n",
              " (2, 1),\n",
              " (2, 2),\n",
              " (2, 3),\n",
              " (2, 4),\n",
              " (2, 5),\n",
              " (2, 6),\n",
              " (3, 1),\n",
              " (3, 2),\n",
              " (3, 3),\n",
              " (3, 4),\n",
              " (3, 5),\n",
              " (3, 6),\n",
              " (4, 1),\n",
              " (4, 2),\n",
              " (4, 3),\n",
              " (4, 4),\n",
              " (4, 5),\n",
              " (4, 6),\n",
              " (5, 1),\n",
              " (5, 2),\n",
              " (5, 3),\n",
              " (5, 4),\n",
              " (5, 5),\n",
              " (5, 6),\n",
              " (6, 1),\n",
              " (6, 2),\n",
              " (6, 3),\n",
              " (6, 4),\n",
              " (6, 5),\n",
              " (6, 6)}"
            ]
          },
          "execution_count": 5,
          "metadata": {},
          "output_type": "execute_result"
        }
      ],
      "source": [
        "one_dice = (1, 2, 3, 4, 5, 6) # one_dice = np.arange(1, 6)\n",
        "\n",
        "two_dices_space = set(itertools.product(*[one_dice] * 2))\n",
        "two_dices_space"
      ]
    },
    {
      "cell_type": "code",
      "execution_count": 6,
      "metadata": {
        "colab": {
          "base_uri": "https://localhost:8080/"
        },
        "id": "lSKR_gpg-CrR",
        "outputId": "9f462f58-eb95-4e89-e621-e316e4fca583"
      },
      "outputs": [
        {
          "data": {
            "text/plain": [
              "18"
            ]
          },
          "execution_count": 6,
          "metadata": {},
          "output_type": "execute_result"
        }
      ],
      "source": [
        "odd_count = 0\n",
        "\n",
        "for i in two_dices_space:\n",
        "    if sum(i) % 2 == 0:\n",
        "        odd_count += 1\n",
        "\n",
        "odd_count"
      ]
    },
    {
      "cell_type": "markdown",
      "metadata": {
        "collapsed": false,
        "id": "F3hEh66ffT1F",
        "pycharm": {
          "name": "#%% md\n"
        }
      },
      "source": [
        "**Задача.**\n",
        "\n",
        "Бросается три тетраэдра, в вершинах которых написаны числа от 1 до 4. Сколько существует элементарных исходов, при которых сумма чисел, оказавшихся в вершинах выпавших тетраэров, больше их произведения? Какова вероятность этого события в рамках классической вероятностной схемы?"
      ]
    },
    {
      "cell_type": "code",
      "execution_count": 7,
      "metadata": {
        "colab": {
          "base_uri": "https://localhost:8080/"
        },
        "id": "GfJAuaFWfT1G",
        "outputId": "8cac764d-320e-48b8-c89d-124fecc2d76b",
        "pycharm": {
          "name": "#%%\n"
        }
      },
      "outputs": [
        {
          "data": {
            "text/plain": [
              "(13, 0.203125)"
            ]
          },
          "execution_count": 7,
          "metadata": {},
          "output_type": "execute_result"
        }
      ],
      "source": [
        "one_tetrahedron = (1, 2, 3, 4)\n",
        "\n",
        "three_tetrahedrons_space = set(itertools.product(*[one_tetrahedron] * 3))\n",
        "\n",
        "sum_greater_mult_count = 0\n",
        "\n",
        "for i in three_tetrahedrons_space:\n",
        "    if sum(i) > i[0] * i[1] * i[2]:\n",
        "        sum_greater_mult_count += 1\n",
        "\n",
        "sum_greater_mult_count, sum_greater_mult_count / len(three_tetrahedrons_space)"
      ]
    },
    {
      "cell_type": "markdown",
      "metadata": {
        "collapsed": false,
        "id": "zns4BVnCfT1G",
        "pycharm": {
          "name": "#%% md\n"
        }
      },
      "source": [
        "**Задача.** \n",
        "\n",
        "Пусть вытягивается лотерейный билет. На каждом билете написано число (выигрыш: например, в тыс. рублях) от 1 до 10, при этом вероятность вытащить соответствующий такова:\n",
        "\n",
        "$$\\mathbb P(\\text{Получить билет с числом } i) = \\dfrac k i$$\n",
        "\n",
        "Чему равно $k$?\n",
        "Какова вероятность вытащить билет с числом, большим 7?\n",
        "\n",
        "Согласно условию нормировки, \n",
        "$$\\sum\\limits_{i=1}^{10} \\dfrac k i = 1\\quad\\Rightarrow\\quad k=\\dfrac 1 {\\sum\\limits_{i=1}^{10} \\frac 1 i}.$$"
      ]
    },
    {
      "cell_type": "code",
      "execution_count": null,
      "metadata": {
        "colab": {
          "base_uri": "https://localhost:8080/"
        },
        "id": "5vv9ZMJmfT1G",
        "outputId": "61cbbe41-70b3-401b-eb26-3dcd5fcc31c2",
        "pycharm": {
          "name": "#%%\n"
        }
      },
      "outputs": [
        {
          "data": {
            "text/plain": [
              "0.34141715214740553"
            ]
          },
          "execution_count": 10,
          "metadata": {},
          "output_type": "execute_result"
        }
      ],
      "source": [
        "k = 1 / sum([1 / i for i in range(1, 11)])\n",
        "k"
      ]
    },
    {
      "cell_type": "markdown",
      "metadata": {
        "collapsed": false,
        "id": "2A8O5zUKfT1G",
        "pycharm": {
          "name": "#%% md\n"
        }
      },
      "source": [
        "\n",
        "Ответим на второй вопрос. \n",
        "$$\n",
        "P(i > 7) = \\sum\\limits_{j=8}^{10} P(i=j)= \\sum\\limits_{i=8}^{10} \\dfrac k i.\n",
        "$$"
      ]
    },
    {
      "cell_type": "code",
      "execution_count": null,
      "metadata": {
        "colab": {
          "base_uri": "https://localhost:8080/"
        },
        "id": "9x-LK2TKfT1H",
        "outputId": "c6054262-f99e-49c3-abc2-8311dae6ff1b",
        "pycharm": {
          "name": "#%%\n"
        }
      },
      "outputs": [
        {
          "data": {
            "text/plain": [
              "0.11475409836065575"
            ]
          },
          "execution_count": 11,
          "metadata": {},
          "output_type": "execute_result"
        }
      ],
      "source": [
        "sum([k / i for i in range(8, 11)])"
      ]
    },
    {
      "cell_type": "markdown",
      "metadata": {
        "collapsed": false,
        "id": "iPB2NHr8fT1L",
        "pycharm": {
          "name": "#%% md\n"
        }
      },
      "source": [
        "### Зачем вообще нужно моделирование?"
      ]
    },
    {
      "cell_type": "markdown",
      "metadata": {
        "collapsed": false,
        "id": "r51t5obQfT1L",
        "pycharm": {
          "name": "#%% md\n"
        }
      },
      "source": [
        "В жизни бывают задачи, аналитическое решение которых представляет огромную трудность. Часто, однако, в конкретной задаче можно справиться чуть ли не банальным перебором.\n",
        "\n",
        "Рассмотрим следуюущю задачу о [счастливом билете](https://neerc.ifmo.ru/wiki/index.php?title=Задача_о_счастливых_билетах). Пусть рассматриваются билеты с шестизначными номерами, все цифры которого могут принимать любые значения от 0 до 9. Будем называть счастливыми билетами те, у которых сумма цифр первой половины (первых) равна сумме второй (последних трех). Нужно посчитать количество счастливых билетов."
      ]
    },
    {
      "cell_type": "code",
      "execution_count": null,
      "metadata": {
        "colab": {
          "base_uri": "https://localhost:8080/"
        },
        "id": "9bAcv1qufT1L",
        "outputId": "9058f731-7ae1-4fed-8969-43d22bf0e89d",
        "pycharm": {
          "name": "#%%\n"
        }
      },
      "outputs": [
        {
          "data": {
            "text/plain": [
              "55252"
            ]
          },
          "execution_count": 12,
          "metadata": {},
          "output_type": "execute_result"
        }
      ],
      "source": [
        "count = 0\n",
        "\n",
        "for i1 in range(10):\n",
        "    for i2 in range(10):\n",
        "        for i3 in range(10):\n",
        "            for i4 in range(10):\n",
        "                for i5 in range(10):\n",
        "                    for i6 in range(10):\n",
        "                        if i1 + i2 + i3 == i4 + i5 + i6:\n",
        "                            count += 1\n",
        "\n",
        "count"
      ]
    },
    {
      "cell_type": "markdown",
      "metadata": {
        "collapsed": false,
        "id": "BADdY3M5fT1M",
        "pycharm": {
          "name": "#%% md\n"
        }
      },
      "source": [
        "Что если в нашей задаче теперь на билете 12 цифр, а не 6? Как бы мы могли ускорить подсчет счастливых билетов? Например, так.\n",
        "\n",
        "Создадим словарь, в котором по интересующей нас сумме будем отмечать количество шестизначных чисел, сумма цифр которых имеет данную сумму. А после возьмем и перемножим друг на друга количество чисел, сумма цифр которых — одно и то же число. Прелесть в том, что мы теперь должны сделать один проход по всем 6ти-значным числам. Такая оптимизация довольно сильно ускоряет процесс."
      ]
    },
    {
      "cell_type": "code",
      "execution_count": null,
      "metadata": {
        "colab": {
          "base_uri": "https://localhost:8080/"
        },
        "id": "N5-h2llgfT1M",
        "outputId": "fd003c4d-8a40-4ecf-9948-7092f78be5b5",
        "pycharm": {
          "name": "#%%\n"
        }
      },
      "outputs": [
        {
          "data": {
            "text/plain": [
              "39581170420"
            ]
          },
          "execution_count": 13,
          "metadata": {},
          "output_type": "execute_result"
        }
      ],
      "source": [
        "count = {i: 0 for i in range(6 * 9 + 1)}\n",
        "for i in range(1000000):\n",
        "    digits_sum = 0\n",
        "\n",
        "    while i > 0:\n",
        "        digits_sum += i % 10\n",
        "        i //= 10\n",
        "\n",
        "    count[digits_sum] += 1\n",
        "\n",
        "lucky = 0\n",
        "\n",
        "for i in range(6 * 9 + 1):\n",
        "    lucky += count[i] * count[i]\n",
        "\n",
        "lucky"
      ]
    },
    {
      "cell_type": "markdown",
      "metadata": {
        "collapsed": false,
        "id": "AdQg6lZNfT1J",
        "pycharm": {
          "name": "#%% md\n"
        }
      },
      "source": [
        "### Комбинаторика и моделирование\n"
      ]
    },
    {
      "cell_type": "markdown",
      "metadata": {
        "id": "Ibkgmp15HIG6"
      },
      "source": [
        "**Задача.**\n",
        "Номер в электронной очереди банка состоит из буквы  𝐴 ,  𝐵  или  𝐶  и целого числа в диапазоне от 1 до 99 включительно. Сколько человек одновременно может находиться в очереди?\n",
        "\n",
        "$$\n",
        "3 \\cdot 99 = 297.\n",
        "$$"
      ]
    },
    {
      "cell_type": "code",
      "execution_count": 8,
      "metadata": {
        "colab": {
          "base_uri": "https://localhost:8080/"
        },
        "id": "ccRayCyrHHf2",
        "outputId": "ac459ac5-6324-4a83-9473-32ee35532c1e"
      },
      "outputs": [
        {
          "data": {
            "text/plain": [
              "['A1', 'A2', 'A3', 'A4', 'A5', 'A6', 'A7', 'A8', 'A9', 'A10']"
            ]
          },
          "execution_count": 8,
          "metadata": {},
          "output_type": "execute_result"
        }
      ],
      "source": [
        "pool = []\n",
        "\n",
        "for letter in 'A', 'B', 'C':\n",
        "    for number in range(1, 100):\n",
        "        pool.append(f'{letter}{number}')\n",
        "\n",
        "pool[0: 10]  "
      ]
    },
    {
      "cell_type": "code",
      "execution_count": 9,
      "metadata": {
        "colab": {
          "base_uri": "https://localhost:8080/"
        },
        "id": "QosTzh4eHfN6",
        "outputId": "ebf73556-893a-436a-9971-b1b6940bbfde"
      },
      "outputs": [
        {
          "data": {
            "text/plain": [
              "297"
            ]
          },
          "execution_count": 9,
          "metadata": {},
          "output_type": "execute_result"
        }
      ],
      "source": [
        "len(pool)"
      ]
    },
    {
      "cell_type": "code",
      "execution_count": 10,
      "metadata": {
        "colab": {
          "base_uri": "https://localhost:8080/"
        },
        "id": "rjihFaiRHtYH",
        "outputId": "feee3311-6220-4011-a522-40b282990757"
      },
      "outputs": [
        {
          "data": {
            "text/plain": [
              "297"
            ]
          },
          "execution_count": 10,
          "metadata": {},
          "output_type": "execute_result"
        }
      ],
      "source": [
        "pool = set(itertools.product(('A', 'B', 'C'), np.arange(1, 100)))\n",
        "len(pool)"
      ]
    },
    {
      "cell_type": "markdown",
      "metadata": {
        "id": "31ATIyhVHhiG"
      },
      "source": [
        "**Задача.**\n",
        "\n",
        "В некоторой стране автомобильный номер состоит из 2 букв латинского алфавита (всего их 26), за которыми следуют 3 цифры (от 0 до 9 включительно). Сколько существует автомобильных номеров в этой стране?\n",
        "\n",
        "$$\n",
        "26^2 \\cdot 10^3 = 676000\n",
        "$$"
      ]
    },
    {
      "cell_type": "code",
      "execution_count": 11,
      "metadata": {
        "colab": {
          "base_uri": "https://localhost:8080/"
        },
        "id": "imns1rZ1KF9B",
        "outputId": "d276c2dc-968c-42e9-9e4f-0829484a3f45"
      },
      "outputs": [
        {
          "data": {
            "text/plain": [
              "676000"
            ]
          },
          "execution_count": 11,
          "metadata": {},
          "output_type": "execute_result"
        }
      ],
      "source": [
        "pool = set(itertools.product(*[np.arange(1, 27)]*2, *[np.arange(0, 10)]*3))\n",
        "len(pool)"
      ]
    },
    {
      "cell_type": "markdown",
      "metadata": {
        "id": "j0OuT59CMB6u"
      },
      "source": [
        "**Задача.**\n",
        "\n",
        "Учащиеся 9 класса изучают 10 предметов. Сколькими способами можно составить расписание занятий на один день так, чтобы было ровно 6 различных уроков?\n",
        "\n",
        "$$\n",
        "10 \\cdot 9 \\cdot 8 \\cdot 7 \\cdot 6 \\cdot 5\n",
        "$$"
      ]
    },
    {
      "cell_type": "code",
      "execution_count": 12,
      "metadata": {
        "colab": {
          "base_uri": "https://localhost:8080/"
        },
        "id": "DVdUdHWjMNGd",
        "outputId": "eff951c4-213a-4a4b-f141-409766bf34ac"
      },
      "outputs": [
        {
          "data": {
            "text/plain": [
              "151200"
            ]
          },
          "execution_count": 12,
          "metadata": {},
          "output_type": "execute_result"
        }
      ],
      "source": [
        "lessons = np.arange(1, 11)\n",
        "pool = set()\n",
        "for i in itertools.product(*[np.arange(1, 11)] * 6):\n",
        "    if len(unique(i)) == 6:\n",
        "      pool.add(i)\n",
        "len(pool)"
      ]
    },
    {
      "cell_type": "markdown",
      "metadata": {
        "id": "L99tHK4iQbq1"
      },
      "source": [
        "**Задача.**\n",
        "\n",
        "На стол бросают игральный кубик и тетраэдр. Сколькими способами они могут выпасть, если известно, что либо ровно один из них показал число 1, либо ни один из них единицу не показал.\n",
        "$$\n",
        "1 \\cdot 5 + 1 \\cdot 3 + 5 \\cdot 3 = 23\n",
        "$$"
      ]
    },
    {
      "cell_type": "code",
      "execution_count": null,
      "metadata": {
        "colab": {
          "base_uri": "https://localhost:8080/"
        },
        "id": "0-bLwrLyQNrA",
        "outputId": "37362f12-4d4b-4fa3-9d24-a5d9e63d1593"
      },
      "outputs": [
        {
          "data": {
            "text/plain": [
              "23"
            ]
          },
          "execution_count": 19,
          "metadata": {},
          "output_type": "execute_result"
        }
      ],
      "source": [
        "pool = set()\n",
        "for i in itertools.product(np.arange(1, 7), np.arange(1, 5)):\n",
        "  if (1 in i):\n",
        "    if len(unique(i)) > 1:\n",
        "      pool.add(i)\n",
        "  else:\n",
        "    pool.add(i)\n",
        "len(pool)"
      ]
    },
    {
      "cell_type": "markdown",
      "metadata": {
        "id": "q6GUH07mTnyo"
      },
      "source": [
        "**Задача.**\n",
        "\n",
        "Некоторый комитет состоит из 12 человек, минимальный кворум для принятия какого-либо решения должен содержать 8 человек. Сколькими способами может быть достигнут минимальный кворум?\n",
        "\n",
        "$$\n",
        "C_{12}^8 = 495\n",
        "$$"
      ]
    },
    {
      "cell_type": "code",
      "execution_count": 14,
      "metadata": {
        "colab": {
          "base_uri": "https://localhost:8080/"
        },
        "id": "5ydnsbZaQHfl",
        "outputId": "cd3aad07-554e-431e-b62a-6c9520ba31fe"
      },
      "outputs": [
        {
          "data": {
            "text/plain": [
              "495"
            ]
          },
          "execution_count": 14,
          "metadata": {},
          "output_type": "execute_result"
        }
      ],
      "source": [
        "pool = set()\n",
        "for i in itertools.combinations_with_replacement(np.arange(1, 13), 8):\n",
        "  if len(unique(i)) == 8:\n",
        "    pool.add(i)\n",
        "len(pool)"
      ]
    },
    {
      "cell_type": "markdown",
      "metadata": {
        "id": "CpUHWcePUa3l"
      },
      "source": [
        "**Задача.**\n",
        "\n",
        "Некоторый комитет состоит из 12 человек, минимальный кворум для принятия какого-либо решения должен содержать 8 человек, один из которых — председатель. Сколькими способами может быть достигнут минимальный кворум?\n",
        "\n",
        "$$\n",
        "12 \\cdot C_{11}^7 = 3960.\n",
        "$$\n"
      ]
    },
    {
      "cell_type": "code",
      "execution_count": null,
      "metadata": {
        "colab": {
          "base_uri": "https://localhost:8080/"
        },
        "id": "2HxR7w4xU7BY",
        "outputId": "d4ec7e0c-b071-43a3-a8b1-f0f4f4d76703"
      },
      "outputs": [
        {
          "data": {
            "text/plain": [
              "3960"
            ]
          },
          "execution_count": 21,
          "metadata": {},
          "output_type": "execute_result"
        }
      ],
      "source": [
        "pool = set()\n",
        "for i, j in itertools.product(np.arange(1, 13), itertools.combinations_with_replacement(np.arange(1, 12), 7)):\n",
        "  if len(unique(j)) == 7:\n",
        "    pool.add((i, j))\n",
        "len(pool)\n"
      ]
    },
    {
      "cell_type": "markdown",
      "metadata": {
        "id": "n46Ey4dZfZ62"
      },
      "source": [
        "**Задача.**\n",
        "\n",
        "У 6 взрослых и 11 детей обнаружены признаки инфекционного заболевания. Чтобы проверить заболевание, следует взять выборочный анализ у 2 взрослых и 3 детей. Сколько существует способов это сделать?\n",
        "$$\n",
        "C_6^2 \\cdot C_{11}^3 = 2475.\n",
        "$$"
      ]
    },
    {
      "cell_type": "code",
      "execution_count": 15,
      "metadata": {
        "colab": {
          "base_uri": "https://localhost:8080/"
        },
        "id": "6FnrvHZkfuLS",
        "outputId": "bd72c827-168a-4359-a2f5-59b68a5f3423"
      },
      "outputs": [
        {
          "data": {
            "text/plain": [
              "2475"
            ]
          },
          "execution_count": 15,
          "metadata": {},
          "output_type": "execute_result"
        }
      ],
      "source": [
        "pool = set()\n",
        "for i, j in itertools.product(itertools.combinations_with_replacement(np.arange(1, 7), 2), itertools.combinations_with_replacement(np.arange(1, 12), 3)):\n",
        "  if (len(unique(i)) == 2) & (len(unique(j)) == 3):\n",
        "    pool.add((i, j))\n",
        "len(pool)"
      ]
    },
    {
      "cell_type": "markdown",
      "metadata": {
        "id": "6C6b6FQjg56i"
      },
      "source": [
        "**Задача.**\n",
        "\n",
        "На книжной полке стоит собрание сочинений из 5 томов. Сколькими способами их можно переставить так, чтобы тома 1 и 2 были рядом?\n",
        "\n",
        "$$\n",
        "2\\cdot4! = 48.\n",
        "$$"
      ]
    },
    {
      "cell_type": "code",
      "execution_count": 16,
      "metadata": {
        "colab": {
          "base_uri": "https://localhost:8080/"
        },
        "id": "NsscdVTuhMB7",
        "outputId": "e953d2cf-c301-442d-caa2-9168150321c7"
      },
      "outputs": [
        {
          "data": {
            "text/plain": [
              "48"
            ]
          },
          "execution_count": 16,
          "metadata": {},
          "output_type": "execute_result"
        }
      ],
      "source": [
        "pool = set()\n",
        "for i in itertools.product(*[np.arange(1, 6)] * 5):\n",
        "  if len(unique(i)) == 5:\n",
        "    index_1 = np.where(np.array(i) == 1)\n",
        "    index_2 = np.where(np.array(i) == 2)\n",
        "    if abs(index_1[0][0] - index_2[0][0]) == 1:\n",
        "      pool.add(i)\n",
        "len(pool)"
      ]
    },
    {
      "cell_type": "markdown",
      "metadata": {
        "id": "dniww0A-i5Nr"
      },
      "source": [
        "**Задача.**\n",
        "\n",
        "Сколько существует различных машинных (не факт, что имеющих смысл в русском языке) слов, составленных из всех букв слова колокол?\n",
        "\n",
        "$$\n",
        "\\frac{7!}{3!2!2!} = 210 \n",
        "$$"
      ]
    },
    {
      "cell_type": "code",
      "execution_count": null,
      "metadata": {
        "colab": {
          "base_uri": "https://localhost:8080/"
        },
        "id": "LTL2WlWZjLEu",
        "outputId": "4632620d-fecd-4adc-9622-0114fcde6512"
      },
      "outputs": [
        {
          "data": {
            "text/plain": [
              "210"
            ]
          },
          "execution_count": 24,
          "metadata": {},
          "output_type": "execute_result"
        }
      ],
      "source": [
        "word = list('колокол')\n",
        "letters, counts = unique(word, return_counts=True)\n",
        "lib = dict(zip(letters, counts))\n",
        "pool = set()\n",
        "for i in itertools.product(*[unique(word)] * 7):\n",
        "  letters_i, counts_i = unique(i, return_counts=True)\n",
        "  lib_i = dict(zip(letters_i, counts_i))\n",
        "  if lib_i == lib:\n",
        "    pool.add(i)\n",
        "len(pool)"
      ]
    },
    {
      "cell_type": "markdown",
      "metadata": {
        "collapsed": false,
        "id": "CuD7laicfT1H",
        "pycharm": {
          "name": "#%% md\n"
        }
      },
      "source": [
        "### Как моделировать вероятности?"
      ]
    },
    {
      "cell_type": "markdown",
      "metadata": {
        "collapsed": false,
        "id": "pUaD2T3efT1I",
        "pycharm": {
          "name": "#%% md\n"
        }
      },
      "source": [
        "Разберем классическую модель: монетка. У нас есть два элементарных исхода (выпадание орла или решки). Все они имеют одинаковую вероятность (если мы верим в честность монетки), и она равна $1/2$. Никакие два исхода не произойдут одновременно (невозможно, чтобы она выпала сразу и орлом, и решкой). Интуиция подсказывает нам, что если мы будем очень много подбрасывать монетку, то мы должны получить, что количество выпавших орлов примерно равно количеству выпавших решек. Давайте «подкинем» монетку 1000 раз и посмотрим:"
      ]
    },
    {
      "cell_type": "code",
      "execution_count": null,
      "metadata": {
        "colab": {
          "base_uri": "https://localhost:8080/",
          "height": 286
        },
        "collapsed": true,
        "id": "B4pzwE31fT1I",
        "outputId": "9aa16791-c5fa-4ccf-a471-e52d422a7086",
        "pycharm": {
          "name": "#%%\n"
        }
      },
      "outputs": [
        {
          "data": {
            "image/png": "[encoded data removed]",
            "text/plain": [
              "<Figure size 432x288 with 1 Axes>"
            ]
          },
          "metadata": {
            "needs_background": "light"
          },
          "output_type": "display_data"
        }
      ],
      "source": [
        "names, frequencies = unique(choice(['орел', 'решка'], 1000), return_counts=True)\n",
        "\n",
        "plt.bar(names, frequencies)\n",
        "plt.show()"
      ]
    },
    {
      "cell_type": "markdown",
      "metadata": {
        "collapsed": false,
        "id": "rWX7MBRufT1I",
        "pycharm": {
          "name": "#%% md\n"
        }
      },
      "source": [
        "Важно сказать, что чем больше раз мы подкидываем монетку, тем статистически должен быть лучше результат:"
      ]
    },
    {
      "cell_type": "code",
      "execution_count": null,
      "metadata": {
        "colab": {
          "base_uri": "https://localhost:8080/",
          "height": 1000
        },
        "id": "wHSwwBFgfT1I",
        "outputId": "a0d945be-b538-41dd-d092-2256871437d4",
        "pycharm": {
          "name": "#%%\n"
        }
      },
      "outputs": [
        {
          "name": "stdout",
          "output_type": "stream",
          "text": [
            "10\n"
          ]
        },
        {
          "data": {
            "image/png": "[encoded data removed]",
            "text/plain": [
              "<Figure size 432x288 with 1 Axes>"
            ]
          },
          "metadata": {
            "needs_background": "light"
          },
          "output_type": "display_data"
        },
        {
          "name": "stdout",
          "output_type": "stream",
          "text": [
            "100\n"
          ]
        },
        {
          "data": {
            "image/png": "[encoded data removed]",
            "text/plain": [
              "<Figure size 432x288 with 1 Axes>"
            ]
          },
          "metadata": {
            "needs_background": "light"
          },
          "output_type": "display_data"
        },
        {
          "name": "stdout",
          "output_type": "stream",
          "text": [
            "1000\n"
          ]
        },
        {
          "data": {
            "image/png": "[encoded data removed]",
            "text/plain": [
              "<Figure size 432x288 with 1 Axes>"
            ]
          },
          "metadata": {
            "needs_background": "light"
          },
          "output_type": "display_data"
        },
        {
          "name": "stdout",
          "output_type": "stream",
          "text": [
            "10000\n"
          ]
        },
        {
          "data": {
            "image/png": "[encoded data removed]",
            "text/plain": [
              "<Figure size 432x288 with 1 Axes>"
            ]
          },
          "metadata": {
            "needs_background": "light"
          },
          "output_type": "display_data"
        }
      ],
      "source": [
        "for n in [10, 100, 1000, 10000]:\n",
        "    names, frequencies = unique(choice(['орел', 'решка'], n), return_counts=True)\n",
        "    print(n)\n",
        "    plt.bar(names, frequencies)\n",
        "    plt.show()"
      ]
    },
    {
      "cell_type": "markdown",
      "metadata": {
        "id": "tjjyryYOpOZN"
      },
      "source": [
        "### Моделирование вероятностей"
      ]
    },
    {
      "cell_type": "markdown",
      "metadata": {
        "id": "PFKZ6pKSpYqA"
      },
      "source": [
        "**Задача.** В урне 7 белых и 5 красных шаров. Из нее достают один шар и откладывают в сторону. Шар оказался белым. После этого из урны берут еще один шар. Какова вероятность того, что этот шар тоже будет белым?\n",
        "$$\n",
        "\\frac{6}{11} = 0.(54)\n",
        "$$"
      ]
    },
    {
      "cell_type": "code",
      "execution_count": 17,
      "metadata": {
        "colab": {
          "base_uri": "https://localhost:8080/"
        },
        "id": "z3GeeAejpqvj",
        "outputId": "2f75bf20-2cb6-42f8-8423-0b925564a058"
      },
      "outputs": [
        {
          "name": "stdout",
          "output_type": "stream",
          "text": [
            "0.54231\n"
          ]
        }
      ],
      "source": [
        "n = 100000\n",
        "successes = 0\n",
        "for i in range(n):\n",
        "  white_red = [0]*6 + [1]*5\n",
        "  first_try = white_red[np.random.randint(0, len(white_red))]\n",
        "  if first_try == 0:\n",
        "    successes += 1\n",
        "print(successes/n)"
      ]
    },
    {
      "cell_type": "markdown",
      "metadata": {
        "id": "mDkUn_A4rhKN"
      },
      "source": [
        "**Задача.**\n",
        "\n",
        "В урне 7 белых и 5 красных шаров. Наудачу извлекается два шара. Какова вероятность, что извлеченные шары одного цвета?\n",
        "$$\n",
        "\\frac{C_7^2 + C_5^2}{C_{12}^2} = \\frac{31}{66} = 0.4(69)\n",
        "$$"
      ]
    },
    {
      "cell_type": "code",
      "execution_count": 18,
      "metadata": {
        "colab": {
          "base_uri": "https://localhost:8080/"
        },
        "id": "ooHhFoQyrot5",
        "outputId": "beace1fd-5bc4-4717-bd3d-91c326eaf4de"
      },
      "outputs": [
        {
          "name": "stdout",
          "output_type": "stream",
          "text": [
            "0.469353\n"
          ]
        }
      ],
      "source": [
        "n = 1000000\n",
        "successes = 0\n",
        "for i in range(n):\n",
        "  white_red = [0]*7 + [1]*5\n",
        "  first_try = white_red[np.random.randint(0, len(white_red))]\n",
        "  white_red.remove(first_try)\n",
        "  second_try = white_red[np.random.randint(0, len(white_red))]\n",
        "  if first_try == second_try:\n",
        "    successes += 1\n",
        "print(successes/n)"
      ]
    },
    {
      "cell_type": "markdown",
      "metadata": {
        "id": "8YKn--f4sdD6"
      },
      "source": [
        "**Задача.**\n",
        "\n",
        "Колода в 52 карты делится наугад на две равные пачки по 26 листов. Найти вероятности событий:\n",
        "\n",
        "a) A — «в каждой из пачек окажется два туза»\n",
        "\n",
        "б) B — «в одной из пачек будет один туз, а в другой — три».\n",
        "$$\n",
        "a) \\frac{C_4^2C_{48}^{24}}{C_{52}^{26}} = \\frac{325}{833} \\approx 0.390, \\quad b) \\frac{2C_4^1C_{48}^{25}}{C_{52}^{26}} = \\frac{416}{833} \\approx 0.499\n",
        "$$"
      ]
    },
    {
      "cell_type": "code",
      "execution_count": null,
      "metadata": {
        "colab": {
          "base_uri": "https://localhost:8080/"
        },
        "id": "v1UbFFAbtqDp",
        "outputId": "d4b29afd-9ddc-4af3-9840-10e69079abb2"
      },
      "outputs": [
        {
          "name": "stdout",
          "output_type": "stream",
          "text": [
            "0.38995\n"
          ]
        }
      ],
      "source": [
        "n = 100000\n",
        "successes = 0\n",
        "for i in range(n):\n",
        "  places = np.random.choice(list(range(1, 53)), 4, replace=False)\n",
        "  places = np.sort(places)\n",
        "  if (places[1] <= 26) & (places[2] > 26):\n",
        "    successes += 1\n",
        "print(successes / n)"
      ]
    },
    {
      "cell_type": "code",
      "execution_count": null,
      "metadata": {
        "colab": {
          "base_uri": "https://localhost:8080/"
        },
        "id": "6M567iDnwRjE",
        "outputId": "f9cf61cb-85f0-4175-9492-7c643d7ed629"
      },
      "outputs": [
        {
          "name": "stdout",
          "output_type": "stream",
          "text": [
            "0.50105\n"
          ]
        }
      ],
      "source": [
        "n = 100000\n",
        "successes = 0\n",
        "for i in range(n):\n",
        "  places = np.random.choice(list(range(1, 53)), 4, replace=False)\n",
        "  places = np.sort(places)\n",
        "  if ((places[0] <= 26) & (places[1] > 26)) | ((places[2] <= 26) & (places[3] > 26)):\n",
        "    successes += 1\n",
        "print(successes / n)"
      ]
    },
    {
      "cell_type": "markdown",
      "metadata": {
        "id": "th2BKDlhw15H"
      },
      "source": [
        "**Задача.**\n",
        "\n",
        "Ребенок, не умеющий читать, пытается составить из пяти карточек с буквами «б», «а», «н», «а», «н» слово банан. Какова вероятность, что у него это получится?\n",
        "$$\n",
        "\\frac{2! \\cdot 2!}{5!} = \\frac{1}{30} = 0.0(3)\n",
        "$$"
      ]
    },
    {
      "cell_type": "code",
      "execution_count": null,
      "metadata": {
        "colab": {
          "base_uri": "https://localhost:8080/"
        },
        "id": "2vxrY_Xsw94L",
        "outputId": "841e572a-b803-45db-944a-fc889fcb1cdf"
      },
      "outputs": [
        {
          "name": "stdout",
          "output_type": "stream",
          "text": [
            "0.03399\n"
          ]
        }
      ],
      "source": [
        "n = 100000\n",
        "successes = 0\n",
        "word = 'банан'\n",
        "letters = list(word)\n",
        "for i in range(n):\n",
        "  letters = list(word)\n",
        "  current_word = ''\n",
        "  for j in range (len(letters)):\n",
        "    current_symb = letters[np.random.randint(0, len(letters))]\n",
        "    current_word += current_symb\n",
        "    letters.remove(current_symb)\n",
        "  if current_word == word:\n",
        "    successes += 1\n",
        "print(successes / n)"
      ]
    },
    {
      "cell_type": "markdown",
      "metadata": {
        "id": "rIyMF3cnyWOL"
      },
      "source": [
        "**Задача.**\n",
        "\n",
        "Пусть 10 человек случайным образом рассаживаются за круглый стол. Найти вероятность того, что два конкретных человека окажутся рядом.\n",
        "\n",
        "$$\n",
        "\\frac{10 \\cdot 2 \\cdot 8!}{10!} = \\frac{2}{9} \\approx 0.(2)\n",
        "$$"
      ]
    },
    {
      "cell_type": "code",
      "execution_count": 19,
      "metadata": {
        "colab": {
          "base_uri": "https://localhost:8080/"
        },
        "id": "-Jz-DysVyU66",
        "outputId": "d9a7dfc2-44fc-4a0e-c291-a3b7cbaf3771"
      },
      "outputs": [
        {
          "name": "stdout",
          "output_type": "stream",
          "text": [
            "0.22207\n"
          ]
        }
      ],
      "source": [
        "n = 100000\n",
        "successes = 0\n",
        "for i in range(n):\n",
        "  indexes = np.random.choice(list(range(10)), 2, replace=False)\n",
        "  if abs(indexes[0] - indexes[1]) == 1 or abs(indexes[0] - indexes[1]) == 9:\n",
        "    successes += 1\n",
        "print(successes / n) "
      ]
    },
    {
      "cell_type": "markdown",
      "metadata": {
        "id": "e-TP1BhAzIRQ"
      },
      "source": [
        "**Задача.**\n",
        "\n",
        "Пусть 10 человек случайным образом рассаживаются вдоль одного края прямоугольного стола. Найти вероятность того, что два конкретных человека окажутся рядом.\n",
        "\n",
        "$$\n",
        "\\frac{8 \\cdot 2 \\cdot 8! + 2 \\cdot 8!}{10!} = \\frac{1}{5} = 0.2\n",
        "$$"
      ]
    },
    {
      "cell_type": "code",
      "execution_count": null,
      "metadata": {
        "colab": {
          "base_uri": "https://localhost:8080/"
        },
        "id": "mjikxL6PzhIS",
        "outputId": "dd2a4481-7a53-49c0-b09f-5a62fb335498"
      },
      "outputs": [
        {
          "name": "stdout",
          "output_type": "stream",
          "text": [
            "0.2008\n"
          ]
        }
      ],
      "source": [
        "n = 100000\n",
        "successes = 0\n",
        "for i in range(n):\n",
        "  indexes = np.random.choice(list(range(10)), 2, replace=False)\n",
        "  if (abs(indexes[0] - indexes[1]) == 1):\n",
        "    successes += 1\n",
        "print(successes / n) "
      ]
    },
    {
      "cell_type": "markdown",
      "metadata": {
        "id": "9wBMceqgz43Z"
      },
      "source": [
        "**Задача.**\n",
        "\n",
        "В лифт семиэтажного дома на первом этаже вошли четыре человека. Каждый из них может выйти с одинаковой вероятностью на любом этаже, начиная со второго. Найти вероятности событий:\n",
        "\n",
        "а) А — «все пассажиры выйдут на третьем этаже»\n",
        "\n",
        "б) В — «все пассажиры выйдут на одном и том же этаже»\n",
        "\n",
        "в) С — «все пассажиры выйдут на разных этажах»\n",
        "\n",
        "\n",
        "$$\n",
        "a) \\frac{1}{6^4} \\approx 0.00077, \\quad b) \\frac{1}{6^3} \\approx 0.0046, \\quad c) \\frac{10}{6^2} \\approx 0.2(7).\n",
        "$$\n",
        "\n"
      ]
    },
    {
      "cell_type": "code",
      "execution_count": null,
      "metadata": {
        "colab": {
          "base_uri": "https://localhost:8080/"
        },
        "id": "Nvmkyj-y0Whe",
        "outputId": "78487727-2f44-4427-c934-067e238dd69b"
      },
      "outputs": [
        {
          "name": "stdout",
          "output_type": "stream",
          "text": [
            "0.0008\n"
          ]
        }
      ],
      "source": [
        "n = 100000\n",
        "successes = 0\n",
        "for i in range(n):\n",
        "  indexes = np.random.randint(2, 8, 4)\n",
        "  if (indexes == 3).all():\n",
        "    successes += 1\n",
        "print(successes / n)"
      ]
    },
    {
      "cell_type": "code",
      "execution_count": null,
      "metadata": {
        "colab": {
          "base_uri": "https://localhost:8080/"
        },
        "id": "TqdQxt7F3lMj",
        "outputId": "71eee0fa-0359-4db9-a4a6-bac63f757823"
      },
      "outputs": [
        {
          "name": "stdout",
          "output_type": "stream",
          "text": [
            "0.00436\n"
          ]
        }
      ],
      "source": [
        "n = 100000\n",
        "successes = 0\n",
        "for i in range(n):\n",
        "  indexes = np.random.randint(2, 8, 4)\n",
        "  if len(unique(indexes)) == 1:\n",
        "    successes += 1\n",
        "print(successes / n)"
      ]
    },
    {
      "cell_type": "code",
      "execution_count": null,
      "metadata": {
        "colab": {
          "base_uri": "https://localhost:8080/"
        },
        "id": "E4Z4m4ws3XhV",
        "outputId": "060a3782-5e52-44d6-c31f-3d0b797c1c77"
      },
      "outputs": [
        {
          "name": "stdout",
          "output_type": "stream",
          "text": [
            "0.27658\n"
          ]
        }
      ],
      "source": [
        "n = 100000\n",
        "successes = 0\n",
        "for i in range(n):\n",
        "  indexes = np.random.randint(2, 8, 4)\n",
        "  if len(unique(indexes)) == 4:\n",
        "    successes += 1\n",
        "print(successes / n)"
      ]
    },
    {
      "cell_type": "markdown",
      "metadata": {
        "collapsed": false,
        "id": "etb3UlokfT1N",
        "pycharm": {
          "name": "#%% md\n"
        }
      },
      "source": [
        "### Условная вероятность"
      ]
    },
    {
      "cell_type": "markdown",
      "metadata": {
        "collapsed": false,
        "id": "0hvc5xNufT1N",
        "pycharm": {
          "name": "#%% md\n"
        }
      },
      "source": [
        "**Задача.**\n",
        "\n",
        "Статистика запросов кредитов в банке такова: 10% — государственные организации, 20% — другие банки, 70% — физические лица. Вероятности того, что взятый кредит не будет возвращен равны 0.01, 0.05 и 0.2, соответственно.\n",
        "\n",
        "1. Найти вероятность события A  — «случайным образом взятый кредит не возвращен»\n",
        "\n",
        "2. Известно, что кредит не возвращен. Какова вероятность, что заемщик — банк?\n",
        "\n",
        "$$\n",
        "a) \\ 0.01 \\cdot 0.1 + 0.05 \\cdot 0.2 + 0.2 \\cdot 0.7 = 0.151, \\quad b) \\ \\frac{0.01}{0.151} \\approx 0.066.\n",
        "$$"
      ]
    },
    {
      "cell_type": "code",
      "execution_count": null,
      "metadata": {
        "colab": {
          "base_uri": "https://localhost:8080/"
        },
        "id": "skMzxkDTFH4l",
        "outputId": "62dea5c8-23bd-4c69-d7a6-1f5049e56dfb"
      },
      "outputs": [
        {
          "name": "stdout",
          "output_type": "stream",
          "text": [
            "0.150921089999797\n"
          ]
        }
      ],
      "source": [
        "n = 1000000\n",
        "clients = [0]*10 + [1]*20 + [2]*70\n",
        "bads = [0.01, 0.05, 0.2]\n",
        "successes = 0\n",
        "for i in range(n):\n",
        "  index = np.random.randint(0, len(clients))\n",
        "  successes += bads[clients[index]]\n",
        "print(successes / n)"
      ]
    },
    {
      "cell_type": "code",
      "execution_count": null,
      "metadata": {
        "id": "nULDCqr5INGt"
      },
      "outputs": [],
      "source": [
        "n = 100000\n",
        "successes = 0\n",
        "credit_not_returned = {0: 0.01, 1: 0.05, 2: 0.2}\n",
        "for _ in range(n):\n",
        "  while True:\n",
        "    client = np.random.choice([0, 1, 2], 1, p=[0.1, 0.2, 0.7])[0]\n",
        "    is_credit_returned = np.random.choice([False, True], 1, p=[credit_not_returned[client], 1 - credit_not_returned[client]])[0]\n",
        "    if not is_credit_returned:\n",
        "      break\n",
        "  if client == 1:\n",
        "    successes += 1\n",
        "print(successes / n)"
      ]
    }
  ],
  "metadata": {
    "colab": {
      "provenance": []
    },
    "kernelspec": {
      "display_name": "base",
      "language": "python",
      "name": "python3"
    },
    "language_info": {
      "codemirror_mode": {
        "name": "ipython",
        "version": 2
      },
      "file_extension": ".py",
      "mimetype": "text/x-python",
      "name": "python",
      "nbconvert_exporter": "python",
      "pygments_lexer": "ipython2",
      "version": "3.8.5 (default, Sep  4 2020, 02:22:02) \n[Clang 10.0.0 ]"
    },
    "vscode": {
      "interpreter": {
        "hash": "40d3a090f54c6569ab1632332b64b2c03c39dcf918b08424e98f38b5ae0af88f"
      }
    }
  },
  "nbformat": 4,
  "nbformat_minor": 0
}
