{
  "cells": [
    {
      "cell_type": "code",
      "execution_count": 2,
      "metadata": {
        "id": "sV37SlgYHGpk"
      },
      "outputs": [],
      "source": [
        "import pandas as pd\n",
        "import numpy as np\n",
        "import scipy.stats as st\n",
        "from scipy.stats import chi2\n"
      ]
    },
    {
      "cell_type": "markdown",
      "metadata": {
        "id": "7xQGuKVKHGpm"
      },
      "source": [
        "На заводе по производству ультрапастеризованного молока, молоко в бутылки заливается автоматически. Количество миллилитров молока в каждой бутылке имеет известное среднее a=998, но неизвестный разброс. В выборке представлены данные об объеме налитого в бутылки молока. Считая, что рассматривается нормальное распределение N_998, tette."
      ]
    },
    {
      "cell_type": "code",
      "execution_count": 3,
      "metadata": {
        "colab": {
          "base_uri": "https://localhost:8080/",
          "height": 424
        },
        "id": "pz49N2WZHGpo",
        "outputId": "1e4ef905-5cf7-490f-983a-4c48f79dcd6f"
      },
      "outputs": [
        {
          "data": {
            "text/html": [
              "\n",
              "  <div id=\"df-11ffcb33-a013-43e5-9812-b4940c20c768\">\n",
              "    <div class=\"colab-df-container\">\n",
              "      <div>\n",
              "<style scoped>\n",
              "    .dataframe tbody tr th:only-of-type {\n",
              "        vertical-align: middle;\n",
              "    }\n",
              "\n",
              "    .dataframe tbody tr th {\n",
              "        vertical-align: top;\n",
              "    }\n",
              "\n",
              "    .dataframe thead th {\n",
              "        text-align: right;\n",
              "    }\n",
              "</style>\n",
              "<table border=\"1\" class=\"dataframe\">\n",
              "  <thead>\n",
              "    <tr style=\"text-align: right;\">\n",
              "      <th></th>\n",
              "      <th>0</th>\n",
              "    </tr>\n",
              "  </thead>\n",
              "  <tbody>\n",
              "    <tr>\n",
              "      <th>0</th>\n",
              "      <td>1018.394</td>\n",
              "    </tr>\n",
              "    <tr>\n",
              "      <th>1</th>\n",
              "      <td>977.051</td>\n",
              "    </tr>\n",
              "    <tr>\n",
              "      <th>2</th>\n",
              "      <td>1014.388</td>\n",
              "    </tr>\n",
              "    <tr>\n",
              "      <th>3</th>\n",
              "      <td>1002.788</td>\n",
              "    </tr>\n",
              "    <tr>\n",
              "      <th>4</th>\n",
              "      <td>978.630</td>\n",
              "    </tr>\n",
              "    <tr>\n",
              "      <th>...</th>\n",
              "      <td>...</td>\n",
              "    </tr>\n",
              "    <tr>\n",
              "      <th>9995</th>\n",
              "      <td>995.245</td>\n",
              "    </tr>\n",
              "    <tr>\n",
              "      <th>9996</th>\n",
              "      <td>995.158</td>\n",
              "    </tr>\n",
              "    <tr>\n",
              "      <th>9997</th>\n",
              "      <td>999.062</td>\n",
              "    </tr>\n",
              "    <tr>\n",
              "      <th>9998</th>\n",
              "      <td>973.964</td>\n",
              "    </tr>\n",
              "    <tr>\n",
              "      <th>9999</th>\n",
              "      <td>995.452</td>\n",
              "    </tr>\n",
              "  </tbody>\n",
              "</table>\n",
              "<p>10000 rows × 1 columns</p>\n",
              "</div>\n",
              "      <button class=\"colab-df-convert\" onclick=\"convertToInteractive('df-11ffcb33-a013-43e5-9812-b4940c20c768')\"\n",
              "              title=\"Convert this dataframe to an interactive table.\"\n",
              "              style=\"display:none;\">\n",
              "        \n",
              "  <svg xmlns=\"http://www.w3.org/2000/svg\" height=\"24px\"viewBox=\"0 0 24 24\"\n",
              "       width=\"24px\">\n",
              "    <path d=\"M0 0h24v24H0V0z\" fill=\"none\"/>\n",
              "    <path d=\"M18.56 5.44l.94 2.06.94-2.06 2.06-.94-2.06-.94-.94-2.06-.94 2.06-2.06.94zm-11 1L8.5 8.5l.94-2.06 2.06-.94-2.06-.94L8.5 2.5l-.94 2.06-2.06.94zm10 10l.94 2.06.94-2.06 2.06-.94-2.06-.94-.94-2.06-.94 2.06-2.06.94z\"/><path d=\"M17.41 7.96l-1.37-1.37c-.4-.4-.92-.59-1.43-.59-.52 0-1.04.2-1.43.59L10.3 9.45l-7.72 7.72c-.78.78-.78 2.05 0 2.83L4 21.41c.39.39.9.59 1.41.59.51 0 1.02-.2 1.41-.59l7.78-7.78 2.81-2.81c.8-.78.8-2.07 0-2.86zM5.41 20L4 18.59l7.72-7.72 1.47 1.35L5.41 20z\"/>\n",
              "  </svg>\n",
              "      </button>\n",
              "      \n",
              "  <style>\n",
              "    .colab-df-container {\n",
              "      display:flex;\n",
              "      flex-wrap:wrap;\n",
              "      gap: 12px;\n",
              "    }\n",
              "\n",
              "    .colab-df-convert {\n",
              "      background-color: #E8F0FE;\n",
              "      border: none;\n",
              "      border-radius: 50%;\n",
              "      cursor: pointer;\n",
              "      display: none;\n",
              "      fill: #1967D2;\n",
              "      height: 32px;\n",
              "      padding: 0 0 0 0;\n",
              "      width: 32px;\n",
              "    }\n",
              "\n",
              "    .colab-df-convert:hover {\n",
              "      background-color: #E2EBFA;\n",
              "      box-shadow: 0px 1px 2px rgba(60, 64, 67, 0.3), 0px 1px 3px 1px rgba(60, 64, 67, 0.15);\n",
              "      fill: #174EA6;\n",
              "    }\n",
              "\n",
              "    [theme=dark] .colab-df-convert {\n",
              "      background-color: #3B4455;\n",
              "      fill: #D2E3FC;\n",
              "    }\n",
              "\n",
              "    [theme=dark] .colab-df-convert:hover {\n",
              "      background-color: #434B5C;\n",
              "      box-shadow: 0px 1px 3px 1px rgba(0, 0, 0, 0.15);\n",
              "      filter: drop-shadow(0px 1px 2px rgba(0, 0, 0, 0.3));\n",
              "      fill: #FFFFFF;\n",
              "    }\n",
              "  </style>\n",
              "\n",
              "      <script>\n",
              "        const buttonEl =\n",
              "          document.querySelector('#df-11ffcb33-a013-43e5-9812-b4940c20c768 button.colab-df-convert');\n",
              "        buttonEl.style.display =\n",
              "          google.colab.kernel.accessAllowed ? 'block' : 'none';\n",
              "\n",
              "        async function convertToInteractive(key) {\n",
              "          const element = document.querySelector('#df-11ffcb33-a013-43e5-9812-b4940c20c768');\n",
              "          const dataTable =\n",
              "            await google.colab.kernel.invokeFunction('convertToInteractive',\n",
              "                                                     [key], {});\n",
              "          if (!dataTable) return;\n",
              "\n",
              "          const docLinkHtml = 'Like what you see? Visit the ' +\n",
              "            '<a target=\"_blank\" href=https://colab.research.google.com/notebooks/data_table.ipynb>data table notebook</a>'\n",
              "            + ' to learn more about interactive tables.';\n",
              "          element.innerHTML = '';\n",
              "          dataTable['output_type'] = 'display_data';\n",
              "          await google.colab.output.renderOutput(dataTable, element);\n",
              "          const docLink = document.createElement('div');\n",
              "          docLink.innerHTML = docLinkHtml;\n",
              "          element.appendChild(docLink);\n",
              "        }\n",
              "      </script>\n",
              "    </div>\n",
              "  </div>\n",
              "  "
            ],
            "text/plain": [
              "             0\n",
              "0     1018.394\n",
              "1      977.051\n",
              "2     1014.388\n",
              "3     1002.788\n",
              "4      978.630\n",
              "...        ...\n",
              "9995   995.245\n",
              "9996   995.158\n",
              "9997   999.062\n",
              "9998   973.964\n",
              "9999   995.452\n",
              "\n",
              "[10000 rows x 1 columns]"
            ]
          },
          "execution_count": 3,
          "metadata": {},
          "output_type": "execute_result"
        }
      ],
      "source": [
        "df = pd.read_csv('http://de.ifmo.ru/--openedu/appliedstatistics/course2019/ex2/Normal_172.csv', header=None)\n",
        "df"
      ]
    },
    {
      "cell_type": "code",
      "execution_count": 5,
      "metadata": {
        "id": "v52K8ZEhHGpr"
      },
      "outputs": [],
      "source": [
        "m=998"
      ]
    },
    {
      "cell_type": "code",
      "execution_count": 7,
      "metadata": {
        "colab": {
          "base_uri": "https://localhost:8080/"
        },
        "id": "FEaEmh2XHGpt",
        "outputId": "e797bced-9861-4ada-ac03-c3d7af31217d"
      },
      "outputs": [
        {
          "name": "stdout",
          "output_type": "stream",
          "text": [
            "Quantil C1 9724.718377389798\n",
            "Quantil C2 10279.07017988759\n"
          ]
        }
      ],
      "source": [
        "c1 = chi2.ppf(0.05/2, 10000)\n",
        "c2=chi2.ppf(1-0.05/2, 10000)\n",
        "print(\"Quantil C1\", c1)\n",
        "print(\"Quantil C2\", c2)"
      ]
    },
    {
      "cell_type": "markdown",
      "metadata": {
        "id": "Y5BHZlQplEW8"
      },
      "source": [
        "Нас просят доверительный интерваля для $\\theta$ с учетом того, что $\\mathsf{N}_{998,\\theta}$. То есть доверительный интервал для сигма квадрат. При известном $a$. Текстовые материалы, страница 9, пункт 1.1.3\n",
        "\n",
        "![image.png](data:image/png;base64,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)"
      ]
    },
    {
      "cell_type": "code",
      "execution_count": 12,
      "metadata": {
        "colab": {
          "base_uri": "https://localhost:8080/"
        },
        "id": "1OjG3Ha9lDrF",
        "outputId": "ad7d18c2-5e16-4c6e-d90c-18ab2e8770b0"
      },
      "outputs": [
        {
          "name": "stdout",
          "output_type": "stream",
          "text": [
            "Левая граница 293.2965408633854\n"
          ]
        }
      ],
      "source": [
        "thetha_minus = sum((df[0]-m)**2)/c2\n",
        "print(\"Левая граница\", thetha_minus)"
      ]
    },
    {
      "cell_type": "code",
      "execution_count": 13,
      "metadata": {
        "colab": {
          "base_uri": "https://localhost:8080/"
        },
        "id": "1tgVEfo9l_Cq",
        "outputId": "91bfcf03-1270-4b79-a568-5ec14cbdaa7c"
      },
      "outputs": [
        {
          "name": "stdout",
          "output_type": "stream",
          "text": [
            "Правая граница 310.01573619473913\n"
          ]
        }
      ],
      "source": [
        "theta_plus = sum((df[0]-m)**2)/c1\n",
        "print(\"Правая граница\", theta_plus)"
      ]
    },
    {
      "cell_type": "markdown",
      "metadata": {
        "id": "vwJaiwk5m7QY"
      },
      "source": [
        "Минимальное количество молока можно ожидать при наибольшем разбросе от среднего, равного 998. Но нужна не сигма квадрат, а просто сигма (СКВО)"
      ]
    },
    {
      "cell_type": "code",
      "execution_count": 10,
      "metadata": {
        "colab": {
          "base_uri": "https://localhost:8080/"
        },
        "id": "0r3PifJmnGmI",
        "outputId": "449315a3-8b7a-4736-b847-9edd190c9bf0"
      },
      "outputs": [
        {
          "data": {
            "text/plain": [
              "980.3927362661105"
            ]
          },
          "execution_count": 10,
          "metadata": {},
          "output_type": "execute_result"
        }
      ],
      "source": [
        "m-theta_plus**0.5"
      ]
    }
  ],
  "metadata": {
    "colab": {
      "provenance": []
    },
    "kernelspec": {
      "display_name": "base",
      "language": "python",
      "name": "python3"
    },
    "language_info": {
      "codemirror_mode": {
        "name": "ipython",
        "version": 3
      },
      "file_extension": ".py",
      "mimetype": "text/x-python",
      "name": "python",
      "nbconvert_exporter": "python",
      "pygments_lexer": "ipython3",
      "version": "3.8.5"
    },
    "orig_nbformat": 4,
    "vscode": {
      "interpreter": {
        "hash": "40d3a090f54c6569ab1632332b64b2c03c39dcf918b08424e98f38b5ae0af88f"
      }
    }
  },
  "nbformat": 4,
  "nbformat_minor": 0
}
