{
 "cells": [
  {
   "cell_type": "code",
   "execution_count": 2,
   "metadata": {},
   "outputs": [],
   "source": [
    "import sympy as sp\n",
    "import numpy as np\n",
    "from matplotlib import pyplot as plt"
   ]
  },
  {
   "attachments": {},
   "cell_type": "markdown",
   "metadata": {},
   "source": [
    "### Задача.\n",
    "\n",
    "---\n",
    "\n",
    "Пусть случайная величина $\\xi$ имеет абсолютно непрерывное распределение с плотностью\n",
    "\n",
    "$$\n",
    "f_\\xi(x) = \\begin{cases}\n",
    " cx^5,\\quad & x \\in [2, 13] \\\\\n",
    " 0,\\quad & x \\notin [2,13]\n",
    " \\end{cases}\n",
    "$$\n",
    "\n",
    "Найти: c, Exi,Dxi .\n",
    "\n",
    "---\n",
    "\n",
    "---"
   ]
  },
  {
   "cell_type": "code",
   "execution_count": 29,
   "metadata": {},
   "outputs": [
    {
     "data": {
      "text/plain": [
       "[2/1608915]"
      ]
     },
     "execution_count": 29,
     "metadata": {},
     "output_type": "execute_result"
    }
   ],
   "source": [
    "# Находим С\n",
    "x, c = sp.Symbol('x'), sp.Symbol('c')\n",
    "\n",
    "sp.solvers.solve(sp.Integral(c * x ** 5, (x, 2, 13)).doit()-1,c)"
   ]
  },
  {
   "cell_type": "code",
   "execution_count": 52,
   "metadata": {},
   "outputs": [
    {
     "data": {
      "text/latex": [
       "$\\displaystyle 11.1429821605598$"
      ],
      "text/plain": [
       "11.1429821605598"
      ]
     },
     "execution_count": 52,
     "metadata": {},
     "output_type": "execute_result"
    }
   ],
   "source": [
    "#Мат ожидание  Exi=+∞∫︁−∞x*f_xi(x)dx. Когда не дана \"n\" Xi принимается за X (на выяснение этого я потратила 3 часа)\n",
    "xi_expected = sp.Integral(x*((2/1608915)*x**5), (x, 2, 13)).doit().simplify()\n",
    "xi_expected"
   ]
  },
  {
   "cell_type": "code",
   "execution_count": 54,
   "metadata": {},
   "outputs": [
    {
     "data": {
      "text/plain": [
       "2.5855894267929926"
      ]
     },
     "execution_count": 54,
     "metadata": {},
     "output_type": "execute_result"
    }
   ],
   "source": [
    "#Дисперсия вычисляется по формуле   Dxi=+∞∫︁−∞x**2*f_xi(x)dx - E f_xi(x)\n",
    "xi_squared_expected = sp.Integral(x**2*((2/1608915)*x**5), (x, 2, 13)).doit()\n",
    "float(xi_squared_expected - xi_expected**2)"
   ]
  }
 ],
 "metadata": {
  "kernelspec": {
   "display_name": "base",
   "language": "python",
   "name": "python3"
  },
  "language_info": {
   "codemirror_mode": {
    "name": "ipython",
    "version": 3
   },
   "file_extension": ".py",
   "mimetype": "text/x-python",
   "name": "python",
   "nbconvert_exporter": "python",
   "pygments_lexer": "ipython3",
   "version": "3.8.5"
  },
  "orig_nbformat": 4,
  "vscode": {
   "interpreter": {
    "hash": "40d3a090f54c6569ab1632332b64b2c03c39dcf918b08424e98f38b5ae0af88f"
   }
  }
 },
 "nbformat": 4,
 "nbformat_minor": 2
}
