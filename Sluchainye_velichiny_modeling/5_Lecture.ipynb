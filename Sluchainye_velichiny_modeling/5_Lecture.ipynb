{
  "cells": [
    {
      "cell_type": "code",
      "execution_count": 4,
      "metadata": {
        "collapsed": true,
        "id": "oxCjey4IJbri",
        "pycharm": {
          "name": "#%%\n"
        }
      },
      "outputs": [],
      "source": [
        "import sympy as sp\n",
        "import numpy as np\n",
        "from matplotlib import pyplot as plt"
      ]
    },
    {
      "cell_type": "markdown",
      "metadata": {
        "collapsed": false,
        "id": "Ua_r0bkpJbrj",
        "pycharm": {
          "name": "#%% md\n"
        }
      },
      "source": [
        "---\n",
        "# Числовые характеристики, сходимость\n",
        "---\n"
      ]
    },
    {
      "cell_type": "markdown",
      "metadata": {
        "collapsed": false,
        "id": "wHHPCKS2Jbrk",
        "pycharm": {
          "name": "#%% md\n"
        }
      },
      "source": [
        "### Задача.\n",
        "\n",
        "---\n",
        "\n",
        "Пусть случайная величина $\\xi$ имеет абсолютно непрерывное распределение с плотностью\n",
        "\n",
        "$$\n",
        "f_\\xi(x) = \\begin{cases}\n",
        " 2x,\\quad & x \\in [0, 1] \\\\\n",
        " 0,\\quad & x \\notin [0,1]\n",
        " \\end{cases}\n",
        "$$\n",
        "\n",
        "Найти математическое ожидание случайной величины $\\eta=2^x$.\n",
        "\n",
        "---\n",
        "\n",
        "$$\n",
        "\\mathbb E(2^\\xi) = \\int\\limits_{-\\infty}^{+\\infty}2^x f_\\xi(x) dx = 2 \\int\\limits_0^1 2^x x dx=\\dfrac{4}{\\log 2}-\\dfrac{2}{\\log ^ 2 2}\n",
        "$$\n",
        "\n",
        "---"
      ]
    },
    {
      "cell_type": "code",
      "execution_count": 6,
      "metadata": {
        "id": "MuBT5Ci-Jbrl",
        "outputId": "c3f15879-c87c-4798-a310-95f780e0f717",
        "pycharm": {
          "name": "#%%\n"
        }
      },
      "outputs": [
        {
          "data": {
            "text/latex": [
              "$\\displaystyle \\frac{2 \\left(-1 + 2 \\log{\\left(2 \\right)}\\right)}{\\log{\\left(2 \\right)}^{2}}$"
            ],
            "text/plain": [
              "2*(-1 + 2*log(2))/log(2)**2"
            ]
          },
          "execution_count": 6,
          "metadata": {},
          "output_type": "execute_result"
        }
      ],
      "source": [
        "x = sp.Symbol('x')\n",
        "sp.Integral(2 * x * 2 ** x, (x, 0, 1)).doit().simplify()"
      ]
    },
    {
      "cell_type": "markdown",
      "metadata": {
        "collapsed": false,
        "id": "H7HuCX68Jbrl",
        "pycharm": {
          "name": "#%% md\n"
        }
      },
      "source": [
        "### Задача.\n",
        "\n",
        "---\n",
        "\n",
        "Пусть случайная величина $\\xi$ имеет абсолютно непрерывное распределение с плотностью\n",
        "\n",
        "$$\n",
        "f_\\xi(x) = \\begin{cases}\n",
        " 2x,\\quad & x \\in [0, 1] \\\\\n",
        " 0,\\quad & x \\notin [0,1]\n",
        " \\end{cases}\n",
        "$$\n",
        "\n",
        "Найти медиану случайной величины $\\xi$.\n",
        "\n",
        "---\n",
        "\n",
        "$$\n",
        "F_\\xi(x) =\n",
        "  \\begin{cases}\n",
        " 0, & x \\leq 0 \\\\\n",
        " x^2, & 0 < x \\leq 1\\\\\n",
        " 1, & x > 1\n",
        " \\end{cases}\n",
        "$$\n",
        "\n",
        "$$\n",
        "x^2=\\dfrac 1 2\\quad\\Rightarrow\\quad x=\\dfrac{\\sqrt{2}}{2}\n",
        "$$\n",
        "\n",
        "---\n"
      ]
    },
    {
      "cell_type": "code",
      "execution_count": 9,
      "metadata": {
        "id": "hwQi5mTYJbrm",
        "outputId": "739ce860-cfff-458a-eeb6-a2219ba57870",
        "pycharm": {
          "name": "#%%\n"
        }
      },
      "outputs": [
        {
          "data": {
            "text/plain": [
              "[-0.707106781186548, 0.707106781186548]"
            ]
          },
          "execution_count": 9,
          "metadata": {},
          "output_type": "execute_result"
        }
      ],
      "source": [
        "x = sp.Symbol('x')\n",
        "sp.solve(\n",
        "    sp.Integral(2 * x, x).doit() - 1 / 2,\n",
        "    x\n",
        ")"
      ]
    },
    {
      "cell_type": "markdown",
      "metadata": {
        "collapsed": false,
        "id": "ST9kGCTIJbrm",
        "pycharm": {
          "name": "#%% md\n"
        }
      },
      "source": [
        "### Задача.\n",
        "\n",
        "---\n",
        "\n",
        "Пусть $\\xi_1\\sim\\mathsf G_{0.2}$, $\\xi_2\\sim\\mathsf \\Pi_2$, $\\xi_3\\sim \\mathsf{Exp}_2$, $\\xi_4\\sim \\mathsf U_{2,4}$, $\\xi_5\\sim \\mathsf N_{2,9}$.\n",
        "\n",
        "Найти $\\mathbb E(3 \\xi_1 + \\xi_2 - 4 \\xi_3 - 2 \\xi_4 - \\xi_5)$.\n",
        "\n",
        "---\n",
        "$$\n",
        "\\mathbb E(3 \\xi_1 + \\xi_2 - 4 \\xi_3 - 2 \\xi_4 - \\xi_5) = \\\\\n",
        "= 3 \\mathbb E \\xi_1 + 2 \\mathbb E \\xi_2 - 4 \\mathbb E \\xi_3 - 2 \\mathbb E \\xi_4 - \\mathbb E \\xi_5 =\\\\\n",
        "= 3 \\cdot \\dfrac 1 p + 2 \\cdot \\lambda - 4\\cdot \\dfrac 1 \\lambda - 2 \\cdot \\dfrac{b-a}{2}-a=\\\\\n",
        "=3\\cdot 5 + 2\\cdot 2 - 4\\cdot 5 - 2\\cdot 1 - 2 = 7\n",
        "$$\n",
        "---"
      ]
    },
    {
      "cell_type": "code",
      "execution_count": null,
      "metadata": {
        "id": "GFbtBzS2Jbrn",
        "outputId": "7d84b5cd-d48e-465a-b77a-486dc55b913d",
        "pycharm": {
          "name": "#%%\n"
        }
      },
      "outputs": [
        {
          "data": {
            "text/latex": [
              "$\\displaystyle 7.00000000000001$"
            ],
            "text/plain": [
              "7.00000000000001"
            ]
          },
          "execution_count": 4,
          "metadata": {},
          "output_type": "execute_result"
        }
      ],
      "source": [
        "x = sp.Symbol('x')\n",
        "\n",
        "xi_1_exp = sp.Sum(x * 0.2 * 0.8 ** (x - 1), (x, 0, +sp.oo)).doit()\n",
        "xi_2_exp = sp.Sum(x * 2 ** x * sp.exp(-2) / sp.factorial(x), (x, 0, +sp.oo)).doit()\n",
        "xi_3_exp = sp.Integral(x * 2 * sp.exp(-2 * x), (x, 0, +sp.oo)).doit()\n",
        "xi_4_exp = sp.Integral(x * 1 / (4 - 2), (x, 2, 4)).doit()\n",
        "xi_5_exp = sp.Integral(x * sp.exp(-(x - 2) ** 2 / (2 * 9)) / (3 * sp.sqrt(2 * sp.pi)), (x, -sp.oo, +sp.oo)).doit()\n",
        "\n",
        "3 * xi_1_exp + xi_2_exp - 4 * xi_3_exp - 2 * xi_4_exp - xi_5_exp"
      ]
    },
    {
      "cell_type": "markdown",
      "metadata": {
        "collapsed": false,
        "id": "8httUU7EJbrn",
        "pycharm": {
          "name": "#%% md\n"
        }
      },
      "source": [
        "### Задача.\n",
        "\n",
        "---\n",
        "\n",
        "Пусть случайная величина $\\xi$ имеет абсолютно непрерывное распределение с плотностью\n",
        "\n",
        "$$\n",
        "f_\\xi(x) = \\begin{cases}\n",
        " 2x,\\quad & x \\in [0, 1] \\\\\n",
        " 0,\\quad & x \\notin [0,1]\n",
        " \\end{cases}\n",
        "$$\n",
        "\n",
        "Найти дисперсию случайной величины $\\eta=2^\\xi$.\n",
        "\n",
        "---\n",
        "\n",
        "$$\\mathbb D \\eta = \\mathbb E \\eta^2 - (\\mathbb E \\eta)^2$$\n",
        "\n",
        "$$\\mathbb E \\left(2^{2\\xi}\\right) = \\int\\limits_{-\\infty}^{+\\infty} 2^{2x} f_\\xi(x) dx = 2\\int\\limits_0^1 2^{2x}xdx = \\frac{8\\ln 2 - 3}{2\\ln^2 2}$$\n",
        "\n",
        "$$\\mathbb D \\eta = \\frac{8\\ln 2 - 3}{2\\ln^2 2} - \\left(\\frac{4 \\ln 2 - 2}{\\ln^2 2} \\right)^2$$\n",
        "\n",
        "---"
      ]
    },
    {
      "cell_type": "markdown",
      "metadata": {
        "id": "MkGJJRFyLDLs"
      },
      "source": []
    },
    {
      "cell_type": "code",
      "execution_count": null,
      "metadata": {
        "id": "3EQWgIqFJbrn",
        "outputId": "b8f3eb9d-319c-49bf-d077-8933efedd12e",
        "pycharm": {
          "name": "#%%\n"
        }
      },
      "outputs": [
        {
          "data": {
            "text/plain": [
              "0.06292697009891565"
            ]
          },
          "execution_count": 5,
          "metadata": {},
          "output_type": "execute_result"
        }
      ],
      "source": [
        "x = sp.Symbol('x')\n",
        "\n",
        "xi_expected = sp.Integral(2 * x * 2 ** x, (x, 0, 1)).doit()\n",
        "xi_squared_expected = sp.Integral(2 * x * 2 ** (2 * x), (x, 0, 1)).doit()\n",
        "float(xi_squared_expected - xi_expected ** 2)"
      ]
    },
    {
      "cell_type": "markdown",
      "metadata": {
        "collapsed": false,
        "id": "b7ePRdneJbro",
        "pycharm": {
          "name": "#%% md\n"
        }
      },
      "source": [
        "### Задача.\n",
        "\n",
        "---\n",
        "\n",
        "Пусть $\\xi_1\\sim\\mathsf G_{0.2}$, $\\xi_2\\sim\\mathsf \\Pi_2$, $\\xi_3\\sim \\mathsf{Exp}_2$, $\\xi_4\\sim \\mathsf U_{2,4}$, $\\xi_5\\sim \\mathsf N_{2,9}$, и случайные величины независимы.\n",
        "\n",
        "Найти $\\mathbb D(3 \\xi_1 + \\xi_2 - 4 \\xi_3 - 2 \\xi_4 - \\xi_5)$.\n",
        "\n",
        "---"
      ]
    },
    {
      "cell_type": "code",
      "execution_count": null,
      "metadata": {
        "id": "5ooQSZutJbro",
        "outputId": "93b5c36c-afc9-4b8c-f142-54ace2748e92",
        "pycharm": {
          "name": "#%%\n"
        }
      },
      "outputs": [
        {
          "data": {
            "text/latex": [
              "$\\displaystyle 51.3333333333333$"
            ],
            "text/plain": [
              "51.3333333333333"
            ]
          },
          "execution_count": 6,
          "metadata": {},
          "output_type": "execute_result"
        }
      ],
      "source": [
        "xi_sq_1_exp = sp.Sum(x ** 2 * 0.2 * 0.8 ** (x - 1), (x, 0, +sp.oo)).doit()\n",
        "xi_sq_2_exp = sp.Sum(x ** 2 * 2 ** x * sp.exp(-2) / sp.factorial(x), (x, 0, +sp.oo)).doit()\n",
        "xi_sq_3_exp = sp.Integral(x ** 2 * 2 * sp.exp(-2 * x), (x, 0, +sp.oo)).doit()\n",
        "xi_sq_4_exp = sp.Integral(x ** 2 * 1 / (4 - 2), (x, 2, 4)).doit()\n",
        "xi_sq_5_exp = sp.Integral(x ** 2 * sp.exp(-(x - 2) ** 2 / (2 * 9)) / (3 * sp.sqrt(2 * sp.pi)), (x, -sp.oo, +sp.oo)).doit()\n",
        "\n",
        "xi_1_disp = xi_sq_1_exp - xi_1_exp ** 2\n",
        "xi_2_disp = xi_sq_2_exp - xi_2_exp ** 2\n",
        "xi_3_disp = xi_sq_3_exp - xi_3_exp ** 2\n",
        "xi_4_disp = xi_sq_4_exp - xi_4_exp ** 2\n",
        "xi_5_disp = xi_sq_5_exp - xi_5_exp ** 2\n",
        "\n",
        "3 * xi_1_disp + xi_2_disp - 4 * xi_3_disp - 2 * xi_4_disp - xi_5_disp"
      ]
    },
    {
      "cell_type": "markdown",
      "metadata": {
        "collapsed": false,
        "id": "FpDGKLucJbrp",
        "pycharm": {
          "name": "#%% md\n"
        }
      },
      "source": [
        "---\n",
        "# Закон больших чисел и центральная предельная теорема\n",
        "---"
      ]
    },
    {
      "cell_type": "markdown",
      "metadata": {
        "collapsed": false,
        "id": "QBp3cOyrJbrp",
        "pycharm": {
          "name": "#%% md\n"
        }
      },
      "source": [
        "### Моделирование закона больших чисел\n",
        "\n",
        "---\n",
        "\n",
        "Пусть $\\xi_1$, ..., $\\xi_n$, ... — последовательность попарно независимых и одинаково распределенных случайных величин, причем существует второй момент $\\mathbb E\\xi_1^2$. Тогда\n",
        "\n",
        "$$\n",
        "\\forall \\varepsilon > 0\\quad \\lim\\limits_{n\\to\\infty} \\mathbb P\\left( \\left| \\dfrac {S_n}{n} - \\mathbb E\\xi_1 \\right| > \\varepsilon \\right)=0\n",
        "$$\n",
        "\n",
        "---"
      ]
    },
    {
      "cell_type": "code",
      "execution_count": null,
      "metadata": {
        "id": "6LvTpJ77Jbrp",
        "outputId": "8690d830-d235-47aa-a6bb-f1b731330191",
        "pycharm": {
          "name": "#%%\n"
        }
      },
      "outputs": [
        {
          "data": {
            "image/png": "[encoded data removed]",
            "text/plain": [
              "<Figure size 360x720 with 3 Axes>"
            ]
          },
          "metadata": {
            "needs_background": "light"
          },
          "output_type": "display_data"
        },
        {
          "data": {
            "text/plain": [
              "(3.001698329617454, 3)"
            ]
          },
          "execution_count": 7,
          "metadata": {},
          "output_type": "execute_result"
        }
      ],
      "source": [
        "a, sigma_2 = 3, 5\n",
        "t, n = 100000, 100\n",
        "\n",
        "S_n = np.random.normal(a, sigma_2, (n, t))\n",
        "\n",
        "fig, axes = plt.subplots(3)\n",
        "fig.set_size_inches((5, 10))\n",
        "for i in range(3):\n",
        "    axes[i].hist(S_n[i], bins=30)\n",
        "plt.show()\n",
        "\n",
        "(S_n.sum(axis=1) / t).sum(axis=0) / n, a"
      ]
    },
    {
      "cell_type": "markdown",
      "metadata": {
        "collapsed": false,
        "id": "dTl7nqaFJbrq",
        "pycharm": {
          "name": "#%% md\n"
        }
      },
      "source": [
        "### Центральная предельная теорема\n",
        "\n",
        "---\n",
        "\n",
        "Пусть $\\xi_1$, ..., $\\xi_n$, ... — независимые в совокупности, одинаково распределенные случайные величины, у которых существует второй момент, а дисперсия отлична от нуля. Тогда имеет место слабая сходимость\n",
        "\n",
        "$$\n",
        "\\dfrac{S_n-n\\mathbb E \\xi_1}{\\sqrt{n\\mathbb D\\xi_1}}\\xrightarrow[d]{n\\to\\infty} \\mathsf N_{0, 1}\n",
        "$$\n",
        "\n",
        "---"
      ]
    },
    {
      "cell_type": "code",
      "execution_count": null,
      "metadata": {
        "id": "PbLEpa2PJbrr",
        "outputId": "a9ce50cb-da19-4526-9c11-46cb047faa87",
        "pycharm": {
          "name": "#%%\n"
        }
      },
      "outputs": [
        {
          "data": {
            "image/png": "[encoded data removed]",
            "text/plain": [
              "<Figure size 360x720 with 3 Axes>"
            ]
          },
          "metadata": {
            "needs_background": "light"
          },
          "output_type": "display_data"
        },
        {
          "data": {
            "image/png": "[encoded data removed]",
            "text/plain": [
              "<Figure size 432x288 with 1 Axes>"
            ]
          },
          "metadata": {
            "needs_background": "light"
          },
          "output_type": "display_data"
        }
      ],
      "source": [
        "beta = 2\n",
        "t, n = 100000, 100\n",
        "\n",
        "S_n = np.random.exponential(1 / beta, (n, t))\n",
        "\n",
        "fig, axes = plt.subplots(3)\n",
        "fig.set_size_inches((5, 10))\n",
        "for i in range(3):\n",
        "    axes[i].hist(S_n[i], bins=30, density=True)\n",
        "plt.show()\n",
        "\n",
        "res = (S_n.sum(axis=0) - n * (1 / beta)) / np.sqrt(n * (1 / beta ** 2))\n",
        "plt.hist(res, bins=20, alpha=0.7, density=True)\n",
        "# plt.show()\n",
        "\n",
        "plt.hist(np.random.normal(0, 1, t), bins=20, alpha=0.5, density=True)\n",
        "plt.show()"
      ]
    }
  ],
  "metadata": {
    "colab": {
      "provenance": []
    },
    "kernelspec": {
      "display_name": "base",
      "language": "python",
      "name": "python3"
    },
    "language_info": {
      "codemirror_mode": {
        "name": "ipython",
        "version": 3
      },
      "file_extension": ".py",
      "mimetype": "text/x-python",
      "name": "python",
      "nbconvert_exporter": "python",
      "pygments_lexer": "ipython3",
      "version": "3.8.5"
    },
    "vscode": {
      "interpreter": {
        "hash": "40d3a090f54c6569ab1632332b64b2c03c39dcf918b08424e98f38b5ae0af88f"
      }
    }
  },
  "nbformat": 4,
  "nbformat_minor": 0
}
