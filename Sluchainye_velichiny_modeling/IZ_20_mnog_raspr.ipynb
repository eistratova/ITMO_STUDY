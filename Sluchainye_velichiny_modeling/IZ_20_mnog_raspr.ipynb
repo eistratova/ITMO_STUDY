{
 "cells": [
  {
   "cell_type": "code",
   "execution_count": null,
   "metadata": {},
   "outputs": [],
   "source": []
  },
  {
   "attachments": {},
   "cell_type": "markdown",
   "metadata": {},
   "source": [
    "### Задача.\n",
    "\n",
    "---\n",
    "\n",
    "Плотность двумерной абсолютно непрерывной случайной величины имеет вид:\n",
    "\n",
    "$$\n",
    "f_{\\vec{\\xi}}(x,y) = \\begin{cases}\n",
    "  0,\\quad & (x, y) \\notin K\n",
    "   \\\\\n",
    "   c(2x+5)*y,\\quad & (x, y) \\in K,\n",
    "\\end{cases}\n",
    "$$\n",
    "\n",
    "Где $K$ — область, ограниченная треугольником, образованным пересечением прямых $x=0, \\ \\ y=0, \\ \\ y=4 - 4/2 x$.\n",
    "\n",
    "Найти неизвестный параметр C.\n",
    "Составить функцию плотности $f_{\\vec{\\xi_1}}(x,y)$. X (0,2]\n",
    "\n",
    "Составить одномерную функцию плотности $f_{\\xi_2}(y)$. Y (0,4]\n",
    "\n",
    "Составить функцию распределения $F_{\\vec{\\xi}}(x, y)$. x,y принадл К\n",
    "\n",
    "\n",
    "Составить одномерную функцию плотности $f_{\\xi_2}(x)$.\n",
    "Составить одномерную функцию плотности $f_{\\xi_2}(y)$.\n",
    "\n",
    "\n"
   ]
  },
  {
   "cell_type": "code",
   "execution_count": 81,
   "metadata": {},
   "outputs": [],
   "source": [
    "import numpy as np\n",
    "from matplotlib import pyplot as plt\n",
    "import math\n",
    "import sympy"
   ]
  },
  {
   "cell_type": "code",
   "execution_count": 82,
   "metadata": {},
   "outputs": [
    {
     "data": {
      "text/plain": [
       "[0.0312500000000000]"
      ]
     },
     "execution_count": 82,
     "metadata": {},
     "output_type": "execute_result"
    }
   ],
   "source": [
    "###  находим С\n",
    "x, y, c = sympy.Symbol('x'), sympy.Symbol('y'), sympy.Symbol('c')\n",
    "\n",
    "sympy.solvers.solve(\n",
    "    sympy.Integral(\n",
    "        sympy.Integral(\n",
    "            c * (2 * x + 5) * y,\n",
    "            (y, 0, 4 - 4/2 * x)\n",
    "        ).doit(),\n",
    "        (x, 0, 2)\n",
    "    ).doit() - 1,\n",
    "    c\n",
    ")\n"
   ]
  },
  {
   "cell_type": "code",
   "execution_count": 83,
   "metadata": {},
   "outputs": [
    {
     "data": {
      "text/latex": [
       "$\\displaystyle 16 \\left(1 - 0.5 x\\right)^{2} \\cdot \\left(0.03125 x + 0.078125\\right)$"
      ],
      "text/plain": [
       "16*(1 - 0.5*x)**2*(0.03125*x + 0.078125)"
      ]
     },
     "execution_count": 83,
     "metadata": {},
     "output_type": "execute_result"
    }
   ],
   "source": [
    "# берем инт по Х (х выразили через Y) \n",
    "sympy.Integral(1/32 * (2 * x + 5) * y, (y, 0, 4 - 4/2 * x)).doit()"
   ]
  },
  {
   "cell_type": "code",
   "execution_count": 84,
   "metadata": {},
   "outputs": [
    {
     "data": {
      "text/latex": [
       "$\\displaystyle 0.03125 y \\left(2 - \\frac{y}{2}\\right)^{2} + 0.15625 y \\left(2 - \\frac{y}{2}\\right)$"
      ],
      "text/plain": [
       "0.03125*y*(2 - y/2)**2 + 0.15625*y*(2 - y/2)"
      ]
     },
     "execution_count": 84,
     "metadata": {},
     "output_type": "execute_result"
    }
   ],
   "source": [
    "# берем инт по Y (Y выразили через X)\n",
    "sympy.Integral(1/32*(2 * x + 5) * y, (x, 0, (4 - y)/2)).doit()"
   ]
  },
  {
   "attachments": {},
   "cell_type": "markdown",
   "metadata": {},
   "source": [
    "$0<x\\leq 2, \\ \\ 0 < y \\leq 4 - 4/2 x$:"
   ]
  },
  {
   "cell_type": "code",
   "execution_count": 76,
   "metadata": {},
   "outputs": [
    {
     "data": {
      "text/latex": [
       "$\\displaystyle 0.015625 x^{2} y^{2} + 0.078125 x y^{2}$"
      ],
      "text/plain": [
       "0.015625*x**2*y**2 + 0.078125*x*y**2"
      ]
     },
     "execution_count": 76,
     "metadata": {},
     "output_type": "execute_result"
    }
   ],
   "source": [
    "# Находим двойной интеграл, т е первообразную нашей функции F F_{vec xi}(x, y) в области К.\n",
    "sympy.Integral(\n",
    "    sympy.Integral(\n",
    "        1/32*(2 * x + 5) * y,\n",
    "        (y, 0, y)\n",
    "    ).doit(),\n",
    "    (x, 0, x)\n",
    ").doit()"
   ]
  },
  {
   "attachments": {},
   "cell_type": "markdown",
   "metadata": {},
   "source": [
    "$0 < x \\leq 2,\\ \\ y > 4 - 4/2x$:"
   ]
  },
  {
   "cell_type": "code",
   "execution_count": 86,
   "metadata": {},
   "outputs": [
    {
     "data": {
      "text/plain": [
       "(0.03125*x**4 - 0.0625*x**3 - 0.375*x**2 + 1.25*x,)"
      ]
     },
     "execution_count": 86,
     "metadata": {},
     "output_type": "execute_result"
    }
   ],
   "source": [
    "# берем второй integral пo x, т е integral 16(1−0.5x)(0.03125x+0.078125)  \n",
    "sympy.Integral(\n",
    "    (16*(1-0.5*x)**2)*(0.03125*x+0.078125),\n",
    "    (x, 0, x)\n",
    ").doit(),"
   ]
  },
  {
   "attachments": {},
   "cell_type": "markdown",
   "metadata": {},
   "source": [
    "$x > (4 -  y)/2,\\ \\ 0 < y \\leq 3$:"
   ]
  },
  {
   "cell_type": "code",
   "execution_count": 87,
   "metadata": {},
   "outputs": [
    {
     "data": {
      "text/latex": [
       "$\\displaystyle 0.001953125 y^{4} - 0.046875 y^{3} + 0.21875 y^{2}$"
      ],
      "text/plain": [
       "0.001953125*y**4 - 0.046875*y**3 + 0.21875*y**2"
      ]
     },
     "execution_count": 87,
     "metadata": {},
     "output_type": "execute_result"
    }
   ],
   "source": [
    "# берем второй integral пo Y, т е integral  0.03125y(2 - 1/2 * y)^2+ 0.15625y(2-1/2y) \n",
    "#   \n",
    "sympy.Integral(\n",
    "    0.03125*y * (2 - 1/2 * y) ** 2+ 0.15625*y*(2-1/2*y),\n",
    "    (y, 0, y)\n",
    ").doit()"
   ]
  }
 ],
 "metadata": {
  "kernelspec": {
   "display_name": "base",
   "language": "python",
   "name": "python3"
  },
  "language_info": {
   "codemirror_mode": {
    "name": "ipython",
    "version": 3
   },
   "file_extension": ".py",
   "mimetype": "text/x-python",
   "name": "python",
   "nbconvert_exporter": "python",
   "pygments_lexer": "ipython3",
   "version": "3.8.5 (default, Sep  4 2020, 02:22:02) \n[Clang 10.0.0 ]"
  },
  "orig_nbformat": 4,
  "vscode": {
   "interpreter": {
    "hash": "40d3a090f54c6569ab1632332b64b2c03c39dcf918b08424e98f38b5ae0af88f"
   }
  }
 },
 "nbformat": 4,
 "nbformat_minor": 2
}
