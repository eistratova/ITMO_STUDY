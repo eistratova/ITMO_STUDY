{
  "cells": [
    {
      "cell_type": "code",
      "execution_count": 1,
      "metadata": {
        "collapsed": true,
        "id": "rjxO5JItJZB0",
        "pycharm": {
          "name": "#%%\n"
        }
      },
      "outputs": [],
      "source": [
        "import numpy as np\n",
        "from matplotlib import pyplot as plt\n",
        "import math\n",
        "import sympy"
      ]
    },
    {
      "cell_type": "markdown",
      "metadata": {
        "collapsed": false,
        "id": "Cjvf4JDnJZB2",
        "pycharm": {
          "name": "#%% md\n"
        }
      },
      "source": [
        "---\n",
        "# Распределения случайных величин\n",
        "---"
      ]
    },
    {
      "cell_type": "markdown",
      "metadata": {
        "collapsed": false,
        "id": "wWfnmJefJZB3",
        "pycharm": {
          "name": "#%% md\n"
        }
      },
      "source": [
        "### Задача.\n",
        "\n",
        "---\n",
        "\n",
        "Три стрелка осуществляют по 1 выстрелу по мишени. Вероятности поразить мишень для каждого стрелка соответственно равны $p_1=0.6$, $p_2=0.7$, $p_3=0.8$. Выстрелы производятся независимо друг от друга. Составить функцию распределения случайной величины $\\xi$, показывающей количество попаданий по мишени.\n",
        "\n",
        "---\n",
        "\n",
        "\n",
        "$$P(\\xi=0)=(1 - p_1)\\cdot(1 - p_2)\\cdot(1 - p_3)$$\n",
        "\n",
        "$$P(\\xi=1)=p_1\\cdot(1-p_2)\\cdot(1-p_3)+(1-p_1)\\cdot p_2\\cdot(1-p_3)+(1-p_1)\\cdot(1-p_2)\\cdot p_3$$\n",
        "\n",
        "$$P(\\xi=2)=p_1\\cdot p_2\\cdot (1 - p_3)+ p_1\\cdot (1 - p_2)\\cdot p_3 + (1-p_1)\\cdot p_2\\cdot p_3$$\n",
        "\n",
        "$$P(\\xi=3)=p_1\\cdot p_2\\cdot p_3$$\n",
        "\n",
        "$$\n",
        "F_\\xi(x)=\\begin{cases}\n",
        "0 \\quad & x\\leq 0 \\\\\n",
        "P(\\xi=0) & 0 < x \\leq 1 \\\\\n",
        "P(\\xi=0) + P(\\xi=1) & 1 < x \\leq 2 \\\\\n",
        "P(\\xi=0) + P(\\xi=1) + P(\\xi=2) & 2 < x \\leq 3 \\\\\n",
        "P(\\xi=0) + P(\\xi=1) + P(\\xi=2) + P(\\xi=3)\\quad & x > 3 \\\\\n",
        "\\end{cases}\n",
        "$$\n",
        "\n",
        "---"
      ]
    },
    {
      "cell_type": "code",
      "execution_count": null,
      "metadata": {
        "id": "EZ4AulYvJZB3",
        "outputId": "a81aae70-2b5c-4ad1-b708-937d8a4aaceb",
        "pycharm": {
          "name": "#%%\n"
        }
      },
      "outputs": [
        {
          "name": "stdout",
          "output_type": "stream",
          "text": [
            "0 : 0.0239\n",
            "1 : 0.188331\n",
            "2 : 0.45141\n",
            "3 : 0.336359\n"
          ]
        }
      ],
      "source": [
        "p_list, t = [0.6, 0.7, 0.8], 1000000\n",
        "experiment = np.array([np.random.choice([0, 1], t, p=[1 - p_i, p_i]) for p_i in p_list])\n",
        "\n",
        "for i in range(0, 4):\n",
        "    count_i = np.array(experiment.sum(axis=0) == i).sum()\n",
        "    print(f'{i} : {count_i / t}')"
      ]
    },
    {
      "cell_type": "markdown",
      "metadata": {
        "collapsed": false,
        "id": "f7dfj7jzJZB4",
        "pycharm": {
          "name": "#%% md\n"
        }
      },
      "source": [
        "### Задача.\n",
        "\n",
        "---\n",
        "\n",
        "Один известный футболист очень любит устраивать челленджи с различными вратарями на пробитие серии из 5 пенальти. Исходя из статистики реализованных и нереализованных пенальти этого футболиста можно заключить, что вероятность успеха (то есть вероятность забить гол в одном пенальти) для него составляет 0.71. Составить таблицу распределения количества успешных пенальти и определить тип распределения: геометрическое или биномиальное.\n",
        "\n",
        "---\n",
        "\n",
        "$$\\mathbb P(\\xi=k) = C^k_n\\cdot p^k\\cdot (1-p)^{n-k}$$\n",
        "\n",
        "---"
      ]
    },
    {
      "cell_type": "code",
      "execution_count": null,
      "metadata": {
        "id": "u-g1-fM1JZB4",
        "outputId": "0629d4d5-7829-4179-c0f9-7bc231ebcb24",
        "pycharm": {
          "name": "#%%\n"
        }
      },
      "outputs": [
        {
          "data": {
            "image/png": "[encoded data removed]",
            "text/plain": [
              "<Figure size 432x288 with 1 Axes>"
            ]
          },
          "metadata": {
            "needs_background": "light"
          },
          "output_type": "display_data"
        }
      ],
      "source": [
        "n, p = 5, 0.71\n",
        "\n",
        "P_xi = lambda _k: math.comb(n, _k) * p ** _k * (1 - p) ** (n - _k)\n",
        "x = list(range(n + 1))\n",
        "y = [P_xi(x_i) for x_i in x]\n",
        "\n",
        "plt.plot(x, y, '.-', markersize=15)\n",
        "plt.show()"
      ]
    },
    {
      "cell_type": "code",
      "execution_count": null,
      "metadata": {
        "id": "Yj-kysjLJZB5",
        "outputId": "ec759cfa-2f26-4330-e24d-e3469c30b52e",
        "pycharm": {
          "name": "#%%\n"
        }
      },
      "outputs": [
        {
          "name": "stdout",
          "output_type": "stream",
          "text": [
            "0 : 0.002028\n",
            "1 : 0.024981\n",
            "2 : 0.122413\n",
            "3 : 0.301518\n",
            "4 : 0.368744\n",
            "5 : 0.180316\n"
          ]
        },
        {
          "data": {
            "image/png": "[encoded data removed]",
            "text/plain": [
              "<Figure size 432x288 with 1 Axes>"
            ]
          },
          "metadata": {
            "needs_background": "light"
          },
          "output_type": "display_data"
        }
      ],
      "source": [
        "t = 1000000\n",
        "\n",
        "experiment = np.array([np.random.choice([0, 1], t, p=[1 - p, p]) for _ in range(n)])\n",
        "experiment.sum(axis=0)\n",
        "\n",
        "x, y = list(range(0, n + 1)), list()\n",
        "\n",
        "for i in x:\n",
        "    count_i = np.array(experiment.sum(axis=0) == i).sum()\n",
        "    y.append(count_i / t)\n",
        "    print(f'{i} : {count_i / t}')\n",
        "\n",
        "plt.plot(x, y, '.-', markersize=15)\n",
        "plt.show()"
      ]
    },
    {
      "cell_type": "markdown",
      "metadata": {
        "collapsed": false,
        "id": "suntFgXAJZB5",
        "pycharm": {
          "name": "#%% md\n"
        }
      },
      "source": [
        "### Задача\n",
        "\n",
        "---\n",
        "\n",
        "Журналисту необходимо взять интервью у одного из участников конференции по безопасности персональных данных. Вероятность того, что очередной участник конференции согласится на интервью, составляет 0.15. Составить таблицу распределения количества опрошенных до первого согласия (до 9 человек) и определить тип распределения: геометрическое или биномиальное.\n",
        "\n",
        "---\n",
        "\n",
        "$$\\mathbb P(\\xi=k) = p \\cdot (1 - p)^{k - 1}$$\n",
        "\n",
        "---"
      ]
    },
    {
      "cell_type": "code",
      "execution_count": null,
      "metadata": {
        "id": "eNtveuLXJZB6",
        "outputId": "93111bcc-7518-4f00-9d54-8b140e12c8b0",
        "pycharm": {
          "name": "#%%\n"
        }
      },
      "outputs": [
        {
          "data": {
            "image/png": "[encoded data removed]",
            "text/plain": [
              "<Figure size 432x288 with 1 Axes>"
            ]
          },
          "metadata": {
            "needs_background": "light"
          },
          "output_type": "display_data"
        }
      ],
      "source": [
        "n, p = 9, 0.15\n",
        "\n",
        "P_xi = lambda _k: p * (1 - p) ** (_k - 1)\n",
        "x = list(range(n + 1))\n",
        "y = [P_xi(x_i) for x_i in x]\n",
        "\n",
        "plt.plot(x, y, '.-', markersize=15)\n",
        "plt.show()"
      ]
    },
    {
      "cell_type": "code",
      "execution_count": null,
      "metadata": {
        "id": "2xFHC097JZB6",
        "outputId": "aa33b866-34a8-4268-bb81-ff72d7971005",
        "pycharm": {
          "name": "#%%\n"
        }
      },
      "outputs": [
        {
          "name": "stdout",
          "output_type": "stream",
          "text": [
            "0 : 0.18518\n",
            "1 : 0.1578\n",
            "2 : 0.13495\n",
            "3 : 0.1151\n",
            "4 : 0.09799\n",
            "5 : 0.08371\n",
            "6 : 0.06915\n",
            "7 : 0.06141\n",
            "8 : 0.05098\n",
            "9 : 0.04373\n"
          ]
        },
        {
          "data": {
            "image/png": "[encoded data removed]",
            "text/plain": [
              "<Figure size 432x288 with 1 Axes>"
            ]
          },
          "metadata": {
            "needs_background": "light"
          },
          "output_type": "display_data"
        }
      ],
      "source": [
        "t = 100000\n",
        "\n",
        "experiment = []\n",
        "for _ in range(t):\n",
        "    k = 0\n",
        "    while True:\n",
        "        if np.random.choice([0, 1], p=[1 - p, p]) == 1:\n",
        "            break\n",
        "        k += 1\n",
        "        if k > 9:\n",
        "            k = 0\n",
        "    experiment.append(k)\n",
        "\n",
        "experiment = np.array(experiment)\n",
        "\n",
        "x, y = list(range(0, n + 1)), list()\n",
        "\n",
        "for i in x:\n",
        "    count_i = np.array(experiment == i).sum()\n",
        "    y.append(count_i / t)\n",
        "    print(f'{i} : {count_i / t}')\n",
        "\n",
        "plt.plot(x, y, '.-', markersize=15)\n",
        "plt.show()"
      ]
    },
    {
      "cell_type": "markdown",
      "metadata": {
        "collapsed": false,
        "id": "S8ZqeVwiJZB7",
        "pycharm": {
          "name": "#%% md\n"
        }
      },
      "source": [
        "### Задача.\n",
        "\n",
        "---\n",
        "\n",
        "Распределение абсолютно непрерывной случайной величины задано функцией плотности вероятности $f_\\xi(x)$:\n",
        "\n",
        "$$\n",
        "f_{\\xi}(x) = \\begin{cases}\n",
        "  0,\\quad & x \\notin (0, a]\n",
        "   \\\\\n",
        "   e^{3x},\\quad & x \\in (0, a]\n",
        "\\end{cases}\n",
        "$$\n",
        "\n",
        "Найти неизвестный параметр $a > 0$ и составить функцию распределения $F_\\xi(x)$.\n",
        "\n",
        "---\n",
        "\n",
        "Необходимо, чтобы $\\int\\limits_{-\\infty}^{+\\infty} e^{3x}dx=\\int\\limits_0^a e^{3x}dx=\\frac 1 3 e^{3x}\\bigg|_{0}^{a}=\\frac 1 3 e^{3a}-\\frac 1 3=1$. Получается, что $a=\\dfrac{\\operatorname{ln}4}{3}$. Тогда функция распределения равна:\n",
        "\n",
        "$$\n",
        "F_{\\xi}(x) = \\begin{cases}\n",
        "  0,\\quad & x \\leq 0\n",
        "   \\\\\n",
        "   \\frac{e^{3x}}{3} - \\frac{1}{3},\\quad & 0< x\\leq \\frac{\\ln{4}}{3}\n",
        "   \\\\\n",
        "   1,\\quad & x > \\frac{\\ln4}{3}\n",
        "\\end{cases}\n",
        "$$\n",
        "\n",
        "---"
      ]
    },
    {
      "cell_type": "code",
      "execution_count": null,
      "metadata": {
        "id": "x0CeAWfHJZB7",
        "outputId": "c39c5e20-9247-441e-e3d0-1f1d254b9ccd",
        "pycharm": {
          "name": "#%%\n"
        }
      },
      "outputs": [
        {
          "data": {
            "text/plain": [
              "(exp(3*a)/3 - 1/3,\n",
              " [log(2**(2/3)) - 2*I*pi/3, log(2**(2/3)) + 2*I*pi/3, log(2**(2/3))])"
            ]
          },
          "execution_count": 7,
          "metadata": {},
          "output_type": "execute_result"
        }
      ],
      "source": [
        "x, a = sympy.Symbol('x'), sympy.Symbol('a')\n",
        "solutions = sympy.solvers.solve(sympy.Integral(sympy.exp(3 * x), (x, 0, a)).doit() - 1, a)\n",
        "sympy.Integral(sympy.exp(3 * x), (x, 0, a)).doit(), solutions"
      ]
    },
    {
      "cell_type": "markdown",
      "metadata": {
        "collapsed": false,
        "id": "f2vTbCcwJZB7",
        "pycharm": {
          "name": "#%% md\n"
        }
      },
      "source": [
        "Важно понимать, что на реальное значение параметра $a$ может претендовать только последнее значение."
      ]
    },
    {
      "cell_type": "markdown",
      "metadata": {
        "collapsed": false,
        "id": "_0IAvNHPJZB8",
        "pycharm": {
          "name": "#%% md\n"
        }
      },
      "source": [
        "### Задача.\n",
        "\n",
        "---\n",
        "\n",
        "Длительность одного заезда на аттракционе «американские горки» составляет 5 минут. Гость парка аттракционов подходит к платформе, где останавливается тележка (для высадки/посадки гостей), в случайный момент времени. Определить вероятность, что ожидание составит:\n",
        "\n",
        "1. Менее 2 минут.\n",
        "2. Более 4 минут.\n",
        "3. От 2 до 4 минут.\n",
        "\n",
        "---\n",
        "\n",
        "Распределение равномерное, поэтому если $\\xi$ — случайная величина, показывающая длительность ожидания, то:\n",
        "\n",
        "1. $\\mathbb P(\\xi<2)=\\frac 2 5$\n",
        "2. $\\mathbb P(\\xi>4)=\\frac{(5 - 4)} 5=\\frac 1 5$\n",
        "3. $\\mathbb P(2 < \\xi < 4) = 1 - (\\mathbb P(\\xi < 2) + \\mathbb P(\\xi > 4))=\\frac 2 5$\n"
      ]
    },
    {
      "cell_type": "code",
      "execution_count": null,
      "metadata": {
        "id": "jmswbTIrJZB8",
        "outputId": "54ffa853-b029-41c5-a5f0-8776230f4df2",
        "pycharm": {
          "name": "#%%\n"
        }
      },
      "outputs": [
        {
          "data": {
            "text/plain": [
              "(0.3998742, 0.2001104, 0.4000154)"
            ]
          },
          "execution_count": 8,
          "metadata": {},
          "output_type": "execute_result"
        }
      ],
      "source": [
        "t = 10000000\n",
        "experiment = np.random.uniform(0, 5, t)\n",
        "experiment[experiment < 2].size / t, experiment[experiment > 4].size / t, experiment[\n",
        "    (2 < experiment) & (experiment < 4)].size / t"
      ]
    },
    {
      "cell_type": "markdown",
      "metadata": {
        "collapsed": false,
        "id": "hwgzborbJZB8",
        "pycharm": {
          "name": "#%% md\n"
        }
      },
      "source": [
        "### Задача.\n",
        "\n",
        "---\n",
        "\n",
        "Распределение случайной величины $\\xi$ задано следующей функцией плотности вероятности:\n",
        "\n",
        "$$\n",
        "f_{\\xi}(x) = \\begin{cases}\n",
        "  0, & x< 0\n",
        "   \\\\\n",
        "   3e^{-3x}, & x \\geq 0\n",
        "\\end{cases}\n",
        "$$\n",
        "\n",
        "Составить функцию распределения $F_\\xi(x)$ этой случайной величины, найти $\\mathbb P(|\\xi+1|\\geq 3)$ и узнать тип распределения.\n",
        "\n",
        "---\n",
        "\n",
        "$$\n",
        "F_{\\xi}(x) = \\int\\limits_{-\\infty}^{0} f_{\\xi}(t)dt + \\int\\limits_{0}^{x} f_{\\xi}(t)dt = 0 + \\int\\limits_{0}^{x}  3e^{-3t}dt = e^{-3t}\\bigg|_{x}^{0} = 1 - e^{-3x}.\n",
        "$$\n",
        "\n",
        "$$\n",
        "F_\\xi(x) = \\begin{cases}\n",
        "0,\\quad x<0\\\\\n",
        "1-e^{-3x},\\quad x\\geq 0\n",
        "\\end{cases}\n",
        "$$\n",
        "\n",
        "$$\n",
        "\\mathbb P(|\\xi+1|\\geq 3) = 1 - F_\\xi(2) + F_\\xi(-4) = 1 - F_\\xi(2) = e^{-6}.\n",
        "$$\n",
        "---"
      ]
    },
    {
      "cell_type": "code",
      "execution_count": null,
      "metadata": {
        "id": "fOU9LWydJZB9",
        "outputId": "d33479fc-1b20-4001-a22d-03450400f551",
        "pycharm": {
          "name": "#%%\n"
        }
      },
      "outputs": [
        {
          "data": {
            "text/latex": [
              "$\\displaystyle 1 - e^{- 3 x_{0}}$"
            ],
            "text/plain": [
              "1 - exp(-3*x_0)"
            ]
          },
          "execution_count": 9,
          "metadata": {},
          "output_type": "execute_result"
        }
      ],
      "source": [
        "x_0, x = sympy.Symbol('x_0'), sympy.Symbol('x')\n",
        "sympy.Integral(3 * sympy.exp(-3 * x), (x, 0, x_0)).doit()"
      ]
    },
    {
      "cell_type": "code",
      "execution_count": null,
      "metadata": {
        "id": "Y0KF1t6QJZB9",
        "outputId": "afce4e44-c1b4-4de3-f4a1-4a18f4006ea4",
        "pycharm": {
          "name": "#%%\n"
        }
      },
      "outputs": [
        {
          "data": {
            "text/latex": [
              "$\\displaystyle e^{-6}$"
            ],
            "text/plain": [
              "exp(-6)"
            ]
          },
          "execution_count": 10,
          "metadata": {},
          "output_type": "execute_result"
        }
      ],
      "source": [
        "sympy.Integral(3 * sympy.exp(-3 * x), (x, 2, math.inf)).doit()"
      ]
    },
    {
      "cell_type": "code",
      "execution_count": null,
      "metadata": {
        "id": "eftM6xClJZB-",
        "outputId": "0141ae2e-c9b9-4a44-c9f3-75e8fa4a60af",
        "pycharm": {
          "name": "#%%\n"
        }
      },
      "outputs": [
        {
          "data": {
            "image/png": "[encoded data removed]",
            "text/plain": [
              "<Figure size 432x288 with 1 Axes>"
            ]
          },
          "metadata": {
            "needs_background": "light"
          },
          "output_type": "display_data"
        }
      ],
      "source": [
        "x_left, x_right = np.arange(-1, 0, 0.1), np.arange(0, 3, 0.1)\n",
        "y = np.concatenate((0 * x_left, 1 - np.exp(-3 * x_right)))\n",
        "x = np.concatenate((x_left, x_right))\n",
        "\n",
        "plt.plot(x, y)\n",
        "plt.show()"
      ]
    },
    {
      "cell_type": "markdown",
      "metadata": {
        "collapsed": false,
        "id": "D7uLPVbfJZB-",
        "pycharm": {
          "name": "#%% md\n"
        }
      },
      "source": [
        "### Задача.\n",
        "\n",
        "---\n",
        "\n",
        "Случайная величина $\\xi$ распределена по нормальному закону с параметрами $a=2.5$, $\\sigma=2$. Определить $P(|\\xi|\\leq 3)$.\n",
        "\n",
        "---\n",
        "\n",
        "$$\n",
        "\\mathsf{P}(|\\xi|\\leq 3) = \\mathsf{P}(-3 \\leq \\xi \\leq 3) = \\Phi_{0,1}\\left( \\frac{3 - 2.5}{2} \\right) - \\Phi_{0,1}\\left( \\frac{-3 - 2.5}{2} \\right) =\\Phi_{0,1}\\left( 0.25 \\right) - \\Phi_{0,1}\\left( -2.75 \\right) \\approx 0.596.\n",
        "$$\n",
        "\n",
        "---\n"
      ]
    },
    {
      "cell_type": "code",
      "execution_count": null,
      "metadata": {
        "id": "CXtnJevzJZB-",
        "outputId": "a924dc17-88e3-4786-f9a2-0aff56670d98",
        "pycharm": {
          "name": "#%%\n"
        }
      },
      "outputs": [
        {
          "data": {
            "text/plain": [
              "0.5957265624478691"
            ]
          },
          "execution_count": 12,
          "metadata": {},
          "output_type": "execute_result"
        }
      ],
      "source": [
        "x = sympy.Symbol('x')\n",
        "float(sympy.Integral(\n",
        "    1 / sympy.sqrt(2 * sympy.pi) * sympy.exp(-x ** 2 / 2),\n",
        "    (x, (-3 - 2.5) / 2, (3 - 2.5) / 2)\n",
        ").doit())"
      ]
    },
    {
      "cell_type": "markdown",
      "metadata": {
        "collapsed": false,
        "id": "vxXH-N8fJZB_",
        "pycharm": {
          "name": "#%% md\n"
        }
      },
      "source": [
        "---\n",
        "\n",
        "# Многомерные распределения\n",
        "\n",
        "---"
      ]
    },
    {
      "cell_type": "markdown",
      "metadata": {
        "collapsed": false,
        "id": "p2aydT1AJZB_",
        "pycharm": {
          "name": "#%% md\n"
        }
      },
      "source": [
        "### Задача.\n",
        "\n",
        "---\n",
        "\n",
        "Двумерная непрерывная случайная величина распределена равномерно в области $K: x\\in[1,3], y \\in [2,4]$.\n",
        "\n",
        "Составить функцию плотности $f_{\\vec{\\xi}}(x,y)$.\n",
        "\n",
        "Составить одномерную функцию плотности $f_{\\xi_1}(x)$.\n",
        "\n",
        "Составить одномерную функцию плотности $f_{\\xi_2}(x)$.\n",
        "\n",
        "Найти $\\mathbb P(2 < x < 3, \\ \\ 1\\leq y \\leq 3)$.\n",
        "\n",
        "Выяснить, зависимы ли величины $\\xi_1$ и $\\xi_2$ или нет.\n",
        "\n",
        "---\n",
        "\n",
        "$$\n",
        "f_{\\vec{\\xi}}(x,y) = \\begin{cases}\n",
        "  0, & (x, y) \\notin K\n",
        "   \\\\\n",
        "   \\frac{1}{4},  & (x, y)\\in K.\n",
        "\\end{cases}\n",
        "$$\n",
        "\n",
        "$$\n",
        "f_{\\xi_{1}}(x) = \\int\\limits_{-\\infty}^{+\\infty}f(x,y)dy = \\frac{1}{4}\\int\\limits^4_2 dy = \\frac{1}{2}\n",
        "$$\n",
        "\n",
        "$$\n",
        "f_{\\xi_{2}}(y) = \\int\\limits_{-\\infty}^{+\\infty}f(x,y)dx = \\frac{1}{4}\\int\\limits^3_1 dx = \\frac{1}{2}\n",
        "$$\n",
        "\n",
        "Вероятность $\\mathbb{P}(2< x< 3, 1 \\leq y \\leq 3)$ вычислить можно алгебраически:\n",
        "\n",
        "$$\n",
        "\\mathbb{P}(2< x< 3, 1 \\leq y \\leq 3) = \\int\\limits^3_2 \\int\\limits^3_1 f_{\\vec{\\xi}}(x,y) dxdy  =\\int\\limits^3_2 \\int\\limits^2_1 0 dxdy + \\int\\limits^3_2 \\int\\limits^3_2 \\frac{1}{4} dxdy = \\frac{1}{4}\n",
        "$$\n",
        "\n",
        "Или геометрически:\n",
        "\n",
        "![](https://cdn2.openedu.ru/assets/courseware/v1/9eee3ca68b8b8409b0931014d18ddf35/asset-v1:ITMOUniversity+APPSTAT+fall_2022_ITMO+type@asset+block/4_rectangle.png)\n",
        "\n",
        "---"
      ]
    },
    {
      "cell_type": "code",
      "execution_count": null,
      "metadata": {
        "id": "ohgBMiseJZB_",
        "outputId": "b2f94b6f-9322-44e1-d2f1-31b62e1c04f9",
        "pycharm": {
          "name": "#%%\n"
        }
      },
      "outputs": [
        {
          "data": {
            "text/plain": [
              "[1/4]"
            ]
          },
          "execution_count": 13,
          "metadata": {},
          "output_type": "execute_result"
        }
      ],
      "source": [
        "x, y, c = sympy.Symbol('x'), sympy.Symbol('y'), sympy.Symbol('c')\n",
        "\n",
        "sympy.solvers.solve(\n",
        "    sympy.Integral(\n",
        "        sympy.Integral(\n",
        "            c, (x, 1, 3)\n",
        "        ).doit(),\n",
        "        (y, 2, 4)\n",
        "    ).doit() - 1,\n",
        "    c\n",
        ")"
      ]
    },
    {
      "cell_type": "code",
      "execution_count": null,
      "metadata": {
        "id": "mE-xO3GJJZCA",
        "outputId": "c8ad798a-8902-4415-f0ac-6dc5f117a9dd",
        "pycharm": {
          "name": "#%%\n"
        }
      },
      "outputs": [
        {
          "data": {
            "text/plain": [
              "(0.500000000000000, 0.500000000000000)"
            ]
          },
          "execution_count": 14,
          "metadata": {},
          "output_type": "execute_result"
        }
      ],
      "source": [
        "sympy.Integral(1 / 4, (x, 1, 3)).doit(), sympy.Integral(1 / 4, (y, 2, 4)).doit()"
      ]
    },
    {
      "cell_type": "code",
      "execution_count": null,
      "metadata": {
        "id": "wmy89qDNJZCA",
        "outputId": "55bf7db3-f525-4ca9-9cb4-f7bfd723c906",
        "pycharm": {
          "name": "#%%\n"
        }
      },
      "outputs": [
        {
          "data": {
            "text/latex": [
              "$\\displaystyle 0.25$"
            ],
            "text/plain": [
              "0.250000000000000"
            ]
          },
          "execution_count": 15,
          "metadata": {},
          "output_type": "execute_result"
        }
      ],
      "source": [
        "sympy.Integral(\n",
        "    sympy.Integral(\n",
        "        1 / 4, (x, 2, 3)\n",
        "    ).doit(),\n",
        "    (y, 2, 3)\n",
        ").doit()"
      ]
    },
    {
      "cell_type": "code",
      "execution_count": null,
      "metadata": {
        "id": "ZQ3UEqqMJZCA",
        "outputId": "76b386cc-252c-416a-db27-99f5470a583b",
        "pycharm": {
          "name": "#%%\n"
        }
      },
      "outputs": [
        {
          "data": {
            "image/png": "[encoded data removed]",
            "text/plain": [
              "<Figure size 432x288 with 1 Axes>"
            ]
          },
          "metadata": {
            "needs_background": "light"
          },
          "output_type": "display_data"
        }
      ],
      "source": [
        "from matplotlib.patches import Rectangle\n",
        "\n",
        "_, ax = plt.subplots()\n",
        "\n",
        "plt.xlim(0, 4)\n",
        "plt.ylim(0, 5)\n",
        "\n",
        "ax.add_patch(Rectangle((1, 2), 2, 2, color='blue', alpha=0.5))\n",
        "ax.add_patch(Rectangle((2, 1), 1, 2, color='green', alpha=0.5))\n",
        "\n",
        "plt.show()"
      ]
    },
    {
      "cell_type": "markdown",
      "metadata": {
        "collapsed": false,
        "id": "zBAekgXLJZCB",
        "pycharm": {
          "name": "#%% md\n"
        }
      },
      "source": [
        "### Задача.\n",
        "\n",
        "---\n",
        "\n",
        "Плотность двумерной абсолютно непрерывной случайной величины имеет вид:\n",
        "\n",
        "$$\n",
        "f_{\\vec{\\xi}}(x,y) = \\begin{cases}\n",
        "  0,\\quad & (x, y) \\notin K\n",
        "   \\\\\n",
        "   cxy,\\quad & (x, y) \\in K,\n",
        "\\end{cases}\n",
        "$$\n",
        "\n",
        "Где $K$ — область, ограниченная треугольником, образованным пересечением прямых $x=0, \\ \\ y=0, \\ \\ y=3 - 1.5 x$.\n",
        "\n",
        "Составить функцию плотности $f_{\\vec{\\xi}}(x,y)$.\n",
        "\n",
        "Составить одномерную функцию плотности $f_{\\xi_1}(x)$.\n",
        "\n",
        "Составить одномерную функцию плотности $f_{\\xi_2}(x)$.\n",
        "\n",
        "Составить функцию распределения $F_{\\vec{\\xi}}(x, y)$.\n",
        "\n",
        "---\n",
        "\n",
        "Найдем параметр $c$:\n",
        "\n",
        "$$\n",
        "\\int\\limits_{0}^2\\int\\limits_{0}^{3-1.5 x} f_{\\vec{\\xi}}(x,y) dxdy = c\\cdot \\frac 3 2\\quad\\Rightarrow\\quad c=\\frac 2 3\n",
        "$$\n",
        "\n",
        "$$\n",
        "f_{\\vec{\\xi}}(x,y) = \\begin{cases}\n",
        "  0,\\quad & (x, y) \\notin K\n",
        "   \\\\\n",
        "   \\frac 2 3 \\cdot xy,\\quad & (x, y) \\in K,\n",
        "\\end{cases}\n",
        "$$\n",
        "\n",
        "А теперь маргинальные распределения:\n",
        "\n",
        "$$\n",
        "f_{\\xi_1}(x) = \\int\\limits_{-\\infty}^{+\\infty}f_{\\xi}(x,y)dy  \\int\\limits_0^{3-1.5x}\\frac{2}{3}xydy = 3x-3x^2+\\frac{3}{4}x^3,\n",
        "$$\n",
        "$$\n",
        "f_{\\xi_1}(x) = \\begin{cases}\n",
        "  0, &  x \\notin (0,2]\n",
        "   \\\\\n",
        "   3x-3x^2+\\frac{3}{4}x^3, &  x\\in (0,2].\n",
        "\\end{cases}\n",
        "$$\n",
        "\n",
        "$$\n",
        "f_{\\xi_2}(y) = \\int\\limits_0^{2-\\frac{2}{3}y}\\frac{2}{3}xydx = \\frac{4}{3}y - \\frac{8}{9}y^2+\\frac{4}{27}y^3,\n",
        "$$\n",
        "$$\n",
        "f_{\\xi_2}(y) = \\begin{cases}\n",
        "  0, &  y \\notin (0,3]\n",
        "   \\\\\n",
        "   \\frac{4}{3}y - \\frac{8}{9}y^2+\\frac{4}{27}y^3, &  y\\in (0,3].\n",
        "\\end{cases}\n",
        "$$\n",
        "\n",
        "И $f_{\\vec{\\xi}}(x,y) \\neq f_{\\xi_1}(x)\\cdot f_{\\xi_2}(y)$, поэтому величины $\\xi_1$ и $\\xi_2$ зависимы.\n",
        "\n",
        "![](https://cdn2.openedu.ru/assets/courseware/v1/4af35be8303814412e8506875c8b66cd/asset-v1:ITMOUniversity+APPSTAT+fall_2022_ITMO+type@asset+block/4_triangle.png)\n",
        "\n",
        "1. Если $x<0,\\ \\ y < 0$, то $f_{\\vec{\\xi}}=0$ и $F_{\\vec{\\xi}}=0$.\n",
        "2. Для $0<x\\leq 2, \\ \\ 0 < y \\leq 3 - 1.5 x$:\n",
        "\n",
        "$$\n",
        "F_{\\vec{\\xi}}(x,y) = \\int\\limits^{x}_{-\\infty} \\int\\limits^{y}_{-\\infty} f_{\\vec{\\xi}}(x,y) dxdy = \\int\\limits^{x}_{0} \\int\\limits^{y}_{0} \\frac{2}{3}xy dxdy = \\frac{x^2y^2}{6}\n",
        "$$\n",
        "3. Для $0 < x \\leq 2,\\ \\ y > 3 - 1.5x$:\n",
        "\n",
        "$$F_{\\vec{\\xi}}(x,y)=  \\int\\limits^{x}_{-\\infty} \\int\\limits^{y}_{-\\infty} f_{\\vec{\\xi}}(x,y) dxdy = \\int\\limits^{x}_{-\\infty} \\int\\limits^{+\\infty}_{-\\infty} f_{\\vec{\\xi}}(x,y) dxdy =\t\\int\\limits^{x}_{-\\infty}dx\\int\\limits^{+\\infty}_{-\\infty}f_{\\vec{\\xi}}(x,y) dy =$$\n",
        "\n",
        "$$= \\int\\limits_{-\\infty}^x f_{\\xi_1}(x) dx = \\int\\limits_{0}^x  (3x-3x^2+\\frac{3}{4}x^3) dx = \\frac{3}{2}x^2 - x^3 + \\frac{3}{16}x^4\n",
        "$$\n",
        "4. Для $x > 2 - \\frac 2 3 y,\\ \\ 0 < y \\leq 3$:\n",
        "$$\n",
        "F_{\\vec{\\xi}}(x,y)= \\int\\limits_{-\\infty}^y f_{\\xi_2}(y) dy = \\int\\limits_{0}^y  (\\frac{4}{3}y - \\frac{8}{9}y^2+\\frac{4}{27}y^3) dy = \\frac{2}{3}y^2 - \\frac{8}{27}y^3 + \\frac{1}{27}y^4\n",
        "$$\n",
        "5. А если $x > 2,\\ \\ y > 3$, то $f_{\\vec{\\xi}}=1$ и $F_{\\vec{\\xi}}=1$.\n",
        "\n",
        "Итого:\n",
        "\n",
        "$$\n",
        "F_{\\vec{\\xi}}(x,y) = \\begin{cases}\n",
        "  0,\\quad &  x< 0  \\  \\text{или} \\  y< 0\n",
        "   \\\\\n",
        "   \\frac{x^2y^2}{6},\\quad &  0< x\\leq2 ,0< y\\leq 3-1.5x\n",
        "   \\\\\n",
        "   \\frac{3}{2}x^2 - x^3 + \\frac{3}{16}x^4,\\quad &  0< x\\leq2 ,y> 3-1.5x\n",
        "   \\\\\n",
        "   \\frac{2}{3}y^2 - \\frac{8}{27}y^3 + \\frac{1}{27}y^4,\\quad  &  x > 2 - \\frac{2}{3}y ,0< y\\leq 3\n",
        "   \\\\\n",
        "   1,\\quad &  x>2, y>3.\n",
        "\\end{cases}\n",
        "$$\n",
        "\n",
        "---\n"
      ]
    },
    {
      "cell_type": "code",
      "execution_count": 49,
      "metadata": {
        "id": "L6LzOcuGJZCB",
        "outputId": "ceb21d8b-b9b0-4a32-890b-4720c55da682",
        "pycharm": {
          "name": "#%%\n"
        }
      },
      "outputs": [
        {
          "data": {
            "text/plain": [
              "[0.666666666666667]"
            ]
          },
          "execution_count": 49,
          "metadata": {},
          "output_type": "execute_result"
        }
      ],
      "source": [
        "# Находим С\n",
        "x, y, c = sympy.Symbol('x'), sympy.Symbol('y'), sympy.Symbol('c')\n",
        "\n",
        "sympy.solvers.solve(\n",
        "    sympy.Integral(\n",
        "        sympy.Integral(\n",
        "            c * x * y,\n",
        "            (y, 0, 3 - 1.5 * x)\n",
        "        ).doit(),\n",
        "        (x, 0, 2)\n",
        "    ).doit() - 1,\n",
        "    c\n",
        ")"
      ]
    },
    {
      "cell_type": "code",
      "execution_count": 50,
      "metadata": {
        "id": "cC-0jDtsJZCB",
        "outputId": "687cc934-6c5e-4816-8a65-3b45862deb6b",
        "pycharm": {
          "name": "#%%\n"
        }
      },
      "outputs": [
        {
          "data": {
            "text/latex": [
              "$\\displaystyle 3.0 x \\left(1 - 0.5 x\\right)^{2}$"
            ],
            "text/plain": [
              "3.0*x*(1 - 0.5*x)**2"
            ]
          },
          "execution_count": 50,
          "metadata": {},
          "output_type": "execute_result"
        }
      ],
      "source": [
        "# Для  Y от 0 до 3 - 1.5 * x \n",
        "sympy.Integral(2/3 * x * y, (y, 0, 3 - 1.5 * x)).doit()"
      ]
    },
    {
      "cell_type": "code",
      "execution_count": 51,
      "metadata": {
        "id": "EhejVxY4JZCC",
        "outputId": "0f0a6c57-a3e0-449e-fc5a-e23a356058a7",
        "pycharm": {
          "name": "#%%\n"
        }
      },
      "outputs": [
        {
          "data": {
            "text/latex": [
              "$\\displaystyle 1.33333333333333 y \\left(1 - 0.333333333333333 y\\right)^{2}$"
            ],
            "text/plain": [
              "1.33333333333333*y*(1 - 0.333333333333333*y)**2"
            ]
          },
          "execution_count": 51,
          "metadata": {},
          "output_type": "execute_result"
        }
      ],
      "source": [
        "# берем инт по Х (х выразили через Y)\n",
        "sympy.Integral(2/3 * x * y, (x, 0, 2 - 2/3 * y)).doit()"
      ]
    },
    {
      "cell_type": "markdown",
      "metadata": {
        "collapsed": false,
        "id": "aDiKEDieJZCC",
        "pycharm": {
          "name": "#%% md\n"
        }
      },
      "source": [
        "$0<x\\leq 2, \\ \\ 0 < y \\leq 3 - 1.5 x$:"
      ]
    },
    {
      "cell_type": "code",
      "execution_count": 52,
      "metadata": {
        "id": "9vRloyvmJZCC",
        "outputId": "1952f33d-a754-4c14-ee5a-be9c3c4436d1",
        "pycharm": {
          "name": "#%%\n"
        }
      },
      "outputs": [
        {
          "data": {
            "text/latex": [
              "$\\displaystyle 0.166666666666667 x^{2} y^{2}$"
            ],
            "text/plain": [
              "0.166666666666667*x**2*y**2"
            ]
          },
          "execution_count": 52,
          "metadata": {},
          "output_type": "execute_result"
        }
      ],
      "source": [
        "sympy.Integral(\n",
        "    sympy.Integral(\n",
        "        2/3 * x * y,\n",
        "        (y, 0, y)\n",
        "    ).doit(),\n",
        "    (x, 0, x)\n",
        ").doit()"
      ]
    },
    {
      "cell_type": "markdown",
      "metadata": {
        "collapsed": false,
        "id": "D82f_eeHJZCC",
        "pycharm": {
          "name": "#%% md\n"
        }
      },
      "source": [
        "$0 < x \\leq 2,\\ \\ y > 3 - 1.5x$:"
      ]
    },
    {
      "cell_type": "code",
      "execution_count": 53,
      "metadata": {
        "id": "vVOIe2xuJZCD",
        "outputId": "06ef43cb-3cc6-426c-81f3-37ba3ab151fc",
        "pycharm": {
          "name": "#%%\n"
        }
      },
      "outputs": [
        {
          "data": {
            "text/plain": [
              "(0.1875*x**4 - 1.0*x**3 + 1.5*x**2,)"
            ]
          },
          "execution_count": 53,
          "metadata": {},
          "output_type": "execute_result"
        }
      ],
      "source": [
        "sympy.Integral(\n",
        "    3 * x * (1 - 0.5 * x) ** 2,\n",
        "    (x, 0, x)\n",
        ").doit(),"
      ]
    },
    {
      "cell_type": "markdown",
      "metadata": {
        "collapsed": false,
        "id": "Clv4uIrgJZCD",
        "pycharm": {
          "name": "#%% md\n"
        }
      },
      "source": [
        "$x > 2 - \\frac 2 3 y,\\ \\ 0 < y \\leq 3$:"
      ]
    },
    {
      "cell_type": "code",
      "execution_count": 54,
      "metadata": {
        "id": "cjCWkb9DJZCD",
        "outputId": "ef92f996-b201-4192-f74e-a9163b400eee",
        "pycharm": {
          "name": "#%%\n"
        }
      },
      "outputs": [
        {
          "data": {
            "text/latex": [
              "$\\displaystyle 0.037037037037037 y^{4} - 0.296296296296296 y^{3} + 0.666666666666667 y^{2}$"
            ],
            "text/plain": [
              "0.037037037037037*y**4 - 0.296296296296296*y**3 + 0.666666666666667*y**2"
            ]
          },
          "execution_count": 54,
          "metadata": {},
          "output_type": "execute_result"
        }
      ],
      "source": [
        "sympy.Integral(\n",
        "    4/3 * y * (1 - 1/3 * y) ** 2,\n",
        "    (y, 0, y)\n",
        ").doit()"
      ]
    }
  ],
  "metadata": {
    "colab": {
      "provenance": []
    },
    "kernelspec": {
      "display_name": "base",
      "language": "python",
      "name": "python3"
    },
    "language_info": {
      "codemirror_mode": {
        "name": "ipython",
        "version": 3
      },
      "file_extension": ".py",
      "mimetype": "text/x-python",
      "name": "python",
      "nbconvert_exporter": "python",
      "pygments_lexer": "ipython3",
      "version": "3.8.5 (default, Sep  4 2020, 02:22:02) \n[Clang 10.0.0 ]"
    },
    "vscode": {
      "interpreter": {
        "hash": "40d3a090f54c6569ab1632332b64b2c03c39dcf918b08424e98f38b5ae0af88f"
      }
    }
  },
  "nbformat": 4,
  "nbformat_minor": 0
}
