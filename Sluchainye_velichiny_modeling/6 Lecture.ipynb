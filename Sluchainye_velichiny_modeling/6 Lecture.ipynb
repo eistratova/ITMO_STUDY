{
  "cells": [
    {
      "cell_type": "code",
      "execution_count": null,
      "metadata": {
        "collapsed": true,
        "id": "8aOxqMIuhGYU",
        "pycharm": {
          "name": "#%%\n"
        }
      },
      "outputs": [],
      "source": [
        "import numpy as np\n",
        "from matplotlib import pyplot as plt"
      ]
    },
    {
      "cell_type": "markdown",
      "metadata": {
        "collapsed": false,
        "id": "1vP93t5HhGYV",
        "pycharm": {
          "name": "#%% md\n"
        }
      },
      "source": [
        "---\n",
        "# Обзор задач, решаемых статистикой. Введение\n",
        "---"
      ]
    },
    {
      "cell_type": "markdown",
      "metadata": {
        "collapsed": false,
        "id": "TN719e9thGYW",
        "pycharm": {
          "name": "#%% md\n"
        }
      },
      "source": [
        "### Задача.\n",
        "\n",
        "---\n",
        "\n",
        "Найти моду случайной величины, распределение которой задано таблицей:\n",
        "$$\n",
        "\\begin{array}{c|c|c|c|c|c}\n",
        "\\xi & 1 & 2 & 3 & 4 & 5 \\\\\n",
        "\\hline\n",
        "\\mathsf P & \\frac{1}{8} & \\frac{1}{4} & \\frac{1}{6} & \\frac{1}{12} & \\frac{9}{24}\n",
        "\\end{array}\n",
        "$$\n",
        "\n",
        "---\n",
        "\n",
        "Значения $\\{2,\\ 5\\}$ являются модами $\\xi$, потому что $\\mathsf P(1) < \\mathsf P(2) < \\mathsf P(3)$ и $\\mathsf P(4) < \\mathsf P(5) < \\mathsf P(\\xi > 5) = 0$.\n",
        "\n",
        "---"
      ]
    },
    {
      "cell_type": "code",
      "execution_count": null,
      "metadata": {
        "colab": {
          "base_uri": "https://localhost:8080/",
          "height": 143
        },
        "id": "0VvLUq8xhGYW",
        "outputId": "0a6a3d7d-b6e2-4794-e075-5baa712a588b",
        "pycharm": {
          "name": "#%%\n"
        }
      },
      "outputs": [
        {
          "data": {
            "text/plain": [
              "<BarContainer object of 5 artists>"
            ]
          },
          "execution_count": 2,
          "metadata": {},
          "output_type": "execute_result"
        },
        {
          "data": {
            "image/png": "[encoded data removed]",
            "text/plain": [
              "<Figure size 432x288 with 1 Axes>"
            ]
          },
          "metadata": {
            "needs_background": "light"
          },
          "output_type": "display_data"
        }
      ],
      "source": [
        "plt.bar([1, 2, 3, 4, 5], [1 / 8, 1 / 4, 1 / 6, 1 / 12, 9 / 24])"
      ]
    },
    {
      "cell_type": "markdown",
      "metadata": {
        "collapsed": false,
        "id": "xk1emhIrhGYX",
        "pycharm": {
          "name": "#%% md\n"
        }
      },
      "source": [
        "### Задача.\n",
        "\n",
        "---\n",
        "\n",
        "Плотность случайной величины $\\xi$ задается выражением\n",
        "\n",
        "$$\n",
        "f_\\xi(x) = \\frac{3}{4} \\cdot \\frac{1}{\\sqrt{2\\pi}2}e^{-\\frac{(x - 3)^2}{8}} + \\frac{1}{4} \\cdot \\frac{1}{\\pi(1 + x^2)}\n",
        "$$\n",
        "\n",
        "Унимодально ли это распределение? Если нет, то сколько мод оно имеет?\n",
        "\n",
        "---\n",
        "\n",
        "Можно заметить, что перед нами — сумма двух плотностей распределений: нормального и Коши. Они оба унимодальны и имеют моды в точках $3$ и $0$  соответственно. Можно взять производную от $f_xi$ и проверить, являются ли точки $3$ и $0$ строгими экстремумами, и убедиться в том, что являются.\n",
        "\n",
        "---"
      ]
    },
    {
      "cell_type": "code",
      "execution_count": null,
      "metadata": {
        "colab": {
          "base_uri": "https://localhost:8080/",
          "height": 108
        },
        "id": "GK5bU9I3hGYX",
        "outputId": "5b7f46d7-59b6-4501-8803-2b37733f30a8",
        "pycharm": {
          "name": "#%%\n"
        }
      },
      "outputs": [
        {
          "data": {
            "text/plain": [
              "[<matplotlib.lines.Line2D at 0x7f53af596850>]"
            ]
          },
          "execution_count": 3,
          "metadata": {},
          "output_type": "execute_result"
        },
        {
          "data": {
            "image/png": "[encoded data removed]",
            "text/plain": [
              "<Figure size 432x288 with 1 Axes>"
            ]
          },
          "metadata": {
            "needs_background": "light"
          },
          "output_type": "display_data"
        }
      ],
      "source": [
        "x = np.arange(-5, 10, 0.1)\n",
        "y = 3 / 4 * 1 / (2 * np.sqrt(2 * np.pi)) * np.exp(- (x - 3) ** 2 / 8) + 1 / 4 * 1 / (np.pi * (1 + x ** 2))\n",
        "plt.plot(x, y)"
      ]
    },
    {
      "cell_type": "markdown",
      "metadata": {
        "collapsed": false,
        "id": "o0M7_tKGhGYX",
        "pycharm": {
          "name": "#%% md\n"
        }
      },
      "source": [
        "---\n",
        "# Точечное и интервальное оценивание\n",
        "---"
      ]
    },
    {
      "cell_type": "markdown",
      "metadata": {
        "collapsed": false,
        "id": "gnyC5bUBhGYY",
        "pycharm": {
          "name": "#%% md\n"
        }
      },
      "source": [
        "### Задача.\n",
        "\n",
        "---\n",
        "\n",
        "В некотором дачном поселке земля на всех участках одинаково плодородна, и все сажают кабачки одинаково: в одно и то же время, в одних и тех же условиях и так далее. Дачница Валентина Петровна согласилась поделиться статистикой сбора урожая кабачков за последние $10$ лет. Данные по количеству (в шт.) собранных кабачков дает следующая выборка:\n",
        "\n",
        "$$(5, 12, 7, 4, 9, 10, 9, 4, 9, 12)$$\n",
        "\n",
        "Построить распределение эмпирической случайной величины $\\xi^*$. Вычислить вероятность события $A$, что случайно взятый дачник в следующем году соберет от $7$ до $9$ кабачков.\n",
        "\n",
        "---\n",
        "\n",
        "Распределение $\\xi^*$:\n",
        "\n",
        "$$\n",
        "\\begin{array}{c|c|c|c|c|c|c}\n",
        "\\xi & 4 & 5 & 7 & 9 & 10 & 12 \\\\\n",
        "\\hline\n",
        "\\mathsf P & \\frac{2}{10} & \\frac{1}{10} & \\frac{1}{10} & \\frac{3}{10} & \\frac{1}{10} & \\frac{2}{10}\n",
        "\\end{array}\n",
        "$$\n",
        "\n",
        "Получается, $\\mathsf P(A) = \\mathsf P(\\xi^* = 9) + \\mathsf(\\xi^*=7) = \\frac 4 {10}$\n",
        "\n",
        "---\n"
      ]
    },
    {
      "cell_type": "code",
      "execution_count": null,
      "metadata": {
        "colab": {
          "base_uri": "https://localhost:8080/",
          "height": 143
        },
        "id": "t34hL374hGYY",
        "outputId": "e078c10c-9b27-4bd5-845e-6006969ed7bf",
        "pycharm": {
          "name": "#%%\n"
        }
      },
      "outputs": [
        {
          "data": {
            "text/plain": [
              "<BarContainer object of 6 artists>"
            ]
          },
          "execution_count": 4,
          "metadata": {},
          "output_type": "execute_result"
        },
        {
          "data": {
            "image/png": "[encoded data removed]",
            "text/plain": [
              "<Figure size 432x288 with 1 Axes>"
            ]
          },
          "metadata": {
            "needs_background": "light"
          },
          "output_type": "display_data"
        }
      ],
      "source": [
        "X = np.array([5, 12, 7, 4, 9, 10, 9, 4, 9, 12])\n",
        "distribution, accum = {}, 0\n",
        "\n",
        "for i in sorted(np.unique(X)):\n",
        "    accum += np.array(X == i).sum() / X.size\n",
        "    distribution[f'>= {i}'] = accum\n",
        "\n",
        "plt.grid()\n",
        "plt.bar(distribution.keys(), distribution.values())"
      ]
    },
    {
      "cell_type": "markdown",
      "metadata": {
        "collapsed": false,
        "id": "aOjP6KrehGYZ",
        "pycharm": {
          "name": "#%% md\n"
        }
      },
      "source": [
        "### Задача.\n",
        "\n",
        "---\n",
        "\n",
        "Председатель садоводства Михаил Семенович, агроном по образованию, но статистик в душе, решил обработать данные, озвученные Валентиной Петровной, чтобы выступить с докладом в объединенном обществе садоводов. Напомним, что распределение эмпирической случайной величины $\\xi^*$ задается таблицей\n",
        "\n",
        "$$\n",
        "\\begin{array}{c|c|c|c|c|c|c}\n",
        "\\xi^\\ast & 4 & 5 & 7 & 9 & 10 & 12 \\\\ \\hline\n",
        "\\mathsf P & \\frac{2}{10} & \\frac{1}{10} & \\frac{1}{10} & \\frac{3}{10} & \\frac{1}{10} & \\frac{2}{10}\n",
        "\\end{array}\n",
        "$$\n",
        "\n",
        "Оценить среднее количество выращенных кабачков в год на одного садовода, вычислив $\\widetilde{\\mathsf{E}} \\xi^\\ast = \\overline{X}$.\n",
        "\n",
        "Оценить среднее квадрата разброса $\\widetilde{\\mathsf D} \\xi^\\ast = S^2$.\n",
        "\n",
        "Оценить медиану $\\widehat{\\mathsf{med} \\ \\xi}$ генеральной совокупности $\\xi$, вычислив медиану $\\xi^*$.\n",
        "\n",
        "Найти моды эмпирического распределения.\n",
        "\n",
        "---\n",
        "\n",
        "$$\n",
        "\\widetilde{\\mathsf{E}} \\xi^\\ast = \\overline{X} = \\dfrac 1 {|X|} \\sum\\limits_{i\\in X} i = 8.1\n",
        "$$\n",
        "$$\n",
        "\\widetilde{\\mathsf D} \\xi^\\ast = S^2 = \\dfrac 1 {|X| - 1} \\sum\\limits_{i\\in X} \\left(X - \\overline X\\right)^2 = 8.09\n",
        "$$\n",
        "$\\widehat{\\mathsf{med} \\ \\xi}=9$, потому что $P(\\xi^*\\leq 9) > 0.5$ и $P(\\xi^*\\geq 9) > 0.5$.\n",
        "\n",
        "А моды — это $\\{4,\\ 9,\\ 12\\}$.\n",
        "\n",
        "---"
      ]
    },
    {
      "cell_type": "code",
      "execution_count": null,
      "metadata": {
        "colab": {
          "base_uri": "https://localhost:8080/",
          "height": 72
        },
        "id": "MzjG93ePhGYZ",
        "outputId": "50cfd43e-015d-456a-f909-e572076e7ba3",
        "pycharm": {
          "name": "#%%\n"
        }
      },
      "outputs": [
        {
          "name": "stdout",
          "output_type": "stream",
          "text": [
            "8.1 8.090000000000002 9.0\n"
          ]
        },
        {
          "data": {
            "image/png": "[encoded data removed]",
            "text/plain": [
              "<Figure size 432x288 with 1 Axes>"
            ]
          },
          "metadata": {
            "needs_background": "light"
          },
          "output_type": "display_data"
        }
      ],
      "source": [
        "print(np.mean(X), np.var(X), np.median(X))\n",
        "plt.plot([4, 5, 7, 9, 10, 12], [2/10, 1/10, 1/10, 3/10, 1/10, 2/10])\n",
        "plt.show()"
      ]
    },
    {
      "cell_type": "markdown",
      "metadata": {
        "id": "0YfNOJAsx4Cs"
      },
      "source": [
        "# Задание"
      ]
    },
    {
      "cell_type": "markdown",
      "metadata": {
        "id": "JMdw0zj5x7kS"
      },
      "source": [
        "Ваша задача, оценить параметры распределения по выборке объема $n = 10$ из распределения Бернулли $\\mathsf B_{0.93}$"
      ]
    },
    {
      "cell_type": "code",
      "execution_count": null,
      "metadata": {
        "id": "c_DuK26YyEjr"
      },
      "outputs": [],
      "source": [
        "import pandas as pd"
      ]
    },
    {
      "cell_type": "code",
      "execution_count": null,
      "metadata": {
        "colab": {
          "base_uri": "https://localhost:8080/",
          "height": 386
        },
        "id": "bmuxUAzVyJGo",
        "outputId": "cc11e448-15f4-4985-f553-2984dfc58c1d"
      },
      "outputs": [
        {
          "data": {
            "text/html": [
              "\n",
              "  <div id=\"df-2dd4ad74-62af-4d81-943b-0825de2cc4c5\">\n",
              "    <div class=\"colab-df-container\">\n",
              "      <div>\n",
              "<style scoped>\n",
              "    .dataframe tbody tr th:only-of-type {\n",
              "        vertical-align: middle;\n",
              "    }\n",
              "\n",
              "    .dataframe tbody tr th {\n",
              "        vertical-align: top;\n",
              "    }\n",
              "\n",
              "    .dataframe thead th {\n",
              "        text-align: right;\n",
              "    }\n",
              "</style>\n",
              "<table border=\"1\" class=\"dataframe\">\n",
              "  <thead>\n",
              "    <tr style=\"text-align: right;\">\n",
              "      <th></th>\n",
              "      <th>0</th>\n",
              "    </tr>\n",
              "  </thead>\n",
              "  <tbody>\n",
              "    <tr>\n",
              "      <th>0</th>\n",
              "      <td>1.0</td>\n",
              "    </tr>\n",
              "    <tr>\n",
              "      <th>1</th>\n",
              "      <td>1.0</td>\n",
              "    </tr>\n",
              "    <tr>\n",
              "      <th>2</th>\n",
              "      <td>1.0</td>\n",
              "    </tr>\n",
              "    <tr>\n",
              "      <th>3</th>\n",
              "      <td>1.0</td>\n",
              "    </tr>\n",
              "    <tr>\n",
              "      <th>4</th>\n",
              "      <td>1.0</td>\n",
              "    </tr>\n",
              "    <tr>\n",
              "      <th>5</th>\n",
              "      <td>1.0</td>\n",
              "    </tr>\n",
              "    <tr>\n",
              "      <th>6</th>\n",
              "      <td>1.0</td>\n",
              "    </tr>\n",
              "    <tr>\n",
              "      <th>7</th>\n",
              "      <td>1.0</td>\n",
              "    </tr>\n",
              "    <tr>\n",
              "      <th>8</th>\n",
              "      <td>1.0</td>\n",
              "    </tr>\n",
              "    <tr>\n",
              "      <th>9</th>\n",
              "      <td>1.0</td>\n",
              "    </tr>\n",
              "  </tbody>\n",
              "</table>\n",
              "</div>\n",
              "      <button class=\"colab-df-convert\" onclick=\"convertToInteractive('df-2dd4ad74-62af-4d81-943b-0825de2cc4c5')\"\n",
              "              title=\"Convert this dataframe to an interactive table.\"\n",
              "              style=\"display:none;\">\n",
              "        \n",
              "  <svg xmlns=\"http://www.w3.org/2000/svg\" height=\"24px\"viewBox=\"0 0 24 24\"\n",
              "       width=\"24px\">\n",
              "    <path d=\"M0 0h24v24H0V0z\" fill=\"none\"/>\n",
              "    <path d=\"M18.56 5.44l.94 2.06.94-2.06 2.06-.94-2.06-.94-.94-2.06-.94 2.06-2.06.94zm-11 1L8.5 8.5l.94-2.06 2.06-.94-2.06-.94L8.5 2.5l-.94 2.06-2.06.94zm10 10l.94 2.06.94-2.06 2.06-.94-2.06-.94-.94-2.06-.94 2.06-2.06.94z\"/><path d=\"M17.41 7.96l-1.37-1.37c-.4-.4-.92-.59-1.43-.59-.52 0-1.04.2-1.43.59L10.3 9.45l-7.72 7.72c-.78.78-.78 2.05 0 2.83L4 21.41c.39.39.9.59 1.41.59.51 0 1.02-.2 1.41-.59l7.78-7.78 2.81-2.81c.8-.78.8-2.07 0-2.86zM5.41 20L4 18.59l7.72-7.72 1.47 1.35L5.41 20z\"/>\n",
              "  </svg>\n",
              "      </button>\n",
              "      \n",
              "  <style>\n",
              "    .colab-df-container {\n",
              "      display:flex;\n",
              "      flex-wrap:wrap;\n",
              "      gap: 12px;\n",
              "    }\n",
              "\n",
              "    .colab-df-convert {\n",
              "      background-color: #E8F0FE;\n",
              "      border: none;\n",
              "      border-radius: 50%;\n",
              "      cursor: pointer;\n",
              "      display: none;\n",
              "      fill: #1967D2;\n",
              "      height: 32px;\n",
              "      padding: 0 0 0 0;\n",
              "      width: 32px;\n",
              "    }\n",
              "\n",
              "    .colab-df-convert:hover {\n",
              "      background-color: #E2EBFA;\n",
              "      box-shadow: 0px 1px 2px rgba(60, 64, 67, 0.3), 0px 1px 3px 1px rgba(60, 64, 67, 0.15);\n",
              "      fill: #174EA6;\n",
              "    }\n",
              "\n",
              "    [theme=dark] .colab-df-convert {\n",
              "      background-color: #3B4455;\n",
              "      fill: #D2E3FC;\n",
              "    }\n",
              "\n",
              "    [theme=dark] .colab-df-convert:hover {\n",
              "      background-color: #434B5C;\n",
              "      box-shadow: 0px 1px 3px 1px rgba(0, 0, 0, 0.15);\n",
              "      filter: drop-shadow(0px 1px 2px rgba(0, 0, 0, 0.3));\n",
              "      fill: #FFFFFF;\n",
              "    }\n",
              "  </style>\n",
              "\n",
              "      <script>\n",
              "        const buttonEl =\n",
              "          document.querySelector('#df-2dd4ad74-62af-4d81-943b-0825de2cc4c5 button.colab-df-convert');\n",
              "        buttonEl.style.display =\n",
              "          google.colab.kernel.accessAllowed ? 'block' : 'none';\n",
              "\n",
              "        async function convertToInteractive(key) {\n",
              "          const element = document.querySelector('#df-2dd4ad74-62af-4d81-943b-0825de2cc4c5');\n",
              "          const dataTable =\n",
              "            await google.colab.kernel.invokeFunction('convertToInteractive',\n",
              "                                                     [key], {});\n",
              "          if (!dataTable) return;\n",
              "\n",
              "          const docLinkHtml = 'Like what you see? Visit the ' +\n",
              "            '<a target=\"_blank\" href=https://colab.research.google.com/notebooks/data_table.ipynb>data table notebook</a>'\n",
              "            + ' to learn more about interactive tables.';\n",
              "          element.innerHTML = '';\n",
              "          dataTable['output_type'] = 'display_data';\n",
              "          await google.colab.output.renderOutput(dataTable, element);\n",
              "          const docLink = document.createElement('div');\n",
              "          docLink.innerHTML = docLinkHtml;\n",
              "          element.appendChild(docLink);\n",
              "        }\n",
              "      </script>\n",
              "    </div>\n",
              "  </div>\n",
              "  "
            ],
            "text/plain": [
              "     0\n",
              "0  1.0\n",
              "1  1.0\n",
              "2  1.0\n",
              "3  1.0\n",
              "4  1.0\n",
              "5  1.0\n",
              "6  1.0\n",
              "7  1.0\n",
              "8  1.0\n",
              "9  1.0"
            ]
          },
          "execution_count": 7,
          "metadata": {},
          "output_type": "execute_result"
        }
      ],
      "source": [
        "df = pd.read_csv('https://de.ifmo.ru/--openedu/appliedstatistics/course2019/ex1/Bernoulli_10_128.csv', header=None)\n",
        "df"
      ]
    },
    {
      "cell_type": "code",
      "execution_count": null,
      "metadata": {
        "colab": {
          "base_uri": "https://localhost:8080/"
        },
        "id": "X7VBIfnpySIn",
        "outputId": "3c7238f7-c458-437e-9a50-e7f4e3c6b37a"
      },
      "outputs": [
        {
          "name": "stdout",
          "output_type": "stream",
          "text": [
            "1.0 0.06999999999999995\n"
          ]
        }
      ],
      "source": [
        "p = df[0].mean()\n",
        "print(p, abs(p - 0.93))"
      ]
    },
    {
      "cell_type": "code",
      "execution_count": null,
      "metadata": {
        "colab": {
          "base_uri": "https://localhost:8080/"
        },
        "id": "ZK3KcYxEyo6z",
        "outputId": "a6a808ea-08d2-4878-a54e-0a688e5b92f7"
      },
      "outputs": [
        {
          "name": "stdout",
          "output_type": "stream",
          "text": [
            "0.0 0.06509999999999996\n"
          ]
        }
      ],
      "source": [
        "S2 = np.var(df[0], ddof=0)\n",
        "print(S2, abs(S2 - 0.93*(1-0.93)))"
      ]
    },
    {
      "cell_type": "code",
      "execution_count": null,
      "metadata": {
        "colab": {
          "base_uri": "https://localhost:8080/",
          "height": 447
        },
        "id": "0DXDxTxLy_Oe",
        "outputId": "8d6cc0f1-e85d-4116-c05e-abcd7f7ab84a"
      },
      "outputs": [
        {
          "data": {
            "text/html": [
              "\n",
              "  <div id=\"df-bfbed6bf-26fc-4c69-b837-ddb985473bdf\">\n",
              "    <div class=\"colab-df-container\">\n",
              "      <div>\n",
              "<style scoped>\n",
              "    .dataframe tbody tr th:only-of-type {\n",
              "        vertical-align: middle;\n",
              "    }\n",
              "\n",
              "    .dataframe tbody tr th {\n",
              "        vertical-align: top;\n",
              "    }\n",
              "\n",
              "    .dataframe thead th {\n",
              "        text-align: right;\n",
              "    }\n",
              "</style>\n",
              "<table border=\"1\" class=\"dataframe\">\n",
              "  <thead>\n",
              "    <tr style=\"text-align: right;\">\n",
              "      <th></th>\n",
              "      <th>0</th>\n",
              "    </tr>\n",
              "  </thead>\n",
              "  <tbody>\n",
              "    <tr>\n",
              "      <th>0</th>\n",
              "      <td>1.0</td>\n",
              "    </tr>\n",
              "    <tr>\n",
              "      <th>1</th>\n",
              "      <td>1.0</td>\n",
              "    </tr>\n",
              "    <tr>\n",
              "      <th>2</th>\n",
              "      <td>1.0</td>\n",
              "    </tr>\n",
              "    <tr>\n",
              "      <th>3</th>\n",
              "      <td>0.0</td>\n",
              "    </tr>\n",
              "    <tr>\n",
              "      <th>4</th>\n",
              "      <td>1.0</td>\n",
              "    </tr>\n",
              "    <tr>\n",
              "      <th>...</th>\n",
              "      <td>...</td>\n",
              "    </tr>\n",
              "    <tr>\n",
              "      <th>9995</th>\n",
              "      <td>1.0</td>\n",
              "    </tr>\n",
              "    <tr>\n",
              "      <th>9996</th>\n",
              "      <td>1.0</td>\n",
              "    </tr>\n",
              "    <tr>\n",
              "      <th>9997</th>\n",
              "      <td>1.0</td>\n",
              "    </tr>\n",
              "    <tr>\n",
              "      <th>9998</th>\n",
              "      <td>1.0</td>\n",
              "    </tr>\n",
              "    <tr>\n",
              "      <th>9999</th>\n",
              "      <td>1.0</td>\n",
              "    </tr>\n",
              "  </tbody>\n",
              "</table>\n",
              "<p>10000 rows × 1 columns</p>\n",
              "</div>\n",
              "      <button class=\"colab-df-convert\" onclick=\"convertToInteractive('df-bfbed6bf-26fc-4c69-b837-ddb985473bdf')\"\n",
              "              title=\"Convert this dataframe to an interactive table.\"\n",
              "              style=\"display:none;\">\n",
              "        \n",
              "  <svg xmlns=\"http://www.w3.org/2000/svg\" height=\"24px\"viewBox=\"0 0 24 24\"\n",
              "       width=\"24px\">\n",
              "    <path d=\"M0 0h24v24H0V0z\" fill=\"none\"/>\n",
              "    <path d=\"M18.56 5.44l.94 2.06.94-2.06 2.06-.94-2.06-.94-.94-2.06-.94 2.06-2.06.94zm-11 1L8.5 8.5l.94-2.06 2.06-.94-2.06-.94L8.5 2.5l-.94 2.06-2.06.94zm10 10l.94 2.06.94-2.06 2.06-.94-2.06-.94-.94-2.06-.94 2.06-2.06.94z\"/><path d=\"M17.41 7.96l-1.37-1.37c-.4-.4-.92-.59-1.43-.59-.52 0-1.04.2-1.43.59L10.3 9.45l-7.72 7.72c-.78.78-.78 2.05 0 2.83L4 21.41c.39.39.9.59 1.41.59.51 0 1.02-.2 1.41-.59l7.78-7.78 2.81-2.81c.8-.78.8-2.07 0-2.86zM5.41 20L4 18.59l7.72-7.72 1.47 1.35L5.41 20z\"/>\n",
              "  </svg>\n",
              "      </button>\n",
              "      \n",
              "  <style>\n",
              "    .colab-df-container {\n",
              "      display:flex;\n",
              "      flex-wrap:wrap;\n",
              "      gap: 12px;\n",
              "    }\n",
              "\n",
              "    .colab-df-convert {\n",
              "      background-color: #E8F0FE;\n",
              "      border: none;\n",
              "      border-radius: 50%;\n",
              "      cursor: pointer;\n",
              "      display: none;\n",
              "      fill: #1967D2;\n",
              "      height: 32px;\n",
              "      padding: 0 0 0 0;\n",
              "      width: 32px;\n",
              "    }\n",
              "\n",
              "    .colab-df-convert:hover {\n",
              "      background-color: #E2EBFA;\n",
              "      box-shadow: 0px 1px 2px rgba(60, 64, 67, 0.3), 0px 1px 3px 1px rgba(60, 64, 67, 0.15);\n",
              "      fill: #174EA6;\n",
              "    }\n",
              "\n",
              "    [theme=dark] .colab-df-convert {\n",
              "      background-color: #3B4455;\n",
              "      fill: #D2E3FC;\n",
              "    }\n",
              "\n",
              "    [theme=dark] .colab-df-convert:hover {\n",
              "      background-color: #434B5C;\n",
              "      box-shadow: 0px 1px 3px 1px rgba(0, 0, 0, 0.15);\n",
              "      filter: drop-shadow(0px 1px 2px rgba(0, 0, 0, 0.3));\n",
              "      fill: #FFFFFF;\n",
              "    }\n",
              "  </style>\n",
              "\n",
              "      <script>\n",
              "        const buttonEl =\n",
              "          document.querySelector('#df-bfbed6bf-26fc-4c69-b837-ddb985473bdf button.colab-df-convert');\n",
              "        buttonEl.style.display =\n",
              "          google.colab.kernel.accessAllowed ? 'block' : 'none';\n",
              "\n",
              "        async function convertToInteractive(key) {\n",
              "          const element = document.querySelector('#df-bfbed6bf-26fc-4c69-b837-ddb985473bdf');\n",
              "          const dataTable =\n",
              "            await google.colab.kernel.invokeFunction('convertToInteractive',\n",
              "                                                     [key], {});\n",
              "          if (!dataTable) return;\n",
              "\n",
              "          const docLinkHtml = 'Like what you see? Visit the ' +\n",
              "            '<a target=\"_blank\" href=https://colab.research.google.com/notebooks/data_table.ipynb>data table notebook</a>'\n",
              "            + ' to learn more about interactive tables.';\n",
              "          element.innerHTML = '';\n",
              "          dataTable['output_type'] = 'display_data';\n",
              "          await google.colab.output.renderOutput(dataTable, element);\n",
              "          const docLink = document.createElement('div');\n",
              "          docLink.innerHTML = docLinkHtml;\n",
              "          element.appendChild(docLink);\n",
              "        }\n",
              "      </script>\n",
              "    </div>\n",
              "  </div>\n",
              "  "
            ],
            "text/plain": [
              "        0\n",
              "0     1.0\n",
              "1     1.0\n",
              "2     1.0\n",
              "3     0.0\n",
              "4     1.0\n",
              "...   ...\n",
              "9995  1.0\n",
              "9996  1.0\n",
              "9997  1.0\n",
              "9998  1.0\n",
              "9999  1.0\n",
              "\n",
              "[10000 rows x 1 columns]"
            ]
          },
          "execution_count": 10,
          "metadata": {},
          "output_type": "execute_result"
        }
      ],
      "source": [
        "df1 = pd.read_csv('https://de.ifmo.ru/--openedu/appliedstatistics/course2019/ex1/Bernoulli_10000_128.csv', header=None)\n",
        "df1"
      ]
    },
    {
      "cell_type": "code",
      "execution_count": null,
      "metadata": {
        "colab": {
          "base_uri": "https://localhost:8080/"
        },
        "id": "T7R-GvuQzE3x",
        "outputId": "d21dbeb0-d499-4bb5-a3c4-7bfa7d4049fa"
      },
      "outputs": [
        {
          "name": "stdout",
          "output_type": "stream",
          "text": [
            "0.9296 0.00040000000000006697\n"
          ]
        }
      ],
      "source": [
        "p = df1[0].mean()\n",
        "print(p, abs(p - 0.93))"
      ]
    },
    {
      "cell_type": "code",
      "execution_count": null,
      "metadata": {
        "colab": {
          "base_uri": "https://localhost:8080/"
        },
        "id": "9NKFUELszG8W",
        "outputId": "2e59960c-ddc5-49b5-9de0-55f2921fa527"
      },
      "outputs": [
        {
          "name": "stdout",
          "output_type": "stream",
          "text": [
            "0.06544384 0.00034384000000003967\n"
          ]
        }
      ],
      "source": [
        "S2 = np.var(df1[0], ddof=0)\n",
        "print(S2, abs(S2 - 0.93*(1-0.93)))"
      ]
    }
  ],
  "metadata": {
    "colab": {
      "provenance": []
    },
    "kernelspec": {
      "display_name": "base",
      "language": "python",
      "name": "python3"
    },
    "language_info": {
      "codemirror_mode": {
        "name": "ipython",
        "version": 2
      },
      "file_extension": ".py",
      "mimetype": "text/x-python",
      "name": "python",
      "nbconvert_exporter": "python",
      "pygments_lexer": "ipython2",
      "version": "3.8.5"
    },
    "vscode": {
      "interpreter": {
        "hash": "40d3a090f54c6569ab1632332b64b2c03c39dcf918b08424e98f38b5ae0af88f"
      }
    }
  },
  "nbformat": 4,
  "nbformat_minor": 0
}
