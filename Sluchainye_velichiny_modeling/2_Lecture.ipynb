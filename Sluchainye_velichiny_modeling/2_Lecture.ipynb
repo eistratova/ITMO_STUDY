{
  "cells": [
    {
      "cell_type": "code",
      "execution_count": 2,
      "metadata": {
        "id": "t0Qh9iN2zmZN"
      },
      "outputs": [],
      "source": [
        "import itertools\n",
        "import math\n",
        "import numpy as np\n",
        "from numpy.random import choice\n",
        "import sympy"
      ]
    },
    {
      "cell_type": "markdown",
      "metadata": {
        "collapsed": false,
        "id": "iOvleDsVzmZO"
      },
      "source": [
        "# Случайные величины и их характеристики"
      ]
    },
    {
      "cell_type": "markdown",
      "metadata": {
        "collapsed": false,
        "id": "4xGxeTVwzmZP"
      },
      "source": [
        "**Задача.**\n",
        "\n",
        "Есть мешок со 100 неразличимыми на ощупь монетками. 20 из этих монеток серебряные, 10 — золотые, а ещё 3 — платиновые. Остальные монетки медные.\n",
        "\n",
        "Какова вероятность, что наугад вытащенная монетка окажется медной?"
      ]
    },
    {
      "cell_type": "code",
      "execution_count": 1,
      "metadata": {
        "colab": {
          "base_uri": "https://localhost:8080/"
        },
        "id": "d8u5JNJkzmZQ",
        "outputId": "12279d02-9af9-447f-ba3e-0fdeadc5b80c"
      },
      "outputs": [
        {
          "data": {
            "text/plain": [
              "0.6699999999999999"
            ]
          },
          "execution_count": 1,
          "metadata": {},
          "output_type": "execute_result"
        }
      ],
      "source": [
        "1 - (3 + 10 + 20) / 100"
      ]
    },
    {
      "cell_type": "markdown",
      "metadata": {
        "collapsed": false,
        "id": "1oLLf5EXzmZQ"
      },
      "source": [
        "Можно по-другому.\n",
        "\n",
        "Зададим случайную величину $\\xi$. Пусть значение 1 отвечает медной монетке, значение 2 — серебряной, значение 3 — золотой, значение 4 — платиновой.\n",
        "\n",
        "$$\n",
        "\\begin{array}{c|c|c|c|c}\n",
        "\\xi & 1 & 2 & 3 & 4 \\\\\n",
        "\\hline \\mathbb P & x & \\frac {20}{100} & \\frac{10}{100} & \\frac{3}{100}\n",
        "\\end{array}\n",
        "$$\n",
        "\n",
        "$$\n",
        "\\mathbb P (\\xi = 1) = 1 - \\mathbb P(\\xi \\neq 1) = 1 - \\sum\\limits_{i=2}^{4} = 1 - \\left( \\frac {20}{100} + \\frac{10}{100} + \\frac{3}{100}\\right)=\\frac {67}{100}\n",
        "$$"
      ]
    },
    {
      "cell_type": "code",
      "execution_count": 3,
      "metadata": {
        "colab": {
          "base_uri": "https://localhost:8080/"
        },
        "id": "B2iuM9_gzmZR",
        "outputId": "e9cd44db-f89b-44c8-c41a-55a8ec16e9bf"
      },
      "outputs": [
        {
          "data": {
            "text/plain": [
              "[0.670000000000000]"
            ]
          },
          "execution_count": 3,
          "metadata": {},
          "output_type": "execute_result"
        }
      ],
      "source": [
        "x = sympy.Symbol('x')\n",
        "sympy.solvers.solve((20/100 + 10/100 + 3/100 + x) - 1, x)"
      ]
    },
    {
      "cell_type": "markdown",
      "metadata": {
        "collapsed": false,
        "id": "ZhBR2YD4zmZR"
      },
      "source": [
        "**Задача.**\n",
        "\n",
        "Есть лотерейные билеты номиналами: 0, 100, 1000 и 5000. Вероятность вытащить билет без выигрыша равна 0.9. Вероятность вытащить 5000 в 2 раза меньше вероятности вытащить 1000, и в 7 раз меньше вероятности вытащить 100.\n",
        "\n",
        "Итого, мы можем составить таблицу распределения:\n",
        "\n",
        "$$\n",
        "\\begin{array}{c|c|c|c|c}\n",
        "\\xi & 0 & 100 & 1000 & 5000 \\\\\n",
        "\\hline \\mathbb P & 0.9 & 7x & 2x & x\n",
        "\\end{array}\n",
        "$$\n",
        "\n",
        "$$\n",
        "\\sum\\limits_{i\\in\\{0, 100, 1000, 5000\\}} \\mathbb P(\\xi=i)=0.9 + 7x + 2x + x=1\\quad\\Rightarrow\\quad x=\\frac{1}{100}\n",
        "$$"
      ]
    },
    {
      "cell_type": "code",
      "execution_count": null,
      "metadata": {
        "colab": {
          "base_uri": "https://localhost:8080/"
        },
        "id": "8XxI2eKrzmZR",
        "outputId": "d68b3d5a-e6d1-43dc-8bd2-2ce4025013b9"
      },
      "outputs": [
        {
          "data": {
            "text/plain": [
              "[0.0100000000000000]"
            ]
          },
          "execution_count": 4,
          "metadata": {},
          "output_type": "execute_result"
        }
      ],
      "source": [
        "sympy.solvers.solve((0.9 + x + x * 2 + x * 7) - 1, x)"
      ]
    },
    {
      "cell_type": "markdown",
      "metadata": {
        "collapsed": false,
        "id": "cbZGzJpSzmZS"
      },
      "source": [
        "**Задача.**\n",
        "\n",
        "Пусть теперь распределение некоторой случайной величины задано следующим образом:\n",
        "\n",
        "$$\n",
        "\\begin{array}{c|c|c|c}\n",
        "\\xi & 1 & 2 & 3  \\\\\n",
        "\\hline \\mathbb P & 2\\varphi^2  + 0.5 \\varphi & 4 \\varphi & 6  \\varphi ^ 2\n",
        "\\end{array}\n",
        "$$\n",
        "\n",
        "Чему равно $\\varphi$?\n",
        "$$\n",
        "\\sum\\limits_{i=1}^3 \\mathbb P(\\xi=i)=2\\varphi^2  + 0.5 \\varphi + 4 \\varphi + 6  \\varphi ^ 2= 8\\varphi ^ 2 + 4.5\\varphi = 1\\quad \\Rightarrow\\quad 8\\varphi ^ 2 + 4.5\\varphi - 1 = 0\n",
        "$$"
      ]
    },
    {
      "cell_type": "code",
      "execution_count": 4,
      "metadata": {
        "colab": {
          "base_uri": "https://localhost:8080/"
        },
        "id": "5xyQCACnzmZS",
        "outputId": "92a80c19-2e0c-48ac-fa46-53cb75087676"
      },
      "outputs": [
        {
          "data": {
            "text/plain": [
              "[-0.733026009212530, 0.170526009212530]"
            ]
          },
          "execution_count": 4,
          "metadata": {},
          "output_type": "execute_result"
        }
      ],
      "source": [
        "sympy.solvers.solve((2 * x ** 2 + 0.5 * x + 4 * x + 6 * x ** 2) - 1, x)"
      ]
    },
    {
      "cell_type": "markdown",
      "metadata": {
        "collapsed": false,
        "id": "Qoj8ewGTzmZT"
      },
      "source": [
        "Важно понимать, что на роль реального значения $\\varphi$ может претендовать только второе значение."
      ]
    },
    {
      "cell_type": "markdown",
      "metadata": {
        "collapsed": false,
        "id": "sZYoYPg3zmZT"
      },
      "source": [
        "**Задача.**\n",
        "\n",
        "Подбрасывается 3 честных монетки. Необходимо составить таблицу совместного распределения случайных величин: $\\xi$ — число выпавших орлов, $\\eta$ — число выпавших решек."
      ]
    },
    {
      "cell_type": "code",
      "execution_count": 5,
      "metadata": {
        "colab": {
          "base_uri": "https://localhost:8080/"
        },
        "id": "oosnl01PzmZT",
        "outputId": "1bb33af6-a65d-47ce-dde4-dbfbd24882b2"
      },
      "outputs": [
        {
          "data": {
            "text/plain": [
              "array([[0.     , 0.     , 0.     , 0.12571],\n",
              "       [0.     , 0.     , 0.37559, 0.     ],\n",
              "       [0.     , 0.37341, 0.     , 0.     ],\n",
              "       [0.12529, 0.     , 0.     , 0.     ]])"
            ]
          },
          "execution_count": 5,
          "metadata": {},
          "output_type": "execute_result"
        }
      ],
      "source": [
        "t, res_table = 100000, np.zeros((4, 4))\n",
        "for _ in range(t):\n",
        "    experiment = choice(['O', 'P'], 3)\n",
        "    eagle_count = (experiment == 'O').sum()\n",
        "    tail_count = (experiment == 'P').sum()\n",
        "    res_table[eagle_count][tail_count] += 1\n",
        "res_table / t"
      ]
    },
    {
      "cell_type": "markdown",
      "metadata": {
        "collapsed": false,
        "id": "SpxUpk8ozmZU"
      },
      "source": [
        "Для альтернативного решения этой задачи можно вспомнить, как мы строили таблицу распределения одной величины $\\xi$:\n",
        "\n",
        "$$\\mathbb P(\\xi = i) = \\frac{C^i_3}{2^3}$$\n",
        "\n",
        "Тогда $\\mathbb P(\\xi = 0)=\\mathbb P(\\xi = 3)=\\frac 1 8 = 0.125$ и $\\mathbb P(\\xi = 1) = \\mathbb P(\\xi = 2) = \\frac 3 8 = 0.375$.\n",
        "\n",
        "То же самое стоит на диагонали таблицы совместного распределения, потому что $\\xi + \\eta = 3$."
      ]
    },
    {
      "cell_type": "markdown",
      "metadata": {
        "collapsed": false,
        "id": "xQDjwcspzmZU"
      },
      "source": [
        "**Задача.**\n",
        "\n",
        "Дана таблица совместного распределения двух случайных величин. Составить таблицы их маргинальных распределений.\n",
        "$$\n",
        "\\begin{array}{c|c|c|c}\n",
        "\\eta\\backslash\\xi & 1 & 2 & 3  \\\\\n",
        "\\hline  4 & 0 & 0 & 0.4 \\\\\n",
        "\\hline  5 & 0.05 & 0.05 & 0.1 \\\\\n",
        "\\hline  6 & 0.3 & 0.05 & 0.05 \\\\\n",
        "\\end{array}\n",
        "$$\n"
      ]
    },
    {
      "cell_type": "code",
      "execution_count": null,
      "metadata": {
        "colab": {
          "base_uri": "https://localhost:8080/"
        },
        "id": "dB4bNTm_zmZU",
        "outputId": "a1d86620-e276-41bb-b21a-d4e38827e76d"
      },
      "outputs": [
        {
          "name": "stdout",
          "output_type": "stream",
          "text": [
            "[(0, 0), (0, 1), (0, 2), (1, 0), (1, 1), (1, 2), (2, 0), (2, 1), (2, 2)]\n"
          ]
        },
        {
          "data": {
            "text/plain": [
              "(array([0.349658, 0.10023 , 0.550112]), array([0.40076 , 0.199601, 0.399639]))"
            ]
          },
          "execution_count": 7,
          "metadata": {},
          "output_type": "execute_result"
        }
      ],
      "source": [
        "joint_distribution = np.array([\n",
        "    [0, 0, 0.4],\n",
        "    [0.05, 0.05, 0.1],\n",
        "    [0.3, 0.05, 0.05]\n",
        "])\n",
        "\n",
        "possible_indices_probability = list(itertools.product(range(len(joint_distribution)), range(len(joint_distribution[0]))))\n",
        "\n",
        "print(possible_indices_probability)\n",
        "\n",
        "t = 1000000\n",
        "\n",
        "xi_marginal, eta_marginal = np.zeros(3), np.zeros(3)\n",
        "\n",
        "for _ in range(t):\n",
        "    choice_index = choice(list(range(len(possible_indices_probability))), 1, p=joint_distribution.reshape((-1)))[0]\n",
        "    indices = possible_indices_probability[choice_index]\n",
        "    xi_marginal[indices[0]] += 1\n",
        "    eta_marginal[indices[1]] += 1\n",
        "\n",
        "xi_marginal /= t\n",
        "eta_marginal /= t\n",
        "\n",
        "eta_marginal, xi_marginal"
      ]
    },
    {
      "cell_type": "markdown",
      "metadata": {
        "collapsed": false,
        "id": "3SM2sI4IzmZU"
      },
      "source": [
        "Если подсчитывать суммой по столбцам и строкам:"
      ]
    },
    {
      "cell_type": "code",
      "execution_count": null,
      "metadata": {
        "colab": {
          "base_uri": "https://localhost:8080/"
        },
        "id": "xbgoZ5cvzmZV",
        "outputId": "f65dd479-f54b-4863-d5aa-4f63373532dc"
      },
      "outputs": [
        {
          "data": {
            "text/plain": [
              "(array([0.35, 0.1 , 0.55]), array([0.4, 0.2, 0.4]))"
            ]
          },
          "execution_count": 8,
          "metadata": {},
          "output_type": "execute_result"
        }
      ],
      "source": [
        "eta_marginal, xi_marginal = np.zeros(3), np.zeros(3)\n",
        "for i in range(len(joint_distribution)):\n",
        "    for j in range(len(joint_distribution[i])):\n",
        "        eta_marginal[i] += joint_distribution[i, j]\n",
        "        xi_marginal[j] += joint_distribution[i, j]\n",
        "\n",
        "xi_marginal, eta_marginal"
      ]
    },
    {
      "cell_type": "markdown",
      "metadata": {
        "collapsed": false,
        "id": "zkG6-qsWzmZV"
      },
      "source": [
        "$$\n",
        "\\begin{array}{c|c|c|c}\n",
        "\\xi & 1 & 2 & 3  \\\\\n",
        "\\hline \\mathbb P & 0.35 & 0.1 & 0.55\n",
        "\\end{array}\n",
        "$$\n",
        "\n",
        "$$\n",
        "\\begin{array}{c|c|c|c}\n",
        "\\eta & 4 & 5 & 6  \\\\\n",
        "\\hline \\mathbb P & 0.4 & 0.2 & 0.4\n",
        "\\end{array}\n",
        "$$"
      ]
    },
    {
      "cell_type": "markdown",
      "metadata": {
        "collapsed": false,
        "id": "eTWkpF6IzmZV"
      },
      "source": [
        "Эквивалентный подсчет для более продвинутых пользователей:"
      ]
    },
    {
      "cell_type": "code",
      "execution_count": null,
      "metadata": {
        "colab": {
          "base_uri": "https://localhost:8080/"
        },
        "id": "j64L4stHzmZV",
        "outputId": "5cbcddfc-a599-4c31-e1e3-9d700f006dd0"
      },
      "outputs": [
        {
          "data": {
            "text/plain": [
              "(array([0.35, 0.1 , 0.55]), array([0.4, 0.2, 0.4]))"
            ]
          },
          "execution_count": 9,
          "metadata": {},
          "output_type": "execute_result"
        }
      ],
      "source": [
        "def get_marginal(joint_dist):\n",
        "    return joint_dist.sum(axis=0), joint_dist.sum(axis=1)\n",
        "\n",
        "get_marginal(joint_distribution)"
      ]
    },
    {
      "cell_type": "markdown",
      "metadata": {
        "collapsed": false,
        "id": "B2buTKCCzmZW"
      },
      "source": [
        "**Задача.**\n",
        "\n",
        "Являются ли данные случайные величины зависимыми?\n",
        "\n",
        "$$\n",
        "\\begin{array}{  c | c | c | c | c  }\n",
        "\\eta \\backslash \\xi & -4 & -2 & 0 & 3  \\\\ \\hline\n",
        "2 & 0.02 & 0.02 & 0.06 & 0.1 \\\\ \\hline\n",
        "3 & 0.03 & 0.03 & 0.09 & 0.15 \\\\ \\hline\n",
        "5 & 0.02 & 0.02 & 0.06 & 0.1 \\\\ \\hline\n",
        "10 & 0.03 & 0.03 & 0.09 & 0.15\n",
        "\\end{array}\n",
        "$$\n",
        "\n",
        "Построим маргинальные распределения для $\\xi$ и $\\eta$ и посмотрим, будет ли справедлива независимость: \n",
        "$$\n",
        "\\forall \\xi_i \\in\\xi, \\ \\eta_j\\in\\eta \\ \\ \\Rightarrow \\ \\ \\mathbb P(\\xi =\\xi_i, \\ \\eta=\\eta_j) = \\mathbb P(\\xi = \\xi_i)\\cdot \\mathbb P(\\eta = \\eta_j) \n",
        "$$\n",
        "\n"
      ]
    },
    {
      "cell_type": "code",
      "execution_count": null,
      "metadata": {
        "colab": {
          "base_uri": "https://localhost:8080/"
        },
        "id": "EQwcxzo8zmZW",
        "outputId": "9333b75c-5685-4603-a4c1-78dbba3fd6c4"
      },
      "outputs": [
        {
          "data": {
            "text/plain": [
              "(array([0.1, 0.1, 0.3, 0.5]), array([0.2, 0.3, 0.2, 0.3]))"
            ]
          },
          "execution_count": 10,
          "metadata": {},
          "output_type": "execute_result"
        }
      ],
      "source": [
        "joint_distribution = np.array([\n",
        "    [0.02, 0.02, 0.06, 0.1],\n",
        "    [0.03, 0.03, 0.09, 0.15],\n",
        "    [0.02, 0.02, 0.06, 0.1],\n",
        "    [0.03, 0.03, 0.09, 0.15]\n",
        "])\n",
        "\n",
        "xi_marginal, eta_marginal = get_marginal(joint_distribution)\n",
        "\n",
        "xi_marginal, eta_marginal"
      ]
    },
    {
      "cell_type": "markdown",
      "metadata": {
        "collapsed": false,
        "id": "3swh_1XczmZW"
      },
      "source": [
        "$$\n",
        "\\begin{array}{c|c|c|c}\n",
        "\\xi & -4 & -2 & 0 & 3  \\\\\n",
        "\\hline \\mathbb P & 0.1 & 0.1 & 0.3 & 0.5\n",
        "\\end{array}\n",
        "$$\n",
        "\n",
        "$$\n",
        "\\begin{array}{c|c|c|c}\n",
        "\\eta & 2 & 3 & 5 & 10  \\\\\n",
        "\\hline \\mathbb P & 0.2 & 0.3 & 0.2 & 0.3\n",
        "\\end{array}\n",
        "$$"
      ]
    },
    {
      "cell_type": "code",
      "execution_count": null,
      "metadata": {
        "colab": {
          "base_uri": "https://localhost:8080/"
        },
        "id": "m_dkJ_WnzmZW",
        "outputId": "064e6f8d-c915-4aad-e865-9f693c59c311"
      },
      "outputs": [
        {
          "data": {
            "text/plain": [
              "True"
            ]
          },
          "execution_count": 11,
          "metadata": {},
          "output_type": "execute_result"
        }
      ],
      "source": [
        "def are_vals_independent(joint_dist):\n",
        "    xi_marg, eta_marg  = get_marginal(joint_dist)\n",
        "\n",
        "    are_independent = True\n",
        "    for i in range(len(joint_dist)):\n",
        "        for j in range(len(joint_dist[i])):\n",
        "            if not math.isclose(joint_dist[i, j], eta_marg[i] * xi_marg[j]):\n",
        "                are_independent = False\n",
        "                break\n",
        "        if not are_independent:\n",
        "            break\n",
        "\n",
        "    return are_independent\n",
        "\n",
        "are_vals_independent(joint_distribution)"
      ]
    },
    {
      "cell_type": "markdown",
      "metadata": {
        "collapsed": false,
        "id": "H10sTTBfzmZX"
      },
      "source": [
        "**Задача.**\n",
        "\n",
        "Распределение случайной величины задано следующей таблицей:\n",
        "\n",
        "$$\n",
        "\\begin{array}{  c | c | c | c | c| c | c| c | c  }\n",
        "\\xi & -4 & -2 & 0 & 3 & 4 & 6 & 7 & 9  \\\\ \\hline\n",
        "\\mathbb{P} & 0.1 & 0.15 & 0.05 & 0.15 & 0.1 & 0.05 & 0.25 & 0.15\n",
        "\\end{array}\n",
        "$$\n",
        "\n",
        "Найти математическое ожидание $\\mathbb E \\xi$ и медиану $a$."
      ]
    },
    {
      "cell_type": "code",
      "execution_count": 6,
      "metadata": {
        "colab": {
          "base_uri": "https://localhost:8080/"
        },
        "id": "btzr7RDNzmZX",
        "outputId": "efc9c59f-9654-4477-e119-5c9792a77a98"
      },
      "outputs": [
        {
          "data": {
            "text/plain": [
              "(3.547113, 4.0)"
            ]
          },
          "execution_count": 6,
          "metadata": {},
          "output_type": "execute_result"
        }
      ],
      "source": [
        "distribution = np.array([\n",
        "    [-4, -2, 0, 3, 4, 6, 7, 9],\n",
        "    [0.1, 0.15, 0.05, 0.15, 0.1, 0.05, 0.25, 0.15]\n",
        "])\n",
        "\n",
        "t = 1000000\n",
        "\n",
        "experiment = choice(distribution[0], t, p=distribution[1])\n",
        "experiment.mean(), np.median(experiment)"
      ]
    },
    {
      "cell_type": "markdown",
      "metadata": {
        "collapsed": false,
        "id": "s3G1jnBUzmZX"
      },
      "source": [
        "А теперь посчитаем точно:"
      ]
    },
    {
      "cell_type": "code",
      "execution_count": null,
      "metadata": {
        "colab": {
          "base_uri": "https://localhost:8080/"
        },
        "id": "IaQpOQGHzmZX",
        "outputId": "34d84592-f661-4989-e963-d9e6b42fe9e7"
      },
      "outputs": [
        {
          "data": {
            "text/plain": [
              "(3.55, 4.0)"
            ]
          },
          "execution_count": 13,
          "metadata": {},
          "output_type": "execute_result"
        }
      ],
      "source": [
        "var_values, probability_values = distribution[0], distribution[1]\n",
        "\n",
        "def get_median(var_vals, prob_vals):\n",
        "    left_i, right_i = 0, len(prob_vals) - 1\n",
        "\n",
        "    while prob_vals[:left_i + 1].sum() < 0.5:\n",
        "        left_i += 1\n",
        "    while prob_vals[right_i - 1:].sum() < 0.5:\n",
        "        right_i -= 1\n",
        "\n",
        "    return var_vals[left_i:right_i].mean()\n",
        "\n",
        "\n",
        "def get_expected_value(var_vals, prob_vals):\n",
        "    return np.dot(var_vals, prob_vals)\n",
        "\n",
        "get_expected_value(var_values, probability_values), get_median(var_values, probability_values)"
      ]
    },
    {
      "cell_type": "markdown",
      "metadata": {
        "collapsed": false,
        "id": "r-SIGcNszmZX"
      },
      "source": [
        "**Задача.**\n",
        "\n",
        "Дана таблица совместного распределения случайных величин $\\xi$ и $\\eta$:\n",
        "\n",
        "\\begin{array}{  c | c | c | c | c  }\n",
        "\\eta \\backslash \\xi & -4 & -2 & 0 & 3  \\\\ \\hline\n",
        "2 & 0.02 & 0.02 & 0.06 & 0.1 \\\\ \\hline\n",
        "3 & 0.03 & 0.03 & 0.09 & 0.15 \\\\ \\hline\n",
        "5 & 0.02 & 0.02 & 0.06 & 0.1 \\\\ \\hline\n",
        "10 & 0.03 & 0.03 & 0.09 & 0.15\n",
        "\\end{array}\n",
        "\n",
        "Найти $\\mathbb E (\\xi\\eta)$.\n",
        "\n",
        "Моделируем, как среднее арифметическое результатов экспериментов:"
      ]
    },
    {
      "cell_type": "code",
      "execution_count": null,
      "metadata": {
        "colab": {
          "base_uri": "https://localhost:8080/"
        },
        "id": "XI2pbTNLzmZY",
        "outputId": "7663864b-d8e9-4469-8732-54036f792186"
      },
      "outputs": [
        {
          "data": {
            "text/plain": [
              "4.771104"
            ]
          },
          "execution_count": 14,
          "metadata": {},
          "output_type": "execute_result"
        }
      ],
      "source": [
        "xi_values = np.array([-4, -2, 0, 3])\n",
        "eta_values = np.array([2, 3, 5, 10])\n",
        "joint_distribution = np.array([\n",
        "    [0.02, 0.02, 0.06, 0.1],\n",
        "    [0.03, 0.03, 0.09, 0.15],\n",
        "    [0.02, 0.02, 0.06, 0.1],\n",
        "    [0.03, 0.03, 0.09, 0.15]\n",
        "])\n",
        "\n",
        "possible_choice_indices = list(itertools.product(range(len(xi_values)), range(len(eta_values))))\n",
        "\n",
        "experiment_values = []\n",
        "\n",
        "t = 1000000\n",
        "for _ in range(t):\n",
        "    choice_index = choice(list(range(len(possible_choice_indices))), 1, p=joint_distribution.reshape((-1)))[0]\n",
        "    choice_indices = possible_choice_indices[choice_index]\n",
        "    experiment_values.append(\n",
        "        eta_values[choice_indices[0]] * xi_values[choice_indices[1]]\n",
        "    )\n",
        "\n",
        "np.mean(experiment_values)"
      ]
    },
    {
      "cell_type": "markdown",
      "metadata": {
        "collapsed": false,
        "id": "sbu7yS_0zmZY"
      },
      "source": [
        "А для точного значения вспомним, что мы выше узнали: случайные величины, заданные этой таблицей распределения, независимы, поэтому $\\mathbb E(\\xi\\eta)=\\mathbb E\\xi \\mathbb E\\eta$."
      ]
    },
    {
      "cell_type": "code",
      "execution_count": null,
      "metadata": {
        "colab": {
          "base_uri": "https://localhost:8080/"
        },
        "id": "zzWDVc_fzmZY",
        "outputId": "18abe304-e673-48db-d522-ec8dca7f3e63"
      },
      "outputs": [
        {
          "data": {
            "text/plain": [
              "(array([0.2, 0.3, 0.2, 0.3]), array([0.1, 0.1, 0.3, 0.5]))"
            ]
          },
          "execution_count": 15,
          "metadata": {},
          "output_type": "execute_result"
        }
      ],
      "source": [
        "xi_marginal, eta_marginal = get_marginal(joint_distribution)\n",
        "\n",
        "eta_marginal, xi_marginal"
      ]
    },
    {
      "cell_type": "code",
      "execution_count": null,
      "metadata": {
        "colab": {
          "base_uri": "https://localhost:8080/"
        },
        "id": "3b-00n9XzmZY",
        "outputId": "deafbfe9-fdc6-4d4f-8b5f-0a190df293e0"
      },
      "outputs": [
        {
          "data": {
            "text/plain": [
              "(0.8999999999999999, 5.3, 4.77)"
            ]
          },
          "execution_count": 16,
          "metadata": {},
          "output_type": "execute_result"
        }
      ],
      "source": [
        "xi_expected_value = get_expected_value(xi_values, xi_marginal)\n",
        "eta_expected_value = get_expected_value(eta_values, eta_marginal)\n",
        "\n",
        "xi_expected_value, eta_expected_value, xi_expected_value * eta_expected_value"
      ]
    },
    {
      "cell_type": "markdown",
      "metadata": {
        "collapsed": false,
        "id": "xrlvv3yBzmZY"
      },
      "source": [
        "**Задача.**\n",
        "\n",
        "Распределение случайной величины задано следующей таблицей:\n",
        "\n",
        "$$\n",
        "\\begin{array}{  c | c | c | c | c  }\n",
        "\\xi & -4 & -2 & 0 & 3  \\\\ \\hline\n",
        "\\mathbb{P} & 0.1 & 0.1 & 0.3 & 0.5\n",
        "\\end{array}\n",
        "$$\n",
        "\n",
        "Найти $\\mathbb D\\xi$ и $\\sigma_\\xi$.\n",
        "\n",
        "Вспомним, что $\\sigma_\\xi^2=\\mathbb D\\xi$. Оцениваем дисперсию:\n",
        "\n",
        "$$\n",
        "\\mathbb D \\xi = \\mathbb E(\\xi - \\mathbb E \\xi)^2 \\ \\quad \\ S^2 = \\frac{1}{n}\\sum\\limits(x_i - \\overline X)^2, \\quad \\overline{X} = \\frac{1}{n}\\sum x_i.\n",
        "$$"
      ]
    },
    {
      "cell_type": "code",
      "execution_count": null,
      "metadata": {
        "colab": {
          "base_uri": "https://localhost:8080/"
        },
        "id": "ne5lAcwQzmZZ",
        "outputId": "7945fd70-700d-43ba-8a1c-6c2bce080517"
      },
      "outputs": [
        {
          "data": {
            "text/plain": [
              "(5.689695222744592, 2.385308202883768)"
            ]
          },
          "execution_count": 17,
          "metadata": {},
          "output_type": "execute_result"
        }
      ],
      "source": [
        "distribution, var_values = np.array([0.1, 0.1, 0.3, 0.5]), np.array([-4, -2, 0, 3])\n",
        "\n",
        "t = 100000000\n",
        "experiment = choice(var_values, t, p=distribution)\n",
        "dispersion = sum((experiment.mean() - experiment) ** 2) /t\n",
        "sigma = dispersion ** 0.5\n",
        "\n",
        "dispersion, sigma"
      ]
    },
    {
      "cell_type": "markdown",
      "metadata": {
        "collapsed": false,
        "id": "o-QiSJ-TzmZZ"
      },
      "source": [
        "Для точных значений:\n",
        "\n",
        "$$\n",
        "\\mathbb D \\xi = \\mathbb E \\left(\\xi^2\\right) - \\left(\\mathbb E \\xi\\right)^2\n",
        "$$"
      ]
    },
    {
      "cell_type": "code",
      "execution_count": null,
      "metadata": {
        "colab": {
          "base_uri": "https://localhost:8080/"
        },
        "id": "Rcoq56wvzmZZ",
        "outputId": "c48477ba-fee9-4fba-9536-8e3af2878822"
      },
      "outputs": [
        {
          "data": {
            "text/plain": [
              "(5.69, 2.3853720883753127)"
            ]
          },
          "execution_count": 18,
          "metadata": {},
          "output_type": "execute_result"
        }
      ],
      "source": [
        "def get_dispersion(var_vals, dist_vals):\n",
        "    expected_value, expected_square_value = get_expected_value(var_vals, dist_vals), get_expected_value(var_vals ** 2, dist_vals)\n",
        "    return expected_square_value - expected_value ** 2\n",
        "\n",
        "dispersion = get_dispersion(var_values, distribution)\n",
        "sigma = dispersion ** 0.5\n",
        "\n",
        "dispersion, sigma"
      ]
    },
    {
      "cell_type": "markdown",
      "metadata": {
        "collapsed": false,
        "id": "wimeBtxPzmZZ"
      },
      "source": [
        "**Задача.**\n",
        "\n",
        "Случайные величины заданы таблицей совместного распределения:\n",
        "\n",
        "$$\n",
        "\\begin{array}{  c | c | c | c  }\n",
        "\\eta \\backslash \\xi & 2 & 3 & 5  \\\\ \\hline\n",
        "-1 & 0.1 & 0.3 & 0.2 \\\\ \\hline\n",
        "1 & 0.1 & 0.05 & 0 \\\\ \\hline\n",
        "4 & 0 & 0.15 & 0.1\n",
        "\\end{array}\n",
        "$$\n",
        "\n",
        "Определить ковариацию $\\operatorname{cov}(\\xi, \\eta)$ и коэффициент корреляции $\\rho(\\xi, \\eta)$.\n",
        "\n",
        "Вспомним, что $\\operatorname{cov}(\\xi, \\eta) = \\mathbb E(\\xi\\eta) - \\mathbb E\\xi\\mathbb E\\eta$ и $\\rho(\\xi, \\eta)=\\dfrac{\\operatorname{cov}(\\xi, \\eta)}{\\sqrt {\\mathbb D_\\xi}\\sqrt{\\mathbb D_{\\eta}}}$."
      ]
    },
    {
      "cell_type": "code",
      "execution_count": null,
      "metadata": {
        "colab": {
          "base_uri": "https://localhost:8080/"
        },
        "id": "nH4UavtgzmZZ",
        "outputId": "1f188d24-8018-419e-9130-a513750c1d00"
      },
      "outputs": [
        {
          "data": {
            "text/plain": [
              "(0.1817771282580003, 0.07740052674036657)"
            ]
          },
          "execution_count": 19,
          "metadata": {},
          "output_type": "execute_result"
        }
      ],
      "source": [
        "xi_values, eta_values = np.array([2, 3, 5]), np.array([-1, 1, 4])\n",
        "joint_distribution = np.array([\n",
        "    [0.1, 0.3, 0.2],\n",
        "    [0.1, 0.05, 0.],\n",
        "    [0., 0.15, 0.1]\n",
        "])\n",
        "\n",
        "# Просто моделируем совместное распределение и запоминаем результаты\n",
        "\n",
        "possible_choice_indices = list(itertools.product(range(len(xi_values)), range(len(eta_values))))\n",
        "\n",
        "t = 1000000\n",
        "experiment_indices = choice(list(range(len(possible_choice_indices))), t, p=joint_distribution.reshape((-1)))\n",
        "\n",
        "eta_experiment_values, xi_experiment_values = [], []\n",
        "\n",
        "for k in experiment_indices:\n",
        "    indices = possible_choice_indices[k]\n",
        "    eta_experiment_values.append(eta_values[indices[0]])\n",
        "    xi_experiment_values.append(xi_values[indices[1]])\n",
        "\n",
        "xi_experiment_values, eta_experiment_values = np.array(xi_experiment_values), np.array(eta_experiment_values)\n",
        "\n",
        "# Считаем маргинальные распределения\n",
        "\n",
        "def get_marginal_by_frequency(experiment_vals, var_vals, t):\n",
        "    marginal = []\n",
        "    unique, counts = np.unique(experiment_vals, return_counts=True)\n",
        "    counter = dict(zip(unique, counts))\n",
        "    for val in var_vals:\n",
        "        marginal.append(counter[val])\n",
        "    marginal = np.array(marginal) / t\n",
        "    return marginal\n",
        "\n",
        "xi_marginal = get_marginal_by_frequency(xi_experiment_values, xi_values, t)\n",
        "eta_marginal = get_marginal_by_frequency(eta_experiment_values, eta_values, t)\n",
        "xi_dot_eta_values = np.unique(xi_experiment_values * eta_experiment_values)\n",
        "xi_dot_eta_marginal = get_marginal_by_frequency(xi_experiment_values * eta_experiment_values, xi_dot_eta_values, t)\n",
        "\n",
        "# А теперь всё остальное\n",
        "\n",
        "def get_covariance(first_var_vals, second_var_vals, dot_var_vals, first_var_dist, second_var_dist, dot_var_dist):\n",
        "    first_var_expected_value = get_expected_value(first_var_vals, first_var_dist)\n",
        "    second_var_expected_value = get_expected_value(second_var_vals, second_var_dist)\n",
        "    return get_expected_value(dot_var_vals, dot_var_dist) - get_expected_value(first_var_vals, first_var_dist) * get_expected_value(second_var_vals, second_var_dist)\n",
        "\n",
        "covariance = get_covariance(xi_values, eta_values, xi_dot_eta_values, xi_marginal, eta_marginal, xi_dot_eta_marginal)\n",
        "\n",
        "xi_dispersion, eta_dispersion = get_dispersion(xi_values, xi_marginal), get_dispersion(eta_values, eta_marginal)\n",
        "rho = covariance / (xi_dispersion * eta_dispersion) ** 0.5\n",
        "\n",
        "covariance, rho"
      ]
    },
    {
      "cell_type": "markdown",
      "metadata": {
        "collapsed": false,
        "id": "0Klk-IEgzmZa"
      },
      "source": [
        "Можно вычислить напрямую:"
      ]
    },
    {
      "cell_type": "code",
      "execution_count": null,
      "metadata": {
        "colab": {
          "base_uri": "https://localhost:8080/"
        },
        "id": "apO43a-3zmZa",
        "outputId": "3c13857f-0dc4-4392-fa9f-17b7848ff3a0"
      },
      "outputs": [
        {
          "data": {
            "text/plain": [
              "(0.18000000000000038, 0.07664850422701923)"
            ]
          },
          "execution_count": 20,
          "metadata": {},
          "output_type": "execute_result"
        }
      ],
      "source": [
        "xi_dot_eta_probability = dict()\n",
        "\n",
        "for i in range(len(joint_distribution)):\n",
        "    for j in range(len(joint_distribution[i])):\n",
        "        key = xi_values[j] * eta_values[i]\n",
        "        if key not in xi_dot_eta_probability.keys():\n",
        "            xi_dot_eta_probability[key] = 0\n",
        "        xi_dot_eta_probability[key] += joint_distribution[i, j]\n",
        "\n",
        "xi_dot_eta_values = np.array(list(xi_dot_eta_probability.keys()))\n",
        "xi_dot_eta_marginal = np.array(list(xi_dot_eta_probability.values()))\n",
        "\n",
        "xi_marginal, eta_marginal = get_marginal(joint_distribution)\n",
        "\n",
        "covariance = get_covariance(xi_values, eta_values, xi_dot_eta_values, xi_marginal, eta_marginal, xi_dot_eta_marginal)\n",
        "\n",
        "xi_dispersion, eta_dispersion = get_dispersion(xi_values, xi_marginal), get_dispersion(eta_values, eta_marginal)\n",
        "rho = covariance / (xi_dispersion * eta_dispersion) ** 0.5\n",
        "\n",
        "covariance, rho"
      ]
    },
    {
      "cell_type": "markdown",
      "metadata": {
        "collapsed": false,
        "id": "vyH4R-izzmZa"
      },
      "source": [
        "# Простейшие случайные величины. Схемы Бернулли"
      ]
    },
    {
      "cell_type": "markdown",
      "metadata": {
        "collapsed": false,
        "id": "Xnvtm7d9zmZa"
      },
      "source": [
        "**Задача.**\n",
        "\n",
        "Юный волшебник успешно справляется с заклинанием «дисперсиус» с вероятностью $p=0.75$. Определите математическое ожидание и дисперсию случайной величины $\\xi=S_n$, показывающей количество успехов в серии из $n=10$ попыток колдовства.\n",
        "\n",
        "Определите математическое ожидание $\\mathbb E\\xi$ и дисперсию $\\mathbb D \\xi$.\n"
      ]
    },
    {
      "cell_type": "code",
      "execution_count": null,
      "metadata": {
        "colab": {
          "base_uri": "https://localhost:8080/"
        },
        "id": "QgUt-YERzmZa",
        "outputId": "d2536468-54bf-4af0-89fb-c20cc233cbb3"
      },
      "outputs": [
        {
          "data": {
            "text/plain": [
              "(7.498506, 1.8759997679640108)"
            ]
          },
          "execution_count": 21,
          "metadata": {},
          "output_type": "execute_result"
        }
      ],
      "source": [
        "t, n, p = 1000000, 10, 0.75\n",
        "marginal = np.zeros(11)\n",
        "\n",
        "for _ in range(t):\n",
        "    res = choice([0, 1], n, p=[1 - p, p]).sum() # 1 — заклинание удалось, 0 — не удалось\n",
        "    marginal[res] += 1\n",
        "\n",
        "marginal /= t\n",
        "\n",
        "values = np.arange(0, 11)\n",
        "\n",
        "get_expected_value(values, marginal), get_dispersion(values, marginal)"
      ]
    },
    {
      "cell_type": "markdown",
      "metadata": {
        "collapsed": false,
        "id": "RbTw26xEzmZa"
      },
      "source": [
        "На самом деле, перед нами распределение Бернулли c $p=0.75$ ($q=1-p=0.25$) и $n=10$, поэтому:\n",
        "\n",
        "$$\n",
        "\\mathbb E \\xi = np\\quad\\quad \\mathbb D\\xi = npq\n",
        "$$"
      ]
    },
    {
      "cell_type": "code",
      "execution_count": null,
      "metadata": {
        "colab": {
          "base_uri": "https://localhost:8080/"
        },
        "id": "z5jowfllzmZb",
        "outputId": "4954446a-42b6-47f5-b8e0-922809ef76e5"
      },
      "outputs": [
        {
          "data": {
            "text/plain": [
              "(7.5, 1.875)"
            ]
          },
          "execution_count": 22,
          "metadata": {},
          "output_type": "execute_result"
        }
      ],
      "source": [
        "q = 1 - p\n",
        "\n",
        "n * p, n * p * q"
      ]
    },
    {
      "cell_type": "markdown",
      "metadata": {
        "collapsed": false,
        "id": "STEqWW_xzmZb"
      },
      "source": [
        "**Задача.**\n",
        "\n",
        "Вредный учитель заставил юного волшебника оттачивать заклинание «дисперсиус». Вероятность ошибки при одном испытании равна $p=0.02$. Определите вероятность того, что в серии из $n=100$ испытаний юный маг ошибется не более трех раз."
      ]
    },
    {
      "cell_type": "code",
      "execution_count": null,
      "metadata": {
        "colab": {
          "base_uri": "https://localhost:8080/"
        },
        "id": "C8vhxhSizmZb",
        "outputId": "c6cce64c-0120-4019-d31f-fe10c4b72666"
      },
      "outputs": [
        {
          "data": {
            "text/plain": [
              "0.85963"
            ]
          },
          "execution_count": 31,
          "metadata": {},
          "output_type": "execute_result"
        }
      ],
      "source": [
        "t, n, p = 100000, 100, 0.02\n",
        "q = 1 - p\n",
        "marginal = np.zeros(n + 1)\n",
        "\n",
        "for _ in range(t):\n",
        "    res = choice([0, 1], n, p=[q, p]).sum()\n",
        "    marginal[res] += 1\n",
        "\n",
        "marginal /= t\n",
        "\n",
        "sum([marginal[i] for i in range(0, 4)])"
      ]
    },
    {
      "cell_type": "markdown",
      "metadata": {
        "id": "ztOD43cnQhE5"
      },
      "source": [
        "Формула Бернулли:"
      ]
    },
    {
      "cell_type": "code",
      "execution_count": null,
      "metadata": {
        "colab": {
          "base_uri": "https://localhost:8080/"
        },
        "id": "HkaPBy3AQjvF",
        "outputId": "9c13c27a-0f5b-499b-80c9-8119f2ac4084"
      },
      "outputs": [
        {
          "data": {
            "text/plain": [
              "0.8589615633982948"
            ]
          },
          "execution_count": 24,
          "metadata": {},
          "output_type": "execute_result"
        }
      ],
      "source": [
        "from scipy.stats import binom\n",
        "answer = 0\n",
        "for i in range(4):\n",
        "  answer += binom.pmf(i, n, p)\n",
        "answer"
      ]
    },
    {
      "cell_type": "markdown",
      "metadata": {
        "collapsed": false,
        "id": "iDOEt9fhzmZb"
      },
      "source": [
        "Теорема Пуассона с погрешностью:\n",
        "\n",
        "$$\n",
        "\\lim \\limits_{n\\to\\infty}\\mathbb P(B(n, k))=\\dfrac{\\lambda ^ k}{k!}e^{-\\lambda}\n",
        "$$\n",
        "\n",
        "$$\n",
        "A\\subset \\mathbb N \\cup \\{0\\}\\quad \\lambda = np\\quad\\Rightarrow\\quad \\left|\\sum\\limits_{k\\in A}B(n, k) - \\dfrac{\\lambda ^ k}{k!}e^{-\\lambda}\\right|<\\min(p,np^2)\n",
        "$$"
      ]
    },
    {
      "cell_type": "code",
      "execution_count": null,
      "metadata": {
        "colab": {
          "base_uri": "https://localhost:8080/"
        },
        "id": "jPIq5i5bzmZb",
        "outputId": "62c13b54-4572-4a6c-e6d2-4713208eb3a7"
      },
      "outputs": [
        {
          "data": {
            "text/plain": [
              "([0.8371234604985471, 0.8771234604985472], 0.02)"
            ]
          },
          "execution_count": 25,
          "metadata": {},
          "output_type": "execute_result"
        }
      ],
      "source": [
        "def poisson(p, n, k):\n",
        "    l = n * p\n",
        "    return l ** k * math.exp(-l) / math.factorial(k)\n",
        "\n",
        "prob = sum([poisson(p, n, i) for i in range(0, 4)])\n",
        "prob_delta = min(p, n * p ** 2)\n",
        "[prob - prob_delta, prob + prob_delta], prob_delta"
      ]
    },
    {
      "cell_type": "markdown",
      "metadata": {
        "collapsed": false,
        "id": "nq2lQJxyzmZb"
      },
      "source": [
        "Локальная теорема Муавра-Лапласа для распределения Бернулли:\n",
        "\n",
        "$$x=\\dfrac{k - np}{\\sqrt{npq}}\\quad k \\in \\mathbb N \\cup \\{0\\}\\quad\\Rightarrow\\quad \\mathbb P(S_n=k)\\sim \\dfrac{1}{\\sqrt{npq}}\\cdot\\dfrac{1}{\\sqrt{2\\pi}}e^{-x^2/2}, \\quad n\\to\\infty $$"
      ]
    },
    {
      "cell_type": "code",
      "execution_count": null,
      "metadata": {
        "colab": {
          "base_uri": "https://localhost:8080/"
        },
        "id": "AJDr-ybrzmZb",
        "outputId": "a2945913-96ec-432a-9bd0-ae4df277e87d"
      },
      "outputs": [
        {
          "data": {
            "text/plain": [
              "0.8292649748488814"
            ]
          },
          "execution_count": 26,
          "metadata": {},
          "output_type": "execute_result"
        }
      ],
      "source": [
        "def local_m_l(p, n, k):\n",
        "    q = 1 - p\n",
        "    x = (k - n * p) / math.sqrt(n * p * q)\n",
        "    return math.exp(- x ** 2 / 2) / math.sqrt(n * p * q * 2 * math.pi)\n",
        "\n",
        "sum([local_m_l(p, n, i) for i in range(0, 4)])"
      ]
    },
    {
      "cell_type": "markdown",
      "metadata": {
        "collapsed": false,
        "id": "wRHchlwxzmZc"
      },
      "source": [
        "**Задача.**\n",
        "\n",
        "В некоторой очень безответственной почтовой компании вероятность потерять посылку при одном отправлении равна $p=0.13$. Используя интегральную теорему Муавра-Лапласа, найдите вероятность потери не более 2650 посылок в серии из $n=20000$ отправлений и оцените погрешность."
      ]
    },
    {
      "cell_type": "code",
      "execution_count": null,
      "metadata": {
        "colab": {
          "base_uri": "https://localhost:8080/"
        },
        "id": "ygEKGC89zmZc",
        "outputId": "fec3efcd-1348-484e-e26f-966caf166462"
      },
      "outputs": [
        {
          "data": {
            "text/plain": [
              "0.8564999999999999"
            ]
          },
          "execution_count": 27,
          "metadata": {},
          "output_type": "execute_result"
        }
      ],
      "source": [
        "t, n, p = 10000, 20000, 0.13\n",
        "q = 1 - p\n",
        "marginal = np.zeros(n + 1)\n",
        "\n",
        "for _ in range(t):\n",
        "    res = choice([0, 1], n, p=[q, p]).sum() # 1 — потеряли посылку, 0 — посылка дошла\n",
        "    marginal[res] += 1\n",
        "\n",
        "marginal /= t\n",
        "\n",
        "sum([marginal[i] for i in range(0, 2650 + 1)])"
      ]
    },
    {
      "cell_type": "code",
      "execution_count": null,
      "metadata": {
        "colab": {
          "base_uri": "https://localhost:8080/"
        },
        "id": "cDUygEsgRKc9",
        "outputId": "ad70629d-1933-4f09-c5ce-f044110bea59"
      },
      "outputs": [
        {
          "data": {
            "text/plain": [
              "0.855766092271415"
            ]
          },
          "execution_count": 28,
          "metadata": {},
          "output_type": "execute_result"
        }
      ],
      "source": [
        "answer = 0\n",
        "for i in range(2651):\n",
        "  answer += binom.pmf(i, n, p)\n",
        "answer"
      ]
    },
    {
      "cell_type": "markdown",
      "metadata": {
        "collapsed": false,
        "id": "S5CZpCXPzmZc"
      },
      "source": [
        "Интегральная теорема Муавра-Лапласа для распределения Бернулли и погрешность:\n",
        "\n",
        "$$\n",
        "\\lim_{n\\to\\infty} \\mathbb P\\left(a< \\dfrac{S_n - np}{\\sqrt{npq}} <b\\right) = \\Phi(b) - \\Phi(a)\\quad\\quad \\Phi(x) = \\dfrac 1 {\\sqrt{2\\pi}} \\int\\limits^x_{-\\infty} e^{-x^2/2} dx\n",
        "$$\n",
        "\n",
        "$$\n",
        "\\left| \\mathbb P\\left(a< \\dfrac{S_n - np}{\\sqrt{npq}} <b\\right) - \\dfrac 1 {\\sqrt{2\\pi}} \\int\\limits^a_{b} e^{-x^2/2} dx \\right| < \\dfrac {1}{pq\\sqrt{n}}\n",
        "$$"
      ]
    },
    {
      "cell_type": "code",
      "execution_count": null,
      "metadata": {
        "colab": {
          "base_uri": "https://localhost:8080/"
        },
        "id": "Lah0UYH3zmZc",
        "outputId": "02628518-b414-4c85-fd2f-4638a812c097"
      },
      "outputs": [
        {
          "data": {
            "text/plain": [
              "(0.8534379413201014, 0.06252049347361162)"
            ]
          },
          "execution_count": 29,
          "metadata": {},
          "output_type": "execute_result"
        }
      ],
      "source": [
        "def integral_m_l(p, n, k):\n",
        "    q = 1 - p\n",
        "    a = (k - n * p) / math.sqrt(n * p * q)\n",
        "    return float(\n",
        "        sympy.Integral(sympy.exp(- x ** 2 / 2) / sympy.sqrt(2 * sympy.pi), (x, -math.inf, a)).doit()\n",
        "    )\n",
        "\n",
        "integral_m_l(p, n, 2650) - integral_m_l(p, n, 0), 1 / (p*q*math.sqrt(n))"
      ]
    },
    {
      "cell_type": "code",
      "execution_count": null,
      "metadata": {
        "colab": {
          "base_uri": "https://localhost:8080/"
        },
        "id": "WMTae_p2XQIz",
        "outputId": "cbf06c4b-0b8f-427a-d752-4a6a5401cdee"
      },
      "outputs": [
        {
          "data": {
            "text/plain": [
              "0.8534379413201012"
            ]
          },
          "execution_count": 30,
          "metadata": {},
          "output_type": "execute_result"
        }
      ],
      "source": [
        "from scipy.stats import norm\n",
        "n = 20000\n",
        "p = 0.13\n",
        "q = 1 - p\n",
        "norm.cdf((2650 - n*p) / math.sqrt(n * p * q)) - norm.cdf((0 - n*p) / math.sqrt(n * p * q))"
      ]
    }
  ],
  "metadata": {
    "colab": {
      "provenance": []
    },
    "kernelspec": {
      "display_name": "base",
      "language": "python",
      "name": "python3"
    },
    "language_info": {
      "codemirror_mode": {
        "name": "ipython",
        "version": 2
      },
      "file_extension": ".py",
      "mimetype": "text/x-python",
      "name": "python",
      "nbconvert_exporter": "python",
      "pygments_lexer": "ipython2",
      "version": "3.8.5 (default, Sep  4 2020, 02:22:02) \n[Clang 10.0.0 ]"
    },
    "vscode": {
      "interpreter": {
        "hash": "40d3a090f54c6569ab1632332b64b2c03c39dcf918b08424e98f38b5ae0af88f"
      }
    }
  },
  "nbformat": 4,
  "nbformat_minor": 0
}
