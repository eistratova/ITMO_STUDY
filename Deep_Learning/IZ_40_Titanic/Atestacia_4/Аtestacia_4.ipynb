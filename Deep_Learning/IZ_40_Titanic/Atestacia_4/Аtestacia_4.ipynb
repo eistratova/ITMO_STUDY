{
 "cells": [
  {
   "cell_type": "markdown",
   "metadata": {},
   "source": [
    "В файле данных (скачать тут) содержатся данные, полученные в ходе исследовании вселенной High Time Resolution Universe Survey (описание признаков можно найти в блоке Attribute Information) с целью определения одного из типа нейтронных звезд — пульсаров. Поле  является откликом, все остальные поля — предикторы.\n",
    "\n",
    "1. Скачайте весь набор данных разделить его на тренировочную и тестовую части. Используйте train_test_split(), с параметрами: test_size = 0.2, random_state = 27.\n",
    "\n",
    "2. Произведите нормировку тренировочных данных при помощи StandardScaler() из библиотеки sklearn.\n",
    "\n",
    "3. Обучите нейронную сеть посредством модели MLPClassifier из библиотеки sklearn. Со следующими параметрами: random_state = 27, max_iter = 1000, hidden_layer_sizes = (10,5,4).\n",
    "\n",
    "4. Примените полученное преобразование нормировки к тестовым данным и осуществите предсказания с помощью обученной модели.\n",
    "\n",
    "Введите значение метрики AUC на тестовых данных:\n"
   ]
  },
  {
   "cell_type": "code",
   "execution_count": 34,
   "metadata": {},
   "outputs": [],
   "source": [
    "import pandas as pd\n",
    "import matplotlib\n",
    "import numpy as np\n",
    "import matplotlib.pyplot as plt\n",
    "from sklearn.model_selection import train_test_split\n",
    "from sklearn.metrics import classification_report\n",
    "from sklearn.preprocessing import StandardScaler\n",
    "from sklearn.neural_network import MLPClassifier\n"
   ]
  },
  {
   "cell_type": "code",
   "execution_count": 35,
   "metadata": {},
   "outputs": [
    {
     "data": {
      "text/html": [
       "<div>\n",
       "<style scoped>\n",
       "    .dataframe tbody tr th:only-of-type {\n",
       "        vertical-align: middle;\n",
       "    }\n",
       "\n",
       "    .dataframe tbody tr th {\n",
       "        vertical-align: top;\n",
       "    }\n",
       "\n",
       "    .dataframe thead th {\n",
       "        text-align: right;\n",
       "    }\n",
       "</style>\n",
       "<table border=\"1\" class=\"dataframe\">\n",
       "  <thead>\n",
       "    <tr style=\"text-align: right;\">\n",
       "      <th></th>\n",
       "      <th>MIP</th>\n",
       "      <th>STDIP</th>\n",
       "      <th>EKIP</th>\n",
       "      <th>SIP</th>\n",
       "      <th>MC</th>\n",
       "      <th>STDC</th>\n",
       "      <th>EKC</th>\n",
       "      <th>SC</th>\n",
       "      <th>TG</th>\n",
       "    </tr>\n",
       "  </thead>\n",
       "  <tbody>\n",
       "    <tr>\n",
       "      <th>0</th>\n",
       "      <td>140.562500</td>\n",
       "      <td>55.683782</td>\n",
       "      <td>-0.234571</td>\n",
       "      <td>-0.699648</td>\n",
       "      <td>3.199833</td>\n",
       "      <td>19.110426</td>\n",
       "      <td>7.975532</td>\n",
       "      <td>74.242225</td>\n",
       "      <td>0</td>\n",
       "    </tr>\n",
       "    <tr>\n",
       "      <th>1</th>\n",
       "      <td>102.507812</td>\n",
       "      <td>58.882430</td>\n",
       "      <td>0.465318</td>\n",
       "      <td>-0.515088</td>\n",
       "      <td>1.677258</td>\n",
       "      <td>14.860146</td>\n",
       "      <td>10.576487</td>\n",
       "      <td>127.393580</td>\n",
       "      <td>0</td>\n",
       "    </tr>\n",
       "    <tr>\n",
       "      <th>2</th>\n",
       "      <td>103.015625</td>\n",
       "      <td>39.341649</td>\n",
       "      <td>0.323328</td>\n",
       "      <td>1.051164</td>\n",
       "      <td>3.121237</td>\n",
       "      <td>21.744669</td>\n",
       "      <td>7.735822</td>\n",
       "      <td>63.171909</td>\n",
       "      <td>0</td>\n",
       "    </tr>\n",
       "    <tr>\n",
       "      <th>3</th>\n",
       "      <td>136.750000</td>\n",
       "      <td>57.178449</td>\n",
       "      <td>-0.068415</td>\n",
       "      <td>-0.636238</td>\n",
       "      <td>3.642977</td>\n",
       "      <td>20.959280</td>\n",
       "      <td>6.896499</td>\n",
       "      <td>53.593661</td>\n",
       "      <td>0</td>\n",
       "    </tr>\n",
       "    <tr>\n",
       "      <th>4</th>\n",
       "      <td>88.726562</td>\n",
       "      <td>40.672225</td>\n",
       "      <td>0.600866</td>\n",
       "      <td>1.123492</td>\n",
       "      <td>1.178930</td>\n",
       "      <td>11.468720</td>\n",
       "      <td>14.269573</td>\n",
       "      <td>252.567306</td>\n",
       "      <td>0</td>\n",
       "    </tr>\n",
       "  </tbody>\n",
       "</table>\n",
       "</div>"
      ],
      "text/plain": [
       "          MIP      STDIP      EKIP       SIP        MC       STDC        EKC  \\\n",
       "0  140.562500  55.683782 -0.234571 -0.699648  3.199833  19.110426   7.975532   \n",
       "1  102.507812  58.882430  0.465318 -0.515088  1.677258  14.860146  10.576487   \n",
       "2  103.015625  39.341649  0.323328  1.051164  3.121237  21.744669   7.735822   \n",
       "3  136.750000  57.178449 -0.068415 -0.636238  3.642977  20.959280   6.896499   \n",
       "4   88.726562  40.672225  0.600866  1.123492  1.178930  11.468720  14.269573   \n",
       "\n",
       "           SC  TG  \n",
       "0   74.242225   0  \n",
       "1  127.393580   0  \n",
       "2   63.171909   0  \n",
       "3   53.593661   0  \n",
       "4  252.567306   0  "
      ]
     },
     "execution_count": 35,
     "metadata": {},
     "output_type": "execute_result"
    }
   ],
   "source": [
    "df = pd.read_csv('/Users/ekaterina/github_repos/ITMO_STUDY/Deep_Learning/IZ_40_Titanic/Atestacia_4/pulsar_stars_new.csv', delimiter=',')\n",
    "df.head()"
   ]
  },
  {
   "cell_type": "code",
   "execution_count": 36,
   "metadata": {},
   "outputs": [
    {
     "data": {
      "text/html": [
       "<div>\n",
       "<style scoped>\n",
       "    .dataframe tbody tr th:only-of-type {\n",
       "        vertical-align: middle;\n",
       "    }\n",
       "\n",
       "    .dataframe tbody tr th {\n",
       "        vertical-align: top;\n",
       "    }\n",
       "\n",
       "    .dataframe thead th {\n",
       "        text-align: right;\n",
       "    }\n",
       "</style>\n",
       "<table border=\"1\" class=\"dataframe\">\n",
       "  <thead>\n",
       "    <tr style=\"text-align: right;\">\n",
       "      <th></th>\n",
       "      <th>MIP</th>\n",
       "      <th>STDIP</th>\n",
       "      <th>EKIP</th>\n",
       "      <th>SIP</th>\n",
       "      <th>MC</th>\n",
       "      <th>STDC</th>\n",
       "      <th>EKC</th>\n",
       "      <th>SC</th>\n",
       "    </tr>\n",
       "  </thead>\n",
       "  <tbody>\n",
       "    <tr>\n",
       "      <th>5456</th>\n",
       "      <td>116.265625</td>\n",
       "      <td>51.117891</td>\n",
       "      <td>0.155101</td>\n",
       "      <td>-0.340574</td>\n",
       "      <td>3.528428</td>\n",
       "      <td>18.261846</td>\n",
       "      <td>7.012275</td>\n",
       "      <td>61.862404</td>\n",
       "    </tr>\n",
       "    <tr>\n",
       "      <th>7214</th>\n",
       "      <td>121.890625</td>\n",
       "      <td>56.877367</td>\n",
       "      <td>0.181274</td>\n",
       "      <td>-0.444045</td>\n",
       "      <td>5.377090</td>\n",
       "      <td>34.795616</td>\n",
       "      <td>6.341715</td>\n",
       "      <td>38.382192</td>\n",
       "    </tr>\n",
       "    <tr>\n",
       "      <th>3861</th>\n",
       "      <td>114.132812</td>\n",
       "      <td>42.833320</td>\n",
       "      <td>0.159413</td>\n",
       "      <td>-0.065702</td>\n",
       "      <td>2.883779</td>\n",
       "      <td>16.138843</td>\n",
       "      <td>7.934754</td>\n",
       "      <td>79.986922</td>\n",
       "    </tr>\n",
       "    <tr>\n",
       "      <th>7546</th>\n",
       "      <td>122.398438</td>\n",
       "      <td>50.110088</td>\n",
       "      <td>0.035902</td>\n",
       "      <td>-0.019956</td>\n",
       "      <td>1.814381</td>\n",
       "      <td>14.265131</td>\n",
       "      <td>11.543905</td>\n",
       "      <td>160.528830</td>\n",
       "    </tr>\n",
       "    <tr>\n",
       "      <th>1852</th>\n",
       "      <td>110.289062</td>\n",
       "      <td>44.521440</td>\n",
       "      <td>-0.033370</td>\n",
       "      <td>0.414296</td>\n",
       "      <td>0.821070</td>\n",
       "      <td>11.814116</td>\n",
       "      <td>16.250264</td>\n",
       "      <td>285.110019</td>\n",
       "    </tr>\n",
       "    <tr>\n",
       "      <th>...</th>\n",
       "      <td>...</td>\n",
       "      <td>...</td>\n",
       "      <td>...</td>\n",
       "      <td>...</td>\n",
       "      <td>...</td>\n",
       "      <td>...</td>\n",
       "      <td>...</td>\n",
       "      <td>...</td>\n",
       "    </tr>\n",
       "    <tr>\n",
       "      <th>15897</th>\n",
       "      <td>101.859375</td>\n",
       "      <td>44.137345</td>\n",
       "      <td>0.468946</td>\n",
       "      <td>0.697230</td>\n",
       "      <td>1.733278</td>\n",
       "      <td>13.512595</td>\n",
       "      <td>10.382888</td>\n",
       "      <td>137.813938</td>\n",
       "    </tr>\n",
       "    <tr>\n",
       "      <th>4848</th>\n",
       "      <td>131.343750</td>\n",
       "      <td>47.753671</td>\n",
       "      <td>0.096553</td>\n",
       "      <td>0.316601</td>\n",
       "      <td>5.237458</td>\n",
       "      <td>24.727521</td>\n",
       "      <td>5.644281</td>\n",
       "      <td>34.732828</td>\n",
       "    </tr>\n",
       "    <tr>\n",
       "      <th>14879</th>\n",
       "      <td>122.195312</td>\n",
       "      <td>60.994116</td>\n",
       "      <td>0.185826</td>\n",
       "      <td>-0.911385</td>\n",
       "      <td>4.784281</td>\n",
       "      <td>29.121392</td>\n",
       "      <td>7.008882</td>\n",
       "      <td>49.000886</td>\n",
       "    </tr>\n",
       "    <tr>\n",
       "      <th>3912</th>\n",
       "      <td>57.156250</td>\n",
       "      <td>37.194682</td>\n",
       "      <td>3.016280</td>\n",
       "      <td>12.415766</td>\n",
       "      <td>6.229933</td>\n",
       "      <td>28.870194</td>\n",
       "      <td>5.413000</td>\n",
       "      <td>31.271265</td>\n",
       "    </tr>\n",
       "    <tr>\n",
       "      <th>5139</th>\n",
       "      <td>137.484375</td>\n",
       "      <td>49.295979</td>\n",
       "      <td>0.126508</td>\n",
       "      <td>-0.465264</td>\n",
       "      <td>37.221572</td>\n",
       "      <td>60.237700</td>\n",
       "      <td>1.556538</td>\n",
       "      <td>1.409639</td>\n",
       "    </tr>\n",
       "  </tbody>\n",
       "</table>\n",
       "<p>14318 rows × 8 columns</p>\n",
       "</div>"
      ],
      "text/plain": [
       "              MIP      STDIP      EKIP        SIP         MC       STDC  \\\n",
       "5456   116.265625  51.117891  0.155101  -0.340574   3.528428  18.261846   \n",
       "7214   121.890625  56.877367  0.181274  -0.444045   5.377090  34.795616   \n",
       "3861   114.132812  42.833320  0.159413  -0.065702   2.883779  16.138843   \n",
       "7546   122.398438  50.110088  0.035902  -0.019956   1.814381  14.265131   \n",
       "1852   110.289062  44.521440 -0.033370   0.414296   0.821070  11.814116   \n",
       "...           ...        ...       ...        ...        ...        ...   \n",
       "15897  101.859375  44.137345  0.468946   0.697230   1.733278  13.512595   \n",
       "4848   131.343750  47.753671  0.096553   0.316601   5.237458  24.727521   \n",
       "14879  122.195312  60.994116  0.185826  -0.911385   4.784281  29.121392   \n",
       "3912    57.156250  37.194682  3.016280  12.415766   6.229933  28.870194   \n",
       "5139   137.484375  49.295979  0.126508  -0.465264  37.221572  60.237700   \n",
       "\n",
       "             EKC          SC  \n",
       "5456    7.012275   61.862404  \n",
       "7214    6.341715   38.382192  \n",
       "3861    7.934754   79.986922  \n",
       "7546   11.543905  160.528830  \n",
       "1852   16.250264  285.110019  \n",
       "...          ...         ...  \n",
       "15897  10.382888  137.813938  \n",
       "4848    5.644281   34.732828  \n",
       "14879   7.008882   49.000886  \n",
       "3912    5.413000   31.271265  \n",
       "5139    1.556538    1.409639  \n",
       "\n",
       "[14318 rows x 8 columns]"
      ]
     },
     "execution_count": 36,
     "metadata": {},
     "output_type": "execute_result"
    }
   ],
   "source": [
    "# создаем обучающие и тренировочные выборки\n",
    "X = df.drop(['TG'], axis=1)\n",
    "y = df['TG']\n",
    "X_train, X_test, y_train, y_test = train_test_split(X, y, test_size=0.2, random_state=27)\n",
    "X_train"
   ]
  },
  {
   "cell_type": "markdown",
   "metadata": {},
   "source": [
    "Производим нормировку данных, далее необходимо будет сделать нормировку тестовых данных"
   ]
  },
  {
   "cell_type": "code",
   "execution_count": 37,
   "metadata": {},
   "outputs": [],
   "source": [
    "from sklearn.preprocessing import StandardScaler\n",
    "scaler = StandardScaler()\n",
    "scaler.fit(X_train)\n",
    "X_train_scaled = scaler.transform(X_train)"
   ]
  },
  {
   "cell_type": "code",
   "execution_count": 38,
   "metadata": {},
   "outputs": [
    {
     "data": {
      "text/plain": [
       "(14318, 8)"
      ]
     },
     "execution_count": 38,
     "metadata": {},
     "output_type": "execute_result"
    }
   ],
   "source": [
    "X_train_scaled.shape"
   ]
  },
  {
   "cell_type": "markdown",
   "metadata": {},
   "source": [
    "Создаем Классификатор"
   ]
  },
  {
   "cell_type": "code",
   "execution_count": 39,
   "metadata": {},
   "outputs": [
    {
     "data": {
      "text/plain": [
       "MLPClassifier(hidden_layer_sizes=(10, 5, 4), max_iter=1000, random_state=27)"
      ]
     },
     "execution_count": 39,
     "metadata": {},
     "output_type": "execute_result"
    }
   ],
   "source": [
    "mlp = MLPClassifier(random_state=27, \n",
    "                    hidden_layer_sizes=(10,5,4), # Используем два скрытых слоя и укажем число нейронов в каждом\n",
    "                    max_iter=1000, # Максимальное число эпох обучения\n",
    "                   )\n",
    "mlp.fit(X_train_scaled, y_train)\n",
    "\n"
   ]
  },
  {
   "cell_type": "markdown",
   "metadata": {},
   "source": [
    "Нормируем тестовые данные для предсказания"
   ]
  },
  {
   "cell_type": "code",
   "execution_count": 40,
   "metadata": {},
   "outputs": [
    {
     "data": {
      "text/plain": [
       "array([0, 0, 0, ..., 0, 0, 0])"
      ]
     },
     "execution_count": 40,
     "metadata": {},
     "output_type": "execute_result"
    }
   ],
   "source": [
    "X_test_scaled = scaler.transform(X_test)\n",
    "y_pred = mlp.predict(X_test_scaled)\n",
    "y_pred"
   ]
  },
  {
   "cell_type": "code",
   "execution_count": 41,
   "metadata": {},
   "outputs": [
    {
     "data": {
      "text/plain": [
       "[<matplotlib.lines.Line2D at 0x7fd03261c220>]"
      ]
     },
     "execution_count": 41,
     "metadata": {},
     "output_type": "execute_result"
    },
    {
     "data": {
      "image/png": "[encoded data removed]",
      "text/plain": [
       "<Figure size 640x480 with 1 Axes>"
      ]
     },
     "metadata": {},
     "output_type": "display_data"
    }
   ],
   "source": [
    "plt.plot(mlp.loss_curve_)"
   ]
  },
  {
   "cell_type": "code",
   "execution_count": 42,
   "metadata": {},
   "outputs": [
    {
     "name": "stdout",
     "output_type": "stream",
     "text": [
      "              precision    recall  f1-score   support\n",
      "\n",
      "           0      0.986     0.992     0.989      3242\n",
      "           1      0.918     0.864     0.890       338\n",
      "\n",
      "    accuracy                          0.980      3580\n",
      "   macro avg      0.952     0.928     0.940      3580\n",
      "weighted avg      0.980     0.980     0.980      3580\n",
      "\n"
     ]
    }
   ],
   "source": [
    "\n",
    "print(classification_report(y_test, y_pred, digits=3))"
   ]
  },
  {
   "cell_type": "code",
   "execution_count": 43,
   "metadata": {},
   "outputs": [
    {
     "data": {
      "text/plain": [
       "0.9797051640998872"
      ]
     },
     "execution_count": 43,
     "metadata": {},
     "output_type": "execute_result"
    }
   ],
   "source": [
    "from sklearn.metrics import roc_auc_score\n",
    "probs_1 = mlp.predict_proba(X_test_scaled)[:,1]\n",
    "roc_auc_score(y_test, probs_1)"
   ]
  },
  {
   "cell_type": "code",
   "execution_count": 44,
   "metadata": {},
   "outputs": [
    {
     "data": {
      "image/png": "[encoded data removed]",
      "text/plain": [
       "<Figure size 640x480 with 1 Axes>"
      ]
     },
     "metadata": {},
     "output_type": "display_data"
    }
   ],
   "source": [
    "import matplotlib.pyplot as plt\n",
    "from sklearn import metrics\n",
    "metrics.plot_roc_curve(mlp, X_test_scaled, y_test, color='darkorange') \n",
    "plt.xlim([-0.01, 1.0])\n",
    "plt.ylim([0.0, 1.01])\n",
    "plt.xlabel('False Positive Rate')\n",
    "plt.ylabel('True Positive Rate')\n",
    "plt.title('Receiver operating characteristic example')\n",
    "plt.legend(loc=\"lower right\")\n",
    "plt.plot([0, 1], [0, 1], color='navy', lw=2, linestyle='--')\n",
    "plt.show()"
   ]
  }
 ],
 "metadata": {
  "kernelspec": {
   "display_name": "Python 3.8.5 ('base')",
   "language": "python",
   "name": "python3"
  },
  "language_info": {
   "codemirror_mode": {
    "name": "ipython",
    "version": 3
   },
   "file_extension": ".py",
   "mimetype": "text/x-python",
   "name": "python",
   "nbconvert_exporter": "python",
   "pygments_lexer": "ipython3",
   "version": "3.8.5"
  },
  "orig_nbformat": 4,
  "vscode": {
   "interpreter": {
    "hash": "40d3a090f54c6569ab1632332b64b2c03c39dcf918b08424e98f38b5ae0af88f"
   }
  }
 },
 "nbformat": 4,
 "nbformat_minor": 2
}
