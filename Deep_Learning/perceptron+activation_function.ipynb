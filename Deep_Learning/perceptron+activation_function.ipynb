{
 "cells": [
  {
   "cell_type": "markdown",
   "metadata": {},
   "source": [
    "Искусственный нейрон имеет 5 входов. На вход подаются значения [4, 3, -1, 5, 0]\n",
    "Вектор весов известен: 0.1, 0.15, 0.3, 0.2, 0.1, 0.5\n",
    "Функция активации  также известна: фи(х)=\n",
    " 0 if X<=0\n",
    "\n",
    "max (X) if X >0"
   ]
  },
  {
   "cell_type": "code",
   "execution_count": 1,
   "metadata": {},
   "outputs": [
    {
     "name": "stdout",
     "output_type": "stream",
     "text": [
      "1.7\n"
     ]
    }
   ],
   "source": [
    "import numpy as np\n",
    "# Входы. На первое место поставим фиктивный вход -1 для w_0\n",
    "X = np.array([-1, 4, 3, -1, 5, 0])\n",
    "# Веса. На первое место поставим w_0\n",
    "W = np.array([0.1, 0.15, 0.3, 0.2, 0.1, 0.5])\n",
    "# Находим скалярное произведение и применяем функцию активации\n",
    "print(max(0, np.dot(X,W)))\n"
   ]
  },
  {
   "cell_type": "markdown",
   "metadata": {},
   "source": [
    "ЗАДАЧА 2\n",
    "Имеется обученная, состоящая из трех нейронов, нейронная сеть, натренированная на решение задачи классификации. Матрица весов (коэффициенты, отвечающие за сдвиг, находятся в первой строке) имеет следующий вид:\n",
    "    [0.1, -0.1, 0.2],\n",
    "     [0.15, 0.2, 0.3],\n",
    "     [0.3, 0.1, -0.2],\n",
    "     [0.2, 0.3, 0.6],\n",
    "     [0.1, 0.1, 0.2],\n",
    "     [0.5, 0.5, -0.1]\n",
    "На вход подается объект 4, 3, -1, 5, 0\n",
    "Определите, к какому классу будет отнесен , а также вычислите вероятность отнесения  к этому классу, используя подход softmax.\n",
    "\n",
    "Введите метку назначенного класса"
   ]
  },
  {
   "cell_type": "code",
   "execution_count": 20,
   "metadata": {},
   "outputs": [
    {
     "name": "stdout",
     "output_type": "stream",
     "text": [
      "[0.46568205 0.34498575 0.18933219]\n"
     ]
    }
   ],
   "source": [
    "import numpy as np\n",
    "# Матрица весов\n",
    "W = np.array(\n",
    "    [\n",
    "     [0.1, -0.1, 0.2],\n",
    "     [0.15, 0.2, 0.3],\n",
    "     [0.3, 0.1, -0.2],\n",
    "     [0.2, 0.3, 0.6],\n",
    "     [0.1, 0.1, 0.2],\n",
    "     [0.5, 0.5, -0.1]\n",
    "    ]\n",
    "    )\n",
    "# Входной вектор X с добавлением фиктивного входа -1 в начало\n",
    "X = np.array([-1, 4, 3, -1, 5, 0])\n",
    "# Значения сумматоров\n",
    "P = np.dot(X,W)\n",
    "# Вычисление вероятностей отнесения к тому или иному классу\n",
    "print(np.exp(P)/np.sum(np.exp(P)))"
   ]
  },
  {
   "cell_type": "code",
   "execution_count": null,
   "metadata": {},
   "outputs": [],
   "source": [
    "class NaiveMNISTNetwork:\n",
    "  # словарь для выбора регуляризации с градиентом функции регуляризации\n",
    "    __REGULARIZATION_GRAD = {None: lambda _w: 0, \"l1\": lambda _w: np.sign(_w), \"l2\": lambda _w: 2*_w}\n",
    "\n",
    "  # конструктор принимает количество входов, шаг градиентного спуска alpha_, тип регуляризации согласно словарю выше, коэффициент регуляризации, флаг о регуляризации из замечания\n",
    "    def __init__(self, features_amount, alpha_, reg_type=None, lambda_=0, optimize_exp=True):\n",
    "      # случайная инициализация весов для случая 10 классов, задание шага градиентного спуска, типа регуляризации, коэффициента регуляризации, флага о регуляризации согласно замечанию\n",
    "        self.__weights = np.array([[np.random.normal() for _ in range(10)] for _ in range(features_amount + 1)])\n",
    "        self.__alpha = alpha_\n",
    "        if reg_type not in self.__REGULARIZATION_GRAD.keys():\n",
    "            raise Exception(f\"No such regularization: {reg_type}\\nSelect one of these: {self.__REGULARIZATION_GRAD.keys()}\")\n",
    "        else:\n",
    "            self.__reg_type = reg_type\n",
    "        self.__lambda = lambda_\n",
    "        self.__optimize_exponents = optimize_exp\n",
    "        # метод, отвечающий за обучение — шаг градиентного спуска; получает данные для обучения и правильные ответы\n",
    "    def fit(self, data, answers):\n",
    "        self.__weights -= self.__alpha * self.__get_grad(self.__expand_data(data), answers)\n",
    "\n",
    "  # метод, расширяющий атрибуты исходных данных — добавление столбца с -1 в качестве нулевого\n",
    "    @staticmethod\n",
    "    def __expand_data(data):\n",
    "        return np.c_[np.full((data.shape[0], 1), -1, dtype=float), data]\n",
    "\n",
    "  # метод, возвращающий градиент\n",
    "    def __get_grad(self, data, answers):\n",
    "        return - np.matmul(np.transpose(data), self.__one_hot(answers) - self.__get_probabilities(\n",
    "            data)) / answers.size + self.__lambda * self.__REGULARIZATION_GRAD[self.__reg_type](self.__weights)\n",
    "\n",
    "  # one_hot encoding\n",
    "    def __one_hot(self, answers):\n",
    "        one_hot_answers = np.zeros((answers.size, 10))\n",
    "        one_hot_answers[np.arange(answers.size), answers] = 1\n",
    "        return one_hot_answers\n",
    "\n",
    "  # метод, возвращающий матрицу P; в случае регуляризации делается сдвиг\n",
    "    def __get_probabilities(self, data):\n",
    "        _outputs = np.matmul(data, self.__weights)\n",
    "        _gamma = np.amax(_outputs) if self.__optimize_exponents else 0\n",
    "        _exp_outputs = np.exp(_outputs - _gamma)\n",
    "        return np.transpose(np.transpose(_exp_outputs) / np.sum(_exp_outputs, axis=1))\n",
    "\n",
    "  # метод для предсказания назначенного класса\n",
    "    def predict(self, data):\n",
    "        return np.array([np.argmax(_row) for _row in np.matmul(self.__expand_data(data), self.__weights)])\n"
   ]
  },
  {
   "cell_type": "markdown",
   "metadata": {},
   "source": [
    "Дана функция f(X_1,X_@,X_3) = e^x_1X_3+(X_2+X_3)^2\n",
    "Найти направление наискорейшего роста в точке X_0 = (1,2,1). Произведите вычисления аналитическии.\n",
    "\n",
    "Напоминаем, что для вычисления значения числа  на платформе можно использовать функцию exp() прямо в строке ввода ответа. Например, exp(1) вернет значение числа .\n",
    "\n",
    "Введите первую координату градиента\n",
    "Введите точное значение\n",
    "\n",
    " exp(1)\n",
    " \n",
    "Введите вторую координату градиента\n",
    "Введите точное значение\n",
    "\n",
    " 6\n",
    " \n",
    "Введите третью координату градиента\n",
    "Введите точное значение\n",
    "\n",
    " exp(1) + 6\n",
    " \n",
    "Произведите вычисления численно, используя приближение градиента центральной конечной разностью первого порядка\n",
    "при .\n",
    "\n",
    "Введите первую координату градиента\n",
    "Введите математическое выражение, дающее точный ответ с погрешностью не более, чем 0.001\n",
    "\n",
    "  2.718281828\n",
    " \n",
    "Введите вторую координату градиента\n",
    "Введите математическое выражение, дающее точный ответ с погрешностью не более, чем 0.001\n",
    "\n",
    "   5.9999999999\n",
    " \n",
    "Введите третью координату градиента\n",
    "Введите математическое выражение, дающее точный ответ с погрешностью не более, чем 0.001\n",
    "\n",
    "  8.718281828\n",
    " \n",
    "Решение\n",
    "\n",
    "Вычислим частные производные первого порядка:\n",
    "Найдем значения частных производных в точке :\n",
    "Вектор, вдоль которого происходит наискорейшир рост значений функции, имеет следующие координаты:"
   ]
  },
  {
   "cell_type": "code",
   "execution_count": 21,
   "metadata": {},
   "outputs": [
    {
     "data": {
      "text/latex": [
       "$\\displaystyle \\left(x_{2} + x_{3}\\right)^{2} + e^{x_{1} x_{3}}$"
      ],
      "text/plain": [
       "(x_2 + x_3)**2 + exp(x_1*x_3)"
      ]
     },
     "execution_count": 21,
     "metadata": {},
     "output_type": "execute_result"
    }
   ],
   "source": [
    "import sympy as sym\n",
    "import numpy as np\n",
    "\n",
    "# Объявляем переменные\n",
    "fvars = sym.symbols('x_1 x_2 x_3')\n",
    "x_1, x_2, x_3 = fvars\n",
    "# Точка, в которой будем искать координаты градиента\n",
    "point = np.array([1,2,1])\n",
    "# Функция\n",
    "f = sym.exp(x_1 * x_3) + (x_2+x_3)**2\n",
    "f"
   ]
  },
  {
   "cell_type": "code",
   "execution_count": 22,
   "metadata": {},
   "outputs": [
    {
     "data": {
      "text/latex": [
       "$\\displaystyle x_{3} e^{x_{1} x_{3}}$"
      ],
      "text/plain": [
       "x_3*exp(x_1*x_3)"
      ]
     },
     "execution_count": 22,
     "metadata": {},
     "output_type": "execute_result"
    }
   ],
   "source": [
    "# Частная производная по x_1\n",
    "derivative_x_1 = f.diff(x_1)\n",
    "derivative_x_1"
   ]
  },
  {
   "cell_type": "code",
   "execution_count": 23,
   "metadata": {},
   "outputs": [
    {
     "data": {
      "text/latex": [
       "$\\displaystyle 2 x_{2} + 2 x_{3}$"
      ],
      "text/plain": [
       "2*x_2 + 2*x_3"
      ]
     },
     "execution_count": 23,
     "metadata": {},
     "output_type": "execute_result"
    }
   ],
   "source": [
    "# Частная производная по x_1\n",
    "derivative_x_2 = f.diff(x_2)\n",
    "derivative_x_2"
   ]
  },
  {
   "cell_type": "code",
   "execution_count": 25,
   "metadata": {},
   "outputs": [
    {
     "data": {
      "text/latex": [
       "$\\displaystyle x_{1} e^{x_{1} x_{3}} + 2 x_{2} + 2 x_{3}$"
      ],
      "text/plain": [
       "x_1*exp(x_1*x_3) + 2*x_2 + 2*x_3"
      ]
     },
     "execution_count": 25,
     "metadata": {},
     "output_type": "execute_result"
    }
   ],
   "source": [
    "# Частная производная по x_2\n",
    "derivative_x_3 = f.diff(x_3)\n",
    "derivative_x_3"
   ]
  },
  {
   "cell_type": "code",
   "execution_count": 27,
   "metadata": {},
   "outputs": [],
   "source": [
    "#Определим функцию для вычисления значения функции в точке для краткости записи впоследствии\n",
    "def f_x_0(f,point):\n",
    "  return f.evalf(subs = dict(zip(fvars,point)))"
   ]
  },
  {
   "cell_type": "code",
   "execution_count": 28,
   "metadata": {},
   "outputs": [
    {
     "name": "stdout",
     "output_type": "stream",
     "text": [
      "2.71828182845905\n",
      "6.00000000000000\n",
      "8.71828182845904\n"
     ]
    }
   ],
   "source": [
    "# Координаты градиента в точке (1,2,1)\n",
    "print(f_x_0(derivative_x_1, point))\n",
    "print(f_x_0(derivative_x_2, point))\n",
    "print(f_x_0(derivative_x_3, point))"
   ]
  },
  {
   "cell_type": "code",
   "execution_count": 29,
   "metadata": {},
   "outputs": [
    {
     "data": {
      "text/latex": [
       "$\\displaystyle 2.71828182807354$"
      ],
      "text/plain": [
       "2.71828182807354"
      ]
     },
     "execution_count": 29,
     "metadata": {},
     "output_type": "execute_result"
    }
   ],
   "source": [
    "# Приблизим координаты градиента конечными разностями\n",
    "eps = 10**(-6)\n",
    "\n",
    "e_1 = np.array([1,0,0])\n",
    "(f_x_0(f, point + eps * e_1) - f_x_0(f, point - eps * e_1))/2/eps"
   ]
  },
  {
   "cell_type": "code",
   "execution_count": 30,
   "metadata": {},
   "outputs": [
    {
     "data": {
      "text/latex": [
       "$\\displaystyle 5.99999999995049$"
      ],
      "text/plain": [
       "5.99999999995049"
      ]
     },
     "execution_count": 30,
     "metadata": {},
     "output_type": "execute_result"
    }
   ],
   "source": [
    "e_2 = np.array([0,1,0])\n",
    "(f_x_0(f, point + eps * e_2) - f_x_0(f, point - eps * e_2))/2/eps\n"
   ]
  },
  {
   "cell_type": "code",
   "execution_count": 31,
   "metadata": {},
   "outputs": [
    {
     "data": {
      "text/latex": [
       "$\\displaystyle 8.71828182802403$"
      ],
      "text/plain": [
       "8.71828182802403"
      ]
     },
     "execution_count": 31,
     "metadata": {},
     "output_type": "execute_result"
    }
   ],
   "source": [
    "e_3 = np.array([0,0,1])\n",
    "(f_x_0(f, point + eps * e_3) - f_x_0(f, point - eps * e_3))/2/eps\n"
   ]
  },
  {
   "cell_type": "markdown",
   "metadata": {},
   "source": [
    "В сумматоре нейрона в различные моменты времени оказывается некоторое значение . В качестве функции активации  используется функция Ф(z) = {-1, z<0 ; 0 , z=0; 1, z>0 \n",
    "Вычислите Ф(-3), Ф(0), Ф(2)"
   ]
  },
  {
   "cell_type": "code",
   "execution_count": 34,
   "metadata": {},
   "outputs": [
    {
     "data": {
      "text/plain": [
       "(-1, 0, 1)"
      ]
     },
     "execution_count": 34,
     "metadata": {},
     "output_type": "execute_result"
    }
   ],
   "source": [
    "def sign(z):\n",
    "  if z < 0:\n",
    "    return -1\n",
    "  return 1 if z > 0 else 0\n",
    "\n",
    "sign(-3), sign(0), sign(2)"
   ]
  },
  {
   "cell_type": "markdown",
   "metadata": {},
   "source": [
    "Задача 5\n",
    "В сумматоре нейрона в различные моменты времени оказывается некоторое значение . В качестве функции активации используется функция œ (z)=1/(1+e^(-z))\n",
    "Напоминаем, что для вычисления значения числа  на платформе можно использовать функцию exp() прямо в строке ввода ответа. Например, exp(1) вернет значение числа .\n",
    "Вычислите œ (3), œ (0), œ (2)"
   ]
  },
  {
   "cell_type": "code",
   "execution_count": 32,
   "metadata": {},
   "outputs": [
    {
     "data": {
      "text/plain": [
       "(0.04742587317756678, 0.5, 0.8807970779778823)"
      ]
     },
     "execution_count": 32,
     "metadata": {},
     "output_type": "execute_result"
    }
   ],
   "source": [
    "import numpy as np\n",
    "\n",
    "# Можно определить функцию самостоятельно\n",
    "def sigmoid(z):\n",
    "  return 1/(1+np.exp(-z))\n",
    "\n",
    "sigmoid(-3), sigmoid(0), sigmoid(2)"
   ]
  },
  {
   "cell_type": "code",
   "execution_count": 33,
   "metadata": {},
   "outputs": [
    {
     "data": {
      "text/plain": [
       "(0.04742587317756678, 0.5, 0.8807970779778823)"
      ]
     },
     "execution_count": 33,
     "metadata": {},
     "output_type": "execute_result"
    }
   ],
   "source": [
    "# Можно использовать бибилотеку\n",
    "from scipy.stats import logistic\n",
    "logistic.cdf(-3), logistic.cdf(0), logistic.cdf(2)"
   ]
  },
  {
   "cell_type": "markdown",
   "metadata": {},
   "source": [
    "В сумматоре нейрона в различные моменты времени оказывается некоторое значение . В качестве функции активации используется функция \n",
    "tahn=(exp(z)-exp(-z))/(exp(z)+exp(-z))"
   ]
  },
  {
   "cell_type": "code",
   "execution_count": 35,
   "metadata": {},
   "outputs": [
    {
     "data": {
      "text/plain": [
       "(-0.9950547536867306, 0.0, 0.964027580075817)"
      ]
     },
     "execution_count": 35,
     "metadata": {},
     "output_type": "execute_result"
    }
   ],
   "source": [
    "import numpy as np\n",
    "\n",
    "# Можно определить функцию самостоятельно\n",
    "def tanh(z):\n",
    "  return (np.exp(z) - np.exp(-z)) / (np.exp(z) + np.exp(-z))\n",
    "\n",
    "tanh(-3), tanh(0), tanh(2)"
   ]
  },
  {
   "cell_type": "code",
   "execution_count": 36,
   "metadata": {},
   "outputs": [
    {
     "data": {
      "text/plain": [
       "(-0.9950547536867305, 0.0, 0.9640275800758169)"
      ]
     },
     "execution_count": 36,
     "metadata": {},
     "output_type": "execute_result"
    }
   ],
   "source": [
    "# Можно использовать бибилотеку\n",
    "\n",
    "np.tanh(-3), np.tanh(0), np.tanh(2)"
   ]
  },
  {
   "cell_type": "code",
   "execution_count": 37,
   "metadata": {},
   "outputs": [
    {
     "data": {
      "text/plain": [
       "(0, 0, 2)"
      ]
     },
     "execution_count": 37,
     "metadata": {},
     "output_type": "execute_result"
    }
   ],
   "source": [
    "#В сумматоре нейрона в различные моменты времени оказывается некоторое значение . \n",
    "# В качестве функции активации используется функция RELU (z) = {0, z<0 ;  1, z=>0 max=(0; X)\n",
    "# (-3), 0, (2)\n",
    "def ReLu(z):\n",
    "  return max(0,z)\n",
    "\n",
    "ReLu(-3), ReLu(0), ReLu(2)"
   ]
  }
 ],
 "metadata": {
  "kernelspec": {
   "display_name": "Python 3.8.5 ('base')",
   "language": "python",
   "name": "python3"
  },
  "language_info": {
   "codemirror_mode": {
    "name": "ipython",
    "version": 3
   },
   "file_extension": ".py",
   "mimetype": "text/x-python",
   "name": "python",
   "nbconvert_exporter": "python",
   "pygments_lexer": "ipython3",
   "version": "3.8.5"
  },
  "orig_nbformat": 4,
  "vscode": {
   "interpreter": {
    "hash": "40d3a090f54c6569ab1632332b64b2c03c39dcf918b08424e98f38b5ae0af88f"
   }
  }
 },
 "nbformat": 4,
 "nbformat_minor": 2
}
