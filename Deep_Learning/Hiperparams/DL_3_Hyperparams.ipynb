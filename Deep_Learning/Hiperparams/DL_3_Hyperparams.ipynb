{
 "cells": [
  {
   "cell_type": "markdown",
   "id": "81ee79f3-bea7-4543-97f2-57f6e8e5ab71",
   "metadata": {
    "id": "81ee79f3-bea7-4543-97f2-57f6e8e5ab71",
    "pycharm": {
     "name": "#%% md\n"
    }
   },
   "source": [
    "# О подборе гиперпараметров в процессе обучения\n",
    "\n",
    "# Автоматический подбор гиперпараметров модели в пакете Optuna\n",
    "В этом блокноте мы покажем некоторые приемы автоматического подбора гиперпараметров модели на примере использования пакета Optuna. Давайте установим пакет и проверим, что фреймворк TensorFlow и пакет TensorFlow_Dataset тоже установлены."
   ]
  },
  {
   "cell_type": "code",
   "execution_count": 1,
   "id": "bcd53b56-3adb-4184-8bb9-09d17b41780c",
   "metadata": {
    "colab": {
     "base_uri": "https://localhost:8080/"
    },
    "id": "bcd53b56-3adb-4184-8bb9-09d17b41780c",
    "outputId": "c7a92e6f-d272-4cbf-9ee2-486612054648",
    "pycharm": {
     "name": "#%%\n"
    },
    "tags": []
   },
   "outputs": [
    {
     "name": "stdout",
     "output_type": "stream",
     "text": [
      "Collecting optuna\r\n",
      "  Downloading optuna-2.10.1-py3-none-any.whl (308 kB)\r\n",
      "\u001b[K     |████████████████████████████████| 308 kB 1.2 MB/s eta 0:00:01\r\n",
      "\u001b[?25hRequirement already satisfied: numpy in /Users/bojcevanton/miniconda3/envs/ipynb_installation/lib/python3.8/site-packages (from optuna) (1.22.3)\r\n",
      "Collecting colorlog\r\n",
      "  Downloading colorlog-6.6.0-py2.py3-none-any.whl (11 kB)\r\n",
      "Collecting alembic\r\n",
      "  Downloading alembic-1.8.0-py3-none-any.whl (209 kB)\r\n",
      "\u001b[K     |████████████████████████████████| 209 kB 7.9 MB/s eta 0:00:01\r\n",
      "\u001b[?25hCollecting sqlalchemy>=1.1.0\r\n",
      "  Downloading SQLAlchemy-1.4.39.tar.gz (8.2 MB)\r\n",
      "\u001b[K     |████████████████████████████████| 8.2 MB 4.6 MB/s eta 0:00:01\r\n",
      "\u001b[?25hCollecting cliff\r\n",
      "  Downloading cliff-3.10.1-py3-none-any.whl (81 kB)\r\n",
      "\u001b[K     |████████████████████████████████| 81 kB 18.8 MB/s eta 0:00:01\r\n",
      "\u001b[?25hRequirement already satisfied: packaging>=20.0 in /Users/bojcevanton/miniconda3/envs/ipynb_installation/lib/python3.8/site-packages (from optuna) (21.3)\r\n",
      "Collecting cmaes>=0.8.2\r\n",
      "  Downloading cmaes-0.8.2-py3-none-any.whl (15 kB)\r\n",
      "Requirement already satisfied: tqdm in /Users/bojcevanton/miniconda3/envs/ipynb_installation/lib/python3.8/site-packages (from optuna) (4.64.0)\r\n",
      "Requirement already satisfied: scipy!=1.4.0 in /Users/bojcevanton/miniconda3/envs/ipynb_installation/lib/python3.8/site-packages (from optuna) (1.7.3)\r\n",
      "Collecting PyYAML\r\n",
      "  Downloading PyYAML-6.0.tar.gz (124 kB)\r\n",
      "\u001b[K     |████████████████████████████████| 124 kB 30.3 MB/s eta 0:00:01\r\n",
      "\u001b[?25h  Installing build dependencies ... \u001b[?25ldone\r\n",
      "\u001b[?25h  Getting requirements to build wheel ... \u001b[?25ldone\r\n",
      "\u001b[?25h    Preparing wheel metadata ... \u001b[?25ldone\r\n",
      "\u001b[?25hRequirement already satisfied: pyparsing!=3.0.5,>=2.0.2 in /Users/bojcevanton/miniconda3/envs/ipynb_installation/lib/python3.8/site-packages (from packaging>=20.0->optuna) (3.0.9)\r\n",
      "Requirement already satisfied: importlib-resources in /Users/bojcevanton/miniconda3/envs/ipynb_installation/lib/python3.8/site-packages (from alembic->optuna) (5.7.1)\r\n",
      "Requirement already satisfied: importlib-metadata in /Users/bojcevanton/miniconda3/envs/ipynb_installation/lib/python3.8/site-packages (from alembic->optuna) (4.11.4)\r\n",
      "Collecting Mako\r\n",
      "  Downloading Mako-1.2.1-py3-none-any.whl (78 kB)\r\n",
      "\u001b[K     |████████████████████████████████| 78 kB 5.3 MB/s eta 0:00:01\r\n",
      "\u001b[?25hCollecting stevedore>=2.0.1\r\n",
      "  Downloading stevedore-3.5.0-py3-none-any.whl (49 kB)\r\n",
      "\u001b[K     |████████████████████████████████| 49 kB 11.3 MB/s eta 0:00:01\r\n",
      "\u001b[?25hCollecting cmd2>=1.0.0\r\n",
      "  Downloading cmd2-2.4.1-py3-none-any.whl (146 kB)\r\n",
      "\u001b[K     |████████████████████████████████| 146 kB 16.4 MB/s eta 0:00:01\r\n",
      "\u001b[?25hCollecting pbr!=2.1.0,>=2.0.0\r\n",
      "  Downloading pbr-5.9.0-py2.py3-none-any.whl (112 kB)\r\n",
      "\u001b[K     |████████████████████████████████| 112 kB 19.8 MB/s eta 0:00:01\r\n",
      "\u001b[?25hCollecting PrettyTable>=0.7.2\r\n",
      "  Downloading prettytable-3.3.0-py3-none-any.whl (26 kB)\r\n",
      "Collecting autopage>=0.4.0\r\n",
      "  Downloading autopage-0.5.1-py3-none-any.whl (29 kB)\r\n",
      "Collecting pyperclip>=1.6\r\n",
      "  Downloading pyperclip-1.8.2.tar.gz (20 kB)\r\n",
      "Requirement already satisfied: attrs>=16.3.0 in /Users/bojcevanton/miniconda3/envs/ipynb_installation/lib/python3.8/site-packages (from cmd2>=1.0.0->cliff->optuna) (21.4.0)\r\n",
      "Requirement already satisfied: wcwidth>=0.1.7 in /Users/bojcevanton/miniconda3/envs/ipynb_installation/lib/python3.8/site-packages (from cmd2>=1.0.0->cliff->optuna) (0.2.5)\r\n",
      "Requirement already satisfied: zipp>=0.5 in /Users/bojcevanton/miniconda3/envs/ipynb_installation/lib/python3.8/site-packages (from importlib-metadata->alembic->optuna) (3.8.0)\r\n",
      "Requirement already satisfied: MarkupSafe>=0.9.2 in /Users/bojcevanton/miniconda3/envs/ipynb_installation/lib/python3.8/site-packages (from Mako->alembic->optuna) (2.1.1)\r\n",
      "Building wheels for collected packages: sqlalchemy, pyperclip, PyYAML\r\n",
      "  Building wheel for sqlalchemy (setup.py) ... \u001b[?25ldone\r\n",
      "\u001b[?25h  Created wheel for sqlalchemy: filename=SQLAlchemy-1.4.39-cp38-cp38-macosx_11_0_arm64.whl size=1543322 sha256=876488721bd16eb96ff13a76ccd4335893686d7d9c28672bd6934b22f55ffcda\r\n",
      "  Stored in directory: /Users/bojcevanton/Library/Caches/pip/wheels/fd/23/d9/83cf0a115afbfbb5870c987b1c574deb16824842bea50b13c8\r\n",
      "  Building wheel for pyperclip (setup.py) ... \u001b[?25ldone\r\n",
      "\u001b[?25h  Created wheel for pyperclip: filename=pyperclip-1.8.2-py3-none-any.whl size=11137 sha256=c8d0e199abd4182a3e50708b5365185d881d68585f670b55320727d222075547\r\n",
      "  Stored in directory: /Users/bojcevanton/Library/Caches/pip/wheels/7f/1a/65/84ff8c386bec21fca6d220ea1f5498a0367883a78dd5ba6122\r\n",
      "  Building wheel for PyYAML (PEP 517) ... \u001b[?25ldone\r\n",
      "\u001b[?25h  Created wheel for PyYAML: filename=PyYAML-6.0-cp38-cp38-macosx_11_0_arm64.whl size=45336 sha256=49b2584cebe8834e3b98eadfc0f08b8730e60b3d68e0c08033c31c38ece1d7d7\r\n",
      "  Stored in directory: /Users/bojcevanton/Library/Caches/pip/wheels/52/84/66/50912fd7bf1639a31758e40bd4312602e104a8eca1e0da9645\r\n",
      "Successfully built sqlalchemy pyperclip PyYAML\r\n",
      "Installing collected packages: pyperclip, pbr, stevedore, sqlalchemy, PyYAML, PrettyTable, Mako, cmd2, autopage, colorlog, cmaes, cliff, alembic, optuna\r\n",
      "Successfully installed Mako-1.2.1 PrettyTable-3.3.0 PyYAML-6.0 alembic-1.8.0 autopage-0.5.1 cliff-3.10.1 cmaes-0.8.2 cmd2-2.4.1 colorlog-6.6.0 optuna-2.10.1 pbr-5.9.0 pyperclip-1.8.2 sqlalchemy-1.4.39 stevedore-3.5.0\r\n",
      "Requirement already satisfied: numpy in /Users/bojcevanton/miniconda3/envs/ipynb_installation/lib/python3.8/site-packages (1.22.3)\r\n",
      "\u001b[31mERROR: Could not find a version that satisfies the requirement tensorflow (from versions: none)\u001b[0m\r\n",
      "\u001b[31mERROR: No matching distribution found for tensorflow\u001b[0m\r\n"
     ]
    }
   ],
   "source": [
    "!pip install optuna\n",
    "!pip install numpy tensorflow tensorflow_datasets"
   ]
  },
  {
   "cell_type": "markdown",
   "id": "9d5f428a-3708-4200-a7a6-814d8cd61972",
   "metadata": {
    "id": "9d5f428a-3708-4200-a7a6-814d8cd61972",
    "pycharm": {
     "name": "#%% md\n"
    }
   },
   "source": [
    "Для того тчобы не отвлекаться от сути происходящего, тестировать пакет Optuna мы будем на том же самом примере, что и ранее — на наборе данных «Ирисы Фишера» и нашей маленькой нейронной сети из трех слоев. Давайте импортируем все необходимые пакеты, в т.ч. Optuna."
   ]
  },
  {
   "cell_type": "code",
   "execution_count": 2,
   "id": "2eec9f91-9918-4346-945f-44f75800bbc8",
   "metadata": {
    "id": "2eec9f91-9918-4346-945f-44f75800bbc8",
    "pycharm": {
     "name": "#%%\n"
    }
   },
   "outputs": [],
   "source": [
    "import numpy as np\n",
    "import tensorflow as tf\n",
    "from tensorflow import keras\n",
    "from tensorflow.keras import metrics, layers, activations, optimizers, losses\n",
    "import tensorflow_datasets as tfds\n",
    "\n",
    "import optuna"
   ]
  },
  {
   "cell_type": "markdown",
   "id": "eb241845-661e-4c15-8824-92a30058a306",
   "metadata": {
    "id": "eb241845-661e-4c15-8824-92a30058a306",
    "pycharm": {
     "name": "#%% md\n"
    }
   },
   "source": [
    "Как и ранее, разделим набор данных на две части, одна из которых будет использоваться для обучения, а вторая - для валидации модели, и укажем дополнительные параметры (их мы обсуждали в блокноте о `Keras`)."
   ]
  },
  {
   "cell_type": "code",
   "execution_count": 3,
   "id": "a08cb719-1dd9-4bb9-95a1-56ed72b3f696",
   "metadata": {
    "colab": {
     "base_uri": "https://localhost:8080/",
     "height": 198,
     "referenced_widgets": [
      "f36605bf061d47fbb4377d80e2375832",
      "9cf01cc9d79047a78ab41c876eb8e488",
      "5ead3a68629544618b2a289be7f496ef",
      "c575c2180c7946b3b1dd35678b8ff8f2",
      "ccf9678ca8d14c1282b77913f7c9aa5d",
      "2f933546b2ea4c459ab4fde55a35c38e",
      "bfa0ccee5ea74b3ead8d250e47dbb029",
      "40624de7350643ed984f0461e2e05e10",
      "465efd870fbf4f85bfcf56681504bf06",
      "a5c2d192975645f18f9e97d5bc932a76",
      "b3cb130c19194c23a8bde07f00996ab8",
      "efdf8695d8e14017a7b60d7bd2f17cc4",
      "89618c76606d4a07b9df1e1eca410bab",
      "fdef2b3102d243978249cf39c6e44f44",
      "f0b23131f4f44f8caf4a955d2b260577",
      "bb8550e218ee45339ea89baf9f0bb0b8",
      "98839abdccd442b1b5041ac28d562569",
      "614d6c39924a4fa09bc7bc627994fe8a",
      "c0b95141a43543a687d417e9f2e95668",
      "1f50ab00383a4027af426adfc916290a",
      "c09167760f604afbaa0f845859d432dc",
      "c7b4e53a92484950b5e8695b09ea5868",
      "f38fa6e3025c451e9b564d68ad2c49ab",
      "d35ce86ad5854b159e9a01678073d5bf",
      "0992e9ee67c5404fba4809d83e60dc30",
      "8c529d2484a64357bc8c95fc11868c3b",
      "ef9c51ebd87d41fb802940c73303d8ed",
      "a68dad423ed74fcba065545314d108c8",
      "9f4de698c9b041968ff895c4a67477dd",
      "76cc83f00d89423c9b7b8a337cc37a38",
      "da77d320bfdf40b491c8578ff157419e",
      "12954e5013114f42a340689cc1f766e4",
      "abb8cf1849ad4958a3066f646c389d52",
      "2b4835984c0f4c04a6275fb49fa36d27",
      "1a85d3dc2cc94e23a42f113e9f86b28c",
      "5d884158bf9748d6a89b02bf3aa8b8de",
      "6f53db5b798e43d8a229c0dfda82d749",
      "1910eba834d74061a8c1df412d4c5fa8",
      "09aaa53cd1d24420bee982d055afbed3",
      "021724da957248fc81cba220500d46e7",
      "2681a584987040f1b0f3b55978f66c2d",
      "87e18a40456f4076a38c7f8561088a3b",
      "a2caa632b1074e62a774b81cff555192",
      "8c1f653e12134bde83d02b56004ea1e5"
     ]
    },
    "id": "a08cb719-1dd9-4bb9-95a1-56ed72b3f696",
    "outputId": "87b574ae-aa0b-48b3-c0d3-25e0660c76c2",
    "pycharm": {
     "name": "#%%\n"
    }
   },
   "outputs": [
    {
     "name": "stdout",
     "output_type": "stream",
     "text": [
      "Metal device set to: Apple M1 Pro\n"
     ]
    },
    {
     "name": "stderr",
     "output_type": "stream",
     "text": [
      "2022-07-03 18:45:27.556680: I tensorflow/core/common_runtime/pluggable_device/pluggable_device_factory.cc:305] Could not identify NUMA node of platform GPU ID 0, defaulting to 0. Your kernel may not have been built with NUMA support.\n",
      "2022-07-03 18:45:27.557458: I tensorflow/core/common_runtime/pluggable_device/pluggable_device_factory.cc:271] Created TensorFlow device (/job:localhost/replica:0/task:0/device:GPU:0 with 0 MB memory) -> physical PluggableDevice (device: 0, name: METAL, pci bus id: <undefined>)\n"
     ]
    }
   ],
   "source": [
    "ds_train, ds_test = tfds.load(\n",
    "    name='iris',\n",
    "    split=['train[:80%]', 'train[80%:]'],\n",
    "    as_supervised=True\n",
    ")\n",
    "\n",
    "input_shape = (4, )  \n",
    "batch_size = 10      \n",
    "amount_of_classes = 3"
   ]
  },
  {
   "cell_type": "markdown",
   "id": "e0815707-fb75-45a7-8581-9f6163364d92",
   "metadata": {
    "id": "e0815707-fb75-45a7-8581-9f6163364d92",
    "pycharm": {
     "name": "#%% md\n"
    }
   },
   "source": [
    "Аналогичным образом преобразуем набор данных с помощью one-hot encoding, перемешаем и разделим на кусочки (батчи) одинакового размера."
   ]
  },
  {
   "cell_type": "code",
   "execution_count": 4,
   "id": "14bbff72-17b0-4ff8-89a2-c2db9d213b52",
   "metadata": {
    "id": "14bbff72-17b0-4ff8-89a2-c2db9d213b52",
    "pycharm": {
     "name": "#%%\n"
    }
   },
   "outputs": [],
   "source": [
    "def make_one_hot(x, y):\n",
    "    return x, tf.one_hot(y, depth=amount_of_classes)\n",
    "\n",
    "ds_train = (\n",
    "    ds_train\n",
    "    .map(make_one_hot)\n",
    "    .shuffle(len(ds_train))\n",
    "    .batch(batch_size, drop_remainder=True)\n",
    ")\n",
    "    \n",
    "ds_test = (\n",
    "    ds_test\n",
    "    .map(make_one_hot)\n",
    "    .batch(batch_size, drop_remainder=True)\n",
    ")"
   ]
  },
  {
   "cell_type": "markdown",
   "id": "d81eabd9-6809-4a66-a848-4fc9bd9052ee",
   "metadata": {
    "id": "d81eabd9-6809-4a66-a848-4fc9bd9052ee",
    "pycharm": {
     "name": "#%% md\n"
    }
   },
   "source": [
    "Далее создадим модель, чтобы посмотреть на качество при сдандартных значениях гиперпараметров. Используем ту же самую модель, что и в предыдущем примере, и обучим ее на протяжении 10 эпох."
   ]
  },
  {
   "cell_type": "code",
   "execution_count": 5,
   "id": "957c190b-0b58-4b3c-8138-ff27bc1081e8",
   "metadata": {
    "colab": {
     "base_uri": "https://localhost:8080/"
    },
    "id": "957c190b-0b58-4b3c-8138-ff27bc1081e8",
    "outputId": "e06007b3-a7cc-4454-932f-26a2291fa2c3",
    "pycharm": {
     "name": "#%%\n"
    },
    "tags": []
   },
   "outputs": [
    {
     "name": "stdout",
     "output_type": "stream",
     "text": [
      "Epoch 1/10\n"
     ]
    },
    {
     "name": "stderr",
     "output_type": "stream",
     "text": [
      "2022-07-03 18:46:30.328606: W tensorflow/core/platform/profile_utils/cpu_utils.cc:128] Failed to get CPU frequency: 0 Hz\n",
      "2022-07-03 18:46:30.332973: I tensorflow/core/grappler/optimizers/custom_graph_optimizer_registry.cc:113] Plugin optimizer for device_type GPU is enabled.\n"
     ]
    },
    {
     "name": "stdout",
     "output_type": "stream",
     "text": [
      "12/12 [==============================] - 1s 18ms/step - loss: 1.4315 - categorical_accuracy: 0.3333 - val_loss: 1.2187 - val_categorical_accuracy: 0.3333\n",
      "Epoch 2/10\n",
      "12/12 [==============================] - 0s 8ms/step - loss: 1.1643 - categorical_accuracy: 0.2833 - val_loss: 1.0822 - val_categorical_accuracy: 0.3667\n",
      "Epoch 3/10\n",
      " 1/12 [=>............................] - ETA: 0s - loss: 1.0538 - categorical_accuracy: 0.2000"
     ]
    },
    {
     "name": "stderr",
     "output_type": "stream",
     "text": [
      "2022-07-03 18:46:31.197545: I tensorflow/core/grappler/optimizers/custom_graph_optimizer_registry.cc:113] Plugin optimizer for device_type GPU is enabled.\n"
     ]
    },
    {
     "name": "stdout",
     "output_type": "stream",
     "text": [
      "12/12 [==============================] - 0s 9ms/step - loss: 1.0748 - categorical_accuracy: 0.3667 - val_loss: 1.0611 - val_categorical_accuracy: 0.6667\n",
      "Epoch 4/10\n",
      "12/12 [==============================] - 0s 9ms/step - loss: 1.0466 - categorical_accuracy: 0.5667 - val_loss: 1.0402 - val_categorical_accuracy: 0.6333\n",
      "Epoch 5/10\n",
      "12/12 [==============================] - 0s 9ms/step - loss: 1.0173 - categorical_accuracy: 0.6667 - val_loss: 1.0015 - val_categorical_accuracy: 0.6333\n",
      "Epoch 6/10\n",
      "12/12 [==============================] - 0s 8ms/step - loss: 0.9765 - categorical_accuracy: 0.6750 - val_loss: 0.9608 - val_categorical_accuracy: 0.6333\n",
      "Epoch 7/10\n",
      "12/12 [==============================] - 0s 8ms/step - loss: 0.9331 - categorical_accuracy: 0.6750 - val_loss: 0.9153 - val_categorical_accuracy: 0.6333\n",
      "Epoch 8/10\n",
      "12/12 [==============================] - 0s 9ms/step - loss: 0.8855 - categorical_accuracy: 0.6917 - val_loss: 0.8637 - val_categorical_accuracy: 0.7000\n",
      "Epoch 9/10\n",
      "12/12 [==============================] - 0s 10ms/step - loss: 0.8310 - categorical_accuracy: 0.6750 - val_loss: 0.8139 - val_categorical_accuracy: 0.6333\n",
      "Epoch 10/10\n",
      "12/12 [==============================] - 0s 9ms/step - loss: 0.7760 - categorical_accuracy: 0.6833 - val_loss: 0.7615 - val_categorical_accuracy: 0.7000\n"
     ]
    }
   ],
   "source": [
    "model = keras.Sequential()\n",
    "model.add(layers.Dense(32, input_shape=input_shape, activation='sigmoid'))\n",
    "model.add(layers.Dense(16, activation='sigmoid'))\n",
    "model.add(layers.Dense(amount_of_classes, activation=activations.softmax))\n",
    "\n",
    "model.compile(\n",
    "    optimizer=optimizers.Adam(learning_rate=0.003),\n",
    "    loss=losses.CategoricalCrossentropy(),\n",
    "    metrics=[metrics.CategoricalAccuracy()]\n",
    ")\n",
    "\n",
    "history = model.fit(ds_train, epochs=10, validation_data=ds_test, verbose=1)"
   ]
  },
  {
   "cell_type": "markdown",
   "id": "5bafa5bb-a508-4221-9630-3700785ea697",
   "metadata": {
    "id": "5bafa5bb-a508-4221-9630-3700785ea697",
    "pycharm": {
     "name": "#%% md\n"
    }
   },
   "source": [
    "Отметьте, какое значение точности на валидационном наборе данных мы получили. Вследствие того, что веса инициируются случайным образом, процесс обучения достаточно стохастичен и случайно можно получить удачный набор весов, который приведет к очень высокой точности с первого раза. Однако, чаще всего точность после подбора гиперпараметров оказывается выше вследствие нахождения более удачного сочетания. Сравните эти значения в конце, после оптимизации, и сделайте соответствующие выводы. Перезапустите блокнот несколько раз и проанализируйте полученные результаты."
   ]
  },
  {
   "cell_type": "markdown",
   "id": "26fcb00d-495f-419b-8bbe-2bc5d43e8783",
   "metadata": {
    "id": "26fcb00d-495f-419b-8bbe-2bc5d43e8783",
    "pycharm": {
     "name": "#%% md\n"
    }
   },
   "source": [
    "Для того, чтобы оптимизировать модель, фреймворку Optuna необходимо создать цель оптимизации — функцию, которую фреймворк будет запускать. Выходом функции должно быть одно число, которое необходимо максимизировать или минимизировать.\n",
    "\n",
    "Функция должна быть полностью самостоятельной, все необходимые инициализации следует совершать в ней. Стоит также учитывать, что фреймворк Optuna можно использовать с использованием внешней базы данных, тем самым запуская множество процессов, которые будут совершать оптимизацию параллельно. Поэтому не стоит использовать глобальные переменные, если они не являются константами.\n",
    "\n",
    "Функция принимает на вход единственный параметр — объект `optuna.trial.Trial`, который в дальнейшем в ней и используется. Давайте инициализируем новую модель нейронной сети в данной функции и дадим фреймворку Optuna самому подобрать как количество нейронов в слоях, так и используемые функции активации. Для этого вместо указания конкретного числа нейронов и конкретной функции активации указывается то, как этот параметр можно выбирать — с помощью объекта `trial`. Optuna позволяет выбирать из нескольких видов распределений и разных типов данных, а также, если вам нужно указать несколько доступных вариантов, указывать категориальное равномерное распределение с заранее определенными объектами или значениями.\n",
    "\n",
    "Для количества нейронов первого слоя укажем возможность выбора любого целого числа в промежутке от 16 до 64, а второго слоя — от 4 до 16. Функции активации в обоих случаях укажем как одну из двух: либо можно выбрать сигмоиду, либо ReLU.\n",
    "\n",
    "Чтобы продемонстрировать работу с непрерывными величинами, коэффициент скорости обучения тоже объявим гиперпараметром и предложим пакету выбирать его из равномерного распределения на отрезке $[0.001, 0.01]$.\n",
    "\n",
    "Далее в рамках этой же функции обучим модель и, в качестве финального результата обучения укажем последнюю точность на валидационном наборе данных, которая записана в объекте history."
   ]
  },
  {
   "cell_type": "code",
   "execution_count": 6,
   "id": "4c6c514c-d831-4b66-ad4a-532e04e6c512",
   "metadata": {
    "id": "4c6c514c-d831-4b66-ad4a-532e04e6c512",
    "pycharm": {
     "name": "#%%\n"
    }
   },
   "outputs": [],
   "source": [
    "def optuna_objective(trial: optuna.trial.Trial):\n",
    "    model = keras.Sequential(\n",
    "        [\n",
    "            layers.Dense(\n",
    "                units=trial.suggest_int('l1_neurons', 16, 64),\n",
    "                input_shape=input_shape,\n",
    "                activation=trial.suggest_categorical('l1_activation', ['sigmoid', 'relu'])\n",
    "            ),\n",
    "            layers.Dense(\n",
    "                units=trial.suggest_int('l2_neurons', 4, 16),\n",
    "                activation=trial.suggest_categorical('l2_activation', ['sigmoid', 'relu'])\n",
    "            ),\n",
    "            layers.Dense(amount_of_classes, activation=activations.softmax)\n",
    "        ]\n",
    "    )\n",
    "    \n",
    "    model.compile(\n",
    "        optimizer=optimizers.Adam(learning_rate=trial.suggest_uniform('lr', 0.001, 0.01)),\n",
    "        loss=losses.CategoricalCrossentropy(),\n",
    "        metrics=[metrics.CategoricalAccuracy()]\n",
    "    )\n",
    "    \n",
    "    history = model.fit(ds_train, epochs=10, validation_data=ds_test, verbose=0)\n",
    "    accuracy = history.history['val_categorical_accuracy'][-1]\n",
    "    return accuracy"
   ]
  },
  {
   "cell_type": "markdown",
   "id": "c6dd48da-4ba0-4d04-afb5-900d9006962c",
   "metadata": {
    "id": "c6dd48da-4ba0-4d04-afb5-900d9006962c",
    "pycharm": {
     "name": "#%% md\n"
    }
   },
   "source": [
    "После определения функции оптимизации необходимо создать исследование, то есть инициализировать специальный объект. В данном случае мы укажем, что хотим максимизировать выход функции."
   ]
  },
  {
   "cell_type": "code",
   "execution_count": 7,
   "id": "fa417d27-f4a1-45c0-821f-b6e0e98fb782",
   "metadata": {
    "id": "fa417d27-f4a1-45c0-821f-b6e0e98fb782",
    "outputId": "36a0b88b-b0a8-496c-aae3-36e10cb1cb3c",
    "pycharm": {
     "name": "#%%\n"
    }
   },
   "outputs": [
    {
     "name": "stderr",
     "output_type": "stream",
     "text": [
      "\u001b[32m[I 2022-07-03 18:56:26,764]\u001b[0m A new study created in memory with name: no-name-056d6668-15de-422e-85fe-748b5c15e70b\u001b[0m\n"
     ]
    }
   ],
   "source": [
    "study = optuna.create_study(direction='maximize')"
   ]
  },
  {
   "cell_type": "markdown",
   "id": "eb2a9147-4699-4875-a8c6-fe00dd17ad0d",
   "metadata": {
    "id": "eb2a9147-4699-4875-a8c6-fe00dd17ad0d",
    "pycharm": {
     "name": "#%% md\n"
    }
   },
   "source": [
    "Теперь мы готовы запустить процесс поиска. Для этого осталось лишь указать функцию для оптимизации и количество попыток."
   ]
  },
  {
   "cell_type": "code",
   "execution_count": 8,
   "id": "34ef0983-3e8a-434b-8a0f-ec1cd513ad55",
   "metadata": {
    "id": "34ef0983-3e8a-434b-8a0f-ec1cd513ad55",
    "outputId": "24022d88-2062-47d8-d803-916495f141e2",
    "pycharm": {
     "name": "#%%\n"
    }
   },
   "outputs": [
    {
     "name": "stderr",
     "output_type": "stream",
     "text": [
      "2022-07-03 18:56:54.701811: I tensorflow/core/grappler/optimizers/custom_graph_optimizer_registry.cc:113] Plugin optimizer for device_type GPU is enabled.\n",
      "2022-07-03 18:56:55.132586: I tensorflow/core/grappler/optimizers/custom_graph_optimizer_registry.cc:113] Plugin optimizer for device_type GPU is enabled.\n",
      "\u001b[32m[I 2022-07-03 18:56:56,006]\u001b[0m Trial 0 finished with value: 0.9333333969116211 and parameters: {'l1_neurons': 32, 'l1_activation': 'relu', 'l2_neurons': 13, 'l2_activation': 'sigmoid', 'lr': 0.007185256683353856}. Best is trial 0 with value: 0.9333333969116211.\u001b[0m\n",
      "2022-07-03 18:56:56.179823: I tensorflow/core/grappler/optimizers/custom_graph_optimizer_registry.cc:113] Plugin optimizer for device_type GPU is enabled.\n",
      "2022-07-03 18:56:56.524286: I tensorflow/core/grappler/optimizers/custom_graph_optimizer_registry.cc:113] Plugin optimizer for device_type GPU is enabled.\n",
      "\u001b[32m[I 2022-07-03 18:56:57,403]\u001b[0m Trial 1 finished with value: 0.6333333849906921 and parameters: {'l1_neurons': 38, 'l1_activation': 'relu', 'l2_neurons': 4, 'l2_activation': 'sigmoid', 'lr': 0.0026819289114189534}. Best is trial 0 with value: 0.9333333969116211.\u001b[0m\n",
      "2022-07-03 18:56:57.568875: I tensorflow/core/grappler/optimizers/custom_graph_optimizer_registry.cc:113] Plugin optimizer for device_type GPU is enabled.\n",
      "2022-07-03 18:56:57.935669: I tensorflow/core/grappler/optimizers/custom_graph_optimizer_registry.cc:113] Plugin optimizer for device_type GPU is enabled.\n",
      "\u001b[32m[I 2022-07-03 18:56:58,793]\u001b[0m Trial 2 finished with value: 0.36666667461395264 and parameters: {'l1_neurons': 21, 'l1_activation': 'relu', 'l2_neurons': 5, 'l2_activation': 'sigmoid', 'lr': 0.0011719896066872734}. Best is trial 0 with value: 0.9333333969116211.\u001b[0m\n",
      "2022-07-03 18:56:59.091676: I tensorflow/core/grappler/optimizers/custom_graph_optimizer_registry.cc:113] Plugin optimizer for device_type GPU is enabled.\n",
      "2022-07-03 18:56:59.358379: I tensorflow/core/grappler/optimizers/custom_graph_optimizer_registry.cc:113] Plugin optimizer for device_type GPU is enabled.\n",
      "\u001b[32m[I 2022-07-03 18:57:00,208]\u001b[0m Trial 3 finished with value: 0.9000000357627869 and parameters: {'l1_neurons': 60, 'l1_activation': 'sigmoid', 'l2_neurons': 11, 'l2_activation': 'relu', 'lr': 0.0037318855784931743}. Best is trial 0 with value: 0.9333333969116211.\u001b[0m\n",
      "2022-07-03 18:57:00.368512: I tensorflow/core/grappler/optimizers/custom_graph_optimizer_registry.cc:113] Plugin optimizer for device_type GPU is enabled.\n",
      "2022-07-03 18:57:00.729200: I tensorflow/core/grappler/optimizers/custom_graph_optimizer_registry.cc:113] Plugin optimizer for device_type GPU is enabled.\n",
      "\u001b[32m[I 2022-07-03 18:57:01,568]\u001b[0m Trial 4 finished with value: 0.8333333730697632 and parameters: {'l1_neurons': 27, 'l1_activation': 'sigmoid', 'l2_neurons': 15, 'l2_activation': 'sigmoid', 'lr': 0.006566739201640121}. Best is trial 0 with value: 0.9333333969116211.\u001b[0m\n",
      "2022-07-03 18:57:01.725387: I tensorflow/core/grappler/optimizers/custom_graph_optimizer_registry.cc:113] Plugin optimizer for device_type GPU is enabled.\n",
      "2022-07-03 18:57:01.883247: I tensorflow/core/grappler/optimizers/custom_graph_optimizer_registry.cc:113] Plugin optimizer for device_type GPU is enabled.\n",
      "\u001b[32m[I 2022-07-03 18:57:02,735]\u001b[0m Trial 5 finished with value: 0.9333333969116211 and parameters: {'l1_neurons': 28, 'l1_activation': 'relu', 'l2_neurons': 16, 'l2_activation': 'relu', 'lr': 0.007678954242361854}. Best is trial 0 with value: 0.9333333969116211.\u001b[0m\n",
      "2022-07-03 18:57:02.905112: I tensorflow/core/grappler/optimizers/custom_graph_optimizer_registry.cc:113] Plugin optimizer for device_type GPU is enabled.\n",
      "2022-07-03 18:57:03.076842: I tensorflow/core/grappler/optimizers/custom_graph_optimizer_registry.cc:113] Plugin optimizer for device_type GPU is enabled.\n",
      "\u001b[32m[I 2022-07-03 18:57:03,912]\u001b[0m Trial 6 finished with value: 0.6333333849906921 and parameters: {'l1_neurons': 42, 'l1_activation': 'relu', 'l2_neurons': 13, 'l2_activation': 'sigmoid', 'lr': 0.0011470868741800125}. Best is trial 0 with value: 0.9333333969116211.\u001b[0m\n",
      "2022-07-03 18:57:04.077478: I tensorflow/core/grappler/optimizers/custom_graph_optimizer_registry.cc:113] Plugin optimizer for device_type GPU is enabled.\n",
      "2022-07-03 18:57:04.437084: I tensorflow/core/grappler/optimizers/custom_graph_optimizer_registry.cc:113] Plugin optimizer for device_type GPU is enabled.\n",
      "\u001b[32m[I 2022-07-03 18:57:05,273]\u001b[0m Trial 7 finished with value: 0.9333333969116211 and parameters: {'l1_neurons': 52, 'l1_activation': 'sigmoid', 'l2_neurons': 7, 'l2_activation': 'sigmoid', 'lr': 0.0025396670318983965}. Best is trial 0 with value: 0.9333333969116211.\u001b[0m\n",
      "2022-07-03 18:57:05.441333: I tensorflow/core/grappler/optimizers/custom_graph_optimizer_registry.cc:113] Plugin optimizer for device_type GPU is enabled.\n",
      "2022-07-03 18:57:05.614692: I tensorflow/core/grappler/optimizers/custom_graph_optimizer_registry.cc:113] Plugin optimizer for device_type GPU is enabled.\n",
      "\u001b[32m[I 2022-07-03 18:57:06,519]\u001b[0m Trial 8 finished with value: 0.6333333849906921 and parameters: {'l1_neurons': 29, 'l1_activation': 'sigmoid', 'l2_neurons': 5, 'l2_activation': 'sigmoid', 'lr': 0.004655219071588994}. Best is trial 0 with value: 0.9333333969116211.\u001b[0m\n",
      "2022-07-03 18:57:06.684263: I tensorflow/core/grappler/optimizers/custom_graph_optimizer_registry.cc:113] Plugin optimizer for device_type GPU is enabled.\n",
      "2022-07-03 18:57:06.975085: I tensorflow/core/grappler/optimizers/custom_graph_optimizer_registry.cc:113] Plugin optimizer for device_type GPU is enabled.\n",
      "\u001b[32m[I 2022-07-03 18:57:07,910]\u001b[0m Trial 9 finished with value: 0.8000000715255737 and parameters: {'l1_neurons': 47, 'l1_activation': 'sigmoid', 'l2_neurons': 12, 'l2_activation': 'relu', 'lr': 0.0017433410784709323}. Best is trial 0 with value: 0.9333333969116211.\u001b[0m\n",
      "2022-07-03 18:57:08.089654: I tensorflow/core/grappler/optimizers/custom_graph_optimizer_registry.cc:113] Plugin optimizer for device_type GPU is enabled.\n",
      "2022-07-03 18:57:08.696633: I tensorflow/core/grappler/optimizers/custom_graph_optimizer_registry.cc:113] Plugin optimizer for device_type GPU is enabled.\n",
      "\u001b[32m[I 2022-07-03 18:57:09,522]\u001b[0m Trial 10 finished with value: 0.9000000357627869 and parameters: {'l1_neurons': 16, 'l1_activation': 'relu', 'l2_neurons': 9, 'l2_activation': 'sigmoid', 'lr': 0.009918203790548573}. Best is trial 0 with value: 0.9333333969116211.\u001b[0m\n",
      "2022-07-03 18:57:09.685490: I tensorflow/core/grappler/optimizers/custom_graph_optimizer_registry.cc:113] Plugin optimizer for device_type GPU is enabled.\n",
      "2022-07-03 18:57:09.843402: I tensorflow/core/grappler/optimizers/custom_graph_optimizer_registry.cc:113] Plugin optimizer for device_type GPU is enabled.\n",
      "\u001b[32m[I 2022-07-03 18:57:10,684]\u001b[0m Trial 11 finished with value: 0.8333333730697632 and parameters: {'l1_neurons': 33, 'l1_activation': 'relu', 'l2_neurons': 16, 'l2_activation': 'relu', 'lr': 0.007183143415775146}. Best is trial 0 with value: 0.9333333969116211.\u001b[0m\n",
      "2022-07-03 18:57:10.865546: I tensorflow/core/grappler/optimizers/custom_graph_optimizer_registry.cc:113] Plugin optimizer for device_type GPU is enabled.\n",
      "2022-07-03 18:57:11.143510: I tensorflow/core/grappler/optimizers/custom_graph_optimizer_registry.cc:113] Plugin optimizer for device_type GPU is enabled.\n",
      "\u001b[32m[I 2022-07-03 18:57:12,008]\u001b[0m Trial 12 finished with value: 0.9000000357627869 and parameters: {'l1_neurons': 24, 'l1_activation': 'relu', 'l2_neurons': 14, 'l2_activation': 'relu', 'lr': 0.008569312570341542}. Best is trial 0 with value: 0.9333333969116211.\u001b[0m\n",
      "2022-07-03 18:57:12.175710: I tensorflow/core/grappler/optimizers/custom_graph_optimizer_registry.cc:113] Plugin optimizer for device_type GPU is enabled.\n",
      "2022-07-03 18:57:12.336303: I tensorflow/core/grappler/optimizers/custom_graph_optimizer_registry.cc:113] Plugin optimizer for device_type GPU is enabled.\n",
      "\u001b[32m[I 2022-07-03 18:57:13,226]\u001b[0m Trial 13 finished with value: 0.9666666984558105 and parameters: {'l1_neurons': 37, 'l1_activation': 'relu', 'l2_neurons': 16, 'l2_activation': 'relu', 'lr': 0.006647381425654292}. Best is trial 13 with value: 0.9666666984558105.\u001b[0m\n",
      "2022-07-03 18:57:13.378675: I tensorflow/core/grappler/optimizers/custom_graph_optimizer_registry.cc:113] Plugin optimizer for device_type GPU is enabled.\n",
      "2022-07-03 18:57:13.635216: I tensorflow/core/grappler/optimizers/custom_graph_optimizer_registry.cc:113] Plugin optimizer for device_type GPU is enabled.\n",
      "\u001b[32m[I 2022-07-03 18:57:14,512]\u001b[0m Trial 14 finished with value: 0.6333333849906921 and parameters: {'l1_neurons': 37, 'l1_activation': 'relu', 'l2_neurons': 9, 'l2_activation': 'relu', 'lr': 0.006213397917201422}. Best is trial 13 with value: 0.9666666984558105.\u001b[0m\n",
      "2022-07-03 18:57:14.675618: I tensorflow/core/grappler/optimizers/custom_graph_optimizer_registry.cc:113] Plugin optimizer for device_type GPU is enabled.\n",
      "2022-07-03 18:57:14.835297: I tensorflow/core/grappler/optimizers/custom_graph_optimizer_registry.cc:113] Plugin optimizer for device_type GPU is enabled.\n",
      "\u001b[32m[I 2022-07-03 18:57:15,690]\u001b[0m Trial 15 finished with value: 0.9000000357627869 and parameters: {'l1_neurons': 46, 'l1_activation': 'relu', 'l2_neurons': 14, 'l2_activation': 'relu', 'lr': 0.005667039352619837}. Best is trial 13 with value: 0.9666666984558105.\u001b[0m\n",
      "2022-07-03 18:57:15.860101: I tensorflow/core/grappler/optimizers/custom_graph_optimizer_registry.cc:113] Plugin optimizer for device_type GPU is enabled.\n",
      "2022-07-03 18:57:16.022036: I tensorflow/core/grappler/optimizers/custom_graph_optimizer_registry.cc:113] Plugin optimizer for device_type GPU is enabled.\n",
      "\u001b[32m[I 2022-07-03 18:57:16,905]\u001b[0m Trial 16 finished with value: 0.9333333969116211 and parameters: {'l1_neurons': 34, 'l1_activation': 'relu', 'l2_neurons': 12, 'l2_activation': 'relu', 'lr': 0.00839062704083883}. Best is trial 13 with value: 0.9666666984558105.\u001b[0m\n",
      "2022-07-03 18:57:17.071207: I tensorflow/core/grappler/optimizers/custom_graph_optimizer_registry.cc:113] Plugin optimizer for device_type GPU is enabled.\n",
      "2022-07-03 18:57:17.244238: I tensorflow/core/grappler/optimizers/custom_graph_optimizer_registry.cc:113] Plugin optimizer for device_type GPU is enabled.\n",
      "\u001b[32m[I 2022-07-03 18:57:18,180]\u001b[0m Trial 17 finished with value: 0.9000000357627869 and parameters: {'l1_neurons': 53, 'l1_activation': 'relu', 'l2_neurons': 14, 'l2_activation': 'sigmoid', 'lr': 0.0049473597553812325}. Best is trial 13 with value: 0.9666666984558105.\u001b[0m\n",
      "2022-07-03 18:57:18.348616: I tensorflow/core/grappler/optimizers/custom_graph_optimizer_registry.cc:113] Plugin optimizer for device_type GPU is enabled.\n",
      "2022-07-03 18:57:19.012536: I tensorflow/core/grappler/optimizers/custom_graph_optimizer_registry.cc:113] Plugin optimizer for device_type GPU is enabled.\n",
      "\u001b[32m[I 2022-07-03 18:57:19,911]\u001b[0m Trial 18 finished with value: 0.9000000357627869 and parameters: {'l1_neurons': 42, 'l1_activation': 'relu', 'l2_neurons': 10, 'l2_activation': 'sigmoid', 'lr': 0.009234565087573095}. Best is trial 13 with value: 0.9666666984558105.\u001b[0m\n",
      "2022-07-03 18:57:20.089619: I tensorflow/core/grappler/optimizers/custom_graph_optimizer_registry.cc:113] Plugin optimizer for device_type GPU is enabled.\n",
      "2022-07-03 18:57:20.328816: I tensorflow/core/grappler/optimizers/custom_graph_optimizer_registry.cc:113] Plugin optimizer for device_type GPU is enabled.\n",
      "\u001b[32m[I 2022-07-03 18:57:21,243]\u001b[0m Trial 19 finished with value: 0.9000000357627869 and parameters: {'l1_neurons': 64, 'l1_activation': 'relu', 'l2_neurons': 16, 'l2_activation': 'relu', 'lr': 0.007429506178857078}. Best is trial 13 with value: 0.9666666984558105.\u001b[0m\n",
      "2022-07-03 18:57:21.407229: I tensorflow/core/grappler/optimizers/custom_graph_optimizer_registry.cc:113] Plugin optimizer for device_type GPU is enabled.\n",
      "2022-07-03 18:57:21.575935: I tensorflow/core/grappler/optimizers/custom_graph_optimizer_registry.cc:113] Plugin optimizer for device_type GPU is enabled.\n",
      "\u001b[32m[I 2022-07-03 18:57:22,410]\u001b[0m Trial 20 finished with value: 0.8666667342185974 and parameters: {'l1_neurons': 34, 'l1_activation': 'relu', 'l2_neurons': 13, 'l2_activation': 'relu', 'lr': 0.00397562011909665}. Best is trial 13 with value: 0.9666666984558105.\u001b[0m\n",
      "2022-07-03 18:57:22.563461: I tensorflow/core/grappler/optimizers/custom_graph_optimizer_registry.cc:113] Plugin optimizer for device_type GPU is enabled.\n",
      "2022-07-03 18:57:22.731432: I tensorflow/core/grappler/optimizers/custom_graph_optimizer_registry.cc:113] Plugin optimizer for device_type GPU is enabled.\n",
      "\u001b[32m[I 2022-07-03 18:57:23,594]\u001b[0m Trial 21 finished with value: 0.9333333969116211 and parameters: {'l1_neurons': 32, 'l1_activation': 'relu', 'l2_neurons': 12, 'l2_activation': 'relu', 'lr': 0.008287692857289286}. Best is trial 13 with value: 0.9666666984558105.\u001b[0m\n",
      "2022-07-03 18:57:23.769663: I tensorflow/core/grappler/optimizers/custom_graph_optimizer_registry.cc:113] Plugin optimizer for device_type GPU is enabled.\n",
      "2022-07-03 18:57:23.934087: I tensorflow/core/grappler/optimizers/custom_graph_optimizer_registry.cc:113] Plugin optimizer for device_type GPU is enabled.\n",
      "\u001b[32m[I 2022-07-03 18:57:24,771]\u001b[0m Trial 22 finished with value: 0.9333333969116211 and parameters: {'l1_neurons': 36, 'l1_activation': 'relu', 'l2_neurons': 11, 'l2_activation': 'relu', 'lr': 0.006575208482315713}. Best is trial 13 with value: 0.9666666984558105.\u001b[0m\n",
      "2022-07-03 18:57:24.934982: I tensorflow/core/grappler/optimizers/custom_graph_optimizer_registry.cc:113] Plugin optimizer for device_type GPU is enabled.\n",
      "2022-07-03 18:57:25.105259: I tensorflow/core/grappler/optimizers/custom_graph_optimizer_registry.cc:113] Plugin optimizer for device_type GPU is enabled.\n",
      "\u001b[32m[I 2022-07-03 18:57:25,948]\u001b[0m Trial 23 finished with value: 0.9333333969116211 and parameters: {'l1_neurons': 41, 'l1_activation': 'relu', 'l2_neurons': 15, 'l2_activation': 'relu', 'lr': 0.008149791328239531}. Best is trial 13 with value: 0.9666666984558105.\u001b[0m\n",
      "2022-07-03 18:57:26.115856: I tensorflow/core/grappler/optimizers/custom_graph_optimizer_registry.cc:113] Plugin optimizer for device_type GPU is enabled.\n",
      "2022-07-03 18:57:26.286129: I tensorflow/core/grappler/optimizers/custom_graph_optimizer_registry.cc:113] Plugin optimizer for device_type GPU is enabled.\n",
      "\u001b[32m[I 2022-07-03 18:57:27,161]\u001b[0m Trial 24 finished with value: 0.9333333969116211 and parameters: {'l1_neurons': 31, 'l1_activation': 'relu', 'l2_neurons': 12, 'l2_activation': 'relu', 'lr': 0.005720410854335603}. Best is trial 13 with value: 0.9666666984558105.\u001b[0m\n",
      "2022-07-03 18:57:27.332772: I tensorflow/core/grappler/optimizers/custom_graph_optimizer_registry.cc:113] Plugin optimizer for device_type GPU is enabled.\n",
      "2022-07-03 18:57:27.527673: I tensorflow/core/grappler/optimizers/custom_graph_optimizer_registry.cc:113] Plugin optimizer for device_type GPU is enabled.\n",
      "\u001b[32m[I 2022-07-03 18:57:28,552]\u001b[0m Trial 25 finished with value: 0.9666666984558105 and parameters: {'l1_neurons': 46, 'l1_activation': 'relu', 'l2_neurons': 10, 'l2_activation': 'relu', 'lr': 0.006600280084209289}. Best is trial 13 with value: 0.9666666984558105.\u001b[0m\n",
      "2022-07-03 18:57:28.719986: I tensorflow/core/grappler/optimizers/custom_graph_optimizer_registry.cc:113] Plugin optimizer for device_type GPU is enabled.\n",
      "2022-07-03 18:57:29.325674: I tensorflow/core/grappler/optimizers/custom_graph_optimizer_registry.cc:113] Plugin optimizer for device_type GPU is enabled.\n",
      "\u001b[32m[I 2022-07-03 18:57:30,168]\u001b[0m Trial 26 finished with value: 0.9000000357627869 and parameters: {'l1_neurons': 47, 'l1_activation': 'relu', 'l2_neurons': 8, 'l2_activation': 'relu', 'lr': 0.00915749752246261}. Best is trial 13 with value: 0.9666666984558105.\u001b[0m\n",
      "2022-07-03 18:57:30.352066: I tensorflow/core/grappler/optimizers/custom_graph_optimizer_registry.cc:113] Plugin optimizer for device_type GPU is enabled.\n",
      "2022-07-03 18:57:30.545950: I tensorflow/core/grappler/optimizers/custom_graph_optimizer_registry.cc:113] Plugin optimizer for device_type GPU is enabled.\n",
      "\u001b[32m[I 2022-07-03 18:57:31,400]\u001b[0m Trial 27 finished with value: 0.7333333492279053 and parameters: {'l1_neurons': 56, 'l1_activation': 'sigmoid', 'l2_neurons': 7, 'l2_activation': 'relu', 'lr': 0.005456508847991008}. Best is trial 13 with value: 0.9666666984558105.\u001b[0m\n",
      "2022-07-03 18:57:31.574504: I tensorflow/core/grappler/optimizers/custom_graph_optimizer_registry.cc:113] Plugin optimizer for device_type GPU is enabled.\n",
      "2022-07-03 18:57:31.736764: I tensorflow/core/grappler/optimizers/custom_graph_optimizer_registry.cc:113] Plugin optimizer for device_type GPU is enabled.\n",
      "\u001b[32m[I 2022-07-03 18:57:32,596]\u001b[0m Trial 28 finished with value: 0.9000000357627869 and parameters: {'l1_neurons': 50, 'l1_activation': 'relu', 'l2_neurons': 11, 'l2_activation': 'relu', 'lr': 0.006080807274465562}. Best is trial 13 with value: 0.9666666984558105.\u001b[0m\n",
      "2022-07-03 18:57:32.789507: I tensorflow/core/grappler/optimizers/custom_graph_optimizer_registry.cc:113] Plugin optimizer for device_type GPU is enabled.\n",
      "2022-07-03 18:57:33.035470: I tensorflow/core/grappler/optimizers/custom_graph_optimizer_registry.cc:113] Plugin optimizer for device_type GPU is enabled.\n",
      "\u001b[32m[I 2022-07-03 18:57:33,995]\u001b[0m Trial 29 finished with value: 0.9000000357627869 and parameters: {'l1_neurons': 40, 'l1_activation': 'relu', 'l2_neurons': 10, 'l2_activation': 'sigmoid', 'lr': 0.0070219485523855575}. Best is trial 13 with value: 0.9666666984558105.\u001b[0m\n"
     ]
    }
   ],
   "source": [
    "study.optimize(optuna_objective, n_trials=30)"
   ]
  },
  {
   "cell_type": "markdown",
   "id": "4b7abb70-6718-4b6b-a673-d46d48d73cc2",
   "metadata": {
    "id": "4b7abb70-6718-4b6b-a673-d46d48d73cc2",
    "pycharm": {
     "name": "#%% md\n"
    }
   },
   "source": [
    "После этого в объекте study будет храниться информация о лучшей попытке и использованных параметрах. Мы можем выбрать эти параметры как оптимальные и использовать в дальнейшем для нашей модели."
   ]
  },
  {
   "cell_type": "code",
   "execution_count": 9,
   "id": "3ceee2f6-d49d-4882-bf81-c2d93b620b82",
   "metadata": {
    "id": "3ceee2f6-d49d-4882-bf81-c2d93b620b82",
    "outputId": "efe305b0-42f6-4067-e293-eb960928317f",
    "pycharm": {
     "name": "#%%\n"
    }
   },
   "outputs": [
    {
     "data": {
      "text/plain": [
       "{'l1_neurons': 37,\n",
       " 'l1_activation': 'relu',\n",
       " 'l2_neurons': 16,\n",
       " 'l2_activation': 'relu',\n",
       " 'lr': 0.006647381425654292}"
      ]
     },
     "execution_count": 9,
     "metadata": {},
     "output_type": "execute_result"
    }
   ],
   "source": [
    "study.best_params"
   ]
  },
  {
   "cell_type": "markdown",
   "metadata": {
    "collapsed": false,
    "pycharm": {
     "name": "#%% md\n"
    }
   },
   "source": [
    "Фреймворк Optuna обладает достаточно большими возможностями, не рассмотренными в данной лекции, которые могут вам пригодиться. Возможно, самая полезная возможность -- это возможность использования внешнего хранилища данных, такого как СУБД MySQL или SQLite. Использование внешнего хранилища позволит вам запустить несколько процессов оптимизации параллельно, а также останавливать и продолжать процесс поиска гиперпараметров."
   ]
  },
  {
   "cell_type": "code",
   "execution_count": null,
   "metadata": {
    "collapsed": false,
    "pycharm": {
     "name": "#%%\n"
    }
   },
   "outputs": [],
   "source": []
  }
 ],
 "metadata": {
  "colab": {
   "name": "Hyperparams.ipynb",
   "provenance": []
  },
  "kernelspec": {
   "display_name": "Python 3.8.5 ('base')",
   "language": "python",
   "name": "python3"
  },
  "language_info": {
   "codemirror_mode": {
    "name": "ipython",
    "version": 3
   },
   "file_extension": ".py",
   "mimetype": "text/x-python",
   "name": "python",
   "nbconvert_exporter": "python",
   "pygments_lexer": "ipython3",
   "version": "3.8.5"
  },
  "vscode": {
   "interpreter": {
    "hash": "40d3a090f54c6569ab1632332b64b2c03c39dcf918b08424e98f38b5ae0af88f"
   }
  },
  "widgets": {
   "application/vnd.jupyter.widget-state+json": {
    "021724da957248fc81cba220500d46e7": {
     "model_module": "@jupyter-widgets/base",
     "model_module_version": "1.2.0",
     "model_name": "LayoutModel",
     "state": {
      "_model_module": "@jupyter-widgets/base",
      "_model_module_version": "1.2.0",
      "_model_name": "LayoutModel",
      "_view_count": null,
      "_view_module": "@jupyter-widgets/base",
      "_view_module_version": "1.2.0",
      "_view_name": "LayoutView",
      "align_content": null,
      "align_items": null,
      "align_self": null,
      "border": null,
      "bottom": null,
      "display": null,
      "flex": null,
      "flex_flow": null,
      "grid_area": null,
      "grid_auto_columns": null,
      "grid_auto_flow": null,
      "grid_auto_rows": null,
      "grid_column": null,
      "grid_gap": null,
      "grid_row": null,
      "grid_template_areas": null,
      "grid_template_columns": null,
      "grid_template_rows": null,
      "height": null,
      "justify_content": null,
      "justify_items": null,
      "left": null,
      "margin": null,
      "max_height": null,
      "max_width": null,
      "min_height": null,
      "min_width": null,
      "object_fit": null,
      "object_position": null,
      "order": null,
      "overflow": null,
      "overflow_x": null,
      "overflow_y": null,
      "padding": null,
      "right": null,
      "top": null,
      "visibility": null,
      "width": null
     }
    },
    "0992e9ee67c5404fba4809d83e60dc30": {
     "model_module": "@jupyter-widgets/controls",
     "model_module_version": "1.5.0",
     "model_name": "HTMLModel",
     "state": {
      "_dom_classes": [],
      "_model_module": "@jupyter-widgets/controls",
      "_model_module_version": "1.5.0",
      "_model_name": "HTMLModel",
      "_view_count": null,
      "_view_module": "@jupyter-widgets/controls",
      "_view_module_version": "1.5.0",
      "_view_name": "HTMLView",
      "description": "",
      "description_tooltip": null,
      "layout": "IPY_MODEL_9f4de698c9b041968ff895c4a67477dd",
      "placeholder": "​",
      "style": "IPY_MODEL_a68dad423ed74fcba065545314d108c8",
      "value": ""
     }
    },
    "09aaa53cd1d24420bee982d055afbed3": {
     "model_module": "@jupyter-widgets/controls",
     "model_module_version": "1.5.0",
     "model_name": "DescriptionStyleModel",
     "state": {
      "_model_module": "@jupyter-widgets/controls",
      "_model_module_version": "1.5.0",
      "_model_name": "DescriptionStyleModel",
      "_view_count": null,
      "_view_module": "@jupyter-widgets/base",
      "_view_module_version": "1.2.0",
      "_view_name": "StyleView",
      "description_width": ""
     }
    },
    "12954e5013114f42a340689cc1f766e4": {
     "model_module": "@jupyter-widgets/controls",
     "model_module_version": "1.5.0",
     "model_name": "DescriptionStyleModel",
     "state": {
      "_model_module": "@jupyter-widgets/controls",
      "_model_module_version": "1.5.0",
      "_model_name": "DescriptionStyleModel",
      "_view_count": null,
      "_view_module": "@jupyter-widgets/base",
      "_view_module_version": "1.2.0",
      "_view_name": "StyleView",
      "description_width": ""
     }
    },
    "1910eba834d74061a8c1df412d4c5fa8": {
     "model_module": "@jupyter-widgets/controls",
     "model_module_version": "1.5.0",
     "model_name": "HTMLModel",
     "state": {
      "_dom_classes": [],
      "_model_module": "@jupyter-widgets/controls",
      "_model_module_version": "1.5.0",
      "_model_name": "HTMLModel",
      "_view_count": null,
      "_view_module": "@jupyter-widgets/controls",
      "_view_module_version": "1.5.0",
      "_view_name": "HTMLView",
      "description": "",
      "description_tooltip": null,
      "layout": "IPY_MODEL_8c1f653e12134bde83d02b56004ea1e5",
      "placeholder": "​",
      "style": "IPY_MODEL_a2caa632b1074e62a774b81cff555192",
      "value": " 149/150 [00:00&lt;00:00, 3202.37 examples/s]"
     }
    },
    "1a85d3dc2cc94e23a42f113e9f86b28c": {
     "model_module": "@jupyter-widgets/base",
     "model_module_version": "1.2.0",
     "model_name": "LayoutModel",
     "state": {
      "_model_module": "@jupyter-widgets/base",
      "_model_module_version": "1.2.0",
      "_model_name": "LayoutModel",
      "_view_count": null,
      "_view_module": "@jupyter-widgets/base",
      "_view_module_version": "1.2.0",
      "_view_name": "LayoutView",
      "align_content": null,
      "align_items": null,
      "align_self": null,
      "border": null,
      "bottom": null,
      "display": null,
      "flex": null,
      "flex_flow": null,
      "grid_area": null,
      "grid_auto_columns": null,
      "grid_auto_flow": null,
      "grid_auto_rows": null,
      "grid_column": null,
      "grid_gap": null,
      "grid_row": null,
      "grid_template_areas": null,
      "grid_template_columns": null,
      "grid_template_rows": null,
      "height": null,
      "justify_content": null,
      "justify_items": null,
      "left": null,
      "margin": null,
      "max_height": null,
      "max_width": null,
      "min_height": null,
      "min_width": null,
      "object_fit": null,
      "object_position": null,
      "order": null,
      "overflow": null,
      "overflow_x": null,
      "overflow_y": null,
      "padding": null,
      "right": null,
      "top": null,
      "visibility": null,
      "width": null
     }
    },
    "1f50ab00383a4027af426adfc916290a": {
     "model_module": "@jupyter-widgets/base",
     "model_module_version": "1.2.0",
     "model_name": "LayoutModel",
     "state": {
      "_model_module": "@jupyter-widgets/base",
      "_model_module_version": "1.2.0",
      "_model_name": "LayoutModel",
      "_view_count": null,
      "_view_module": "@jupyter-widgets/base",
      "_view_module_version": "1.2.0",
      "_view_name": "LayoutView",
      "align_content": null,
      "align_items": null,
      "align_self": null,
      "border": null,
      "bottom": null,
      "display": null,
      "flex": null,
      "flex_flow": null,
      "grid_area": null,
      "grid_auto_columns": null,
      "grid_auto_flow": null,
      "grid_auto_rows": null,
      "grid_column": null,
      "grid_gap": null,
      "grid_row": null,
      "grid_template_areas": null,
      "grid_template_columns": null,
      "grid_template_rows": null,
      "height": null,
      "justify_content": null,
      "justify_items": null,
      "left": null,
      "margin": null,
      "max_height": null,
      "max_width": null,
      "min_height": null,
      "min_width": null,
      "object_fit": null,
      "object_position": null,
      "order": null,
      "overflow": null,
      "overflow_x": null,
      "overflow_y": null,
      "padding": null,
      "right": null,
      "top": null,
      "visibility": null,
      "width": "20px"
     }
    },
    "2681a584987040f1b0f3b55978f66c2d": {
     "model_module": "@jupyter-widgets/controls",
     "model_module_version": "1.5.0",
     "model_name": "ProgressStyleModel",
     "state": {
      "_model_module": "@jupyter-widgets/controls",
      "_model_module_version": "1.5.0",
      "_model_name": "ProgressStyleModel",
      "_view_count": null,
      "_view_module": "@jupyter-widgets/base",
      "_view_module_version": "1.2.0",
      "_view_name": "StyleView",
      "bar_color": null,
      "description_width": ""
     }
    },
    "2b4835984c0f4c04a6275fb49fa36d27": {
     "model_module": "@jupyter-widgets/controls",
     "model_module_version": "1.5.0",
     "model_name": "HBoxModel",
     "state": {
      "_dom_classes": [],
      "_model_module": "@jupyter-widgets/controls",
      "_model_module_version": "1.5.0",
      "_model_name": "HBoxModel",
      "_view_count": null,
      "_view_module": "@jupyter-widgets/controls",
      "_view_module_version": "1.5.0",
      "_view_name": "HBoxView",
      "box_style": "",
      "children": [
       "IPY_MODEL_5d884158bf9748d6a89b02bf3aa8b8de",
       "IPY_MODEL_6f53db5b798e43d8a229c0dfda82d749",
       "IPY_MODEL_1910eba834d74061a8c1df412d4c5fa8"
      ],
      "layout": "IPY_MODEL_1a85d3dc2cc94e23a42f113e9f86b28c"
     }
    },
    "2f933546b2ea4c459ab4fde55a35c38e": {
     "model_module": "@jupyter-widgets/controls",
     "model_module_version": "1.5.0",
     "model_name": "DescriptionStyleModel",
     "state": {
      "_model_module": "@jupyter-widgets/controls",
      "_model_module_version": "1.5.0",
      "_model_name": "DescriptionStyleModel",
      "_view_count": null,
      "_view_module": "@jupyter-widgets/base",
      "_view_module_version": "1.2.0",
      "_view_name": "StyleView",
      "description_width": ""
     }
    },
    "40624de7350643ed984f0461e2e05e10": {
     "model_module": "@jupyter-widgets/controls",
     "model_module_version": "1.5.0",
     "model_name": "ProgressStyleModel",
     "state": {
      "_model_module": "@jupyter-widgets/controls",
      "_model_module_version": "1.5.0",
      "_model_name": "ProgressStyleModel",
      "_view_count": null,
      "_view_module": "@jupyter-widgets/base",
      "_view_module_version": "1.2.0",
      "_view_name": "StyleView",
      "bar_color": null,
      "description_width": ""
     }
    },
    "465efd870fbf4f85bfcf56681504bf06": {
     "model_module": "@jupyter-widgets/base",
     "model_module_version": "1.2.0",
     "model_name": "LayoutModel",
     "state": {
      "_model_module": "@jupyter-widgets/base",
      "_model_module_version": "1.2.0",
      "_model_name": "LayoutModel",
      "_view_count": null,
      "_view_module": "@jupyter-widgets/base",
      "_view_module_version": "1.2.0",
      "_view_name": "LayoutView",
      "align_content": null,
      "align_items": null,
      "align_self": null,
      "border": null,
      "bottom": null,
      "display": null,
      "flex": null,
      "flex_flow": null,
      "grid_area": null,
      "grid_auto_columns": null,
      "grid_auto_flow": null,
      "grid_auto_rows": null,
      "grid_column": null,
      "grid_gap": null,
      "grid_row": null,
      "grid_template_areas": null,
      "grid_template_columns": null,
      "grid_template_rows": null,
      "height": null,
      "justify_content": null,
      "justify_items": null,
      "left": null,
      "margin": null,
      "max_height": null,
      "max_width": null,
      "min_height": null,
      "min_width": null,
      "object_fit": null,
      "object_position": null,
      "order": null,
      "overflow": null,
      "overflow_x": null,
      "overflow_y": null,
      "padding": null,
      "right": null,
      "top": null,
      "visibility": null,
      "width": "20px"
     }
    },
    "5d884158bf9748d6a89b02bf3aa8b8de": {
     "model_module": "@jupyter-widgets/controls",
     "model_module_version": "1.5.0",
     "model_name": "HTMLModel",
     "state": {
      "_dom_classes": [],
      "_model_module": "@jupyter-widgets/controls",
      "_model_module_version": "1.5.0",
      "_model_name": "HTMLModel",
      "_view_count": null,
      "_view_module": "@jupyter-widgets/controls",
      "_view_module_version": "1.5.0",
      "_view_name": "HTMLView",
      "description": "",
      "description_tooltip": null,
      "layout": "IPY_MODEL_021724da957248fc81cba220500d46e7",
      "placeholder": "​",
      "style": "IPY_MODEL_09aaa53cd1d24420bee982d055afbed3",
      "value": " 99%"
     }
    },
    "5ead3a68629544618b2a289be7f496ef": {
     "model_module": "@jupyter-widgets/controls",
     "model_module_version": "1.5.0",
     "model_name": "HTMLModel",
     "state": {
      "_dom_classes": [],
      "_model_module": "@jupyter-widgets/controls",
      "_model_module_version": "1.5.0",
      "_model_name": "HTMLModel",
      "_view_count": null,
      "_view_module": "@jupyter-widgets/controls",
      "_view_module_version": "1.5.0",
      "_view_name": "HTMLView",
      "description": "",
      "description_tooltip": null,
      "layout": "IPY_MODEL_bfa0ccee5ea74b3ead8d250e47dbb029",
      "placeholder": "​",
      "style": "IPY_MODEL_2f933546b2ea4c459ab4fde55a35c38e",
      "value": "Dl Completed...: 100%"
     }
    },
    "614d6c39924a4fa09bc7bc627994fe8a": {
     "model_module": "@jupyter-widgets/base",
     "model_module_version": "1.2.0",
     "model_name": "LayoutModel",
     "state": {
      "_model_module": "@jupyter-widgets/base",
      "_model_module_version": "1.2.0",
      "_model_name": "LayoutModel",
      "_view_count": null,
      "_view_module": "@jupyter-widgets/base",
      "_view_module_version": "1.2.0",
      "_view_name": "LayoutView",
      "align_content": null,
      "align_items": null,
      "align_self": null,
      "border": null,
      "bottom": null,
      "display": null,
      "flex": null,
      "flex_flow": null,
      "grid_area": null,
      "grid_auto_columns": null,
      "grid_auto_flow": null,
      "grid_auto_rows": null,
      "grid_column": null,
      "grid_gap": null,
      "grid_row": null,
      "grid_template_areas": null,
      "grid_template_columns": null,
      "grid_template_rows": null,
      "height": null,
      "justify_content": null,
      "justify_items": null,
      "left": null,
      "margin": null,
      "max_height": null,
      "max_width": null,
      "min_height": null,
      "min_width": null,
      "object_fit": null,
      "object_position": null,
      "order": null,
      "overflow": null,
      "overflow_x": null,
      "overflow_y": null,
      "padding": null,
      "right": null,
      "top": null,
      "visibility": null,
      "width": null
     }
    },
    "6f53db5b798e43d8a229c0dfda82d749": {
     "model_module": "@jupyter-widgets/controls",
     "model_module_version": "1.5.0",
     "model_name": "FloatProgressModel",
     "state": {
      "_dom_classes": [],
      "_model_module": "@jupyter-widgets/controls",
      "_model_module_version": "1.5.0",
      "_model_name": "FloatProgressModel",
      "_view_count": null,
      "_view_module": "@jupyter-widgets/controls",
      "_view_module_version": "1.5.0",
      "_view_name": "ProgressView",
      "bar_style": "danger",
      "description": "",
      "description_tooltip": null,
      "layout": "IPY_MODEL_87e18a40456f4076a38c7f8561088a3b",
      "max": 150,
      "min": 0,
      "orientation": "horizontal",
      "style": "IPY_MODEL_2681a584987040f1b0f3b55978f66c2d",
      "value": 149
     }
    },
    "76cc83f00d89423c9b7b8a337cc37a38": {
     "model_module": "@jupyter-widgets/controls",
     "model_module_version": "1.5.0",
     "model_name": "ProgressStyleModel",
     "state": {
      "_model_module": "@jupyter-widgets/controls",
      "_model_module_version": "1.5.0",
      "_model_name": "ProgressStyleModel",
      "_view_count": null,
      "_view_module": "@jupyter-widgets/base",
      "_view_module_version": "1.2.0",
      "_view_name": "StyleView",
      "bar_color": null,
      "description_width": ""
     }
    },
    "87e18a40456f4076a38c7f8561088a3b": {
     "model_module": "@jupyter-widgets/base",
     "model_module_version": "1.2.0",
     "model_name": "LayoutModel",
     "state": {
      "_model_module": "@jupyter-widgets/base",
      "_model_module_version": "1.2.0",
      "_model_name": "LayoutModel",
      "_view_count": null,
      "_view_module": "@jupyter-widgets/base",
      "_view_module_version": "1.2.0",
      "_view_name": "LayoutView",
      "align_content": null,
      "align_items": null,
      "align_self": null,
      "border": null,
      "bottom": null,
      "display": null,
      "flex": null,
      "flex_flow": null,
      "grid_area": null,
      "grid_auto_columns": null,
      "grid_auto_flow": null,
      "grid_auto_rows": null,
      "grid_column": null,
      "grid_gap": null,
      "grid_row": null,
      "grid_template_areas": null,
      "grid_template_columns": null,
      "grid_template_rows": null,
      "height": null,
      "justify_content": null,
      "justify_items": null,
      "left": null,
      "margin": null,
      "max_height": null,
      "max_width": null,
      "min_height": null,
      "min_width": null,
      "object_fit": null,
      "object_position": null,
      "order": null,
      "overflow": null,
      "overflow_x": null,
      "overflow_y": null,
      "padding": null,
      "right": null,
      "top": null,
      "visibility": null,
      "width": null
     }
    },
    "89618c76606d4a07b9df1e1eca410bab": {
     "model_module": "@jupyter-widgets/base",
     "model_module_version": "1.2.0",
     "model_name": "LayoutModel",
     "state": {
      "_model_module": "@jupyter-widgets/base",
      "_model_module_version": "1.2.0",
      "_model_name": "LayoutModel",
      "_view_count": null,
      "_view_module": "@jupyter-widgets/base",
      "_view_module_version": "1.2.0",
      "_view_name": "LayoutView",
      "align_content": null,
      "align_items": null,
      "align_self": null,
      "border": null,
      "bottom": null,
      "display": null,
      "flex": null,
      "flex_flow": null,
      "grid_area": null,
      "grid_auto_columns": null,
      "grid_auto_flow": null,
      "grid_auto_rows": null,
      "grid_column": null,
      "grid_gap": null,
      "grid_row": null,
      "grid_template_areas": null,
      "grid_template_columns": null,
      "grid_template_rows": null,
      "height": null,
      "justify_content": null,
      "justify_items": null,
      "left": null,
      "margin": null,
      "max_height": null,
      "max_width": null,
      "min_height": null,
      "min_width": null,
      "object_fit": null,
      "object_position": null,
      "order": null,
      "overflow": null,
      "overflow_x": null,
      "overflow_y": null,
      "padding": null,
      "right": null,
      "top": null,
      "visibility": null,
      "width": null
     }
    },
    "8c1f653e12134bde83d02b56004ea1e5": {
     "model_module": "@jupyter-widgets/base",
     "model_module_version": "1.2.0",
     "model_name": "LayoutModel",
     "state": {
      "_model_module": "@jupyter-widgets/base",
      "_model_module_version": "1.2.0",
      "_model_name": "LayoutModel",
      "_view_count": null,
      "_view_module": "@jupyter-widgets/base",
      "_view_module_version": "1.2.0",
      "_view_name": "LayoutView",
      "align_content": null,
      "align_items": null,
      "align_self": null,
      "border": null,
      "bottom": null,
      "display": null,
      "flex": null,
      "flex_flow": null,
      "grid_area": null,
      "grid_auto_columns": null,
      "grid_auto_flow": null,
      "grid_auto_rows": null,
      "grid_column": null,
      "grid_gap": null,
      "grid_row": null,
      "grid_template_areas": null,
      "grid_template_columns": null,
      "grid_template_rows": null,
      "height": null,
      "justify_content": null,
      "justify_items": null,
      "left": null,
      "margin": null,
      "max_height": null,
      "max_width": null,
      "min_height": null,
      "min_width": null,
      "object_fit": null,
      "object_position": null,
      "order": null,
      "overflow": null,
      "overflow_x": null,
      "overflow_y": null,
      "padding": null,
      "right": null,
      "top": null,
      "visibility": null,
      "width": null
     }
    },
    "8c529d2484a64357bc8c95fc11868c3b": {
     "model_module": "@jupyter-widgets/controls",
     "model_module_version": "1.5.0",
     "model_name": "FloatProgressModel",
     "state": {
      "_dom_classes": [],
      "_model_module": "@jupyter-widgets/controls",
      "_model_module_version": "1.5.0",
      "_model_name": "FloatProgressModel",
      "_view_count": null,
      "_view_module": "@jupyter-widgets/controls",
      "_view_module_version": "1.5.0",
      "_view_name": "ProgressView",
      "bar_style": "info",
      "description": "",
      "description_tooltip": null,
      "layout": "IPY_MODEL_da77d320bfdf40b491c8578ff157419e",
      "max": 1,
      "min": 0,
      "orientation": "horizontal",
      "style": "IPY_MODEL_76cc83f00d89423c9b7b8a337cc37a38",
      "value": 1
     }
    },
    "98839abdccd442b1b5041ac28d562569": {
     "model_module": "@jupyter-widgets/controls",
     "model_module_version": "1.5.0",
     "model_name": "DescriptionStyleModel",
     "state": {
      "_model_module": "@jupyter-widgets/controls",
      "_model_module_version": "1.5.0",
      "_model_name": "DescriptionStyleModel",
      "_view_count": null,
      "_view_module": "@jupyter-widgets/base",
      "_view_module_version": "1.2.0",
      "_view_name": "StyleView",
      "description_width": ""
     }
    },
    "9cf01cc9d79047a78ab41c876eb8e488": {
     "model_module": "@jupyter-widgets/base",
     "model_module_version": "1.2.0",
     "model_name": "LayoutModel",
     "state": {
      "_model_module": "@jupyter-widgets/base",
      "_model_module_version": "1.2.0",
      "_model_name": "LayoutModel",
      "_view_count": null,
      "_view_module": "@jupyter-widgets/base",
      "_view_module_version": "1.2.0",
      "_view_name": "LayoutView",
      "align_content": null,
      "align_items": null,
      "align_self": null,
      "border": null,
      "bottom": null,
      "display": null,
      "flex": null,
      "flex_flow": null,
      "grid_area": null,
      "grid_auto_columns": null,
      "grid_auto_flow": null,
      "grid_auto_rows": null,
      "grid_column": null,
      "grid_gap": null,
      "grid_row": null,
      "grid_template_areas": null,
      "grid_template_columns": null,
      "grid_template_rows": null,
      "height": null,
      "justify_content": null,
      "justify_items": null,
      "left": null,
      "margin": null,
      "max_height": null,
      "max_width": null,
      "min_height": null,
      "min_width": null,
      "object_fit": null,
      "object_position": null,
      "order": null,
      "overflow": null,
      "overflow_x": null,
      "overflow_y": null,
      "padding": null,
      "right": null,
      "top": null,
      "visibility": null,
      "width": null
     }
    },
    "9f4de698c9b041968ff895c4a67477dd": {
     "model_module": "@jupyter-widgets/base",
     "model_module_version": "1.2.0",
     "model_name": "LayoutModel",
     "state": {
      "_model_module": "@jupyter-widgets/base",
      "_model_module_version": "1.2.0",
      "_model_name": "LayoutModel",
      "_view_count": null,
      "_view_module": "@jupyter-widgets/base",
      "_view_module_version": "1.2.0",
      "_view_name": "LayoutView",
      "align_content": null,
      "align_items": null,
      "align_self": null,
      "border": null,
      "bottom": null,
      "display": null,
      "flex": null,
      "flex_flow": null,
      "grid_area": null,
      "grid_auto_columns": null,
      "grid_auto_flow": null,
      "grid_auto_rows": null,
      "grid_column": null,
      "grid_gap": null,
      "grid_row": null,
      "grid_template_areas": null,
      "grid_template_columns": null,
      "grid_template_rows": null,
      "height": null,
      "justify_content": null,
      "justify_items": null,
      "left": null,
      "margin": null,
      "max_height": null,
      "max_width": null,
      "min_height": null,
      "min_width": null,
      "object_fit": null,
      "object_position": null,
      "order": null,
      "overflow": null,
      "overflow_x": null,
      "overflow_y": null,
      "padding": null,
      "right": null,
      "top": null,
      "visibility": null,
      "width": null
     }
    },
    "a2caa632b1074e62a774b81cff555192": {
     "model_module": "@jupyter-widgets/controls",
     "model_module_version": "1.5.0",
     "model_name": "DescriptionStyleModel",
     "state": {
      "_model_module": "@jupyter-widgets/controls",
      "_model_module_version": "1.5.0",
      "_model_name": "DescriptionStyleModel",
      "_view_count": null,
      "_view_module": "@jupyter-widgets/base",
      "_view_module_version": "1.2.0",
      "_view_name": "StyleView",
      "description_width": ""
     }
    },
    "a5c2d192975645f18f9e97d5bc932a76": {
     "model_module": "@jupyter-widgets/controls",
     "model_module_version": "1.5.0",
     "model_name": "DescriptionStyleModel",
     "state": {
      "_model_module": "@jupyter-widgets/controls",
      "_model_module_version": "1.5.0",
      "_model_name": "DescriptionStyleModel",
      "_view_count": null,
      "_view_module": "@jupyter-widgets/base",
      "_view_module_version": "1.2.0",
      "_view_name": "StyleView",
      "description_width": ""
     }
    },
    "a68dad423ed74fcba065545314d108c8": {
     "model_module": "@jupyter-widgets/controls",
     "model_module_version": "1.5.0",
     "model_name": "DescriptionStyleModel",
     "state": {
      "_model_module": "@jupyter-widgets/controls",
      "_model_module_version": "1.5.0",
      "_model_name": "DescriptionStyleModel",
      "_view_count": null,
      "_view_module": "@jupyter-widgets/base",
      "_view_module_version": "1.2.0",
      "_view_name": "StyleView",
      "description_width": ""
     }
    },
    "abb8cf1849ad4958a3066f646c389d52": {
     "model_module": "@jupyter-widgets/base",
     "model_module_version": "1.2.0",
     "model_name": "LayoutModel",
     "state": {
      "_model_module": "@jupyter-widgets/base",
      "_model_module_version": "1.2.0",
      "_model_name": "LayoutModel",
      "_view_count": null,
      "_view_module": "@jupyter-widgets/base",
      "_view_module_version": "1.2.0",
      "_view_name": "LayoutView",
      "align_content": null,
      "align_items": null,
      "align_self": null,
      "border": null,
      "bottom": null,
      "display": null,
      "flex": null,
      "flex_flow": null,
      "grid_area": null,
      "grid_auto_columns": null,
      "grid_auto_flow": null,
      "grid_auto_rows": null,
      "grid_column": null,
      "grid_gap": null,
      "grid_row": null,
      "grid_template_areas": null,
      "grid_template_columns": null,
      "grid_template_rows": null,
      "height": null,
      "justify_content": null,
      "justify_items": null,
      "left": null,
      "margin": null,
      "max_height": null,
      "max_width": null,
      "min_height": null,
      "min_width": null,
      "object_fit": null,
      "object_position": null,
      "order": null,
      "overflow": null,
      "overflow_x": null,
      "overflow_y": null,
      "padding": null,
      "right": null,
      "top": null,
      "visibility": null,
      "width": null
     }
    },
    "b3cb130c19194c23a8bde07f00996ab8": {
     "model_module": "@jupyter-widgets/base",
     "model_module_version": "1.2.0",
     "model_name": "LayoutModel",
     "state": {
      "_model_module": "@jupyter-widgets/base",
      "_model_module_version": "1.2.0",
      "_model_name": "LayoutModel",
      "_view_count": null,
      "_view_module": "@jupyter-widgets/base",
      "_view_module_version": "1.2.0",
      "_view_name": "LayoutView",
      "align_content": null,
      "align_items": null,
      "align_self": null,
      "border": null,
      "bottom": null,
      "display": null,
      "flex": null,
      "flex_flow": null,
      "grid_area": null,
      "grid_auto_columns": null,
      "grid_auto_flow": null,
      "grid_auto_rows": null,
      "grid_column": null,
      "grid_gap": null,
      "grid_row": null,
      "grid_template_areas": null,
      "grid_template_columns": null,
      "grid_template_rows": null,
      "height": null,
      "justify_content": null,
      "justify_items": null,
      "left": null,
      "margin": null,
      "max_height": null,
      "max_width": null,
      "min_height": null,
      "min_width": null,
      "object_fit": null,
      "object_position": null,
      "order": null,
      "overflow": null,
      "overflow_x": null,
      "overflow_y": null,
      "padding": null,
      "right": null,
      "top": null,
      "visibility": null,
      "width": null
     }
    },
    "bb8550e218ee45339ea89baf9f0bb0b8": {
     "model_module": "@jupyter-widgets/controls",
     "model_module_version": "1.5.0",
     "model_name": "HTMLModel",
     "state": {
      "_dom_classes": [],
      "_model_module": "@jupyter-widgets/controls",
      "_model_module_version": "1.5.0",
      "_model_name": "HTMLModel",
      "_view_count": null,
      "_view_module": "@jupyter-widgets/controls",
      "_view_module_version": "1.5.0",
      "_view_name": "HTMLView",
      "description": "",
      "description_tooltip": null,
      "layout": "IPY_MODEL_c7b4e53a92484950b5e8695b09ea5868",
      "placeholder": "​",
      "style": "IPY_MODEL_c09167760f604afbaa0f845859d432dc",
      "value": " 0/0 [00:00&lt;?, ? MiB/s]"
     }
    },
    "bfa0ccee5ea74b3ead8d250e47dbb029": {
     "model_module": "@jupyter-widgets/base",
     "model_module_version": "1.2.0",
     "model_name": "LayoutModel",
     "state": {
      "_model_module": "@jupyter-widgets/base",
      "_model_module_version": "1.2.0",
      "_model_name": "LayoutModel",
      "_view_count": null,
      "_view_module": "@jupyter-widgets/base",
      "_view_module_version": "1.2.0",
      "_view_name": "LayoutView",
      "align_content": null,
      "align_items": null,
      "align_self": null,
      "border": null,
      "bottom": null,
      "display": null,
      "flex": null,
      "flex_flow": null,
      "grid_area": null,
      "grid_auto_columns": null,
      "grid_auto_flow": null,
      "grid_auto_rows": null,
      "grid_column": null,
      "grid_gap": null,
      "grid_row": null,
      "grid_template_areas": null,
      "grid_template_columns": null,
      "grid_template_rows": null,
      "height": null,
      "justify_content": null,
      "justify_items": null,
      "left": null,
      "margin": null,
      "max_height": null,
      "max_width": null,
      "min_height": null,
      "min_width": null,
      "object_fit": null,
      "object_position": null,
      "order": null,
      "overflow": null,
      "overflow_x": null,
      "overflow_y": null,
      "padding": null,
      "right": null,
      "top": null,
      "visibility": null,
      "width": null
     }
    },
    "c09167760f604afbaa0f845859d432dc": {
     "model_module": "@jupyter-widgets/controls",
     "model_module_version": "1.5.0",
     "model_name": "DescriptionStyleModel",
     "state": {
      "_model_module": "@jupyter-widgets/controls",
      "_model_module_version": "1.5.0",
      "_model_name": "DescriptionStyleModel",
      "_view_count": null,
      "_view_module": "@jupyter-widgets/base",
      "_view_module_version": "1.2.0",
      "_view_name": "StyleView",
      "description_width": ""
     }
    },
    "c0b95141a43543a687d417e9f2e95668": {
     "model_module": "@jupyter-widgets/controls",
     "model_module_version": "1.5.0",
     "model_name": "ProgressStyleModel",
     "state": {
      "_model_module": "@jupyter-widgets/controls",
      "_model_module_version": "1.5.0",
      "_model_name": "ProgressStyleModel",
      "_view_count": null,
      "_view_module": "@jupyter-widgets/base",
      "_view_module_version": "1.2.0",
      "_view_name": "StyleView",
      "bar_color": null,
      "description_width": ""
     }
    },
    "c575c2180c7946b3b1dd35678b8ff8f2": {
     "model_module": "@jupyter-widgets/controls",
     "model_module_version": "1.5.0",
     "model_name": "FloatProgressModel",
     "state": {
      "_dom_classes": [],
      "_model_module": "@jupyter-widgets/controls",
      "_model_module_version": "1.5.0",
      "_model_name": "FloatProgressModel",
      "_view_count": null,
      "_view_module": "@jupyter-widgets/controls",
      "_view_module_version": "1.5.0",
      "_view_name": "ProgressView",
      "bar_style": "success",
      "description": "",
      "description_tooltip": null,
      "layout": "IPY_MODEL_465efd870fbf4f85bfcf56681504bf06",
      "max": 1,
      "min": 0,
      "orientation": "horizontal",
      "style": "IPY_MODEL_40624de7350643ed984f0461e2e05e10",
      "value": 1
     }
    },
    "c7b4e53a92484950b5e8695b09ea5868": {
     "model_module": "@jupyter-widgets/base",
     "model_module_version": "1.2.0",
     "model_name": "LayoutModel",
     "state": {
      "_model_module": "@jupyter-widgets/base",
      "_model_module_version": "1.2.0",
      "_model_name": "LayoutModel",
      "_view_count": null,
      "_view_module": "@jupyter-widgets/base",
      "_view_module_version": "1.2.0",
      "_view_name": "LayoutView",
      "align_content": null,
      "align_items": null,
      "align_self": null,
      "border": null,
      "bottom": null,
      "display": null,
      "flex": null,
      "flex_flow": null,
      "grid_area": null,
      "grid_auto_columns": null,
      "grid_auto_flow": null,
      "grid_auto_rows": null,
      "grid_column": null,
      "grid_gap": null,
      "grid_row": null,
      "grid_template_areas": null,
      "grid_template_columns": null,
      "grid_template_rows": null,
      "height": null,
      "justify_content": null,
      "justify_items": null,
      "left": null,
      "margin": null,
      "max_height": null,
      "max_width": null,
      "min_height": null,
      "min_width": null,
      "object_fit": null,
      "object_position": null,
      "order": null,
      "overflow": null,
      "overflow_x": null,
      "overflow_y": null,
      "padding": null,
      "right": null,
      "top": null,
      "visibility": null,
      "width": null
     }
    },
    "ccf9678ca8d14c1282b77913f7c9aa5d": {
     "model_module": "@jupyter-widgets/controls",
     "model_module_version": "1.5.0",
     "model_name": "HTMLModel",
     "state": {
      "_dom_classes": [],
      "_model_module": "@jupyter-widgets/controls",
      "_model_module_version": "1.5.0",
      "_model_name": "HTMLModel",
      "_view_count": null,
      "_view_module": "@jupyter-widgets/controls",
      "_view_module_version": "1.5.0",
      "_view_name": "HTMLView",
      "description": "",
      "description_tooltip": null,
      "layout": "IPY_MODEL_b3cb130c19194c23a8bde07f00996ab8",
      "placeholder": "​",
      "style": "IPY_MODEL_a5c2d192975645f18f9e97d5bc932a76",
      "value": " 1/1 [00:00&lt;00:00,  2.28 url/s]"
     }
    },
    "d35ce86ad5854b159e9a01678073d5bf": {
     "model_module": "@jupyter-widgets/base",
     "model_module_version": "1.2.0",
     "model_name": "LayoutModel",
     "state": {
      "_model_module": "@jupyter-widgets/base",
      "_model_module_version": "1.2.0",
      "_model_name": "LayoutModel",
      "_view_count": null,
      "_view_module": "@jupyter-widgets/base",
      "_view_module_version": "1.2.0",
      "_view_name": "LayoutView",
      "align_content": null,
      "align_items": null,
      "align_self": null,
      "border": null,
      "bottom": null,
      "display": null,
      "flex": null,
      "flex_flow": null,
      "grid_area": null,
      "grid_auto_columns": null,
      "grid_auto_flow": null,
      "grid_auto_rows": null,
      "grid_column": null,
      "grid_gap": null,
      "grid_row": null,
      "grid_template_areas": null,
      "grid_template_columns": null,
      "grid_template_rows": null,
      "height": null,
      "justify_content": null,
      "justify_items": null,
      "left": null,
      "margin": null,
      "max_height": null,
      "max_width": null,
      "min_height": null,
      "min_width": null,
      "object_fit": null,
      "object_position": null,
      "order": null,
      "overflow": null,
      "overflow_x": null,
      "overflow_y": null,
      "padding": null,
      "right": null,
      "top": null,
      "visibility": null,
      "width": null
     }
    },
    "da77d320bfdf40b491c8578ff157419e": {
     "model_module": "@jupyter-widgets/base",
     "model_module_version": "1.2.0",
     "model_name": "LayoutModel",
     "state": {
      "_model_module": "@jupyter-widgets/base",
      "_model_module_version": "1.2.0",
      "_model_name": "LayoutModel",
      "_view_count": null,
      "_view_module": "@jupyter-widgets/base",
      "_view_module_version": "1.2.0",
      "_view_name": "LayoutView",
      "align_content": null,
      "align_items": null,
      "align_self": null,
      "border": null,
      "bottom": null,
      "display": null,
      "flex": null,
      "flex_flow": null,
      "grid_area": null,
      "grid_auto_columns": null,
      "grid_auto_flow": null,
      "grid_auto_rows": null,
      "grid_column": null,
      "grid_gap": null,
      "grid_row": null,
      "grid_template_areas": null,
      "grid_template_columns": null,
      "grid_template_rows": null,
      "height": null,
      "justify_content": null,
      "justify_items": null,
      "left": null,
      "margin": null,
      "max_height": null,
      "max_width": null,
      "min_height": null,
      "min_width": null,
      "object_fit": null,
      "object_position": null,
      "order": null,
      "overflow": null,
      "overflow_x": null,
      "overflow_y": null,
      "padding": null,
      "right": null,
      "top": null,
      "visibility": null,
      "width": "20px"
     }
    },
    "ef9c51ebd87d41fb802940c73303d8ed": {
     "model_module": "@jupyter-widgets/controls",
     "model_module_version": "1.5.0",
     "model_name": "HTMLModel",
     "state": {
      "_dom_classes": [],
      "_model_module": "@jupyter-widgets/controls",
      "_model_module_version": "1.5.0",
      "_model_name": "HTMLModel",
      "_view_count": null,
      "_view_module": "@jupyter-widgets/controls",
      "_view_module_version": "1.5.0",
      "_view_name": "HTMLView",
      "description": "",
      "description_tooltip": null,
      "layout": "IPY_MODEL_abb8cf1849ad4958a3066f646c389d52",
      "placeholder": "​",
      "style": "IPY_MODEL_12954e5013114f42a340689cc1f766e4",
      "value": " 0/0 [00:00&lt;?, ? examples/s]"
     }
    },
    "efdf8695d8e14017a7b60d7bd2f17cc4": {
     "model_module": "@jupyter-widgets/controls",
     "model_module_version": "1.5.0",
     "model_name": "HBoxModel",
     "state": {
      "_dom_classes": [],
      "_model_module": "@jupyter-widgets/controls",
      "_model_module_version": "1.5.0",
      "_model_name": "HBoxModel",
      "_view_count": null,
      "_view_module": "@jupyter-widgets/controls",
      "_view_module_version": "1.5.0",
      "_view_name": "HBoxView",
      "box_style": "",
      "children": [
       "IPY_MODEL_fdef2b3102d243978249cf39c6e44f44",
       "IPY_MODEL_f0b23131f4f44f8caf4a955d2b260577",
       "IPY_MODEL_bb8550e218ee45339ea89baf9f0bb0b8"
      ],
      "layout": "IPY_MODEL_89618c76606d4a07b9df1e1eca410bab"
     }
    },
    "f0b23131f4f44f8caf4a955d2b260577": {
     "model_module": "@jupyter-widgets/controls",
     "model_module_version": "1.5.0",
     "model_name": "FloatProgressModel",
     "state": {
      "_dom_classes": [],
      "_model_module": "@jupyter-widgets/controls",
      "_model_module_version": "1.5.0",
      "_model_name": "FloatProgressModel",
      "_view_count": null,
      "_view_module": "@jupyter-widgets/controls",
      "_view_module_version": "1.5.0",
      "_view_name": "ProgressView",
      "bar_style": "success",
      "description": "",
      "description_tooltip": null,
      "layout": "IPY_MODEL_1f50ab00383a4027af426adfc916290a",
      "max": 1,
      "min": 0,
      "orientation": "horizontal",
      "style": "IPY_MODEL_c0b95141a43543a687d417e9f2e95668",
      "value": 0
     }
    },
    "f36605bf061d47fbb4377d80e2375832": {
     "model_module": "@jupyter-widgets/controls",
     "model_module_version": "1.5.0",
     "model_name": "HBoxModel",
     "state": {
      "_dom_classes": [],
      "_model_module": "@jupyter-widgets/controls",
      "_model_module_version": "1.5.0",
      "_model_name": "HBoxModel",
      "_view_count": null,
      "_view_module": "@jupyter-widgets/controls",
      "_view_module_version": "1.5.0",
      "_view_name": "HBoxView",
      "box_style": "",
      "children": [
       "IPY_MODEL_5ead3a68629544618b2a289be7f496ef",
       "IPY_MODEL_c575c2180c7946b3b1dd35678b8ff8f2",
       "IPY_MODEL_ccf9678ca8d14c1282b77913f7c9aa5d"
      ],
      "layout": "IPY_MODEL_9cf01cc9d79047a78ab41c876eb8e488"
     }
    },
    "f38fa6e3025c451e9b564d68ad2c49ab": {
     "model_module": "@jupyter-widgets/controls",
     "model_module_version": "1.5.0",
     "model_name": "HBoxModel",
     "state": {
      "_dom_classes": [],
      "_model_module": "@jupyter-widgets/controls",
      "_model_module_version": "1.5.0",
      "_model_name": "HBoxModel",
      "_view_count": null,
      "_view_module": "@jupyter-widgets/controls",
      "_view_module_version": "1.5.0",
      "_view_name": "HBoxView",
      "box_style": "",
      "children": [
       "IPY_MODEL_0992e9ee67c5404fba4809d83e60dc30",
       "IPY_MODEL_8c529d2484a64357bc8c95fc11868c3b",
       "IPY_MODEL_ef9c51ebd87d41fb802940c73303d8ed"
      ],
      "layout": "IPY_MODEL_d35ce86ad5854b159e9a01678073d5bf"
     }
    },
    "fdef2b3102d243978249cf39c6e44f44": {
     "model_module": "@jupyter-widgets/controls",
     "model_module_version": "1.5.0",
     "model_name": "HTMLModel",
     "state": {
      "_dom_classes": [],
      "_model_module": "@jupyter-widgets/controls",
      "_model_module_version": "1.5.0",
      "_model_name": "HTMLModel",
      "_view_count": null,
      "_view_module": "@jupyter-widgets/controls",
      "_view_module_version": "1.5.0",
      "_view_name": "HTMLView",
      "description": "",
      "description_tooltip": null,
      "layout": "IPY_MODEL_614d6c39924a4fa09bc7bc627994fe8a",
      "placeholder": "​",
      "style": "IPY_MODEL_98839abdccd442b1b5041ac28d562569",
      "value": "Dl Size...: "
     }
    }
   }
  }
 },
 "nbformat": 4,
 "nbformat_minor": 5
}
