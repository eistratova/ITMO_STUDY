{
 "cells": [
  {
   "cell_type": "markdown",
   "id": "90564f23",
   "metadata": {},
   "source": [
    "# Простой пример бинарной классификации"
   ]
  },
  {
   "cell_type": "code",
   "execution_count": 2,
   "id": "1f4d3bff",
   "metadata": {},
   "outputs": [
    {
     "name": "stderr",
     "output_type": "stream",
     "text": [
      "2022-11-21 18:51:43.175626: I tensorflow/core/platform/cpu_feature_guard.cc:193] This TensorFlow binary is optimized with oneAPI Deep Neural Network Library (oneDNN) to use the following CPU instructions in performance-critical operations:  AVX2 FMA\n",
      "To enable them in other operations, rebuild TensorFlow with the appropriate compiler flags.\n",
      "2022-11-21 18:51:43.313612: E tensorflow/stream_executor/cuda/cuda_blas.cc:2981] Unable to register cuBLAS factory: Attempting to register factory for plugin cuBLAS when one has already been registered\n",
      "2022-11-21 18:51:43.761024: W tensorflow/stream_executor/platform/default/dso_loader.cc:64] Could not load dynamic library 'libnvinfer.so.7'; dlerror: libnvinfer.so.7: cannot open shared object file: No such file or directory; LD_LIBRARY_PATH: :/home/a.samarin/workspace/anaconda3/envs/top-env/lib/:/home/a.samarin/workspace/anaconda3/envs/top-env/lib/\n",
      "2022-11-21 18:51:43.761093: W tensorflow/stream_executor/platform/default/dso_loader.cc:64] Could not load dynamic library 'libnvinfer_plugin.so.7'; dlerror: libnvinfer_plugin.so.7: cannot open shared object file: No such file or directory; LD_LIBRARY_PATH: :/home/a.samarin/workspace/anaconda3/envs/top-env/lib/:/home/a.samarin/workspace/anaconda3/envs/top-env/lib/\n",
      "2022-11-21 18:51:43.761100: W tensorflow/compiler/tf2tensorrt/utils/py_utils.cc:38] TF-TRT Warning: Cannot dlopen some TensorRT libraries. If you would like to use Nvidia GPU with TensorRT, please make sure the missing libraries mentioned above are installed properly.\n"
     ]
    },
    {
     "name": "stdout",
     "output_type": "stream",
     "text": [
      "2.10.0\n",
      "Num GPUs Available:  1\n"
     ]
    },
    {
     "name": "stderr",
     "output_type": "stream",
     "text": [
      "2022-11-21 18:51:45.098446: I tensorflow/stream_executor/cuda/cuda_gpu_executor.cc:980] successful NUMA node read from SysFS had negative value (-1), but there must be at least one NUMA node, so returning NUMA node zero\n",
      "2022-11-21 18:51:45.105073: I tensorflow/stream_executor/cuda/cuda_gpu_executor.cc:980] successful NUMA node read from SysFS had negative value (-1), but there must be at least one NUMA node, so returning NUMA node zero\n",
      "2022-11-21 18:51:45.106479: I tensorflow/stream_executor/cuda/cuda_gpu_executor.cc:980] successful NUMA node read from SysFS had negative value (-1), but there must be at least one NUMA node, so returning NUMA node zero\n"
     ]
    }
   ],
   "source": [
    "#подключаем библиотеки\n",
    "import numpy as np\n",
    "import tensorflow as tf\n",
    "from tensorflow import keras\n",
    "from tensorflow.keras import layers\n",
    "from tensorflow.keras.layers import CenterCrop\n",
    "from tensorflow.keras.layers import Rescaling\n",
    "from tensorflow.keras.preprocessing.image import ImageDataGenerator\n",
    "\n",
    "import matplotlib.pyplot as plt\n",
    "\n",
    "#выводим версию библиотеки tensorflow и количество доступных видеокарт\n",
    "print(tf.__version__)\n",
    "print(\"Num GPUs Available: \", len(tf.config.list_physical_devices('GPU')))"
   ]
  },
  {
   "cell_type": "code",
   "execution_count": 8,
   "id": "131e1811",
   "metadata": {},
   "outputs": [],
   "source": [
    "#простейшая структура датасета для задачи классификации\n",
    "#  main_directory/\n",
    "#  ...class_a/\n",
    "#  ......a_image_1.jpg\n",
    "#  ......a_image_2.jpg\n",
    "#  ...class_b/\n",
    "#  ......b_image_1.jpg\n",
    "#  ......b_image_2.jpg"
   ]
  },
  {
   "cell_type": "code",
   "execution_count": null,
   "id": "c4aa779d",
   "metadata": {},
   "outputs": [],
   "source": [
    "# загрузим датасет\n",
    "#!curl -O https://download.microsoft.com/download/3/E/1/3E1C3F21-ECDB-4869-8368-6DEBA77B919F/kagglecatsanddogs_5340.zip"
   ]
  },
  {
   "cell_type": "code",
   "execution_count": null,
   "id": "0c671056",
   "metadata": {},
   "outputs": [],
   "source": [
    "#!unzip -q kagglecatsanddogs_5340.zip\n",
    "#!ls\n",
    "#!ls PetImages"
   ]
  },
  {
   "cell_type": "code",
   "execution_count": null,
   "id": "b51baca6",
   "metadata": {},
   "outputs": [],
   "source": [
    "# уберем поврежденные файлы\n",
    "import os\n",
    "\n",
    "num_skipped = 0\n",
    "for folder_name in (\"Cat\", \"Dog\"):\n",
    "    folder_path = os.path.join(\"PetImages\", folder_name)\n",
    "    for fname in os.listdir(folder_path):\n",
    "        fpath = os.path.join(folder_path, fname)\n",
    "        try:\n",
    "            fobj = open(fpath, \"rb\")\n",
    "            is_jfif = tf.compat.as_bytes(\"JFIF\") in fobj.peek(10)\n",
    "        finally:\n",
    "            fobj.close()\n",
    "\n",
    "        if not is_jfif:\n",
    "            num_skipped += 1\n",
    "            # Delete corrupted image\n",
    "            os.remove(fpath)\n",
    "\n",
    "print(\"Deleted %d images\" % num_skipped)"
   ]
  },
  {
   "cell_type": "code",
   "execution_count": null,
   "id": "1ed793ea",
   "metadata": {},
   "outputs": [],
   "source": []
  },
  {
   "cell_type": "code",
   "execution_count": 3,
   "id": "5b3e1b63",
   "metadata": {},
   "outputs": [
    {
     "name": "stdout",
     "output_type": "stream",
     "text": [
      "Model: \"model_1\"\n",
      "_________________________________________________________________\n",
      " Layer (type)                Output Shape              Param #   \n",
      "=================================================================\n",
      " input_2 (InputLayer)        [(None, None, None, 3)]   0         \n",
      "                                                                 \n",
      " center_crop_1 (CenterCrop)  (None, 150, 150, 3)       0         \n",
      "                                                                 \n",
      " conv2d_3 (Conv2D)           (None, 148, 148, 32)      896       \n",
      "                                                                 \n",
      " max_pooling2d_2 (MaxPooling  (None, 49, 49, 32)       0         \n",
      " 2D)                                                             \n",
      "                                                                 \n",
      " conv2d_4 (Conv2D)           (None, 47, 47, 32)        9248      \n",
      "                                                                 \n",
      " max_pooling2d_3 (MaxPooling  (None, 15, 15, 32)       0         \n",
      " 2D)                                                             \n",
      "                                                                 \n",
      " conv2d_5 (Conv2D)           (None, 13, 13, 32)        9248      \n",
      "                                                                 \n",
      " global_average_pooling2d_1   (None, 32)               0         \n",
      " (GlobalAveragePooling2D)                                        \n",
      "                                                                 \n",
      " dense_1 (Dense)             (None, 2)                 66        \n",
      "                                                                 \n",
      "=================================================================\n",
      "Total params: 19,458\n",
      "Trainable params: 19,458\n",
      "Non-trainable params: 0\n",
      "_________________________________________________________________\n"
     ]
    }
   ],
   "source": [
    "#создаем модель\n",
    "\n",
    "num_classes = 2\n",
    "\n",
    "inputs = keras.Input(shape=(None, None, 3))\n",
    "x = CenterCrop(height=150, width=150)(inputs)\n",
    "x = layers.Conv2D(filters=32, kernel_size=(3, 3), activation=\"relu\")(x)\n",
    "x = layers.MaxPooling2D(pool_size=(3, 3))(x)\n",
    "x = layers.Conv2D(filters=32, kernel_size=(3, 3), activation=\"relu\")(x)\n",
    "x = layers.MaxPooling2D(pool_size=(3, 3))(x)\n",
    "x = layers.Conv2D(filters=32, kernel_size=(3, 3), activation=\"relu\")(x)\n",
    "x = layers.GlobalAveragePooling2D()(x)\n",
    "outputs = layers.Dense(num_classes, activation=\"softmax\")(x)\n",
    "\n",
    "model = keras.Model(inputs=inputs, outputs=outputs)\n",
    "\n",
    "#data = np.random.randint(0, 256, size=(64, 200, 200, 3)).astype(\"float32\")\n",
    "\n",
    "#processed_data = model(data)\n",
    "\n",
    "model.summary()"
   ]
  },
  {
   "cell_type": "code",
   "execution_count": 11,
   "id": "beab7540",
   "metadata": {},
   "outputs": [
    {
     "name": "stdout",
     "output_type": "stream",
     "text": [
      "Found 600 images belonging to 2 classes.\n",
      "Found 600 images belonging to 2 classes.\n",
      "Epoch 1/20\n"
     ]
    },
    {
     "name": "stderr",
     "output_type": "stream",
     "text": [
      "2022-11-21 03:37:59.676163: I tensorflow/stream_executor/cuda/cuda_dnn.cc:384] Loaded cuDNN version 8100\n",
      "2022-11-21 03:38:00.178981: W tensorflow/stream_executor/gpu/asm_compiler.cc:111] *** WARNING *** You are using ptxas 9.2.148, which is older than 11.1. ptxas before 11.1 is known to miscompile XLA code, leading to incorrect results or invalid-address errors.\n",
      "\n",
      "You may not need to update to CUDA 11.1; cherry-picking the ptxas binary is often sufficient.\n",
      "2022-11-21 03:38:00.180601: W tensorflow/stream_executor/gpu/asm_compiler.cc:230] Falling back to the CUDA driver for PTX compilation; ptxas does not support CC 8.0\n",
      "2022-11-21 03:38:00.180616: W tensorflow/stream_executor/gpu/asm_compiler.cc:233] Used ptxas at ptxas\n",
      "2022-11-21 03:38:00.180677: W tensorflow/stream_executor/gpu/redzone_allocator.cc:314] UNIMPLEMENTED: ptxas ptxas too old. Falling back to the driver to compile.\n",
      "Relying on driver to perform ptx compilation. \n",
      "Modify $PATH to customize ptxas location.\n",
      "This message will be only logged once.\n"
     ]
    },
    {
     "name": "stdout",
     "output_type": "stream",
     "text": [
      "1/6 [====>.........................] - ETA: 26s - loss: 0.8992 - acc: 0.5400"
     ]
    },
    {
     "name": "stderr",
     "output_type": "stream",
     "text": [
      "2022-11-21 03:38:03.715055: I tensorflow/stream_executor/cuda/cuda_blas.cc:1614] TensorFloat-32 will be used for the matrix multiplication. This will only be logged once.\n"
     ]
    },
    {
     "name": "stdout",
     "output_type": "stream",
     "text": [
      "6/6 [==============================] - 9s 703ms/step - loss: 2.2469 - acc: 0.5100 - val_loss: 0.6279 - val_acc: 0.6900\n",
      "Epoch 2/20\n",
      "6/6 [==============================] - 3s 601ms/step - loss: 0.4796 - acc: 0.7667 - val_loss: 0.2718 - val_acc: 0.8900\n",
      "Epoch 3/20\n",
      "6/6 [==============================] - 3s 598ms/step - loss: 0.3370 - acc: 0.8600 - val_loss: 0.2663 - val_acc: 0.8733\n",
      "Epoch 4/20\n",
      "6/6 [==============================] - 3s 600ms/step - loss: 0.4570 - acc: 0.7967 - val_loss: 0.8358 - val_acc: 0.6533\n",
      "Epoch 5/20\n",
      "6/6 [==============================] - 3s 600ms/step - loss: 0.3547 - acc: 0.8367 - val_loss: 0.1738 - val_acc: 0.9317\n",
      "Epoch 6/20\n",
      "6/6 [==============================] - 3s 600ms/step - loss: 0.3856 - acc: 0.8267 - val_loss: 0.1798 - val_acc: 0.9200\n",
      "Epoch 7/20\n",
      "6/6 [==============================] - 3s 595ms/step - loss: 0.1762 - acc: 0.9317 - val_loss: 0.1236 - val_acc: 0.9583\n",
      "Epoch 8/20\n",
      "6/6 [==============================] - 3s 599ms/step - loss: 0.1755 - acc: 0.9217 - val_loss: 0.1624 - val_acc: 0.9283\n",
      "Epoch 9/20\n",
      "6/6 [==============================] - 3s 594ms/step - loss: 0.2324 - acc: 0.8967 - val_loss: 0.6150 - val_acc: 0.7133\n",
      "Epoch 10/20\n",
      "6/6 [==============================] - 3s 597ms/step - loss: 0.2206 - acc: 0.9100 - val_loss: 0.1093 - val_acc: 0.9600\n",
      "Epoch 11/20\n",
      "6/6 [==============================] - 3s 583ms/step - loss: 0.0971 - acc: 0.9650 - val_loss: 0.1068 - val_acc: 0.9567\n",
      "Epoch 12/20\n",
      "6/6 [==============================] - 3s 595ms/step - loss: 0.3994 - acc: 0.8350 - val_loss: 0.0573 - val_acc: 0.9933\n",
      "Epoch 13/20\n",
      "6/6 [==============================] - 3s 586ms/step - loss: 0.0667 - acc: 0.9867 - val_loss: 0.0480 - val_acc: 0.9967\n",
      "Epoch 14/20\n",
      "6/6 [==============================] - 3s 594ms/step - loss: 0.0568 - acc: 0.9850 - val_loss: 0.0561 - val_acc: 0.9950\n",
      "Epoch 15/20\n",
      "6/6 [==============================] - 3s 604ms/step - loss: 0.0943 - acc: 0.9700 - val_loss: 0.0889 - val_acc: 0.9800\n",
      "Epoch 16/20\n",
      "6/6 [==============================] - 3s 604ms/step - loss: 0.2515 - acc: 0.8867 - val_loss: 0.2971 - val_acc: 0.8417\n",
      "Epoch 17/20\n",
      "6/6 [==============================] - 3s 584ms/step - loss: 0.0775 - acc: 0.9750 - val_loss: 0.0265 - val_acc: 1.0000\n",
      "Epoch 18/20\n",
      "6/6 [==============================] - 3s 610ms/step - loss: 0.0322 - acc: 0.9967 - val_loss: 0.0214 - val_acc: 1.0000\n",
      "Epoch 19/20\n",
      "6/6 [==============================] - 3s 605ms/step - loss: 0.0263 - acc: 0.9983 - val_loss: 0.0170 - val_acc: 1.0000\n",
      "Epoch 20/20\n",
      "6/6 [==============================] - 3s 612ms/step - loss: 0.0203 - acc: 1.0000 - val_loss: 0.0139 - val_acc: 1.0000\n"
     ]
    }
   ],
   "source": [
    "#создаем окружение для работы с датасетами\n",
    "image_size = 180\n",
    "train_dir, validation_dir =  \"PetImages\",\"PetImages\"\n",
    "train_datagen = ImageDataGenerator(rescale=1./255)\n",
    "validation_datagen = ImageDataGenerator(rescale=1./255)\n",
    " \n",
    "#устанавливаем размер пакетов \n",
    "train_batchsize = 100\n",
    "val_batchsize = 10\n",
    " \n",
    "#создаем генератор данных для обучения\n",
    "train_generator = train_datagen.flow_from_directory(\n",
    "        train_dir,\n",
    "        target_size=(image_size, image_size),\n",
    "        batch_size=train_batchsize,\n",
    "        class_mode='categorical')\n",
    " \n",
    "#создаем генератор данных для валидации\n",
    "validation_generator = validation_datagen.flow_from_directory(\n",
    "        validation_dir,\n",
    "        target_size=(image_size, image_size),\n",
    "        batch_size=val_batchsize,\n",
    "        class_mode='categorical',\n",
    "        shuffle=False)\n",
    "\n",
    "#устанавливаем параметры для оптимизации\n",
    "model.compile(loss='categorical_crossentropy',\n",
    "              optimizer=keras.optimizers.RMSprop(lr=1e-4),\n",
    "              metrics=['acc'])\n",
    "\n",
    "#настраиваем сохранение весов\n",
    "callbacks = [\n",
    "    keras.callbacks.ModelCheckpoint(\n",
    "        filepath='saved_weights/model_{epoch}.h5',\n",
    "        save_freq='epoch')\n",
    "]  \n",
    "\n",
    "#запускаем процесс тренировки модели\n",
    "history = model.fit(\n",
    "      train_generator,\n",
    "      steps_per_epoch=\n",
    "         train_generator.samples/train_generator.batch_size,\n",
    "      epochs=20,\n",
    "      validation_data=validation_generator, \n",
    "      validation_steps=\n",
    "         validation_generator.samples/validation_generator.batch_size,\n",
    "      verbose=1,\n",
    "      callbacks=callbacks)"
   ]
  },
  {
   "cell_type": "markdown",
   "id": "ebd165d1",
   "metadata": {},
   "source": [
    "### не особо получилось... Это нормально. Воспользуемся стандартной тактикой - возьмем модель помощнее с претрейном imagenet"
   ]
  },
  {
   "cell_type": "code",
   "execution_count": 3,
   "id": "027ca57c",
   "metadata": {},
   "outputs": [
    {
     "name": "stderr",
     "output_type": "stream",
     "text": [
      "2022-11-21 18:52:09.583262: I tensorflow/core/platform/cpu_feature_guard.cc:193] This TensorFlow binary is optimized with oneAPI Deep Neural Network Library (oneDNN) to use the following CPU instructions in performance-critical operations:  AVX2 FMA\n",
      "To enable them in other operations, rebuild TensorFlow with the appropriate compiler flags.\n",
      "2022-11-21 18:52:09.591428: I tensorflow/stream_executor/cuda/cuda_gpu_executor.cc:980] successful NUMA node read from SysFS had negative value (-1), but there must be at least one NUMA node, so returning NUMA node zero\n",
      "2022-11-21 18:52:09.592908: I tensorflow/stream_executor/cuda/cuda_gpu_executor.cc:980] successful NUMA node read from SysFS had negative value (-1), but there must be at least one NUMA node, so returning NUMA node zero\n",
      "2022-11-21 18:52:09.594144: I tensorflow/stream_executor/cuda/cuda_gpu_executor.cc:980] successful NUMA node read from SysFS had negative value (-1), but there must be at least one NUMA node, so returning NUMA node zero\n",
      "2022-11-21 18:52:10.261993: I tensorflow/stream_executor/cuda/cuda_gpu_executor.cc:980] successful NUMA node read from SysFS had negative value (-1), but there must be at least one NUMA node, so returning NUMA node zero\n",
      "2022-11-21 18:52:10.263018: I tensorflow/stream_executor/cuda/cuda_gpu_executor.cc:980] successful NUMA node read from SysFS had negative value (-1), but there must be at least one NUMA node, so returning NUMA node zero\n",
      "2022-11-21 18:52:10.263797: I tensorflow/stream_executor/cuda/cuda_gpu_executor.cc:980] successful NUMA node read from SysFS had negative value (-1), but there must be at least one NUMA node, so returning NUMA node zero\n",
      "2022-11-21 18:52:10.264556: I tensorflow/core/common_runtime/gpu/gpu_device.cc:1616] Created device /job:localhost/replica:0/task:0/device:GPU:0 with 36754 MB memory:  -> device: 0, name: NVIDIA A100-PCIE-40GB MIG 7g.40gb, pci bus id: 0000:13:00.0, compute capability: 8.0\n"
     ]
    },
    {
     "name": "stdout",
     "output_type": "stream",
     "text": [
      "Model: \"vgg16\"\n",
      "_________________________________________________________________\n",
      " Layer (type)                Output Shape              Param #   \n",
      "=================================================================\n",
      " input_1 (InputLayer)        [(None, 180, 180, 3)]     0         \n",
      "                                                                 \n",
      " block1_conv1 (Conv2D)       (None, 180, 180, 64)      1792      \n",
      "                                                                 \n",
      " block1_conv2 (Conv2D)       (None, 180, 180, 64)      36928     \n",
      "                                                                 \n",
      " block1_pool (MaxPooling2D)  (None, 90, 90, 64)        0         \n",
      "                                                                 \n",
      " block2_conv1 (Conv2D)       (None, 90, 90, 128)       73856     \n",
      "                                                                 \n",
      " block2_conv2 (Conv2D)       (None, 90, 90, 128)       147584    \n",
      "                                                                 \n",
      " block2_pool (MaxPooling2D)  (None, 45, 45, 128)       0         \n",
      "                                                                 \n",
      " block3_conv1 (Conv2D)       (None, 45, 45, 256)       295168    \n",
      "                                                                 \n",
      " block3_conv2 (Conv2D)       (None, 45, 45, 256)       590080    \n",
      "                                                                 \n",
      " block3_conv3 (Conv2D)       (None, 45, 45, 256)       590080    \n",
      "                                                                 \n",
      " block3_pool (MaxPooling2D)  (None, 22, 22, 256)       0         \n",
      "                                                                 \n",
      " block4_conv1 (Conv2D)       (None, 22, 22, 512)       1180160   \n",
      "                                                                 \n",
      " block4_conv2 (Conv2D)       (None, 22, 22, 512)       2359808   \n",
      "                                                                 \n",
      " block4_conv3 (Conv2D)       (None, 22, 22, 512)       2359808   \n",
      "                                                                 \n",
      " block4_pool (MaxPooling2D)  (None, 11, 11, 512)       0         \n",
      "                                                                 \n",
      " block5_conv1 (Conv2D)       (None, 11, 11, 512)       2359808   \n",
      "                                                                 \n",
      " block5_conv2 (Conv2D)       (None, 11, 11, 512)       2359808   \n",
      "                                                                 \n",
      " block5_conv3 (Conv2D)       (None, 11, 11, 512)       2359808   \n",
      "                                                                 \n",
      " block5_pool (MaxPooling2D)  (None, 5, 5, 512)         0         \n",
      "                                                                 \n",
      "=================================================================\n",
      "Total params: 14,714,688\n",
      "Trainable params: 14,714,688\n",
      "Non-trainable params: 0\n",
      "_________________________________________________________________\n",
      "None\n"
     ]
    }
   ],
   "source": [
    "#импортируем встроенную в keras, классическую нейросетевую архитектуру\n",
    "from tensorflow.keras.applications import vgg16\n",
    "image_size = 180 \n",
    "\n",
    "#загружаем архитектуру vgg16 c imagenet весами\n",
    "vgg_conv = vgg16.VGG16(weights='imagenet', include_top=False, input_shape=(image_size, image_size, 3))\n",
    "print(vgg_conv.summary())\n",
    "#keras.utils.plot_model(vgg_conv, show_shapes=True)\n"
   ]
  },
  {
   "cell_type": "code",
   "execution_count": 4,
   "id": "eee3d4fb",
   "metadata": {},
   "outputs": [
    {
     "name": "stdout",
     "output_type": "stream",
     "text": [
      "Model: \"sequential\"\n",
      "_________________________________________________________________\n",
      " Layer (type)                Output Shape              Param #   \n",
      "=================================================================\n",
      " vgg16 (Functional)          (None, 5, 5, 512)         14714688  \n",
      "                                                                 \n",
      " flatten (Flatten)           (None, 12800)             0         \n",
      "                                                                 \n",
      " dense (Dense)               (None, 1024)              13108224  \n",
      "                                                                 \n",
      " dropout (Dropout)           (None, 1024)              0         \n",
      "                                                                 \n",
      " dense_1 (Dense)             (None, 2)                 2050      \n",
      "                                                                 \n",
      "=================================================================\n",
      "Total params: 27,824,962\n",
      "Trainable params: 27,824,962\n",
      "Non-trainable params: 0\n",
      "_________________________________________________________________\n",
      "None\n"
     ]
    }
   ],
   "source": [
    "#создаем модель с основанием из vgg16 и надстройкой под нашу задачу\n",
    "model = keras.Sequential()\n",
    "model.add(vgg_conv)\n",
    "model.add(keras.layers.Flatten())\n",
    "model.add(keras.layers.Dense(1024, activation='relu'))\n",
    "model.add(keras.layers.Dropout(0.5))\n",
    "model.add(keras.layers.Dense(2, activation='softmax'))\n",
    "print(model.summary())\n",
    "#keras.utils.plot_model(model, show_shapes=True)\n"
   ]
  },
  {
   "cell_type": "code",
   "execution_count": 5,
   "id": "c248dae8",
   "metadata": {},
   "outputs": [
    {
     "name": "stdout",
     "output_type": "stream",
     "text": [
      "<keras.engine.input_layer.InputLayer object at 0x7f9be0a47fa0> False\n",
      "<keras.layers.convolutional.conv2d.Conv2D object at 0x7f9be0a68e80> False\n",
      "<keras.layers.convolutional.conv2d.Conv2D object at 0x7f9be0a11310> False\n",
      "<keras.layers.pooling.max_pooling2d.MaxPooling2D object at 0x7f9be0a11d60> False\n",
      "<keras.layers.convolutional.conv2d.Conv2D object at 0x7f9be0a11670> False\n",
      "<keras.layers.convolutional.conv2d.Conv2D object at 0x7f9bd8594040> False\n",
      "<keras.layers.pooling.max_pooling2d.MaxPooling2D object at 0x7f9bd831dd00> False\n",
      "<keras.layers.convolutional.conv2d.Conv2D object at 0x7f9bd831d910> False\n",
      "<keras.layers.convolutional.conv2d.Conv2D object at 0x7f9bd8594550> False\n",
      "<keras.layers.convolutional.conv2d.Conv2D object at 0x7f9bd832a7c0> False\n",
      "<keras.layers.pooling.max_pooling2d.MaxPooling2D object at 0x7f9bd832aee0> False\n",
      "<keras.layers.convolutional.conv2d.Conv2D object at 0x7f9bd832abe0> False\n",
      "<keras.layers.convolutional.conv2d.Conv2D object at 0x7f9bd833d280> False\n",
      "<keras.layers.convolutional.conv2d.Conv2D object at 0x7f9bd8338ca0> False\n",
      "<keras.layers.pooling.max_pooling2d.MaxPooling2D object at 0x7f9bd83380a0> False\n",
      "<keras.layers.convolutional.conv2d.Conv2D object at 0x7f9bd832e910> False\n",
      "<keras.layers.convolutional.conv2d.Conv2D object at 0x7f9be0a11a60> False\n",
      "<keras.layers.convolutional.conv2d.Conv2D object at 0x7f9bd85d6c10> False\n",
      "<keras.layers.pooling.max_pooling2d.MaxPooling2D object at 0x7f9bd83429d0> False\n"
     ]
    }
   ],
   "source": [
    "#запрещаем слоям из основания обучаться\n",
    "for layer in vgg_conv.layers[:]:\n",
    "    layer.trainable = False\n",
    "\n",
    "#проверяем обучаемость у слоев всей модели\n",
    "for layer in vgg_conv.layers:\n",
    "    print(layer, layer.trainable)\n",
    "\n"
   ]
  },
  {
   "cell_type": "code",
   "execution_count": 6,
   "id": "fe55f75e",
   "metadata": {},
   "outputs": [
    {
     "name": "stdout",
     "output_type": "stream",
     "text": [
      "Found 600 images belonging to 2 classes.\n",
      "Found 600 images belonging to 2 classes.\n"
     ]
    },
    {
     "name": "stderr",
     "output_type": "stream",
     "text": [
      "/home/a.samarin/workspace/anaconda3/lib/python3.9/site-packages/keras/optimizers/optimizer_v2/rmsprop.py:140: UserWarning: The `lr` argument is deprecated, use `learning_rate` instead.\n",
      "  super().__init__(name, **kwargs)\n"
     ]
    },
    {
     "name": "stdout",
     "output_type": "stream",
     "text": [
      "Epoch 1/20\n"
     ]
    },
    {
     "name": "stderr",
     "output_type": "stream",
     "text": [
      "2022-11-21 18:53:18.688067: I tensorflow/stream_executor/cuda/cuda_dnn.cc:384] Loaded cuDNN version 8100\n",
      "2022-11-21 18:53:19.182736: W tensorflow/stream_executor/gpu/asm_compiler.cc:111] *** WARNING *** You are using ptxas 9.2.148, which is older than 11.1. ptxas before 11.1 is known to miscompile XLA code, leading to incorrect results or invalid-address errors.\n",
      "\n",
      "You may not need to update to CUDA 11.1; cherry-picking the ptxas binary is often sufficient.\n",
      "2022-11-21 18:53:19.183871: W tensorflow/stream_executor/gpu/asm_compiler.cc:230] Falling back to the CUDA driver for PTX compilation; ptxas does not support CC 8.0\n",
      "2022-11-21 18:53:19.183885: W tensorflow/stream_executor/gpu/asm_compiler.cc:233] Used ptxas at ptxas\n",
      "2022-11-21 18:53:19.183933: W tensorflow/stream_executor/gpu/redzone_allocator.cc:314] UNIMPLEMENTED: ptxas ptxas too old. Falling back to the driver to compile.\n",
      "Relying on driver to perform ptx compilation. \n",
      "Modify $PATH to customize ptxas location.\n",
      "This message will be only logged once.\n"
     ]
    },
    {
     "name": "stdout",
     "output_type": "stream",
     "text": [
      "1/6 [====>.........................] - ETA: 26s - loss: 0.7546 - acc: 0.6000"
     ]
    },
    {
     "name": "stderr",
     "output_type": "stream",
     "text": [
      "2022-11-21 18:53:22.774267: I tensorflow/stream_executor/cuda/cuda_blas.cc:1614] TensorFloat-32 will be used for the matrix multiplication. This will only be logged once.\n"
     ]
    },
    {
     "name": "stdout",
     "output_type": "stream",
     "text": [
      "6/6 [==============================] - 9s 712ms/step - loss: 2.0149 - acc: 0.5517 - val_loss: 0.6461 - val_acc: 0.6417\n",
      "Epoch 2/20\n",
      "6/6 [==============================] - 3s 611ms/step - loss: 0.5795 - acc: 0.7250 - val_loss: 0.2778 - val_acc: 0.8850\n",
      "Epoch 3/20\n",
      "6/6 [==============================] - 3s 589ms/step - loss: 0.4163 - acc: 0.8067 - val_loss: 0.3443 - val_acc: 0.8367\n",
      "Epoch 4/20\n",
      "6/6 [==============================] - 3s 608ms/step - loss: 0.4008 - acc: 0.8183 - val_loss: 0.5513 - val_acc: 0.7133\n",
      "Epoch 5/20\n",
      "6/6 [==============================] - 3s 588ms/step - loss: 0.3211 - acc: 0.8500 - val_loss: 0.1661 - val_acc: 0.9400\n",
      "Epoch 6/20\n",
      "6/6 [==============================] - 3s 600ms/step - loss: 0.2200 - acc: 0.9133 - val_loss: 0.2673 - val_acc: 0.8717\n",
      "Epoch 7/20\n",
      "6/6 [==============================] - 3s 583ms/step - loss: 0.4516 - acc: 0.7783 - val_loss: 0.2139 - val_acc: 0.9067\n",
      "Epoch 8/20\n",
      "6/6 [==============================] - 3s 609ms/step - loss: 0.1437 - acc: 0.9467 - val_loss: 0.0924 - val_acc: 0.9867\n",
      "Epoch 9/20\n",
      "6/6 [==============================] - 3s 599ms/step - loss: 0.1258 - acc: 0.9517 - val_loss: 0.1634 - val_acc: 0.9333\n",
      "Epoch 10/20\n",
      "6/6 [==============================] - 3s 608ms/step - loss: 0.3172 - acc: 0.8433 - val_loss: 0.1376 - val_acc: 0.9533\n",
      "Epoch 11/20\n",
      "6/6 [==============================] - 3s 604ms/step - loss: 0.1354 - acc: 0.9450 - val_loss: 0.0581 - val_acc: 0.9950\n",
      "Epoch 12/20\n",
      "6/6 [==============================] - 3s 612ms/step - loss: 0.1016 - acc: 0.9717 - val_loss: 0.1639 - val_acc: 0.9267\n",
      "Epoch 13/20\n",
      "6/6 [==============================] - 3s 594ms/step - loss: 0.2877 - acc: 0.8667 - val_loss: 0.0696 - val_acc: 0.9783\n",
      "Epoch 14/20\n",
      "6/6 [==============================] - 3s 612ms/step - loss: 0.0633 - acc: 0.9850 - val_loss: 0.0365 - val_acc: 0.9967\n",
      "Epoch 15/20\n",
      "6/6 [==============================] - 3s 593ms/step - loss: 0.0455 - acc: 0.9933 - val_loss: 0.0289 - val_acc: 0.9983\n",
      "Epoch 16/20\n",
      "6/6 [==============================] - 3s 582ms/step - loss: 0.0565 - acc: 0.9833 - val_loss: 0.0247 - val_acc: 0.9983\n",
      "Epoch 17/20\n",
      "6/6 [==============================] - 3s 582ms/step - loss: 0.1182 - acc: 0.9517 - val_loss: 1.1467 - val_acc: 0.6233\n",
      "Epoch 18/20\n",
      "6/6 [==============================] - 3s 602ms/step - loss: 0.3777 - acc: 0.8650 - val_loss: 0.0241 - val_acc: 0.9983\n",
      "Epoch 19/20\n",
      "6/6 [==============================] - 3s 604ms/step - loss: 0.0280 - acc: 0.9983 - val_loss: 0.0210 - val_acc: 0.9983\n",
      "Epoch 20/20\n",
      "6/6 [==============================] - 3s 610ms/step - loss: 0.0285 - acc: 0.9983 - val_loss: 0.0164 - val_acc: 1.0000\n"
     ]
    }
   ],
   "source": [
    "#создаем окружение для работы с датасетами\n",
    "image_size = 180\n",
    "train_dir, validation_dir =  \"PetImages\",\"PetImages\"\n",
    "train_datagen = ImageDataGenerator(rescale=1./255)\n",
    "validation_datagen = ImageDataGenerator(rescale=1./255)\n",
    " \n",
    "#устанавливаем размер пакетов \n",
    "train_batchsize = 100\n",
    "val_batchsize = 10\n",
    " \n",
    "#создаем генератор данных для обучения\n",
    "train_generator = train_datagen.flow_from_directory(\n",
    "        train_dir,\n",
    "        target_size=(image_size, image_size),\n",
    "        batch_size=train_batchsize,\n",
    "        class_mode='categorical')\n",
    " \n",
    "#создаем генератор данных для валидации\n",
    "validation_generator = validation_datagen.flow_from_directory(\n",
    "        validation_dir,\n",
    "        target_size=(image_size, image_size),\n",
    "        batch_size=val_batchsize,\n",
    "        class_mode='categorical',\n",
    "        shuffle=False)\n",
    "\n",
    "#задаем способ обучения\n",
    "model.compile(loss='categorical_crossentropy',\n",
    "              optimizer=keras.optimizers.RMSprop(lr=1e-4),\n",
    "              metrics=['acc'])\n",
    "\n",
    "#настраиваем сохранение весов\n",
    "callbacks = [\n",
    "    keras.callbacks.ModelCheckpoint(\n",
    "        filepath='saved_weights/model_{epoch}.h5',\n",
    "        save_freq='epoch')\n",
    "]  \n",
    "\n",
    "#запускаем тренировку модели\n",
    "history = model.fit(\n",
    "      train_generator,\n",
    "      steps_per_epoch=\n",
    "         train_generator.samples/train_generator.batch_size,\n",
    "      epochs=20,\n",
    "      validation_data=validation_generator, \n",
    "      validation_steps=\n",
    "         validation_generator.samples/validation_generator.batch_size,\n",
    "      verbose=1,\n",
    "      callbacks=callbacks)\n",
    "\n",
    "\n"
   ]
  },
  {
   "cell_type": "markdown",
   "id": "c335b237",
   "metadata": {},
   "source": [
    "### Ура! Обучилось! Теперь можем использовать обученный классификатор!"
   ]
  },
  {
   "cell_type": "code",
   "execution_count": 28,
   "id": "14bfe600",
   "metadata": {},
   "outputs": [
    {
     "name": "stdout",
     "output_type": "stream",
     "text": [
      "1/1 [==============================] - 0s 27ms/step\n",
      "This image is 100.00% cat and 0.00% dog.\n"
     ]
    }
   ],
   "source": [
    "#как выглядит запуск обученной модели для классификации произвольного изображения\n",
    "img = keras.preprocessing.image.load_img(\"PetImages/Cat/10008.jpg\", target_size=(image_size, image_size))\n",
    "img_array = keras.preprocessing.image.img_to_array(img)\n",
    "img_array = tf.expand_dims(img_array, 0) #создаем пакет из одной картинки\n",
    "predictions = model.predict(img_array)\n",
    "#print(predictions)\n",
    "score = float(predictions[0][0])\n",
    "print(f\"This image is {100 * (1 - score):.2f}% cat and {100 * score:.2f}% dog.\")"
   ]
  },
  {
   "cell_type": "code",
   "execution_count": 7,
   "id": "fbd52ea0",
   "metadata": {},
   "outputs": [
    {
     "data": {
      "image/png": "[encoded data removed]",
      "text/plain": [
       "<Figure size 640x480 with 1 Axes>"
      ]
     },
     "metadata": {},
     "output_type": "display_data"
    },
    {
     "data": {
      "image/png": "[encoded data removed]",
      "text/plain": [
       "<Figure size 640x480 with 1 Axes>"
      ]
     },
     "metadata": {},
     "output_type": "display_data"
    }
   ],
   "source": [
    "#посмотрим на то, как менялись значения функции потерь и метрик качества в процессе обучения\n",
    "\n",
    "def visualize_results(history):\n",
    "\n",
    "    acc = history.history['acc']\n",
    "    val_acc = history.history['val_acc']\n",
    "    loss = history.history['loss']\n",
    "    val_loss = history.history['val_loss']\n",
    " \n",
    "    epochs = range(len(acc))\n",
    " \n",
    "    plt.plot(epochs, acc, 'b', label='Training acc')\n",
    "    plt.plot(epochs, val_acc, 'r', label='Validation acc')\n",
    "    plt.title('Training and validation accuracy')\n",
    "    plt.legend()\n",
    " \n",
    "    plt.figure()\n",
    " \n",
    "    plt.plot(epochs, loss, 'b', label='Training loss')\n",
    "    plt.plot(epochs, val_loss, 'r', label='Validation loss')\n",
    "    plt.title('Training and validation loss')\n",
    "    plt.legend()\n",
    " \n",
    "    plt.show()\n",
    " \n",
    " \n",
    "visualize_results(history)"
   ]
  },
  {
   "cell_type": "code",
   "execution_count": 8,
   "id": "42421f2e",
   "metadata": {},
   "outputs": [
    {
     "name": "stdout",
     "output_type": "stream",
     "text": [
      "60/60 [==============================] - 2s 23ms/step\n",
      "The list of classes:  ['Cat', 'Dog']\n",
      "Number of errors = 0/600\n"
     ]
    }
   ],
   "source": [
    "#вот таким образом можно ознакомиться с примерами, на которых модель ошибается\n",
    "def obtain_errors(val_generator, predictions):\n",
    "\n",
    "    fnames = validation_generator.filenames\n",
    " \n",
    "    ground_truth = validation_generator.classes\n",
    " \n",
    "    label2index = validation_generator.class_indices\n",
    " \n",
    "    idx2label = list(label2index.keys())\n",
    "    print(\"The list of classes: \", idx2label)\n",
    " \n",
    "    predicted_classes = np.argmax(predictions, axis=1)\n",
    " \n",
    "    errors = np.where(predicted_classes != ground_truth)[0]\n",
    "    print(\"Number of errors = {}/{}\".format(len(errors),validation_generator.samples))\n",
    "     \n",
    "    return idx2label, errors, fnames\n",
    " \n",
    "    \n",
    "def show_errors(idx2label, errors, predictions, fnames):\n",
    "    for i in range(len(errors)):\n",
    "        pred_class = np.argmax(predictions[errors[i]])\n",
    "        pred_label = idx2label[pred_class]\n",
    " \n",
    "        title = 'Original label:{}, Prediction :{}, confidence : {:.3f}'.format(\n",
    "            fnames[errors[i]].split('/')[0],\n",
    "            pred_label,\n",
    "            predictions[errors[i]][pred_class])\n",
    " \n",
    "        original = load_img('{}/{}'.format(validation_dir,fnames[errors[i]]))\n",
    "        plt.figure(figsize=[7,7])\n",
    "        plt.axis('off')\n",
    "        plt.title(title)\n",
    "        plt.imshow(original)\n",
    "        plt.show()\n",
    "\n",
    "\n",
    "predictions = model.predict(validation_generator, steps=validation_generator.samples/validation_generator.batch_size,verbose=1)\n",
    " \n",
    "idx2label, errors, fnames = obtain_errors(validation_generator, predictions)\n",
    " \n",
    "show_errors(idx2label, errors, predictions, fnames)"
   ]
  },
  {
   "cell_type": "markdown",
   "id": "346b2043",
   "metadata": {},
   "source": [
    "# Подробнее про возможности keras/tf"
   ]
  },
  {
   "cell_type": "code",
   "execution_count": 9,
   "id": "4ff40cdd",
   "metadata": {},
   "outputs": [
    {
     "name": "stdout",
     "output_type": "stream",
     "text": [
      "tf.Tensor(\n",
      "[[5 2]\n",
      " [1 3]], shape=(2, 2), dtype=int32)\n"
     ]
    }
   ],
   "source": [
    "#основным объектом является тензор\n",
    "x = tf.constant([[5, 2], [1, 3]])\n",
    "print(x)\n"
   ]
  },
  {
   "cell_type": "code",
   "execution_count": 10,
   "id": "d701d6b7",
   "metadata": {},
   "outputs": [
    {
     "data": {
      "text/plain": [
       "array([[5, 2],\n",
       "       [1, 3]], dtype=int32)"
      ]
     },
     "execution_count": 10,
     "metadata": {},
     "output_type": "execute_result"
    }
   ],
   "source": [
    "#тензор можно сконвертировать в numpy массив\n",
    "x.numpy()"
   ]
  },
  {
   "cell_type": "code",
   "execution_count": 11,
   "id": "1402a2aa",
   "metadata": {},
   "outputs": [
    {
     "name": "stdout",
     "output_type": "stream",
     "text": [
      "dtype: <dtype: 'int32'>\n",
      "shape: (2, 2)\n"
     ]
    }
   ],
   "source": [
    "#основные характеристики тензора - это тип и значение\n",
    "print(\"dtype:\", x.dtype)\n",
    "print(\"shape:\", x.shape)"
   ]
  },
  {
   "cell_type": "code",
   "execution_count": 12,
   "id": "8612c6ae",
   "metadata": {},
   "outputs": [
    {
     "name": "stdout",
     "output_type": "stream",
     "text": [
      "tf.Tensor(\n",
      "[[1.]\n",
      " [1.]], shape=(2, 1), dtype=float32)\n",
      "tf.Tensor(\n",
      "[[0.]\n",
      " [0.]], shape=(2, 1), dtype=float32)\n"
     ]
    }
   ],
   "source": [
    "#задавать и инициализировать тензоры можно так:\n",
    "print(tf.ones(shape=(2, 1)))\n",
    "print(tf.zeros(shape=(2, 1)))"
   ]
  },
  {
   "cell_type": "code",
   "execution_count": 14,
   "id": "737deebc",
   "metadata": {},
   "outputs": [
    {
     "name": "stdout",
     "output_type": "stream",
     "text": [
      "tf.Tensor(\n",
      "[[-1.0706898   0.73063344]\n",
      " [-1.854926   -0.20702787]], shape=(2, 2), dtype=float32)\n",
      "tf.Tensor(\n",
      "[[4 5]\n",
      " [5 6]], shape=(2, 2), dtype=int32)\n"
     ]
    }
   ],
   "source": [
    "#тензоры можно инициализировать сгенерированным изначениями из заданных распределений\n",
    "x = tf.random.normal(shape=(2, 2), mean=0.0, stddev=1.0)\n",
    "print(x)\n",
    "\n",
    "x = tf.random.uniform(shape=(2, 2), minval=0, maxval=10, dtype=\"int32\")\n",
    "print(x)"
   ]
  },
  {
   "cell_type": "code",
   "execution_count": 15,
   "id": "6ab0ff3a",
   "metadata": {},
   "outputs": [
    {
     "name": "stdout",
     "output_type": "stream",
     "text": [
      "<tf.Variable 'Variable:0' shape=(2, 2) dtype=float32, numpy=\n",
      "array([[-1.9459037 , -0.6754717 ],\n",
      "       [-0.03191435, -0.9179135 ]], dtype=float32)>\n"
     ]
    }
   ],
   "source": [
    "#значение тензора можно присваивать переменной - это изменяемый объект из инфраструктуры tf\n",
    "initial_value = tf.random.normal(shape=(2, 2))\n",
    "a = tf.Variable(initial_value)\n",
    "print(a)"
   ]
  },
  {
   "cell_type": "code",
   "execution_count": 16,
   "id": "6787350b",
   "metadata": {},
   "outputs": [],
   "source": [
    "#переменным можно присваивать новые значения\n",
    "new_value = tf.random.normal(shape=(2, 2))\n",
    "a.assign(new_value)\n",
    "for i in range(2):\n",
    "    for j in range(2):\n",
    "        assert a[i, j] == new_value[i, j]\n",
    "print(a)\n",
    "\n",
    "#и выполнять различные операции с тензорами\n",
    "added_value = tf.random.normal(shape=(2, 2))\n",
    "print(added_value)\n",
    "a.assign_add(added_value)\n",
    "for i in range(2):\n",
    "    for j in range(2):\n",
    "        assert a[i, j] == new_value[i, j] + added_value[i, j]\n",
    "print(a)"
   ]
  },
  {
   "cell_type": "code",
   "execution_count": 18,
   "id": "0f008c79",
   "metadata": {},
   "outputs": [
    {
     "name": "stdout",
     "output_type": "stream",
     "text": [
      "tf.Tensor(\n",
      "[[ 0.7151524   0.92357177]\n",
      " [-0.13276584 -0.5875351 ]], shape=(2, 2), dtype=float32)\n",
      "tf.Tensor(\n",
      "[[-0.03452791 -0.09899366]\n",
      " [ 1.1987774   0.04495475]], shape=(2, 2), dtype=float32)\n",
      "tf.Tensor(\n",
      "[[ 0.6806245   0.8245781 ]\n",
      " [ 1.0660115  -0.54258037]], shape=(2, 2), dtype=float32)\n",
      "tf.Tensor(\n",
      "[[0.46324968 0.6799291 ]\n",
      " [1.1363807  0.29439345]], shape=(2, 2), dtype=float32)\n",
      "tf.Tensor(\n",
      "[[1.5892301 1.9737376]\n",
      " [3.115472  1.342312 ]], shape=(2, 2), dtype=float32)\n"
     ]
    }
   ],
   "source": [
    "#арифметика выглядит примерно так же, как и в numpy\n",
    "a = tf.random.normal(shape=(2, 2))\n",
    "b = tf.random.normal(shape=(2, 2))\n",
    "print(a)\n",
    "print(b)\n",
    "c = a + b\n",
    "print(c)\n",
    "d = tf.square(c)\n",
    "print(d)\n",
    "e = tf.exp(d)\n",
    "print(e)"
   ]
  },
  {
   "cell_type": "code",
   "execution_count": 19,
   "id": "a0a3e64c",
   "metadata": {},
   "outputs": [
    {
     "name": "stdout",
     "output_type": "stream",
     "text": [
      "tf.Tensor(\n",
      "[[ 0.8749778  -0.45708925]\n",
      " [-0.88418067 -0.9119923 ]], shape=(2, 2), dtype=float32)\n"
     ]
    }
   ],
   "source": [
    "#зачем выполнять все вышеописанные действия через объекты tf? \n",
    "# - потому что для этих объектов автоматически генерируется функционал по вычислению производных\n",
    "#для того, чтобы задать мониторинг\n",
    "\n",
    "a = tf.random.normal(shape=(2, 2))\n",
    "b = tf.random.normal(shape=(2, 2))\n",
    "\n",
    "with tf.GradientTape() as tape:\n",
    "    tape.watch(a)  #начинаем мониторинг истории операций с 'a' для того, чтобы считать производную впоследствии\n",
    "    c = tf.sqrt(tf.square(a) + tf.square(b)) \n",
    "    \n",
    "    #теперь мы в любой момент можем посчитать производную любого выражения по 'a': например, `c` по `a`?\n",
    "    dc_da = tape.gradient(c, a)\n",
    "    print(dc_da)"
   ]
  },
  {
   "cell_type": "code",
   "execution_count": 20,
   "id": "4cf8f8d4",
   "metadata": {},
   "outputs": [
    {
     "name": "stdout",
     "output_type": "stream",
     "text": [
      "tf.Tensor(\n",
      "[[ 0.8749778  -0.45708925]\n",
      " [-0.88418067 -0.9119923 ]], shape=(2, 2), dtype=float32)\n"
     ]
    }
   ],
   "source": [
    "#объекты, объявленные как переменные мониторятся автоматически внутри блока GradientTape,\n",
    "#для них не нужно вызывать watch\n",
    "a = tf.Variable(a)\n",
    "\n",
    "with tf.GradientTape() as tape:\n",
    "    c = tf.sqrt(tf.square(a) + tf.square(b))\n",
    "    dc_da = tape.gradient(c, a)\n",
    "    print(dc_da)"
   ]
  },
  {
   "cell_type": "code",
   "execution_count": 21,
   "id": "b55b0cd7",
   "metadata": {},
   "outputs": [
    {
     "name": "stdout",
     "output_type": "stream",
     "text": [
      "tf.Tensor(\n",
      "[[0.369022   0.8009274 ]\n",
      " [0.1510976  0.19800651]], shape=(2, 2), dtype=float32)\n"
     ]
    }
   ],
   "source": [
    "#производные высших порядков считаются с помощью вложения GradientTape блоков\n",
    "with tf.GradientTape() as outer_tape:\n",
    "    with tf.GradientTape() as tape:\n",
    "        c = tf.sqrt(tf.square(a) + tf.square(b))\n",
    "        dc_da = tape.gradient(c, a)\n",
    "    d2c_da2 = outer_tape.gradient(dc_da, a)\n",
    "    print(d2c_da2)"
   ]
  },
  {
   "cell_type": "code",
   "execution_count": 22,
   "id": "364a36f8",
   "metadata": {},
   "outputs": [],
   "source": [
    "#а зачем нам считать самостоятельно градиенты и выполнять всяские операции над тензорами?\n",
    "#a для того, чтобы самостоятельно создавать свои собственные слои и модели. Давайте попробуем...\n",
    "\n",
    "#создадим свой собственный линейный слой\n",
    "class Linear(keras.layers.Layer):\n",
    "    \"\"\"y = w.x + b\"\"\"\n",
    "\n",
    "    def __init__(self, units=32, input_dim=32):\n",
    "        super(Linear, self).__init__()\n",
    "        w_init = tf.random_normal_initializer()\n",
    "        self.w = tf.Variable(\n",
    "            initial_value=w_init(shape=(input_dim, units), dtype=\"float32\"),\n",
    "            trainable=True,\n",
    "        )\n",
    "        b_init = tf.zeros_initializer()\n",
    "        self.b = tf.Variable(\n",
    "            initial_value=b_init(shape=(units,), dtype=\"float32\"), trainable=True\n",
    "        )\n",
    "\n",
    "    def call(self, inputs):\n",
    "        return tf.matmul(inputs, self.w) + self.b"
   ]
  },
  {
   "cell_type": "code",
   "execution_count": 23,
   "id": "28385ba0",
   "metadata": {},
   "outputs": [],
   "source": [
    "#создадим экземпляр нашего слоя\n",
    "linear_layer = Linear(units=4, input_dim=2)\n",
    "\n",
    "#для примера, пропустим тензор через наш слой\n",
    "y = linear_layer(tf.ones((2, 2)))\n",
    "assert y.shape == (2, 4)"
   ]
  },
  {
   "cell_type": "code",
   "execution_count": 24,
   "id": "9d2ff816",
   "metadata": {},
   "outputs": [],
   "source": [
    "#отметим, что благодаря интеграции с механизмами tf, созданные нами конструкции естественным образом стыкуются с\n",
    "#общей инфраструктурой \n",
    "assert linear_layer.weights == [linear_layer.w, linear_layer.b]"
   ]
  },
  {
   "cell_type": "code",
   "execution_count": 25,
   "id": "0f5f6c4c",
   "metadata": {},
   "outputs": [],
   "source": [
    "#теперь зададим явным образом веса нашего слоя\n",
    "class Linear(keras.layers.Layer):\n",
    "    \"\"\"y = w.x + b\"\"\"\n",
    "\n",
    "    def __init__(self, units=32):\n",
    "        super(Linear, self).__init__()\n",
    "        self.units = units\n",
    "\n",
    "    def build(self, input_shape):\n",
    "        self.w = self.add_weight(\n",
    "            shape=(input_shape[-1], self.units),\n",
    "            initializer=\"random_normal\",\n",
    "            trainable=True,\n",
    "        )\n",
    "        self.b = self.add_weight(\n",
    "            shape=(self.units,), initializer=\"random_normal\", trainable=True\n",
    "        )\n",
    "\n",
    "    def call(self, inputs):\n",
    "        return tf.matmul(inputs, self.w) + self.b\n",
    "\n",
    "\n",
    "linear_layer = Linear(4)\n",
    "\n",
    "y = linear_layer(tf.ones((2, 2)))"
   ]
  },
  {
   "cell_type": "code",
   "execution_count": 26,
   "id": "3f2931ef",
   "metadata": {},
   "outputs": [
    {
     "name": "stdout",
     "output_type": "stream",
     "text": [
      "Downloading data from https://storage.googleapis.com/tensorflow/tf-keras-datasets/mnist.npz\n",
      "11490434/11490434 [==============================] - 1s 0us/step\n",
      "Step: 0 Loss: 2.3800618648529053\n",
      "Step: 100 Loss: 2.268953800201416\n",
      "Step: 200 Loss: 2.1681606769561768\n",
      "Step: 300 Loss: 1.9894477128982544\n",
      "Step: 400 Loss: 2.0644946098327637\n",
      "Step: 500 Loss: 1.903777003288269\n",
      "Step: 600 Loss: 1.8596889972686768\n",
      "Step: 700 Loss: 1.7153810262680054\n",
      "Step: 800 Loss: 1.6574711799621582\n",
      "Step: 900 Loss: 1.5855555534362793\n"
     ]
    }
   ],
   "source": [
    "#попробуем теперь натренировать веса нашей архиетектуры\n",
    "\n",
    "#сгенерируем датасет\n",
    "(x_train, y_train), _ = tf.keras.datasets.mnist.load_data()\n",
    "dataset = tf.data.Dataset.from_tensor_slices(\n",
    "    (x_train.reshape(60000, 784).astype(\"float32\") / 255, y_train)\n",
    ")\n",
    "dataset = dataset.shuffle(buffer_size=1024).batch(64)\n",
    "\n",
    "#создадим наш слой подходящей размерности\n",
    "linear_layer = Linear(10)\n",
    "\n",
    "#задаем функцию потерь для оптимизации весов\n",
    "loss_fn = tf.keras.losses.SparseCategoricalCrossentropy(from_logits=True)\n",
    "\n",
    "#создаем оптимизатор методом стохастического градиентного спуска и задаем скорость обучения\n",
    "optimizer = tf.keras.optimizers.SGD(learning_rate=1e-3)\n",
    "\n",
    "#совершаем итерации по пакетам датасета\n",
    "for step, (x, y) in enumerate(dataset):\n",
    "\n",
    "    #открываем GradientTape для отслеживания производных\n",
    "    with tf.GradientTape() as tape:\n",
    "\n",
    "        #делаем прямой прогон\n",
    "        logits = linear_layer(x)\n",
    "\n",
    "        #вычисляем значение функции ошибки\n",
    "        loss = loss_fn(y, logits)\n",
    "\n",
    "    #вычисляем производную функции ошибки по весам нашей модели\n",
    "    gradients = tape.gradient(loss, linear_layer.trainable_weights)\n",
    "\n",
    "    #обновляем веса нашего слоя согласна направлению градиента с помощью оптимизатора\n",
    "    optimizer.apply_gradients(zip(gradients, linear_layer.trainable_weights))\n",
    "\n",
    "    #выводим информацию о текущем шаге\n",
    "    if step % 100 == 0:\n",
    "        print(\"Step:\", step, \"Loss:\", float(loss))"
   ]
  },
  {
   "cell_type": "code",
   "execution_count": 27,
   "id": "fbf16b42",
   "metadata": {},
   "outputs": [
    {
     "name": "stdout",
     "output_type": "stream",
     "text": [
      "[2. 2.]\n",
      "[4. 4.]\n"
     ]
    }
   ],
   "source": [
    "#в модели могут быть не только обучаемые веса\n",
    "class ComputeSum(keras.layers.Layer):\n",
    "    \"\"\"Returns the sum of the inputs.\"\"\"\n",
    "\n",
    "    def __init__(self, input_dim):\n",
    "        super(ComputeSum, self).__init__()\n",
    "        #создаем необучаемые веса - они не должны изменяться в процессе обучения\n",
    "        self.total = tf.Variable(initial_value=tf.zeros((input_dim,)), trainable=False)\n",
    "\n",
    "    def call(self, inputs):\n",
    "        self.total.assign_add(tf.reduce_sum(inputs, axis=0))\n",
    "        return self.total\n",
    "\n",
    "\n",
    "my_sum = ComputeSum(2)\n",
    "x = tf.ones((2, 2))\n",
    "\n",
    "y = my_sum(x)\n",
    "print(y.numpy())  # [2. 2.]\n",
    "\n",
    "y = my_sum(x)\n",
    "print(y.numpy())  # [4. 4.]\n",
    "\n",
    "assert my_sum.weights == [my_sum.total]\n",
    "assert my_sum.non_trainable_weights == [my_sum.total]\n",
    "assert my_sum.trainable_weights == []"
   ]
  },
  {
   "cell_type": "code",
   "execution_count": 28,
   "id": "85121799",
   "metadata": {},
   "outputs": [],
   "source": [
    "#мы можем использовать ранее созданный нами слой в качестве конструктивной составляющей для создания моделей\n",
    "#например, перцептрона\n",
    "\n",
    "class MLP(keras.layers.Layer):\n",
    "    \"\"\"Simple stack of Linear layers.\"\"\"\n",
    "\n",
    "    def __init__(self):\n",
    "        super(MLP, self).__init__()\n",
    "        self.linear_1 = Linear(32)\n",
    "        self.linear_2 = Linear(32)\n",
    "        self.linear_3 = Linear(10)\n",
    "\n",
    "    def call(self, inputs):\n",
    "        x = self.linear_1(inputs)\n",
    "        x = tf.nn.relu(x)\n",
    "        x = self.linear_2(x)\n",
    "        x = tf.nn.relu(x)\n",
    "        return self.linear_3(x)\n",
    "\n",
    "\n",
    "mlp = MLP()\n",
    "\n",
    "#так выглядит запуск нашего перцептрона на единичном входном тензоре\n",
    "y = mlp(tf.ones(shape=(3, 64)))\n",
    "\n",
    "#убедимся, что наша модель содержит веса всех линейных слоев\n",
    "assert len(mlp.weights) == 6"
   ]
  },
  {
   "cell_type": "code",
   "execution_count": 29,
   "id": "4f2f14db",
   "metadata": {},
   "outputs": [],
   "source": [
    "#также мы можем создать MLP с помощью стандартной последовательной конструкции слоев\n",
    "mlp = keras.Sequential(\n",
    "    [\n",
    "        keras.layers.Dense(32, activation=tf.nn.relu),\n",
    "        keras.layers.Dense(32, activation=tf.nn.relu),\n",
    "        keras.layers.Dense(10),\n",
    "    ]\n",
    ")"
   ]
  },
  {
   "cell_type": "code",
   "execution_count": 30,
   "id": "aa797bf6",
   "metadata": {},
   "outputs": [],
   "source": [
    "#а вот так мы можем задавать собственные способы регуляризации\n",
    "class ActivityRegularization(keras.layers.Layer):\n",
    "\n",
    "    def __init__(self, rate=1e-2):\n",
    "        super(ActivityRegularization, self).__init__()\n",
    "        self.rate = rate\n",
    "\n",
    "    def call(self, inputs):\n",
    "        self.add_loss(self.rate * tf.reduce_sum(inputs))\n",
    "        return inputs"
   ]
  },
  {
   "cell_type": "code",
   "execution_count": 32,
   "id": "2c529995",
   "metadata": {},
   "outputs": [],
   "source": [
    "#добавим регуляризацию в ранее созданную архитектуру\n",
    "class SparseMLP(keras.layers.Layer):\n",
    "\n",
    "    def __init__(self):\n",
    "        super(SparseMLP, self).__init__()\n",
    "        self.linear_1 = Linear(32)\n",
    "        self.regularization = ActivityRegularization(1e-2)\n",
    "        self.linear_3 = Linear(10)\n",
    "\n",
    "    def call(self, inputs):\n",
    "        x = self.linear_1(inputs)\n",
    "        x = tf.nn.relu(x)\n",
    "        x = self.regularization(x)\n",
    "        return self.linear_3(x)\n",
    "\n",
    "\n",
    "mlp = SparseMLP()\n",
    "y = mlp(tf.ones((10, 10)))\n",
    "\n",
    "#print(mlp.losses) "
   ]
  },
  {
   "cell_type": "code",
   "execution_count": 33,
   "id": "71116161",
   "metadata": {},
   "outputs": [
    {
     "name": "stdout",
     "output_type": "stream",
     "text": [
      "Step: 0 Loss: 5.499861717224121\n",
      "Step: 100 Loss: 2.592247724533081\n",
      "Step: 200 Loss: 2.4485459327697754\n",
      "Step: 300 Loss: 2.392732620239258\n",
      "Step: 400 Loss: 2.3589625358581543\n",
      "Step: 500 Loss: 2.3454642295837402\n",
      "Step: 600 Loss: 2.331789493560791\n",
      "Step: 700 Loss: 2.332601547241211\n",
      "Step: 800 Loss: 2.337286949157715\n",
      "Step: 900 Loss: 2.3119053840637207\n"
     ]
    }
   ],
   "source": [
    "#теперь соберем вместе весь наш MLP вместе с регуляризацией и запустим процесс обучения\n",
    "mlp = SparseMLP()\n",
    "mlp(tf.ones((10, 10)))\n",
    "assert len(mlp.losses) == 1\n",
    "mlp(tf.ones((10, 10)))\n",
    "assert len(mlp.losses) == 1\n",
    "#как видно, все инициализируется корректно\n",
    "\n",
    "#теперь посморим на процесс обучения\n",
    "\n",
    "#подготавливаем датасет\n",
    "(x_train, y_train), _ = tf.keras.datasets.mnist.load_data()\n",
    "dataset = tf.data.Dataset.from_tensor_slices(\n",
    "    (x_train.reshape(60000, 784).astype(\"float32\") / 255, y_train)\n",
    ")\n",
    "dataset = dataset.shuffle(buffer_size=1024).batch(64)\n",
    "\n",
    "#создаем наш MLP\n",
    "mlp = SparseMLP()\n",
    "\n",
    "#задаем функцию ошибки и оптимизатор\n",
    "loss_fn = tf.keras.losses.SparseCategoricalCrossentropy(from_logits=True)\n",
    "optimizer = tf.keras.optimizers.SGD(learning_rate=1e-3)\n",
    "\n",
    "for step, (x, y) in enumerate(dataset):\n",
    "    with tf.GradientTape() as tape:\n",
    "\n",
    "        #получаем значение сети при прямом прогоне\n",
    "        logits = mlp(x)\n",
    "\n",
    "        #вычисляем функцию потерь\n",
    "        loss = loss_fn(y, logits)\n",
    "\n",
    "        #учитываем потери на всех слоях\n",
    "        loss += sum(mlp.losses)\n",
    "\n",
    "        #вычисляем градиент по функции потерь относительно весов модели\n",
    "        gradients = tape.gradient(loss, mlp.trainable_weights)\n",
    "\n",
    "    #обновляем веса с помощью оптимизатора согласно посчитанному градиенту\n",
    "    optimizer.apply_gradients(zip(gradients, mlp.trainable_weights))\n",
    "\n",
    "    #логируем процесс обучения\n",
    "    if step % 100 == 0:\n",
    "        print(\"Step:\", step, \"Loss:\", float(loss))"
   ]
  },
  {
   "cell_type": "code",
   "execution_count": 34,
   "id": "073596f6",
   "metadata": {},
   "outputs": [
    {
     "name": "stdout",
     "output_type": "stream",
     "text": [
      "Epoch: 0 Step: 0\n",
      "Total running accuracy so far: 0.094\n",
      "Epoch: 0 Step: 200\n",
      "Total running accuracy so far: 0.746\n",
      "Epoch: 0 Step: 400\n",
      "Total running accuracy so far: 0.824\n",
      "Epoch: 0 Step: 600\n",
      "Total running accuracy so far: 0.855\n",
      "Epoch: 0 Step: 800\n",
      "Total running accuracy so far: 0.872\n",
      "Epoch: 1 Step: 0\n",
      "Total running accuracy so far: 0.891\n",
      "Epoch: 1 Step: 200\n",
      "Total running accuracy so far: 0.940\n",
      "Epoch: 1 Step: 400\n",
      "Total running accuracy so far: 0.941\n",
      "Epoch: 1 Step: 600\n",
      "Total running accuracy so far: 0.942\n",
      "Epoch: 1 Step: 800\n",
      "Total running accuracy so far: 0.943\n"
     ]
    }
   ],
   "source": [
    "#функция потерь необходима при обучении сети, но для оценки качества полученной модели, необходимо задать метрики\n",
    "\n",
    "#добавим в нашу модель еще встроенный механизм подсчета точности нашего классификатора\n",
    "accuracy = tf.keras.metrics.SparseCategoricalAccuracy()\n",
    "\n",
    "#создаем уже знакомую архитектуру, но с помощью встроенных слоев\n",
    "model = keras.Sequential(\n",
    "    [\n",
    "        keras.layers.Dense(32, activation=\"relu\"),\n",
    "        keras.layers.Dense(32, activation=\"relu\"),\n",
    "        keras.layers.Dense(10),\n",
    "    ]\n",
    ")\n",
    "\n",
    "#задаем функцию потерь и оптимизатор\n",
    "loss_fn = tf.keras.losses.SparseCategoricalCrossentropy(from_logits=True)\n",
    "optimizer = tf.keras.optimizers.Adam(learning_rate=1e-3)\n",
    "\n",
    "for epoch in range(2):\n",
    "    #перебираем пакеты данных на каждом шаге\n",
    "    for step, (x, y) in enumerate(dataset):\n",
    "        with tf.GradientTape() as tape:\n",
    "            logits = model(x)\n",
    "            #для каждого пакета вычисляем функцию потерь\n",
    "            loss_value = loss_fn(y, logits)\n",
    "\n",
    "        #обновляем значение метрики качества\n",
    "        accuracy.update_state(y, logits)\n",
    "\n",
    "        #обновляем веса, учивывая посчитанный градиент и стратегию оптимизации\n",
    "        gradients = tape.gradient(loss_value, model.trainable_weights)\n",
    "        optimizer.apply_gradients(zip(gradients, model.trainable_weights))\n",
    "\n",
    "        #логируем информацию о процессе обучения\n",
    "        if step % 200 == 0:\n",
    "            print(\"Epoch:\", epoch, \"Step:\", step)\n",
    "            print(\"Total running accuracy so far: %.3f\" % accuracy.result())\n",
    "\n",
    "    #сбрасываем накопленные данные подсчета метрики в конце эпохи\n",
    "    accuracy.reset_state()"
   ]
  },
  {
   "cell_type": "code",
   "execution_count": 35,
   "id": "aae2d010",
   "metadata": {},
   "outputs": [],
   "source": [
    "#теперь посмотрим на создание своей метрики качества: надо просто реализовать методы, заданные в Keras API\n",
    "class F1Score(keras.metrics.Metric):\n",
    "    def __init__(self, name=\"f1_score\", dtype=\"float32\", threshold=0.5, **kwargs):\n",
    "        super().__init__(name=name, dtype=dtype, **kwargs)\n",
    "        self.threshold = 0.5\n",
    "        self.true_positives = self.add_weight(\n",
    "            name=\"tp\", dtype=dtype, initializer=\"zeros\"\n",
    "        )\n",
    "        self.false_positives = self.add_weight(\n",
    "            name=\"fp\", dtype=dtype, initializer=\"zeros\"\n",
    "        )\n",
    "        self.false_negatives = self.add_weight(\n",
    "            name=\"fn\", dtype=dtype, initializer=\"zeros\"\n",
    "        )\n",
    "\n",
    "    def update_state(self, y_true, y_pred, sample_weight=None):\n",
    "        y_pred = tf.math.greater_equal(y_pred, self.threshold)\n",
    "        y_true = tf.cast(y_true, tf.bool)\n",
    "        y_pred = tf.cast(y_pred, tf.bool)\n",
    "\n",
    "        true_positives = tf.cast(y_true & y_pred, self.dtype)\n",
    "        false_positives = tf.cast(~y_true & y_pred, self.dtype)\n",
    "        false_negatives = tf.cast(y_true & ~y_pred, self.dtype)\n",
    "\n",
    "        if sample_weight is not None:\n",
    "            sample_weight = tf.cast(sample_weight, self.dtype)\n",
    "            true_positives *= sample_weight\n",
    "            false_positives *= sample_weight\n",
    "            false_negatives *= sample_weight\n",
    "\n",
    "        self.true_positives.assign_add(tf.reduce_sum(true_positives))\n",
    "        self.false_positives.assign_add(tf.reduce_sum(false_positives))\n",
    "        self.false_negatives.assign_add(tf.reduce_sum(false_negatives))\n",
    "\n",
    "    def result(self):\n",
    "        precision = self.true_positives / (self.true_positives + self.false_positives)\n",
    "        recall = self.true_positives / (self.true_positives + self.false_negatives)\n",
    "        return precision * recall * 2.0 / (precision + recall)\n",
    "\n",
    "    def reset_state(self):\n",
    "        self.true_positives.assign(0)\n",
    "        self.false_positives.assign(0)\n",
    "        self.false_negatives.assign(0)"
   ]
  },
  {
   "cell_type": "code",
   "execution_count": 36,
   "id": "6ee12196",
   "metadata": {},
   "outputs": [
    {
     "name": "stdout",
     "output_type": "stream",
     "text": [
      "Intermediate result: 0.5\n",
      "Final result: 0.6000000238418579\n"
     ]
    }
   ],
   "source": [
    "#проверим, что все работает\n",
    "m = F1Score()\n",
    "m.update_state([0, 1, 0, 0], [0.3, 0.5, 0.8, 0.9])\n",
    "print(\"Intermediate result:\", float(m.result()))\n",
    "\n",
    "m.update_state([1, 1, 1, 1], [0.1, 0.7, 0.6, 0.0])\n",
    "print(\"Final result:\", float(m.result()))"
   ]
  },
  {
   "cell_type": "code",
   "execution_count": 37,
   "id": "736036f9",
   "metadata": {},
   "outputs": [],
   "source": [
    "#все вышеобозначенное можно задавать и в функциональном стиле:\n",
    "#отметим, что данный стиль подразумевает описание последовательных преобразований отдельно с каждым элементом датасета\n",
    "inputs = tf.keras.Input(shape=(16,), dtype=\"float32\")\n",
    "x = Linear(32)(inputs)  #используем созданный нами ранее слой (стили задания моделей можно смешивать)\n",
    "outputs = Linear(10)(x)\n",
    "\n",
    "#создаем модель из последовательности преобразований\n",
    "model = tf.keras.Model(inputs, outputs)\n",
    "\n",
    "#проверяем количество весов\n",
    "assert len(model.weights) == 4\n",
    "\n",
    "#запустим - посмотрим, что действительно, выходные слои имеют ожидаемую размерность\n",
    "y = model(tf.ones((2, 16)))\n",
    "assert y.shape == (2, 10)\n"
   ]
  },
  {
   "cell_type": "code",
   "execution_count": 38,
   "id": "ab654306",
   "metadata": {},
   "outputs": [
    {
     "name": "stdout",
     "output_type": "stream",
     "text": [
      "Epoch 1/2\n",
      "938/938 [==============================] - 2s 2ms/step - loss: 0.3829 - sparse_categorical_accuracy: 0.8918\n",
      "Epoch 2/2\n",
      "938/938 [==============================] - 2s 2ms/step - loss: 0.1842 - sparse_categorical_accuracy: 0.9467\n",
      "938/938 [==============================] - 1s 1ms/step\n",
      "938/938 [==============================] - 1s 2ms/step - loss: 0.1515 - sparse_categorical_accuracy: 0.9556\n"
     ]
    },
    {
     "data": {
      "text/plain": [
       "[0.15148410201072693, 0.9556166529655457]"
      ]
     },
     "execution_count": 38,
     "metadata": {},
     "output_type": "execute_result"
    }
   ],
   "source": [
    "#теперь рассмотрим пример создания и обучения модели в функциональном стиле\n",
    "inputs = tf.keras.Input(shape=(784,), dtype=\"float32\")\n",
    "x = keras.layers.Dense(32, activation=\"relu\")(inputs)\n",
    "x = keras.layers.Dense(32, activation=\"relu\")(x)\n",
    "outputs = keras.layers.Dense(10)(x)\n",
    "model = tf.keras.Model(inputs, outputs)\n",
    "\n",
    "#зададим параметры оптимизации весов\n",
    "model.compile(\n",
    "    loss=keras.losses.SparseCategoricalCrossentropy(from_logits=True),\n",
    "    optimizer=keras.optimizers.Adam(learning_rate=1e-3),\n",
    "    metrics=[keras.metrics.SparseCategoricalAccuracy()],\n",
    ")\n",
    "\n",
    "#запустим обучение на ранее загруженном наборе\n",
    "model.fit(dataset, epochs=2)\n",
    "model.predict(dataset)\n",
    "model.evaluate(dataset)"
   ]
  },
  {
   "cell_type": "code",
   "execution_count": 39,
   "id": "13d1ceef",
   "metadata": {},
   "outputs": [
    {
     "name": "stdout",
     "output_type": "stream",
     "text": [
      "Epoch 1/2\n",
      "938/938 [==============================] - 2s 2ms/step - loss: 0.4037 - accuracy: 0.7983\n",
      "Epoch 2/2\n",
      "938/938 [==============================] - 2s 2ms/step - loss: 0.1958 - accuracy: 0.9379\n"
     ]
    },
    {
     "data": {
      "text/plain": [
       "<keras.callbacks.History at 0x7f9b745c74f0>"
      ]
     },
     "execution_count": 39,
     "metadata": {},
     "output_type": "execute_result"
    }
   ],
   "source": [
    "#мы также можем полностью создать свой класс модели используя уже знакомые техники\n",
    "class CustomModel(keras.Model):\n",
    "    def __init__(self, *args, **kwargs):\n",
    "        super().__init__(*args, **kwargs)\n",
    "        self.loss_tracker = keras.metrics.Mean(name=\"loss\")\n",
    "        self.accuracy = keras.metrics.SparseCategoricalAccuracy()\n",
    "        self.loss_fn = keras.losses.SparseCategoricalCrossentropy(from_logits=True)\n",
    "        self.optimizer = keras.optimizers.Adam(learning_rate=1e-3)\n",
    "\n",
    "    def train_step(self, data):\n",
    "        #работа с данными зависит от структуры датасета и способа представления этих данных\n",
    "        x, y = data\n",
    "        with tf.GradientTape() as tape:\n",
    "            y_pred = self(x, training=True)  #вызываем прямой прогон данных через модель (forward pass)\n",
    "            loss = self.loss_fn(y, y_pred)\n",
    "        gradients = tape.gradient(loss, self.trainable_weights)\n",
    "        self.optimizer.apply_gradients(zip(gradients, self.trainable_weights))\n",
    "        #обновляем метрики\n",
    "        self.loss_tracker.update_state(loss)\n",
    "        self.accuracy.update_state(y, y_pred)\n",
    "        #возвращаем значение функции потерь и метрик качества\n",
    "        return {\"loss\": self.loss_tracker.result(), \"accuracy\": self.accuracy.result()}\n",
    "\n",
    "    @property\n",
    "    def metrics(self):\n",
    "        return [self.loss_tracker, self.accuracy]\n",
    "\n",
    "\n",
    "inputs = tf.keras.Input(shape=(784,), dtype=\"float32\")\n",
    "x = keras.layers.Dense(32, activation=\"relu\")(inputs)\n",
    "x = keras.layers.Dense(32, activation=\"relu\")(x)\n",
    "outputs = keras.layers.Dense(10)(x)\n",
    "model = CustomModel(inputs, outputs)\n",
    "model.compile()\n",
    "model.fit(dataset, epochs=2)"
   ]
  },
  {
   "cell_type": "markdown",
   "id": "64d2bc4d",
   "metadata": {},
   "source": [
    "# Теперь мы понимаем, как файн-тюнить глубокие сети с помощью Keras/tensorflow, и примерно понимаем,  как можно реализовывать и обучать свои архитектуры, используя фреймворки глубокого обучения. Ура!"
   ]
  },
  {
   "cell_type": "code",
   "execution_count": null,
   "id": "77249476",
   "metadata": {},
   "outputs": [],
   "source": []
  }
 ],
 "metadata": {
  "kernelspec": {
   "display_name": "top-env",
   "language": "python",
   "name": "top-env"
  },
  "language_info": {
   "codemirror_mode": {
    "name": "ipython",
    "version": 3
   },
   "file_extension": ".py",
   "mimetype": "text/x-python",
   "name": "python",
   "nbconvert_exporter": "python",
   "pygments_lexer": "ipython3",
   "version": "3.9.13"
  }
 },
 "nbformat": 4,
 "nbformat_minor": 5
}
