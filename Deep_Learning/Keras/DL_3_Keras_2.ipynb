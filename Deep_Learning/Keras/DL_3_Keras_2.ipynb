{
 "cells": [
  {
   "cell_type": "markdown",
   "id": "8ee239c4-5d28-4f67-bfe8-9aba81588c47",
   "metadata": {
    "id": "8ee239c4-5d28-4f67-bfe8-9aba81588c47",
    "pycharm": {
     "name": "#%% md\n"
    }
   },
   "source": [
    "# Более подробно о возможностях Keras\n",
    "В данной лекции мы с вами научимся пользоваться Keras'ом — частью уже озвученного фреймворка TensorFlow. Keras предназначен для упрощения разработки моделей и решения повседневных (для нейросетей) задач. В случае исследовательских работ или построения сложных схем лучше делать это на уровне TensorFlow — с использованием тензоров, самостоятельно определяя слои и способы их соединения. Keras же помогает быстро построить модель и обучить ее, используя одну из заранее составленных архитектур, или построив простую архитектуру самостоятельно."
   ]
  },
  {
   "cell_type": "markdown",
   "id": "05f5d9d4-4efe-445c-8946-26a7c0603551",
   "metadata": {
    "id": "05f5d9d4-4efe-445c-8946-26a7c0603551",
    "pycharm": {
     "name": "#%% md\n"
    }
   },
   "source": [
    "Для начала проверим, что все необходимые библиотеки установлены. Кроме самого фреймворка, нам с вами еще понадобится пакет `tensorflow_datasets` – так мы быстро и удобно сможем получать доступ к популярным наборам данных для демонстрации возможностей обучения."
   ]
  },
  {
   "cell_type": "code",
   "execution_count": 38,
   "id": "e814da44-dfe5-4267-aff8-ae92b556d4c1",
   "metadata": {
    "colab": {
     "base_uri": "https://localhost:8080/"
    },
    "id": "e814da44-dfe5-4267-aff8-ae92b556d4c1",
    "outputId": "76963a23-7cfd-42ce-9222-1ce1a80c7557",
    "pycharm": {
     "name": "#%%\n"
    }
   },
   "outputs": [
    {
     "name": "stdout",
     "output_type": "stream",
     "text": [
      "Requirement already satisfied: numpy in /Users/bojcevanton/miniconda3/envs/ipynb_installation/lib/python3.8/site-packages (1.22.3)\r\n",
      "\u001b[31mERROR: Could not find a version that satisfies the requirement tensorflow (from versions: none)\u001b[0m\r\n",
      "\u001b[31mERROR: No matching distribution found for tensorflow\u001b[0m\r\n"
     ]
    }
   ],
   "source": [
    "!pip install numpy tensorflow tensorflow_datasets"
   ]
  },
  {
   "cell_type": "markdown",
   "id": "c5859f83-c4ed-4f6d-b880-c986ffe0433a",
   "metadata": {
    "id": "c5859f83-c4ed-4f6d-b880-c986ffe0433a",
    "pycharm": {
     "name": "#%% md\n"
    }
   },
   "source": [
    "Далее импортируем нужные пакеты"
   ]
  },
  {
   "cell_type": "code",
   "execution_count": 39,
   "id": "21b13862-4cf0-4ce0-b066-538dd2e155a7",
   "metadata": {
    "id": "21b13862-4cf0-4ce0-b066-538dd2e155a7",
    "pycharm": {
     "name": "#%%\n"
    }
   },
   "outputs": [],
   "source": [
    "import numpy as np\n",
    "import tensorflow as tf\n",
    "from tensorflow import keras\n",
    "import tensorflow_datasets as tfds"
   ]
  },
  {
   "cell_type": "markdown",
   "id": "d41fe890-2cd8-42f5-a322-00a0f6deb4fd",
   "metadata": {
    "id": "d41fe890-2cd8-42f5-a322-00a0f6deb4fd",
    "pycharm": {
     "name": "#%% md\n"
    }
   },
   "source": [
    "Кроме того, давайте посмотрим, где и как в пакете keras расположены необходимые нам элементы.\n",
    "К текущему моменту мы пока что рассмотрили только один тип слоев — полносвязный, однако в дальнейшей в рамках курса мы с вами изучим и другие. Все слои располагаются в модуле `layers`."
   ]
  },
  {
   "cell_type": "code",
   "execution_count": 40,
   "id": "e19dc829-000c-49fe-b7b3-51587691a65a",
   "metadata": {
    "id": "e19dc829-000c-49fe-b7b3-51587691a65a",
    "pycharm": {
     "name": "#%%\n"
    }
   },
   "outputs": [],
   "source": [
    "from tensorflow.keras import layers"
   ]
  },
  {
   "cell_type": "markdown",
   "id": "288b4d47-3a24-452d-955a-4947c6eee8b7",
   "metadata": {
    "id": "288b4d47-3a24-452d-955a-4947c6eee8b7",
    "pycharm": {
     "name": "#%% md\n"
    }
   },
   "source": [
    "Кроме того, мы с вами изучили некоторые функции активации, которые можно использовать при построении нейронных сетей. Все функции активации расположены в пакете `activations`."
   ]
  },
  {
   "cell_type": "code",
   "execution_count": 41,
   "id": "8a56cd51-88b4-4c57-a9ff-16626d27ddf0",
   "metadata": {
    "id": "8a56cd51-88b4-4c57-a9ff-16626d27ddf0",
    "pycharm": {
     "name": "#%%\n"
    }
   },
   "outputs": [],
   "source": [
    "from tensorflow.keras import activations"
   ]
  },
  {
   "cell_type": "markdown",
   "id": "ef5872c7-ee69-42ee-942a-705ab07e16a6",
   "metadata": {
    "id": "ef5872c7-ee69-42ee-942a-705ab07e16a6",
    "pycharm": {
     "name": "#%% md\n"
    }
   },
   "source": [
    "Также импортируем пакет `optimizers`, в котором расположены оптимизаторы для обучения."
   ]
  },
  {
   "cell_type": "code",
   "execution_count": 42,
   "id": "ea252c09-aa33-4d93-92f9-4ca60f2cf053",
   "metadata": {
    "id": "ea252c09-aa33-4d93-92f9-4ca60f2cf053",
    "pycharm": {
     "name": "#%%\n"
    }
   },
   "outputs": [],
   "source": [
    "from tensorflow.keras import optimizers"
   ]
  },
  {
   "cell_type": "markdown",
   "id": "eaa2e403-3cf5-412e-9656-2bc5171b4847",
   "metadata": {
    "id": "eaa2e403-3cf5-412e-9656-2bc5171b4847",
    "pycharm": {
     "name": "#%% md\n"
    }
   },
   "source": [
    "В модуле `losses` расположены различные функции потерь, которые можно использовать для обучения."
   ]
  },
  {
   "cell_type": "code",
   "execution_count": 43,
   "id": "d92eff25-751b-44db-ae27-2d7ab4cf914e",
   "metadata": {
    "id": "d92eff25-751b-44db-ae27-2d7ab4cf914e",
    "pycharm": {
     "name": "#%%\n"
    }
   },
   "outputs": [],
   "source": [
    "from tensorflow.keras import losses"
   ]
  },
  {
   "cell_type": "markdown",
   "id": "426d9b20-c2f2-4964-8840-8546ef29f30a",
   "metadata": {
    "id": "426d9b20-c2f2-4964-8840-8546ef29f30a",
    "pycharm": {
     "name": "#%% md\n"
    }
   },
   "source": [
    "И последнее, что нам понадобится импортировать — это метрики из пакета `metrics`. Функция потерь — это некоторая функция, которая возвращает абстрактный `loss`, по которому сложно и зачастую совершенно невозможно оценить качество модели. Для измерения метрик, понятных людям, воспользуемся модулем `metrics` и заданными там функциями."
   ]
  },
  {
   "cell_type": "code",
   "execution_count": 44,
   "id": "878d4eec-d260-422c-9079-098ac2483fb5",
   "metadata": {
    "id": "878d4eec-d260-422c-9079-098ac2483fb5",
    "pycharm": {
     "name": "#%%\n"
    }
   },
   "outputs": [],
   "source": [
    "from tensorflow.keras import metrics"
   ]
  },
  {
   "cell_type": "markdown",
   "id": "0b032d4c-6fc6-42be-a474-ffe9d6205d3c",
   "metadata": {
    "id": "0b032d4c-6fc6-42be-a474-ffe9d6205d3c",
    "pycharm": {
     "name": "#%% md\n"
    }
   },
   "source": [
    "Пакет `tensorflow_datasets` дает возможность скачивать многие открытые наборы данных. Информацию о данном пакете и список доступных наборов данных можно изучить здесь: https://www.tensorflow.org/datasets\n",
    "\n",
    "Данный пакет нам пригодится для того, чтобы сделать ноутбук воспроизводимым на любом компьютере (конечно, с установленным софтом), и не зависеть от того, правильно ли вы скачаете данные для обучения. Сейчас мы подгрузим известный набор данных «Ирисы Фишера». Это простой набор данных, преимущественно используемый для обучения моделей классификации (в нашем случае -- классификации растений-ирисов). Каждый объект набора данных имеет 4 признака и относится к одному из трех классов.\n",
    "\n",
    "Загрузим упомянутый набор данных, разделив на тренировочную и тестовую выборку по границе 80% (т.е. 80% данных будет использоваться для обучения и 20% для валидации модели). Кроме того, в данном случае необходимо указать флаг as_supervised для смены формата выдачи набора данных."
   ]
  },
  {
   "cell_type": "code",
   "execution_count": 45,
   "id": "9f2cad0f-11ab-4f3f-9b7a-d5c3c2d12d7d",
   "metadata": {
    "id": "9f2cad0f-11ab-4f3f-9b7a-d5c3c2d12d7d",
    "pycharm": {
     "name": "#%%\n"
    }
   },
   "outputs": [],
   "source": [
    "ds_train, ds_test = tfds.load(\n",
    "    name='iris',\n",
    "    split=['train[:80%]', 'train[80%:]'],\n",
    "    as_supervised=True\n",
    ")"
   ]
  },
  {
   "cell_type": "markdown",
   "id": "bf95814f-0b60-44f4-92b4-746c2c210b59",
   "metadata": {
    "id": "bf95814f-0b60-44f4-92b4-746c2c210b59",
    "pycharm": {
     "name": "#%% md\n"
    }
   },
   "source": [
    "Давайте посмотрим на длины полученных тренировочного и валидационного набора данных и проверим, что все в порядке."
   ]
  },
  {
   "cell_type": "code",
   "execution_count": 46,
   "id": "5d325bf2-e4d6-4378-b853-9ed4a3ef3cb6",
   "metadata": {
    "colab": {
     "base_uri": "https://localhost:8080/"
    },
    "id": "5d325bf2-e4d6-4378-b853-9ed4a3ef3cb6",
    "outputId": "3a8adfbb-d147-4122-a4ee-c8d098921303",
    "pycharm": {
     "name": "#%%\n"
    }
   },
   "outputs": [
    {
     "name": "stdout",
     "output_type": "stream",
     "text": [
      "Lengths: 120, 30\n"
     ]
    }
   ],
   "source": [
    "print(f\"Lengths: {len(ds_train)}, {len(ds_test)}\")"
   ]
  },
  {
   "cell_type": "markdown",
   "id": "1fca2f39-638f-4d00-b1bf-483882852e06",
   "metadata": {
    "id": "1fca2f39-638f-4d00-b1bf-483882852e06",
    "pycharm": {
     "name": "#%% md\n"
    }
   },
   "source": [
    "Также давайте возьмем первые 5 записей из тренировочного набора данных и посмотрим на них."
   ]
  },
  {
   "cell_type": "code",
   "execution_count": 47,
   "id": "53cacb73-d3c5-41a8-a9d2-d294518226b1",
   "metadata": {
    "colab": {
     "base_uri": "https://localhost:8080/"
    },
    "id": "53cacb73-d3c5-41a8-a9d2-d294518226b1",
    "outputId": "265b5d5a-0778-4cd5-904c-3eea598b9878",
    "pycharm": {
     "name": "#%%\n"
    }
   },
   "outputs": [
    {
     "name": "stdout",
     "output_type": "stream",
     "text": [
      "Features \t\t Classes\n",
      "[5.1 3.4 1.5 0.2] \t 0\n",
      "[7.7 3.  6.1 2.3] \t 2\n",
      "[5.7 2.8 4.5 1.3] \t 1\n",
      "[6.8 3.2 5.9 2.3] \t 2\n",
      "[5.2 3.4 1.4 0.2] \t 0\n"
     ]
    },
    {
     "name": "stderr",
     "output_type": "stream",
     "text": [
      "2022-07-03 17:35:46.354241: W tensorflow/core/kernels/data/cache_dataset_ops.cc:856] The calling iterator did not fully read the dataset being cached. In order to avoid unexpected truncation of the dataset, the partially cached contents of the dataset  will be discarded. This can happen if you have an input pipeline similar to `dataset.cache().take(k).repeat()`. You should use `dataset.take(k).cache().repeat()` instead.\n"
     ]
    }
   ],
   "source": [
    "examples = ds_train.as_numpy_iterator()\n",
    "examples = [examples.next() for _ in range(5)]\n",
    "features = [i[0] for i in examples]\n",
    "classes = [i[1] for i in examples]\n",
    "\n",
    "print(\"Features \\t\\t Classes\")\n",
    "for i in range(5):\n",
    "    print(f\"{features[i]} \\t {classes[i]}\")"
   ]
  },
  {
   "cell_type": "markdown",
   "id": "811160ee-908c-4a8b-8e07-2b8fadae05bc",
   "metadata": {
    "id": "811160ee-908c-4a8b-8e07-2b8fadae05bc",
    "pycharm": {
     "name": "#%% md\n"
    }
   },
   "source": [
    "Как можно заметить, данные представлены в следующем формате: у каждого объекта набора данных имеются 4 признака и одно поле с кодом класса. Классов всего 3. Признаки представлены в удобном для нас формате (числа), и мы можем использовать их как есть (правда, неплохо бы их нормировать), а вот класс будет удобно преобразовать при помощи one-hot encoding для дальнейшего обучения.\n",
    "\n",
    "Заведем константы для дальнейшего использования — размер входных данных, размер батча для обучения и количество классов для предсказания."
   ]
  },
  {
   "cell_type": "code",
   "execution_count": 48,
   "id": "6e28337f-2ca5-4c7b-a80c-fb90698528c3",
   "metadata": {
    "id": "6e28337f-2ca5-4c7b-a80c-fb90698528c3",
    "pycharm": {
     "name": "#%%\n"
    }
   },
   "outputs": [],
   "source": [
    "input_shape = (4, )     # Наши данные - одномерный массив с размерностью 4\n",
    "batch_size = 10         # Размер батча на текущий момент можно выбрать любым, мы рассмотрим его оптимальный выбор далее в рамках курса\n",
    "amount_of_classes = 3   # Количество классов определено данными — их 3i"
   ]
  },
  {
   "cell_type": "markdown",
   "id": "32a63cd0-28fc-4aa7-9ae1-136637227f35",
   "metadata": {
    "id": "32a63cd0-28fc-4aa7-9ae1-136637227f35",
    "pycharm": {
     "name": "#%% md\n"
    }
   },
   "source": [
    "Теперь произведем кодирование откликов: мы превратим один столбец с номером класса в 3 столбца, в одном из которых (соответствующем номеру класса) будет стоять единица, а в остальных — нули — это и есть процедура one-hot encoding'а.\n",
    "\n",
    "Напишем отдельную функцию, которой мы и подействуем на наш набор данных. Она должна остаивть признаки объектов нетронутыми, а столбец, отвечающий классу, корректно преобразовать в озвученный ранее формат. Воспользуемся для этого встроенной функцией TensorFlow."
   ]
  },
  {
   "cell_type": "code",
   "execution_count": 49,
   "id": "5343cabc-44fb-4a0d-8523-c8d2433ba0a1",
   "metadata": {
    "id": "5343cabc-44fb-4a0d-8523-c8d2433ba0a1",
    "pycharm": {
     "name": "#%%\n"
    }
   },
   "outputs": [],
   "source": [
    "def make_one_hot(x, y):\n",
    "    return x, tf.one_hot(y, depth=amount_of_classes)"
   ]
  },
  {
   "cell_type": "markdown",
   "id": "ec006dda-aa35-4974-8826-a47de4f5f3d9",
   "metadata": {
    "id": "ec006dda-aa35-4974-8826-a47de4f5f3d9",
    "pycharm": {
     "name": "#%% md\n"
    }
   },
   "source": [
    "Далее применим к тренировочному набору данных указанное преобразование, а также перемешаем его и нарежем на батчи указанного ранее нами размера. Стоит отметить флаг drop_remainder в конце — при определении батча, данный флаг поможет вам откинуть последний кусок данных, если он не совпадает по размеру с батчем, т.к. данных оказалось недостаточно (т.е. они не делятся нацело на размер батча)."
   ]
  },
  {
   "cell_type": "code",
   "execution_count": 50,
   "id": "550161ab-8689-4b0f-9721-3df535a8ecd2",
   "metadata": {
    "id": "550161ab-8689-4b0f-9721-3df535a8ecd2",
    "pycharm": {
     "name": "#%%\n"
    }
   },
   "outputs": [],
   "source": [
    "ds_train = (\n",
    "    ds_train\n",
    "    .map(make_one_hot)\n",
    "    .shuffle(len(ds_train))\n",
    "    .batch(batch_size, drop_remainder=False)\n",
    ")\n",
    "    \n",
    "ds_test = (\n",
    "    ds_test\n",
    "    .map(make_one_hot)\n",
    "    .batch(batch_size, drop_remainder=False)\n",
    ")"
   ]
  },
  {
   "cell_type": "markdown",
   "id": "e0964a20-5d76-409c-8ad7-4c176e7ad99c",
   "metadata": {
    "id": "e0964a20-5d76-409c-8ad7-4c176e7ad99c",
    "pycharm": {
     "name": "#%% md\n"
    }
   },
   "source": [
    "Теперь пора создать нашу модель. Сейчас мы будем использовать модель типа Sequential — т.е. модель, в которой слои идут последовательно, и каждый слой связан только с предыдущим и последующим слоями. Существуют и более сложные архитектуры, мы с вами их рассмотрим позднее.\n",
    "\n",
    "Итак, создадим нашу модель и начнем постепенно ее наполнять."
   ]
  },
  {
   "cell_type": "code",
   "execution_count": 51,
   "id": "8257f3da-43df-40c3-af8d-9365b3d134c5",
   "metadata": {
    "id": "8257f3da-43df-40c3-af8d-9365b3d134c5",
    "pycharm": {
     "name": "#%%\n"
    }
   },
   "outputs": [],
   "source": [
    "model = keras.Sequential()"
   ]
  },
  {
   "cell_type": "markdown",
   "id": "a7b8d7c8-35f3-46c8-bb9d-706e6678bccc",
   "metadata": {
    "id": "a7b8d7c8-35f3-46c8-bb9d-706e6678bccc",
    "pycharm": {
     "name": "#%% md\n"
    }
   },
   "source": [
    "Далее с помощью функции `.add` можно присоединять к ней объекты-слои. Фреймворк будет автоматически связывать их с последующими и предыдущими. Первый слой, который мы с вами добавим, это специальный объект типа `InputLayer` — слой, определяющий размер входных данных и размер пакета передаваемых данных."
   ]
  },
  {
   "cell_type": "code",
   "execution_count": 52,
   "id": "8b58099a-51df-4e8e-92e6-488fbc32b7b5",
   "metadata": {
    "id": "8b58099a-51df-4e8e-92e6-488fbc32b7b5",
    "pycharm": {
     "name": "#%%\n"
    }
   },
   "outputs": [],
   "source": [
    "model.add(layers.InputLayer(input_shape = input_shape, batch_size = batch_size))"
   ]
  },
  {
   "cell_type": "markdown",
   "id": "7b4b022b-39de-4c76-a4b8-d17d611961c1",
   "metadata": {
    "id": "7b4b022b-39de-4c76-a4b8-d17d611961c1",
    "pycharm": {
     "name": "#%% md\n"
    }
   },
   "source": [
    "После этого можно добавить несколько полносвязных слоев. В каждом слое необходимо указать количество нейронов, а также функцию активации. Функцию активации можно импортировать из пакета `activations`, о котором говорилось ранее. Также функцию активации можно указать текстовой строкой с соответсвующим названием (sigmoid, relu, tanh, и т.д.)"
   ]
  },
  {
   "cell_type": "code",
   "execution_count": 53,
   "id": "b28d7839-fe5e-4782-93db-7ad6d3b61f0d",
   "metadata": {
    "id": "b28d7839-fe5e-4782-93db-7ad6d3b61f0d",
    "pycharm": {
     "name": "#%%\n"
    }
   },
   "outputs": [],
   "source": [
    "model.add(layers.Dense(32, activation = activations.sigmoid))\n",
    "model.add(layers.Dense(16, activation = 'sigmoid'))"
   ]
  },
  {
   "cell_type": "markdown",
   "id": "6d2e826a-d304-4d09-afb0-ebb2a4f98b6c",
   "metadata": {
    "id": "6d2e826a-d304-4d09-afb0-ebb2a4f98b6c",
    "pycharm": {
     "name": "#%% md\n"
    }
   },
   "source": [
    "Последним слоем добавим слой с количеством нейронов, равным количеству классов. В качестве функции активации укажем уже много раз встречавшуюся функцию softmax."
   ]
  },
  {
   "cell_type": "code",
   "execution_count": 54,
   "id": "a7509442-cbd6-4388-a6d5-8deb079a8694",
   "metadata": {
    "id": "a7509442-cbd6-4388-a6d5-8deb079a8694",
    "pycharm": {
     "name": "#%%\n"
    }
   },
   "outputs": [],
   "source": [
    "model.add(layers.Dense(amount_of_classes, activation = activations.softmax))"
   ]
  },
  {
   "cell_type": "markdown",
   "id": "ee6d8dd7-d3dd-4d99-a178-bc9947131a8c",
   "metadata": {
    "id": "ee6d8dd7-d3dd-4d99-a178-bc9947131a8c",
    "pycharm": {
     "name": "#%% md\n"
    }
   },
   "source": [
    "После определения структуры модели ее необходимо скомпилировать. Используя возможности фреймворка TensorFlow, этот процесс создает по заданной модели соответствующий граф вычислений.\n",
    "\n",
    "В качестве параметров компиляции необходимо передать несколько параметров. Во-первых, экземпляр оптимизатора — создадим для этого новый оптимизатор Adam с коэффициентом скорости обучения $0.003$. Кроме того, необходимо задать функцию потерь. Так как в нашем случае мы решаем задачу многоклассовой классификации, соответствующая функция потерь называется CategoricalCrossentropy. В качестве еще одного аргумента передадим список метрик, которые нам хотелось бы вычислять в процессе обучения — в данном случае укажем только точность."
   ]
  },
  {
   "cell_type": "code",
   "execution_count": 55,
   "id": "0b47e814-26b1-4f54-931d-a5bade3f217b",
   "metadata": {
    "id": "0b47e814-26b1-4f54-931d-a5bade3f217b",
    "pycharm": {
     "name": "#%%\n"
    }
   },
   "outputs": [],
   "source": [
    "model.compile(\n",
    "    optimizer = optimizers.Adam(learning_rate = 0.003),\n",
    "    loss = losses.CategoricalCrossentropy(),\n",
    "    metrics = [metrics.CategoricalAccuracy()]\n",
    ")"
   ]
  },
  {
   "cell_type": "markdown",
   "id": "c71142c4-c491-425d-9c64-4eaea8fed17a",
   "metadata": {
    "id": "c71142c4-c491-425d-9c64-4eaea8fed17a",
    "pycharm": {
     "name": "#%% md\n"
    }
   },
   "source": [
    "Процесс обучения модели запускается с помощью функции `fit`. В данную функцию мы подадим сам набор данных для обучения, количество эпох и набор данных для валидации. Функция запустит и обучит модель, а также вернет результаты в виде объекта `keras.History`."
   ]
  },
  {
   "cell_type": "code",
   "execution_count": 56,
   "id": "20335f69-c9bf-4d72-b41a-762dcd9b49f3",
   "metadata": {
    "colab": {
     "base_uri": "https://localhost:8080/"
    },
    "id": "20335f69-c9bf-4d72-b41a-762dcd9b49f3",
    "outputId": "8c597123-6717-4dec-d24b-93d7b032998f",
    "pycharm": {
     "name": "#%%\n"
    }
   },
   "outputs": [
    {
     "name": "stdout",
     "output_type": "stream",
     "text": [
      "Epoch 1/20\n"
     ]
    },
    {
     "name": "stderr",
     "output_type": "stream",
     "text": [
      "2022-07-03 17:35:46.600162: I tensorflow/core/grappler/optimizers/custom_graph_optimizer_registry.cc:113] Plugin optimizer for device_type GPU is enabled.\n"
     ]
    },
    {
     "name": "stdout",
     "output_type": "stream",
     "text": [
      "12/12 [==============================] - 2s 20ms/step - loss: 1.4831 - categorical_accuracy: 0.3333 - val_loss: 1.2185 - val_categorical_accuracy: 0.3333\n",
      "Epoch 2/20\n",
      "12/12 [==============================] - 0s 8ms/step - loss: 1.1872 - categorical_accuracy: 0.2250 - val_loss: 1.0965 - val_categorical_accuracy: 0.2667\n",
      "Epoch 3/20\n",
      " 1/12 [=>............................] - ETA: 0s - loss: 1.0602 - categorical_accuracy: 0.2000"
     ]
    },
    {
     "name": "stderr",
     "output_type": "stream",
     "text": [
      "2022-07-03 17:35:48.693330: I tensorflow/core/grappler/optimizers/custom_graph_optimizer_registry.cc:113] Plugin optimizer for device_type GPU is enabled.\n"
     ]
    },
    {
     "name": "stdout",
     "output_type": "stream",
     "text": [
      "12/12 [==============================] - 0s 9ms/step - loss: 1.0882 - categorical_accuracy: 0.3500 - val_loss: 1.0791 - val_categorical_accuracy: 0.6333\n",
      "Epoch 4/20\n",
      "12/12 [==============================] - 0s 9ms/step - loss: 1.0631 - categorical_accuracy: 0.6667 - val_loss: 1.0509 - val_categorical_accuracy: 0.6333\n",
      "Epoch 5/20\n",
      "12/12 [==============================] - 0s 8ms/step - loss: 1.0268 - categorical_accuracy: 0.6750 - val_loss: 1.0053 - val_categorical_accuracy: 0.6333\n",
      "Epoch 6/20\n",
      "12/12 [==============================] - 0s 8ms/step - loss: 0.9827 - categorical_accuracy: 0.6750 - val_loss: 0.9602 - val_categorical_accuracy: 0.6333\n",
      "Epoch 7/20\n",
      "12/12 [==============================] - 0s 9ms/step - loss: 0.9355 - categorical_accuracy: 0.6750 - val_loss: 0.9148 - val_categorical_accuracy: 0.6333\n",
      "Epoch 8/20\n",
      "12/12 [==============================] - 0s 9ms/step - loss: 0.8817 - categorical_accuracy: 0.6750 - val_loss: 0.8629 - val_categorical_accuracy: 0.6333\n",
      "Epoch 9/20\n",
      "12/12 [==============================] - 0s 8ms/step - loss: 0.8254 - categorical_accuracy: 0.6833 - val_loss: 0.8096 - val_categorical_accuracy: 0.6333\n",
      "Epoch 10/20\n",
      "12/12 [==============================] - 0s 8ms/step - loss: 0.7693 - categorical_accuracy: 0.6750 - val_loss: 0.7572 - val_categorical_accuracy: 0.6333\n",
      "Epoch 11/20\n",
      "12/12 [==============================] - 0s 8ms/step - loss: 0.7125 - categorical_accuracy: 0.6750 - val_loss: 0.7056 - val_categorical_accuracy: 0.6333\n",
      "Epoch 12/20\n",
      "12/12 [==============================] - 0s 8ms/step - loss: 0.6591 - categorical_accuracy: 0.6750 - val_loss: 0.6575 - val_categorical_accuracy: 0.6333\n",
      "Epoch 13/20\n",
      "12/12 [==============================] - 0s 8ms/step - loss: 0.6127 - categorical_accuracy: 0.7500 - val_loss: 0.6153 - val_categorical_accuracy: 0.8000\n",
      "Epoch 14/20\n",
      "12/12 [==============================] - 0s 8ms/step - loss: 0.5808 - categorical_accuracy: 0.8833 - val_loss: 0.5803 - val_categorical_accuracy: 0.9000\n",
      "Epoch 15/20\n",
      "12/12 [==============================] - 0s 9ms/step - loss: 0.5419 - categorical_accuracy: 0.9000 - val_loss: 0.5565 - val_categorical_accuracy: 0.7333\n",
      "Epoch 16/20\n",
      "12/12 [==============================] - 0s 9ms/step - loss: 0.5167 - categorical_accuracy: 0.7583 - val_loss: 0.5322 - val_categorical_accuracy: 0.7667\n",
      "Epoch 17/20\n",
      "12/12 [==============================] - 0s 8ms/step - loss: 0.4918 - categorical_accuracy: 0.8833 - val_loss: 0.5084 - val_categorical_accuracy: 0.8667\n",
      "Epoch 18/20\n",
      "12/12 [==============================] - 0s 9ms/step - loss: 0.4725 - categorical_accuracy: 0.9083 - val_loss: 0.4891 - val_categorical_accuracy: 0.8667\n",
      "Epoch 19/20\n",
      "12/12 [==============================] - 0s 10ms/step - loss: 0.4510 - categorical_accuracy: 0.9833 - val_loss: 0.4704 - val_categorical_accuracy: 0.9000\n",
      "Epoch 20/20\n",
      "12/12 [==============================] - 0s 8ms/step - loss: 0.4370 - categorical_accuracy: 0.9833 - val_loss: 0.4523 - val_categorical_accuracy: 0.9000\n"
     ]
    }
   ],
   "source": [
    "history = model.fit(ds_train, epochs=20, validation_data=ds_test)"
   ]
  },
  {
   "cell_type": "markdown",
   "id": "c719ce5a-0e4c-45d5-87cb-0a61ec84e95d",
   "metadata": {
    "id": "c719ce5a-0e4c-45d5-87cb-0a61ec84e95d",
    "pycharm": {
     "name": "#%% md\n"
    }
   },
   "source": [
    "Данный объект (`keras.History`) содержит в себе историю процесса обучения, использованные параметры и ссылки на модель и объекты, использованные в процессе обучения. К примеру, можно вывести параметры обучения:"
   ]
  },
  {
   "cell_type": "code",
   "execution_count": 57,
   "id": "efde3789-cc7c-44bd-b927-5d013ed70cdb",
   "metadata": {
    "colab": {
     "base_uri": "https://localhost:8080/"
    },
    "id": "efde3789-cc7c-44bd-b927-5d013ed70cdb",
    "outputId": "149e321b-387d-49f0-c17a-302d6296a40d",
    "pycharm": {
     "name": "#%%\n"
    }
   },
   "outputs": [
    {
     "name": "stdout",
     "output_type": "stream",
     "text": [
      "Params of training: {'verbose': 1, 'epochs': 20, 'steps': 12}\n"
     ]
    }
   ],
   "source": [
    "print(f\"Params of training: {history.params}\")"
   ]
  },
  {
   "cell_type": "markdown",
   "id": "d0d9f5af-693c-407a-b34f-8633fae0f574",
   "metadata": {
    "id": "d0d9f5af-693c-407a-b34f-8633fae0f574",
    "pycharm": {
     "name": "#%% md\n"
    }
   },
   "source": [
    "Также можно узнать, какой коэффициент скорости обучения использовался:"
   ]
  },
  {
   "cell_type": "code",
   "execution_count": 58,
   "id": "527ee596-7de8-49a2-9c0a-858387375800",
   "metadata": {
    "colab": {
     "base_uri": "https://localhost:8080/"
    },
    "id": "527ee596-7de8-49a2-9c0a-858387375800",
    "outputId": "8e6db00f-6406-4ccd-ebf0-3dbd7257f250",
    "pycharm": {
     "name": "#%%\n"
    }
   },
   "outputs": [
    {
     "name": "stdout",
     "output_type": "stream",
     "text": [
      "Used learning rate: <tf.Variable 'Adam/learning_rate:0' shape=() dtype=float32, numpy=0.003>\n"
     ]
    }
   ],
   "source": [
    "print(f\"Used learning rate: {history.model.optimizer.lr}\")"
   ]
  },
  {
   "cell_type": "markdown",
   "id": "f04e2e35-dc54-492c-a83d-6ec2a62f9862",
   "metadata": {
    "id": "f04e2e35-dc54-492c-a83d-6ec2a62f9862",
    "pycharm": {
     "name": "#%% md\n"
    }
   },
   "source": [
    "Или даже посмотреть на веса обученного первого слоя модели:"
   ]
  },
  {
   "cell_type": "code",
   "execution_count": 59,
   "id": "1a86ece2-46ac-4d68-beab-f118707e0919",
   "metadata": {
    "colab": {
     "base_uri": "https://localhost:8080/"
    },
    "id": "1a86ece2-46ac-4d68-beab-f118707e0919",
    "outputId": "4796cf6e-e6f0-402e-e082-97cdbf878126",
    "pycharm": {
     "name": "#%%\n"
    }
   },
   "outputs": [
    {
     "name": "stdout",
     "output_type": "stream",
     "text": [
      "Weights of first layer: [<tf.Variable 'dense_6/kernel:0' shape=(4, 32) dtype=float32, numpy=\n",
      "array([[-0.26571333,  0.09799431,  0.1230574 , -0.40980718,  0.13215396,\n",
      "         0.00855689, -0.021257  ,  0.50601727,  0.26469764, -0.00977292,\n",
      "        -0.24450903, -0.21784444, -0.30268455,  0.03998473,  0.13658999,\n",
      "         0.01240103,  0.2206359 , -0.19532038, -0.09640728,  0.21457122,\n",
      "         0.11764064, -0.22656752, -0.31943744,  0.6015011 ,  0.12573062,\n",
      "        -0.09823257,  0.13728398, -0.04390372, -0.01091221,  0.35040778,\n",
      "         0.20212397,  0.0201603 ],\n",
      "       [-0.24112242, -0.5713144 ,  0.35579786,  0.52292866,  0.33045575,\n",
      "         0.46320075,  0.56905216, -0.28622776,  0.47271198,  0.12396912,\n",
      "         0.0944686 , -0.5852205 ,  0.45902562, -0.02700393,  0.4704883 ,\n",
      "         0.57751787,  0.49774513,  0.5717942 ,  0.06454657,  0.18951973,\n",
      "         0.5149319 ,  0.08325543,  0.03675253, -0.04613746,  0.4806617 ,\n",
      "        -0.38969198, -0.10281853, -0.30580047,  0.4222176 ,  0.16412641,\n",
      "        -0.02019381, -0.5504189 ],\n",
      "       [ 0.5745413 ,  0.43014243, -0.4438748 , -0.0935135 , -0.58564276,\n",
      "        -0.588935  ,  0.26202977,  0.1194007 , -0.7184138 , -0.28436056,\n",
      "        -0.16922268,  0.8609495 ,  0.04572495, -0.1572087 , -0.4807709 ,\n",
      "        -0.47349882, -0.71314204, -0.49268353, -0.10699554, -0.51517504,\n",
      "        -0.4587127 , -0.09847099,  0.69204587,  0.5303373 , -0.6250672 ,\n",
      "         0.6106097 ,  0.02482564,  0.6583102 ,  0.08829416, -0.65221155,\n",
      "        -0.39014325,  0.6034696 ],\n",
      "       [ 0.69244206,  0.3389375 , -0.7827169 , -0.11315849, -0.16484697,\n",
      "        -0.47430497, -0.1501143 , -0.279635  , -0.50655794, -0.6774317 ,\n",
      "        -0.2995945 ,  0.6980499 , -0.5506003 , -0.02466085, -0.60620695,\n",
      "        -0.7990061 , -0.8890156 , -0.15976983, -0.23808222, -0.45414975,\n",
      "        -0.88993406, -0.17822829,  0.38272068, -0.07371189, -0.34670985,\n",
      "         0.14998867, -0.5016017 ,  0.30149445, -0.8417269 , -0.6670936 ,\n",
      "        -0.27470285,  0.55111253]], dtype=float32)>, <tf.Variable 'dense_6/bias:0' shape=(32,) dtype=float32, numpy=\n",
      "array([-0.23624371, -0.24651055,  0.11990491,  0.10999222,  0.03350233,\n",
      "        0.1984777 ,  0.20367314,  0.12246977,  0.04349658, -0.02363454,\n",
      "        0.13583542, -0.06098303,  0.08896933,  0.09217502,  0.22119673,\n",
      "        0.14300379,  0.35891902,  0.21248868,  0.11144078,  0.3911064 ,\n",
      "        0.22815785,  0.08358678, -0.14834225,  0.19785103,  0.35003614,\n",
      "       -0.10667133, -0.07811934, -0.27291018,  0.1449475 ,  0.20075673,\n",
      "        0.1732782 , -0.2474951 ], dtype=float32)>]\n"
     ]
    }
   ],
   "source": [
    "print(f\"Weights of first layer: {history.model.layers[0].weights}\")"
   ]
  },
  {
   "cell_type": "markdown",
   "id": "efbf3143-1c9f-42a4-bd5c-851dd65319e3",
   "metadata": {
    "id": "efbf3143-1c9f-42a4-bd5c-851dd65319e3",
    "pycharm": {
     "name": "#%% md\n"
    }
   },
   "source": [
    "Далее обученную модель можно сериализовать с помощью средств фреймворка или использовать для предсказания на существующем сформированном наборе данных. Результатом предсказания будут значения трех нейронов каждого из классов. Значения — это соответствующие вероятностям принадлежности экземпляра соответствующему классу."
   ]
  },
  {
   "cell_type": "code",
   "execution_count": 60,
   "id": "f62455d7-6049-41f2-8799-a3f3f4837022",
   "metadata": {
    "colab": {
     "base_uri": "https://localhost:8080/"
    },
    "id": "f62455d7-6049-41f2-8799-a3f3f4837022",
    "outputId": "b3c9e18a-334d-4184-cda0-8c459e4e8722",
    "pycharm": {
     "name": "#%%\n"
    }
   },
   "outputs": [
    {
     "name": "stdout",
     "output_type": "stream",
     "text": [
      "3/3 [==============================] - 0s 2ms/step\n"
     ]
    },
    {
     "name": "stderr",
     "output_type": "stream",
     "text": [
      "2022-07-03 17:35:50.821399: I tensorflow/core/grappler/optimizers/custom_graph_optimizer_registry.cc:113] Plugin optimizer for device_type GPU is enabled.\n"
     ]
    },
    {
     "data": {
      "text/plain": [
       "array([[0.88755757, 0.08527765, 0.0271648 ],\n",
       "       [0.88241106, 0.08924688, 0.02834208],\n",
       "       [0.00709296, 0.31292704, 0.67998004],\n",
       "       [0.8883408 , 0.08474535, 0.02691392],\n",
       "       [0.01906477, 0.42576474, 0.5551705 ],\n",
       "       [0.01093391, 0.3607154 , 0.6283507 ],\n",
       "       [0.86752766, 0.10057039, 0.03190193],\n",
       "       [0.01399535, 0.3889148 , 0.5970899 ],\n",
       "       [0.01094799, 0.36363226, 0.6254198 ],\n",
       "       [0.01517392, 0.3997789 , 0.5850472 ],\n",
       "       [0.02753344, 0.4644989 , 0.5079677 ],\n",
       "       [0.05796535, 0.52952904, 0.41250563],\n",
       "       [0.02613451, 0.45905235, 0.5148132 ],\n",
       "       [0.881033  , 0.090222  , 0.02874492],\n",
       "       [0.15035309, 0.5534708 , 0.29617614],\n",
       "       [0.06458768, 0.54077387, 0.39463854],\n",
       "       [0.03775039, 0.49780568, 0.46444395],\n",
       "       [0.02246172, 0.4428921 , 0.5346463 ],\n",
       "       [0.8825881 , 0.08914482, 0.02826711],\n",
       "       [0.01902623, 0.4247732 , 0.5562006 ],\n",
       "       [0.05508385, 0.52810454, 0.41681165],\n",
       "       [0.01385774, 0.39171046, 0.59443176],\n",
       "       [0.07699726, 0.54783136, 0.37517148],\n",
       "       [0.88926864, 0.08398249, 0.02674885],\n",
       "       [0.01411771, 0.38997173, 0.59591055],\n",
       "       [0.8954943 , 0.07932864, 0.02517703],\n",
       "       [0.16075279, 0.5513079 , 0.28793934],\n",
       "       [0.01119989, 0.36354095, 0.6252592 ],\n",
       "       [0.0866948 , 0.55171096, 0.36159432],\n",
       "       [0.88241106, 0.08924688, 0.02834208]], dtype=float32)"
      ]
     },
     "execution_count": 60,
     "metadata": {},
     "output_type": "execute_result"
    }
   ],
   "source": [
    "model.predict(ds_test)\n"
   ]
  }
 ],
 "metadata": {
  "colab": {
   "name": "Keras.ipynb",
   "provenance": []
  },
  "kernelspec": {
   "display_name": "Python 3.8.5 ('base')",
   "language": "python",
   "name": "python3"
  },
  "language_info": {
   "codemirror_mode": {
    "name": "ipython",
    "version": 3
   },
   "file_extension": ".py",
   "mimetype": "text/x-python",
   "name": "python",
   "nbconvert_exporter": "python",
   "pygments_lexer": "ipython3",
   "version": "3.8.5"
  },
  "vscode": {
   "interpreter": {
    "hash": "40d3a090f54c6569ab1632332b64b2c03c39dcf918b08424e98f38b5ae0af88f"
   }
  }
 },
 "nbformat": 4,
 "nbformat_minor": 5
}
