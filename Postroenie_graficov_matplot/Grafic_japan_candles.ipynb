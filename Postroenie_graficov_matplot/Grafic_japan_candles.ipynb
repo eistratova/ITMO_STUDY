{
  "cells": [
    {
      "attachments": {},
      "cell_type": "markdown",
      "metadata": {},
      "source": [
        "В файле содержатся данные о котировках контракта SPFB.RTS-12.18 (RIZ8) с минутным интервалом. В файле присутствуют следующие поля:\n",
        "\n",
        "<DATE> Дата проведения торгов\n",
        "<TIME> Время, соответствующее началу минутного интервала\n",
        "<OPEN> Цена открытия, т.е. цена первой сделки\n",
        "<HIGH> Максимальная цена сделки за выбранный интервал\n",
        "<LOW> Минимальная цена сделки за выбранный интервал\n",
        "<CLOSE> Цена закрытия, т.е. цена последней сделки\n",
        "<VOL> Объем торгов за выбранный интервал\n",
        "Преобразуйте эти данные к часовым интервалам и постройте график «японские свечи» для даты 13 сентября."
      ]
    },
    {
      "attachments": {},
      "cell_type": "markdown",
      "metadata": {
        "id": "pT2g3peN3l9y"
      },
      "source": [
        "В этом блокноте мы научимся строить график японских свечей.\n",
        "сначала загрузим необходимый нам файл при помощи метода `read_csv(file_name, delimeter, index_col, decimal, usecols, header, ...)`. Подробное описание можно найти по [ссылке](https://pandas.pydata.org/pandas-docs/stable/reference/api/pandas.read_csv.html)."
      ]
    },
    {
      "cell_type": "code",
      "execution_count": 12,
      "metadata": {
        "id": "X4UgycQ-29JL"
      },
      "outputs": [],
      "source": [
        "import pandas as pd\n",
        "data = pd.read_csv('/Users/ekaterina/github_repos/ITMO_STUDY/Postroenie_graficov_matplot/SPFB.RTS-12.18_180901_181231.csv', \n",
        "                       delimiter=',', \n",
        "                       decimal='.')"
      ]
    },
    {
      "cell_type": "markdown",
      "metadata": {
        "id": "-LSi2YnX3z4O"
      },
      "source": [
        " Посмотрим на наши данные. Похоже, они загрузились правильно."
      ]
    },
    {
      "cell_type": "code",
      "execution_count": 14,
      "metadata": {
        "colab": {
          "base_uri": "https://localhost:8080/",
          "height": 204
        },
        "id": "lr7GOIgi324h",
        "outputId": "87f150c4-f194-464c-ea54-8ed9610d3e2c"
      },
      "outputs": [
        {
          "data": {
            "text/html": [
              "<div>\n",
              "<style scoped>\n",
              "    .dataframe tbody tr th:only-of-type {\n",
              "        vertical-align: middle;\n",
              "    }\n",
              "\n",
              "    .dataframe tbody tr th {\n",
              "        vertical-align: top;\n",
              "    }\n",
              "\n",
              "    .dataframe thead th {\n",
              "        text-align: right;\n",
              "    }\n",
              "</style>\n",
              "<table border=\"1\" class=\"dataframe\">\n",
              "  <thead>\n",
              "    <tr style=\"text-align: right;\">\n",
              "      <th></th>\n",
              "      <th>&lt;TICKER&gt;</th>\n",
              "      <th>&lt;PER&gt;</th>\n",
              "      <th>&lt;DATE&gt;</th>\n",
              "      <th>&lt;TIME&gt;</th>\n",
              "      <th>&lt;OPEN&gt;</th>\n",
              "      <th>&lt;HIGH&gt;</th>\n",
              "      <th>&lt;LOW&gt;</th>\n",
              "      <th>&lt;CLOSE&gt;</th>\n",
              "      <th>&lt;VOL&gt;</th>\n",
              "    </tr>\n",
              "  </thead>\n",
              "  <tbody>\n",
              "    <tr>\n",
              "      <th>0</th>\n",
              "      <td>SPFB.RTS-12.18</td>\n",
              "      <td>1</td>\n",
              "      <td>03/09/18</td>\n",
              "      <td>10:01</td>\n",
              "      <td>107900.0</td>\n",
              "      <td>108060.0</td>\n",
              "      <td>107900.0</td>\n",
              "      <td>108030.0</td>\n",
              "      <td>3</td>\n",
              "    </tr>\n",
              "    <tr>\n",
              "      <th>1</th>\n",
              "      <td>SPFB.RTS-12.18</td>\n",
              "      <td>1</td>\n",
              "      <td>03/09/18</td>\n",
              "      <td>10:02</td>\n",
              "      <td>107960.0</td>\n",
              "      <td>107960.0</td>\n",
              "      <td>107960.0</td>\n",
              "      <td>107960.0</td>\n",
              "      <td>5</td>\n",
              "    </tr>\n",
              "    <tr>\n",
              "      <th>2</th>\n",
              "      <td>SPFB.RTS-12.18</td>\n",
              "      <td>1</td>\n",
              "      <td>03/09/18</td>\n",
              "      <td>10:04</td>\n",
              "      <td>108000.0</td>\n",
              "      <td>108000.0</td>\n",
              "      <td>108000.0</td>\n",
              "      <td>108000.0</td>\n",
              "      <td>8</td>\n",
              "    </tr>\n",
              "    <tr>\n",
              "      <th>3</th>\n",
              "      <td>SPFB.RTS-12.18</td>\n",
              "      <td>1</td>\n",
              "      <td>03/09/18</td>\n",
              "      <td>10:05</td>\n",
              "      <td>108000.0</td>\n",
              "      <td>108000.0</td>\n",
              "      <td>108000.0</td>\n",
              "      <td>108000.0</td>\n",
              "      <td>1</td>\n",
              "    </tr>\n",
              "    <tr>\n",
              "      <th>4</th>\n",
              "      <td>SPFB.RTS-12.18</td>\n",
              "      <td>1</td>\n",
              "      <td>03/09/18</td>\n",
              "      <td>10:08</td>\n",
              "      <td>108080.0</td>\n",
              "      <td>108080.0</td>\n",
              "      <td>108080.0</td>\n",
              "      <td>108080.0</td>\n",
              "      <td>1</td>\n",
              "    </tr>\n",
              "  </tbody>\n",
              "</table>\n",
              "</div>"
            ],
            "text/plain": [
              "         <TICKER>  <PER>    <DATE> <TIME>    <OPEN>    <HIGH>     <LOW>  \\\n",
              "0  SPFB.RTS-12.18      1  03/09/18  10:01  107900.0  108060.0  107900.0   \n",
              "1  SPFB.RTS-12.18      1  03/09/18  10:02  107960.0  107960.0  107960.0   \n",
              "2  SPFB.RTS-12.18      1  03/09/18  10:04  108000.0  108000.0  108000.0   \n",
              "3  SPFB.RTS-12.18      1  03/09/18  10:05  108000.0  108000.0  108000.0   \n",
              "4  SPFB.RTS-12.18      1  03/09/18  10:08  108080.0  108080.0  108080.0   \n",
              "\n",
              "    <CLOSE>  <VOL>  \n",
              "0  108030.0      3  \n",
              "1  107960.0      5  \n",
              "2  108000.0      8  \n",
              "3  108000.0      1  \n",
              "4  108080.0      1  "
            ]
          },
          "execution_count": 14,
          "metadata": {},
          "output_type": "execute_result"
        }
      ],
      "source": [
        "data.head()"
      ]
    },
    {
      "cell_type": "markdown",
      "metadata": {
        "id": "MzWlX7oP4u40"
      },
      "source": [
        "Можно окинуть взглядом и весь набор данных:"
      ]
    },
    {
      "cell_type": "code",
      "execution_count": 15,
      "metadata": {
        "colab": {
          "base_uri": "https://localhost:8080/",
          "height": 419
        },
        "id": "6Cvpp9S04x9t",
        "outputId": "d9f02ca7-1022-46c4-b06d-fcd6c38f1acc"
      },
      "outputs": [
        {
          "data": {
            "text/html": [
              "<div>\n",
              "<style scoped>\n",
              "    .dataframe tbody tr th:only-of-type {\n",
              "        vertical-align: middle;\n",
              "    }\n",
              "\n",
              "    .dataframe tbody tr th {\n",
              "        vertical-align: top;\n",
              "    }\n",
              "\n",
              "    .dataframe thead th {\n",
              "        text-align: right;\n",
              "    }\n",
              "</style>\n",
              "<table border=\"1\" class=\"dataframe\">\n",
              "  <thead>\n",
              "    <tr style=\"text-align: right;\">\n",
              "      <th></th>\n",
              "      <th>&lt;TICKER&gt;</th>\n",
              "      <th>&lt;PER&gt;</th>\n",
              "      <th>&lt;DATE&gt;</th>\n",
              "      <th>&lt;TIME&gt;</th>\n",
              "      <th>&lt;OPEN&gt;</th>\n",
              "      <th>&lt;HIGH&gt;</th>\n",
              "      <th>&lt;LOW&gt;</th>\n",
              "      <th>&lt;CLOSE&gt;</th>\n",
              "      <th>&lt;VOL&gt;</th>\n",
              "    </tr>\n",
              "  </thead>\n",
              "  <tbody>\n",
              "    <tr>\n",
              "      <th>0</th>\n",
              "      <td>SPFB.RTS-12.18</td>\n",
              "      <td>1</td>\n",
              "      <td>03/09/18</td>\n",
              "      <td>10:01</td>\n",
              "      <td>107900.0</td>\n",
              "      <td>108060.0</td>\n",
              "      <td>107900.0</td>\n",
              "      <td>108030.0</td>\n",
              "      <td>3</td>\n",
              "    </tr>\n",
              "    <tr>\n",
              "      <th>1</th>\n",
              "      <td>SPFB.RTS-12.18</td>\n",
              "      <td>1</td>\n",
              "      <td>03/09/18</td>\n",
              "      <td>10:02</td>\n",
              "      <td>107960.0</td>\n",
              "      <td>107960.0</td>\n",
              "      <td>107960.0</td>\n",
              "      <td>107960.0</td>\n",
              "      <td>5</td>\n",
              "    </tr>\n",
              "    <tr>\n",
              "      <th>2</th>\n",
              "      <td>SPFB.RTS-12.18</td>\n",
              "      <td>1</td>\n",
              "      <td>03/09/18</td>\n",
              "      <td>10:04</td>\n",
              "      <td>108000.0</td>\n",
              "      <td>108000.0</td>\n",
              "      <td>108000.0</td>\n",
              "      <td>108000.0</td>\n",
              "      <td>8</td>\n",
              "    </tr>\n",
              "    <tr>\n",
              "      <th>3</th>\n",
              "      <td>SPFB.RTS-12.18</td>\n",
              "      <td>1</td>\n",
              "      <td>03/09/18</td>\n",
              "      <td>10:05</td>\n",
              "      <td>108000.0</td>\n",
              "      <td>108000.0</td>\n",
              "      <td>108000.0</td>\n",
              "      <td>108000.0</td>\n",
              "      <td>1</td>\n",
              "    </tr>\n",
              "    <tr>\n",
              "      <th>4</th>\n",
              "      <td>SPFB.RTS-12.18</td>\n",
              "      <td>1</td>\n",
              "      <td>03/09/18</td>\n",
              "      <td>10:08</td>\n",
              "      <td>108080.0</td>\n",
              "      <td>108080.0</td>\n",
              "      <td>108080.0</td>\n",
              "      <td>108080.0</td>\n",
              "      <td>1</td>\n",
              "    </tr>\n",
              "    <tr>\n",
              "      <th>...</th>\n",
              "      <td>...</td>\n",
              "      <td>...</td>\n",
              "      <td>...</td>\n",
              "      <td>...</td>\n",
              "      <td>...</td>\n",
              "      <td>...</td>\n",
              "      <td>...</td>\n",
              "      <td>...</td>\n",
              "      <td>...</td>\n",
              "    </tr>\n",
              "    <tr>\n",
              "      <th>58965</th>\n",
              "      <td>SPFB.RTS-12.18</td>\n",
              "      <td>1</td>\n",
              "      <td>20/12/18</td>\n",
              "      <td>18:40</td>\n",
              "      <td>109380.0</td>\n",
              "      <td>109380.0</td>\n",
              "      <td>109380.0</td>\n",
              "      <td>109380.0</td>\n",
              "      <td>1</td>\n",
              "    </tr>\n",
              "    <tr>\n",
              "      <th>58966</th>\n",
              "      <td>SPFB.RTS-12.18</td>\n",
              "      <td>1</td>\n",
              "      <td>20/12/18</td>\n",
              "      <td>18:41</td>\n",
              "      <td>109380.0</td>\n",
              "      <td>109390.0</td>\n",
              "      <td>109380.0</td>\n",
              "      <td>109390.0</td>\n",
              "      <td>10</td>\n",
              "    </tr>\n",
              "    <tr>\n",
              "      <th>58967</th>\n",
              "      <td>SPFB.RTS-12.18</td>\n",
              "      <td>1</td>\n",
              "      <td>20/12/18</td>\n",
              "      <td>18:43</td>\n",
              "      <td>109380.0</td>\n",
              "      <td>109390.0</td>\n",
              "      <td>109380.0</td>\n",
              "      <td>109390.0</td>\n",
              "      <td>12</td>\n",
              "    </tr>\n",
              "    <tr>\n",
              "      <th>58968</th>\n",
              "      <td>SPFB.RTS-12.18</td>\n",
              "      <td>1</td>\n",
              "      <td>20/12/18</td>\n",
              "      <td>18:44</td>\n",
              "      <td>109390.0</td>\n",
              "      <td>109390.0</td>\n",
              "      <td>109390.0</td>\n",
              "      <td>109390.0</td>\n",
              "      <td>3</td>\n",
              "    </tr>\n",
              "    <tr>\n",
              "      <th>58969</th>\n",
              "      <td>SPFB.RTS-12.18</td>\n",
              "      <td>1</td>\n",
              "      <td>20/12/18</td>\n",
              "      <td>18:45</td>\n",
              "      <td>109390.0</td>\n",
              "      <td>109390.0</td>\n",
              "      <td>109380.0</td>\n",
              "      <td>109380.0</td>\n",
              "      <td>3</td>\n",
              "    </tr>\n",
              "  </tbody>\n",
              "</table>\n",
              "<p>58970 rows × 9 columns</p>\n",
              "</div>"
            ],
            "text/plain": [
              "             <TICKER>  <PER>    <DATE> <TIME>    <OPEN>    <HIGH>     <LOW>  \\\n",
              "0      SPFB.RTS-12.18      1  03/09/18  10:01  107900.0  108060.0  107900.0   \n",
              "1      SPFB.RTS-12.18      1  03/09/18  10:02  107960.0  107960.0  107960.0   \n",
              "2      SPFB.RTS-12.18      1  03/09/18  10:04  108000.0  108000.0  108000.0   \n",
              "3      SPFB.RTS-12.18      1  03/09/18  10:05  108000.0  108000.0  108000.0   \n",
              "4      SPFB.RTS-12.18      1  03/09/18  10:08  108080.0  108080.0  108080.0   \n",
              "...               ...    ...       ...    ...       ...       ...       ...   \n",
              "58965  SPFB.RTS-12.18      1  20/12/18  18:40  109380.0  109380.0  109380.0   \n",
              "58966  SPFB.RTS-12.18      1  20/12/18  18:41  109380.0  109390.0  109380.0   \n",
              "58967  SPFB.RTS-12.18      1  20/12/18  18:43  109380.0  109390.0  109380.0   \n",
              "58968  SPFB.RTS-12.18      1  20/12/18  18:44  109390.0  109390.0  109390.0   \n",
              "58969  SPFB.RTS-12.18      1  20/12/18  18:45  109390.0  109390.0  109380.0   \n",
              "\n",
              "        <CLOSE>  <VOL>  \n",
              "0      108030.0      3  \n",
              "1      107960.0      5  \n",
              "2      108000.0      8  \n",
              "3      108000.0      1  \n",
              "4      108080.0      1  \n",
              "...         ...    ...  \n",
              "58965  109380.0      1  \n",
              "58966  109390.0     10  \n",
              "58967  109390.0     12  \n",
              "58968  109390.0      3  \n",
              "58969  109380.0      3  \n",
              "\n",
              "[58970 rows x 9 columns]"
            ]
          },
          "execution_count": 15,
          "metadata": {},
          "output_type": "execute_result"
        }
      ],
      "source": [
        "data"
      ]
    },
    {
      "cell_type": "markdown",
      "metadata": {
        "id": "c8-vNj5940tT"
      },
      "source": [
        "Преобразуем дату в удобный для дальнейшего формат, склеив дату и время"
      ]
    },
    {
      "cell_type": "code",
      "execution_count": 16,
      "metadata": {
        "colab": {
          "base_uri": "https://localhost:8080/",
          "height": 204
        },
        "id": "C_tNb96l4Kl1",
        "outputId": "8c814340-8614-4e20-c9e6-c25a2f86c5eb"
      },
      "outputs": [
        {
          "data": {
            "text/html": [
              "<div>\n",
              "<style scoped>\n",
              "    .dataframe tbody tr th:only-of-type {\n",
              "        vertical-align: middle;\n",
              "    }\n",
              "\n",
              "    .dataframe tbody tr th {\n",
              "        vertical-align: top;\n",
              "    }\n",
              "\n",
              "    .dataframe thead th {\n",
              "        text-align: right;\n",
              "    }\n",
              "</style>\n",
              "<table border=\"1\" class=\"dataframe\">\n",
              "  <thead>\n",
              "    <tr style=\"text-align: right;\">\n",
              "      <th></th>\n",
              "      <th>&lt;TICKER&gt;</th>\n",
              "      <th>&lt;PER&gt;</th>\n",
              "      <th>&lt;DATE&gt;</th>\n",
              "      <th>&lt;TIME&gt;</th>\n",
              "      <th>&lt;OPEN&gt;</th>\n",
              "      <th>&lt;HIGH&gt;</th>\n",
              "      <th>&lt;LOW&gt;</th>\n",
              "      <th>&lt;CLOSE&gt;</th>\n",
              "      <th>&lt;VOL&gt;</th>\n",
              "      <th>DATE</th>\n",
              "    </tr>\n",
              "  </thead>\n",
              "  <tbody>\n",
              "    <tr>\n",
              "      <th>0</th>\n",
              "      <td>SPFB.RTS-12.18</td>\n",
              "      <td>1</td>\n",
              "      <td>03/09/18</td>\n",
              "      <td>10:01</td>\n",
              "      <td>107900.0</td>\n",
              "      <td>108060.0</td>\n",
              "      <td>107900.0</td>\n",
              "      <td>108030.0</td>\n",
              "      <td>3</td>\n",
              "      <td>03/09/18 10:01</td>\n",
              "    </tr>\n",
              "    <tr>\n",
              "      <th>1</th>\n",
              "      <td>SPFB.RTS-12.18</td>\n",
              "      <td>1</td>\n",
              "      <td>03/09/18</td>\n",
              "      <td>10:02</td>\n",
              "      <td>107960.0</td>\n",
              "      <td>107960.0</td>\n",
              "      <td>107960.0</td>\n",
              "      <td>107960.0</td>\n",
              "      <td>5</td>\n",
              "      <td>03/09/18 10:02</td>\n",
              "    </tr>\n",
              "    <tr>\n",
              "      <th>2</th>\n",
              "      <td>SPFB.RTS-12.18</td>\n",
              "      <td>1</td>\n",
              "      <td>03/09/18</td>\n",
              "      <td>10:04</td>\n",
              "      <td>108000.0</td>\n",
              "      <td>108000.0</td>\n",
              "      <td>108000.0</td>\n",
              "      <td>108000.0</td>\n",
              "      <td>8</td>\n",
              "      <td>03/09/18 10:04</td>\n",
              "    </tr>\n",
              "    <tr>\n",
              "      <th>3</th>\n",
              "      <td>SPFB.RTS-12.18</td>\n",
              "      <td>1</td>\n",
              "      <td>03/09/18</td>\n",
              "      <td>10:05</td>\n",
              "      <td>108000.0</td>\n",
              "      <td>108000.0</td>\n",
              "      <td>108000.0</td>\n",
              "      <td>108000.0</td>\n",
              "      <td>1</td>\n",
              "      <td>03/09/18 10:05</td>\n",
              "    </tr>\n",
              "    <tr>\n",
              "      <th>4</th>\n",
              "      <td>SPFB.RTS-12.18</td>\n",
              "      <td>1</td>\n",
              "      <td>03/09/18</td>\n",
              "      <td>10:08</td>\n",
              "      <td>108080.0</td>\n",
              "      <td>108080.0</td>\n",
              "      <td>108080.0</td>\n",
              "      <td>108080.0</td>\n",
              "      <td>1</td>\n",
              "      <td>03/09/18 10:08</td>\n",
              "    </tr>\n",
              "  </tbody>\n",
              "</table>\n",
              "</div>"
            ],
            "text/plain": [
              "         <TICKER>  <PER>    <DATE> <TIME>    <OPEN>    <HIGH>     <LOW>  \\\n",
              "0  SPFB.RTS-12.18      1  03/09/18  10:01  107900.0  108060.0  107900.0   \n",
              "1  SPFB.RTS-12.18      1  03/09/18  10:02  107960.0  107960.0  107960.0   \n",
              "2  SPFB.RTS-12.18      1  03/09/18  10:04  108000.0  108000.0  108000.0   \n",
              "3  SPFB.RTS-12.18      1  03/09/18  10:05  108000.0  108000.0  108000.0   \n",
              "4  SPFB.RTS-12.18      1  03/09/18  10:08  108080.0  108080.0  108080.0   \n",
              "\n",
              "    <CLOSE>  <VOL>            DATE  \n",
              "0  108030.0      3  03/09/18 10:01  \n",
              "1  107960.0      5  03/09/18 10:02  \n",
              "2  108000.0      8  03/09/18 10:04  \n",
              "3  108000.0      1  03/09/18 10:05  \n",
              "4  108080.0      1  03/09/18 10:08  "
            ]
          },
          "execution_count": 16,
          "metadata": {},
          "output_type": "execute_result"
        }
      ],
      "source": [
        "data['DATE'] = data['<DATE>'] + ' ' + data['<TIME>'] \n",
        "data.head()"
      ]
    },
    {
      "cell_type": "markdown",
      "metadata": {
        "id": "XU3o0ngN-zfI"
      },
      "source": [
        "Поработаем над форматом времени. Для этого переведем строковые данные, показывающие время, в специальный объект в Python."
      ]
    },
    {
      "cell_type": "code",
      "execution_count": 17,
      "metadata": {
        "colab": {
          "base_uri": "https://localhost:8080/",
          "height": 204
        },
        "id": "fye-qaJP-c8M",
        "outputId": "9ebc07fc-25f2-4aa8-b168-4a0017cba6c5"
      },
      "outputs": [
        {
          "data": {
            "text/html": [
              "<div>\n",
              "<style scoped>\n",
              "    .dataframe tbody tr th:only-of-type {\n",
              "        vertical-align: middle;\n",
              "    }\n",
              "\n",
              "    .dataframe tbody tr th {\n",
              "        vertical-align: top;\n",
              "    }\n",
              "\n",
              "    .dataframe thead th {\n",
              "        text-align: right;\n",
              "    }\n",
              "</style>\n",
              "<table border=\"1\" class=\"dataframe\">\n",
              "  <thead>\n",
              "    <tr style=\"text-align: right;\">\n",
              "      <th></th>\n",
              "      <th>&lt;TICKER&gt;</th>\n",
              "      <th>&lt;PER&gt;</th>\n",
              "      <th>&lt;DATE&gt;</th>\n",
              "      <th>&lt;TIME&gt;</th>\n",
              "      <th>&lt;OPEN&gt;</th>\n",
              "      <th>&lt;HIGH&gt;</th>\n",
              "      <th>&lt;LOW&gt;</th>\n",
              "      <th>&lt;CLOSE&gt;</th>\n",
              "      <th>&lt;VOL&gt;</th>\n",
              "      <th>DATE</th>\n",
              "    </tr>\n",
              "  </thead>\n",
              "  <tbody>\n",
              "    <tr>\n",
              "      <th>0</th>\n",
              "      <td>SPFB.RTS-12.18</td>\n",
              "      <td>1</td>\n",
              "      <td>03/09/18</td>\n",
              "      <td>10:01</td>\n",
              "      <td>107900.0</td>\n",
              "      <td>108060.0</td>\n",
              "      <td>107900.0</td>\n",
              "      <td>108030.0</td>\n",
              "      <td>3</td>\n",
              "      <td>2018-09-03 10:01:00</td>\n",
              "    </tr>\n",
              "    <tr>\n",
              "      <th>1</th>\n",
              "      <td>SPFB.RTS-12.18</td>\n",
              "      <td>1</td>\n",
              "      <td>03/09/18</td>\n",
              "      <td>10:02</td>\n",
              "      <td>107960.0</td>\n",
              "      <td>107960.0</td>\n",
              "      <td>107960.0</td>\n",
              "      <td>107960.0</td>\n",
              "      <td>5</td>\n",
              "      <td>2018-09-03 10:02:00</td>\n",
              "    </tr>\n",
              "    <tr>\n",
              "      <th>2</th>\n",
              "      <td>SPFB.RTS-12.18</td>\n",
              "      <td>1</td>\n",
              "      <td>03/09/18</td>\n",
              "      <td>10:04</td>\n",
              "      <td>108000.0</td>\n",
              "      <td>108000.0</td>\n",
              "      <td>108000.0</td>\n",
              "      <td>108000.0</td>\n",
              "      <td>8</td>\n",
              "      <td>2018-09-03 10:04:00</td>\n",
              "    </tr>\n",
              "    <tr>\n",
              "      <th>3</th>\n",
              "      <td>SPFB.RTS-12.18</td>\n",
              "      <td>1</td>\n",
              "      <td>03/09/18</td>\n",
              "      <td>10:05</td>\n",
              "      <td>108000.0</td>\n",
              "      <td>108000.0</td>\n",
              "      <td>108000.0</td>\n",
              "      <td>108000.0</td>\n",
              "      <td>1</td>\n",
              "      <td>2018-09-03 10:05:00</td>\n",
              "    </tr>\n",
              "    <tr>\n",
              "      <th>4</th>\n",
              "      <td>SPFB.RTS-12.18</td>\n",
              "      <td>1</td>\n",
              "      <td>03/09/18</td>\n",
              "      <td>10:08</td>\n",
              "      <td>108080.0</td>\n",
              "      <td>108080.0</td>\n",
              "      <td>108080.0</td>\n",
              "      <td>108080.0</td>\n",
              "      <td>1</td>\n",
              "      <td>2018-09-03 10:08:00</td>\n",
              "    </tr>\n",
              "  </tbody>\n",
              "</table>\n",
              "</div>"
            ],
            "text/plain": [
              "         <TICKER>  <PER>    <DATE> <TIME>    <OPEN>    <HIGH>     <LOW>  \\\n",
              "0  SPFB.RTS-12.18      1  03/09/18  10:01  107900.0  108060.0  107900.0   \n",
              "1  SPFB.RTS-12.18      1  03/09/18  10:02  107960.0  107960.0  107960.0   \n",
              "2  SPFB.RTS-12.18      1  03/09/18  10:04  108000.0  108000.0  108000.0   \n",
              "3  SPFB.RTS-12.18      1  03/09/18  10:05  108000.0  108000.0  108000.0   \n",
              "4  SPFB.RTS-12.18      1  03/09/18  10:08  108080.0  108080.0  108080.0   \n",
              "\n",
              "    <CLOSE>  <VOL>                DATE  \n",
              "0  108030.0      3 2018-09-03 10:01:00  \n",
              "1  107960.0      5 2018-09-03 10:02:00  \n",
              "2  108000.0      8 2018-09-03 10:04:00  \n",
              "3  108000.0      1 2018-09-03 10:05:00  \n",
              "4  108080.0      1 2018-09-03 10:08:00  "
            ]
          },
          "execution_count": 17,
          "metadata": {},
          "output_type": "execute_result"
        }
      ],
      "source": [
        "data['DATE'] = pd.to_datetime(data['DATE'], format=\"%d/%m/%y %H:%M\")\n",
        "data.head()"
      ]
    },
    {
      "cell_type": "markdown",
      "metadata": {
        "id": "CSKb0R4HUD5R"
      },
      "source": [
        "Сформируем интересующую нас выборку"
      ]
    },
    {
      "cell_type": "code",
      "execution_count": 24,
      "metadata": {
        "id": "lq-MazIyUF0L"
      },
      "outputs": [],
      "source": [
        "df_filtered = data[data['DATE'].dt.strftime('%Y-%m-%d') == '2018-09-13']"
      ]
    },
    {
      "cell_type": "markdown",
      "metadata": {
        "id": "rdUBP4iXUNP_"
      },
      "source": [
        "Теперь полная дата будет для нас индеком объектов"
      ]
    },
    {
      "cell_type": "code",
      "execution_count": 25,
      "metadata": {
        "id": "dWE0U3erUMie"
      },
      "outputs": [],
      "source": [
        "df_filtered = df_filtered.set_index('DATE')"
      ]
    },
    {
      "cell_type": "markdown",
      "metadata": {
        "id": "bgepmPoUUUq3"
      },
      "source": [
        "Выберем только интересующие для построения столбцы:"
      ]
    },
    {
      "cell_type": "code",
      "execution_count": 26,
      "metadata": {
        "id": "Jsa6lqjqUXlv"
      },
      "outputs": [],
      "source": [
        "df_filtered = df_filtered[['<OPEN>','<HIGH>','<LOW>','<CLOSE>']]"
      ]
    },
    {
      "cell_type": "markdown",
      "metadata": {
        "id": "Hpx5wqwHUx4I"
      },
      "source": [
        "Переименуем (для удобства) столбцы:"
      ]
    },
    {
      "cell_type": "code",
      "execution_count": 28,
      "metadata": {
        "colab": {
          "base_uri": "https://localhost:8080/",
          "height": 235
        },
        "id": "TMIE9Q_dUa3k",
        "outputId": "266e7120-0a0f-479c-baad-797eaee3b2c9"
      },
      "outputs": [
        {
          "data": {
            "text/html": [
              "<div>\n",
              "<style scoped>\n",
              "    .dataframe tbody tr th:only-of-type {\n",
              "        vertical-align: middle;\n",
              "    }\n",
              "\n",
              "    .dataframe tbody tr th {\n",
              "        vertical-align: top;\n",
              "    }\n",
              "\n",
              "    .dataframe thead th {\n",
              "        text-align: right;\n",
              "    }\n",
              "</style>\n",
              "<table border=\"1\" class=\"dataframe\">\n",
              "  <thead>\n",
              "    <tr style=\"text-align: right;\">\n",
              "      <th></th>\n",
              "      <th>open</th>\n",
              "      <th>high</th>\n",
              "      <th>low</th>\n",
              "      <th>close</th>\n",
              "    </tr>\n",
              "    <tr>\n",
              "      <th>DATE</th>\n",
              "      <th></th>\n",
              "      <th></th>\n",
              "      <th></th>\n",
              "      <th></th>\n",
              "    </tr>\n",
              "  </thead>\n",
              "  <tbody>\n",
              "    <tr>\n",
              "      <th>2018-09-13 10:01:00</th>\n",
              "      <td>105890.0</td>\n",
              "      <td>106450.0</td>\n",
              "      <td>105890.0</td>\n",
              "      <td>106350.0</td>\n",
              "    </tr>\n",
              "    <tr>\n",
              "      <th>2018-09-13 10:02:00</th>\n",
              "      <td>106410.0</td>\n",
              "      <td>106500.0</td>\n",
              "      <td>106380.0</td>\n",
              "      <td>106410.0</td>\n",
              "    </tr>\n",
              "    <tr>\n",
              "      <th>2018-09-13 10:03:00</th>\n",
              "      <td>106400.0</td>\n",
              "      <td>106410.0</td>\n",
              "      <td>106300.0</td>\n",
              "      <td>106300.0</td>\n",
              "    </tr>\n",
              "    <tr>\n",
              "      <th>2018-09-13 10:04:00</th>\n",
              "      <td>106330.0</td>\n",
              "      <td>106360.0</td>\n",
              "      <td>106280.0</td>\n",
              "      <td>106360.0</td>\n",
              "    </tr>\n",
              "    <tr>\n",
              "      <th>2018-09-13 10:05:00</th>\n",
              "      <td>106330.0</td>\n",
              "      <td>106330.0</td>\n",
              "      <td>106280.0</td>\n",
              "      <td>106320.0</td>\n",
              "    </tr>\n",
              "  </tbody>\n",
              "</table>\n",
              "</div>"
            ],
            "text/plain": [
              "                         open      high       low     close\n",
              "DATE                                                       \n",
              "2018-09-13 10:01:00  105890.0  106450.0  105890.0  106350.0\n",
              "2018-09-13 10:02:00  106410.0  106500.0  106380.0  106410.0\n",
              "2018-09-13 10:03:00  106400.0  106410.0  106300.0  106300.0\n",
              "2018-09-13 10:04:00  106330.0  106360.0  106280.0  106360.0\n",
              "2018-09-13 10:05:00  106330.0  106330.0  106280.0  106320.0"
            ]
          },
          "execution_count": 28,
          "metadata": {},
          "output_type": "execute_result"
        }
      ],
      "source": [
        "df_filtered.columns =['open', 'high', 'low', 'close']\n",
        "df_filtered.head()"
      ]
    },
    {
      "cell_type": "markdown",
      "metadata": {
        "id": "rmI0M-LsVB5H"
      },
      "source": [
        "Проведем агрегацию данных для построения графика свечей:"
      ]
    },
    {
      "cell_type": "code",
      "execution_count": 29,
      "metadata": {
        "id": "eGCVuu8DUba5"
      },
      "outputs": [],
      "source": [
        "d2 = df_filtered.resample('1H').agg({'open':'first',\n",
        "                                     'high':'max',\n",
        "                                     'low':'min',\n",
        "                                     'close':'last'})"
      ]
    },
    {
      "cell_type": "markdown",
      "metadata": {
        "id": "4XRfnOj1U6er"
      },
      "source": [
        "Осталось подключить необходимую библиотеку и построить:"
      ]
    },
    {
      "cell_type": "code",
      "execution_count": 30,
      "metadata": {
        "colab": {
          "base_uri": "https://localhost:8080/",
          "height": 542
        },
        "id": "UZ6Nkg-DUq2B",
        "outputId": "2504da0d-e495-45e8-a352-b42ed2d2ec17"
      },
      "outputs": [
        {
          "data": {
            "application/vnd.plotly.v1+json": {
              "config": {
                "plotlyServerURL": "https://plot.ly"
              },
              "data": [
                {
                  "close": [
                    106970,
                    107060,
                    107260,
                    107460,
                    107930,
                    108140,
                    108480,
                    107370,
                    107020,
                    107270,
                    107200,
                    107540,
                    107260,
                    107280
                  ],
                  "high": [
                    107050,
                    107150,
                    107410,
                    107510,
                    108110,
                    108270,
                    108740,
                    108540,
                    107860,
                    107520,
                    107410,
                    107660,
                    107580,
                    107280
                  ],
                  "low": [
                    105890,
                    106820,
                    106980,
                    107220,
                    107430,
                    107730,
                    108080,
                    106770,
                    106810,
                    107000,
                    107180,
                    107110,
                    107170,
                    107140
                  ],
                  "open": [
                    105890,
                    106990,
                    107040,
                    107240,
                    107440,
                    107950,
                    108180,
                    108500,
                    107360,
                    107030,
                    107320,
                    107170,
                    107510,
                    107260
                  ],
                  "type": "candlestick",
                  "x": [
                    "2018-09-13T10:00:00",
                    "2018-09-13T11:00:00",
                    "2018-09-13T12:00:00",
                    "2018-09-13T13:00:00",
                    "2018-09-13T14:00:00",
                    "2018-09-13T15:00:00",
                    "2018-09-13T16:00:00",
                    "2018-09-13T17:00:00",
                    "2018-09-13T18:00:00",
                    "2018-09-13T19:00:00",
                    "2018-09-13T20:00:00",
                    "2018-09-13T21:00:00",
                    "2018-09-13T22:00:00",
                    "2018-09-13T23:00:00"
                  ]
                }
              ],
              "layout": {
                "template": {
                  "data": {
                    "bar": [
                      {
                        "error_x": {
                          "color": "#2a3f5f"
                        },
                        "error_y": {
                          "color": "#2a3f5f"
                        },
                        "marker": {
                          "line": {
                            "color": "#E5ECF6",
                            "width": 0.5
                          },
                          "pattern": {
                            "fillmode": "overlay",
                            "size": 10,
                            "solidity": 0.2
                          }
                        },
                        "type": "bar"
                      }
                    ],
                    "barpolar": [
                      {
                        "marker": {
                          "line": {
                            "color": "#E5ECF6",
                            "width": 0.5
                          },
                          "pattern": {
                            "fillmode": "overlay",
                            "size": 10,
                            "solidity": 0.2
                          }
                        },
                        "type": "barpolar"
                      }
                    ],
                    "carpet": [
                      {
                        "aaxis": {
                          "endlinecolor": "#2a3f5f",
                          "gridcolor": "white",
                          "linecolor": "white",
                          "minorgridcolor": "white",
                          "startlinecolor": "#2a3f5f"
                        },
                        "baxis": {
                          "endlinecolor": "#2a3f5f",
                          "gridcolor": "white",
                          "linecolor": "white",
                          "minorgridcolor": "white",
                          "startlinecolor": "#2a3f5f"
                        },
                        "type": "carpet"
                      }
                    ],
                    "choropleth": [
                      {
                        "colorbar": {
                          "outlinewidth": 0,
                          "ticks": ""
                        },
                        "type": "choropleth"
                      }
                    ],
                    "contour": [
                      {
                        "colorbar": {
                          "outlinewidth": 0,
                          "ticks": ""
                        },
                        "colorscale": [
                          [
                            0,
                            "#0d0887"
                          ],
                          [
                            0.1111111111111111,
                            "#46039f"
                          ],
                          [
                            0.2222222222222222,
                            "#7201a8"
                          ],
                          [
                            0.3333333333333333,
                            "#9c179e"
                          ],
                          [
                            0.4444444444444444,
                            "#bd3786"
                          ],
                          [
                            0.5555555555555556,
                            "#d8576b"
                          ],
                          [
                            0.6666666666666666,
                            "#ed7953"
                          ],
                          [
                            0.7777777777777778,
                            "#fb9f3a"
                          ],
                          [
                            0.8888888888888888,
                            "#fdca26"
                          ],
                          [
                            1,
                            "#f0f921"
                          ]
                        ],
                        "type": "contour"
                      }
                    ],
                    "contourcarpet": [
                      {
                        "colorbar": {
                          "outlinewidth": 0,
                          "ticks": ""
                        },
                        "type": "contourcarpet"
                      }
                    ],
                    "heatmap": [
                      {
                        "colorbar": {
                          "outlinewidth": 0,
                          "ticks": ""
                        },
                        "colorscale": [
                          [
                            0,
                            "#0d0887"
                          ],
                          [
                            0.1111111111111111,
                            "#46039f"
                          ],
                          [
                            0.2222222222222222,
                            "#7201a8"
                          ],
                          [
                            0.3333333333333333,
                            "#9c179e"
                          ],
                          [
                            0.4444444444444444,
                            "#bd3786"
                          ],
                          [
                            0.5555555555555556,
                            "#d8576b"
                          ],
                          [
                            0.6666666666666666,
                            "#ed7953"
                          ],
                          [
                            0.7777777777777778,
                            "#fb9f3a"
                          ],
                          [
                            0.8888888888888888,
                            "#fdca26"
                          ],
                          [
                            1,
                            "#f0f921"
                          ]
                        ],
                        "type": "heatmap"
                      }
                    ],
                    "heatmapgl": [
                      {
                        "colorbar": {
                          "outlinewidth": 0,
                          "ticks": ""
                        },
                        "colorscale": [
                          [
                            0,
                            "#0d0887"
                          ],
                          [
                            0.1111111111111111,
                            "#46039f"
                          ],
                          [
                            0.2222222222222222,
                            "#7201a8"
                          ],
                          [
                            0.3333333333333333,
                            "#9c179e"
                          ],
                          [
                            0.4444444444444444,
                            "#bd3786"
                          ],
                          [
                            0.5555555555555556,
                            "#d8576b"
                          ],
                          [
                            0.6666666666666666,
                            "#ed7953"
                          ],
                          [
                            0.7777777777777778,
                            "#fb9f3a"
                          ],
                          [
                            0.8888888888888888,
                            "#fdca26"
                          ],
                          [
                            1,
                            "#f0f921"
                          ]
                        ],
                        "type": "heatmapgl"
                      }
                    ],
                    "histogram": [
                      {
                        "marker": {
                          "pattern": {
                            "fillmode": "overlay",
                            "size": 10,
                            "solidity": 0.2
                          }
                        },
                        "type": "histogram"
                      }
                    ],
                    "histogram2d": [
                      {
                        "colorbar": {
                          "outlinewidth": 0,
                          "ticks": ""
                        },
                        "colorscale": [
                          [
                            0,
                            "#0d0887"
                          ],
                          [
                            0.1111111111111111,
                            "#46039f"
                          ],
                          [
                            0.2222222222222222,
                            "#7201a8"
                          ],
                          [
                            0.3333333333333333,
                            "#9c179e"
                          ],
                          [
                            0.4444444444444444,
                            "#bd3786"
                          ],
                          [
                            0.5555555555555556,
                            "#d8576b"
                          ],
                          [
                            0.6666666666666666,
                            "#ed7953"
                          ],
                          [
                            0.7777777777777778,
                            "#fb9f3a"
                          ],
                          [
                            0.8888888888888888,
                            "#fdca26"
                          ],
                          [
                            1,
                            "#f0f921"
                          ]
                        ],
                        "type": "histogram2d"
                      }
                    ],
                    "histogram2dcontour": [
                      {
                        "colorbar": {
                          "outlinewidth": 0,
                          "ticks": ""
                        },
                        "colorscale": [
                          [
                            0,
                            "#0d0887"
                          ],
                          [
                            0.1111111111111111,
                            "#46039f"
                          ],
                          [
                            0.2222222222222222,
                            "#7201a8"
                          ],
                          [
                            0.3333333333333333,
                            "#9c179e"
                          ],
                          [
                            0.4444444444444444,
                            "#bd3786"
                          ],
                          [
                            0.5555555555555556,
                            "#d8576b"
                          ],
                          [
                            0.6666666666666666,
                            "#ed7953"
                          ],
                          [
                            0.7777777777777778,
                            "#fb9f3a"
                          ],
                          [
                            0.8888888888888888,
                            "#fdca26"
                          ],
                          [
                            1,
                            "#f0f921"
                          ]
                        ],
                        "type": "histogram2dcontour"
                      }
                    ],
                    "mesh3d": [
                      {
                        "colorbar": {
                          "outlinewidth": 0,
                          "ticks": ""
                        },
                        "type": "mesh3d"
                      }
                    ],
                    "parcoords": [
                      {
                        "line": {
                          "colorbar": {
                            "outlinewidth": 0,
                            "ticks": ""
                          }
                        },
                        "type": "parcoords"
                      }
                    ],
                    "pie": [
                      {
                        "automargin": true,
                        "type": "pie"
                      }
                    ],
                    "scatter": [
                      {
                        "fillpattern": {
                          "fillmode": "overlay",
                          "size": 10,
                          "solidity": 0.2
                        },
                        "type": "scatter"
                      }
                    ],
                    "scatter3d": [
                      {
                        "line": {
                          "colorbar": {
                            "outlinewidth": 0,
                            "ticks": ""
                          }
                        },
                        "marker": {
                          "colorbar": {
                            "outlinewidth": 0,
                            "ticks": ""
                          }
                        },
                        "type": "scatter3d"
                      }
                    ],
                    "scattercarpet": [
                      {
                        "marker": {
                          "colorbar": {
                            "outlinewidth": 0,
                            "ticks": ""
                          }
                        },
                        "type": "scattercarpet"
                      }
                    ],
                    "scattergeo": [
                      {
                        "marker": {
                          "colorbar": {
                            "outlinewidth": 0,
                            "ticks": ""
                          }
                        },
                        "type": "scattergeo"
                      }
                    ],
                    "scattergl": [
                      {
                        "marker": {
                          "colorbar": {
                            "outlinewidth": 0,
                            "ticks": ""
                          }
                        },
                        "type": "scattergl"
                      }
                    ],
                    "scattermapbox": [
                      {
                        "marker": {
                          "colorbar": {
                            "outlinewidth": 0,
                            "ticks": ""
                          }
                        },
                        "type": "scattermapbox"
                      }
                    ],
                    "scatterpolar": [
                      {
                        "marker": {
                          "colorbar": {
                            "outlinewidth": 0,
                            "ticks": ""
                          }
                        },
                        "type": "scatterpolar"
                      }
                    ],
                    "scatterpolargl": [
                      {
                        "marker": {
                          "colorbar": {
                            "outlinewidth": 0,
                            "ticks": ""
                          }
                        },
                        "type": "scatterpolargl"
                      }
                    ],
                    "scatterternary": [
                      {
                        "marker": {
                          "colorbar": {
                            "outlinewidth": 0,
                            "ticks": ""
                          }
                        },
                        "type": "scatterternary"
                      }
                    ],
                    "surface": [
                      {
                        "colorbar": {
                          "outlinewidth": 0,
                          "ticks": ""
                        },
                        "colorscale": [
                          [
                            0,
                            "#0d0887"
                          ],
                          [
                            0.1111111111111111,
                            "#46039f"
                          ],
                          [
                            0.2222222222222222,
                            "#7201a8"
                          ],
                          [
                            0.3333333333333333,
                            "#9c179e"
                          ],
                          [
                            0.4444444444444444,
                            "#bd3786"
                          ],
                          [
                            0.5555555555555556,
                            "#d8576b"
                          ],
                          [
                            0.6666666666666666,
                            "#ed7953"
                          ],
                          [
                            0.7777777777777778,
                            "#fb9f3a"
                          ],
                          [
                            0.8888888888888888,
                            "#fdca26"
                          ],
                          [
                            1,
                            "#f0f921"
                          ]
                        ],
                        "type": "surface"
                      }
                    ],
                    "table": [
                      {
                        "cells": {
                          "fill": {
                            "color": "#EBF0F8"
                          },
                          "line": {
                            "color": "white"
                          }
                        },
                        "header": {
                          "fill": {
                            "color": "#C8D4E3"
                          },
                          "line": {
                            "color": "white"
                          }
                        },
                        "type": "table"
                      }
                    ]
                  },
                  "layout": {
                    "annotationdefaults": {
                      "arrowcolor": "#2a3f5f",
                      "arrowhead": 0,
                      "arrowwidth": 1
                    },
                    "autotypenumbers": "strict",
                    "coloraxis": {
                      "colorbar": {
                        "outlinewidth": 0,
                        "ticks": ""
                      }
                    },
                    "colorscale": {
                      "diverging": [
                        [
                          0,
                          "#8e0152"
                        ],
                        [
                          0.1,
                          "#c51b7d"
                        ],
                        [
                          0.2,
                          "#de77ae"
                        ],
                        [
                          0.3,
                          "#f1b6da"
                        ],
                        [
                          0.4,
                          "#fde0ef"
                        ],
                        [
                          0.5,
                          "#f7f7f7"
                        ],
                        [
                          0.6,
                          "#e6f5d0"
                        ],
                        [
                          0.7,
                          "#b8e186"
                        ],
                        [
                          0.8,
                          "#7fbc41"
                        ],
                        [
                          0.9,
                          "#4d9221"
                        ],
                        [
                          1,
                          "#276419"
                        ]
                      ],
                      "sequential": [
                        [
                          0,
                          "#0d0887"
                        ],
                        [
                          0.1111111111111111,
                          "#46039f"
                        ],
                        [
                          0.2222222222222222,
                          "#7201a8"
                        ],
                        [
                          0.3333333333333333,
                          "#9c179e"
                        ],
                        [
                          0.4444444444444444,
                          "#bd3786"
                        ],
                        [
                          0.5555555555555556,
                          "#d8576b"
                        ],
                        [
                          0.6666666666666666,
                          "#ed7953"
                        ],
                        [
                          0.7777777777777778,
                          "#fb9f3a"
                        ],
                        [
                          0.8888888888888888,
                          "#fdca26"
                        ],
                        [
                          1,
                          "#f0f921"
                        ]
                      ],
                      "sequentialminus": [
                        [
                          0,
                          "#0d0887"
                        ],
                        [
                          0.1111111111111111,
                          "#46039f"
                        ],
                        [
                          0.2222222222222222,
                          "#7201a8"
                        ],
                        [
                          0.3333333333333333,
                          "#9c179e"
                        ],
                        [
                          0.4444444444444444,
                          "#bd3786"
                        ],
                        [
                          0.5555555555555556,
                          "#d8576b"
                        ],
                        [
                          0.6666666666666666,
                          "#ed7953"
                        ],
                        [
                          0.7777777777777778,
                          "#fb9f3a"
                        ],
                        [
                          0.8888888888888888,
                          "#fdca26"
                        ],
                        [
                          1,
                          "#f0f921"
                        ]
                      ]
                    },
                    "colorway": [
                      "#636efa",
                      "#EF553B",
                      "#00cc96",
                      "#ab63fa",
                      "#FFA15A",
                      "#19d3f3",
                      "#FF6692",
                      "#B6E880",
                      "#FF97FF",
                      "#FECB52"
                    ],
                    "font": {
                      "color": "#2a3f5f"
                    },
                    "geo": {
                      "bgcolor": "white",
                      "lakecolor": "white",
                      "landcolor": "#E5ECF6",
                      "showlakes": true,
                      "showland": true,
                      "subunitcolor": "white"
                    },
                    "hoverlabel": {
                      "align": "left"
                    },
                    "hovermode": "closest",
                    "mapbox": {
                      "style": "light"
                    },
                    "paper_bgcolor": "white",
                    "plot_bgcolor": "#E5ECF6",
                    "polar": {
                      "angularaxis": {
                        "gridcolor": "white",
                        "linecolor": "white",
                        "ticks": ""
                      },
                      "bgcolor": "#E5ECF6",
                      "radialaxis": {
                        "gridcolor": "white",
                        "linecolor": "white",
                        "ticks": ""
                      }
                    },
                    "scene": {
                      "xaxis": {
                        "backgroundcolor": "#E5ECF6",
                        "gridcolor": "white",
                        "gridwidth": 2,
                        "linecolor": "white",
                        "showbackground": true,
                        "ticks": "",
                        "zerolinecolor": "white"
                      },
                      "yaxis": {
                        "backgroundcolor": "#E5ECF6",
                        "gridcolor": "white",
                        "gridwidth": 2,
                        "linecolor": "white",
                        "showbackground": true,
                        "ticks": "",
                        "zerolinecolor": "white"
                      },
                      "zaxis": {
                        "backgroundcolor": "#E5ECF6",
                        "gridcolor": "white",
                        "gridwidth": 2,
                        "linecolor": "white",
                        "showbackground": true,
                        "ticks": "",
                        "zerolinecolor": "white"
                      }
                    },
                    "shapedefaults": {
                      "line": {
                        "color": "#2a3f5f"
                      }
                    },
                    "ternary": {
                      "aaxis": {
                        "gridcolor": "white",
                        "linecolor": "white",
                        "ticks": ""
                      },
                      "baxis": {
                        "gridcolor": "white",
                        "linecolor": "white",
                        "ticks": ""
                      },
                      "bgcolor": "#E5ECF6",
                      "caxis": {
                        "gridcolor": "white",
                        "linecolor": "white",
                        "ticks": ""
                      }
                    },
                    "title": {
                      "x": 0.05
                    },
                    "xaxis": {
                      "automargin": true,
                      "gridcolor": "white",
                      "linecolor": "white",
                      "ticks": "",
                      "title": {
                        "standoff": 15
                      },
                      "zerolinecolor": "white",
                      "zerolinewidth": 2
                    },
                    "yaxis": {
                      "automargin": true,
                      "gridcolor": "white",
                      "linecolor": "white",
                      "ticks": "",
                      "title": {
                        "standoff": 15
                      },
                      "zerolinecolor": "white",
                      "zerolinewidth": 2
                    }
                  }
                }
              }
            }
          },
          "metadata": {},
          "output_type": "display_data"
        }
      ],
      "source": [
        "import plotly.graph_objects as go\n",
        "\n",
        "fig = go.Figure(data=[go.Candlestick(x=d2.index,\n",
        "                open=d2['open'],\n",
        "                high=d2['high'],\n",
        "                low=d2['low'],\n",
        "                close=d2['close'])])\n",
        "\n",
        "fig.show()"
      ]
    }
  ],
  "metadata": {
    "colab": {
      "provenance": []
    },
    "kernelspec": {
      "display_name": "base",
      "language": "python",
      "name": "python3"
    },
    "language_info": {
      "codemirror_mode": {
        "name": "ipython",
        "version": 3
      },
      "file_extension": ".py",
      "mimetype": "text/x-python",
      "name": "python",
      "nbconvert_exporter": "python",
      "pygments_lexer": "ipython3",
      "version": "3.8.5 (default, Sep  4 2020, 02:22:02) \n[Clang 10.0.0 ]"
    },
    "vscode": {
      "interpreter": {
        "hash": "40d3a090f54c6569ab1632332b64b2c03c39dcf918b08424e98f38b5ae0af88f"
      }
    }
  },
  "nbformat": 4,
  "nbformat_minor": 0
}
