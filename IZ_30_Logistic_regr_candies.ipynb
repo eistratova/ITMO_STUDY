{
 "cells": [
  {
   "cell_type": "code",
   "execution_count": 91,
   "metadata": {},
   "outputs": [
    {
     "name": "stdout",
     "output_type": "stream",
     "text": [
      "                       chocolate  fruity  caramel  peanutyalmondy  nougat  \\\n",
      "competitorname                                                              \n",
      "100 Grand                      1       0        1               0       0   \n",
      "3 Musketeers                   1       0        0               0       1   \n",
      "One dime                       0       0        0               0       0   \n",
      "One quarter                    0       0        0               0       0   \n",
      "Air Heads                      0       1        0               0       0   \n",
      "...                          ...     ...      ...             ...     ...   \n",
      "Snickers Crisper               1       0        1               1       0   \n",
      "Sour Patch Kids                0       1        0               0       0   \n",
      "Sour Patch Tricksters          0       1        0               0       0   \n",
      "Starburst                      0       1        0               0       0   \n",
      "Strawberry bon bons            0       1        0               0       0   \n",
      "\n",
      "                       crispedricewafer  hard  bar  pluribus  sugarpercent  \\\n",
      "competitorname                                                               \n",
      "100 Grand                             1     0    1         0         0.732   \n",
      "3 Musketeers                          0     0    1         0         0.604   \n",
      "One dime                              0     0    0         0         0.011   \n",
      "One quarter                           0     0    0         0         0.011   \n",
      "Air Heads                             0     0    0         0         0.906   \n",
      "...                                 ...   ...  ...       ...           ...   \n",
      "Snickers Crisper                      1     0    1         0         0.604   \n",
      "Sour Patch Kids                       0     0    0         1         0.069   \n",
      "Sour Patch Tricksters                 0     0    0         1         0.069   \n",
      "Starburst                             0     0    0         1         0.151   \n",
      "Strawberry bon bons                   0     1    0         1         0.569   \n",
      "\n",
      "                       pricepercent  winpercent  Y  \n",
      "competitorname                                      \n",
      "100 Grand                     0.860   66.971725  1  \n",
      "3 Musketeers                  0.511   67.602936  1  \n",
      "One dime                      0.116   32.261086  0  \n",
      "One quarter                   0.511   46.116505  0  \n",
      "Air Heads                     0.511   52.341465  1  \n",
      "...                             ...         ... ..  \n",
      "Snickers Crisper              0.651   59.529251  1  \n",
      "Sour Patch Kids               0.116   59.863998  1  \n",
      "Sour Patch Tricksters         0.116   52.825947  1  \n",
      "Starburst                     0.220   67.037628  1  \n",
      "Strawberry bon bons           0.058   34.578991  0  \n",
      "\n",
      "[70 rows x 13 columns]\n"
     ]
    }
   ],
   "source": [
    "#чтение данных, так как названия конфет уникальны, используем их в качестве индекса\n",
    "import pandas as pd\n",
    "#подключение модели логистической регрессии из библиотеки sklearn\n",
    "from sklearn.linear_model import LogisticRegression\n",
    "#подключение библиотеки для вычисления метрик\n",
    "from sklearn import metrics\n",
    "#подключим библиотеки для визуализации\n",
    "import matplotlib.pyplot as plt\n",
    "%matplotlib inline\n",
    "\n",
    "DATA = pd.read_csv(\"/Users/ekaterina/github_repos/ITMO_STUDY/ datasets/IZ_31_ML_candy_Logist_Regr/candy-data.csv\", delimiter=',', index_col='competitorname') #\n",
    "print(DATA)"
   ]
  },
  {
   "cell_type": "code",
   "execution_count": 71,
   "metadata": {},
   "outputs": [
    {
     "data": {
      "text/plain": [
       "chocolate           70\n",
       "fruity              70\n",
       "caramel             70\n",
       "peanutyalmondy      70\n",
       "nougat              70\n",
       "crispedricewafer    70\n",
       "hard                70\n",
       "bar                 70\n",
       "pluribus            70\n",
       "sugarpercent        70\n",
       "pricepercent        70\n",
       "winpercent          70\n",
       "Y                   70\n",
       "dtype: int64"
      ]
     },
     "execution_count": 71,
     "metadata": {},
     "output_type": "execute_result"
    }
   ],
   "source": [
    "DATA.count()"
   ]
  },
  {
   "cell_type": "markdown",
   "metadata": {},
   "source": [
    "В прилагаемом файле представлены данные, собранные путем голосования за самые лучшие (или, по крайней мере, самые популярные) конфеты Хэллоуина. Обучите модель логистической регрессии. В качестве предикторов выступают поля: chocolate, fruity, caramel, peanutyalmondy, nougat, crispedricewafer, hard, bar, pluribus, sugarpercent, pricepercent, отклик — Y.\n",
    "\n",
    "В качестве тренировочного набора данных используйте данные из файла, за иключением следующих конфет: Nestle Crunch, Skittles wildberry, Sour Patch Tricksters. Обучите модель.\n",
    "\n",
    "Если используете Azure ML Studio, укажите random seed = 2019 в параметрах блока Logistic Regression.\n",
    "Если используете Python, используйте модель с параметрами: LogisticRegression(random_state=2019, solver='lbfgs').\n",
    "Обучите модель и выполните предсказание для всех конфет из прилагаемого файла тестовых данных.\n",
    "\n",
    "Введите вероятность отнесения конфеты Twix к классу 1:\n",
    "Введите вероятность отнесения конфеты Welchs Fruit Snacks к классу 1:\n",
    "\n",
    "Выполните оценку модели с помощью матрицы ошибок и рассчитайте следующие параметры при пороге отсечения (Treshhold) .\n",
    "\n",
    "Введите значение Recall, или TPR для тестового набора данных:\n",
    "Введите значение Precision для тестового набора данных:\n",
    "Введите значение AUC для тестового набора данных:\n",
    "\n"
   ]
  },
  {
   "cell_type": "code",
   "execution_count": 72,
   "metadata": {},
   "outputs": [],
   "source": [
    "#обучение модели будем проводить на данных, за исключением некоторых конфет\n",
    "train_data = DATA.drop(['Nestle Crunch', 'Skittles wildberry', 'Sour Patch Tricksters'])"
   ]
  },
  {
   "cell_type": "code",
   "execution_count": 73,
   "metadata": {},
   "outputs": [],
   "source": [
    "#отбор данных для предикторов, удаление дввух последних столбцов, индекс не включается в данные автоматически.\n",
    "X = pd.DataFrame(train_data.drop(['winpercent', 'Y'], axis = 1))"
   ]
  },
  {
   "cell_type": "code",
   "execution_count": 74,
   "metadata": {},
   "outputs": [],
   "source": [
    "\n",
    "#отбор столбца для отклика\n",
    "y = pd.DataFrame(train_data['Y'])"
   ]
  },
  {
   "cell_type": "code",
   "execution_count": 75,
   "metadata": {},
   "outputs": [],
   "source": [
    "#обучение модели\n",
    "reg = LogisticRegression(random_state=2019, solver='lbfgs').fit(X, y.values.ravel())"
   ]
  },
  {
   "cell_type": "code",
   "execution_count": 76,
   "metadata": {},
   "outputs": [],
   "source": [
    "#чтение тестовых данных и отбор предикторов\n",
    "test_data = pd.read_csv(\"/Users/ekaterina/github_repos/ITMO_STUDY/ datasets/IZ_31_ML_candy_Logist_Regr/candy-test.csv\", delimiter=',', index_col='competitorname')\n",
    "X_test = pd.DataFrame(test_data.drop(['Y'], axis=1))"
   ]
  },
  {
   "cell_type": "code",
   "execution_count": 77,
   "metadata": {},
   "outputs": [
    {
     "name": "stdout",
     "output_type": "stream",
     "text": [
      "                           chocolate  fruity  caramel  peanutyalmondy  nougat  \\\n",
      "competitorname                                                                  \n",
      "Sugar Babies                       0       1        1               0       0   \n",
      "Sugar Daddy                        1       0        0               0       1   \n",
      "Super Bubble                       0       1        0               0       0   \n",
      "Swedish Fish                       0       1        0               0       0   \n",
      "Tootsie Pop                        1       0        0               0       0   \n",
      "Tootsie Roll Juniors               1       0        0               0       0   \n",
      "Tootsie Roll Midgies               1       0        0               0       0   \n",
      "Tootsie Roll Snack Bars            1       0        0               0       0   \n",
      "Trolli Sour Bites                  0       1        0               0       0   \n",
      "Twix                               0       1        0               0       0   \n",
      "Twizzlers                          0       1        0               0       0   \n",
      "Warheads                           0       1        0               0       0   \n",
      "Welchs Fruit Snacks                0       1        0               0       0   \n",
      "Werthers Original Caramel          1       0        1               0       0   \n",
      "Whoppers                           1       0        0               0       0   \n",
      "\n",
      "                           crispedricewafer  hard  bar  pluribus  \\\n",
      "competitorname                                                     \n",
      "Sugar Babies                              0     1    0         1   \n",
      "Sugar Daddy                               0     1    0         0   \n",
      "Super Bubble                              0     0    0         0   \n",
      "Swedish Fish                              0     0    0         1   \n",
      "Tootsie Pop                               0     0    0         0   \n",
      "Tootsie Roll Juniors                      0     0    0         0   \n",
      "Tootsie Roll Midgies                      0     0    0         1   \n",
      "Tootsie Roll Snack Bars                   0     0    1         0   \n",
      "Trolli Sour Bites                         0     0    0         1   \n",
      "Twix                                      0     0    0         0   \n",
      "Twizzlers                                 0     0    0         0   \n",
      "Warheads                                  0     1    0         0   \n",
      "Welchs Fruit Snacks                       0     0    0         1   \n",
      "Werthers Original Caramel                 0     1    0         0   \n",
      "Whoppers                                  0     0    0         1   \n",
      "\n",
      "                           sugarpercent  pricepercent  Y  \n",
      "competitorname                                            \n",
      "Sugar Babies                   0.647364       0.76700  0  \n",
      "Sugar Daddy                    0.418000       0.32500  0  \n",
      "Super Bubble                   0.162000       0.11600  0  \n",
      "Swedish Fish                   0.604000       0.75500  1  \n",
      "Tootsie Pop                    0.876560       0.56540  1  \n",
      "Tootsie Roll Juniors           0.313000       0.51100  0  \n",
      "Tootsie Roll Midgies           0.174000       0.01100  0  \n",
      "Tootsie Roll Snack Bars        0.465000       0.32500  1  \n",
      "Trolli Sour Bites              0.313000       0.25500  0  \n",
      "Twix                           0.735430       0.86634  1  \n",
      "Twizzlers                      0.220000       0.11600  0  \n",
      "Warheads                       0.093000       0.11600  0  \n",
      "Welchs Fruit Snacks            0.313000       0.31300  0  \n",
      "Werthers Original Caramel      0.186000       0.26700  0  \n",
      "Whoppers                       0.872000       0.84800  1  \n"
     ]
    }
   ],
   "source": [
    "print(test_data)"
   ]
  },
  {
   "cell_type": "code",
   "execution_count": 78,
   "metadata": {},
   "outputs": [],
   "source": [
    "#mask = X_test[(X_test['competitorname'] == 'Twix') | (X_test['competitorname'] == 'Welchs Fruit Snacks')]\n",
    "#print(mask)"
   ]
  },
  {
   "cell_type": "code",
   "execution_count": 79,
   "metadata": {},
   "outputs": [
    {
     "name": "stdout",
     "output_type": "stream",
     "text": [
      "[0 0 0 0 1 1 1 1 0 0 0 0 0 1 1]\n"
     ]
    }
   ],
   "source": [
    "#предсказание с помощью обученной модели, порог отсечения по умолчанию составляет 0.5\n",
    "Y_pred = reg.predict(X_test)\n",
    "print(Y_pred)"
   ]
  },
  {
   "cell_type": "code",
   "execution_count": 84,
   "metadata": {},
   "outputs": [
    {
     "name": "stdout",
     "output_type": "stream",
     "text": [
      "[[0.72688331 0.27311669]\n",
      " [0.61606289 0.38393711]\n",
      " [0.70340889 0.29659111]\n",
      " [0.6642209  0.3357791 ]\n",
      " [0.2479794  0.7520206 ]\n",
      " [0.31590988 0.68409012]\n",
      " [0.36928489 0.63071511]\n",
      " [0.23787027 0.76212973]\n",
      " [0.70832211 0.29167789]\n",
      " [0.61656028 0.38343972]\n",
      " [0.6962054  0.3037946 ]\n",
      " [0.86473482 0.13526518]\n",
      " [0.70752961 0.29247039]\n",
      " [0.41137444 0.58862556]\n",
      " [0.26829866 0.73170134]]\n"
     ]
    }
   ],
   "source": [
    "#вероятности отнесения к 0 и 1 классу объектов тестовых данных соответствнно Twix\n",
    "Y_pred_probs = reg.predict_proba(X_test)\n",
    "print(Y_pred_probs)"
   ]
  },
  {
   "cell_type": "code",
   "execution_count": 81,
   "metadata": {},
   "outputs": [
    {
     "name": "stdout",
     "output_type": "stream",
     "text": [
      "[0.41137444 0.58862556]\n"
     ]
    }
   ],
   "source": [
    "#вероятности отнесения к 0 и 1 классу объектов тестовых данных соответствнно Welchs Fruit Snacks\n",
    "Y_pred_probs = reg.predict_proba(X_test)\n",
    "print(Y_pred_probs[13,:])"
   ]
  },
  {
   "cell_type": "code",
   "execution_count": 82,
   "metadata": {},
   "outputs": [
    {
     "name": "stdout",
     "output_type": "stream",
     "text": [
      "[0.27311669 0.38393711 0.29659111 0.3357791  0.7520206  0.68409012\n",
      " 0.63071511 0.76212973 0.29167789 0.38343972 0.3037946  0.13526518\n",
      " 0.29247039 0.58862556 0.73170134]\n"
     ]
    }
   ],
   "source": [
    "#отбор вероятностей отнесения объектов к классу 1\n",
    "Y_pred_probs_class_1 = Y_pred_probs[:, 1]\n",
    "print(Y_pred_probs_class_1)"
   ]
  },
  {
   "cell_type": "code",
   "execution_count": 83,
   "metadata": {},
   "outputs": [
    {
     "data": {
      "text/plain": [
       "array([0, 0, 0, 1, 1, 0, 0, 1, 0, 1, 0, 0, 0, 0, 1])"
      ]
     },
     "execution_count": 83,
     "metadata": {},
     "output_type": "execute_result"
    }
   ],
   "source": [
    "#отбор отклика Y из тестовых данных и преобразование в массив\n",
    "Y_true = (test_data['Y'].to_frame().T).values.ravel()\n",
    "Y_true"
   ]
  },
  {
   "cell_type": "code",
   "execution_count": 87,
   "metadata": {},
   "outputs": [],
   "source": [
    "# Рассчет метрик\n",
    "fpr, tpr, _ = metrics.roc_curve(Y_true, Y_pred)"
   ]
  },
  {
   "cell_type": "code",
   "execution_count": 88,
   "metadata": {},
   "outputs": [
    {
     "data": {
      "text/plain": [
       "0.84"
      ]
     },
     "execution_count": 88,
     "metadata": {},
     "output_type": "execute_result"
    }
   ],
   "source": [
    "#вычисляем AUC\n",
    "metrics.roc_auc_score(Y_true, Y_pred_probs_class_1)"
   ]
  },
  {
   "cell_type": "code",
   "execution_count": 89,
   "metadata": {},
   "outputs": [
    {
     "data": {
      "text/plain": [
       "0.6"
      ]
     },
     "execution_count": 89,
     "metadata": {},
     "output_type": "execute_result"
    }
   ],
   "source": [
    "#вычисление Recall\n",
    "metrics.recall_score(Y_true, Y_pred)"
   ]
  },
  {
   "cell_type": "code",
   "execution_count": 90,
   "metadata": {},
   "outputs": [
    {
     "data": {
      "text/plain": [
       "0.5"
      ]
     },
     "execution_count": 90,
     "metadata": {},
     "output_type": "execute_result"
    }
   ],
   "source": [
    "#вычисление Precision\n",
    "metrics.precision_score(Y_true, Y_pred)"
   ]
  },
  {
   "cell_type": "code",
   "execution_count": 92,
   "metadata": {},
   "outputs": [
    {
     "data": {
      "image/png": "[encoded data removed]",
      "text/plain": [
       "<Figure size 432x288 with 1 Axes>"
      ]
     },
     "metadata": {
      "needs_background": "light"
     },
     "output_type": "display_data"
    }
   ],
   "source": [
    "metrics.plot_roc_curve(reg, X_test, Y_true, color='darkorange') \n",
    "plt.xlim([0.0, 1.0])\n",
    "plt.ylim([0.0, 1.05])\n",
    "plt.xlabel('False Positive Rate')\n",
    "plt.ylabel('True Positive Rate')\n",
    "plt.title('Receiver operating characteristic example')\n",
    "plt.legend(loc=\"lower right\")\n",
    "plt.plot([0, 1], [0, 1], color='navy', lw=2, linestyle='--')\n",
    "plt.show()"
   ]
  }
 ],
 "metadata": {
  "kernelspec": {
   "display_name": "Python 3.8.5 ('base')",
   "language": "python",
   "name": "python3"
  },
  "language_info": {
   "codemirror_mode": {
    "name": "ipython",
    "version": 3
   },
   "file_extension": ".py",
   "mimetype": "text/x-python",
   "name": "python",
   "nbconvert_exporter": "python",
   "pygments_lexer": "ipython3",
   "version": "3.8.5"
  },
  "orig_nbformat": 4,
  "vscode": {
   "interpreter": {
    "hash": "40d3a090f54c6569ab1632332b64b2c03c39dcf918b08424e98f38b5ae0af88f"
   }
  }
 },
 "nbformat": 4,
 "nbformat_minor": 2
}
