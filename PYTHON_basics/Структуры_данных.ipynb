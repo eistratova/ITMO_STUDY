{
  "nbformat": 4,
  "nbformat_minor": 0,
  "metadata": {
    "colab": {
      "provenance": [],
      "collapsed_sections": [],
      "toc_visible": true
    },
    "kernelspec": {
      "name": "python3",
      "display_name": "Python 3"
    },
    "language_info": {
      "name": "python"
    }
  },
  "cells": [
    {
      "cell_type": "markdown",
      "metadata": {
        "id": "_lTgqx6ZaHsd"
      },
      "source": [
        "# Структуры данных в Python"
      ]
    },
    {
      "cell_type": "markdown",
      "metadata": {
        "id": "2jQ5EXMDavH7"
      },
      "source": [
        "## Списки"
      ]
    },
    {
      "cell_type": "markdown",
      "source": [
        "### Создание списка"
      ],
      "metadata": {
        "id": "BjbuYpddXbqS"
      }
    },
    {
      "cell_type": "code",
      "metadata": {
        "id": "9eN8DW1iadkQ",
        "colab": {
          "base_uri": "https://localhost:8080/"
        },
        "outputId": "a5f64cfb-2f2f-435f-937a-2f92d84e755f"
      },
      "source": [
        "age = [13, 28, 30, 12, 45]\n",
        "pet = ['cat', 'dog', 'pig']\n",
        "\n",
        "print(age)\n",
        "print(pet)"
      ],
      "execution_count": null,
      "outputs": [
        {
          "output_type": "stream",
          "name": "stdout",
          "text": [
            "[13, 28, 30, 12, 45]\n",
            "['cat', 'dog', 'pig']\n"
          ]
        }
      ]
    },
    {
      "cell_type": "code",
      "metadata": {
        "id": "bGDKXaoMaeIL",
        "colab": {
          "base_uri": "https://localhost:8080/"
        },
        "outputId": "84124b98-6760-4d87-8aa9-df7ba549b939"
      },
      "source": [
        "something = [age, 'cat', 1, 5, 4737, 782, pet, 'hello']\n",
        "print(something)"
      ],
      "execution_count": null,
      "outputs": [
        {
          "output_type": "stream",
          "name": "stdout",
          "text": [
            "[[13, 28, 30, 12, 45], 'cat', 1, 5, 4737, 782, ['cat', 'dog', 'pig'], 'hello']\n"
          ]
        }
      ]
    },
    {
      "cell_type": "code",
      "source": [
        "empty_list = []\n",
        "empty_list = list()\n",
        "print(empty_list)"
      ],
      "metadata": {
        "colab": {
          "base_uri": "https://localhost:8080/"
        },
        "id": "DdXWnQO1X30U",
        "outputId": "6315cccd-f42d-4524-a138-2ada2e3fa587"
      },
      "execution_count": null,
      "outputs": [
        {
          "output_type": "stream",
          "name": "stdout",
          "text": [
            "[]\n"
          ]
        }
      ]
    },
    {
      "cell_type": "markdown",
      "source": [
        "### Обращение к элементам списка"
      ],
      "metadata": {
        "id": "8C-tCXwCY83U"
      }
    },
    {
      "cell_type": "markdown",
      "source": [
        "Индексы начинаются с нуля. То есть первый элемент будет иметь индекс 0, второй элемент - индекс 1 и так далее. "
      ],
      "metadata": {
        "id": "HCHhTHMuZW-R"
      }
    },
    {
      "cell_type": "code",
      "metadata": {
        "colab": {
          "base_uri": "https://localhost:8080/"
        },
        "id": "9qphtGUibgVc",
        "outputId": "282d2279-b382-4a47-a2a6-80b089f63b58"
      },
      "source": [
        "names = ['Dmitry', 'Anton', 'Aleksei']\n",
        "\n",
        "print(names[0])\n",
        "print(names[1])\n",
        "print(names[2])"
      ],
      "execution_count": null,
      "outputs": [
        {
          "output_type": "stream",
          "name": "stdout",
          "text": [
            "Dmitry\n",
            "Anton\n",
            "Aleksei\n"
          ]
        }
      ]
    },
    {
      "cell_type": "markdown",
      "source": [
        "Для обращения к элементам с конца можно использовать отрицательные индексы, начиная с -1. То есть у последнего элемента будет индекс -1, у предпоследнего - -2 и так далее."
      ],
      "metadata": {
        "id": "qQO9_OYgZb0G"
      }
    },
    {
      "cell_type": "code",
      "source": [
        "names = ['Dmitry', 'Anton', 'Aleksei']\n",
        "\n",
        "print(names[-1])\n",
        "print(names[-2])\n",
        "print(names[-3])"
      ],
      "metadata": {
        "colab": {
          "base_uri": "https://localhost:8080/"
        },
        "id": "Bh4b-_HvZShZ",
        "outputId": "e4cedf6d-b8da-4397-8482-817abc76f26b"
      },
      "execution_count": null,
      "outputs": [
        {
          "output_type": "stream",
          "name": "stdout",
          "text": [
            "Aleksei\n",
            "Anton\n",
            "Dmitry\n"
          ]
        }
      ]
    },
    {
      "cell_type": "markdown",
      "source": [
        "### Изменение элемента списка"
      ],
      "metadata": {
        "id": "5MQeBu8UZxFe"
      }
    },
    {
      "cell_type": "code",
      "source": [
        "names = ['Dmitry', 'Anton', 'Aleksei']\n",
        "print('До изменения:', names)\n",
        "\n",
        "names[2] = 'Romanov'\n",
        "\n",
        "print('После изменения:', names)"
      ],
      "metadata": {
        "colab": {
          "base_uri": "https://localhost:8080/"
        },
        "id": "bcyGaltYZqf-",
        "outputId": "c3838581-fccb-4915-f7ba-7a9d59f98ea8"
      },
      "execution_count": null,
      "outputs": [
        {
          "output_type": "stream",
          "name": "stdout",
          "text": [
            "До изменения: ['Dmitry', 'Anton', 'Aleksei']\n",
            "После изменения: ['Dmitry', 'Anton', 'Romanov']\n"
          ]
        }
      ]
    },
    {
      "cell_type": "markdown",
      "source": [
        "### Разложение списка"
      ],
      "metadata": {
        "id": "w6AhZIDAaU7G"
      }
    },
    {
      "cell_type": "markdown",
      "source": [
        "Разложение списка работает только в том случае, если количество переменных равно числу элементов присваиваемого списка."
      ],
      "metadata": {
        "id": "Mwoql4Sdazka"
      }
    },
    {
      "cell_type": "code",
      "source": [
        "names = ['Dmitry', 'Anton', 'Aleksei']\n",
        "\n",
        "person1, person2, person3 = names\n",
        "\n",
        "print('Первый сотрудник:', person1)\n",
        "print('Второй сотрудник:', person2)\n",
        "print('Третий сотрудник:', person3)"
      ],
      "metadata": {
        "colab": {
          "base_uri": "https://localhost:8080/"
        },
        "id": "tsuImjBGaR9u",
        "outputId": "7633eb90-b4c1-48a6-aefb-d4ddd86b3796"
      },
      "execution_count": null,
      "outputs": [
        {
          "output_type": "stream",
          "name": "stdout",
          "text": [
            "Первый сотрудник: Dmitry\n",
            "Второй сотрудник: Anton\n",
            "Третий сотрудник: Aleksei\n"
          ]
        }
      ]
    },
    {
      "cell_type": "markdown",
      "source": [
        "### Методы"
      ],
      "metadata": {
        "id": "SG4EjQWhbLzl"
      }
    },
    {
      "cell_type": "markdown",
      "source": [
        "*   list.append(elem) — добавляет один элемент в конец списка. "
      ],
      "metadata": {
        "id": "lBxslsCIbQxD"
      }
    },
    {
      "cell_type": "code",
      "source": [
        "names = ['Dmitry', 'Anton', 'Aleksei']\n",
        "\n",
        "names.append('Vladimir')\n",
        "print(names)"
      ],
      "metadata": {
        "colab": {
          "base_uri": "https://localhost:8080/"
        },
        "id": "7zQPbV7acpzG",
        "outputId": "6f80888a-a305-4092-8c93-a52b64ae0af3"
      },
      "execution_count": null,
      "outputs": [
        {
          "output_type": "stream",
          "name": "stdout",
          "text": [
            "['Dmitry', 'Anton', 'Aleksei', 'Vladimir']\n"
          ]
        }
      ]
    },
    {
      "cell_type": "markdown",
      "source": [
        "*   list.insert(index, elem) — вставляет элемент с заданным индексом, сдвигая элементы вправо."
      ],
      "metadata": {
        "id": "kNtHoA7edCp_"
      }
    },
    {
      "cell_type": "code",
      "source": [
        "names = ['Dmitry', 'Anton', 'Aleksei']\n",
        "\n",
        "names.insert(0, 'Vladimir')\n",
        "print(names)"
      ],
      "metadata": {
        "colab": {
          "base_uri": "https://localhost:8080/"
        },
        "id": "F81taYEnc4X7",
        "outputId": "85a31f3a-352b-4091-9093-18f68598a868"
      },
      "execution_count": null,
      "outputs": [
        {
          "output_type": "stream",
          "name": "stdout",
          "text": [
            "['Vladimir', 'Dmitry', 'Anton', 'Aleksei']\n"
          ]
        }
      ]
    },
    {
      "cell_type": "markdown",
      "source": [
        "*   list.extend(list2) — добавляет элементы списка list2 в конец списка list. "
      ],
      "metadata": {
        "id": "ShPhDbIRdEOj"
      }
    },
    {
      "cell_type": "code",
      "source": [
        "names = ['Dmitry', 'Anton', 'Aleksei']\n",
        "\n",
        "names.extend(['Vladimir', 'Petr', 'Sergei'])\n",
        "print(names)"
      ],
      "metadata": {
        "colab": {
          "base_uri": "https://localhost:8080/"
        },
        "id": "vcI3eS5ddHYN",
        "outputId": "b3954bb3-6601-45a8-885c-186822501769"
      },
      "execution_count": null,
      "outputs": [
        {
          "output_type": "stream",
          "name": "stdout",
          "text": [
            "['Dmitry', 'Anton', 'Aleksei', 'Vladimir', 'Petr', 'Sergei']\n"
          ]
        }
      ]
    },
    {
      "cell_type": "markdown",
      "source": [
        "*   list.index(elem) — выполняет поиск элемента c началама списка и возвращает его индекс."
      ],
      "metadata": {
        "id": "D5SJpqv1daxQ"
      }
    },
    {
      "cell_type": "code",
      "source": [
        "names = ['Dmitry', 'Anton', 'Aleksei']\n",
        "\n",
        "print(names.index('Anton'))"
      ],
      "metadata": {
        "colab": {
          "base_uri": "https://localhost:8080/"
        },
        "id": "0iL7RYo7de2T",
        "outputId": "5a42641e-1265-4183-a31c-37e0528e2aa3"
      },
      "execution_count": null,
      "outputs": [
        {
          "output_type": "stream",
          "name": "stdout",
          "text": [
            "1\n"
          ]
        }
      ]
    },
    {
      "cell_type": "code",
      "source": [
        "names = ['Dmitry', 'Anton', 'Aleksei', 'Anton']\n",
        "\n",
        "print(names.index('Anton'))"
      ],
      "metadata": {
        "colab": {
          "base_uri": "https://localhost:8080/"
        },
        "id": "5alQW3q4doH9",
        "outputId": "c284da68-a682-4045-d9a8-b5c78f931814"
      },
      "execution_count": null,
      "outputs": [
        {
          "output_type": "stream",
          "name": "stdout",
          "text": [
            "1\n"
          ]
        }
      ]
    },
    {
      "cell_type": "markdown",
      "source": [
        "*   list.remove(elem) — выполняет поиск первого экземпляра данного элемента и удаляет его."
      ],
      "metadata": {
        "id": "xR9QXWuCd8BV"
      }
    },
    {
      "cell_type": "code",
      "source": [
        "names = ['Dmitry', 'Anton', 'Aleksei', 'Anton']\n",
        "names.remove('Anton')\n",
        "\n",
        "print(names)"
      ],
      "metadata": {
        "colab": {
          "base_uri": "https://localhost:8080/"
        },
        "id": "5lJuzlkOd-HM",
        "outputId": "805ebd0e-0976-4078-b004-058cca66fccd"
      },
      "execution_count": null,
      "outputs": [
        {
          "output_type": "stream",
          "name": "stdout",
          "text": [
            "['Dmitry', 'Aleksei', 'Anton']\n"
          ]
        }
      ]
    },
    {
      "cell_type": "markdown",
      "source": [
        "*   list.pop(index) — удаляет и возвращает элемент с заданным индексом. "
      ],
      "metadata": {
        "id": "6261DWZfeuQ9"
      }
    },
    {
      "cell_type": "code",
      "source": [
        "names = ['Dmitry', 'Anton', 'Aleksei']\n",
        "\n",
        "deleted_name = names.pop(0)\n",
        "\n",
        "print('Удален элемент списка:', deleted_name)\n",
        "print('Список:', names)"
      ],
      "metadata": {
        "colab": {
          "base_uri": "https://localhost:8080/"
        },
        "id": "vU5MlCmbevth",
        "outputId": "a8c36eec-7d27-45fe-a789-f382e2751d9d"
      },
      "execution_count": null,
      "outputs": [
        {
          "output_type": "stream",
          "name": "stdout",
          "text": [
            "Удален элемент списка: Dmitry\n",
            "Список: ['Anton', 'Aleksei']\n"
          ]
        }
      ]
    },
    {
      "cell_type": "code",
      "source": [
        "names = ['Dmitry', 'Anton', 'Aleksei']\n",
        "\n",
        "deleted_name = names.pop() # По умолчанию индекс -1\n",
        "\n",
        "print('Удален элемент списка:', deleted_name)\n",
        "print('Список:', names)"
      ],
      "metadata": {
        "colab": {
          "base_uri": "https://localhost:8080/"
        },
        "id": "2BkCvfWnfU_E",
        "outputId": "914eb7d6-ae72-42a9-eb4a-07af37a46620"
      },
      "execution_count": null,
      "outputs": [
        {
          "output_type": "stream",
          "name": "stdout",
          "text": [
            "Удален элемент списка: Aleksei\n",
            "Список: ['Dmitry', 'Anton']\n"
          ]
        }
      ]
    },
    {
      "cell_type": "markdown",
      "source": [
        "*   list.sort() — сортировка списка."
      ],
      "metadata": {
        "id": "5cH8R9wPeofN"
      }
    },
    {
      "cell_type": "code",
      "source": [
        "names = ['Dmitry', 'Anton', 'Aleksei']\n",
        "\n",
        "names.sort()\n",
        "print(names)"
      ],
      "metadata": {
        "colab": {
          "base_uri": "https://localhost:8080/"
        },
        "id": "VdknBMJRf66_",
        "outputId": "ee89e000-0af2-43b4-8fa5-5c81f372282e"
      },
      "execution_count": null,
      "outputs": [
        {
          "output_type": "stream",
          "name": "stdout",
          "text": [
            "['Aleksei', 'Anton', 'Dmitry']\n"
          ]
        }
      ]
    },
    {
      "cell_type": "code",
      "source": [
        "names = ['Dmitry', 'Anton', 'Aleksei']\n",
        "\n",
        "names.sort(reverse=True)\n",
        "print(names)"
      ],
      "metadata": {
        "colab": {
          "base_uri": "https://localhost:8080/"
        },
        "id": "czqUe5xogGTU",
        "outputId": "9cc1ca8f-7f81-4ff0-dd7a-13a5e1630254"
      },
      "execution_count": null,
      "outputs": [
        {
          "output_type": "stream",
          "name": "stdout",
          "text": [
            "['Dmitry', 'Anton', 'Aleksei']\n"
          ]
        }
      ]
    },
    {
      "cell_type": "markdown",
      "source": [
        "*   list.count(item) — возвращает количество вхождений элемента item в список."
      ],
      "metadata": {
        "id": "kI4RtL4tgem1"
      }
    },
    {
      "cell_type": "code",
      "source": [
        "names = ['Dmitry', 'Anton', 'Aleksei', 'Anton']\n",
        "\n",
        "print('Имя Dmitry:', names.count('Dmitry'))\n",
        "print('Имя Anton:', names.count('Anton'))"
      ],
      "metadata": {
        "colab": {
          "base_uri": "https://localhost:8080/"
        },
        "id": "HXnEduxRgoA-",
        "outputId": "defd2481-9983-4ff1-f02e-46a79c78c323"
      },
      "execution_count": null,
      "outputs": [
        {
          "output_type": "stream",
          "name": "stdout",
          "text": [
            "Имя Dmitry: 1\n",
            "Имя Anton: 2\n"
          ]
        }
      ]
    },
    {
      "cell_type": "markdown",
      "source": [
        "*   list.reverse() — переворачивает список.\n"
      ],
      "metadata": {
        "id": "sOYvpVoodF7M"
      }
    },
    {
      "cell_type": "code",
      "metadata": {
        "id": "SXac2sTLbHFQ",
        "colab": {
          "base_uri": "https://localhost:8080/"
        },
        "outputId": "0cd54e8a-b5d9-4866-f655-30fe220a813d"
      },
      "source": [
        "ages = [1, 7, 3, 76, 0, 2]\n",
        "\n",
        "ages.reverse()\n",
        "print(ages)"
      ],
      "execution_count": null,
      "outputs": [
        {
          "output_type": "stream",
          "name": "stdout",
          "text": [
            "[2, 0, 76, 3, 7, 1]\n"
          ]
        }
      ]
    },
    {
      "cell_type": "markdown",
      "source": [
        "*   list.copy() — копирует список."
      ],
      "metadata": {
        "id": "6JMNDNgKhuTI"
      }
    },
    {
      "cell_type": "code",
      "metadata": {
        "colab": {
          "base_uri": "https://localhost:8080/"
        },
        "id": "6g9Redth6pWH",
        "outputId": "e3d5e5c0-5c62-4f20-8d81-144897247264"
      },
      "source": [
        "names = ['Dmitry', 'Anton', 'Aleksei']\n",
        "print('Исходный список:', names)\n",
        "\n",
        "new_names = names.copy()\n",
        "print('Новый список:', new_names)"
      ],
      "execution_count": null,
      "outputs": [
        {
          "output_type": "stream",
          "name": "stdout",
          "text": [
            "Исходный список: ['Dmitry', 'Anton', 'Aleksei']\n",
            "Новый список: ['Dmitry', 'Anton', 'Aleksei']\n"
          ]
        }
      ]
    },
    {
      "cell_type": "code",
      "source": [
        "names = ['Dmitry', 'Anton', 'Aleksei']\n",
        "print('Исходный список:', names)\n",
        "\n",
        "new_names = names\n",
        "print('Новый список:', new_names)"
      ],
      "metadata": {
        "colab": {
          "base_uri": "https://localhost:8080/"
        },
        "id": "J9m8TDBniCvv",
        "outputId": "17596a53-afe7-4b77-dcb3-5bc69d346dac"
      },
      "execution_count": null,
      "outputs": [
        {
          "output_type": "stream",
          "name": "stdout",
          "text": [
            "Исходный список: ['Dmitry', 'Anton', 'Aleksei']\n",
            "Новый список: ['Dmitry', 'Anton', 'Aleksei']\n"
          ]
        }
      ]
    },
    {
      "cell_type": "code",
      "source": [
        "names = ['Dmitry', 'Anton', 'Aleksei']\n",
        "print('Исходный список:', names)\n",
        "\n",
        "new_names_1 = names.copy()\n",
        "new_names_2 = names\n",
        "\n",
        "names.append('Petr')\n",
        "print('Исходный список после добавления:', names)\n",
        "\n",
        "print('Новый список 1:', new_names_1)\n",
        "print('Новый список 2:', new_names_2)"
      ],
      "metadata": {
        "colab": {
          "base_uri": "https://localhost:8080/"
        },
        "id": "if_7i7NniF17",
        "outputId": "fde763dd-7100-4f63-b334-afebed5a2821"
      },
      "execution_count": null,
      "outputs": [
        {
          "output_type": "stream",
          "name": "stdout",
          "text": [
            "Исходный список: ['Dmitry', 'Anton', 'Aleksei']\n",
            "Исходный список после добавления: ['Dmitry', 'Anton', 'Aleksei', 'Petr']\n",
            "Новый список 1: ['Dmitry', 'Anton', 'Aleksei']\n",
            "Новый список 2: ['Dmitry', 'Anton', 'Aleksei', 'Petr']\n"
          ]
        }
      ]
    },
    {
      "cell_type": "markdown",
      "source": [
        "* list.clear() — удаление всех элементов из списка."
      ],
      "metadata": {
        "id": "zSQAo9zei3db"
      }
    },
    {
      "cell_type": "code",
      "source": [
        "names = ['Dmitry', 'Anton', 'Aleksei']\n",
        "print('Исходный список:', names)\n",
        "\n",
        "names.clear()\n",
        "print('После clear:', names)"
      ],
      "metadata": {
        "colab": {
          "base_uri": "https://localhost:8080/"
        },
        "id": "h5QO-IFTi-Xy",
        "outputId": "57dbe659-c17b-4728-a702-816ab2983cba"
      },
      "execution_count": null,
      "outputs": [
        {
          "output_type": "stream",
          "name": "stdout",
          "text": [
            "Исходный список: ['Dmitry', 'Anton', 'Aleksei']\n",
            "После clear: []\n"
          ]
        }
      ]
    },
    {
      "cell_type": "markdown",
      "source": [
        "### Функции для работы со списками"
      ],
      "metadata": {
        "id": "spND0p7Mu5ax"
      }
    },
    {
      "cell_type": "markdown",
      "source": [
        "* len(list) — возвращает длину списка."
      ],
      "metadata": {
        "id": "GeOQVStJvBeR"
      }
    },
    {
      "cell_type": "code",
      "source": [
        "names = ['Dmitry', 'Anton', 'Aleksei']\n",
        "print('Длина списка names:', len(names))"
      ],
      "metadata": {
        "colab": {
          "base_uri": "https://localhost:8080/"
        },
        "id": "8W2QrZbMu8SB",
        "outputId": "eb4b2b67-6362-476a-d96c-fb81613bc186"
      },
      "execution_count": null,
      "outputs": [
        {
          "output_type": "stream",
          "name": "stdout",
          "text": [
            "Длина списка names: 3\n"
          ]
        }
      ]
    },
    {
      "cell_type": "markdown",
      "source": [
        "* min(list) — возвращает наименьший элемент списка.\n",
        "* max(list) — возвращает наибольший элемент списка."
      ],
      "metadata": {
        "id": "lJsfpo5TvTLj"
      }
    },
    {
      "cell_type": "code",
      "source": [
        "ages = [1, 7, 3, 76, 0, 2]\n",
        "\n",
        "print('Минимальный элемент:', min(ages))\n",
        "print('Максимальный элемент:', max(ages))"
      ],
      "metadata": {
        "colab": {
          "base_uri": "https://localhost:8080/"
        },
        "id": "TjpTuX1OvhHx",
        "outputId": "58d7ffc6-ff87-4c18-d45b-a8bd802b3af6"
      },
      "execution_count": null,
      "outputs": [
        {
          "output_type": "stream",
          "name": "stdout",
          "text": [
            "Минимальный элемент: 0\n",
            "Максимальный элемент: 76\n"
          ]
        }
      ]
    },
    {
      "cell_type": "code",
      "source": [
        "names = ['Dmitry', 'Anton', 'Aleksei']\n",
        "\n",
        "print('Минимальный элемент:', min(names))\n",
        "print('Максимальный элемент:', max(names))"
      ],
      "metadata": {
        "colab": {
          "base_uri": "https://localhost:8080/"
        },
        "id": "u-6shJphvpk4",
        "outputId": "1fa8c070-4f49-4078-fffb-a15749eb2cb9"
      },
      "execution_count": null,
      "outputs": [
        {
          "output_type": "stream",
          "name": "stdout",
          "text": [
            "Минимальный элемент: Aleksei\n",
            "Максимальный элемент: Dmitry\n"
          ]
        }
      ]
    },
    {
      "cell_type": "code",
      "source": [
        "names = ['AAA', 'ABC', 'BC', 'BD']\n",
        "\n",
        "print('Минимальный элемент:', min(names))\n",
        "print('Максимальный элемент:', max(names))"
      ],
      "metadata": {
        "colab": {
          "base_uri": "https://localhost:8080/"
        },
        "id": "y03Z_ZtGv6gE",
        "outputId": "acb2defc-e9f1-4110-935e-e6ad3e0b1774"
      },
      "execution_count": null,
      "outputs": [
        {
          "output_type": "stream",
          "name": "stdout",
          "text": [
            "Минимальный элемент: AAA\n",
            "Максимальный элемент: BD\n"
          ]
        }
      ]
    },
    {
      "cell_type": "markdown",
      "source": [
        "* sum(list) — возвращает сумму чисел списка."
      ],
      "metadata": {
        "id": "op-cKq-J16dd"
      }
    },
    {
      "cell_type": "code",
      "metadata": {
        "colab": {
          "base_uri": "https://localhost:8080/"
        },
        "id": "cexjaYuCbOQn",
        "outputId": "0a56b093-d6d3-4ba1-cbd2-b1546ba64719"
      },
      "source": [
        "ages = [1, 7, 3, 76, 0, 2]\n",
        "\n",
        "print('Сумма чисел:', sum(ages))"
      ],
      "execution_count": null,
      "outputs": [
        {
          "output_type": "stream",
          "name": "stdout",
          "text": [
            "Сумма чисел: 89\n"
          ]
        }
      ]
    },
    {
      "cell_type": "markdown",
      "source": [
        "### Перебор элементов списка"
      ],
      "metadata": {
        "id": "set1wrhZ3zDs"
      }
    },
    {
      "cell_type": "code",
      "metadata": {
        "colab": {
          "base_uri": "https://localhost:8080/"
        },
        "id": "COb6hcnFbbFs",
        "outputId": "ef2aeeec-4540-4915-c43f-e3d744958279"
      },
      "source": [
        "names = ['Dmitry', 'Anton', 'Aleksei']\n",
        "\n",
        "for i in range(0, len(names)): #i изменяется от 0 до длины списка, т.е. до 3 не включительно\n",
        "    print(names[i])"
      ],
      "execution_count": null,
      "outputs": [
        {
          "output_type": "stream",
          "name": "stdout",
          "text": [
            "Dmitry\n",
            "Anton\n",
            "Aleksei\n"
          ]
        }
      ]
    },
    {
      "cell_type": "code",
      "source": [
        "names = ['Dmitry', 'Anton', 'Aleksei']\n",
        "\n",
        "i = 0\n",
        "while i < len(names):\n",
        "    print(names[i])\n",
        "    i+=1"
      ],
      "metadata": {
        "colab": {
          "base_uri": "https://localhost:8080/"
        },
        "id": "Xn2oTqLe5LOg",
        "outputId": "e49f1839-0cf1-4722-bbad-56c0fbd1f1c9"
      },
      "execution_count": null,
      "outputs": [
        {
          "output_type": "stream",
          "name": "stdout",
          "text": [
            "Dmitry\n",
            "Anton\n",
            "Aleksei\n"
          ]
        }
      ]
    },
    {
      "cell_type": "code",
      "source": [
        "names = ['Dmitry', 'Anton', 'Aleksei']\n",
        "\n",
        "for item in names: #item принимает последовательно значения из списка names\n",
        "    print(item)"
      ],
      "metadata": {
        "colab": {
          "base_uri": "https://localhost:8080/"
        },
        "id": "Gn3WdWAXBItE",
        "outputId": "4f0bb2d1-e2b8-4e8f-896f-a109bb09c3b9"
      },
      "execution_count": null,
      "outputs": [
        {
          "output_type": "stream",
          "name": "stdout",
          "text": [
            "Dmitry\n",
            "Anton\n",
            "Aleksei\n"
          ]
        }
      ]
    },
    {
      "cell_type": "markdown",
      "metadata": {
        "id": "wiyRVgSycDqO"
      },
      "source": [
        "## Задание для самопроверки 1"
      ]
    },
    {
      "cell_type": "markdown",
      "metadata": {
        "id": "qRiUmzofcGfh"
      },
      "source": [
        "При помощи Python реализуйте функцию с именем <code>gen_list()</code>. На вход функция должна принимать 3 параметра: $a, b, c \\in \\mathbb{N}$, $a < b, c < b$. Возвращать функция должна список натуральных чисел в диапазоне $[a,b)$ с шагом $c$."
      ]
    },
    {
      "cell_type": "code",
      "metadata": {
        "id": "RMUJiNU4cFZT"
      },
      "source": [
        "def gen_list(a, b, c):\n",
        "  numbers = [] # Инициализируем пустой список\n",
        "  for i in range(a, b, c): # Идем от a до b с шагом c\n",
        "    numbers.append(i) # Добавляем элемент в список\n",
        "  return numbers"
      ],
      "execution_count": null,
      "outputs": []
    },
    {
      "cell_type": "code",
      "metadata": {
        "colab": {
          "base_uri": "https://localhost:8080/"
        },
        "id": "Lz_Ipbck9lHM",
        "outputId": "9936bb2f-a202-4235-a82c-390684aab72a"
      },
      "source": [
        "print(gen_list(60, 100, 33))\n",
        "print(gen_list(1, 10, 2))"
      ],
      "execution_count": null,
      "outputs": [
        {
          "output_type": "stream",
          "name": "stdout",
          "text": [
            "[60, 93]\n",
            "[1, 3, 5, 7, 9]\n"
          ]
        }
      ]
    },
    {
      "cell_type": "code",
      "source": [
        "def gen_list(a, b, c):\n",
        "  numbers = []\n",
        "  i = a\n",
        "  while i < b: \n",
        "    numbers.append(i)\n",
        "    i += c\n",
        "  return numbers"
      ],
      "metadata": {
        "id": "RzkI--YfC3xM"
      },
      "execution_count": null,
      "outputs": []
    },
    {
      "cell_type": "code",
      "source": [
        "print(gen_list(60, 100, 33))\n",
        "print(gen_list(1, 10, 2))"
      ],
      "metadata": {
        "colab": {
          "base_uri": "https://localhost:8080/"
        },
        "id": "wo39fGxDD0zM",
        "outputId": "7f9b6da7-f29f-44cc-9618-3290a1449a60"
      },
      "execution_count": null,
      "outputs": [
        {
          "output_type": "stream",
          "name": "stdout",
          "text": [
            "[60, 93]\n",
            "[1, 3, 5, 7, 9]\n"
          ]
        }
      ]
    },
    {
      "cell_type": "markdown",
      "source": [
        "##  Кортежи (совсем немного)"
      ],
      "metadata": {
        "id": "vb9o7e4FVH-1"
      }
    },
    {
      "cell_type": "markdown",
      "source": [
        "### Создание и обращение к элементам"
      ],
      "metadata": {
        "id": "QAQkVfhYV7tM"
      }
    },
    {
      "cell_type": "code",
      "source": [
        "empty_tuple = ()\n",
        "empty_tuple = tuple()\n",
        "print(empty_tuple)"
      ],
      "metadata": {
        "colab": {
          "base_uri": "https://localhost:8080/"
        },
        "id": "4YbSCubyVVma",
        "outputId": "2681d80e-a001-4486-c99c-fb29f2bdc432"
      },
      "execution_count": null,
      "outputs": [
        {
          "output_type": "stream",
          "name": "stdout",
          "text": [
            "()\n"
          ]
        }
      ]
    },
    {
      "cell_type": "code",
      "source": [
        "my_tuple = (1, 2, 'cat', 1.67)\n",
        "\n",
        "print(my_tuple)"
      ],
      "metadata": {
        "colab": {
          "base_uri": "https://localhost:8080/"
        },
        "id": "W3LfKySAVas_",
        "outputId": "941f8325-b7e7-4c36-d982-bbf40c1558aa"
      },
      "execution_count": null,
      "outputs": [
        {
          "output_type": "stream",
          "name": "stdout",
          "text": [
            "(1, 2, 'cat', 1.67)\n"
          ]
        }
      ]
    },
    {
      "cell_type": "code",
      "source": [
        "my_tuple = (1, 2, 'cat', 1.67)\n",
        "\n",
        "print(my_tuple[2])"
      ],
      "metadata": {
        "colab": {
          "base_uri": "https://localhost:8080/"
        },
        "id": "bLryDYMyV5NW",
        "outputId": "d60be90c-cb29-4045-9692-efda294f73ae"
      },
      "execution_count": null,
      "outputs": [
        {
          "output_type": "stream",
          "name": "stdout",
          "text": [
            "cat\n"
          ]
        }
      ]
    },
    {
      "cell_type": "markdown",
      "source": [
        "### В чем разница?"
      ],
      "metadata": {
        "id": "ftKaGGSmWLZH"
      }
    },
    {
      "cell_type": "code",
      "source": [
        "my_list = [1, 2, 'cat', 1.67]\n",
        "\n",
        "my_list[2] = 'dog'\n",
        "print(my_list)"
      ],
      "metadata": {
        "colab": {
          "base_uri": "https://localhost:8080/"
        },
        "id": "Vp-ctT7yWS1y",
        "outputId": "eab0f3a6-efc1-4d66-d47d-4d05561e498f"
      },
      "execution_count": null,
      "outputs": [
        {
          "output_type": "stream",
          "name": "stdout",
          "text": [
            "[1, 2, 'dog', 1.67]\n"
          ]
        }
      ]
    },
    {
      "cell_type": "code",
      "source": [
        "my_tuple = (1, 2, 'cat', 1.67)\n",
        "\n",
        "my_tuple[2] = 'dog' # тут будет ошибка, так и должно быть :)\n",
        "print(my_tuple)"
      ],
      "metadata": {
        "colab": {
          "base_uri": "https://localhost:8080/",
          "height": 215
        },
        "id": "XtwOa6-eWQSo",
        "outputId": "31c870ac-f0a3-4891-c65a-b7a95bb91880"
      },
      "execution_count": null,
      "outputs": [
        {
          "output_type": "error",
          "ename": "TypeError",
          "evalue": "ignored",
          "traceback": [
            "\u001b[0;31m---------------------------------------------------------------------------\u001b[0m",
            "\u001b[0;31mTypeError\u001b[0m                                 Traceback (most recent call last)",
            "\u001b[0;32m<ipython-input-40-b2e7f02ee2c8>\u001b[0m in \u001b[0;36m<module>\u001b[0;34m()\u001b[0m\n\u001b[1;32m      1\u001b[0m \u001b[0mmy_tuple\u001b[0m \u001b[0;34m=\u001b[0m \u001b[0;34m(\u001b[0m\u001b[0;36m1\u001b[0m\u001b[0;34m,\u001b[0m \u001b[0;36m2\u001b[0m\u001b[0;34m,\u001b[0m \u001b[0;34m'cat'\u001b[0m\u001b[0;34m,\u001b[0m \u001b[0;36m1.67\u001b[0m\u001b[0;34m)\u001b[0m\u001b[0;34m\u001b[0m\u001b[0;34m\u001b[0m\u001b[0m\n\u001b[1;32m      2\u001b[0m \u001b[0;34m\u001b[0m\u001b[0m\n\u001b[0;32m----> 3\u001b[0;31m \u001b[0mmy_tuple\u001b[0m\u001b[0;34m[\u001b[0m\u001b[0;36m2\u001b[0m\u001b[0;34m]\u001b[0m \u001b[0;34m=\u001b[0m \u001b[0;34m'dog'\u001b[0m \u001b[0;31m# тут будет ошибка, так и должно быть :)\u001b[0m\u001b[0;34m\u001b[0m\u001b[0;34m\u001b[0m\u001b[0m\n\u001b[0m\u001b[1;32m      4\u001b[0m \u001b[0mprint\u001b[0m\u001b[0;34m(\u001b[0m\u001b[0mmy_tuple\u001b[0m\u001b[0;34m)\u001b[0m\u001b[0;34m\u001b[0m\u001b[0;34m\u001b[0m\u001b[0m\n",
            "\u001b[0;31mTypeError\u001b[0m: 'tuple' object does not support item assignment"
          ]
        }
      ]
    },
    {
      "cell_type": "markdown",
      "metadata": {
        "id": "0Nkt23pEfEq-"
      },
      "source": [
        "## Словари"
      ]
    },
    {
      "cell_type": "markdown",
      "source": [
        "```\n",
        "my_dict = {\n",
        "    <key>: <value>,\n",
        "    <key>: <value>,\n",
        "      .\n",
        "      .\n",
        "      .\n",
        "    <key>: <value>\n",
        "}\n",
        "```\n",
        "\n"
      ],
      "metadata": {
        "id": "-dryAHAiOEoh"
      }
    },
    {
      "cell_type": "markdown",
      "source": [
        "### Создание словаря"
      ],
      "metadata": {
        "id": "GAwlf9aWFjqr"
      }
    },
    {
      "cell_type": "code",
      "source": [
        "my_dict = {}\n",
        "my_dict = dict()\n",
        "\n",
        "print(my_dict)"
      ],
      "metadata": {
        "colab": {
          "base_uri": "https://localhost:8080/"
        },
        "id": "hkK1SZxyOUyh",
        "outputId": "8447a165-7603-4683-c07b-aa9c256f2c88"
      },
      "execution_count": null,
      "outputs": [
        {
          "output_type": "stream",
          "name": "stdout",
          "text": [
            "{}\n"
          ]
        }
      ]
    },
    {
      "cell_type": "code",
      "source": [
        "my_dict = {\n",
        "    1: 'Dmitry',\n",
        "    2: 'Anton'\n",
        "    }\n",
        "\n",
        "print(my_dict)"
      ],
      "metadata": {
        "colab": {
          "base_uri": "https://localhost:8080/"
        },
        "id": "whY0rTIWFl1o",
        "outputId": "5a087ba2-e291-4cc7-f203-838f8eea5ded"
      },
      "execution_count": null,
      "outputs": [
        {
          "output_type": "stream",
          "name": "stdout",
          "text": [
            "{1: 'Dmitry', 2: 'Anton'}\n"
          ]
        }
      ]
    },
    {
      "cell_type": "code",
      "source": [
        "my_dict = {'name': 'Aleksei',\n",
        "           1: [2, 4, 3]\n",
        "           }\n",
        "\n",
        "print(my_dict)"
      ],
      "metadata": {
        "colab": {
          "base_uri": "https://localhost:8080/"
        },
        "id": "G3cRlebuOTln",
        "outputId": "26ac86c0-8d7c-4eb4-9c69-44be92b08fe6"
      },
      "execution_count": null,
      "outputs": [
        {
          "output_type": "stream",
          "name": "stdout",
          "text": [
            "{'name': 'Aleksei', 1: [2, 4, 3]}\n"
          ]
        }
      ]
    },
    {
      "cell_type": "markdown",
      "source": [
        "### Обращение к элементам словаря"
      ],
      "metadata": {
        "id": "Bp8TUPUMPB0S"
      }
    },
    {
      "cell_type": "code",
      "metadata": {
        "id": "ZDkQv96bfo-A",
        "colab": {
          "base_uri": "https://localhost:8080/"
        },
        "outputId": "a5cb82fd-5942-4802-868b-82cd84e4403a"
      },
      "source": [
        "person = {'name': 'Aleksei', 'gender': 'муж.', 'age': 33}\n",
        "\n",
        "print(person['age'])\n",
        "\n",
        "print(person['name'])"
      ],
      "execution_count": null,
      "outputs": [
        {
          "output_type": "stream",
          "name": "stdout",
          "text": [
            "33\n",
            "Aleksei\n"
          ]
        }
      ]
    },
    {
      "cell_type": "markdown",
      "source": [
        "### Изменение словаря"
      ],
      "metadata": {
        "id": "Z4sM4ivJPh2t"
      }
    },
    {
      "cell_type": "markdown",
      "source": [
        "Изменение существующего значения для ключа age"
      ],
      "metadata": {
        "id": "Go9t2fj8PpCd"
      }
    },
    {
      "cell_type": "code",
      "metadata": {
        "id": "raVPdP51frbH",
        "colab": {
          "base_uri": "https://localhost:8080/"
        },
        "outputId": "dee9fcd4-a2db-4ab2-a727-b79560af267b"
      },
      "source": [
        "person = {'name': 'Aleksei', 'gender': 'муж.', 'age': 33}\n",
        "\n",
        "person['age'] = 21\n",
        "print(person)"
      ],
      "execution_count": null,
      "outputs": [
        {
          "output_type": "stream",
          "name": "stdout",
          "text": [
            "{'name': 'Aleksei', 'gender': 'муж.', 'age': 21}\n"
          ]
        }
      ]
    },
    {
      "cell_type": "markdown",
      "source": [
        "Добавление новой пары ключ:значение"
      ],
      "metadata": {
        "id": "ysY6Zk4VPz2r"
      }
    },
    {
      "cell_type": "code",
      "metadata": {
        "id": "YzmxwV6keGz-",
        "colab": {
          "base_uri": "https://localhost:8080/"
        },
        "outputId": "d47ac806-cbc9-4c7e-92ed-1b98166fd1e5"
      },
      "source": [
        "person = {'name': 'Aleksei', 'gender': 'муж.', 'age': 33}\n",
        "\n",
        "person['surname'] = 'Romanov'\n",
        "print(person)"
      ],
      "execution_count": null,
      "outputs": [
        {
          "output_type": "stream",
          "name": "stdout",
          "text": [
            "{'name': 'Aleksei', 'gender': 'муж.', 'age': 33, 'surname': 'Romanov'}\n"
          ]
        }
      ]
    },
    {
      "cell_type": "markdown",
      "source": [
        "### Основные методы"
      ],
      "metadata": {
        "id": "-_tbN5kFQfNi"
      }
    },
    {
      "cell_type": "markdown",
      "source": [
        "* dict.items() — возвращает список кортежей, содержащих пары ключ-значение словаря."
      ],
      "metadata": {
        "id": "ah4yDF9GQj5Q"
      }
    },
    {
      "cell_type": "code",
      "source": [
        "person = {'name': 'Aleksei', 'gender': 'муж.', 'age': 33}\n",
        "\n",
        "print(person.items())"
      ],
      "metadata": {
        "colab": {
          "base_uri": "https://localhost:8080/"
        },
        "id": "2Vw8tmVOeoFW",
        "outputId": "6070c8e2-4cf2-4c8b-f0e5-248026c39e8e"
      },
      "execution_count": null,
      "outputs": [
        {
          "output_type": "stream",
          "name": "stdout",
          "text": [
            "dict_items([('name', 'Aleksei'), ('gender', 'муж.'), ('age', 33)])\n"
          ]
        }
      ]
    },
    {
      "cell_type": "code",
      "source": [
        "person = {'name': 'Aleksei', 'gender': 'муж.', 'age': 33}\n",
        "\n",
        "person_new = list(person.items())\n",
        "\n",
        "print(person_new[0])\n",
        "print(person_new[1])\n",
        "print(person_new[2])"
      ],
      "metadata": {
        "colab": {
          "base_uri": "https://localhost:8080/"
        },
        "id": "BJWHZ8dZRNMs",
        "outputId": "d673e7c0-b220-4c24-c78a-16b71d1e6457"
      },
      "execution_count": null,
      "outputs": [
        {
          "output_type": "stream",
          "name": "stdout",
          "text": [
            "('name', 'Aleksei')\n",
            "('gender', 'муж.')\n",
            "('age', 33)\n"
          ]
        }
      ]
    },
    {
      "cell_type": "code",
      "source": [
        "person = {'name': 'Aleksei', 'gender': 'муж.', 'age': 33}\n",
        "\n",
        "person_new = list(person.items())\n",
        "\n",
        "key0, value0 = person_new[0]\n",
        "\n",
        "print(key0)\n",
        "print(value0)"
      ],
      "metadata": {
        "colab": {
          "base_uri": "https://localhost:8080/"
        },
        "id": "iWFF-yRFRn0r",
        "outputId": "2cb454c9-703f-423e-8792-03937c6841ce"
      },
      "execution_count": null,
      "outputs": [
        {
          "output_type": "stream",
          "name": "stdout",
          "text": [
            "name\n",
            "Aleksei\n"
          ]
        }
      ]
    },
    {
      "cell_type": "code",
      "source": [
        "persons = {\n",
        "    'Aleksei': '33',\n",
        "    'Petr': 39,\n",
        "    'Anton': 29,\n",
        "    'Dmitry': 33\n",
        "    }\n",
        "\n",
        "for key, value in persons.items():\n",
        "    print('Ключ: ', key)\n",
        "    print('Значение: ', value)\n",
        "    print('--------------------')"
      ],
      "metadata": {
        "colab": {
          "base_uri": "https://localhost:8080/"
        },
        "id": "d-_yBeF0R88Q",
        "outputId": "3d057f32-ceec-49cd-b04f-90761b15c678"
      },
      "execution_count": null,
      "outputs": [
        {
          "output_type": "stream",
          "name": "stdout",
          "text": [
            "Ключ:  Aleksei\n",
            "Значение:  33\n",
            "--------------------\n",
            "Ключ:  Petr\n",
            "Значение:  39\n",
            "--------------------\n",
            "Ключ:  Anton\n",
            "Значение:  29\n",
            "--------------------\n",
            "Ключ:  Dmitry\n",
            "Значение:  33\n",
            "--------------------\n"
          ]
        }
      ]
    },
    {
      "cell_type": "markdown",
      "source": [
        "* dict.keys() — возвращает список ключей словаря."
      ],
      "metadata": {
        "id": "UHoi4EmeTH9V"
      }
    },
    {
      "cell_type": "code",
      "metadata": {
        "colab": {
          "base_uri": "https://localhost:8080/"
        },
        "id": "jr86QZUIglEA",
        "outputId": "c6cb273e-9a32-4add-bb01-ff52608b84e2"
      },
      "source": [
        "person = {'name': 'Aleksei', 'gender': 'муж.', 'age': 33}\n",
        "\n",
        "print(person.keys())"
      ],
      "execution_count": null,
      "outputs": [
        {
          "output_type": "stream",
          "name": "stdout",
          "text": [
            "dict_keys(['name', 'gender', 'age'])\n"
          ]
        }
      ]
    },
    {
      "cell_type": "code",
      "metadata": {
        "colab": {
          "base_uri": "https://localhost:8080/"
        },
        "id": "Hpq0I5TZhEFO",
        "outputId": "35eaadc7-8abd-4b0d-834e-8d9e1ff1a121"
      },
      "source": [
        "person = {'name': 'Aleksei', 'gender': 'муж.', 'age': 33}\n",
        "\n",
        "print(list(person.keys()))"
      ],
      "execution_count": null,
      "outputs": [
        {
          "output_type": "stream",
          "name": "stdout",
          "text": [
            "['name', 'gender', 'age']\n"
          ]
        }
      ]
    },
    {
      "cell_type": "code",
      "metadata": {
        "colab": {
          "base_uri": "https://localhost:8080/"
        },
        "id": "Stn-iSaGgcez",
        "outputId": "ec18c2fc-9a02-406a-f177-c82a50661885"
      },
      "source": [
        "person = {'name': 'Aleksei', 'gender': 'муж.', 'age': 33}\n",
        "\n",
        "for key in person.keys():\n",
        "    print(key)"
      ],
      "execution_count": null,
      "outputs": [
        {
          "output_type": "stream",
          "name": "stdout",
          "text": [
            "name\n",
            "gender\n",
            "age\n"
          ]
        }
      ]
    },
    {
      "cell_type": "markdown",
      "source": [
        "* dict.values() — возвращает список значений словаря."
      ],
      "metadata": {
        "id": "263y_iuQTetf"
      }
    },
    {
      "cell_type": "code",
      "metadata": {
        "colab": {
          "base_uri": "https://localhost:8080/"
        },
        "id": "DvWfIp90gqmV",
        "outputId": "9561de49-220b-470c-90ed-65d5c13989c0"
      },
      "source": [
        "person = {'name': 'Aleksei', 'gender': 'муж.', 'age': 33}\n",
        "\n",
        "print(person.values())"
      ],
      "execution_count": null,
      "outputs": [
        {
          "output_type": "stream",
          "name": "stdout",
          "text": [
            "dict_values(['Aleksei', 'муж.', 33])\n"
          ]
        }
      ]
    },
    {
      "cell_type": "code",
      "metadata": {
        "colab": {
          "base_uri": "https://localhost:8080/"
        },
        "id": "yvU89HtgghDu",
        "outputId": "eea08cb1-689f-4598-9ef2-ca06169041b1"
      },
      "source": [
        "for item in person.values():\n",
        "    print(item)"
      ],
      "execution_count": null,
      "outputs": [
        {
          "output_type": "stream",
          "name": "stdout",
          "text": [
            "Aleksei\n",
            "муж.\n",
            "33\n"
          ]
        }
      ]
    },
    {
      "cell_type": "markdown",
      "metadata": {
        "id": "ngcYaePkhqIk"
      },
      "source": [
        "## Задание для самопроверки 2"
      ]
    },
    {
      "cell_type": "markdown",
      "source": [
        "### Базовое решение"
      ],
      "metadata": {
        "id": "_5Z8WsNuZjTn"
      }
    },
    {
      "cell_type": "markdown",
      "metadata": {
        "id": "XqMNGoyLh0J4"
      },
      "source": [
        "При помощи Python реализуйте функцию с именем <code>gen_dict()</code>. На вход эта функция должна принимать два списка одинаковой длины. Первый — список имен, например: <code>['Kate', 'Lena', 'Dima']</code>, второй — список возрастов, например: <code>[23, 56, 33]</code>. Возвращать функция должна словарь, где ключи — элементы первого списка, а значения — соответствующие элементы второго списка. Для приведенного примера результат должен быть следующим: <code>{'Dima': 33, 'Kate': 23, 'Lena': 56}</code>."
      ]
    },
    {
      "cell_type": "code",
      "metadata": {
        "id": "3HiR0Cz2iERi"
      },
      "source": [
        "def gen_dict(Name, Age):\n",
        "  sample_dict = {}\n",
        "\n",
        "  for i in range(0, len(Name)): #можно по длине Age, по условию они равны\n",
        "    sample_dict[Name[i]] = Age[i]\n",
        "    \n",
        "  return sample_dict"
      ],
      "execution_count": null,
      "outputs": []
    },
    {
      "cell_type": "code",
      "source": [
        "gen_dict(['Kate', 'Lena', 'Dima'], [23, 56, 33])"
      ],
      "metadata": {
        "colab": {
          "base_uri": "https://localhost:8080/"
        },
        "id": "adGyl5P4ZVgq",
        "outputId": "2ee6ede4-b111-4fc1-c35f-c565cad2b8fa"
      },
      "execution_count": null,
      "outputs": [
        {
          "output_type": "execute_result",
          "data": {
            "text/plain": [
              "{'Dima': 33, 'Kate': 23, 'Lena': 56}"
            ]
          },
          "metadata": {},
          "execution_count": 57
        }
      ]
    },
    {
      "cell_type": "markdown",
      "source": [
        "### Функция zip()"
      ],
      "metadata": {
        "id": "2Tol74AbZfcb"
      }
    },
    {
      "cell_type": "markdown",
      "source": [
        "zip() — функция, которая позволяет пройтись одновременно по нескольким итерируемым объектам. Возвращает zip-объект кортежей, которые содержат элементы из каждого объекта, переданного в функцию."
      ],
      "metadata": {
        "id": "lh-RwaL-YKEu"
      }
    },
    {
      "cell_type": "code",
      "source": [
        "zip(['Kate', 'Lena', 'Dima'], [23, 56, 33])"
      ],
      "metadata": {
        "colab": {
          "base_uri": "https://localhost:8080/"
        },
        "id": "dwaPdiAOXhtW",
        "outputId": "85bfaba2-8cf9-4a6c-ad15-69729d0914f0"
      },
      "execution_count": null,
      "outputs": [
        {
          "output_type": "execute_result",
          "data": {
            "text/plain": [
              "<zip at 0x7f312509d5f0>"
            ]
          },
          "metadata": {},
          "execution_count": 58
        }
      ]
    },
    {
      "cell_type": "code",
      "source": [
        "list(zip(['Kate', 'Lena', 'Dima'], [23, 56, 33]))"
      ],
      "metadata": {
        "colab": {
          "base_uri": "https://localhost:8080/"
        },
        "id": "FlzpRoGVZB3y",
        "outputId": "29661234-96d4-445a-ec9b-4a469b27bd7b"
      },
      "execution_count": null,
      "outputs": [
        {
          "output_type": "execute_result",
          "data": {
            "text/plain": [
              "[('Kate', 23), ('Lena', 56), ('Dima', 33)]"
            ]
          },
          "metadata": {},
          "execution_count": 59
        }
      ]
    },
    {
      "cell_type": "code",
      "metadata": {
        "id": "5POYrs0fhrB7"
      },
      "source": [
        "def gen_dict(Name, Age):\n",
        "  sample_dict = {}\n",
        "  for name, age in zip(Name, Age):\n",
        "    sample_dict[name] = age\n",
        "  return sample_dict"
      ],
      "execution_count": null,
      "outputs": []
    },
    {
      "cell_type": "code",
      "source": [
        "gen_dict(['Kate', 'Lena', 'Dima'], [23, 56, 33])"
      ],
      "metadata": {
        "colab": {
          "base_uri": "https://localhost:8080/"
        },
        "id": "2-_bv9jkZZtq",
        "outputId": "fd1c02dc-e2a4-443b-d427-046275f7d684"
      },
      "execution_count": null,
      "outputs": [
        {
          "output_type": "execute_result",
          "data": {
            "text/plain": [
              "{'Dima': 33, 'Kate': 23, 'Lena': 56}"
            ]
          },
          "metadata": {},
          "execution_count": 61
        }
      ]
    },
    {
      "cell_type": "markdown",
      "source": [
        "### Еще проще?"
      ],
      "metadata": {
        "id": "gXx1VCjnZa7z"
      }
    },
    {
      "cell_type": "code",
      "source": [
        "def gen_dict(Name, Age):\n",
        "  return dict(zip(Name, Age))"
      ],
      "metadata": {
        "id": "sXXWJJHahJqV"
      },
      "execution_count": null,
      "outputs": []
    },
    {
      "cell_type": "code",
      "metadata": {
        "colab": {
          "base_uri": "https://localhost:8080/"
        },
        "id": "L9hAsGCRiUna",
        "outputId": "3bf5ad14-2583-42a0-ab31-30b02a6e310d"
      },
      "source": [
        "gen_dict(['Kate', 'Lena', 'Dima'], [23, 56, 33])"
      ],
      "execution_count": null,
      "outputs": [
        {
          "output_type": "execute_result",
          "data": {
            "text/plain": [
              "{'Dima': 33, 'Kate': 23, 'Lena': 56}"
            ]
          },
          "metadata": {},
          "execution_count": 63
        }
      ]
    }
  ]
}