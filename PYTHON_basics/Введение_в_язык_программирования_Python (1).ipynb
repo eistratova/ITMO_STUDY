{
  "nbformat": 4,
  "nbformat_minor": 0,
  "metadata": {
    "colab": {
      "provenance": [],
      "collapsed_sections": []
    },
    "kernelspec": {
      "name": "python3",
      "display_name": "Python 3"
    },
    "language_info": {
      "name": "python"
    }
  },
  "cells": [
    {
      "cell_type": "markdown",
      "metadata": {
        "id": "xVDPwQmEcIpT"
      },
      "source": [
        "В этом блокноте мы постараемся отобразить начальные моменты, связанные с языком программирования Python"
      ]
    },
    {
      "cell_type": "markdown",
      "metadata": {
        "id": "5jfe2cjkcYna"
      },
      "source": [
        "Сначала научимся определять текущую версию Python, используемую в googleColab"
      ]
    },
    {
      "cell_type": "markdown",
      "metadata": {
        "id": "8QV7s7FSqrOV"
      },
      "source": [
        "пояснение"
      ]
    },
    {
      "cell_type": "code",
      "metadata": {
        "colab": {
          "base_uri": "https://localhost:8080/"
        },
        "id": "ww9TsiQ_cWzZ",
        "outputId": "5f8c04e2-033e-4cc6-a240-2cdc026d5577"
      },
      "source": [
        "!python --version"
      ],
      "execution_count": 1,
      "outputs": [
        {
          "output_type": "stream",
          "name": "stdout",
          "text": [
            "Python 3.7.14\n"
          ]
        }
      ]
    },
    {
      "cell_type": "markdown",
      "source": [
        "## Как поделиться своим блокнотом?"
      ],
      "metadata": {
        "id": "DsYZICAO8hud"
      }
    },
    {
      "cell_type": "markdown",
      "source": [
        "## Как использовать файлы?"
      ],
      "metadata": {
        "id": "sda_EpXwE6ZT"
      }
    },
    {
      "cell_type": "markdown",
      "source": [
        "------------------"
      ],
      "metadata": {
        "id": "qMX5p81g8iGO"
      }
    },
    {
      "cell_type": "code",
      "source": [],
      "metadata": {
        "id": "zJQfAsn9ojgF"
      },
      "execution_count": null,
      "outputs": []
    },
    {
      "cell_type": "code",
      "source": [
        "from google.colab import drive\n",
        "drive.mount('/content/drive')"
      ],
      "metadata": {
        "id": "xPRy-PtCokH1"
      },
      "execution_count": null,
      "outputs": []
    },
    {
      "cell_type": "code",
      "source": [
        "!gdown 147h79ogM1iQcpugJDtureggR8cCX03av"
      ],
      "metadata": {
        "colab": {
          "base_uri": "https://localhost:8080/"
        },
        "id": "zK6Kf_iaoVpg",
        "outputId": "69e3ccaf-2bd2-4068-8c0e-59cf1c448f67"
      },
      "execution_count": 5,
      "outputs": [
        {
          "output_type": "stream",
          "name": "stdout",
          "text": [
            "Downloading...\n",
            "From: https://drive.google.com/uc?id=147h79ogM1iQcpugJDtureggR8cCX03av\n",
            "To: /content/auto-mpg-quiz.csv\n",
            "\r  0% 0.00/17.4k [00:00<?, ?B/s]\r100% 17.4k/17.4k [00:00<00:00, 22.1MB/s]\n"
          ]
        }
      ]
    },
    {
      "cell_type": "markdown",
      "metadata": {
        "id": "ruzfzykElPZf"
      },
      "source": [
        "## Самые основы"
      ]
    },
    {
      "cell_type": "markdown",
      "metadata": {
        "id": "PDaZnaOXcsDg"
      },
      "source": [
        "Как же без первой программы на любом языке программирования? Выведем на экран фразу \"Hello World!\". Обратите внимание, текстовая информация (строковая) обрамляется одиночными апострофами."
      ]
    },
    {
      "cell_type": "code",
      "metadata": {
        "colab": {
          "base_uri": "https://localhost:8080/"
        },
        "id": "5KhZQV3XcrRa",
        "outputId": "fa992944-9197-42ba-b353-091db5888599"
      },
      "source": [
        "print('Hello World!')"
      ],
      "execution_count": null,
      "outputs": [
        {
          "output_type": "stream",
          "name": "stdout",
          "text": [
            "Hello World!\n"
          ]
        }
      ]
    },
    {
      "cell_type": "markdown",
      "metadata": {
        "id": "MT8PA60fhYOO"
      },
      "source": [
        "Или двойными кавычками"
      ]
    },
    {
      "cell_type": "code",
      "metadata": {
        "colab": {
          "base_uri": "https://localhost:8080/"
        },
        "id": "d1DcXqxxhagM",
        "outputId": "b85655d7-7633-4014-9bb0-309f0623a2d5"
      },
      "source": [
        "print(\"Hello World!\")"
      ],
      "execution_count": null,
      "outputs": [
        {
          "output_type": "stream",
          "name": "stdout",
          "text": [
            "Hello World!\n"
          ]
        }
      ]
    },
    {
      "cell_type": "markdown",
      "metadata": {
        "id": "_TLDGK2_dEEo"
      },
      "source": [
        "Теперь научимся выполнять некоторые простейшие арифметические операции:"
      ]
    },
    {
      "cell_type": "code",
      "source": [
        "5 + 7"
      ],
      "metadata": {
        "colab": {
          "base_uri": "https://localhost:8080/"
        },
        "id": "v8lZH8y2qtL5",
        "outputId": "5d9f11b2-3c50-424f-fd15-f8006a60aad4"
      },
      "execution_count": null,
      "outputs": [
        {
          "output_type": "execute_result",
          "data": {
            "text/plain": [
              "12"
            ]
          },
          "metadata": {},
          "execution_count": 4
        }
      ]
    },
    {
      "cell_type": "code",
      "source": [
        "5 * 6"
      ],
      "metadata": {
        "colab": {
          "base_uri": "https://localhost:8080/"
        },
        "id": "U415obJlqw4f",
        "outputId": "52484070-0d11-472c-a412-9a4749aaa4ca"
      },
      "execution_count": null,
      "outputs": [
        {
          "output_type": "execute_result",
          "data": {
            "text/plain": [
              "30"
            ]
          },
          "metadata": {},
          "execution_count": 5
        }
      ]
    },
    {
      "cell_type": "code",
      "source": [
        "2 ** 4"
      ],
      "metadata": {
        "colab": {
          "base_uri": "https://localhost:8080/"
        },
        "id": "DsVicv1rq3aC",
        "outputId": "ad37dc59-64dd-4fa0-d14a-fbc0d092a4d0"
      },
      "execution_count": null,
      "outputs": [
        {
          "output_type": "execute_result",
          "data": {
            "text/plain": [
              "16"
            ]
          },
          "metadata": {},
          "execution_count": 7
        }
      ]
    },
    {
      "cell_type": "code",
      "source": [
        "100 / 5"
      ],
      "metadata": {
        "colab": {
          "base_uri": "https://localhost:8080/"
        },
        "id": "z1lwpSPkqy79",
        "outputId": "5310cdb5-6a5f-462f-a5f1-d229deb6b725"
      },
      "execution_count": null,
      "outputs": [
        {
          "output_type": "execute_result",
          "data": {
            "text/plain": [
              "20.0"
            ]
          },
          "metadata": {},
          "execution_count": 6
        }
      ]
    },
    {
      "cell_type": "code",
      "source": [
        "144 ** (1/2)"
      ],
      "metadata": {
        "colab": {
          "base_uri": "https://localhost:8080/"
        },
        "id": "p0Kj-Gxzq5qE",
        "outputId": "f638a628-4cb9-4984-d4f6-279363e13f4b"
      },
      "execution_count": null,
      "outputs": [
        {
          "output_type": "execute_result",
          "data": {
            "text/plain": [
              "12.0"
            ]
          },
          "metadata": {},
          "execution_count": 9
        }
      ]
    },
    {
      "cell_type": "markdown",
      "source": [
        "То же самое с print."
      ],
      "metadata": {
        "id": "3z3gH05butfV"
      }
    },
    {
      "cell_type": "code",
      "metadata": {
        "colab": {
          "base_uri": "https://localhost:8080/"
        },
        "id": "qR9I7MG_dDB8",
        "outputId": "e2523aa8-bde5-4d5a-e2b1-94f6daa82ea6"
      },
      "source": [
        "print(5 + 7) # сумма двух чисел\n",
        "print(5 * 6) # произведение двух чисел\n",
        "print(2 ** 4) # возведение числа 2 в степень 4\n",
        "print(100 / 5) # частное двух чисел\n",
        "print(144 ** (1/2)) #извлечение корня"
      ],
      "execution_count": null,
      "outputs": [
        {
          "output_type": "stream",
          "name": "stdout",
          "text": [
            "12\n",
            "30\n",
            "20.0\n",
            "16\n",
            "12.0\n"
          ]
        }
      ]
    },
    {
      "cell_type": "markdown",
      "metadata": {
        "id": "XcyiW-9weu5d"
      },
      "source": [
        "Обратите внимание, четвертое и пятое выведенные числа имеют другой формат, нежели остальные. Все потому, что частное целых чисел может быть числом не целым, как и корень целого числа. В остальных приведенных операциях такая ситуация оказывается невозможной."
      ]
    },
    {
      "cell_type": "code",
      "source": [
        "# Целая часть от деления\n",
        "5 // 2"
      ],
      "metadata": {
        "colab": {
          "base_uri": "https://localhost:8080/"
        },
        "id": "Tl5VwvRWwPoR",
        "outputId": "9d284b89-d40d-4618-eef3-e6e0edf1e78c"
      },
      "execution_count": null,
      "outputs": [
        {
          "output_type": "execute_result",
          "data": {
            "text/plain": [
              "2"
            ]
          },
          "metadata": {},
          "execution_count": 7
        }
      ]
    },
    {
      "cell_type": "code",
      "source": [
        "# Остаток от деления\n",
        "5 % 2"
      ],
      "metadata": {
        "colab": {
          "base_uri": "https://localhost:8080/"
        },
        "id": "gf-RbOYg12dU",
        "outputId": "9c52665b-d8c2-4d34-905d-e72e714768c6"
      },
      "execution_count": null,
      "outputs": [
        {
          "output_type": "execute_result",
          "data": {
            "text/plain": [
              "1"
            ]
          },
          "metadata": {},
          "execution_count": 8
        }
      ]
    },
    {
      "cell_type": "markdown",
      "metadata": {
        "id": "mvsTVSy7fp6a"
      },
      "source": [
        "Часто бывает необходимым использовать одни и те же данные в нескольких местах. Чтобы не писать сами данные явно, их можно хранить в специально созданной переменной."
      ]
    },
    {
      "cell_type": "code",
      "source": [
        "a = 5\n",
        "b = 6\n",
        "print(a + b)\n",
        "print(a * b)\n",
        "# Поменять значения в переменных в первых двух строках, проверить результат"
      ],
      "metadata": {
        "colab": {
          "base_uri": "https://localhost:8080/"
        },
        "id": "hSQ2E8AuvD89",
        "outputId": "0b681007-5a4a-425e-85ed-2cc5b9a5d433"
      },
      "execution_count": null,
      "outputs": [
        {
          "output_type": "stream",
          "name": "stdout",
          "text": [
            "11\n",
            "30\n"
          ]
        }
      ]
    },
    {
      "cell_type": "markdown",
      "source": [
        "Можно использовать переменную, в которую будет помещен результат действия"
      ],
      "metadata": {
        "id": "gr7UreNPxu5t"
      }
    },
    {
      "cell_type": "code",
      "source": [
        "a = 5\n",
        "b = 6\n",
        "sum = a + b\n",
        "print(sum)"
      ],
      "metadata": {
        "id": "Aegg36OfxuRg"
      },
      "execution_count": null,
      "outputs": []
    },
    {
      "cell_type": "markdown",
      "metadata": {
        "id": "NUL63I_jieiW"
      },
      "source": [
        "Часто необходимый функционал уже реализован в виде дополнительных модулей (библиотек). Остается лишь добавить их в ваш код. Например, пусть стоит задача найти значение выражения \n",
        "$$\n",
        "x - \\frac{{{x^3}}}{{3!}} + \\frac{{{x^5}}}{{5!}} - \\frac{{{x^7}}}{{7!}}\n",
        "$$\n",
        "при $x = 1.57$, где \n",
        "$$\n",
        "n! = 1 \\cdot 2 \\cdot ... \\cdot n.\n",
        "$$\n",
        "Тогда можно написать выражение \"влоб\""
      ]
    },
    {
      "cell_type": "code",
      "metadata": {
        "colab": {
          "base_uri": "https://localhost:8080/"
        },
        "id": "vnmgq86EkGdN",
        "outputId": "1e9dc59b-9499-4223-c034-82ec1e30935a"
      },
      "source": [
        "x = 1.57\n",
        "x - x**3/(2*3) + x**5/(2*3*4*5) - x**7/(2*3*4*5*6*7)"
      ],
      "execution_count": null,
      "outputs": [
        {
          "output_type": "execute_result",
          "data": {
            "text/plain": [
              "0.9998434952309573"
            ]
          },
          "metadata": {},
          "execution_count": 18
        }
      ]
    },
    {
      "cell_type": "markdown",
      "metadata": {
        "id": "L-7Y6nT2kv7j"
      },
      "source": [
        "или воспользоваться библиотекой `math`"
      ]
    },
    {
      "cell_type": "code",
      "metadata": {
        "colab": {
          "base_uri": "https://localhost:8080/"
        },
        "id": "ptCEy2ZAk0y_",
        "outputId": "6bada461-bc62-4c3a-c34b-79953f4a530d"
      },
      "source": [
        "import math\n",
        " \n",
        "x = 1.57\n",
        "x - x**3/math.factorial(3) + x**5/math.factorial(5) - x**7/math.factorial(7)"
      ],
      "execution_count": null,
      "outputs": [
        {
          "output_type": "execute_result",
          "data": {
            "text/plain": [
              "0.9998434952309573"
            ]
          },
          "metadata": {},
          "execution_count": 7
        }
      ]
    },
    {
      "cell_type": "code",
      "metadata": {
        "colab": {
          "base_uri": "https://localhost:8080/"
        },
        "id": "lvjz-6hZt_Wy",
        "outputId": "30677e33-1510-4132-a30f-a8d91bfb9cde"
      },
      "source": [
        "from math import factorial as fact\n",
        "fact(3)"
      ],
      "execution_count": null,
      "outputs": [
        {
          "output_type": "execute_result",
          "data": {
            "text/plain": [
              "6"
            ]
          },
          "metadata": {},
          "execution_count": 16
        }
      ]
    },
    {
      "cell_type": "markdown",
      "source": [
        "## Условный оператор"
      ],
      "metadata": {
        "id": "NieDg8UPyL_S"
      }
    },
    {
      "cell_type": "markdown",
      "source": [
        "```\n",
        "if условие_1:\n",
        "    блок кода 1\n",
        "elif условие_2:\n",
        "    блок кода 2\n",
        "else:\n",
        "    блок кода 3\n",
        "```\n",
        "\n",
        "Задача: найти наибольшее из двух чисел и вывести его на экран\n"
      ],
      "metadata": {
        "id": "O_wj1vRu3O0s"
      }
    },
    {
      "cell_type": "code",
      "source": [
        "a = 3\n",
        "b = 5\n",
        "\n",
        "if a > b:\n",
        "  print(a)\n",
        "else:\n",
        "  print(b)"
      ],
      "metadata": {
        "colab": {
          "base_uri": "https://localhost:8080/"
        },
        "id": "UJUNKt8D3w8u",
        "outputId": "17633f27-3d35-4d98-ccbe-ea3f081906de"
      },
      "execution_count": null,
      "outputs": [
        {
          "output_type": "stream",
          "name": "stdout",
          "text": [
            "5\n"
          ]
        }
      ]
    },
    {
      "cell_type": "markdown",
      "metadata": {
        "id": "S7TihhbrlX2i"
      },
      "source": [
        "## Некоторые задачи для самопроверки из курса"
      ]
    },
    {
      "cell_type": "markdown",
      "metadata": {
        "id": "lUBfnBP-lfJ2"
      },
      "source": [
        "Маша и Саша играют в игру \"чет/нечет\". Каждая из них пишет на бумажке любое целое число и кладет в шляпу. Если сумма обоих чисел четная, побеждает Маша, иначе побеждает Саша. На языке программирования Python напишите программу для моделирования этой игры. Переменной `Masha` присваивается значение `3`, переменной `Sasha` присваивается значение `4`, в переменную `result` помещается имя победителя (в виде строки `'Masha'` или `'Sasha'`)."
      ]
    },
    {
      "cell_type": "code",
      "metadata": {
        "id": "Cy8ws7UCmnNn",
        "colab": {
          "base_uri": "https://localhost:8080/"
        },
        "outputId": "a5a4827c-3ffc-4008-f332-5cbc811496ee"
      },
      "source": [
        "Masha = 3 # Переменной Masha присваивается значение 3\n",
        "Sasha = 4 # Переменной Sasha присваивается значение 4\n",
        "if (Masha+Sasha) % 2 == 0:\n",
        "  result = 'Masha' # Победила Маша\n",
        "else:\n",
        "  result = 'Sasha' # Победила Саша\n",
        "print(result)"
      ],
      "execution_count": null,
      "outputs": [
        {
          "output_type": "stream",
          "name": "stdout",
          "text": [
            "Masha\n"
          ]
        }
      ]
    },
    {
      "cell_type": "markdown",
      "metadata": {
        "id": "dMmwn138oh4E"
      },
      "source": [
        "На языке программирования Python напишите программу для определения того, является ли год високосным. Переменной `year` присваивается значение `1932`, в переменную `result` помещается ответ: является ли год високосным (значения `True` или `False`).\n",
        "\n",
        "Напомним, что в соответствии с григорианским календарем, год является високосным, если его номер кратен 4, но не кратен 100, или если он кратен 400."
      ]
    },
    {
      "cell_type": "code",
      "metadata": {
        "id": "vzD45ZmWonoJ",
        "colab": {
          "base_uri": "https://localhost:8080/"
        },
        "outputId": "8bcbf424-4feb-4010-ca61-9f92b6b3944e"
      },
      "source": [
        "year = 1932\n",
        "if (year % 4 == 0 and year % 100 != 0) or (year % 400 == 0):\n",
        "    result = True\n",
        "else:\n",
        "    result = False \n",
        "result"
      ],
      "execution_count": null,
      "outputs": [
        {
          "output_type": "execute_result",
          "data": {
            "text/plain": [
              "True"
            ]
          },
          "metadata": {},
          "execution_count": 30
        }
      ]
    },
    {
      "cell_type": "markdown",
      "source": [
        "## Циклы"
      ],
      "metadata": {
        "id": "hoX4RpRg8d8p"
      }
    },
    {
      "cell_type": "markdown",
      "source": [
        "### Цикл while\n",
        "\n",
        "```\n",
        "while условие:\n",
        "    блок кода\n",
        "```\n",
        "\n",
        "Задача: вывести на экран все целые числа от $a > 1$ до $1$."
      ],
      "metadata": {
        "id": "mM1C8qCqEwv2"
      }
    },
    {
      "cell_type": "code",
      "source": [
        "a = 5\n",
        "\n",
        "while a > 0:\n",
        "  print(a)\n",
        "  a = a - 1"
      ],
      "metadata": {
        "colab": {
          "base_uri": "https://localhost:8080/"
        },
        "id": "cXpWjWfu99Kc",
        "outputId": "2647a099-5570-4c96-c17d-003222fe25ad"
      },
      "execution_count": null,
      "outputs": [
        {
          "output_type": "stream",
          "name": "stdout",
          "text": [
            "5\n",
            "4\n",
            "3\n",
            "2\n",
            "1\n"
          ]
        }
      ]
    },
    {
      "cell_type": "markdown",
      "source": [
        "Замечание: `a = a - 1` более кратко можно записать как `a -= 1`."
      ],
      "metadata": {
        "id": "sxiv4nvw-d_8"
      }
    },
    {
      "cell_type": "markdown",
      "source": [
        "#### Некоторые задачи для самопроверки из курса"
      ],
      "metadata": {
        "id": "tcTA29vr8i8F"
      }
    },
    {
      "cell_type": "markdown",
      "metadata": {
        "id": "zlTCgBoYosMS"
      },
      "source": [
        "На языке программирования Python напишите программу для вычисления суммы натуральных чисел на интервале $[a,b)$, где $a,b \\in \\mathbb{N}, a < b$. Переменной <code>a</code> присваивается значение <code>5</code>, переменной <code>b</code> присваивается значение <code>8</code>, в переменную <code>result</code> помещается результат сложения натуральных чисел на интервале $[a,b)$."
      ]
    },
    {
      "cell_type": "code",
      "metadata": {
        "colab": {
          "base_uri": "https://localhost:8080/"
        },
        "id": "TC2PYY1Npbhn",
        "outputId": "78ee2fbc-0bbc-49f8-a602-b09208426bf4"
      },
      "source": [
        "a = 5 \n",
        "b = 8 \n",
        "result = 0 \n",
        "i = a \n",
        "\n",
        "while i < b: # Цикл по целым числам из [a,b)\n",
        "    result += i \n",
        "    i += 1\n",
        "\n",
        "print(result)    "
      ],
      "execution_count": null,
      "outputs": [
        {
          "output_type": "stream",
          "name": "stdout",
          "text": [
            "18\n"
          ]
        }
      ]
    },
    {
      "cell_type": "markdown",
      "source": [
        "### Цикл for\n",
        "\n",
        "```\n",
        "for имя_переменной in последовательность_значений:\n",
        "    блок кода\n",
        "```"
      ],
      "metadata": {
        "id": "szEYvZd3AqNT"
      }
    },
    {
      "cell_type": "code",
      "source": [
        "for i in 1,2,3,4:\n",
        "  print(i)"
      ],
      "metadata": {
        "colab": {
          "base_uri": "https://localhost:8080/"
        },
        "id": "DSvk6KB1BeFO",
        "outputId": "b90e369c-7e57-49d9-b957-767b1ca7d6b0"
      },
      "execution_count": null,
      "outputs": [
        {
          "output_type": "stream",
          "name": "stdout",
          "text": [
            "1\n",
            "2\n",
            "3\n",
            "4\n"
          ]
        }
      ]
    },
    {
      "cell_type": "markdown",
      "source": [
        "Очень удобно использовать в цикле `for` функцию <code>range(start=0, stop, step=1)</code>(<a href=\"https://docs.python.org/3/library/stdtypes.html#range\">ссылка на документацию</a>).\n",
        "Параметры функции:\n",
        "<ul><li><span style=\"font-family: 'book antiqua', palatino;\">start - с какого числа начинается последовательность. По умолчанию - 0</span></li><li><span style=\"font-family: 'book antiqua', palatino;\">stop - до какого числа продолжается последовательность чисел. Указанное число не включается в диапазон</span></li><li><span style=\"font-family: 'book antiqua', palatino;\">step - с каким шагом растут числа. По умолчанию 1</span></li></ul> "
      ],
      "metadata": {
        "id": "1b5P88oxCAzY"
      }
    },
    {
      "cell_type": "code",
      "source": [
        "for i in range(5):\n",
        "  print(i)"
      ],
      "metadata": {
        "colab": {
          "base_uri": "https://localhost:8080/"
        },
        "id": "7SVFE9NlCXFG",
        "outputId": "3981fd5c-e3a9-4754-b423-8db7b61a5cb2"
      },
      "execution_count": null,
      "outputs": [
        {
          "output_type": "stream",
          "name": "stdout",
          "text": [
            "0\n",
            "1\n",
            "2\n",
            "3\n",
            "4\n"
          ]
        }
      ]
    },
    {
      "cell_type": "code",
      "source": [
        "for i in range(1,5):\n",
        "  print(i)"
      ],
      "metadata": {
        "colab": {
          "base_uri": "https://localhost:8080/"
        },
        "id": "0-qOZ6SzCcNf",
        "outputId": "ac128d4d-1733-4bac-b4e3-3079cfd6a399"
      },
      "execution_count": null,
      "outputs": [
        {
          "output_type": "stream",
          "name": "stdout",
          "text": [
            "1\n",
            "2\n",
            "3\n",
            "4\n"
          ]
        }
      ]
    },
    {
      "cell_type": "code",
      "source": [
        "for i in range(3,8,2):\n",
        "  print(i)"
      ],
      "metadata": {
        "colab": {
          "base_uri": "https://localhost:8080/"
        },
        "id": "aAHdA80zCivM",
        "outputId": "8fa02ecf-efa9-43e5-aa02-7fb5cd89398c"
      },
      "execution_count": null,
      "outputs": [
        {
          "output_type": "stream",
          "name": "stdout",
          "text": [
            "3\n",
            "5\n",
            "7\n"
          ]
        }
      ]
    },
    {
      "cell_type": "markdown",
      "metadata": {
        "id": "AYBhal6rphr-"
      },
      "source": [
        "#### Некоторые задачи для самопроверки из курса\n",
        "\n",
        "На языке программирования Python напишите программу для вычисления суммы натуральных чисел на интервале $[a,b)$, где $a,b \\in \\mathbb{N}, a < b$. Переменной <code>a</code> присваивается значение <code>5</code>, переменной <code>b</code> присваивается значение <code>8</code>, в переменную <code>result</code> помещается результат сложения натуральных чисел на интервале $[a,b)$."
      ]
    },
    {
      "cell_type": "code",
      "metadata": {
        "id": "pvpBiieGpkhj",
        "colab": {
          "base_uri": "https://localhost:8080/"
        },
        "outputId": "ad5f1556-6ecd-4a4a-cffb-02f778911c18"
      },
      "source": [
        "a = 5 \n",
        "b = 8 \n",
        "result = 0 \n",
        "  \n",
        "for i in range(a,b): \n",
        "    result += i\n",
        "\n",
        "print(result)    "
      ],
      "execution_count": null,
      "outputs": [
        {
          "output_type": "stream",
          "name": "stdout",
          "text": [
            "18\n"
          ]
        }
      ]
    },
    {
      "cell_type": "markdown",
      "metadata": {
        "id": "G6_jvhDwqfeg"
      },
      "source": [
        "Матвей решил положить $100 000$ на вклад в банке под $6\\%$ годовых на $5$ лет. Проценты начисляются ежегодно и добавляются к сумме вклада (вклад с капитализацией). На языке программирования Python напишите программу для вычисления итоговой суммы вклада по истечению $5$ лет. Переменной <code>deposit</code> присваивается значение <code>100000</code>, переменной <code>rate</code> присваивается значение <code>0.06</code>, переменной <code>deposit_term</code> присваивается значение <code>5</code>. После выполнения программы ответ, то есть итоговая сумма вклада по истечению $5$ лет, должен содержаться в переменной <code>deposit</code>. Результат округлить до копеек."
      ]
    },
    {
      "cell_type": "code",
      "metadata": {
        "colab": {
          "base_uri": "https://localhost:8080/"
        },
        "id": "mXhm_MpXqo0Y",
        "outputId": "f4b670a9-0ca3-4f32-a785-f2cc01d93000"
      },
      "source": [
        "deposit = 100000 \n",
        "rate = 0.06 \n",
        "deposit_term = 5\n",
        "  \n",
        "for i in range(0,deposit_term): \n",
        "    deposit = deposit + deposit * rate \n",
        "deposit = round(deposit,2) \n",
        "deposit"
      ],
      "execution_count": null,
      "outputs": [
        {
          "output_type": "execute_result",
          "data": {
            "text/plain": [
              "133822.56"
            ]
          },
          "metadata": {},
          "execution_count": 5
        }
      ]
    },
    {
      "cell_type": "markdown",
      "metadata": {
        "id": "PeqpjE7gqtqu"
      },
      "source": [
        "По формуле сложных процентов:\n",
        "$$\n",
        "P = P_0 \\left(1 + \\frac{i}{n}\\right)^{nt},\n",
        "$$\n",
        "где \n",
        "\n",
        "\n",
        "*   $P$ — новая сумма вложений\n",
        "*   $P_0$ — начальная сумма вложений\n",
        "*   $i$ — процентная ставка, годовых\n",
        "*   $n$ — количество начислений в течение года\n",
        "*   $t$ — количество лет\n",
        "\n"
      ]
    },
    {
      "cell_type": "code",
      "metadata": {
        "colab": {
          "base_uri": "https://localhost:8080/"
        },
        "id": "2bHY8OHasO43",
        "outputId": "e6cc6682-0e0d-44f4-9195-29e32f87fcf6"
      },
      "source": [
        "deposit = 100000\n",
        "rate = 0.06\n",
        "deposit_term = 5\n",
        "deposit = deposit*(1 + rate)**deposit_term\n",
        "deposit = round(deposit,2) \n",
        "deposit"
      ],
      "execution_count": null,
      "outputs": [
        {
          "output_type": "execute_result",
          "data": {
            "text/plain": [
              "133822.56"
            ]
          },
          "metadata": {},
          "execution_count": 13
        }
      ]
    },
    {
      "cell_type": "markdown",
      "source": [
        "## Функции"
      ],
      "metadata": {
        "id": "TH4x35GHGKkK"
      }
    },
    {
      "cell_type": "markdown",
      "source": [
        "```\n",
        "def имя_функции(параметры):\n",
        "    блок кода\n",
        "```\n",
        "\n"
      ],
      "metadata": {
        "id": "U4KbBDyxGMmP"
      }
    },
    {
      "cell_type": "markdown",
      "source": [
        "Задача: создайте функцию с именем `max_2`, которая на вход принимает $2$ значения и **выводит на экран** наибольшее из них."
      ],
      "metadata": {
        "id": "1He8S6fuISC6"
      }
    },
    {
      "cell_type": "code",
      "source": [
        "def max_2(a,b):\n",
        "  if a > b:\n",
        "    print(a)\n",
        "  else:\n",
        "    print(b)"
      ],
      "metadata": {
        "id": "uyCqUUfzImGX"
      },
      "execution_count": 6,
      "outputs": []
    },
    {
      "cell_type": "code",
      "source": [
        "max_2(14,26)"
      ],
      "metadata": {
        "colab": {
          "base_uri": "https://localhost:8080/"
        },
        "id": "gdhVktvEJeKM",
        "outputId": "f08169d8-2136-45af-bd58-dbdbe136402e"
      },
      "execution_count": 12,
      "outputs": [
        {
          "output_type": "stream",
          "name": "stdout",
          "text": [
            "26\n"
          ]
        }
      ]
    },
    {
      "cell_type": "code",
      "source": [
        "def max_r_2(a,b):\n",
        "  if a > b:\n",
        "    return(a)\n",
        "  else:\n",
        "    return(b)"
      ],
      "metadata": {
        "id": "lkdpi7vwqoPH"
      },
      "execution_count": 8,
      "outputs": []
    },
    {
      "cell_type": "code",
      "source": [
        "max_r_2(14,26)"
      ],
      "metadata": {
        "colab": {
          "base_uri": "https://localhost:8080/"
        },
        "id": "Xki5j2j8qrR7",
        "outputId": "b1adb934-bfc4-4f15-847b-b0df4a6dcf61"
      },
      "execution_count": 13,
      "outputs": [
        {
          "output_type": "execute_result",
          "data": {
            "text/plain": [
              "26"
            ]
          },
          "metadata": {},
          "execution_count": 13
        }
      ]
    },
    {
      "cell_type": "markdown",
      "source": [
        "#### Некоторые задачи для самопроверки из курса"
      ],
      "metadata": {
        "id": "Xi7TePNvLFfr"
      }
    },
    {
      "cell_type": "markdown",
      "metadata": {
        "id": "85Uii5F2tVXr"
      },
      "source": [
        "При помощи Python реализуйте функцию с именем <code>is_leap_year()</code> для определения того, является ли год високосным. На вход эта функция должна принимать 1 параметр <code>year</code> (целое неотрицательное число). Функция должна возвращать значение <code>True</code>, если год високосный, иначе — значение <code>False</code>"
      ]
    },
    {
      "cell_type": "code",
      "metadata": {
        "id": "y_4Ylj_HuYv9",
        "colab": {
          "base_uri": "https://localhost:8080/"
        },
        "outputId": "9754fd7d-b18e-4f55-d69c-77dcd7882f74"
      },
      "source": [
        "def is_leap_year(year):\n",
        "    if (year % 4 == 0 and year % 100 != 0) or (year % 400 == 0):\n",
        "        return True\n",
        "    else:\n",
        "        return False\n",
        "        \n",
        "is_leap_year(1933)"
      ],
      "execution_count": null,
      "outputs": [
        {
          "output_type": "execute_result",
          "data": {
            "text/plain": [
              "False"
            ]
          },
          "metadata": {},
          "execution_count": 38
        }
      ]
    },
    {
      "cell_type": "markdown",
      "metadata": {
        "id": "9eVonQddu1yk"
      },
      "source": [
        "При помощи Python реализуйте функцию с именем <code>get_sum_odd()</code>. На вход эта функция должна принимать 2 параметра: $a, b \\in \\mathbb{N}$, $a < b $. Возвращать функция должна сумму нечетных натуральных чисел на отрезке $[a,b]$."
      ]
    },
    {
      "cell_type": "code",
      "metadata": {
        "id": "Xbm3zQwgvAov",
        "colab": {
          "base_uri": "https://localhost:8080/"
        },
        "outputId": "69e1e226-1ece-4d07-83df-641181ecc528"
      },
      "source": [
        "def get_sum_odd(a,b):\n",
        "  sum = 0\n",
        "  for i in range(a,b+1):\n",
        "    if i % 2 == 1:\n",
        "      sum = sum + i\n",
        "  return sum\n",
        "\n",
        "get_sum_odd(3,8)"
      ],
      "execution_count": null,
      "outputs": [
        {
          "output_type": "execute_result",
          "data": {
            "text/plain": [
              "15"
            ]
          },
          "metadata": {},
          "execution_count": 40
        }
      ]
    },
    {
      "cell_type": "markdown",
      "source": [
        "## Индивидуальное задание"
      ],
      "metadata": {
        "id": "uYzShE5BLKVe"
      }
    },
    {
      "cell_type": "markdown",
      "metadata": {
        "id": "Enc1c0H8vcun"
      },
      "source": [
        "При помощи Python опишите функцию <code>grade(score)</code>, которая на вход принимает набранное студентом количество баллов (целое число от $0$ до $100$ включительно), и возвращает оценку в виде текстовой строки в соответствии со следующей таблицей:\n",
        "$$\n",
        "\\begin{array}{|c|c|}\n",
        "\\hline        \n",
        "\\textbf{Значение} & \\textbf{Оценка} \\\\ \\hline        \n",
        "\\text{score} \\in [0,60) & \\text{неудовлетворительно} \\\\ \\hline\n",
        "\\text{score} \\in [60,74] & \\text{удовлетворительно} \\\\ \\hline\n",
        "\\text{score} \\in (74,90] & \\text{хорошо} \\\\ \\hline\n",
        "\\text{score} \\in (90,100] & \\text{отлично} \\\\ \\hline           \n",
        "\\end{array}\n",
        "$$"
      ]
    },
    {
      "cell_type": "code",
      "metadata": {
        "id": "4TAMJVQKvfeX"
      },
      "source": [
        "def grade(score):\n",
        "    if score >= 0 and score < 60:\n",
        "        return 'неудовлетворительно'\n",
        "    if score >= 60 and score <= 74:\n",
        "        return 'удовлетворительно'\n",
        "    if score > 74 and score <= 90:\n",
        "        return 'хорошо'\n",
        "    if score > 90 and score <= 100:\n",
        "        return 'отлично'"
      ],
      "execution_count": null,
      "outputs": []
    },
    {
      "cell_type": "code",
      "metadata": {
        "colab": {
          "base_uri": "https://localhost:8080/"
        },
        "id": "39ozjCBQCMrp",
        "outputId": "6213939a-d15b-470f-c98b-f8285e56f039"
      },
      "source": [
        "a = grade(75)\n",
        "print(a)"
      ],
      "execution_count": null,
      "outputs": [
        {
          "output_type": "stream",
          "name": "stdout",
          "text": [
            "хорошо\n"
          ]
        }
      ]
    },
    {
      "cell_type": "markdown",
      "metadata": {
        "id": "dWcmHzt9M3im"
      },
      "source": [
        "При помощи Python опишите функцию <code>solve(a,b)</code>, которая позволяет решать уравнение \n",
        "$$\n",
        "ax = b.\n",
        "$$\n",
        "Входными параметрами для функции служат числа $a,b$, возвращать функция должна значение $x$. Если уравнение имеет бесконечное множество решений, то функция должна возвращать текстовую строку <code>Any</code> (с большой буквы, без дополнительных символов). Если уравнение решений не имеет, то функция должна возвращать текстовую строку <code>Error</code> (с большой буквы, без дополнительных символов)\n",
        "\n",
        "Аналитическое решение:\n",
        "\n",
        "1. Пусть $a=0$, $b \\neq 0$. Имеем уравнение \n",
        "$$0\\cdot x = b, b \\neq 0,$$\n",
        "тогда \n",
        "$$\n",
        "x = \\frac{b}{0} \\quad \\text{деление на ноль!!!}\n",
        "$$\n",
        "2. Пусть $a=0$, $b = 0$. Имеем уравнение \n",
        "$$\n",
        "0 \\cdot x = 0.\n",
        "$$\n",
        "Какой $x$ не подставь, все равно получим $0=0$ -- верное равенство. Вывод: $x$ -- любое число.\n",
        "3. Пусть $a\\neq 0$. Имеем уравнение \n",
        "$$\n",
        "a \\cdot x = b,\n",
        "$$\n",
        "откуда \n",
        "$$\n",
        "x = \\frac{b}{a}.\n",
        "$$\n",
        "\n",
        "Переписываем в виде функции Python."
      ]
    },
    {
      "cell_type": "code",
      "metadata": {
        "id": "Dq2jIYSGMUuk"
      },
      "source": [
        "def solve(a,b):\n",
        "    if a == 0:\n",
        "      if b == 0:\n",
        "        return 'Any'\n",
        "      else:\n",
        "        return 'Error'\n",
        "    else:\n",
        "      return b/a"
      ],
      "execution_count": null,
      "outputs": []
    },
    {
      "cell_type": "markdown",
      "source": [
        "$0\\cdot x = 0$"
      ],
      "metadata": {
        "id": "pn8upTl3MGWj"
      }
    },
    {
      "cell_type": "code",
      "source": [
        "print(solve(0,0))"
      ],
      "metadata": {
        "colab": {
          "base_uri": "https://localhost:8080/"
        },
        "id": "PKwLc4BfLsVM",
        "outputId": "05fbd7ae-8089-425f-f417-170841d3ff4c"
      },
      "execution_count": null,
      "outputs": [
        {
          "output_type": "stream",
          "name": "stdout",
          "text": [
            "Any\n"
          ]
        }
      ]
    },
    {
      "cell_type": "markdown",
      "source": [
        "$0\\cdot x = 5$"
      ],
      "metadata": {
        "id": "9I3DiPP4Mbkg"
      }
    },
    {
      "cell_type": "code",
      "source": [
        "print(solve(0,5))"
      ],
      "metadata": {
        "colab": {
          "base_uri": "https://localhost:8080/"
        },
        "id": "3SdOlV49L7pq",
        "outputId": "a4a6768f-b895-4312-cd69-e459f61bef77"
      },
      "execution_count": null,
      "outputs": [
        {
          "output_type": "stream",
          "name": "stdout",
          "text": [
            "Error\n"
          ]
        }
      ]
    },
    {
      "cell_type": "markdown",
      "source": [
        "$4\\cdot x = 1$"
      ],
      "metadata": {
        "id": "TRJRf22YMfHW"
      }
    },
    {
      "cell_type": "code",
      "source": [
        "print(solve(4,1))"
      ],
      "metadata": {
        "colab": {
          "base_uri": "https://localhost:8080/"
        },
        "id": "TMMO2ADCL_5q",
        "outputId": "65ca6909-26ca-4a82-c36f-d68d4a9aac10"
      },
      "execution_count": null,
      "outputs": [
        {
          "output_type": "stream",
          "name": "stdout",
          "text": [
            "0.25\n"
          ]
        }
      ]
    }
  ]
}