{
 "cells": [
  {
   "cell_type": "code",
   "execution_count": 35,
   "metadata": {},
   "outputs": [],
   "source": [
    "import numpy as np\n",
    "import pandas as pd\n",
    "from sklearn.decomposition import PCA\n",
    "from sklearn import datasets\n",
    "import matplotlib\n",
    "import matplotlib.pyplot as plt\n",
    "%matplotlib inline"
   ]
  },
  {
   "cell_type": "markdown",
   "metadata": {},
   "source": [
    "В предложенном файле находится набор синтетических данных. Данные описывают 60 объектов, каждый из которых обладает 10 признаками. Ваша задача, используя метод главных компонент, перейти к новым координатам и найти следующие параметры.\n",
    "\n",
    "Введите координату первого объекта относительно первой главной компоненты.\n",
    "Десятичный разделитель точка. Ответ округлите до тысячных.\n",
    "Введите координату первого объекта относительно второй главной компоненты.\n",
    "Десятичный разделитель точка. Ответ округлите до тысячных.\n",
    "Введите долю объясненной дисперсии при использовании первых двух главных компонент.\n",
    "Десятичный разделитель точка. Ответ округлите до тысячных.\n",
    "Какое минимальное количество главных компонент необходимо использовать,\n",
    "чтобы доля объясненной дисперсии превышала 0.85\n",
    "Введите целое неотрицательное число\n",
    "Какое количество групп объектов можно выделить,\n",
    "если использовать только первые две главных компоненты?\n",
    "Введите целое неотрицательное число"
   ]
  },
  {
   "cell_type": "code",
   "execution_count": 36,
   "metadata": {},
   "outputs": [
    {
     "name": "stdout",
     "output_type": "stream",
     "text": [
      "            0          1          2          3          4          5  \\\n",
      "0   10.382991 -14.438544 -23.950798 -17.809813   2.480495 -15.743114   \n",
      "1   18.987842 -13.071734  15.619164 -11.288528 -11.624820  14.845464   \n",
      "2    7.426000  -9.236580 -21.139348   6.732592   0.447684 -20.687020   \n",
      "3   10.718844 -10.240587 -20.604991   4.828083  -0.073568 -23.747055   \n",
      "4   10.662165   3.871777  12.384108  -1.921321  -1.990254  -5.469310   \n",
      "5    9.601509 -17.334996 -24.127299 -19.342414   0.492613 -13.377177   \n",
      "6    9.775003  -8.705064 -21.636552   7.356519   2.160537 -23.072937   \n",
      "7   11.259948 -14.889241 -21.940512 -16.009979   0.024598 -15.101501   \n",
      "8    9.990271 -10.760423 -23.022906   5.507930  -0.164068 -23.644331   \n",
      "9   10.085331 -14.157765 -24.167099 -17.898493  -0.233567 -15.999375   \n",
      "10  10.198366 -15.496165 -22.754700 -17.826823  -1.290287 -16.617527   \n",
      "11  12.039945   7.374109  10.380017  -1.387856  -4.651388  -5.481744   \n",
      "12  10.234598   6.394659  10.012672  -4.805150  -3.686101  -6.567118   \n",
      "13  11.142553   7.027331   9.040934  -2.701830  -3.641361  -5.721253   \n",
      "14  10.499329 -13.772981 -24.289296 -17.125596   0.903704 -14.492742   \n",
      "15  20.908795  -9.523371  14.602644 -10.897326  -9.020482  12.072547   \n",
      "16   9.216565   5.062166  10.861009  -2.543109  -3.867640  -9.372203   \n",
      "17  12.770857 -10.165438 -22.940444   6.706636   2.702944 -24.112781   \n",
      "18  24.701026  -9.088471  14.702239 -10.317484  -6.748220  13.471506   \n",
      "19  12.222924   4.954023   7.390169  -5.501578  -2.120117  -3.189358   \n",
      "20   6.914555 -15.151132 -20.012053 -18.033545   0.103374 -15.131311   \n",
      "21  25.095918 -10.602418  13.768471 -10.291191 -11.197296  15.214499   \n",
      "22   8.752593 -10.146625 -21.985172   5.617818   0.139577 -25.928179   \n",
      "23  13.160505 -14.468813 -22.666145 -15.684414  -1.379957 -17.466113   \n",
      "24  23.006562  -7.188023  12.987259  -8.504294 -10.778709  13.295899   \n",
      "25  11.202611   6.151464   8.360006  -2.848377  -5.406744  -9.125057   \n",
      "26  11.053230   4.732903   6.056171  -4.017505  -3.231306  -6.658962   \n",
      "27   9.265851  -8.632301 -24.049160   5.226657   0.239862 -23.771091   \n",
      "28  12.086414 -16.140353 -25.107476 -18.390993  -1.523467 -14.713598   \n",
      "29   9.177242  -8.268894 -23.618612   5.791242   3.928127 -26.324817   \n",
      "30  12.025140 -14.288629 -22.100497 -17.095758  -2.136113 -17.494184   \n",
      "31  11.407580   5.122262   9.085055  -2.993647   0.311193  -6.239830   \n",
      "32  10.350878   4.110861  11.841657  -4.635821  -1.134455  -4.082334   \n",
      "33  22.402440  -9.348295  15.041353  -8.976151 -11.846008  13.521208   \n",
      "34  23.561753  -9.164152  13.188448  -9.585079 -12.939674  12.367178   \n",
      "35  14.368497 -13.012895 -25.258336 -15.773347   1.637003 -14.152293   \n",
      "36  11.652680 -13.308669 -23.957997 -18.767875   0.003615 -13.073680   \n",
      "37  12.826863   5.825702  10.067682  -5.913389  -2.539146  -5.790812   \n",
      "38   9.080544 -12.448031 -22.025601   9.412555   1.393306 -25.836489   \n",
      "39   9.960627   7.158755  11.616958  -3.394547  -1.852308  -4.350339   \n",
      "40  19.420586  -8.440588  10.616827  -9.401509 -10.138313  15.570322   \n",
      "41  23.035343 -10.315325  11.663583  -7.206363  -8.650240  12.804808   \n",
      "42  22.770811 -10.562220  14.736788  -6.064260  -7.999883  13.921707   \n",
      "43  10.600347   5.079080   9.727089  -4.351567  -3.438094  -5.732848   \n",
      "44  12.919658 -14.327491 -21.542643 -18.843085  -3.037250 -16.638212   \n",
      "45   9.855336  -9.804613 -23.042310   6.168318   2.098740 -24.871855   \n",
      "46   9.292837 -10.670441 -24.173006   4.645567   2.377294 -25.091634   \n",
      "47  10.032129 -10.283557 -22.966533   4.552617  -1.330366 -25.182216   \n",
      "48  22.372949  -9.479256  12.380317 -10.310395  -9.786274  12.544445   \n",
      "49  22.728304  -8.974441  13.952431 -11.134977  -8.088944  13.101889   \n",
      "50  12.348753 -10.632347 -21.753932   7.943442   1.507565 -23.801012   \n",
      "51  21.872364  -8.609261  15.992131  -7.579460 -12.678643  16.158754   \n",
      "52  12.136864 -15.316983 -24.336457 -20.397205   0.105174 -17.381872   \n",
      "53   8.643374 -10.319916 -23.537989   8.287078   0.338115 -25.805917   \n",
      "54  22.365580 -10.815813  14.434947 -11.811079  -7.640618  14.221546   \n",
      "55  11.033852   5.095203   8.411835  -1.786750  -1.977230  -6.245144   \n",
      "56  24.387850  -9.571461  15.017301  -7.891999 -11.281913  13.173018   \n",
      "57   7.608833  -9.639028 -20.020431   5.995816   1.324267 -22.662469   \n",
      "58  12.238373   6.700282   8.936596  -6.228025  -0.687388  -4.763651   \n",
      "59  13.094817 -14.390194 -26.707794 -15.919549  -0.812878 -15.433994   \n",
      "\n",
      "            6          7          8          9  \n",
      "0   -9.112421 -27.390035 -11.955001  18.069910  \n",
      "1   -4.924935  21.207876 -23.703025   4.440474  \n",
      "2  -18.545136   7.758288  18.620790  -3.006755  \n",
      "3  -17.260869   7.074364  16.996747  -6.796469  \n",
      "4    2.801321 -19.978717  23.414766  -2.654889  \n",
      "5  -11.756583 -23.998003 -12.997439  18.554854  \n",
      "6  -17.002317   5.345636  15.625533  -5.754360  \n",
      "7  -10.039564 -23.297495  -9.398128  22.819532  \n",
      "8  -16.596488   4.921537  13.893486  -4.326099  \n",
      "9  -13.649157 -24.139879 -11.306592  19.955061  \n",
      "10 -11.910447 -23.780316 -12.716276  18.907651  \n",
      "11   3.907143 -19.958866  20.435555  -2.381803  \n",
      "12  -1.777749 -20.914795  22.477447  -1.538870  \n",
      "13  -0.146974 -18.263360  24.853138   0.150188  \n",
      "14 -11.497818 -22.510403 -12.588482  17.276983  \n",
      "15  -7.470307  25.216686 -20.538165   0.170783  \n",
      "16   1.012353 -21.235847  23.042081   0.293125  \n",
      "17 -18.721443   8.339604  16.751385  -4.392585  \n",
      "18  -6.595186  24.525312 -26.237301   1.899421  \n",
      "19   1.034476 -20.576170  22.322066  -2.330537  \n",
      "20 -12.597179 -23.181099 -13.129817  17.687311  \n",
      "21  -7.580895  24.971608 -25.559118   2.706094  \n",
      "22 -15.133080   8.208285  16.331414  -4.775612  \n",
      "23 -15.157308 -22.631529 -12.330250  19.075064  \n",
      "24  -8.241348  21.639373 -20.791729   0.087595  \n",
      "25   3.102477 -21.265455  22.767140  -0.247914  \n",
      "26   0.495112 -15.934847  23.360236  -2.277064  \n",
      "27 -16.107000   6.597836  18.505618  -7.650646  \n",
      "28  -9.793293 -21.286280 -15.303354  22.004617  \n",
      "29 -16.924245   4.901023  17.445931  -4.714931  \n",
      "30  -9.222467 -22.923556 -12.534883  18.186235  \n",
      "31   1.943945 -19.207615  24.683063   0.016268  \n",
      "32  -0.642524 -20.241130  23.371614  -0.302700  \n",
      "33  -5.236366  25.980566 -24.523665   0.799890  \n",
      "34  -9.810533  25.072580 -24.691438  -0.355579  \n",
      "35 -10.120919 -23.249984 -11.830603  17.858008  \n",
      "36 -11.900399 -22.184438 -12.339713  18.261415  \n",
      "37  -1.371945 -16.885054  23.669209  -0.772815  \n",
      "38 -17.727879  10.695031  14.407388  -1.257361  \n",
      "39   0.396005 -22.088538  23.641082  -0.422133  \n",
      "40  -6.642322  25.835618 -23.494151   2.801259  \n",
      "41 -10.199484  25.073367 -24.948587   2.120170  \n",
      "42  -8.056741  25.203567 -23.650488  -0.264523  \n",
      "43   0.833854 -16.347102  24.156109  -0.989208  \n",
      "44 -10.904249 -25.622200 -12.875055  19.492334  \n",
      "45 -17.475934   6.619296  17.165481  -6.865362  \n",
      "46 -21.548309   6.695998  15.662666  -5.712680  \n",
      "47 -16.981515   4.777132  14.713641  -6.509702  \n",
      "48  -5.966872  22.579338 -20.215287  -1.810083  \n",
      "49  -6.436444  23.746730 -24.464398   2.524320  \n",
      "50 -17.043093   7.806760  17.333450  -6.115073  \n",
      "51  -6.600855  23.537382 -24.021556   0.843612  \n",
      "52 -10.733443 -26.547183 -11.848713  19.011309  \n",
      "53 -16.894467   7.600817  15.776861  -2.016620  \n",
      "54  -6.311189  20.637291 -25.583194  -2.281332  \n",
      "55   1.286579 -18.468953  22.798791   1.441261  \n",
      "56  -7.577056  24.031223 -21.927902  -1.149599  \n",
      "57 -16.315751   7.176372  17.131277  -4.100387  \n",
      "58   0.726893 -19.773149  25.302010  -0.043132  \n",
      "59 -10.804201 -23.526457 -14.393428  17.834406  \n"
     ]
    }
   ],
   "source": [
    "df = pd.read_csv(\"/Users/ekaterina/github_repos/ITMO_STUDY/ datasets/IZ_35.1_MGC.csv\", delimiter=',', header=None)# , index_col='0'\n",
    "print(df)"
   ]
  },
  {
   "cell_type": "code",
   "execution_count": 37,
   "metadata": {},
   "outputs": [
    {
     "data": {
      "text/html": [
       "<div>\n",
       "<style scoped>\n",
       "    .dataframe tbody tr th:only-of-type {\n",
       "        vertical-align: middle;\n",
       "    }\n",
       "\n",
       "    .dataframe tbody tr th {\n",
       "        vertical-align: top;\n",
       "    }\n",
       "\n",
       "    .dataframe thead th {\n",
       "        text-align: right;\n",
       "    }\n",
       "</style>\n",
       "<table border=\"1\" class=\"dataframe\">\n",
       "  <thead>\n",
       "    <tr style=\"text-align: right;\">\n",
       "      <th></th>\n",
       "      <th>0</th>\n",
       "      <th>1</th>\n",
       "      <th>2</th>\n",
       "      <th>3</th>\n",
       "      <th>4</th>\n",
       "      <th>5</th>\n",
       "      <th>6</th>\n",
       "      <th>7</th>\n",
       "      <th>8</th>\n",
       "      <th>9</th>\n",
       "    </tr>\n",
       "  </thead>\n",
       "  <tbody>\n",
       "    <tr>\n",
       "      <th>count</th>\n",
       "      <td>60.000000</td>\n",
       "      <td>60.000000</td>\n",
       "      <td>60.000000</td>\n",
       "      <td>60.000000</td>\n",
       "      <td>60.000000</td>\n",
       "      <td>60.000000</td>\n",
       "      <td>60.000000</td>\n",
       "      <td>60.000000</td>\n",
       "      <td>60.000000</td>\n",
       "      <td>60.000000</td>\n",
       "    </tr>\n",
       "    <tr>\n",
       "      <th>mean</th>\n",
       "      <td>13.648938</td>\n",
       "      <td>-7.175716</td>\n",
       "      <td>-5.609337</td>\n",
       "      <td>-6.107276</td>\n",
       "      <td>-2.965088</td>\n",
       "      <td>-7.997695</td>\n",
       "      <td>-8.725442</td>\n",
       "      <td>-3.060533</td>\n",
       "      <td>0.912637</td>\n",
       "      <td>3.524539</td>\n",
       "    </tr>\n",
       "    <tr>\n",
       "      <th>std</th>\n",
       "      <td>5.410092</td>\n",
       "      <td>7.810819</td>\n",
       "      <td>17.654396</td>\n",
       "      <td>8.925655</td>\n",
       "      <td>4.599278</td>\n",
       "      <td>14.330792</td>\n",
       "      <td>6.859131</td>\n",
       "      <td>19.763887</td>\n",
       "      <td>19.750764</td>\n",
       "      <td>9.393779</td>\n",
       "    </tr>\n",
       "    <tr>\n",
       "      <th>min</th>\n",
       "      <td>6.914555</td>\n",
       "      <td>-17.334996</td>\n",
       "      <td>-26.707794</td>\n",
       "      <td>-20.397205</td>\n",
       "      <td>-12.939674</td>\n",
       "      <td>-26.324817</td>\n",
       "      <td>-21.548309</td>\n",
       "      <td>-27.390035</td>\n",
       "      <td>-26.237301</td>\n",
       "      <td>-7.650646</td>\n",
       "    </tr>\n",
       "    <tr>\n",
       "      <th>25%</th>\n",
       "      <td>10.021664</td>\n",
       "      <td>-13.027605</td>\n",
       "      <td>-22.980626</td>\n",
       "      <td>-12.779413</td>\n",
       "      <td>-5.742113</td>\n",
       "      <td>-18.292393</td>\n",
       "      <td>-15.139137</td>\n",
       "      <td>-21.486845</td>\n",
       "      <td>-16.531338</td>\n",
       "      <td>-2.343354</td>\n",
       "    </tr>\n",
       "    <tr>\n",
       "      <th>50%</th>\n",
       "      <td>11.333764</td>\n",
       "      <td>-9.721820</td>\n",
       "      <td>-6.977941</td>\n",
       "      <td>-6.146143</td>\n",
       "      <td>-1.451712</td>\n",
       "      <td>-11.222941</td>\n",
       "      <td>-9.507880</td>\n",
       "      <td>-5.578858</td>\n",
       "      <td>2.247679</td>\n",
       "      <td>-0.145523</td>\n",
       "    </tr>\n",
       "    <tr>\n",
       "      <th>75%</th>\n",
       "      <td>15.523334</td>\n",
       "      <td>-4.423073</td>\n",
       "      <td>11.708101</td>\n",
       "      <td>0.097262</td>\n",
       "      <td>0.257695</td>\n",
       "      <td>0.626118</td>\n",
       "      <td>-4.138139</td>\n",
       "      <td>13.180596</td>\n",
       "      <td>19.074481</td>\n",
       "      <td>7.649601</td>\n",
       "    </tr>\n",
       "    <tr>\n",
       "      <th>max</th>\n",
       "      <td>25.095918</td>\n",
       "      <td>7.374109</td>\n",
       "      <td>15.992131</td>\n",
       "      <td>9.412555</td>\n",
       "      <td>3.928127</td>\n",
       "      <td>16.158754</td>\n",
       "      <td>3.907143</td>\n",
       "      <td>25.980566</td>\n",
       "      <td>25.302010</td>\n",
       "      <td>22.819532</td>\n",
       "    </tr>\n",
       "  </tbody>\n",
       "</table>\n",
       "</div>"
      ],
      "text/plain": [
       "               0          1          2          3          4          5  \\\n",
       "count  60.000000  60.000000  60.000000  60.000000  60.000000  60.000000   \n",
       "mean   13.648938  -7.175716  -5.609337  -6.107276  -2.965088  -7.997695   \n",
       "std     5.410092   7.810819  17.654396   8.925655   4.599278  14.330792   \n",
       "min     6.914555 -17.334996 -26.707794 -20.397205 -12.939674 -26.324817   \n",
       "25%    10.021664 -13.027605 -22.980626 -12.779413  -5.742113 -18.292393   \n",
       "50%    11.333764  -9.721820  -6.977941  -6.146143  -1.451712 -11.222941   \n",
       "75%    15.523334  -4.423073  11.708101   0.097262   0.257695   0.626118   \n",
       "max    25.095918   7.374109  15.992131   9.412555   3.928127  16.158754   \n",
       "\n",
       "               6          7          8          9  \n",
       "count  60.000000  60.000000  60.000000  60.000000  \n",
       "mean   -8.725442  -3.060533   0.912637   3.524539  \n",
       "std     6.859131  19.763887  19.750764   9.393779  \n",
       "min   -21.548309 -27.390035 -26.237301  -7.650646  \n",
       "25%   -15.139137 -21.486845 -16.531338  -2.343354  \n",
       "50%    -9.507880  -5.578858   2.247679  -0.145523  \n",
       "75%    -4.138139  13.180596  19.074481   7.649601  \n",
       "max     3.907143  25.980566  25.302010  22.819532  "
      ]
     },
     "execution_count": 37,
     "metadata": {},
     "output_type": "execute_result"
    }
   ],
   "source": [
    "df.describe()"
   ]
  },
  {
   "cell_type": "code",
   "execution_count": 38,
   "metadata": {},
   "outputs": [
    {
     "data": {
      "text/plain": [
       "(60, 10)"
      ]
     },
     "execution_count": 38,
     "metadata": {},
     "output_type": "execute_result"
    }
   ],
   "source": [
    "df.shape"
   ]
  },
  {
   "cell_type": "markdown",
   "metadata": {},
   "source": [
    "Уменьшим размерность при помощи библиотеки `sklearn`. Отдельно обратим внимание на параметр `svd_solver` — параметр, отвечающий за способ построения матричного разложения. Чтобы получать согласованные с лекцией результаты,  используем параметр `svd_solver = 'full'`.\n",
    "\n",
    "Оказывается, для того чтобы получить новые координаты объектов, достаточно написать две следующие строчки."
   ]
  },
  {
   "cell_type": "code",
   "execution_count": 39,
   "metadata": {},
   "outputs": [],
   "source": [
    "pca = PCA(n_components = 2, svd_solver = 'full') #Создание объекта класса PCA. В качестве параметров выступает количество ГК и метод оптимизации svd_solver = 'full'(фулл означает, что мы хлотим не приближенное, а точное значение)\n",
    "df_transformed = pca.fit_transform(df) #X_transformed — ndarray объектов, где каждый объект описывается двумя ГК"
   ]
  },
  {
   "cell_type": "markdown",
   "metadata": {},
   "source": [
    "Выведем полученные новые координаты объекта с индексом 0."
   ]
  },
  {
   "cell_type": "code",
   "execution_count": 40,
   "metadata": {},
   "outputs": [
    {
     "data": {
      "text/plain": [
       "array([-19.05792582,  31.91261445])"
      ]
     },
     "execution_count": 40,
     "metadata": {},
     "output_type": "execute_result"
    }
   ],
   "source": [
    "df_transformed[0]"
   ]
  },
  {
   "cell_type": "markdown",
   "metadata": {},
   "source": [
    "Теперь обсудим детали. Матрица весов хранится в поле `components_` класса `pca` и имеет размеры *(количество ГК, начальное количество признаков)*. Это значит, что матрица весов $\\varPhi$, описанная в лекции, связана с матрицей весов `pca.components_`, выдаваемой инструментом, соотношением\n",
    "$$\n",
    "\\varPhi = (\\text{pca.components_})^T.\n",
    "$$"
   ]
  },
  {
   "cell_type": "code",
   "execution_count": 41,
   "metadata": {},
   "outputs": [
    {
     "name": "stdout",
     "output_type": "stream",
     "text": [
      "(2, 10)\n"
     ]
    },
    {
     "data": {
      "text/plain": [
       "array([[ 0.18350193, -0.03302002,  0.43776131, -0.07859612, -0.14966591,\n",
       "         0.46775475,  0.05267998,  0.52494143, -0.49533105, -0.0503834 ],\n",
       "       [ 0.0174599 , -0.31725924, -0.47573442, -0.28194334,  0.0239379 ,\n",
       "        -0.0960839 , -0.16039653, -0.13156141, -0.63942788,  0.36265389]])"
      ]
     },
     "execution_count": 41,
     "metadata": {},
     "output_type": "execute_result"
    }
   ],
   "source": [
    "print(pca.components_.shape) # В нашем случае матрица размер 2 х 10 - т к n_components = 2(кол-во гл.компонент)\n",
    "pca.components_"
   ]
  },
  {
   "cell_type": "markdown",
   "metadata": {},
   "source": [
    "Установив связь между тем, что выдает инструмент, и тем, что описано в лекции, наглядно продемонстрируем, что новые координаты объектов можно получить и непосредственным умножением матрицы объектов на матрицу весов. Отметим, что в таком случае исходные координаты объектов необходимо предварительно центрировать."
   ]
  },
  {
   "cell_type": "code",
   "execution_count": 42,
   "metadata": {},
   "outputs": [
    {
     "data": {
      "text/plain": [
       "array([-19.05792582,  31.91261445])"
      ]
     },
     "execution_count": 42,
     "metadata": {},
     "output_type": "execute_result"
    }
   ],
   "source": [
    "# Выведем новые координаты объекта с индексом 0\n",
    "np.dot(df-df.mean(axis=0), pca.components_.T)[0]# df-df.mean -  центрирование"
   ]
  },
  {
   "cell_type": "code",
   "execution_count": 44,
   "metadata": {},
   "outputs": [],
   "source": [
    "# Если использовать библиотечный метод, то все преобразования производятся автоматически\n",
    "#pca.transform([df[0]])"
   ]
  },
  {
   "cell_type": "markdown",
   "metadata": {},
   "source": [
    "Т к  отклики нам неизвестны-строим график и все точки красим одним цветом, смотрим, как на шрафике образовались четкие группы точек. "
   ]
  },
  {
   "cell_type": "code",
   "execution_count": 55,
   "metadata": {},
   "outputs": [
    {
     "data": {
      "text/plain": [
       "[<matplotlib.lines.Line2D at 0x7fad4f001910>]"
      ]
     },
     "execution_count": 55,
     "metadata": {},
     "output_type": "execute_result"
    },
    {
     "data": {
      "image/png": "[encoded data removed]",
      "text/plain": [
       "<Figure size 640x480 with 1 Axes>"
      ]
     },
     "metadata": {},
     "output_type": "display_data"
    }
   ],
   "source": [
    "plt.plot(df_transformed[:61, 0], df_transformed[:61, 1], 'o', markerfacecolor='red', markeredgecolor='k', markersize=8)"
   ]
  },
  {
   "cell_type": "markdown",
   "metadata": {},
   "source": [
    "У нас получилось 4 группы объектов"
   ]
  },
  {
   "cell_type": "markdown",
   "metadata": {},
   "source": [
    "Для дальнейшего анализа нам необходимо будет построить не 2, а все 10 ГК (хотя, конечно, это можно было сделать и сразу, а картинку строить лишь по первым двум), т к нам необходимо посчитать долю объясненноц дисперсии. Изначально у нас было 10 признаков"
   ]
  },
  {
   "cell_type": "code",
   "execution_count": 47,
   "metadata": {},
   "outputs": [],
   "source": [
    "pca = PCA(n_components=10, svd_solver='full')\n",
    "df_full = pca.fit(df).transform(df)"
   ]
  },
  {
   "cell_type": "markdown",
   "metadata": {},
   "source": [
    "Найдем долю объясненной дисперсии в зависимости от количества используемых ГК. Она храниться в поле xplained_variance_ratio_, для ее поиска необходимо найти куммулятивную сумму"
   ]
  },
  {
   "cell_type": "code",
   "execution_count": 48,
   "metadata": {},
   "outputs": [
    {
     "data": {
      "text/plain": [
       "array([0.492, 0.781, 0.991, 0.993, 0.995, 0.996, 0.998, 0.999, 0.999,\n",
       "       1.   ])"
      ]
     },
     "execution_count": 48,
     "metadata": {},
     "output_type": "execute_result"
    }
   ],
   "source": [
    "explained_variance = np.round(np.cumsum(pca.explained_variance_ratio_),3) # сumsum - куммулятивная сумма\n",
    "explained_variance"
   ]
  },
  {
   "cell_type": "markdown",
   "metadata": {},
   "source": [
    "Построим график зависимости доли объясненной дисперсии от количества используемых ГК. Подробное описание произведено в лекции."
   ]
  },
  {
   "cell_type": "code",
   "execution_count": 51,
   "metadata": {},
   "outputs": [
    {
     "data": {
      "text/plain": [
       "[<matplotlib.lines.Line2D at 0x7fad4e78a400>]"
      ]
     },
     "execution_count": 51,
     "metadata": {},
     "output_type": "execute_result"
    },
    {
     "data": {
      "image/png": "[encoded data removed]",
      "text/plain": [
       "<Figure size 640x480 with 1 Axes>"
      ]
     },
     "metadata": {},
     "output_type": "display_data"
    }
   ],
   "source": [
    "plt.plot(np.arange(10), explained_variance, ls = '-')"
   ]
  },
  {
   "cell_type": "code",
   "execution_count": 56,
   "metadata": {},
   "outputs": [
    {
     "name": "stdout",
     "output_type": "stream",
     "text": [
      "Минимальное количество ГК для превышения заданного порога 3\n"
     ]
    }
   ],
   "source": [
    "treshold=0.85\n",
    "dim=0\n",
    "for value in explained_variance:\n",
    "    if value > treshold:\n",
    "        print(\"Минимальное количество ГК для превышения заданного порога\", dim+1)\n",
    "        break\n",
    "    dim +=1\n",
    "\n",
    "\n"
   ]
  }
 ],
 "metadata": {
  "kernelspec": {
   "display_name": "Python 3.8.5 ('base')",
   "language": "python",
   "name": "python3"
  },
  "language_info": {
   "codemirror_mode": {
    "name": "ipython",
    "version": 3
   },
   "file_extension": ".py",
   "mimetype": "text/x-python",
   "name": "python",
   "nbconvert_exporter": "python",
   "pygments_lexer": "ipython3",
   "version": "3.8.5"
  },
  "orig_nbformat": 4,
  "vscode": {
   "interpreter": {
    "hash": "40d3a090f54c6569ab1632332b64b2c03c39dcf918b08424e98f38b5ae0af88f"
   }
  }
 },
 "nbformat": 4,
 "nbformat_minor": 2
}
