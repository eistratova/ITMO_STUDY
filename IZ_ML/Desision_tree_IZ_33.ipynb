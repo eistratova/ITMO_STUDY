{
 "cells": [
  {
   "cell_type": "code",
   "execution_count": 118,
   "metadata": {},
   "outputs": [],
   "source": [
    "import pandas as pd\n",
    "import matplotlib\n",
    "from sklearn.tree import DecisionTreeClassifier\n",
    "\n",
    "import numpy as np\n",
    "import matplotlib.pyplot as plt\n",
    "%matplotlib inline \n",
    "from sklearn.metrics import accuracy_score\n",
    "\n",
    "from sklearn.metrics import classification_report\n",
    "from sklearn.model_selection import train_test_split\n",
    "from IPython.display import Image\n",
    "from imutils import paths\n",
    "import numpy as np\n",
    "import os\n",
    "\n",
    "from os import listdir # Библиотека для получения списка файлов\n",
    "from os.path import isfile, join\n",
    "import os\n",
    "os.environ[\"PATH\"] += os.pathsep + 'D:/Program Files (x86)/Graphviz2.38/bin/'\n"
   ]
  },
  {
   "cell_type": "markdown",
   "metadata": {},
   "source": [
    "В этом упражнении вам предлагается построить классификатор на наборе данных, полученных Национальным институтом диабета, болезней органов пищеварения и почек (National Institute of Diabetes and Digestive and Kidney Diseases). Цель состоит в том, чтобы ответить на вопрос: есть ли у пациента диабет, основываясь на определенных диагностических измерениях, включенных в набор данных, который получен из исходной базы данных наложением нескольких ограничений. В частности, в рассматриваемых в задании данных, все пациенты — женщины не менее 21 года индийского происхождения Пима.\n",
    "\n",
    "Набор данных состоит из таких предикторов, как количество беременностей у пациентки, индекс массы тела, уровень инсулина, возраст и так далее. Отклик принимает два значение — больна (1) диабетом или нет (0).\n",
    "1. Скачайте исходный набор данных и отделите от него первые 520 строк. Введите число строк в получившейся выборке относящихся к классу 0 (пациент не болен диабетом).\n",
    "2. Разделите полученную выборку на тренировочную и тестовую части, в отношении 80/20 (первые 80% строк — тренировочный набор данных, остальные 20% — тестовый). Предикторами служат столбцы Pregnancies, Glucose, BloodPressure, SkinThickness, Insulin, BMI, DiabetesPedigreeFunction, Age. Отклик — Outcome.\n",
    "3. Обучите классификатор используя DecisionTreeClassifier с параметрами criterion='entropy', max_leaf_nodes = 25, min_samples_leaf = 15 и random_state = 2020.\n",
    "4. Изучите получившееся дерево принятия решений.Введите глубину дерева:\n",
    "По какому предиктору выполнено разделение на последнем уровне дерева принятия решений (если таких узлов несколько, введите название любого из них):\n",
    "Введите значение разделения для указанного предиктора с точностью до сотых:\n",
    "5. Оцените модель с помощью тестовых данных. Введите долю правильных ответов:\n",
    "6.Введите среднее значение метрик  (Macro-F1):\n",
    "7.Выполните предсказание для пациентов 719, 739, 748, 734 (указаны номера строк, нумерация с нуля) из начального набора данных."
   ]
  },
  {
   "cell_type": "code",
   "execution_count": 119,
   "metadata": {},
   "outputs": [],
   "source": [
    "#чтение данных, _______________, используем их в качестве индекса\n",
    "\n",
    "df = pd.read_csv(\"/Users/ekaterina/github_repos/ITMO_STUDY/ datasets/IZ_33_diabets/diabetes.csv\", delimiter=',') # , index_col='competitorname'\n"
   ]
  },
  {
   "cell_type": "code",
   "execution_count": 120,
   "metadata": {},
   "outputs": [
    {
     "name": "stdout",
     "output_type": "stream",
     "text": [
      "   Pregnancies  Glucose  BloodPressure  SkinThickness  Insulin   BMI  \\\n",
      "0            6      148             72             35        0  33.6   \n",
      "1            1       85             66             29        0  26.6   \n",
      "2            8      183             64              0        0  23.3   \n",
      "3            1       89             66             23       94  28.1   \n",
      "4            0      137             40             35      168  43.1   \n",
      "\n",
      "   DiabetesPedigreeFunction  Age  Outcome  \n",
      "0                     0.627   50        1  \n",
      "1                     0.351   31        0  \n",
      "2                     0.672   32        1  \n",
      "3                     0.167   21        0  \n",
      "4                     2.288   33        1  \n"
     ]
    }
   ],
   "source": [
    "print(df.head())"
   ]
  },
  {
   "cell_type": "code",
   "execution_count": 121,
   "metadata": {},
   "outputs": [
    {
     "name": "stdout",
     "output_type": "stream",
     "text": [
      "<class 'pandas.core.frame.DataFrame'>\n",
      "RangeIndex: 768 entries, 0 to 767\n",
      "Data columns (total 9 columns):\n",
      " #   Column                    Non-Null Count  Dtype  \n",
      "---  ------                    --------------  -----  \n",
      " 0   Pregnancies               768 non-null    int64  \n",
      " 1   Glucose                   768 non-null    int64  \n",
      " 2   BloodPressure             768 non-null    int64  \n",
      " 3   SkinThickness             768 non-null    int64  \n",
      " 4   Insulin                   768 non-null    int64  \n",
      " 5   BMI                       768 non-null    float64\n",
      " 6   DiabetesPedigreeFunction  768 non-null    float64\n",
      " 7   Age                       768 non-null    int64  \n",
      " 8   Outcome                   768 non-null    int64  \n",
      "dtypes: float64(2), int64(7)\n",
      "memory usage: 54.1 KB\n"
     ]
    }
   ],
   "source": [
    "df.info()"
   ]
  },
  {
   "cell_type": "code",
   "execution_count": 122,
   "metadata": {},
   "outputs": [
    {
     "name": "stdout",
     "output_type": "stream",
     "text": [
      "<class 'pandas.core.frame.DataFrame'>\n",
      "RangeIndex: 520 entries, 0 to 519\n",
      "Data columns (total 9 columns):\n",
      " #   Column                    Non-Null Count  Dtype  \n",
      "---  ------                    --------------  -----  \n",
      " 0   Pregnancies               520 non-null    int64  \n",
      " 1   Glucose                   520 non-null    int64  \n",
      " 2   BloodPressure             520 non-null    int64  \n",
      " 3   SkinThickness             520 non-null    int64  \n",
      " 4   Insulin                   520 non-null    int64  \n",
      " 5   BMI                       520 non-null    float64\n",
      " 6   DiabetesPedigreeFunction  520 non-null    float64\n",
      " 7   Age                       520 non-null    int64  \n",
      " 8   Outcome                   520 non-null    int64  \n",
      "dtypes: float64(2), int64(7)\n",
      "memory usage: 36.7 KB\n"
     ]
    }
   ],
   "source": [
    "df_1 = df.head(520)\n",
    "df_1.info()"
   ]
  },
  {
   "cell_type": "code",
   "execution_count": 123,
   "metadata": {},
   "outputs": [
    {
     "data": {
      "text/plain": [
       "0    333\n",
       "1    187\n",
       "Name: Outcome, dtype: int64"
      ]
     },
     "execution_count": 123,
     "metadata": {},
     "output_type": "execute_result"
    }
   ],
   "source": [
    "df_1['Outcome'].value_counts()"
   ]
  },
  {
   "cell_type": "code",
   "execution_count": 124,
   "metadata": {},
   "outputs": [],
   "source": [
    "features = list(df_1.columns[:8])"
   ]
  },
  {
   "cell_type": "code",
   "execution_count": 125,
   "metadata": {},
   "outputs": [],
   "source": [
    "train = df_1.head(int(len(df_1)*0.8))\n",
    "test = df_1.tail(int(len(df_1)*0.2))\n"
   ]
  },
  {
   "cell_type": "code",
   "execution_count": 126,
   "metadata": {},
   "outputs": [],
   "source": [
    "x = train[features]\n",
    "y = train['Outcome']  "
   ]
  },
  {
   "cell_type": "code",
   "execution_count": 127,
   "metadata": {},
   "outputs": [],
   "source": [
    "tree = DecisionTreeClassifier(criterion='entropy', \n",
    "                            max_leaf_nodes = 25, \n",
    "                            min_samples_leaf = 15, random_state = 2020)\n",
    "            "
   ]
  },
  {
   "cell_type": "code",
   "execution_count": 128,
   "metadata": {},
   "outputs": [],
   "source": [
    "\n",
    "clf=tree.fit(x, y)"
   ]
  },
  {
   "cell_type": "code",
   "execution_count": 129,
   "metadata": {},
   "outputs": [
    {
     "name": "stdout",
     "output_type": "stream",
     "text": [
      "Requirement already satisfied: graphviz in /opt/anaconda3/lib/python3.8/site-packages (0.20.1)\n",
      "Note: you may need to restart the kernel to use updated packages.\n"
     ]
    }
   ],
   "source": [
    "%pip install graphviz"
   ]
  },
  {
   "cell_type": "code",
   "execution_count": 130,
   "metadata": {},
   "outputs": [
    {
     "data": {
      "text/plain": [
       "8"
      ]
     },
     "execution_count": 130,
     "metadata": {},
     "output_type": "execute_result"
    }
   ],
   "source": [
    "clf.tree_.max_depth"
   ]
  },
  {
   "cell_type": "code",
   "execution_count": 131,
   "metadata": {},
   "outputs": [],
   "source": [
    "features = list(test.columns[:8])\n",
    "x = test[features]\n",
    "y_true = test['Outcome']\n",
    "y_pred = clf.predict(x)"
   ]
  },
  {
   "cell_type": "code",
   "execution_count": 132,
   "metadata": {},
   "outputs": [
    {
     "data": {
      "text/plain": [
       "0.8173076923076923"
      ]
     },
     "execution_count": 132,
     "metadata": {},
     "output_type": "execute_result"
    }
   ],
   "source": [
    "\n",
    "accuracy_score(y_true, y_pred)"
   ]
  },
  {
   "cell_type": "code",
   "execution_count": 133,
   "metadata": {},
   "outputs": [
    {
     "data": {
      "text/plain": [
       "0.759464394400487"
      ]
     },
     "execution_count": 133,
     "metadata": {},
     "output_type": "execute_result"
    }
   ],
   "source": [
    "\n",
    "from sklearn.metrics import f1_score\n",
    "f1_score(y_true, y_pred, average='macro')"
   ]
  },
  {
   "cell_type": "code",
   "execution_count": 134,
   "metadata": {},
   "outputs": [
    {
     "data": {
      "text/plain": [
       "Pregnancies                  5.000\n",
       "Glucose                     97.000\n",
       "BloodPressure               76.000\n",
       "SkinThickness               27.000\n",
       "Insulin                      0.000\n",
       "BMI                         35.600\n",
       "DiabetesPedigreeFunction     0.378\n",
       "Age                         52.000\n",
       "Name: 719, dtype: float64"
      ]
     },
     "execution_count": 134,
     "metadata": {},
     "output_type": "execute_result"
    }
   ],
   "source": [
    "df.loc[719, features]"
   ]
  },
  {
   "cell_type": "code",
   "execution_count": 135,
   "metadata": {},
   "outputs": [
    {
     "name": "stderr",
     "output_type": "stream",
     "text": [
      "/opt/anaconda3/lib/python3.8/site-packages/sklearn/base.py:450: UserWarning: X does not have valid feature names, but DecisionTreeClassifier was fitted with feature names\n",
      "  warnings.warn(\n"
     ]
    },
    {
     "data": {
      "text/plain": [
       "0"
      ]
     },
     "execution_count": 135,
     "metadata": {},
     "output_type": "execute_result"
    }
   ],
   "source": [
    "clf.predict([df.loc[719, features].tolist()])[0]"
   ]
  },
  {
   "cell_type": "code",
   "execution_count": 136,
   "metadata": {},
   "outputs": [
    {
     "data": {
      "text/plain": [
       "Pregnancies                   1.000\n",
       "Glucose                     102.000\n",
       "BloodPressure                74.000\n",
       "SkinThickness                 0.000\n",
       "Insulin                       0.000\n",
       "BMI                          39.500\n",
       "DiabetesPedigreeFunction      0.293\n",
       "Age                          42.000\n",
       "Name: 739, dtype: float64"
      ]
     },
     "execution_count": 136,
     "metadata": {},
     "output_type": "execute_result"
    }
   ],
   "source": [
    "df.loc[739, features]"
   ]
  },
  {
   "cell_type": "code",
   "execution_count": 137,
   "metadata": {},
   "outputs": [
    {
     "name": "stderr",
     "output_type": "stream",
     "text": [
      "/opt/anaconda3/lib/python3.8/site-packages/sklearn/base.py:450: UserWarning: X does not have valid feature names, but DecisionTreeClassifier was fitted with feature names\n",
      "  warnings.warn(\n"
     ]
    },
    {
     "data": {
      "text/plain": [
       "1"
      ]
     },
     "execution_count": 137,
     "metadata": {},
     "output_type": "execute_result"
    }
   ],
   "source": [
    "clf.predict([df.loc[739, features].tolist()])[0]"
   ]
  },
  {
   "cell_type": "code",
   "execution_count": 138,
   "metadata": {},
   "outputs": [
    {
     "data": {
      "text/plain": [
       "Pregnancies                   3.000\n",
       "Glucose                     187.000\n",
       "BloodPressure                70.000\n",
       "SkinThickness                22.000\n",
       "Insulin                     200.000\n",
       "BMI                          36.400\n",
       "DiabetesPedigreeFunction      0.408\n",
       "Age                          36.000\n",
       "Name: 748, dtype: float64"
      ]
     },
     "execution_count": 138,
     "metadata": {},
     "output_type": "execute_result"
    }
   ],
   "source": [
    "df.loc[748, features]"
   ]
  },
  {
   "cell_type": "code",
   "execution_count": 139,
   "metadata": {},
   "outputs": [
    {
     "name": "stderr",
     "output_type": "stream",
     "text": [
      "/opt/anaconda3/lib/python3.8/site-packages/sklearn/base.py:450: UserWarning: X does not have valid feature names, but DecisionTreeClassifier was fitted with feature names\n",
      "  warnings.warn(\n"
     ]
    },
    {
     "data": {
      "text/plain": [
       "1"
      ]
     },
     "execution_count": 139,
     "metadata": {},
     "output_type": "execute_result"
    }
   ],
   "source": [
    "clf.predict([df.loc[748, features].tolist()])[0]"
   ]
  },
  {
   "cell_type": "code",
   "execution_count": 140,
   "metadata": {},
   "outputs": [
    {
     "data": {
      "text/plain": [
       "Pregnancies                   2.00\n",
       "Glucose                     105.00\n",
       "BloodPressure                75.00\n",
       "SkinThickness                 0.00\n",
       "Insulin                       0.00\n",
       "BMI                          23.30\n",
       "DiabetesPedigreeFunction      0.56\n",
       "Age                          53.00\n",
       "Name: 734, dtype: float64"
      ]
     },
     "execution_count": 140,
     "metadata": {},
     "output_type": "execute_result"
    }
   ],
   "source": [
    "df.loc[734, features]"
   ]
  },
  {
   "cell_type": "code",
   "execution_count": 141,
   "metadata": {},
   "outputs": [
    {
     "name": "stderr",
     "output_type": "stream",
     "text": [
      "/opt/anaconda3/lib/python3.8/site-packages/sklearn/base.py:450: UserWarning: X does not have valid feature names, but DecisionTreeClassifier was fitted with feature names\n",
      "  warnings.warn(\n"
     ]
    },
    {
     "data": {
      "text/plain": [
       "0"
      ]
     },
     "execution_count": 141,
     "metadata": {},
     "output_type": "execute_result"
    }
   ],
   "source": [
    "clf.predict([df.loc[734, features].tolist()])[0]"
   ]
  },
  {
   "cell_type": "code",
   "execution_count": 142,
   "metadata": {},
   "outputs": [
    {
     "data": {
      "image/svg+xml": "<?xml version=\"1.0\" encoding=\"UTF-8\" standalone=\"no\"?>\n<!DOCTYPE svg PUBLIC \"-//W3C//DTD SVG 1.1//EN\"\n \"http://www.w3.org/Graphics/SVG/1.1/DTD/svg11.dtd\">\n<!-- Generated by graphviz version 2.50.0 (0)\n -->\n<!-- Title: Tree Pages: 1 -->\n<svg width=\"1155pt\" height=\"1028pt\"\n viewBox=\"0.00 0.00 1155.00 1028.00\" xmlns=\"http://www.w3.org/2000/svg\" xmlns:xlink=\"http://www.w3.org/1999/xlink\">\n<g id=\"graph0\" class=\"graph\" transform=\"scale(1 1) rotate(0) translate(4 1024)\">\n<title>Tree</title>\n<polygon fill=\"white\" stroke=\"transparent\" points=\"-4,4 -4,-1024 1151,-1024 1151,4 -4,4\"/>\n<!-- 0 -->\n<g id=\"node1\" class=\"node\">\n<title>0</title>\n<path fill=\"#f5d0b5\" stroke=\"black\" d=\"M540.5,-1020C540.5,-1020 439.5,-1020 439.5,-1020 433.5,-1020 427.5,-1014 427.5,-1008 427.5,-1008 427.5,-949 427.5,-949 427.5,-943 433.5,-937 439.5,-937 439.5,-937 540.5,-937 540.5,-937 546.5,-937 552.5,-943 552.5,-949 552.5,-949 552.5,-1008 552.5,-1008 552.5,-1014 546.5,-1020 540.5,-1020\"/>\n<text text-anchor=\"middle\" x=\"490\" y=\"-1004.8\" font-family=\"Helvetica,sans-Serif\" font-size=\"14.00\">Glucose &lt;= 151.5</text>\n<text text-anchor=\"middle\" x=\"490\" y=\"-989.8\" font-family=\"Helvetica,sans-Serif\" font-size=\"14.00\">entropy = 0.96</text>\n<text text-anchor=\"middle\" x=\"490\" y=\"-974.8\" font-family=\"Helvetica,sans-Serif\" font-size=\"14.00\">samples = 416</text>\n<text text-anchor=\"middle\" x=\"490\" y=\"-959.8\" font-family=\"Helvetica,sans-Serif\" font-size=\"14.00\">value = [256, 160]</text>\n<text text-anchor=\"middle\" x=\"490\" y=\"-944.8\" font-family=\"Helvetica,sans-Serif\" font-size=\"14.00\">class = 0</text>\n</g>\n<!-- 1 -->\n<g id=\"node2\" class=\"node\">\n<title>1</title>\n<path fill=\"#f0b58a\" stroke=\"black\" d=\"M443.5,-901C443.5,-901 350.5,-901 350.5,-901 344.5,-901 338.5,-895 338.5,-889 338.5,-889 338.5,-830 338.5,-830 338.5,-824 344.5,-818 350.5,-818 350.5,-818 443.5,-818 443.5,-818 449.5,-818 455.5,-824 455.5,-830 455.5,-830 455.5,-889 455.5,-889 455.5,-895 449.5,-901 443.5,-901\"/>\n<text text-anchor=\"middle\" x=\"397\" y=\"-885.8\" font-family=\"Helvetica,sans-Serif\" font-size=\"14.00\">BMI &lt;= 26.9</text>\n<text text-anchor=\"middle\" x=\"397\" y=\"-870.8\" font-family=\"Helvetica,sans-Serif\" font-size=\"14.00\">entropy = 0.87</text>\n<text text-anchor=\"middle\" x=\"397\" y=\"-855.8\" font-family=\"Helvetica,sans-Serif\" font-size=\"14.00\">samples = 340</text>\n<text text-anchor=\"middle\" x=\"397\" y=\"-840.8\" font-family=\"Helvetica,sans-Serif\" font-size=\"14.00\">value = [241, 99]</text>\n<text text-anchor=\"middle\" x=\"397\" y=\"-825.8\" font-family=\"Helvetica,sans-Serif\" font-size=\"14.00\">class = 0</text>\n</g>\n<!-- 0&#45;&gt;1 -->\n<g id=\"edge1\" class=\"edge\">\n<title>0&#45;&gt;1</title>\n<path fill=\"none\" stroke=\"black\" d=\"M457.73,-936.91C450.59,-927.92 442.96,-918.32 435.59,-909.05\"/>\n<polygon fill=\"black\" stroke=\"black\" points=\"438.17,-906.67 429.21,-901.02 432.69,-911.03 438.17,-906.67\"/>\n<text text-anchor=\"middle\" x=\"426.37\" y=\"-922.16\" font-family=\"Helvetica,sans-Serif\" font-size=\"14.00\">True</text>\n</g>\n<!-- 2 -->\n<g id=\"node33\" class=\"node\">\n<title>2</title>\n<path fill=\"#6ab5eb\" stroke=\"black\" d=\"M680,-901C680,-901 486,-901 486,-901 480,-901 474,-895 474,-889 474,-889 474,-830 474,-830 474,-824 480,-818 486,-818 486,-818 680,-818 680,-818 686,-818 692,-824 692,-830 692,-830 692,-889 692,-889 692,-895 686,-901 680,-901\"/>\n<text text-anchor=\"middle\" x=\"583\" y=\"-885.8\" font-family=\"Helvetica,sans-Serif\" font-size=\"14.00\">DiabetesPedigreeFunction &lt;= 0.3</text>\n<text text-anchor=\"middle\" x=\"583\" y=\"-870.8\" font-family=\"Helvetica,sans-Serif\" font-size=\"14.00\">entropy = 0.72</text>\n<text text-anchor=\"middle\" x=\"583\" y=\"-855.8\" font-family=\"Helvetica,sans-Serif\" font-size=\"14.00\">samples = 76</text>\n<text text-anchor=\"middle\" x=\"583\" y=\"-840.8\" font-family=\"Helvetica,sans-Serif\" font-size=\"14.00\">value = [15, 61]</text>\n<text text-anchor=\"middle\" x=\"583\" y=\"-825.8\" font-family=\"Helvetica,sans-Serif\" font-size=\"14.00\">class = 1</text>\n</g>\n<!-- 0&#45;&gt;2 -->\n<g id=\"edge32\" class=\"edge\">\n<title>0&#45;&gt;2</title>\n<path fill=\"none\" stroke=\"black\" d=\"M522.27,-936.91C529.41,-927.92 537.04,-918.32 544.41,-909.05\"/>\n<polygon fill=\"black\" stroke=\"black\" points=\"547.31,-911.03 550.79,-901.02 541.83,-906.67 547.31,-911.03\"/>\n<text text-anchor=\"middle\" x=\"553.63\" y=\"-922.16\" font-family=\"Helvetica,sans-Serif\" font-size=\"14.00\">False</text>\n</g>\n<!-- 3 -->\n<g id=\"node3\" class=\"node\">\n<title>3</title>\n<path fill=\"#e78845\" stroke=\"black\" d=\"M238,-782C238,-782 128,-782 128,-782 122,-782 116,-776 116,-770 116,-770 116,-711 116,-711 116,-705 122,-699 128,-699 128,-699 238,-699 238,-699 244,-699 250,-705 250,-711 250,-711 250,-770 250,-770 250,-776 244,-782 238,-782\"/>\n<text text-anchor=\"middle\" x=\"183\" y=\"-766.8\" font-family=\"Helvetica,sans-Serif\" font-size=\"14.00\">Pregnancies &lt;= 2.5</text>\n<text text-anchor=\"middle\" x=\"183\" y=\"-751.8\" font-family=\"Helvetica,sans-Serif\" font-size=\"14.00\">entropy = 0.31</text>\n<text text-anchor=\"middle\" x=\"183\" y=\"-736.8\" font-family=\"Helvetica,sans-Serif\" font-size=\"14.00\">samples = 89</text>\n<text text-anchor=\"middle\" x=\"183\" y=\"-721.8\" font-family=\"Helvetica,sans-Serif\" font-size=\"14.00\">value = [84, 5]</text>\n<text text-anchor=\"middle\" x=\"183\" y=\"-706.8\" font-family=\"Helvetica,sans-Serif\" font-size=\"14.00\">class = 0</text>\n</g>\n<!-- 1&#45;&gt;3 -->\n<g id=\"edge2\" class=\"edge\">\n<title>1&#45;&gt;3</title>\n<path fill=\"none\" stroke=\"black\" d=\"M338.24,-826.37C313.89,-813.06 285.32,-797.44 259.38,-783.26\"/>\n<polygon fill=\"black\" stroke=\"black\" points=\"260.78,-780.03 250.32,-778.31 257.42,-786.18 260.78,-780.03\"/>\n</g>\n<!-- 4 -->\n<g id=\"node8\" class=\"node\">\n<title>4</title>\n<path fill=\"#f5ccb0\" stroke=\"black\" d=\"M457.5,-782C457.5,-782 364.5,-782 364.5,-782 358.5,-782 352.5,-776 352.5,-770 352.5,-770 352.5,-711 352.5,-711 352.5,-705 358.5,-699 364.5,-699 364.5,-699 457.5,-699 457.5,-699 463.5,-699 469.5,-705 469.5,-711 469.5,-711 469.5,-770 469.5,-770 469.5,-776 463.5,-782 457.5,-782\"/>\n<text text-anchor=\"middle\" x=\"411\" y=\"-766.8\" font-family=\"Helvetica,sans-Serif\" font-size=\"14.00\">Glucose &lt;= 99.5</text>\n<text text-anchor=\"middle\" x=\"411\" y=\"-751.8\" font-family=\"Helvetica,sans-Serif\" font-size=\"14.00\">entropy = 0.95</text>\n<text text-anchor=\"middle\" x=\"411\" y=\"-736.8\" font-family=\"Helvetica,sans-Serif\" font-size=\"14.00\">samples = 251</text>\n<text text-anchor=\"middle\" x=\"411\" y=\"-721.8\" font-family=\"Helvetica,sans-Serif\" font-size=\"14.00\">value = [157, 94]</text>\n<text text-anchor=\"middle\" x=\"411\" y=\"-706.8\" font-family=\"Helvetica,sans-Serif\" font-size=\"14.00\">class = 0</text>\n</g>\n<!-- 1&#45;&gt;4 -->\n<g id=\"edge7\" class=\"edge\">\n<title>1&#45;&gt;4</title>\n<path fill=\"none\" stroke=\"black\" d=\"M401.86,-817.91C402.86,-809.56 403.92,-800.67 404.95,-792.02\"/>\n<polygon fill=\"black\" stroke=\"black\" points=\"408.44,-792.37 406.15,-782.02 401.49,-791.53 408.44,-792.37\"/>\n</g>\n<!-- 15 -->\n<g id=\"node4\" class=\"node\">\n<title>15</title>\n<path fill=\"#e58139\" stroke=\"black\" d=\"M90,-655.5C90,-655.5 12,-655.5 12,-655.5 6,-655.5 0,-649.5 0,-643.5 0,-643.5 0,-599.5 0,-599.5 0,-593.5 6,-587.5 12,-587.5 12,-587.5 90,-587.5 90,-587.5 96,-587.5 102,-593.5 102,-599.5 102,-599.5 102,-643.5 102,-643.5 102,-649.5 96,-655.5 90,-655.5\"/>\n<text text-anchor=\"middle\" x=\"51\" y=\"-640.3\" font-family=\"Helvetica,sans-Serif\" font-size=\"14.00\">entropy = 0.0</text>\n<text text-anchor=\"middle\" x=\"51\" y=\"-625.3\" font-family=\"Helvetica,sans-Serif\" font-size=\"14.00\">samples = 48</text>\n<text text-anchor=\"middle\" x=\"51\" y=\"-610.3\" font-family=\"Helvetica,sans-Serif\" font-size=\"14.00\">value = [48, 0]</text>\n<text text-anchor=\"middle\" x=\"51\" y=\"-595.3\" font-family=\"Helvetica,sans-Serif\" font-size=\"14.00\">class = 0</text>\n</g>\n<!-- 3&#45;&gt;15 -->\n<g id=\"edge3\" class=\"edge\">\n<title>3&#45;&gt;15</title>\n<path fill=\"none\" stroke=\"black\" d=\"M137.2,-698.91C123.88,-687.1 109.35,-674.22 96.07,-662.45\"/>\n<polygon fill=\"black\" stroke=\"black\" points=\"98.22,-659.68 88.42,-655.67 93.58,-664.92 98.22,-659.68\"/>\n</g>\n<!-- 16 -->\n<g id=\"node5\" class=\"node\">\n<title>16</title>\n<path fill=\"#e99254\" stroke=\"black\" d=\"M233.5,-663C233.5,-663 132.5,-663 132.5,-663 126.5,-663 120.5,-657 120.5,-651 120.5,-651 120.5,-592 120.5,-592 120.5,-586 126.5,-580 132.5,-580 132.5,-580 233.5,-580 233.5,-580 239.5,-580 245.5,-586 245.5,-592 245.5,-592 245.5,-651 245.5,-651 245.5,-657 239.5,-663 233.5,-663\"/>\n<text text-anchor=\"middle\" x=\"183\" y=\"-647.8\" font-family=\"Helvetica,sans-Serif\" font-size=\"14.00\">Glucose &lt;= 105.5</text>\n<text text-anchor=\"middle\" x=\"183\" y=\"-632.8\" font-family=\"Helvetica,sans-Serif\" font-size=\"14.00\">entropy = 0.53</text>\n<text text-anchor=\"middle\" x=\"183\" y=\"-617.8\" font-family=\"Helvetica,sans-Serif\" font-size=\"14.00\">samples = 41</text>\n<text text-anchor=\"middle\" x=\"183\" y=\"-602.8\" font-family=\"Helvetica,sans-Serif\" font-size=\"14.00\">value = [36, 5]</text>\n<text text-anchor=\"middle\" x=\"183\" y=\"-587.8\" font-family=\"Helvetica,sans-Serif\" font-size=\"14.00\">class = 0</text>\n</g>\n<!-- 3&#45;&gt;16 -->\n<g id=\"edge4\" class=\"edge\">\n<title>3&#45;&gt;16</title>\n<path fill=\"none\" stroke=\"black\" d=\"M183,-698.91C183,-690.65 183,-681.86 183,-673.3\"/>\n<polygon fill=\"black\" stroke=\"black\" points=\"186.5,-673.02 183,-663.02 179.5,-673.02 186.5,-673.02\"/>\n</g>\n<!-- 23 -->\n<g id=\"node6\" class=\"node\">\n<title>23</title>\n<path fill=\"#e58139\" stroke=\"black\" d=\"M101,-536.5C101,-536.5 23,-536.5 23,-536.5 17,-536.5 11,-530.5 11,-524.5 11,-524.5 11,-480.5 11,-480.5 11,-474.5 17,-468.5 23,-468.5 23,-468.5 101,-468.5 101,-468.5 107,-468.5 113,-474.5 113,-480.5 113,-480.5 113,-524.5 113,-524.5 113,-530.5 107,-536.5 101,-536.5\"/>\n<text text-anchor=\"middle\" x=\"62\" y=\"-521.3\" font-family=\"Helvetica,sans-Serif\" font-size=\"14.00\">entropy = 0.0</text>\n<text text-anchor=\"middle\" x=\"62\" y=\"-506.3\" font-family=\"Helvetica,sans-Serif\" font-size=\"14.00\">samples = 16</text>\n<text text-anchor=\"middle\" x=\"62\" y=\"-491.3\" font-family=\"Helvetica,sans-Serif\" font-size=\"14.00\">value = [16, 0]</text>\n<text text-anchor=\"middle\" x=\"62\" y=\"-476.3\" font-family=\"Helvetica,sans-Serif\" font-size=\"14.00\">class = 0</text>\n</g>\n<!-- 16&#45;&gt;23 -->\n<g id=\"edge5\" class=\"edge\">\n<title>16&#45;&gt;23</title>\n<path fill=\"none\" stroke=\"black\" d=\"M141.02,-579.91C128.92,-568.21 115.73,-555.46 103.66,-543.78\"/>\n<polygon fill=\"black\" stroke=\"black\" points=\"105.92,-541.1 96.3,-536.67 101.06,-546.13 105.92,-541.1\"/>\n</g>\n<!-- 24 -->\n<g id=\"node7\" class=\"node\">\n<title>24</title>\n<path fill=\"#eca06a\" stroke=\"black\" d=\"M223,-536.5C223,-536.5 143,-536.5 143,-536.5 137,-536.5 131,-530.5 131,-524.5 131,-524.5 131,-480.5 131,-480.5 131,-474.5 137,-468.5 143,-468.5 143,-468.5 223,-468.5 223,-468.5 229,-468.5 235,-474.5 235,-480.5 235,-480.5 235,-524.5 235,-524.5 235,-530.5 229,-536.5 223,-536.5\"/>\n<text text-anchor=\"middle\" x=\"183\" y=\"-521.3\" font-family=\"Helvetica,sans-Serif\" font-size=\"14.00\">entropy = 0.72</text>\n<text text-anchor=\"middle\" x=\"183\" y=\"-506.3\" font-family=\"Helvetica,sans-Serif\" font-size=\"14.00\">samples = 25</text>\n<text text-anchor=\"middle\" x=\"183\" y=\"-491.3\" font-family=\"Helvetica,sans-Serif\" font-size=\"14.00\">value = [20, 5]</text>\n<text text-anchor=\"middle\" x=\"183\" y=\"-476.3\" font-family=\"Helvetica,sans-Serif\" font-size=\"14.00\">class = 0</text>\n</g>\n<!-- 16&#45;&gt;24 -->\n<g id=\"edge6\" class=\"edge\">\n<title>16&#45;&gt;24</title>\n<path fill=\"none\" stroke=\"black\" d=\"M183,-579.91C183,-569.2 183,-557.62 183,-546.78\"/>\n<polygon fill=\"black\" stroke=\"black\" points=\"186.5,-546.67 183,-536.67 179.5,-546.67 186.5,-546.67\"/>\n</g>\n<!-- 5 -->\n<g id=\"node9\" class=\"node\">\n<title>5</title>\n<path fill=\"#e99457\" stroke=\"black\" d=\"M451,-663C451,-663 371,-663 371,-663 365,-663 359,-657 359,-651 359,-651 359,-592 359,-592 359,-586 365,-580 371,-580 371,-580 451,-580 451,-580 457,-580 463,-586 463,-592 463,-592 463,-651 463,-651 463,-657 457,-663 451,-663\"/>\n<text text-anchor=\"middle\" x=\"411\" y=\"-647.8\" font-family=\"Helvetica,sans-Serif\" font-size=\"14.00\">Age &lt;= 23.5</text>\n<text text-anchor=\"middle\" x=\"411\" y=\"-632.8\" font-family=\"Helvetica,sans-Serif\" font-size=\"14.00\">entropy = 0.56</text>\n<text text-anchor=\"middle\" x=\"411\" y=\"-617.8\" font-family=\"Helvetica,sans-Serif\" font-size=\"14.00\">samples = 61</text>\n<text text-anchor=\"middle\" x=\"411\" y=\"-602.8\" font-family=\"Helvetica,sans-Serif\" font-size=\"14.00\">value = [53, 8]</text>\n<text text-anchor=\"middle\" x=\"411\" y=\"-587.8\" font-family=\"Helvetica,sans-Serif\" font-size=\"14.00\">class = 0</text>\n</g>\n<!-- 4&#45;&gt;5 -->\n<g id=\"edge8\" class=\"edge\">\n<title>4&#45;&gt;5</title>\n<path fill=\"none\" stroke=\"black\" d=\"M411,-698.91C411,-690.65 411,-681.86 411,-673.3\"/>\n<polygon fill=\"black\" stroke=\"black\" points=\"414.5,-673.02 411,-663.02 407.5,-673.02 414.5,-673.02\"/>\n</g>\n<!-- 6 -->\n<g id=\"node14\" class=\"node\">\n<title>6</title>\n<path fill=\"#fae9dd\" stroke=\"black\" d=\"M604.5,-663C604.5,-663 511.5,-663 511.5,-663 505.5,-663 499.5,-657 499.5,-651 499.5,-651 499.5,-592 499.5,-592 499.5,-586 505.5,-580 511.5,-580 511.5,-580 604.5,-580 604.5,-580 610.5,-580 616.5,-586 616.5,-592 616.5,-592 616.5,-651 616.5,-651 616.5,-657 610.5,-663 604.5,-663\"/>\n<text text-anchor=\"middle\" x=\"558\" y=\"-647.8\" font-family=\"Helvetica,sans-Serif\" font-size=\"14.00\">BMI &lt;= 43.0</text>\n<text text-anchor=\"middle\" x=\"558\" y=\"-632.8\" font-family=\"Helvetica,sans-Serif\" font-size=\"14.00\">entropy = 0.99</text>\n<text text-anchor=\"middle\" x=\"558\" y=\"-617.8\" font-family=\"Helvetica,sans-Serif\" font-size=\"14.00\">samples = 190</text>\n<text text-anchor=\"middle\" x=\"558\" y=\"-602.8\" font-family=\"Helvetica,sans-Serif\" font-size=\"14.00\">value = [104, 86]</text>\n<text text-anchor=\"middle\" x=\"558\" y=\"-587.8\" font-family=\"Helvetica,sans-Serif\" font-size=\"14.00\">class = 0</text>\n</g>\n<!-- 4&#45;&gt;6 -->\n<g id=\"edge13\" class=\"edge\">\n<title>4&#45;&gt;6</title>\n<path fill=\"none\" stroke=\"black\" d=\"M462,-698.91C473.97,-689.38 486.83,-679.15 499.11,-669.37\"/>\n<polygon fill=\"black\" stroke=\"black\" points=\"501.44,-671.99 507.09,-663.02 497.09,-666.51 501.44,-671.99\"/>\n</g>\n<!-- 13 -->\n<g id=\"node10\" class=\"node\">\n<title>13</title>\n<path fill=\"#e58139\" stroke=\"black\" d=\"M343,-536.5C343,-536.5 265,-536.5 265,-536.5 259,-536.5 253,-530.5 253,-524.5 253,-524.5 253,-480.5 253,-480.5 253,-474.5 259,-468.5 265,-468.5 265,-468.5 343,-468.5 343,-468.5 349,-468.5 355,-474.5 355,-480.5 355,-480.5 355,-524.5 355,-524.5 355,-530.5 349,-536.5 343,-536.5\"/>\n<text text-anchor=\"middle\" x=\"304\" y=\"-521.3\" font-family=\"Helvetica,sans-Serif\" font-size=\"14.00\">entropy = 0.0</text>\n<text text-anchor=\"middle\" x=\"304\" y=\"-506.3\" font-family=\"Helvetica,sans-Serif\" font-size=\"14.00\">samples = 23</text>\n<text text-anchor=\"middle\" x=\"304\" y=\"-491.3\" font-family=\"Helvetica,sans-Serif\" font-size=\"14.00\">value = [23, 0]</text>\n<text text-anchor=\"middle\" x=\"304\" y=\"-476.3\" font-family=\"Helvetica,sans-Serif\" font-size=\"14.00\">class = 0</text>\n</g>\n<!-- 5&#45;&gt;13 -->\n<g id=\"edge9\" class=\"edge\">\n<title>5&#45;&gt;13</title>\n<path fill=\"none\" stroke=\"black\" d=\"M373.88,-579.91C363.28,-568.32 351.74,-555.7 341.14,-544.11\"/>\n<polygon fill=\"black\" stroke=\"black\" points=\"343.66,-541.68 334.33,-536.67 338.5,-546.41 343.66,-541.68\"/>\n</g>\n<!-- 14 -->\n<g id=\"node11\" class=\"node\">\n<title>14</title>\n<path fill=\"#eca36e\" stroke=\"black\" d=\"M465,-544C465,-544 385,-544 385,-544 379,-544 373,-538 373,-532 373,-532 373,-473 373,-473 373,-467 379,-461 385,-461 385,-461 465,-461 465,-461 471,-461 477,-467 477,-473 477,-473 477,-532 477,-532 477,-538 471,-544 465,-544\"/>\n<text text-anchor=\"middle\" x=\"425\" y=\"-528.8\" font-family=\"Helvetica,sans-Serif\" font-size=\"14.00\">Age &lt;= 32.5</text>\n<text text-anchor=\"middle\" x=\"425\" y=\"-513.8\" font-family=\"Helvetica,sans-Serif\" font-size=\"14.00\">entropy = 0.74</text>\n<text text-anchor=\"middle\" x=\"425\" y=\"-498.8\" font-family=\"Helvetica,sans-Serif\" font-size=\"14.00\">samples = 38</text>\n<text text-anchor=\"middle\" x=\"425\" y=\"-483.8\" font-family=\"Helvetica,sans-Serif\" font-size=\"14.00\">value = [30, 8]</text>\n<text text-anchor=\"middle\" x=\"425\" y=\"-468.8\" font-family=\"Helvetica,sans-Serif\" font-size=\"14.00\">class = 0</text>\n</g>\n<!-- 5&#45;&gt;14 -->\n<g id=\"edge10\" class=\"edge\">\n<title>5&#45;&gt;14</title>\n<path fill=\"none\" stroke=\"black\" d=\"M415.86,-579.91C416.86,-571.56 417.92,-562.67 418.95,-554.02\"/>\n<polygon fill=\"black\" stroke=\"black\" points=\"422.44,-554.37 420.15,-544.02 415.49,-553.53 422.44,-554.37\"/>\n</g>\n<!-- 33 -->\n<g id=\"node12\" class=\"node\">\n<title>33</title>\n<path fill=\"#efb388\" stroke=\"black\" d=\"M343,-417.5C343,-417.5 263,-417.5 263,-417.5 257,-417.5 251,-411.5 251,-405.5 251,-405.5 251,-361.5 251,-361.5 251,-355.5 257,-349.5 263,-349.5 263,-349.5 343,-349.5 343,-349.5 349,-349.5 355,-355.5 355,-361.5 355,-361.5 355,-405.5 355,-405.5 355,-411.5 349,-417.5 343,-417.5\"/>\n<text text-anchor=\"middle\" x=\"303\" y=\"-402.3\" font-family=\"Helvetica,sans-Serif\" font-size=\"14.00\">entropy = 0.86</text>\n<text text-anchor=\"middle\" x=\"303\" y=\"-387.3\" font-family=\"Helvetica,sans-Serif\" font-size=\"14.00\">samples = 21</text>\n<text text-anchor=\"middle\" x=\"303\" y=\"-372.3\" font-family=\"Helvetica,sans-Serif\" font-size=\"14.00\">value = [15, 6]</text>\n<text text-anchor=\"middle\" x=\"303\" y=\"-357.3\" font-family=\"Helvetica,sans-Serif\" font-size=\"14.00\">class = 0</text>\n</g>\n<!-- 14&#45;&gt;33 -->\n<g id=\"edge11\" class=\"edge\">\n<title>14&#45;&gt;33</title>\n<path fill=\"none\" stroke=\"black\" d=\"M382.67,-460.91C370.48,-449.21 357.18,-436.46 345,-424.78\"/>\n<polygon fill=\"black\" stroke=\"black\" points=\"347.22,-422.06 337.58,-417.67 342.38,-427.11 347.22,-422.06\"/>\n</g>\n<!-- 34 -->\n<g id=\"node13\" class=\"node\">\n<title>34</title>\n<path fill=\"#e89253\" stroke=\"black\" d=\"M465,-417.5C465,-417.5 385,-417.5 385,-417.5 379,-417.5 373,-411.5 373,-405.5 373,-405.5 373,-361.5 373,-361.5 373,-355.5 379,-349.5 385,-349.5 385,-349.5 465,-349.5 465,-349.5 471,-349.5 477,-355.5 477,-361.5 477,-361.5 477,-405.5 477,-405.5 477,-411.5 471,-417.5 465,-417.5\"/>\n<text text-anchor=\"middle\" x=\"425\" y=\"-402.3\" font-family=\"Helvetica,sans-Serif\" font-size=\"14.00\">entropy = 0.52</text>\n<text text-anchor=\"middle\" x=\"425\" y=\"-387.3\" font-family=\"Helvetica,sans-Serif\" font-size=\"14.00\">samples = 17</text>\n<text text-anchor=\"middle\" x=\"425\" y=\"-372.3\" font-family=\"Helvetica,sans-Serif\" font-size=\"14.00\">value = [15, 2]</text>\n<text text-anchor=\"middle\" x=\"425\" y=\"-357.3\" font-family=\"Helvetica,sans-Serif\" font-size=\"14.00\">class = 0</text>\n</g>\n<!-- 14&#45;&gt;34 -->\n<g id=\"edge12\" class=\"edge\">\n<title>14&#45;&gt;34</title>\n<path fill=\"none\" stroke=\"black\" d=\"M425,-460.91C425,-450.2 425,-438.62 425,-427.78\"/>\n<polygon fill=\"black\" stroke=\"black\" points=\"428.5,-427.67 425,-417.67 421.5,-427.67 428.5,-427.67\"/>\n</g>\n<!-- 11 -->\n<g id=\"node15\" class=\"node\">\n<title>11</title>\n<path fill=\"#f7dac5\" stroke=\"black\" d=\"M601,-544C601,-544 515,-544 515,-544 509,-544 503,-538 503,-532 503,-532 503,-473 503,-473 503,-467 509,-461 515,-461 515,-461 601,-461 601,-461 607,-461 613,-467 613,-473 613,-473 613,-532 613,-532 613,-538 607,-544 601,-544\"/>\n<text text-anchor=\"middle\" x=\"558\" y=\"-528.8\" font-family=\"Helvetica,sans-Serif\" font-size=\"14.00\">Age &lt;= 30.5</text>\n<text text-anchor=\"middle\" x=\"558\" y=\"-513.8\" font-family=\"Helvetica,sans-Serif\" font-size=\"14.00\">entropy = 0.98</text>\n<text text-anchor=\"middle\" x=\"558\" y=\"-498.8\" font-family=\"Helvetica,sans-Serif\" font-size=\"14.00\">samples = 169</text>\n<text text-anchor=\"middle\" x=\"558\" y=\"-483.8\" font-family=\"Helvetica,sans-Serif\" font-size=\"14.00\">value = [99, 70]</text>\n<text text-anchor=\"middle\" x=\"558\" y=\"-468.8\" font-family=\"Helvetica,sans-Serif\" font-size=\"14.00\">class = 0</text>\n</g>\n<!-- 6&#45;&gt;11 -->\n<g id=\"edge14\" class=\"edge\">\n<title>6&#45;&gt;11</title>\n<path fill=\"none\" stroke=\"black\" d=\"M558,-579.91C558,-571.65 558,-562.86 558,-554.3\"/>\n<polygon fill=\"black\" stroke=\"black\" points=\"561.5,-554.02 558,-544.02 554.5,-554.02 561.5,-554.02\"/>\n</g>\n<!-- 12 -->\n<g id=\"node32\" class=\"node\">\n<title>12</title>\n<path fill=\"#77bced\" stroke=\"black\" d=\"M723,-536.5C723,-536.5 643,-536.5 643,-536.5 637,-536.5 631,-530.5 631,-524.5 631,-524.5 631,-480.5 631,-480.5 631,-474.5 637,-468.5 643,-468.5 643,-468.5 723,-468.5 723,-468.5 729,-468.5 735,-474.5 735,-480.5 735,-480.5 735,-524.5 735,-524.5 735,-530.5 729,-536.5 723,-536.5\"/>\n<text text-anchor=\"middle\" x=\"683\" y=\"-521.3\" font-family=\"Helvetica,sans-Serif\" font-size=\"14.00\">entropy = 0.79</text>\n<text text-anchor=\"middle\" x=\"683\" y=\"-506.3\" font-family=\"Helvetica,sans-Serif\" font-size=\"14.00\">samples = 21</text>\n<text text-anchor=\"middle\" x=\"683\" y=\"-491.3\" font-family=\"Helvetica,sans-Serif\" font-size=\"14.00\">value = [5, 16]</text>\n<text text-anchor=\"middle\" x=\"683\" y=\"-476.3\" font-family=\"Helvetica,sans-Serif\" font-size=\"14.00\">class = 1</text>\n</g>\n<!-- 6&#45;&gt;12 -->\n<g id=\"edge31\" class=\"edge\">\n<title>6&#45;&gt;12</title>\n<path fill=\"none\" stroke=\"black\" d=\"M601.37,-579.91C613.86,-568.21 627.49,-555.46 639.97,-543.78\"/>\n<polygon fill=\"black\" stroke=\"black\" points=\"642.66,-546.06 647.57,-536.67 637.87,-540.95 642.66,-546.06\"/>\n</g>\n<!-- 17 -->\n<g id=\"node16\" class=\"node\">\n<title>17</title>\n<path fill=\"#f1b992\" stroke=\"black\" d=\"M608.5,-425C608.5,-425 507.5,-425 507.5,-425 501.5,-425 495.5,-419 495.5,-413 495.5,-413 495.5,-354 495.5,-354 495.5,-348 501.5,-342 507.5,-342 507.5,-342 608.5,-342 608.5,-342 614.5,-342 620.5,-348 620.5,-354 620.5,-354 620.5,-413 620.5,-413 620.5,-419 614.5,-425 608.5,-425\"/>\n<text text-anchor=\"middle\" x=\"558\" y=\"-409.8\" font-family=\"Helvetica,sans-Serif\" font-size=\"14.00\">Glucose &lt;= 123.5</text>\n<text text-anchor=\"middle\" x=\"558\" y=\"-394.8\" font-family=\"Helvetica,sans-Serif\" font-size=\"14.00\">entropy = 0.89</text>\n<text text-anchor=\"middle\" x=\"558\" y=\"-379.8\" font-family=\"Helvetica,sans-Serif\" font-size=\"14.00\">samples = 84</text>\n<text text-anchor=\"middle\" x=\"558\" y=\"-364.8\" font-family=\"Helvetica,sans-Serif\" font-size=\"14.00\">value = [58, 26]</text>\n<text text-anchor=\"middle\" x=\"558\" y=\"-349.8\" font-family=\"Helvetica,sans-Serif\" font-size=\"14.00\">class = 0</text>\n</g>\n<!-- 11&#45;&gt;17 -->\n<g id=\"edge15\" class=\"edge\">\n<title>11&#45;&gt;17</title>\n<path fill=\"none\" stroke=\"black\" d=\"M558,-460.91C558,-452.65 558,-443.86 558,-435.3\"/>\n<polygon fill=\"black\" stroke=\"black\" points=\"561.5,-435.02 558,-425.02 554.5,-435.02 561.5,-435.02\"/>\n</g>\n<!-- 18 -->\n<g id=\"node23\" class=\"node\">\n<title>18</title>\n<path fill=\"#f2f8fd\" stroke=\"black\" d=\"M858,-425C858,-425 656,-425 656,-425 650,-425 644,-419 644,-413 644,-413 644,-354 644,-354 644,-348 650,-342 656,-342 656,-342 858,-342 858,-342 864,-342 870,-348 870,-354 870,-354 870,-413 870,-413 870,-419 864,-425 858,-425\"/>\n<text text-anchor=\"middle\" x=\"757\" y=\"-409.8\" font-family=\"Helvetica,sans-Serif\" font-size=\"14.00\">DiabetesPedigreeFunction &lt;= 0.53</text>\n<text text-anchor=\"middle\" x=\"757\" y=\"-394.8\" font-family=\"Helvetica,sans-Serif\" font-size=\"14.00\">entropy = 1.0</text>\n<text text-anchor=\"middle\" x=\"757\" y=\"-379.8\" font-family=\"Helvetica,sans-Serif\" font-size=\"14.00\">samples = 85</text>\n<text text-anchor=\"middle\" x=\"757\" y=\"-364.8\" font-family=\"Helvetica,sans-Serif\" font-size=\"14.00\">value = [41, 44]</text>\n<text text-anchor=\"middle\" x=\"757\" y=\"-349.8\" font-family=\"Helvetica,sans-Serif\" font-size=\"14.00\">class = 1</text>\n</g>\n<!-- 11&#45;&gt;18 -->\n<g id=\"edge22\" class=\"edge\">\n<title>11&#45;&gt;18</title>\n<path fill=\"none\" stroke=\"black\" d=\"M613.05,-466.42C616.07,-464.58 619.07,-462.76 622,-461 638.92,-450.86 657.21,-440.26 674.7,-430.29\"/>\n<polygon fill=\"black\" stroke=\"black\" points=\"676.79,-433.13 683.76,-425.15 673.34,-427.04 676.79,-433.13\"/>\n</g>\n<!-- 19 -->\n<g id=\"node17\" class=\"node\">\n<title>19</title>\n<path fill=\"#eba069\" stroke=\"black\" d=\"M412,-306C412,-306 282,-306 282,-306 276,-306 270,-300 270,-294 270,-294 270,-235 270,-235 270,-229 276,-223 282,-223 282,-223 412,-223 412,-223 418,-223 424,-229 424,-235 424,-235 424,-294 424,-294 424,-300 418,-306 412,-306\"/>\n<text text-anchor=\"middle\" x=\"347\" y=\"-290.8\" font-family=\"Helvetica,sans-Serif\" font-size=\"14.00\">SkinThickness &lt;= 29.5</text>\n<text text-anchor=\"middle\" x=\"347\" y=\"-275.8\" font-family=\"Helvetica,sans-Serif\" font-size=\"14.00\">entropy = 0.71</text>\n<text text-anchor=\"middle\" x=\"347\" y=\"-260.8\" font-family=\"Helvetica,sans-Serif\" font-size=\"14.00\">samples = 46</text>\n<text text-anchor=\"middle\" x=\"347\" y=\"-245.8\" font-family=\"Helvetica,sans-Serif\" font-size=\"14.00\">value = [37, 9]</text>\n<text text-anchor=\"middle\" x=\"347\" y=\"-230.8\" font-family=\"Helvetica,sans-Serif\" font-size=\"14.00\">class = 0</text>\n</g>\n<!-- 17&#45;&gt;19 -->\n<g id=\"edge16\" class=\"edge\">\n<title>17&#45;&gt;19</title>\n<path fill=\"none\" stroke=\"black\" d=\"M495.19,-347.12C492.08,-345.39 489.01,-343.67 486,-342 467.9,-331.93 448.44,-321.17 429.98,-311.01\"/>\n<polygon fill=\"black\" stroke=\"black\" points=\"431.46,-307.82 421.01,-306.07 428.08,-313.96 431.46,-307.82\"/>\n</g>\n<!-- 20 -->\n<g id=\"node20\" class=\"node\">\n<title>20</title>\n<path fill=\"#fae7d9\" stroke=\"black\" d=\"M623.5,-306C623.5,-306 492.5,-306 492.5,-306 486.5,-306 480.5,-300 480.5,-294 480.5,-294 480.5,-235 480.5,-235 480.5,-229 486.5,-223 492.5,-223 492.5,-223 623.5,-223 623.5,-223 629.5,-223 635.5,-229 635.5,-235 635.5,-235 635.5,-294 635.5,-294 635.5,-300 629.5,-306 623.5,-306\"/>\n<text text-anchor=\"middle\" x=\"558\" y=\"-290.8\" font-family=\"Helvetica,sans-Serif\" font-size=\"14.00\">BloodPressure &lt;= 71.0</text>\n<text text-anchor=\"middle\" x=\"558\" y=\"-275.8\" font-family=\"Helvetica,sans-Serif\" font-size=\"14.00\">entropy = 0.99</text>\n<text text-anchor=\"middle\" x=\"558\" y=\"-260.8\" font-family=\"Helvetica,sans-Serif\" font-size=\"14.00\">samples = 38</text>\n<text text-anchor=\"middle\" x=\"558\" y=\"-245.8\" font-family=\"Helvetica,sans-Serif\" font-size=\"14.00\">value = [21, 17]</text>\n<text text-anchor=\"middle\" x=\"558\" y=\"-230.8\" font-family=\"Helvetica,sans-Serif\" font-size=\"14.00\">class = 0</text>\n</g>\n<!-- 17&#45;&gt;20 -->\n<g id=\"edge19\" class=\"edge\">\n<title>17&#45;&gt;20</title>\n<path fill=\"none\" stroke=\"black\" d=\"M558,-341.91C558,-333.65 558,-324.86 558,-316.3\"/>\n<polygon fill=\"black\" stroke=\"black\" points=\"561.5,-316.02 558,-306.02 554.5,-316.02 561.5,-316.02\"/>\n</g>\n<!-- 25 -->\n<g id=\"node18\" class=\"node\">\n<title>25</title>\n<path fill=\"#e88e4d\" stroke=\"black\" d=\"M265,-179.5C265,-179.5 185,-179.5 185,-179.5 179,-179.5 173,-173.5 173,-167.5 173,-167.5 173,-123.5 173,-123.5 173,-117.5 179,-111.5 185,-111.5 185,-111.5 265,-111.5 265,-111.5 271,-111.5 277,-117.5 277,-123.5 277,-123.5 277,-167.5 277,-167.5 277,-173.5 271,-179.5 265,-179.5\"/>\n<text text-anchor=\"middle\" x=\"225\" y=\"-164.3\" font-family=\"Helvetica,sans-Serif\" font-size=\"14.00\">entropy = 0.44</text>\n<text text-anchor=\"middle\" x=\"225\" y=\"-149.3\" font-family=\"Helvetica,sans-Serif\" font-size=\"14.00\">samples = 22</text>\n<text text-anchor=\"middle\" x=\"225\" y=\"-134.3\" font-family=\"Helvetica,sans-Serif\" font-size=\"14.00\">value = [20, 2]</text>\n<text text-anchor=\"middle\" x=\"225\" y=\"-119.3\" font-family=\"Helvetica,sans-Serif\" font-size=\"14.00\">class = 0</text>\n</g>\n<!-- 19&#45;&gt;25 -->\n<g id=\"edge17\" class=\"edge\">\n<title>19&#45;&gt;25</title>\n<path fill=\"none\" stroke=\"black\" d=\"M304.67,-222.91C292.48,-211.21 279.18,-198.46 267,-186.78\"/>\n<polygon fill=\"black\" stroke=\"black\" points=\"269.22,-184.06 259.58,-179.67 264.38,-189.11 269.22,-184.06\"/>\n</g>\n<!-- 26 -->\n<g id=\"node19\" class=\"node\">\n<title>26</title>\n<path fill=\"#f0b58b\" stroke=\"black\" d=\"M387,-179.5C387,-179.5 307,-179.5 307,-179.5 301,-179.5 295,-173.5 295,-167.5 295,-167.5 295,-123.5 295,-123.5 295,-117.5 301,-111.5 307,-111.5 307,-111.5 387,-111.5 387,-111.5 393,-111.5 399,-117.5 399,-123.5 399,-123.5 399,-167.5 399,-167.5 399,-173.5 393,-179.5 387,-179.5\"/>\n<text text-anchor=\"middle\" x=\"347\" y=\"-164.3\" font-family=\"Helvetica,sans-Serif\" font-size=\"14.00\">entropy = 0.87</text>\n<text text-anchor=\"middle\" x=\"347\" y=\"-149.3\" font-family=\"Helvetica,sans-Serif\" font-size=\"14.00\">samples = 24</text>\n<text text-anchor=\"middle\" x=\"347\" y=\"-134.3\" font-family=\"Helvetica,sans-Serif\" font-size=\"14.00\">value = [17, 7]</text>\n<text text-anchor=\"middle\" x=\"347\" y=\"-119.3\" font-family=\"Helvetica,sans-Serif\" font-size=\"14.00\">class = 0</text>\n</g>\n<!-- 19&#45;&gt;26 -->\n<g id=\"edge18\" class=\"edge\">\n<title>19&#45;&gt;26</title>\n<path fill=\"none\" stroke=\"black\" d=\"M347,-222.91C347,-212.2 347,-200.62 347,-189.78\"/>\n<polygon fill=\"black\" stroke=\"black\" points=\"350.5,-189.67 347,-179.67 343.5,-189.67 350.5,-189.67\"/>\n</g>\n<!-- 21 -->\n<g id=\"node21\" class=\"node\">\n<title>21</title>\n<path fill=\"#a3d1f3\" stroke=\"black\" d=\"M509,-179.5C509,-179.5 429,-179.5 429,-179.5 423,-179.5 417,-173.5 417,-167.5 417,-167.5 417,-123.5 417,-123.5 417,-117.5 423,-111.5 429,-111.5 429,-111.5 509,-111.5 509,-111.5 515,-111.5 521,-117.5 521,-123.5 521,-123.5 521,-167.5 521,-167.5 521,-173.5 515,-179.5 509,-179.5\"/>\n<text text-anchor=\"middle\" x=\"469\" y=\"-164.3\" font-family=\"Helvetica,sans-Serif\" font-size=\"14.00\">entropy = 0.93</text>\n<text text-anchor=\"middle\" x=\"469\" y=\"-149.3\" font-family=\"Helvetica,sans-Serif\" font-size=\"14.00\">samples = 23</text>\n<text text-anchor=\"middle\" x=\"469\" y=\"-134.3\" font-family=\"Helvetica,sans-Serif\" font-size=\"14.00\">value = [8, 15]</text>\n<text text-anchor=\"middle\" x=\"469\" y=\"-119.3\" font-family=\"Helvetica,sans-Serif\" font-size=\"14.00\">class = 1</text>\n</g>\n<!-- 20&#45;&gt;21 -->\n<g id=\"edge20\" class=\"edge\">\n<title>20&#45;&gt;21</title>\n<path fill=\"none\" stroke=\"black\" d=\"M527.12,-222.91C518.48,-211.54 509.07,-199.18 500.4,-187.77\"/>\n<polygon fill=\"black\" stroke=\"black\" points=\"503.07,-185.51 494.23,-179.67 497.5,-189.74 503.07,-185.51\"/>\n</g>\n<!-- 22 -->\n<g id=\"node22\" class=\"node\">\n<title>22</title>\n<path fill=\"#e99457\" stroke=\"black\" d=\"M631,-179.5C631,-179.5 551,-179.5 551,-179.5 545,-179.5 539,-173.5 539,-167.5 539,-167.5 539,-123.5 539,-123.5 539,-117.5 545,-111.5 551,-111.5 551,-111.5 631,-111.5 631,-111.5 637,-111.5 643,-117.5 643,-123.5 643,-123.5 643,-167.5 643,-167.5 643,-173.5 637,-179.5 631,-179.5\"/>\n<text text-anchor=\"middle\" x=\"591\" y=\"-164.3\" font-family=\"Helvetica,sans-Serif\" font-size=\"14.00\">entropy = 0.57</text>\n<text text-anchor=\"middle\" x=\"591\" y=\"-149.3\" font-family=\"Helvetica,sans-Serif\" font-size=\"14.00\">samples = 15</text>\n<text text-anchor=\"middle\" x=\"591\" y=\"-134.3\" font-family=\"Helvetica,sans-Serif\" font-size=\"14.00\">value = [13, 2]</text>\n<text text-anchor=\"middle\" x=\"591\" y=\"-119.3\" font-family=\"Helvetica,sans-Serif\" font-size=\"14.00\">class = 0</text>\n</g>\n<!-- 20&#45;&gt;22 -->\n<g id=\"edge21\" class=\"edge\">\n<title>20&#45;&gt;22</title>\n<path fill=\"none\" stroke=\"black\" d=\"M569.45,-222.91C572.5,-212.09 575.8,-200.38 578.89,-189.44\"/>\n<polygon fill=\"black\" stroke=\"black\" points=\"582.3,-190.24 581.65,-179.67 575.56,-188.34 582.3,-190.24\"/>\n</g>\n<!-- 27 -->\n<g id=\"node24\" class=\"node\">\n<title>27</title>\n<path fill=\"#fbeade\" stroke=\"black\" d=\"M822,-306C822,-306 692,-306 692,-306 686,-306 680,-300 680,-294 680,-294 680,-235 680,-235 680,-229 686,-223 692,-223 692,-223 822,-223 822,-223 828,-223 834,-229 834,-235 834,-235 834,-294 834,-294 834,-300 828,-306 822,-306\"/>\n<text text-anchor=\"middle\" x=\"757\" y=\"-290.8\" font-family=\"Helvetica,sans-Serif\" font-size=\"14.00\">SkinThickness &lt;= 26.5</text>\n<text text-anchor=\"middle\" x=\"757\" y=\"-275.8\" font-family=\"Helvetica,sans-Serif\" font-size=\"14.00\">entropy = 0.99</text>\n<text text-anchor=\"middle\" x=\"757\" y=\"-260.8\" font-family=\"Helvetica,sans-Serif\" font-size=\"14.00\">samples = 55</text>\n<text text-anchor=\"middle\" x=\"757\" y=\"-245.8\" font-family=\"Helvetica,sans-Serif\" font-size=\"14.00\">value = [30, 25]</text>\n<text text-anchor=\"middle\" x=\"757\" y=\"-230.8\" font-family=\"Helvetica,sans-Serif\" font-size=\"14.00\">class = 0</text>\n</g>\n<!-- 18&#45;&gt;27 -->\n<g id=\"edge23\" class=\"edge\">\n<title>18&#45;&gt;27</title>\n<path fill=\"none\" stroke=\"black\" d=\"M757,-341.91C757,-333.65 757,-324.86 757,-316.3\"/>\n<polygon fill=\"black\" stroke=\"black\" points=\"760.5,-316.02 757,-306.02 753.5,-316.02 760.5,-316.02\"/>\n</g>\n<!-- 28 -->\n<g id=\"node29\" class=\"node\">\n<title>28</title>\n<path fill=\"#acd6f4\" stroke=\"black\" d=\"M1041,-306C1041,-306 911,-306 911,-306 905,-306 899,-300 899,-294 899,-294 899,-235 899,-235 899,-229 905,-223 911,-223 911,-223 1041,-223 1041,-223 1047,-223 1053,-229 1053,-235 1053,-235 1053,-294 1053,-294 1053,-300 1047,-306 1041,-306\"/>\n<text text-anchor=\"middle\" x=\"976\" y=\"-290.8\" font-family=\"Helvetica,sans-Serif\" font-size=\"14.00\">SkinThickness &lt;= 27.5</text>\n<text text-anchor=\"middle\" x=\"976\" y=\"-275.8\" font-family=\"Helvetica,sans-Serif\" font-size=\"14.00\">entropy = 0.95</text>\n<text text-anchor=\"middle\" x=\"976\" y=\"-260.8\" font-family=\"Helvetica,sans-Serif\" font-size=\"14.00\">samples = 30</text>\n<text text-anchor=\"middle\" x=\"976\" y=\"-245.8\" font-family=\"Helvetica,sans-Serif\" font-size=\"14.00\">value = [11, 19]</text>\n<text text-anchor=\"middle\" x=\"976\" y=\"-230.8\" font-family=\"Helvetica,sans-Serif\" font-size=\"14.00\">class = 1</text>\n</g>\n<!-- 18&#45;&gt;28 -->\n<g id=\"edge28\" class=\"edge\">\n<title>18&#45;&gt;28</title>\n<path fill=\"none\" stroke=\"black\" d=\"M832.98,-341.91C851.75,-331.88 871.98,-321.07 891.14,-310.84\"/>\n<polygon fill=\"black\" stroke=\"black\" points=\"892.98,-313.82 900.15,-306.02 889.68,-307.65 892.98,-313.82\"/>\n</g>\n<!-- 29 -->\n<g id=\"node25\" class=\"node\">\n<title>29</title>\n<path fill=\"#c0e0f7\" stroke=\"black\" d=\"M774.5,-187C774.5,-187 673.5,-187 673.5,-187 667.5,-187 661.5,-181 661.5,-175 661.5,-175 661.5,-116 661.5,-116 661.5,-110 667.5,-104 673.5,-104 673.5,-104 774.5,-104 774.5,-104 780.5,-104 786.5,-110 786.5,-116 786.5,-116 786.5,-175 786.5,-175 786.5,-181 780.5,-187 774.5,-187\"/>\n<text text-anchor=\"middle\" x=\"724\" y=\"-171.8\" font-family=\"Helvetica,sans-Serif\" font-size=\"14.00\">Glucose &lt;= 122.5</text>\n<text text-anchor=\"middle\" x=\"724\" y=\"-156.8\" font-family=\"Helvetica,sans-Serif\" font-size=\"14.00\">entropy = 0.97</text>\n<text text-anchor=\"middle\" x=\"724\" y=\"-141.8\" font-family=\"Helvetica,sans-Serif\" font-size=\"14.00\">samples = 32</text>\n<text text-anchor=\"middle\" x=\"724\" y=\"-126.8\" font-family=\"Helvetica,sans-Serif\" font-size=\"14.00\">value = [13, 19]</text>\n<text text-anchor=\"middle\" x=\"724\" y=\"-111.8\" font-family=\"Helvetica,sans-Serif\" font-size=\"14.00\">class = 1</text>\n</g>\n<!-- 27&#45;&gt;29 -->\n<g id=\"edge24\" class=\"edge\">\n<title>27&#45;&gt;29</title>\n<path fill=\"none\" stroke=\"black\" d=\"M745.55,-222.91C743.17,-214.47 740.63,-205.48 738.17,-196.74\"/>\n<polygon fill=\"black\" stroke=\"black\" points=\"741.51,-195.7 735.43,-187.02 734.78,-197.6 741.51,-195.7\"/>\n</g>\n<!-- 30 -->\n<g id=\"node28\" class=\"node\">\n<title>30</title>\n<path fill=\"#eead7f\" stroke=\"black\" d=\"M897,-179.5C897,-179.5 817,-179.5 817,-179.5 811,-179.5 805,-173.5 805,-167.5 805,-167.5 805,-123.5 805,-123.5 805,-117.5 811,-111.5 817,-111.5 817,-111.5 897,-111.5 897,-111.5 903,-111.5 909,-117.5 909,-123.5 909,-123.5 909,-167.5 909,-167.5 909,-173.5 903,-179.5 897,-179.5\"/>\n<text text-anchor=\"middle\" x=\"857\" y=\"-164.3\" font-family=\"Helvetica,sans-Serif\" font-size=\"14.00\">entropy = 0.83</text>\n<text text-anchor=\"middle\" x=\"857\" y=\"-149.3\" font-family=\"Helvetica,sans-Serif\" font-size=\"14.00\">samples = 23</text>\n<text text-anchor=\"middle\" x=\"857\" y=\"-134.3\" font-family=\"Helvetica,sans-Serif\" font-size=\"14.00\">value = [17, 6]</text>\n<text text-anchor=\"middle\" x=\"857\" y=\"-119.3\" font-family=\"Helvetica,sans-Serif\" font-size=\"14.00\">class = 0</text>\n</g>\n<!-- 27&#45;&gt;30 -->\n<g id=\"edge27\" class=\"edge\">\n<title>27&#45;&gt;30</title>\n<path fill=\"none\" stroke=\"black\" d=\"M791.69,-222.91C801.5,-211.43 812.18,-198.94 822.01,-187.44\"/>\n<polygon fill=\"black\" stroke=\"black\" points=\"824.82,-189.54 828.65,-179.67 819.49,-184.99 824.82,-189.54\"/>\n</g>\n<!-- 35 -->\n<g id=\"node26\" class=\"node\">\n<title>35</title>\n<path fill=\"#93caf1\" stroke=\"black\" d=\"M704,-68C704,-68 626,-68 626,-68 620,-68 614,-62 614,-56 614,-56 614,-12 614,-12 614,-6 620,0 626,0 626,0 704,0 704,0 710,0 716,-6 716,-12 716,-12 716,-56 716,-56 716,-62 710,-68 704,-68\"/>\n<text text-anchor=\"middle\" x=\"665\" y=\"-52.8\" font-family=\"Helvetica,sans-Serif\" font-size=\"14.00\">entropy = 0.9</text>\n<text text-anchor=\"middle\" x=\"665\" y=\"-37.8\" font-family=\"Helvetica,sans-Serif\" font-size=\"14.00\">samples = 16</text>\n<text text-anchor=\"middle\" x=\"665\" y=\"-22.8\" font-family=\"Helvetica,sans-Serif\" font-size=\"14.00\">value = [5, 11]</text>\n<text text-anchor=\"middle\" x=\"665\" y=\"-7.8\" font-family=\"Helvetica,sans-Serif\" font-size=\"14.00\">class = 1</text>\n</g>\n<!-- 29&#45;&gt;35 -->\n<g id=\"edge25\" class=\"edge\">\n<title>29&#45;&gt;35</title>\n<path fill=\"none\" stroke=\"black\" d=\"M702.03,-103.73C697.36,-95.06 692.42,-85.9 687.73,-77.18\"/>\n<polygon fill=\"black\" stroke=\"black\" points=\"690.77,-75.44 682.94,-68.3 684.6,-78.76 690.77,-75.44\"/>\n</g>\n<!-- 36 -->\n<g id=\"node27\" class=\"node\">\n<title>36</title>\n<path fill=\"#ffffff\" stroke=\"black\" d=\"M820,-68C820,-68 746,-68 746,-68 740,-68 734,-62 734,-56 734,-56 734,-12 734,-12 734,-6 740,0 746,0 746,0 820,0 820,0 826,0 832,-6 832,-12 832,-12 832,-56 832,-56 832,-62 826,-68 820,-68\"/>\n<text text-anchor=\"middle\" x=\"783\" y=\"-52.8\" font-family=\"Helvetica,sans-Serif\" font-size=\"14.00\">entropy = 1.0</text>\n<text text-anchor=\"middle\" x=\"783\" y=\"-37.8\" font-family=\"Helvetica,sans-Serif\" font-size=\"14.00\">samples = 16</text>\n<text text-anchor=\"middle\" x=\"783\" y=\"-22.8\" font-family=\"Helvetica,sans-Serif\" font-size=\"14.00\">value = [8, 8]</text>\n<text text-anchor=\"middle\" x=\"783\" y=\"-7.8\" font-family=\"Helvetica,sans-Serif\" font-size=\"14.00\">class = 0</text>\n</g>\n<!-- 29&#45;&gt;36 -->\n<g id=\"edge26\" class=\"edge\">\n<title>29&#45;&gt;36</title>\n<path fill=\"none\" stroke=\"black\" d=\"M745.97,-103.73C750.64,-95.06 755.58,-85.9 760.27,-77.18\"/>\n<polygon fill=\"black\" stroke=\"black\" points=\"763.4,-78.76 765.06,-68.3 757.23,-75.44 763.4,-78.76\"/>\n</g>\n<!-- 31 -->\n<g id=\"node30\" class=\"node\">\n<title>31</title>\n<path fill=\"#fcefe6\" stroke=\"black\" d=\"M1013,-179.5C1013,-179.5 939,-179.5 939,-179.5 933,-179.5 927,-173.5 927,-167.5 927,-167.5 927,-123.5 927,-123.5 927,-117.5 933,-111.5 939,-111.5 939,-111.5 1013,-111.5 1013,-111.5 1019,-111.5 1025,-117.5 1025,-123.5 1025,-123.5 1025,-167.5 1025,-167.5 1025,-173.5 1019,-179.5 1013,-179.5\"/>\n<text text-anchor=\"middle\" x=\"976\" y=\"-164.3\" font-family=\"Helvetica,sans-Serif\" font-size=\"14.00\">entropy = 1.0</text>\n<text text-anchor=\"middle\" x=\"976\" y=\"-149.3\" font-family=\"Helvetica,sans-Serif\" font-size=\"14.00\">samples = 15</text>\n<text text-anchor=\"middle\" x=\"976\" y=\"-134.3\" font-family=\"Helvetica,sans-Serif\" font-size=\"14.00\">value = [8, 7]</text>\n<text text-anchor=\"middle\" x=\"976\" y=\"-119.3\" font-family=\"Helvetica,sans-Serif\" font-size=\"14.00\">class = 0</text>\n</g>\n<!-- 28&#45;&gt;31 -->\n<g id=\"edge29\" class=\"edge\">\n<title>28&#45;&gt;31</title>\n<path fill=\"none\" stroke=\"black\" d=\"M976,-222.91C976,-212.2 976,-200.62 976,-189.78\"/>\n<polygon fill=\"black\" stroke=\"black\" points=\"979.5,-189.67 976,-179.67 972.5,-189.67 979.5,-189.67\"/>\n</g>\n<!-- 32 -->\n<g id=\"node31\" class=\"node\">\n<title>32</title>\n<path fill=\"#6ab6ec\" stroke=\"black\" d=\"M1135,-179.5C1135,-179.5 1055,-179.5 1055,-179.5 1049,-179.5 1043,-173.5 1043,-167.5 1043,-167.5 1043,-123.5 1043,-123.5 1043,-117.5 1049,-111.5 1055,-111.5 1055,-111.5 1135,-111.5 1135,-111.5 1141,-111.5 1147,-117.5 1147,-123.5 1147,-123.5 1147,-167.5 1147,-167.5 1147,-173.5 1141,-179.5 1135,-179.5\"/>\n<text text-anchor=\"middle\" x=\"1095\" y=\"-164.3\" font-family=\"Helvetica,sans-Serif\" font-size=\"14.00\">entropy = 0.72</text>\n<text text-anchor=\"middle\" x=\"1095\" y=\"-149.3\" font-family=\"Helvetica,sans-Serif\" font-size=\"14.00\">samples = 15</text>\n<text text-anchor=\"middle\" x=\"1095\" y=\"-134.3\" font-family=\"Helvetica,sans-Serif\" font-size=\"14.00\">value = [3, 12]</text>\n<text text-anchor=\"middle\" x=\"1095\" y=\"-119.3\" font-family=\"Helvetica,sans-Serif\" font-size=\"14.00\">class = 1</text>\n</g>\n<!-- 28&#45;&gt;32 -->\n<g id=\"edge30\" class=\"edge\">\n<title>28&#45;&gt;32</title>\n<path fill=\"none\" stroke=\"black\" d=\"M1017.29,-222.91C1029.18,-211.21 1042.15,-198.46 1054.03,-186.78\"/>\n<polygon fill=\"black\" stroke=\"black\" points=\"1056.59,-189.17 1061.27,-179.67 1051.68,-184.18 1056.59,-189.17\"/>\n</g>\n<!-- 7 -->\n<g id=\"node34\" class=\"node\">\n<title>7</title>\n<path fill=\"#deeffb\" stroke=\"black\" d=\"M613,-774.5C613,-774.5 527,-774.5 527,-774.5 521,-774.5 515,-768.5 515,-762.5 515,-762.5 515,-718.5 515,-718.5 515,-712.5 521,-706.5 527,-706.5 527,-706.5 613,-706.5 613,-706.5 619,-706.5 625,-712.5 625,-718.5 625,-718.5 625,-762.5 625,-762.5 625,-768.5 619,-774.5 613,-774.5\"/>\n<text text-anchor=\"middle\" x=\"570\" y=\"-759.3\" font-family=\"Helvetica,sans-Serif\" font-size=\"14.00\">entropy = 0.99</text>\n<text text-anchor=\"middle\" x=\"570\" y=\"-744.3\" font-family=\"Helvetica,sans-Serif\" font-size=\"14.00\">samples = 22</text>\n<text text-anchor=\"middle\" x=\"570\" y=\"-729.3\" font-family=\"Helvetica,sans-Serif\" font-size=\"14.00\">value = [10, 12]</text>\n<text text-anchor=\"middle\" x=\"570\" y=\"-714.3\" font-family=\"Helvetica,sans-Serif\" font-size=\"14.00\">class = 1</text>\n</g>\n<!-- 2&#45;&gt;7 -->\n<g id=\"edge33\" class=\"edge\">\n<title>2&#45;&gt;7</title>\n<path fill=\"none\" stroke=\"black\" d=\"M578.49,-817.91C577.3,-807.2 576.01,-795.62 574.81,-784.78\"/>\n<polygon fill=\"black\" stroke=\"black\" points=\"578.27,-784.22 573.69,-774.67 571.31,-784.99 578.27,-784.22\"/>\n</g>\n<!-- 8 -->\n<g id=\"node35\" class=\"node\">\n<title>8</title>\n<path fill=\"#4da7e8\" stroke=\"black\" d=\"M744.5,-782C744.5,-782 655.5,-782 655.5,-782 649.5,-782 643.5,-776 643.5,-770 643.5,-770 643.5,-711 643.5,-711 643.5,-705 649.5,-699 655.5,-699 655.5,-699 744.5,-699 744.5,-699 750.5,-699 756.5,-705 756.5,-711 756.5,-711 756.5,-770 756.5,-770 756.5,-776 750.5,-782 744.5,-782\"/>\n<text text-anchor=\"middle\" x=\"700\" y=\"-766.8\" font-family=\"Helvetica,sans-Serif\" font-size=\"14.00\">Insulin &lt;= 247.0</text>\n<text text-anchor=\"middle\" x=\"700\" y=\"-751.8\" font-family=\"Helvetica,sans-Serif\" font-size=\"14.00\">entropy = 0.45</text>\n<text text-anchor=\"middle\" x=\"700\" y=\"-736.8\" font-family=\"Helvetica,sans-Serif\" font-size=\"14.00\">samples = 54</text>\n<text text-anchor=\"middle\" x=\"700\" y=\"-721.8\" font-family=\"Helvetica,sans-Serif\" font-size=\"14.00\">value = [5, 49]</text>\n<text text-anchor=\"middle\" x=\"700\" y=\"-706.8\" font-family=\"Helvetica,sans-Serif\" font-size=\"14.00\">class = 1</text>\n</g>\n<!-- 2&#45;&gt;8 -->\n<g id=\"edge34\" class=\"edge\">\n<title>2&#45;&gt;8</title>\n<path fill=\"none\" stroke=\"black\" d=\"M623.59,-817.91C632.85,-808.65 642.77,-798.73 652.29,-789.21\"/>\n<polygon fill=\"black\" stroke=\"black\" points=\"654.88,-791.57 659.48,-782.02 649.93,-786.62 654.88,-791.57\"/>\n</g>\n<!-- 9 -->\n<g id=\"node36\" class=\"node\">\n<title>9</title>\n<path fill=\"#399de5\" stroke=\"black\" d=\"M725,-655.5C725,-655.5 647,-655.5 647,-655.5 641,-655.5 635,-649.5 635,-643.5 635,-643.5 635,-599.5 635,-599.5 635,-593.5 641,-587.5 647,-587.5 647,-587.5 725,-587.5 725,-587.5 731,-587.5 737,-593.5 737,-599.5 737,-599.5 737,-643.5 737,-643.5 737,-649.5 731,-655.5 725,-655.5\"/>\n<text text-anchor=\"middle\" x=\"686\" y=\"-640.3\" font-family=\"Helvetica,sans-Serif\" font-size=\"14.00\">entropy = 0.0</text>\n<text text-anchor=\"middle\" x=\"686\" y=\"-625.3\" font-family=\"Helvetica,sans-Serif\" font-size=\"14.00\">samples = 39</text>\n<text text-anchor=\"middle\" x=\"686\" y=\"-610.3\" font-family=\"Helvetica,sans-Serif\" font-size=\"14.00\">value = [0, 39]</text>\n<text text-anchor=\"middle\" x=\"686\" y=\"-595.3\" font-family=\"Helvetica,sans-Serif\" font-size=\"14.00\">class = 1</text>\n</g>\n<!-- 8&#45;&gt;9 -->\n<g id=\"edge35\" class=\"edge\">\n<title>8&#45;&gt;9</title>\n<path fill=\"none\" stroke=\"black\" d=\"M695.14,-698.91C693.86,-688.2 692.48,-676.62 691.18,-665.78\"/>\n<polygon fill=\"black\" stroke=\"black\" points=\"694.63,-665.18 689.97,-655.67 687.68,-666.01 694.63,-665.18\"/>\n</g>\n<!-- 10 -->\n<g id=\"node37\" class=\"node\">\n<title>10</title>\n<path fill=\"#9ccef2\" stroke=\"black\" d=\"M847,-655.5C847,-655.5 767,-655.5 767,-655.5 761,-655.5 755,-649.5 755,-643.5 755,-643.5 755,-599.5 755,-599.5 755,-593.5 761,-587.5 767,-587.5 767,-587.5 847,-587.5 847,-587.5 853,-587.5 859,-593.5 859,-599.5 859,-599.5 859,-643.5 859,-643.5 859,-649.5 853,-655.5 847,-655.5\"/>\n<text text-anchor=\"middle\" x=\"807\" y=\"-640.3\" font-family=\"Helvetica,sans-Serif\" font-size=\"14.00\">entropy = 0.92</text>\n<text text-anchor=\"middle\" x=\"807\" y=\"-625.3\" font-family=\"Helvetica,sans-Serif\" font-size=\"14.00\">samples = 15</text>\n<text text-anchor=\"middle\" x=\"807\" y=\"-610.3\" font-family=\"Helvetica,sans-Serif\" font-size=\"14.00\">value = [5, 10]</text>\n<text text-anchor=\"middle\" x=\"807\" y=\"-595.3\" font-family=\"Helvetica,sans-Serif\" font-size=\"14.00\">class = 1</text>\n</g>\n<!-- 8&#45;&gt;10 -->\n<g id=\"edge36\" class=\"edge\">\n<title>8&#45;&gt;10</title>\n<path fill=\"none\" stroke=\"black\" d=\"M737.12,-698.91C747.72,-687.32 759.26,-674.7 769.86,-663.11\"/>\n<polygon fill=\"black\" stroke=\"black\" points=\"772.5,-665.41 776.67,-655.67 767.34,-660.68 772.5,-665.41\"/>\n</g>\n</g>\n</svg>\n",
      "text/plain": [
       "<graphviz.sources.Source at 0x7fe324daea00>"
      ]
     },
     "execution_count": 142,
     "metadata": {},
     "output_type": "execute_result"
    }
   ],
   "source": [
    "from sklearn.tree import export_graphviz\n",
    "import graphviz\n",
    "columns = list(x.columns)\n",
    "export_graphviz(clf, out_file='tree.dot', \n",
    "                feature_names=columns,\n",
    "                class_names=['0', '1'],\n",
    "                rounded = True, proportion = False, \n",
    "                precision = 2, filled = True, label='all')\n",
    "\n",
    "with open('tree.dot') as f:\n",
    "    dot_graph = f.read()\n",
    "\n",
    "graphviz.Source(dot_graph)"
   ]
  }
 ],
 "metadata": {
  "kernelspec": {
   "display_name": "Python 3.8.5 ('base')",
   "language": "python",
   "name": "python3"
  },
  "language_info": {
   "codemirror_mode": {
    "name": "ipython",
    "version": 3
   },
   "file_extension": ".py",
   "mimetype": "text/x-python",
   "name": "python",
   "nbconvert_exporter": "python",
   "pygments_lexer": "ipython3",
   "version": "3.8.5"
  },
  "orig_nbformat": 4,
  "vscode": {
   "interpreter": {
    "hash": "40d3a090f54c6569ab1632332b64b2c03c39dcf918b08424e98f38b5ae0af88f"
   }
  }
 },
 "nbformat": 4,
 "nbformat_minor": 2
}
