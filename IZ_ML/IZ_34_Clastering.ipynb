{
 "cells": [
  {
   "cell_type": "code",
   "execution_count": 81,
   "metadata": {},
   "outputs": [],
   "source": [
    "### K-MEANS \n",
    "\n",
    "#подключение KMeans из библиотеки sklearn\n",
    "\n",
    "from sklearn.cluster import KMeans\n",
    "\n",
    "#чтение данных, так как названия конфет уникальны, используем их в качестве индекса\n",
    "import numpy as np\n",
    "import pandas as pd\n"
   ]
  },
  {
   "cell_type": "code",
   "execution_count": 82,
   "metadata": {},
   "outputs": [
    {
     "name": "stdout",
     "output_type": "stream",
     "text": [
      "         X   Y  Cluster\n",
      "Object                 \n",
      "1        6  10        0\n",
      "2       17   5        1\n",
      "3       17   4        2\n",
      "4       17  16        1\n",
      "5       11   4        2\n"
     ]
    }
   ],
   "source": [
    "DATA = pd.read_csv(\"/Users/ekaterina/github_repos/ITMO_STUDY/ datasets/IZ_34_Clastering.csv\",delimiter=',', index_col='Object')\n",
    "print(DATA.head())"
   ]
  },
  {
   "cell_type": "markdown",
   "metadata": {},
   "source": [
    "Вам доступна таблица некоторых синтетических данных, на основании которых необходимо выполнить кластеризацию на к = 3  кластера методом К-средних.\n",
    "При выполнении задания с помощью библиотеки sklearn используйте начальную инициализацию со следующими координатами центроидов и параметрами:\n",
    "KMeans(n_clusters=3, init=np.array([[10.4, 10.8], [14.67, 12.67], [10.0, 7.29]]), max_iter=100, n_init=1)\n",
    "Укажите, к какому кластеру будет отнесен тот или иной объект в результате кластеризации (задание засчитывается только в том случае, если все кластеры указаны верно)."
   ]
  },
  {
   "cell_type": "code",
   "execution_count": 83,
   "metadata": {},
   "outputs": [],
   "source": [
    "#удаление столбца Cluster из набора данных\n",
    "coords = DATA.drop('Cluster', axis=1)"
   ]
  },
  {
   "cell_type": "code",
   "execution_count": 84,
   "metadata": {},
   "outputs": [],
   "source": [
    "#координаты центроидов\n",
    "centroid=np.array([[10.4, 10.8], [14.67, 12.67], [10.0, 7.29]])"
   ]
  },
  {
   "cell_type": "code",
   "execution_count": 85,
   "metadata": {},
   "outputs": [],
   "source": [
    "#инициализация модели\n",
    "kmeans = KMeans(n_clusters=3, init=centroid, max_iter=100, n_init=1)"
   ]
  },
  {
   "cell_type": "code",
   "execution_count": 86,
   "metadata": {},
   "outputs": [],
   "source": [
    "#обучение модели на данных из coords\n",
    "model = kmeans.fit(coords)"
   ]
  },
  {
   "cell_type": "code",
   "execution_count": 87,
   "metadata": {},
   "outputs": [
    {
     "data": {
      "text/plain": [
       "[0, 2, 2, 1, 2, 2, 1, 2, 2, 0, 0, 1, 0, 2, 1]"
      ]
     },
     "execution_count": 87,
     "metadata": {},
     "output_type": "execute_result"
    }
   ],
   "source": [
    "#вывод назначенных кластеров\n",
    "model.labels_.tolist()"
   ]
  },
  {
   "cell_type": "code",
   "execution_count": 88,
   "metadata": {},
   "outputs": [],
   "source": [
    "#обучение модели и расчет расстояний до центроидов\n",
    "alldistances = kmeans.fit_transform(coords)"
   ]
  },
  {
   "cell_type": "code",
   "execution_count": 89,
   "metadata": {},
   "outputs": [
    {
     "data": {
      "text/plain": [
       "array([[ 5.85234996, 10.12422837,  7.49012956],\n",
       "       [13.82931669,  8.63133825,  6.81085568],\n",
       "       [14.60308187,  9.61769203,  6.7158053 ],\n",
       "       [ 9.01387819,  2.91547595, 13.87554007],\n",
       "       [11.88486432, 10.51189802,  0.72843136],\n",
       "       [11.23610253,  7.64852927,  4.28809458],\n",
       "       [ 7.82623792,  1.58113883,  9.40907074],\n",
       "       [16.10124219, 19.14418972,  9.71533608],\n",
       "       [12.5399362 , 15.70031847,  7.28711471],\n",
       "       [ 2.5       ,  6.51920241, 13.14596237],\n",
       "       [ 4.03112887, 10.9772492 , 15.73764498],\n",
       "       [10.59481005,  2.91547595, 11.21678771],\n",
       "       [ 2.06155281,  6.04152299, 12.14621802],\n",
       "       [12.5399362 , 12.34908904,  1.54523626],\n",
       "       [ 4.27200187,  3.53553391, 10.2867063 ]])"
      ]
     },
     "execution_count": 89,
     "metadata": {},
     "output_type": "execute_result"
    }
   ],
   "source": [
    "#вывод расстояний от данных до всех центроидов\n",
    "alldistances"
   ]
  },
  {
   "cell_type": "code",
   "execution_count": 90,
   "metadata": {},
   "outputs": [
    {
     "data": {
      "text/plain": [
       "3.61125791"
      ]
     },
     "execution_count": 90,
     "metadata": {},
     "output_type": "execute_result"
    }
   ],
   "source": [
    "# Вывод среднего объектов 0 класса инд 0,10,11,13\n",
    "d_means_0 = (5.85234996+2.5+4.03112887+2.06155281)/4\n",
    "d_means_0"
   ]
  },
  {
   "cell_type": "code",
   "execution_count": null,
   "metadata": {},
   "outputs": [],
   "source": []
  }
 ],
 "metadata": {
  "kernelspec": {
   "display_name": "Python 3.8.5 ('base')",
   "language": "python",
   "name": "python3"
  },
  "language_info": {
   "codemirror_mode": {
    "name": "ipython",
    "version": 3
   },
   "file_extension": ".py",
   "mimetype": "text/x-python",
   "name": "python",
   "nbconvert_exporter": "python",
   "pygments_lexer": "ipython3",
   "version": "3.8.5"
  },
  "orig_nbformat": 4,
  "vscode": {
   "interpreter": {
    "hash": "40d3a090f54c6569ab1632332b64b2c03c39dcf918b08424e98f38b5ae0af88f"
   }
  }
 },
 "nbformat": 4,
 "nbformat_minor": 2
}
