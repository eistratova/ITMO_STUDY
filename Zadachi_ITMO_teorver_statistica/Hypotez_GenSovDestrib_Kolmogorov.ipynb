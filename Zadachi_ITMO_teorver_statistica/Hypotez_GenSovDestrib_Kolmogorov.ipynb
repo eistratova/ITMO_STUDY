{
 "cells": [
  {
   "attachments": {},
   "cell_type": "markdown",
   "metadata": {},
   "source": [
    "Дана выборка из  100 элементов. Проверить гипотезу о том, что генеральная совокупность имеет равномерное распределение, используя критерий согласия Колмогорова (уровень значимости 0.05) . Укажите значение функции отклонения:"
   ]
  },
  {
   "cell_type": "code",
   "execution_count": 2,
   "metadata": {},
   "outputs": [],
   "source": [
    "\n",
    "from calendar import c\n",
    "import pandas as pd\n",
    "from scipy.stats import norm,t\n",
    "from matplotlib import pyplot as plt\n",
    "import numpy as np"
   ]
  },
  {
   "cell_type": "code",
   "execution_count": 34,
   "metadata": {},
   "outputs": [
    {
     "name": "stdout",
     "output_type": "stream",
     "text": [
      "   0\n",
      "0  2\n",
      "1  3\n",
      "2  5\n",
      "3  3\n",
      "4  4\n",
      "1.9842169515086827\n"
     ]
    }
   ],
   "source": [
    "df = pd.read_csv('/Users/ekaterina/github_repos/ITMO_STUDY/Zadachi_ITMO_teorver_statistica/hypothesis_2.csv', header=None)\n",
    "#print(df)\n",
    "\n",
    "#df.index += 1\n",
    "print(df.head())\n",
    "\n",
    "print(t.ppf(1-0.05/2,99))"
   ]
  },
  {
   "cell_type": "code",
   "execution_count": 12,
   "metadata": {},
   "outputs": [
    {
     "data": {
      "text/plain": [
       "array([ 2,  3,  5,  4,  1,  0,  6,  7, 10])"
      ]
     },
     "execution_count": 12,
     "metadata": {},
     "output_type": "execute_result"
    }
   ],
   "source": [
    "df[0].unique()"
   ]
  },
  {
   "cell_type": "code",
   "execution_count": 21,
   "metadata": {},
   "outputs": [
    {
     "data": {
      "text/plain": [
       "(0.07, 0.14, 0.18, 0.21, 0.21, 0.15, 0.12, 0.09, 0.03, 0.01)"
      ]
     },
     "execution_count": 21,
     "metadata": {},
     "output_type": "execute_result"
    }
   ],
   "source": [
    "X = df[0]#np.array([3, 1, 3, 2, 2, 3, 1, 3, 1, 4, 1, 2, 1, 4, 3, 2, 3, 3, 1, 0, 1, 3, 3, 1, 2, 2, 5, 2, 2, 0])\n",
    "density_distribution = {i: np.array(X == i).sum() / X.size for i in np.unique(X)}\n",
    "density_distribution[0], density_distribution[1], density_distribution[2], density_distribution[3],density_distribution[3], density_distribution[4], density_distribution[5],density_distribution[6], density_distribution[7], density_distribution[10]"
   ]
  },
  {
   "cell_type": "code",
   "execution_count": 22,
   "metadata": {},
   "outputs": [],
   "source": [
    "from scipy.stats import kstest"
   ]
  },
  {
   "cell_type": "code",
   "execution_count": 23,
   "metadata": {},
   "outputs": [
    {
     "data": {
      "text/plain": [
       "KstestResult(statistic=1.0, pvalue=0.0)"
      ]
     },
     "execution_count": 23,
     "metadata": {},
     "output_type": "execute_result"
    }
   ],
   "source": [
    "kstest(df, 'norm')\n"
   ]
  }
 ],
 "metadata": {
  "kernelspec": {
   "display_name": "base",
   "language": "python",
   "name": "python3"
  },
  "language_info": {
   "codemirror_mode": {
    "name": "ipython",
    "version": 3
   },
   "file_extension": ".py",
   "mimetype": "text/x-python",
   "name": "python",
   "nbconvert_exporter": "python",
   "pygments_lexer": "ipython3",
   "version": "3.8.5"
  },
  "orig_nbformat": 4
 },
 "nbformat": 4,
 "nbformat_minor": 2
}
