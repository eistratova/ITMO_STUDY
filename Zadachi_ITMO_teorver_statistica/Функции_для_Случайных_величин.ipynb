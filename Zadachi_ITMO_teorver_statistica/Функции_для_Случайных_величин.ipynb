{
  "nbformat": 4,
  "nbformat_minor": 0,
  "metadata": {
    "colab": {
      "provenance": [],
      "collapsed_sections": [],
      "include_colab_link": true
    },
    "kernelspec": {
      "name": "python3",
      "display_name": "Python 3"
    },
    "language_info": {
      "name": "python"
    }
  },
  "cells": [
    {
      "cell_type": "markdown",
      "metadata": {
        "id": "view-in-github",
        "colab_type": "text"
      },
      "source": [
        "<a href=\"https://colab.research.google.com/github/eistratova/ITMO_STUDY/blob/main/%D0%A4%D1%83%D0%BD%D0%BA%D1%86%D0%B8%D0%B8_%D0%B4%D0%BB%D1%8F_%D0%A1%D0%BB%D1%83%D1%87%D0%B0%D0%B9%D0%BD%D1%8B%D1%85_%D0%B2%D0%B5%D0%BB%D0%B8%D1%87%D0%B8%D0%BD.ipynb\" target=\"_parent\"><img src=\"https://colab.research.google.com/assets/colab-badge.svg\" alt=\"Open In Colab\"/></a>"
      ]
    },
    {
      "cell_type": "code",
      "execution_count": null,
      "metadata": {
        "id": "1SzIzYyhM2Mf"
      },
      "outputs": [],
      "source": [
        "import numpy as np\n",
        "\n",
        "def mult_rnd_values(P_ksi_eta: np.ndarray , ksi_vals: np.ndarray, eta_vals: np.ndarray) -> np.ndarray:\n",
        "    \"\"\"\n",
        "    Умножение двух Случайных величин кси и эта по совместной таблице распределения\n",
        "    Функция сортирует значения и складывает вероятности одинаковых значений\n",
        "    \n",
        "    Вход: Совместная таблица случайных величин кси и эта\n",
        "        Значения Кси (axis = 1)\n",
        "        Значения Эта (axis = 0)\n",
        "    Выход: [[Значения Кси * Эта],\n",
        "           [Вероятности значений]]\n",
        "    \"\"\"\n",
        "    mult = np.zeros((2,0))\n",
        "    for i in range(len(eta_vals)):\n",
        "        for j in range(len(ksi_vals)):\n",
        "            # Если вероятность не равна нулю то добавлять новое значение\n",
        "            if P_ksi_eta[i][j] != 0:\n",
        "                mult = np.c_[mult, np.array([\n",
        "                    [eta_vals[i] * ksi_vals[j]],\n",
        "                    [P_ksi_eta[i][j]]\n",
        "                ])]\n",
        "    # Отсортировать массив\n",
        "    mult = mult[:, np.argsort( mult[0] ) ]\n",
        "    # Если значения близки, то объединить и сложить вероятности\n",
        "    mult_short = mult[:,:1] # Первое значение копируем\n",
        "    for i in range(1, len(mult[0])): # Остальные сверяем с первым\n",
        "        # Если близки, то суммируем, иначе добавляем новое\n",
        "        if np.isclose (mult[0][i-1] , mult[0][i] ):\n",
        "            mult_short[1][-1] += mult[1][i]\n",
        "        else:\n",
        "            mult_short = np.c_[mult_short, mult[:,i:i+1] ]\n",
        "    # Вернуть результат\n",
        "    return mult_short\n",
        "\n",
        "def mat_ozidanie( P_ksi: np.ndarray ) -> float:\n",
        "    \"\"\"\n",
        "    Расчитывает математическое ожидание Случайной величины кси\n",
        "    Вход: двумерный массив [[значения], [вероятности]]\n",
        "    Выход: Число\n",
        "    \"\"\"\n",
        "    val = 0\n",
        "    for i in range(len(P_ksi[0])):\n",
        "        val += P_ksi[0][i] * P_ksi[1][i]\n",
        "    return val\n",
        "\n",
        "def dispersion( P_ksi: np.ndarray ) -> float:\n",
        "    \"\"\"\n",
        "    Расчитывает дисперсию Случайной величины кси\n",
        "    Вход: двумерный массив [[значения], [вероятности]]\n",
        "    Выход: Число\n",
        "    \"\"\"\n",
        "#   Первый вариант решения не во всех случая выдаёт верный результат\n",
        "#     P_ksi_kvadr = P_ksi.copy()\n",
        "#     P_ksi_kvadr[0] = P_ksi_kvadr[0] ** 2\n",
        "#     return mat_ozidanie(P_ksi_kvadr) - mat_ozidanie(P_ksi) ** 2\n",
        "    # Второй вариант решения рабочий\n",
        "    P_ksi_sredn = P_ksi.copy()\n",
        "    P_ksi_sredn[0] = (P_ksi[0] - mat_ozidanie(P_ksi)) ** 2\n",
        "    return mat_ozidanie(P_ksi_sredn)\n",
        "\n",
        "def marginal_raspred(P_ksi_eta: np.ndarray, axis=0) -> np.ndarray:\n",
        "    \"\"\"\n",
        "    Функция выделяет маргинальные веротности по совместной таблице\n",
        "    распределения случайных величин.\n",
        "    \n",
        "    Вход: Совместная таблица случайных величин кси и эта\n",
        "        axis = 0 или 1 (по рядам или по столбцам)\n",
        "    Выход: [[Значения Кси или Эта],\n",
        "           [Вероятности значений]]\n",
        "    \"\"\"\n",
        "    return P_ksi_eta.sum(axis=axis)\n",
        "\n",
        "def cov(P_ksi_eta: np.ndarray, ksi_vals: np.ndarray, eta_vals: np.ndarray) -> float:\n",
        "    \"\"\"\n",
        "    Функция рассчитывает ковариацию случайных величин Кси и Эта.\n",
        "    \n",
        "    Вход: Совместная таблица случайных величин кси и эта\n",
        "        Значения Кси (axis = 1)\n",
        "        Значения Эта (axis = 0)\n",
        "    Выход: значение ковариации\n",
        "    \"\"\"\n",
        "    P_ksi = P_ksi_eta.sum(axis=0)\n",
        "    P_ksi = np.c_[ksi_vals, P_ksi].T\n",
        "    P_eta = P_ksi_eta.sum(axis=1)\n",
        "    P_eta = np.c_[eta_vals, P_eta].T\n",
        "    mul_ksi_eta = mult_rnd_values (P_ksi_eta, ksi_vals, eta_vals)\n",
        "    return mat_ozidanie(mul_ksi_eta) - mat_ozidanie(P_ksi) * mat_ozidanie(P_eta)\n",
        "\n",
        "def koef_correl(P_ksi_eta: np.ndarray, ksi_vals: np.ndarray, eta_vals: np.ndarray) -> float:\n",
        "    \"\"\"\n",
        "    Функция коэффициент корреляции случайных величин Кси и Эта.\n",
        "    \n",
        "    Вход: Совместная таблица случайных величин кси и эта\n",
        "        Значения Кси (axis = 1)\n",
        "        Значения Эта (axis = 0)\n",
        "    Выход: значение коэффициента корреляции\n",
        "    \"\"\"\n",
        "    P_ksi = P_ksi_eta.sum(axis=0)\n",
        "    P_ksi = np.c_[ksi_vals, P_ksi].T\n",
        "    P_eta = P_ksi_eta.sum(axis=1)\n",
        "    P_eta = np.c_[eta_vals, P_eta].T\n",
        "    mul_ksi_eta = mult_rnd_values (P_ksi_eta, ksi_vals, eta_vals)\n",
        "    cov_ksi_eta = mat_ozidanie(mul_ksi_eta) - mat_ozidanie(P_ksi) * mat_ozidanie(P_eta)\n",
        "    return cov_ksi_eta / (dispersion(P_ksi)**0.5 * dispersion(P_eta)**0.5)"
      ]
    },
    {
      "cell_type": "code",
      "source": [
        "# Дано\n",
        "P_ksi_eta = np.array([\n",
        "                    [0.1, 0.3,  0.2],\n",
        "                    [0.1, 0.05, 0],\n",
        "                    [0,   0.15, 0.1]\n",
        "                    ])\n",
        "ksi_vals = np.array([2, 3, 5])\n",
        "eta_vals = np.array([-1, 1, 4])"
      ],
      "metadata": {
        "id": "VLRgFW7PNWPT"
      },
      "execution_count": null,
      "outputs": []
    },
    {
      "cell_type": "code",
      "source": [
        "# Маргинальное распределение Кси, по столбцам\n",
        "P_ksi = np.array([ksi_vals, marginal_raspred(P_ksi_eta, 0)])\n",
        "P_ksi"
      ],
      "metadata": {
        "colab": {
          "base_uri": "https://localhost:8080/"
        },
        "id": "6i9z_UGb6eXk",
        "outputId": "39b46d6d-5aee-4f2b-f835-666f63507a60"
      },
      "execution_count": null,
      "outputs": [
        {
          "output_type": "execute_result",
          "data": {
            "text/plain": [
              "array([[2. , 3. , 5. ],\n",
              "       [0.2, 0.5, 0.3]])"
            ]
          },
          "metadata": {},
          "execution_count": 11
        }
      ]
    },
    {
      "cell_type": "code",
      "source": [
        "# Маргинальное распределение Кси, по строкам\n",
        "P_eta = np.array([ksi_vals, marginal_raspred(P_ksi_eta, 1)])\n",
        "P_eta"
      ],
      "metadata": {
        "colab": {
          "base_uri": "https://localhost:8080/"
        },
        "id": "KVCojyZC7kye",
        "outputId": "c86259ea-3cda-4ffa-d271-f34b31648dcc"
      },
      "execution_count": null,
      "outputs": [
        {
          "output_type": "execute_result",
          "data": {
            "text/plain": [
              "array([[2.  , 3.  , 5.  ],\n",
              "       [0.6 , 0.15, 0.25]])"
            ]
          },
          "metadata": {},
          "execution_count": 12
        }
      ]
    },
    {
      "cell_type": "code",
      "source": [
        "# Распределение P (ksi * eta)\n",
        "mult_ksi_eta = mult_rnd_values(P_ksi_eta, ksi_vals, eta_vals)\n",
        "mult_ksi_eta"
      ],
      "metadata": {
        "colab": {
          "base_uri": "https://localhost:8080/"
        },
        "id": "k7aMlqDwNt8a",
        "outputId": "6a12b499-d420-4d1d-96c9-b08d47f0439f"
      },
      "execution_count": null,
      "outputs": [
        {
          "output_type": "execute_result",
          "data": {
            "text/plain": [
              "array([[-5.  , -3.  , -2.  ,  2.  ,  3.  , 12.  , 20.  ],\n",
              "       [ 0.2 ,  0.3 ,  0.1 ,  0.1 ,  0.05,  0.15,  0.1 ]])"
            ]
          },
          "metadata": {},
          "execution_count": 19
        }
      ]
    },
    {
      "cell_type": "code",
      "source": [
        "# Математическое ожидание\n",
        "mat_ozidanie(mult_ksi_eta)"
      ],
      "metadata": {
        "colab": {
          "base_uri": "https://localhost:8080/"
        },
        "id": "Lt4gfqw90zEW",
        "outputId": "ec6943a3-5a57-494a-ae8e-a59055251935"
      },
      "execution_count": null,
      "outputs": [
        {
          "output_type": "execute_result",
          "data": {
            "text/plain": [
              "2.05"
            ]
          },
          "metadata": {},
          "execution_count": 20
        }
      ]
    },
    {
      "cell_type": "code",
      "source": [
        "# Дисперсия\n",
        "dispersion(mult_ksi_eta)"
      ],
      "metadata": {
        "colab": {
          "base_uri": "https://localhost:8080/"
        },
        "id": "i8l0T7rN1qKu",
        "outputId": "aef3dc42-a26c-4ddc-a2b5-3acf7474b507"
      },
      "execution_count": null,
      "outputs": [
        {
          "output_type": "execute_result",
          "data": {
            "text/plain": [
              "66.3475"
            ]
          },
          "metadata": {},
          "execution_count": 21
        }
      ]
    },
    {
      "cell_type": "code",
      "source": [
        "# Ковариация\n",
        "cov(P_ksi_eta, ksi_vals, eta_vals)"
      ],
      "metadata": {
        "colab": {
          "base_uri": "https://localhost:8080/"
        },
        "id": "uee9GGp4NdJi",
        "outputId": "0624d7f3-59b2-40d0-ff61-a760627ef189"
      },
      "execution_count": null,
      "outputs": [
        {
          "output_type": "execute_result",
          "data": {
            "text/plain": [
              "0.17999999999999994"
            ]
          },
          "metadata": {},
          "execution_count": 22
        }
      ]
    },
    {
      "cell_type": "code",
      "source": [
        "# Коэффициент корреляции\n",
        "koef_correl(P_ksi_eta, ksi_vals, eta_vals)"
      ],
      "metadata": {
        "colab": {
          "base_uri": "https://localhost:8080/"
        },
        "id": "VC7iIZzZNfxS",
        "outputId": "e995a3b1-5fb9-4819-eb25-6965fff8f99a"
      },
      "execution_count": null,
      "outputs": [
        {
          "output_type": "execute_result",
          "data": {
            "text/plain": [
              "0.07664850422701898"
            ]
          },
          "metadata": {},
          "execution_count": 23
        }
      ]
    }
  ]
}